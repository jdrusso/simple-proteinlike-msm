{
 "cells": [
  {
   "cell_type": "markdown",
   "metadata": {
    "pycharm": {
     "name": "#%% md\n"
    }
   },
   "source": [
    "# Protein-like MSM building"
   ]
  },
  {
   "cell_type": "markdown",
   "metadata": {
    "pycharm": {
     "name": "#%% md\n"
    }
   },
   "source": [
    "Dependencies can be installed in a new conda environment with\n",
    "`conda env create -f environment.yml`\n",
    "or installed into an existing environment with\n",
    "`conda env update --name <existing environment name> --file environment.yml`"
   ]
  },
  {
   "cell_type": "markdown",
   "metadata": {
    "pycharm": {
     "name": "#%% md\n"
    }
   },
   "source": [
    "# Load dependencies"
   ]
  },
  {
   "cell_type": "code",
   "execution_count": 1,
   "metadata": {
    "execution": {
     "iopub.execute_input": "2022-02-22T17:00:51.187665Z",
     "iopub.status.busy": "2022-02-22T17:00:51.187376Z",
     "iopub.status.idle": "2022-02-22T17:00:53.562840Z",
     "shell.execute_reply": "2022-02-22T17:00:53.562430Z",
     "shell.execute_reply.started": "2022-02-22T17:00:51.187606Z"
    },
    "pycharm": {
     "name": "#%%\n"
    },
    "tags": []
   },
   "outputs": [],
   "source": [
    "import MDAnalysis as mda\n",
    "import MDAnalysis.analysis.rms\n",
    "import MDAnalysis.analysis.align\n",
    "from MDAnalysis.analysis import diffusionmap\n",
    "from MDAnalysis.analysis.distances import distance_array\n",
    "import numpy as np\n",
    "import tqdm.auto as tqdm\n",
    "from deeptime.clustering import KMeans, KMeansModel\n",
    "from matplotlib import pyplot as plt\n",
    "from deeptime.decomposition import TICA\n",
    "import copy\n",
    "import pickle\n",
    "import ray"
   ]
  },
  {
   "cell_type": "code",
   "execution_count": 214,
   "metadata": {
    "execution": {
     "iopub.execute_input": "2022-02-23T21:13:01.055472Z",
     "iopub.status.busy": "2022-02-23T21:13:01.053821Z",
     "iopub.status.idle": "2022-02-23T21:13:01.111698Z",
     "shell.execute_reply": "2022-02-23T21:13:01.110025Z",
     "shell.execute_reply.started": "2022-02-23T21:13:01.055381Z"
    }
   },
   "outputs": [],
   "source": [
    "plt.rcParams.update({\n",
    "    \"figure.facecolor\":  (1.0, 1.0, 1.0, 1.0),  # white with alpha = 100%\n",
    "    \"axes.facecolor\":    (1.0, 1.0, 1.0, 1.0),  # white with alpha = 100%\n",
    "})"
   ]
  },
  {
   "cell_type": "markdown",
   "metadata": {
    "pycharm": {
     "name": "#%% md\n"
    }
   },
   "source": [
    "## Load DE Shaw trajectories"
   ]
  },
  {
   "cell_type": "markdown",
   "metadata": {
    "pycharm": {
     "name": "#%% md\n"
    }
   },
   "source": [
    "I'll be using the Trp-cage (2JOF) folding trajectory #2. This is 105 DCD files + a topology .mae, indexed as 0-104."
   ]
  },
  {
   "cell_type": "code",
   "execution_count": 180,
   "metadata": {
    "execution": {
     "iopub.execute_input": "2022-02-22T21:19:37.620562Z",
     "iopub.status.busy": "2022-02-22T21:19:37.611402Z",
     "iopub.status.idle": "2022-02-22T21:19:37.694047Z",
     "shell.execute_reply": "2022-02-22T21:19:37.692846Z",
     "shell.execute_reply.started": "2022-02-22T21:19:37.620495Z"
    },
    "pycharm": {
     "name": "#%%\n"
    },
    "tags": []
   },
   "outputs": [],
   "source": [
    "trajectory_base_path = '/Users/russojd/Research/desres_trajectories/DESRES-Trajectory_2JOF-0-protein 2/2JOF-0-protein'\n",
    "n_traj_files = 105\n",
    "\n",
    "traj_name = \"2JOF-0-protein-{traj_idx:0>3d}.dcd\"\n",
    "\n",
    "dataset_label = 'coarser'\n",
    "\n",
    "# MDAnalysis can't read the .mae\n",
    "# topology_name = \"2JOF-0-protein.mae\"\n",
    "\n",
    "# So instead, use this PDB I got from converting the .mae\n",
    "topology_name = \"2JOF.pdb\"\n",
    "\n",
    "model_name = '2JOF'\n",
    "\n",
    "topology_path = f\"{trajectory_base_path}/{topology_name}\"\n",
    "traj_paths = [f\"{trajectory_base_path}/{traj_name.format(traj_idx=_idx)}\" for _idx in range(n_traj_files)]"
   ]
  },
  {
   "cell_type": "code",
   "execution_count": 3,
   "metadata": {
    "execution": {
     "iopub.execute_input": "2022-02-22T17:01:09.985101Z",
     "iopub.status.busy": "2022-02-22T17:01:09.984805Z",
     "iopub.status.idle": "2022-02-22T17:01:09.989809Z",
     "shell.execute_reply": "2022-02-22T17:01:09.988581Z",
     "shell.execute_reply.started": "2022-02-22T17:01:09.985051Z"
    },
    "pycharm": {
     "name": "#%%\n"
    },
    "tags": []
   },
   "outputs": [],
   "source": [
    "# Explicitly set the timestep here, since letting MDAnalysis infer it gives a wonky result.\n",
    "\n",
    "# Each of my trajectory DCD files start 2e6 units apart\n",
    "# The very first trajectory starts at 200 units\n",
    "# The whole trajectory is 208µs, and all the trajectories are 1e6 units, so a unit is 200ps.\n",
    "\n",
    "dt = 200"
   ]
  },
  {
   "cell_type": "code",
   "execution_count": 4,
   "metadata": {
    "execution": {
     "iopub.execute_input": "2022-02-22T17:01:10.139801Z",
     "iopub.status.busy": "2022-02-22T17:01:10.139543Z",
     "iopub.status.idle": "2022-02-22T17:01:10.406879Z",
     "shell.execute_reply": "2022-02-22T17:01:10.406179Z",
     "shell.execute_reply.started": "2022-02-22T17:01:10.139778Z"
    },
    "pycharm": {
     "name": "#%%\n"
    },
    "tags": []
   },
   "outputs": [],
   "source": [
    "universe = mda.Universe(topology_path, traj_paths, dt=dt )"
   ]
  },
  {
   "cell_type": "code",
   "execution_count": 5,
   "metadata": {
    "execution": {
     "iopub.execute_input": "2022-02-22T17:01:10.521126Z",
     "iopub.status.busy": "2022-02-22T17:01:10.520402Z",
     "iopub.status.idle": "2022-02-22T17:01:10.541679Z",
     "shell.execute_reply": "2022-02-22T17:01:10.531154Z",
     "shell.execute_reply.started": "2022-02-22T17:01:10.521086Z"
    },
    "pycharm": {
     "name": "#%%\n"
    },
    "tags": []
   },
   "outputs": [
    {
     "name": "stdout",
     "output_type": "stream",
     "text": [
      "Total trajectory time is 208.8 µs\n"
     ]
    }
   ],
   "source": [
    "total_time_ps = len(universe.trajectory) * universe.trajectory.dt\n",
    "\n",
    "print(f\"Total trajectory time is {total_time_ps/1e6} µs\")"
   ]
  },
  {
   "cell_type": "markdown",
   "metadata": {
    "pycharm": {
     "name": "#%% md\n"
    }
   },
   "source": [
    "## Prepare trajectory (align+center)"
   ]
  },
  {
   "cell_type": "markdown",
   "metadata": {
    "pycharm": {
     "name": "#%% md\n"
    }
   },
   "source": [
    "This aligns alpha-carbons on the provided reference topology, and spits out the result in `aligned_2JOF.dcd`. This only needs to be run once, to make that file."
   ]
  },
  {
   "cell_type": "code",
   "execution_count": 6,
   "metadata": {
    "execution": {
     "iopub.execute_input": "2022-02-22T17:01:12.988878Z",
     "iopub.status.busy": "2022-02-22T17:01:12.988583Z",
     "iopub.status.idle": "2022-02-22T17:01:13.004721Z",
     "shell.execute_reply": "2022-02-22T17:01:13.003810Z",
     "shell.execute_reply.started": "2022-02-22T17:01:12.988851Z"
    },
    "pycharm": {
     "name": "#%% raw\n"
    },
    "tags": []
   },
   "outputs": [],
   "source": [
    "ref_universe = mda.Universe(topology=topology_path)"
   ]
  },
  {
   "cell_type": "raw",
   "metadata": {
    "pycharm": {
     "name": "#%% raw\n"
    }
   },
   "source": [
    "MDAnalysis.analysis.align.AlignTraj(\n",
    "    universe,\n",
    "    ref_universe,\n",
    "    select='name CA',\n",
    "    filename='aligned_2JOF.dcd',\n",
    "    match_atoms=True,\n",
    "    verbose=True\n",
    ").run()"
   ]
  },
  {
   "cell_type": "markdown",
   "metadata": {
    "pycharm": {
     "name": "#%% md\n"
    }
   },
   "source": [
    "# Trajectory preparation"
   ]
  },
  {
   "cell_type": "code",
   "execution_count": 7,
   "metadata": {
    "execution": {
     "iopub.execute_input": "2022-02-22T17:01:18.315864Z",
     "iopub.status.busy": "2022-02-22T17:01:18.315582Z",
     "iopub.status.idle": "2022-02-22T17:01:18.320026Z",
     "shell.execute_reply": "2022-02-22T17:01:18.318751Z",
     "shell.execute_reply.started": "2022-02-22T17:01:18.315838Z"
    },
    "pycharm": {
     "name": "#%%\n"
    },
    "tags": []
   },
   "outputs": [],
   "source": [
    "# Stride the trajectory\n",
    "stride = 1\n",
    "\n",
    "rmsd_stride = 1\n",
    "\n",
    "# tica_dims = 10\n",
    "\n",
    "# The tIC that most closely corresponds to RMSD -- may change\n",
    "tic_rmsd = 0"
   ]
  },
  {
   "cell_type": "markdown",
   "metadata": {
    "pycharm": {
     "name": "#%% md\n"
    }
   },
   "source": [
    "## Featurize trajectory"
   ]
  },
  {
   "cell_type": "markdown",
   "metadata": {
    "pycharm": {
     "name": "#%% md\n"
    }
   },
   "source": [
    "In the original Shaw publication, they featurized the folding transition with alpha-carbon RMSD.\n",
    "\n",
    "[MDAnalysis RMSD documentation](https://www.mdanalysis.org/MDAnalysisTutorial/analysismodule.html#rmsd)"
   ]
  },
  {
   "cell_type": "raw",
   "metadata": {
    "pycharm": {
     "name": "#%% raw\n"
    }
   },
   "source": [
    "# Doing this and comparing to the initial frame looks terrible. I'll try the PDB structure instead.\n",
    "alpha_carbons = universe.select_atoms('name CA')\n",
    "initial_positions = alpha_carbons.positions"
   ]
  },
  {
   "cell_type": "code",
   "execution_count": 8,
   "metadata": {
    "execution": {
     "iopub.execute_input": "2022-02-22T17:01:19.943837Z",
     "iopub.status.busy": "2022-02-22T17:01:19.943517Z",
     "iopub.status.idle": "2022-02-22T17:01:19.960232Z",
     "shell.execute_reply": "2022-02-22T17:01:19.959601Z",
     "shell.execute_reply.started": "2022-02-22T17:01:19.943810Z"
    },
    "pycharm": {
     "name": "#%%\n"
    },
    "tags": []
   },
   "outputs": [],
   "source": [
    "aligned = mda.Universe(topology_path, 'aligned_2JOF.dcd')\n",
    "alpha_carbons = aligned.select_atoms('name CA')\n",
    "initial_positions = alpha_carbons.positions.copy()"
   ]
  },
  {
   "cell_type": "markdown",
   "metadata": {
    "pycharm": {
     "name": "#%% md\n"
    }
   },
   "source": [
    "### Compute RMSD"
   ]
  },
  {
   "cell_type": "raw",
   "metadata": {
    "pycharm": {
     "name": "#%% raw\n"
    }
   },
   "source": [
    "rmsd = np.full(shape=len(aligned.trajectory)//stride, fill_value=np.nan)\n",
    "\n",
    "# alpha_carbons = aligned.select_atoms('name CA')\n",
    "\n",
    "for i, frame in tqdm.tqdm(enumerate(aligned.trajectory), total=len(aligned.trajectory), miniters=1e5, mininterval=1):\n",
    "\n",
    "    if not i%stride == 0:\n",
    "        continue\n",
    "\n",
    "    # Compute the alpha-carbon RMSD at each frame\n",
    "    frame_positions = alpha_carbons.positions\n",
    "    frame_rmsd = MDAnalysis.analysis.rms.rmsd(initial_positions, frame_positions)\n",
    "\n",
    "    if i//stride < len(aligned.trajectory)//stride:\n",
    "        rmsd[i//stride] = frame_rmsd\n",
    "\n",
    "np.savez(f'rmsd_{model_name}', rmsd=rmsd)"
   ]
  },
  {
   "cell_type": "markdown",
   "metadata": {},
   "source": [
    "#### Load saved"
   ]
  },
  {
   "cell_type": "code",
   "execution_count": 9,
   "metadata": {
    "collapsed": false,
    "execution": {
     "iopub.execute_input": "2022-02-22T17:01:21.761283Z",
     "iopub.status.busy": "2022-02-22T17:01:21.760953Z",
     "iopub.status.idle": "2022-02-22T17:01:21.789308Z",
     "shell.execute_reply": "2022-02-22T17:01:21.788151Z",
     "shell.execute_reply.started": "2022-02-22T17:01:21.761255Z"
    },
    "jupyter": {
     "outputs_hidden": false
    },
    "pycharm": {
     "name": "#%%\n"
    },
    "tags": []
   },
   "outputs": [],
   "source": [
    "rmsd = np.load(f'rmsd_{model_name}.npz')['rmsd']"
   ]
  },
  {
   "cell_type": "code",
   "execution_count": 10,
   "metadata": {
    "execution": {
     "iopub.execute_input": "2022-02-22T17:01:22.262531Z",
     "iopub.status.busy": "2022-02-22T17:01:22.262187Z",
     "iopub.status.idle": "2022-02-22T17:01:22.547928Z",
     "shell.execute_reply": "2022-02-22T17:01:22.547344Z",
     "shell.execute_reply.started": "2022-02-22T17:01:22.262506Z"
    },
    "pycharm": {
     "name": "#%%\n"
    },
    "tags": []
   },
   "outputs": [
    {
     "data": {
      "text/plain": [
       "[<matplotlib.lines.Line2D at 0x15bd9db80>]"
      ]
     },
     "execution_count": 10,
     "metadata": {},
     "output_type": "execute_result"
    },
    {
     "data": {
      "image/png": "[encoded data removed]",
      "text/plain": [
       "<Figure size 432x288 with 1 Axes>"
      ]
     },
     "metadata": {
      "needs_background": "light"
     },
     "output_type": "display_data"
    }
   ],
   "source": [
    "plt.plot(rmsd)"
   ]
  },
  {
   "cell_type": "markdown",
   "metadata": {},
   "source": [
    "### Get instantaneous positions of all alpha-carbons"
   ]
  },
  {
   "cell_type": "raw",
   "metadata": {
    "execution": {
     "iopub.execute_input": "2022-02-10T20:29:03.623381Z",
     "iopub.status.busy": "2022-02-10T20:29:03.623048Z",
     "iopub.status.idle": "2022-02-10T20:35:52.384870Z",
     "shell.execute_reply": "2022-02-10T20:35:52.375507Z",
     "shell.execute_reply.started": "2022-02-10T20:29:03.623353Z"
    },
    "jupyter": {
     "outputs_hidden": false
    },
    "pycharm": {
     "name": "#%%\n"
    }
   },
   "source": [
    "alpha_carbon_positions_list = []\n",
    "\n",
    "for i, frame in tqdm.tqdm(enumerate(aligned.trajectory), total=len(aligned.trajectory), miniters=1e5, mininterval=1):\n",
    "\n",
    "    if not i%stride == 0:\n",
    "        continue\n",
    "\n",
    "    frame_positions = alpha_carbons.positions\n",
    "    alpha_carbon_positions_list.append(frame_positions)\n",
    "\n",
    "alpha_carbon_positions = np.array(alpha_carbon_positions_list)"
   ]
  },
  {
   "cell_type": "markdown",
   "metadata": {},
   "source": [
    "### Get pairwise alpha-carbon RMSD\n",
    "\n",
    "https://userguide.mdanalysis.org/stable/examples/analysis/alignment_and_rms/rmsd.html#RMSD-of-a-Universe-with-multiple-selections"
   ]
  },
  {
   "cell_type": "raw",
   "metadata": {
    "execution": {
     "iopub.execute_input": "2022-02-10T20:54:09.870364Z",
     "iopub.status.busy": "2022-02-10T20:54:09.869681Z",
     "iopub.status.idle": "2022-02-10T20:59:31.248658Z",
     "shell.execute_reply": "2022-02-10T20:59:31.241377Z",
     "shell.execute_reply.started": "2022-02-10T20:54:09.870323Z"
    },
    "tags": []
   },
   "source": [
    "from MDAnalysis.analysis import rms\n",
    "R = rms.RMSD(aligned,  # universe to align\n",
    "             ref_universe,  # reference universe or atomgroup\n",
    "             select='name CA',  # group to superimpose and calculate RMSD\n",
    "             groupselections=[f\"id {_id}\" for _id in alpha_carbons.ids],  # groups for RMSD\n",
    "             ref_frame=0,\n",
    "            verbose=True)  # frame index of the reference\n",
    "\n",
    "R.run(step=10)"
   ]
  },
  {
   "cell_type": "raw",
   "metadata": {
    "execution": {
     "iopub.execute_input": "2022-02-10T20:59:31.270621Z",
     "iopub.status.busy": "2022-02-10T20:59:31.269520Z",
     "iopub.status.idle": "2022-02-10T20:59:31.860492Z",
     "shell.execute_reply": "2022-02-10T20:59:31.855330Z",
     "shell.execute_reply.started": "2022-02-10T20:59:31.270570Z"
    },
    "tags": []
   },
   "source": [
    "import pickle\n",
    "pickle.dump(R, open('rmsd.obj', 'wb'))"
   ]
  },
  {
   "cell_type": "markdown",
   "metadata": {},
   "source": [
    "#### Load saved"
   ]
  },
  {
   "cell_type": "code",
   "execution_count": 11,
   "metadata": {
    "execution": {
     "iopub.execute_input": "2022-02-22T17:01:24.966677Z",
     "iopub.status.busy": "2022-02-22T17:01:24.966412Z",
     "iopub.status.idle": "2022-02-22T17:01:25.002939Z",
     "shell.execute_reply": "2022-02-22T17:01:25.001835Z",
     "shell.execute_reply.started": "2022-02-22T17:01:24.966653Z"
    },
    "tags": []
   },
   "outputs": [],
   "source": [
    "R = pickle.load(open('rmsd.obj', 'rb'))"
   ]
  },
  {
   "cell_type": "code",
   "execution_count": 12,
   "metadata": {
    "execution": {
     "iopub.execute_input": "2022-02-22T17:01:25.396353Z",
     "iopub.status.busy": "2022-02-22T17:01:25.396091Z",
     "iopub.status.idle": "2022-02-22T17:01:25.404290Z",
     "shell.execute_reply": "2022-02-22T17:01:25.403701Z",
     "shell.execute_reply.started": "2022-02-22T17:01:25.396330Z"
    },
    "tags": []
   },
   "outputs": [
    {
     "name": "stderr",
     "output_type": "stream",
     "text": [
      "/Users/russojd/opt/anaconda3/envs/jupyter/lib/python3.9/site-packages/MDAnalysis/analysis/rms.py:710: DeprecationWarning: The `rmsd` attribute was deprecated in MDAnalysis 2.0.0 and will be removed in MDAnalysis 3.0.0. Please use `results.rmsd` instead.\n",
      "  warnings.warn(wmsg, DeprecationWarning)\n"
     ]
    },
    {
     "data": {
      "text/plain": [
       "(104400, 23)"
      ]
     },
     "execution_count": 12,
     "metadata": {},
     "output_type": "execute_result"
    }
   ],
   "source": [
    "R.rmsd.shape"
   ]
  },
  {
   "cell_type": "markdown",
   "metadata": {},
   "source": [
    "### Residue-residue minimum distance\n",
    "\n",
    "From “Assessing the accuracy and bias of Markov state models”:\n",
    "\n",
    "> Featurization was done with \"all minimal residue-residue distances (calculated as the closest distance between the heavy atoms of two residues separated in sequence by at least two neighboring residues)”"
   ]
  },
  {
   "cell_type": "code",
   "execution_count": 13,
   "metadata": {
    "execution": {
     "iopub.execute_input": "2022-02-22T17:01:26.803324Z",
     "iopub.status.busy": "2022-02-22T17:01:26.802727Z",
     "iopub.status.idle": "2022-02-22T17:01:26.811640Z",
     "shell.execute_reply": "2022-02-22T17:01:26.810719Z",
     "shell.execute_reply.started": "2022-02-22T17:01:26.803294Z"
    },
    "tags": []
   },
   "outputs": [],
   "source": [
    "n_residues = len(aligned.residues)\n",
    "all_residue_ids = range(1, 1+n_residues)\n",
    "\n",
    "nearby_residue_ids = {}\n",
    "\n",
    "for i in range(n_residues):\n",
    "    \n",
    "    partner_residues = [aligned.residues[i-1].resid, aligned.residues[i].resid, aligned.residues[(i+1)%n_residues].resid]\n",
    "    \n",
    "# for residue in aligned.residues:\n",
    "    # adjacent_residues = [residue.resid-1, residue.resid, residue.resid+1]\n",
    "    # if adjacent_residues[0] < 0:\n",
    "        # adjacent_residues = aligned.residues[-1].resid\n",
    "        \n",
    "    _nearby_residues = np.setdiff1d(all_residue_ids, partner_residues)\n",
    "    \n",
    "    nearby_residue_ids[all_residue_ids[i]] = _nearby_residues"
   ]
  },
  {
   "cell_type": "code",
   "execution_count": 14,
   "metadata": {
    "execution": {
     "iopub.execute_input": "2022-02-22T17:01:27.891602Z",
     "iopub.status.busy": "2022-02-22T17:01:27.891326Z",
     "iopub.status.idle": "2022-02-22T17:01:27.898637Z",
     "shell.execute_reply": "2022-02-22T17:01:27.898009Z",
     "shell.execute_reply.started": "2022-02-22T17:01:27.891576Z"
    },
    "tags": []
   },
   "outputs": [
    {
     "data": {
      "text/plain": [
       "{1: array([ 3,  4,  5,  6,  7,  8,  9, 10, 11, 12, 13, 14, 15, 16, 17, 18, 19]),\n",
       " 2: array([ 4,  5,  6,  7,  8,  9, 10, 11, 12, 13, 14, 15, 16, 17, 18, 19, 20]),\n",
       " 3: array([ 1,  5,  6,  7,  8,  9, 10, 11, 12, 13, 14, 15, 16, 17, 18, 19, 20]),\n",
       " 4: array([ 1,  2,  6,  7,  8,  9, 10, 11, 12, 13, 14, 15, 16, 17, 18, 19, 20]),\n",
       " 5: array([ 1,  2,  3,  7,  8,  9, 10, 11, 12, 13, 14, 15, 16, 17, 18, 19, 20]),\n",
       " 6: array([ 1,  2,  3,  4,  8,  9, 10, 11, 12, 13, 14, 15, 16, 17, 18, 19, 20]),\n",
       " 7: array([ 1,  2,  3,  4,  5,  9, 10, 11, 12, 13, 14, 15, 16, 17, 18, 19, 20]),\n",
       " 8: array([ 1,  2,  3,  4,  5,  6, 10, 11, 12, 13, 14, 15, 16, 17, 18, 19, 20]),\n",
       " 9: array([ 1,  2,  3,  4,  5,  6,  7, 11, 12, 13, 14, 15, 16, 17, 18, 19, 20]),\n",
       " 10: array([ 1,  2,  3,  4,  5,  6,  7,  8, 12, 13, 14, 15, 16, 17, 18, 19, 20]),\n",
       " 11: array([ 1,  2,  3,  4,  5,  6,  7,  8,  9, 13, 14, 15, 16, 17, 18, 19, 20]),\n",
       " 12: array([ 1,  2,  3,  4,  5,  6,  7,  8,  9, 10, 14, 15, 16, 17, 18, 19, 20]),\n",
       " 13: array([ 1,  2,  3,  4,  5,  6,  7,  8,  9, 10, 11, 15, 16, 17, 18, 19, 20]),\n",
       " 14: array([ 1,  2,  3,  4,  5,  6,  7,  8,  9, 10, 11, 12, 16, 17, 18, 19, 20]),\n",
       " 15: array([ 1,  2,  3,  4,  5,  6,  7,  8,  9, 10, 11, 12, 13, 17, 18, 19, 20]),\n",
       " 16: array([ 1,  2,  3,  4,  5,  6,  7,  8,  9, 10, 11, 12, 13, 14, 18, 19, 20]),\n",
       " 17: array([ 1,  2,  3,  4,  5,  6,  7,  8,  9, 10, 11, 12, 13, 14, 15, 19, 20]),\n",
       " 18: array([ 1,  2,  3,  4,  5,  6,  7,  8,  9, 10, 11, 12, 13, 14, 15, 16, 20]),\n",
       " 19: array([ 1,  2,  3,  4,  5,  6,  7,  8,  9, 10, 11, 12, 13, 14, 15, 16, 17]),\n",
       " 20: array([ 2,  3,  4,  5,  6,  7,  8,  9, 10, 11, 12, 13, 14, 15, 16, 17, 18])}"
      ]
     },
     "execution_count": 14,
     "metadata": {},
     "output_type": "execute_result"
    }
   ],
   "source": [
    "nearby_residue_ids"
   ]
  },
  {
   "cell_type": "code",
   "execution_count": 16,
   "metadata": {
    "execution": {
     "iopub.execute_input": "2022-02-22T17:01:34.561266Z",
     "iopub.status.busy": "2022-02-22T17:01:34.560990Z",
     "iopub.status.idle": "2022-02-22T17:01:34.575247Z",
     "shell.execute_reply": "2022-02-22T17:01:34.574361Z",
     "shell.execute_reply.started": "2022-02-22T17:01:34.561239Z"
    },
    "tags": []
   },
   "outputs": [
    {
     "name": "stdout",
     "output_type": "stream",
     "text": [
      "1\n"
     ]
    }
   ],
   "source": [
    "print(stride)\n",
    "\n",
    "selections = {residue.resid:aligned.select_atoms(f'resnum {residue.resid} and not type H') for residue in aligned.residues}"
   ]
  },
  {
   "cell_type": "code",
   "execution_count": 47,
   "metadata": {
    "execution": {
     "iopub.execute_input": "2022-02-16T17:32:29.529200Z",
     "iopub.status.busy": "2022-02-16T17:32:29.528853Z",
     "iopub.status.idle": "2022-02-16T17:32:29.542440Z",
     "shell.execute_reply": "2022-02-16T17:32:29.541265Z",
     "shell.execute_reply.started": "2022-02-16T17:32:29.529162Z"
    },
    "tags": []
   },
   "outputs": [],
   "source": [
    "@ray.remote\n",
    "def analyze_frame(frame, i, aligned_residues, selections, nearby_residue_ids, stride):\n",
    "    \n",
    "    pairs = []\n",
    "    \n",
    "    for residue in aligned_residues:\n",
    "        \n",
    "        selection_from = selections[residue.resid]\n",
    "        \n",
    "        # Get minimum distances to each of the nearby residues (separated by at least 1 residue index)\n",
    "        for nearby_residue_id in nearby_residue_ids:\n",
    "\n",
    "            selection_to  = selections[nearby_residue_id] #= aligned.select_atoms(f'resnum {nearby_residue_id} and name CA')\n",
    "            \n",
    "            residue_distances = MDAnalysis.analysis.distances.distance_array(selection_from.positions, selection_to.positions, backend='openmp')\n",
    "            \n",
    "            min_dist = np.min(residue_distances)\n",
    "            \n",
    "            pairs.append([min_dist, (residue.resid-1, nearby_residue_id-1)])\n",
    "            \n",
    "    return i//stride, pairs\n",
    "            # distance_matrix[i//stride, residue.resid-1, nearby_residue_id-1] = min_dist\n",
    "            # return (i//stride, residue.resid-1, nearby_residue_id-1), min_dist"
   ]
  },
  {
   "cell_type": "markdown",
   "metadata": {},
   "source": [
    "Do this in parallel because it's mega slow"
   ]
  },
  {
   "cell_type": "code",
   "execution_count": 32,
   "metadata": {
    "execution": {
     "iopub.execute_input": "2022-02-16T17:22:54.941868Z",
     "iopub.status.busy": "2022-02-16T17:22:54.941277Z",
     "iopub.status.idle": "2022-02-16T17:23:07.704055Z",
     "shell.execute_reply": "2022-02-16T17:23:07.702533Z",
     "shell.execute_reply.started": "2022-02-16T17:22:54.941829Z"
    },
    "tags": []
   },
   "outputs": [
    {
     "name": "stderr",
     "output_type": "stream",
     "text": [
      "2022-02-16 09:23:01,757\tINFO services.py:1374 -- View the Ray dashboard at \u001b[1m\u001b[32mhttp://127.0.0.1:8265\u001b[39m\u001b[22m\n"
     ]
    },
    {
     "data": {
      "text/plain": [
       "{'node_ip_address': '127.0.0.1',\n",
       " 'raylet_ip_address': '127.0.0.1',\n",
       " 'redis_address': '127.0.0.1:6379',\n",
       " 'object_store_address': '/tmp/ray/session_2022-02-16_09-22-54_947616_36510/sockets/plasma_store',\n",
       " 'raylet_socket_name': '/tmp/ray/session_2022-02-16_09-22-54_947616_36510/sockets/raylet',\n",
       " 'webui_url': '127.0.0.1:8265',\n",
       " 'session_dir': '/tmp/ray/session_2022-02-16_09-22-54_947616_36510',\n",
       " 'metrics_export_port': 64104,\n",
       " 'gcs_address': '127.0.0.1:59326',\n",
       " 'node_id': '9443c149ac839cbf49e533b2741a38432bf08f3773263fe75f503121'}"
      ]
     },
     "execution_count": 32,
     "metadata": {},
     "output_type": "execute_result"
    },
    {
     "name": "stderr",
     "output_type": "stream",
     "text": [
      "\u001b[2m\u001b[33m(raylet)\u001b[0m /Users/russojd/opt/anaconda3/envs/protein-like_msm/lib/python3.9/site-packages/ray/dashboard/agent.py:152: DeprecationWarning: distutils Version classes are deprecated. Use packaging.version instead.\n",
      "\u001b[2m\u001b[33m(raylet)\u001b[0m   if LooseVersion(aiohttp.__version__) < LooseVersion(\"4.0.0\"):\n"
     ]
    }
   ],
   "source": [
    "ray.init(num_cpus=4)"
   ]
  },
  {
   "cell_type": "code",
   "execution_count": 55,
   "metadata": {
    "execution": {
     "iopub.execute_input": "2022-02-16T17:34:40.520900Z",
     "iopub.status.busy": "2022-02-16T17:34:40.519761Z",
     "iopub.status.idle": "2022-02-17T05:05:49.083736Z",
     "shell.execute_reply": "2022-02-17T05:05:49.080338Z",
     "shell.execute_reply.started": "2022-02-16T17:34:40.520861Z"
    },
    "tags": []
   },
   "outputs": [
    {
     "data": {
      "application/vnd.jupyter.widget-view+json": {
       "model_id": "201b57ece978488db805dbe442b48a7c",
       "version_major": 2,
       "version_minor": 0
      },
      "text/plain": [
       "Submitting jobs:   0%|          | 0/1044000 [00:00<?, ?it/s]"
      ]
     },
     "metadata": {},
     "output_type": "display_data"
    },
    {
     "data": {
      "application/vnd.jupyter.widget-view+json": {
       "model_id": "a12e30df07c64e6cbb005f8dbd88b3b5",
       "version_major": 2,
       "version_minor": 0
      },
      "text/plain": [
       "Retrieving discretized trajectories:   0%|          | 0/1044000 [00:00<?, ?it/s]"
      ]
     },
     "metadata": {},
     "output_type": "display_data"
    }
   ],
   "source": [
    "distance_matrix = np.full(shape=(len(aligned.trajectory)//stride, n_residues, n_residues), fill_value=np.nan)\n",
    "\n",
    "task_ids = []\n",
    "max_inflight = 10\n",
    "chunk_size=100\n",
    "doing_chunk = False\n",
    "\n",
    "for i, frame in tqdm.tqdm(enumerate(aligned.trajectory), total=len(aligned.trajectory), desc='Submitting jobs'):\n",
    "\n",
    "    if not i%stride == 0:\n",
    "        continue\n",
    "        \n",
    "    # if i > 1000: break\n",
    "        \n",
    "#     if len(task_ids) > max_inflight:\n",
    "    \n",
    "#         # The number that need to be ready before we can submit more\n",
    "#         num_ready = i - max_inflight\n",
    "#         ray.wait(task_ids, num_returns=num_ready)\n",
    "                    \n",
    "    _id = analyze_frame.remote(frame, i, aligned.residues, selections, nearby_residue_ids, stride)\n",
    "    \n",
    "    task_ids.append(_id)\n",
    "    \n",
    "with tqdm.tqdm(\n",
    "    total=len(task_ids), desc=\"Retrieving discretized trajectories\"\n",
    ") as pbar:\n",
    "    while task_ids:\n",
    "        result_batch_size = 100\n",
    "        result_batch_size = min(result_batch_size, len(task_ids))\n",
    "\n",
    "        # Returns the first ObjectRef that is ready, with a 20s timeout\n",
    "        finished, task_ids = ray.wait(\n",
    "            task_ids, num_returns=result_batch_size, timeout=20\n",
    "        )\n",
    "        results = ray.get(finished)\n",
    "        \n",
    "        for frame_idx, _dists in results:\n",
    "            for min_dist, (from_residue, to_residue) in _dists:\n",
    "                distance_matrix[frame_idx, from_residue, to_residue] = min_dist\n",
    "            \n",
    "            pbar.update(1)"
   ]
  },
  {
   "cell_type": "raw",
   "metadata": {
    "execution": {
     "iopub.execute_input": "2022-02-17T19:32:57.903413Z",
     "iopub.status.busy": "2022-02-17T19:32:57.899679Z",
     "iopub.status.idle": "2022-02-17T19:34:05.594951Z",
     "shell.execute_reply": "2022-02-17T19:34:05.590717Z",
     "shell.execute_reply.started": "2022-02-17T19:32:57.903335Z"
    }
   },
   "source": [
    "np.savez('distance_matrix.npz', distance_matrix=distance_matrix)"
   ]
  },
  {
   "cell_type": "markdown",
   "metadata": {},
   "source": [
    "#### Load saved"
   ]
  },
  {
   "cell_type": "code",
   "execution_count": 17,
   "metadata": {
    "execution": {
     "iopub.execute_input": "2022-02-22T17:01:40.467850Z",
     "iopub.status.busy": "2022-02-22T17:01:40.464852Z",
     "iopub.status.idle": "2022-02-22T17:01:46.781596Z",
     "shell.execute_reply": "2022-02-22T17:01:46.780972Z",
     "shell.execute_reply.started": "2022-02-22T17:01:40.467807Z"
    },
    "tags": []
   },
   "outputs": [],
   "source": [
    "distance_matrix = np.load('distance_matrix.npz')['distance_matrix']"
   ]
  },
  {
   "cell_type": "code",
   "execution_count": 18,
   "metadata": {
    "execution": {
     "iopub.execute_input": "2022-02-22T17:01:46.783637Z",
     "iopub.status.busy": "2022-02-22T17:01:46.783428Z",
     "iopub.status.idle": "2022-02-22T17:01:46.789409Z",
     "shell.execute_reply": "2022-02-22T17:01:46.788642Z",
     "shell.execute_reply.started": "2022-02-22T17:01:46.783618Z"
    },
    "tags": []
   },
   "outputs": [
    {
     "data": {
      "text/plain": [
       "(1044000, 20, 20)"
      ]
     },
     "execution_count": 18,
     "metadata": {},
     "output_type": "execute_result"
    }
   ],
   "source": [
    "distance_matrix.shape"
   ]
  },
  {
   "cell_type": "code",
   "execution_count": 19,
   "metadata": {
    "execution": {
     "iopub.execute_input": "2022-02-22T17:01:46.790951Z",
     "iopub.status.busy": "2022-02-22T17:01:46.790549Z",
     "iopub.status.idle": "2022-02-22T17:02:14.925779Z",
     "shell.execute_reply": "2022-02-22T17:02:14.920881Z",
     "shell.execute_reply.started": "2022-02-22T17:01:46.790925Z"
    },
    "tags": []
   },
   "outputs": [],
   "source": [
    "# Get rid of the nan terms corresponding to self-distance or adjacent-distrances\n",
    "\n",
    "reduced_distance_matrix = np.full(shape=(distance_matrix.shape[0], n_residues, n_residues-3), fill_value=np.nan)\n",
    "\n",
    "for residue, partners in nearby_residue_ids.items():\n",
    "    \n",
    "    reduced_distance_matrix[:, residue-1] = distance_matrix[:, residue-1, partners-1]"
   ]
  },
  {
   "cell_type": "code",
   "execution_count": 20,
   "metadata": {
    "execution": {
     "iopub.execute_input": "2022-02-22T17:02:14.935735Z",
     "iopub.status.busy": "2022-02-22T17:02:14.935293Z",
     "iopub.status.idle": "2022-02-22T17:02:14.952001Z",
     "shell.execute_reply": "2022-02-22T17:02:14.951012Z",
     "shell.execute_reply.started": "2022-02-22T17:02:14.935701Z"
    },
    "tags": []
   },
   "outputs": [
    {
     "data": {
      "text/plain": [
       "(1044000, 20, 17)"
      ]
     },
     "execution_count": 20,
     "metadata": {},
     "output_type": "execute_result"
    }
   ],
   "source": [
    "reduced_distance_matrix.shape"
   ]
  },
  {
   "cell_type": "code",
   "execution_count": 25,
   "metadata": {
    "execution": {
     "iopub.execute_input": "2022-02-22T17:03:50.140134Z",
     "iopub.status.busy": "2022-02-22T17:03:50.139906Z",
     "iopub.status.idle": "2022-02-22T17:03:51.517436Z",
     "shell.execute_reply": "2022-02-22T17:03:51.516897Z",
     "shell.execute_reply.started": "2022-02-22T17:03:50.140115Z"
    },
    "tags": []
   },
   "outputs": [],
   "source": [
    "assert not np.isnan(reduced_distance_matrix).any()"
   ]
  },
  {
   "cell_type": "markdown",
   "metadata": {},
   "source": [
    "## Dimensionality reduction\n",
    "\n",
    "At a 10ns MSM lag time (i.e. 50-frames, since each frame is 200ps), the dimensionality reduction was\n",
    "- commute tICA\n",
    "- 10ns tICA lag\n",
    "- 10 tICs\n",
    "- 200 microstates"
   ]
  },
  {
   "cell_type": "code",
   "execution_count": 27,
   "metadata": {
    "execution": {
     "iopub.execute_input": "2022-02-22T17:04:05.847784Z",
     "iopub.status.busy": "2022-02-22T17:04:05.847502Z",
     "iopub.status.idle": "2022-02-22T17:04:05.852981Z",
     "shell.execute_reply": "2022-02-22T17:04:05.852091Z",
     "shell.execute_reply.started": "2022-02-22T17:04:05.847758Z"
    },
    "tags": []
   },
   "outputs": [],
   "source": [
    "_map_type = 'commute_map'\n",
    "lag_steps = 50\n",
    "n_tics = 10\n",
    "n_clusters = 1000\n",
    "msm_lag_steps = 50"
   ]
  },
  {
   "cell_type": "code",
   "execution_count": 28,
   "metadata": {
    "execution": {
     "iopub.execute_input": "2022-02-22T17:04:06.121239Z",
     "iopub.status.busy": "2022-02-22T17:04:06.120800Z",
     "iopub.status.idle": "2022-02-22T17:04:06.125359Z",
     "shell.execute_reply": "2022-02-22T17:04:06.124221Z",
     "shell.execute_reply.started": "2022-02-22T17:04:06.121177Z"
    },
    "tags": []
   },
   "outputs": [],
   "source": [
    "unrolled_distances = reduced_distance_matrix.reshape((reduced_distance_matrix.shape[0], -1))"
   ]
  },
  {
   "cell_type": "code",
   "execution_count": 29,
   "metadata": {
    "execution": {
     "iopub.execute_input": "2022-02-22T17:04:06.400366Z",
     "iopub.status.busy": "2022-02-22T17:04:06.400062Z",
     "iopub.status.idle": "2022-02-22T17:04:06.421221Z",
     "shell.execute_reply": "2022-02-22T17:04:06.418901Z",
     "shell.execute_reply.started": "2022-02-22T17:04:06.400343Z"
    },
    "tags": []
   },
   "outputs": [
    {
     "data": {
      "text/plain": [
       "((1044000, 20, 17), (1044000, 340))"
      ]
     },
     "execution_count": 29,
     "metadata": {},
     "output_type": "execute_result"
    }
   ],
   "source": [
    "reduced_distance_matrix.shape, unrolled_distances.shape"
   ]
  },
  {
   "cell_type": "markdown",
   "metadata": {},
   "source": [
    "### Calculate fresh"
   ]
  },
  {
   "cell_type": "code",
   "execution_count": 30,
   "metadata": {
    "execution": {
     "iopub.execute_input": "2022-02-22T17:04:07.542436Z",
     "iopub.status.busy": "2022-02-22T17:04:07.542129Z",
     "iopub.status.idle": "2022-02-22T17:04:07.547484Z",
     "shell.execute_reply": "2022-02-22T17:04:07.546492Z",
     "shell.execute_reply.started": "2022-02-22T17:04:07.542410Z"
    },
    "tags": []
   },
   "outputs": [],
   "source": [
    "tica = TICA(lagtime=lag_steps, dim=n_tics, scaling=_map_type)"
   ]
  },
  {
   "cell_type": "code",
   "execution_count": 31,
   "metadata": {
    "execution": {
     "iopub.execute_input": "2022-02-22T17:04:07.792194Z",
     "iopub.status.busy": "2022-02-22T17:04:07.791933Z",
     "iopub.status.idle": "2022-02-22T17:04:38.636867Z",
     "shell.execute_reply": "2022-02-22T17:04:38.634763Z",
     "shell.execute_reply.started": "2022-02-22T17:04:07.792170Z"
    },
    "tags": []
   },
   "outputs": [],
   "source": [
    "tica_model = tica.fit_fetch(unrolled_distances, verbose=True)"
   ]
  },
  {
   "cell_type": "code",
   "execution_count": 32,
   "metadata": {
    "execution": {
     "iopub.execute_input": "2022-02-22T17:04:38.641216Z",
     "iopub.status.busy": "2022-02-22T17:04:38.640811Z",
     "iopub.status.idle": "2022-02-22T17:04:49.246125Z",
     "shell.execute_reply": "2022-02-22T17:04:49.245415Z",
     "shell.execute_reply.started": "2022-02-22T17:04:38.641176Z"
    },
    "tags": []
   },
   "outputs": [],
   "source": [
    "projection = tica_model.transform(unrolled_distances)"
   ]
  },
  {
   "cell_type": "code",
   "execution_count": 49,
   "metadata": {
    "execution": {
     "iopub.execute_input": "2022-02-22T17:05:53.384660Z",
     "iopub.status.busy": "2022-02-22T17:05:53.384411Z",
     "iopub.status.idle": "2022-02-22T17:05:53.514558Z",
     "shell.execute_reply": "2022-02-22T17:05:53.513453Z",
     "shell.execute_reply.started": "2022-02-22T17:05:53.384637Z"
    },
    "tags": []
   },
   "outputs": [],
   "source": [
    "np.savez(f'{dataset_label}_tica', tica=tica, tica_model=tica_model, projection=projection)"
   ]
  },
  {
   "cell_type": "markdown",
   "metadata": {},
   "source": [
    "### Load saved"
   ]
  },
  {
   "cell_type": "code",
   "execution_count": 50,
   "metadata": {
    "execution": {
     "iopub.execute_input": "2022-02-22T17:05:54.401398Z",
     "iopub.status.busy": "2022-02-22T17:05:54.401138Z",
     "iopub.status.idle": "2022-02-22T17:05:54.535541Z",
     "shell.execute_reply": "2022-02-22T17:05:54.534771Z",
     "shell.execute_reply.started": "2022-02-22T17:05:54.401376Z"
    },
    "tags": []
   },
   "outputs": [],
   "source": [
    "_tica = np.load(f'{dataset_label}_tica.npz', allow_pickle=True)\n",
    "tica = _tica['tica']\n",
    "tica_model = _tica['tica_model']\n",
    "projection = _tica['projection']"
   ]
  },
  {
   "cell_type": "code",
   "execution_count": 35,
   "metadata": {
    "collapsed": false,
    "execution": {
     "iopub.execute_input": "2022-02-22T17:05:03.346393Z",
     "iopub.status.busy": "2022-02-22T17:05:03.345928Z",
     "iopub.status.idle": "2022-02-22T17:05:03.357429Z",
     "shell.execute_reply": "2022-02-22T17:05:03.355343Z",
     "shell.execute_reply.started": "2022-02-22T17:05:03.346364Z"
    },
    "jupyter": {
     "outputs_hidden": false
    },
    "pycharm": {
     "name": "#%%\n"
    },
    "tags": []
   },
   "outputs": [
    {
     "data": {
      "text/plain": [
       "(1044000, 10)"
      ]
     },
     "execution_count": 35,
     "metadata": {},
     "output_type": "execute_result"
    }
   ],
   "source": [
    "projection.shape"
   ]
  },
  {
   "cell_type": "markdown",
   "metadata": {},
   "source": [
    "### Visualize tIC 0 and RMSD\n",
    "\n",
    "Visually compare the tIC projection and the RMSD. If the tIC projection looks weird, try looking at some others.\n",
    "\n",
    "tIC 0 PROBABLY maps to RMSD (i.e., it usually does)"
   ]
  },
  {
   "cell_type": "code",
   "execution_count": 36,
   "metadata": {
    "execution": {
     "iopub.execute_input": "2022-02-22T17:05:04.915303Z",
     "iopub.status.busy": "2022-02-22T17:05:04.914810Z",
     "iopub.status.idle": "2022-02-22T17:05:04.919148Z",
     "shell.execute_reply": "2022-02-22T17:05:04.917877Z",
     "shell.execute_reply.started": "2022-02-22T17:05:04.915276Z"
    },
    "tags": []
   },
   "outputs": [],
   "source": [
    "tic_rmsd = 0"
   ]
  },
  {
   "cell_type": "code",
   "execution_count": 217,
   "metadata": {
    "execution": {
     "iopub.execute_input": "2022-02-23T21:15:09.896336Z",
     "iopub.status.busy": "2022-02-23T21:15:09.896090Z",
     "iopub.status.idle": "2022-02-23T21:15:10.642264Z",
     "shell.execute_reply": "2022-02-23T21:15:10.639124Z",
     "shell.execute_reply.started": "2022-02-23T21:15:09.896315Z"
    },
    "tags": []
   },
   "outputs": [
    {
     "data": {
      "text/plain": [
       "<matplotlib.legend.Legend at 0x16192e9a0>"
      ]
     },
     "execution_count": 217,
     "metadata": {},
     "output_type": "execute_result"
    },
    {
     "data": {
      "image/png": "[encoded data removed]",
      "text/plain": [
       "<Figure size 432x288 with 2 Axes>"
      ]
     },
     "metadata": {},
     "output_type": "display_data"
    }
   ],
   "source": [
    "fig, ax = plt.subplots()\n",
    "\n",
    "ax.plot(projection[:, tic_rmsd], label=f'tIC {tic_rmsd}', color='tab:blue')\n",
    "ax.set_ylabel('tIC')\n",
    "\n",
    "ax2 = ax.twinx()\n",
    "ax2.plot(rmsd[::1], label='RMSD', alpha=0.5, color='tab:orange')\n",
    "ax2.set_ylabel('RMSD')\n",
    "\n",
    "fig.legend()"
   ]
  },
  {
   "cell_type": "markdown",
   "metadata": {
    "pycharm": {
     "name": "#%% md\n"
    }
   },
   "source": [
    "## Discretize trajectory"
   ]
  },
  {
   "cell_type": "markdown",
   "metadata": {
    "jp-MarkdownHeadingCollapsed": true,
    "tags": []
   },
   "source": [
    "### Aggregate clustering"
   ]
  },
  {
   "cell_type": "markdown",
   "metadata": {
    "pycharm": {
     "name": "#%% md\n"
    }
   },
   "source": [
    "We'll just do a simple k-means clustering on the RMSDs.\n",
    "\n",
    "[Deeptime k-means clustering documentation](https://deeptime-ml.github.io/latest/notebooks/clustering.html)"
   ]
  },
  {
   "cell_type": "code",
   "execution_count": 299,
   "metadata": {
    "execution": {
     "iopub.execute_input": "2022-02-10T23:51:47.420218Z",
     "iopub.status.busy": "2022-02-10T23:51:47.418106Z",
     "iopub.status.idle": "2022-02-10T23:51:47.439044Z",
     "shell.execute_reply": "2022-02-10T23:51:47.437615Z",
     "shell.execute_reply.started": "2022-02-10T23:51:47.418665Z"
    },
    "tags": []
   },
   "outputs": [],
   "source": [
    "# Number of clusters for k-means\n",
    "# n_clusters = 1000"
   ]
  },
  {
   "cell_type": "code",
   "execution_count": 89,
   "metadata": {
    "execution": {
     "iopub.execute_input": "2022-02-17T20:11:16.697832Z",
     "iopub.status.busy": "2022-02-17T20:11:16.697305Z",
     "iopub.status.idle": "2022-02-17T20:11:16.716833Z",
     "shell.execute_reply": "2022-02-17T20:11:16.715734Z",
     "shell.execute_reply.started": "2022-02-17T20:11:16.697723Z"
    },
    "pycharm": {
     "name": "#%%\n"
    },
    "tags": []
   },
   "outputs": [],
   "source": [
    "# Initialize the estimator\n",
    "# Perform the clustering\n",
    "\n",
    "kmeans_estimator = KMeans(\n",
    "    n_clusters=n_clusters,\n",
    "    # init_strategy='uniform',\n",
    "    max_iter=1000,\n",
    "    fixed_seed=1337,\n",
    "    n_jobs=4,\n",
    "    progress=tqdm.tqdm\n",
    ")"
   ]
  },
  {
   "cell_type": "code",
   "execution_count": 90,
   "metadata": {
    "execution": {
     "iopub.execute_input": "2022-02-17T20:11:18.351967Z",
     "iopub.status.busy": "2022-02-17T20:11:18.350970Z",
     "iopub.status.idle": "2022-02-17T20:39:49.091656Z",
     "shell.execute_reply": "2022-02-17T20:39:49.089077Z",
     "shell.execute_reply.started": "2022-02-17T20:11:18.351910Z"
    },
    "pycharm": {
     "name": "#%%\n"
    },
    "tags": []
   },
   "outputs": [
    {
     "data": {
      "application/vnd.jupyter.widget-view+json": {
       "model_id": "697531ce31f94f7e92248d1b843251a7",
       "version_major": 2,
       "version_minor": 0
      },
      "text/plain": [
       "  0%|          | 0/1000 [00:00<?, ?it/s]"
      ]
     },
     "metadata": {},
     "output_type": "display_data"
    },
    {
     "data": {
      "application/vnd.jupyter.widget-view+json": {
       "model_id": "ea9e15fcc30a4249841bb858b3a4d701",
       "version_major": 2,
       "version_minor": 0
      },
      "text/plain": [
       "  0%|          | 0/1000 [00:00<?, ?it/s]"
      ]
     },
     "metadata": {},
     "output_type": "display_data"
    }
   ],
   "source": [
    "clustering = kmeans_estimator.fit(projection).fetch_model()"
   ]
  },
  {
   "cell_type": "code",
   "execution_count": 93,
   "metadata": {
    "execution": {
     "iopub.execute_input": "2022-02-17T21:01:44.632178Z",
     "iopub.status.busy": "2022-02-17T21:01:44.631717Z",
     "iopub.status.idle": "2022-02-17T21:01:44.669490Z",
     "shell.execute_reply": "2022-02-17T21:01:44.667817Z",
     "shell.execute_reply.started": "2022-02-17T21:01:44.632142Z"
    },
    "tags": []
   },
   "outputs": [],
   "source": [
    "pickle.dump(clustering, open('clustering.obj', 'wb'))\n",
    "pickle.dump(kmeans_estimator, open('kmeans_estimator.obj', 'wb'))"
   ]
  },
  {
   "cell_type": "code",
   "execution_count": null,
   "metadata": {},
   "outputs": [],
   "source": []
  },
  {
   "cell_type": "code",
   "execution_count": 92,
   "metadata": {
    "execution": {
     "iopub.execute_input": "2022-02-17T21:01:13.647459Z",
     "iopub.status.busy": "2022-02-17T21:01:13.647147Z",
     "iopub.status.idle": "2022-02-17T21:01:44.628632Z",
     "shell.execute_reply": "2022-02-17T21:01:44.627221Z",
     "shell.execute_reply.started": "2022-02-17T21:01:13.647437Z"
    },
    "pycharm": {
     "name": "#%%\n"
    },
    "tags": []
   },
   "outputs": [],
   "source": [
    "# Discretize the trajectory\n",
    "discrete_trajectory = clustering.transform(projection)"
   ]
  },
  {
   "cell_type": "code",
   "execution_count": 96,
   "metadata": {
    "execution": {
     "iopub.execute_input": "2022-02-17T21:03:12.924514Z",
     "iopub.status.busy": "2022-02-17T21:03:12.924189Z",
     "iopub.status.idle": "2022-02-17T21:03:13.555576Z",
     "shell.execute_reply": "2022-02-17T21:03:13.554380Z",
     "shell.execute_reply.started": "2022-02-17T21:03:12.924491Z"
    },
    "pycharm": {
     "name": "#%%\n"
    },
    "tags": []
   },
   "outputs": [
    {
     "data": {
      "image/png": "[encoded data removed]",
      "text/plain": [
       "<Figure size 864x288 with 2 Axes>"
      ]
     },
     "metadata": {
      "needs_background": "light"
     },
     "output_type": "display_data"
    }
   ],
   "source": [
    "# Plot the RMSDs and discrete trajectory\n",
    "fig, rmsd_ax = plt.subplots(1,1)\n",
    "\n",
    "discrete_ax = rmsd_ax.twinx()\n",
    "\n",
    "discrete_ax.plot(discrete_trajectory[::50], color='k', label='Discrete')\n",
    "discrete_ax.set_ylabel('State')\n",
    "\n",
    "rmsd_ax.plot(rmsd[::rmsd_stride*50], color='gray', label='RMSD')\n",
    "rmsd_ax.set_ylabel('RMSD')\n",
    "\n",
    "\n",
    "rmsd_ax.set_zorder(10)\n",
    "rmsd_ax.patch.set_visible(False)\n",
    "\n",
    "fig.legend()\n",
    "fig.set_size_inches(12,4)"
   ]
  },
  {
   "cell_type": "markdown",
   "metadata": {},
   "source": [
    "### Stratified clustering"
   ]
  },
  {
   "cell_type": "markdown",
   "metadata": {},
   "source": [
    "Here, I want to divide up RMSD uniformly, and then cluster within each RMSD-bin."
   ]
  },
  {
   "cell_type": "code",
   "execution_count": 38,
   "metadata": {
    "execution": {
     "iopub.execute_input": "2022-02-22T17:05:09.896101Z",
     "iopub.status.busy": "2022-02-22T17:05:09.895883Z",
     "iopub.status.idle": "2022-02-22T17:05:09.903083Z",
     "shell.execute_reply": "2022-02-22T17:05:09.902318Z",
     "shell.execute_reply.started": "2022-02-22T17:05:09.896082Z"
    },
    "tags": []
   },
   "outputs": [
    {
     "data": {
      "text/plain": [
       "array([ 1.        ,  1.24489796,  1.48979592,  1.73469388,  1.97959184,\n",
       "        2.2244898 ,  2.46938776,  2.71428571,  2.95918367,  3.20408163,\n",
       "        3.44897959,  3.69387755,  3.93877551,  4.18367347,  4.42857143,\n",
       "        4.67346939,  4.91836735,  5.16326531,  5.40816327,  5.65306122,\n",
       "        5.89795918,  6.14285714,  6.3877551 ,  6.63265306,  6.87755102,\n",
       "        7.12244898,  7.36734694,  7.6122449 ,  7.85714286,  8.10204082,\n",
       "        8.34693878,  8.59183673,  8.83673469,  9.08163265,  9.32653061,\n",
       "        9.57142857,  9.81632653, 10.06122449, 10.30612245, 10.55102041,\n",
       "       10.79591837, 11.04081633, 11.28571429, 11.53061224, 11.7755102 ,\n",
       "       12.02040816, 12.26530612, 12.51020408, 12.75510204, 13.        ])"
      ]
     },
     "execution_count": 38,
     "metadata": {},
     "output_type": "execute_result"
    }
   ],
   "source": [
    "# Now, cluster within each of those.\n",
    "# clusters_per_strat = 10\n",
    "n_strat_bins = 50\n",
    "clusters_per_strat = n_clusters // n_strat_bins\n",
    "\n",
    "rmsd_bins = np.linspace(1, 13, n_strat_bins)\n",
    "rmsd_bins"
   ]
  },
  {
   "cell_type": "code",
   "execution_count": 51,
   "metadata": {
    "execution": {
     "iopub.execute_input": "2022-02-22T17:06:12.290559Z",
     "iopub.status.busy": "2022-02-22T17:06:12.290267Z",
     "iopub.status.idle": "2022-02-22T17:06:12.296187Z",
     "shell.execute_reply": "2022-02-22T17:06:12.295303Z",
     "shell.execute_reply.started": "2022-02-22T17:06:12.290528Z"
    },
    "tags": []
   },
   "outputs": [
    {
     "data": {
      "text/plain": [
       "((1044000,), (1044000, 10))"
      ]
     },
     "execution_count": 51,
     "metadata": {},
     "output_type": "execute_result"
    }
   ],
   "source": [
    "rmsd.shape, projection.shape"
   ]
  },
  {
   "cell_type": "code",
   "execution_count": 216,
   "metadata": {
    "execution": {
     "iopub.execute_input": "2022-02-23T21:14:15.441177Z",
     "iopub.status.busy": "2022-02-23T21:14:15.440447Z",
     "iopub.status.idle": "2022-02-23T21:14:15.879816Z",
     "shell.execute_reply": "2022-02-23T21:14:15.879252Z",
     "shell.execute_reply.started": "2022-02-23T21:14:15.441150Z"
    },
    "tags": []
   },
   "outputs": [
    {
     "data": {
      "text/plain": [
       "Text(0, 0.5, 'RMSD')"
      ]
     },
     "execution_count": 216,
     "metadata": {},
     "output_type": "execute_result"
    },
    {
     "data": {
      "image/png": "[encoded data removed]",
      "text/plain": [
       "<Figure size 864x288 with 1 Axes>"
      ]
     },
     "metadata": {},
     "output_type": "display_data"
    }
   ],
   "source": [
    "plt.plot(rmsd[::rmsd_stride])\n",
    "plt.gcf().set_size_inches(12,4)\n",
    "\n",
    "[plt.axhline(rmsd_bin, color='k') for rmsd_bin in rmsd_bins];\n",
    "plt.ylabel('RMSD')"
   ]
  },
  {
   "cell_type": "code",
   "execution_count": 41,
   "metadata": {
    "execution": {
     "iopub.execute_input": "2022-02-22T17:05:15.363615Z",
     "iopub.status.busy": "2022-02-22T17:05:15.363331Z",
     "iopub.status.idle": "2022-02-22T17:05:43.369890Z",
     "shell.execute_reply": "2022-02-22T17:05:43.368782Z",
     "shell.execute_reply.started": "2022-02-22T17:05:15.363584Z"
    },
    "pycharm": {
     "name": "#%%\n"
    },
    "scrolled": true,
    "tags": []
   },
   "outputs": [
    {
     "data": {
      "application/vnd.jupyter.widget-view+json": {
       "model_id": "1e787778612b445893843cd2d0632241",
       "version_major": 2,
       "version_minor": 0
      },
      "text/plain": [
       "  0%|          | 0/51 [00:00<?, ?it/s]"
      ]
     },
     "metadata": {},
     "output_type": "display_data"
    },
    {
     "data": {
      "application/vnd.jupyter.widget-view+json": {
       "model_id": "4140c88549ce41d894e3d1e2091830b6",
       "version_major": 2,
       "version_minor": 0
      },
      "text/plain": [
       "  0%|          | 0/20 [00:00<?, ?it/s]"
      ]
     },
     "metadata": {},
     "output_type": "display_data"
    },
    {
     "data": {
      "application/vnd.jupyter.widget-view+json": {
       "model_id": "e1980113c0cd49ad8946e30ff57ff34f",
       "version_major": 2,
       "version_minor": 0
      },
      "text/plain": [
       "  0%|          | 0/1000 [00:00<?, ?it/s]"
      ]
     },
     "metadata": {},
     "output_type": "display_data"
    },
    {
     "data": {
      "application/vnd.jupyter.widget-view+json": {
       "model_id": "aa6075cfcdec41189d314f3da26b122d",
       "version_major": 2,
       "version_minor": 0
      },
      "text/plain": [
       "  0%|          | 0/20 [00:00<?, ?it/s]"
      ]
     },
     "metadata": {},
     "output_type": "display_data"
    },
    {
     "data": {
      "application/vnd.jupyter.widget-view+json": {
       "model_id": "2894ed85ca314e238fac9879936a90d8",
       "version_major": 2,
       "version_minor": 0
      },
      "text/plain": [
       "  0%|          | 0/1000 [00:00<?, ?it/s]"
      ]
     },
     "metadata": {},
     "output_type": "display_data"
    },
    {
     "data": {
      "application/vnd.jupyter.widget-view+json": {
       "model_id": "3dd58d7a56a940478b786b2cf1278637",
       "version_major": 2,
       "version_minor": 0
      },
      "text/plain": [
       "  0%|          | 0/20 [00:00<?, ?it/s]"
      ]
     },
     "metadata": {},
     "output_type": "display_data"
    },
    {
     "data": {
      "application/vnd.jupyter.widget-view+json": {
       "model_id": "5bc0a0e7686c48309d966e355a9325c8",
       "version_major": 2,
       "version_minor": 0
      },
      "text/plain": [
       "  0%|          | 0/1000 [00:00<?, ?it/s]"
      ]
     },
     "metadata": {},
     "output_type": "display_data"
    },
    {
     "data": {
      "application/vnd.jupyter.widget-view+json": {
       "model_id": "dc21240d354e489d8ee787711ce0fa72",
       "version_major": 2,
       "version_minor": 0
      },
      "text/plain": [
       "  0%|          | 0/20 [00:00<?, ?it/s]"
      ]
     },
     "metadata": {},
     "output_type": "display_data"
    },
    {
     "data": {
      "application/vnd.jupyter.widget-view+json": {
       "model_id": "c1272257523647788b55229f6ed1d216",
       "version_major": 2,
       "version_minor": 0
      },
      "text/plain": [
       "  0%|          | 0/1000 [00:00<?, ?it/s]"
      ]
     },
     "metadata": {},
     "output_type": "display_data"
    },
    {
     "data": {
      "application/vnd.jupyter.widget-view+json": {
       "model_id": "d36033485f8b486c9ef31be83d24175a",
       "version_major": 2,
       "version_minor": 0
      },
      "text/plain": [
       "  0%|          | 0/20 [00:00<?, ?it/s]"
      ]
     },
     "metadata": {},
     "output_type": "display_data"
    },
    {
     "data": {
      "application/vnd.jupyter.widget-view+json": {
       "model_id": "07153ec68c544bc2898dbfb23de26468",
       "version_major": 2,
       "version_minor": 0
      },
      "text/plain": [
       "  0%|          | 0/1000 [00:00<?, ?it/s]"
      ]
     },
     "metadata": {},
     "output_type": "display_data"
    },
    {
     "data": {
      "application/vnd.jupyter.widget-view+json": {
       "model_id": "50397b77bcd54545a65081e24198107f",
       "version_major": 2,
       "version_minor": 0
      },
      "text/plain": [
       "  0%|          | 0/20 [00:00<?, ?it/s]"
      ]
     },
     "metadata": {},
     "output_type": "display_data"
    },
    {
     "data": {
      "application/vnd.jupyter.widget-view+json": {
       "model_id": "7c1688ee53b542168a97c0dc86ef48e7",
       "version_major": 2,
       "version_minor": 0
      },
      "text/plain": [
       "  0%|          | 0/1000 [00:00<?, ?it/s]"
      ]
     },
     "metadata": {},
     "output_type": "display_data"
    },
    {
     "data": {
      "application/vnd.jupyter.widget-view+json": {
       "model_id": "085707d3958a401ebbede1be6ff26a1e",
       "version_major": 2,
       "version_minor": 0
      },
      "text/plain": [
       "  0%|          | 0/20 [00:00<?, ?it/s]"
      ]
     },
     "metadata": {},
     "output_type": "display_data"
    },
    {
     "data": {
      "application/vnd.jupyter.widget-view+json": {
       "model_id": "30af11c02072437d96524de3c87bf688",
       "version_major": 2,
       "version_minor": 0
      },
      "text/plain": [
       "  0%|          | 0/1000 [00:00<?, ?it/s]"
      ]
     },
     "metadata": {},
     "output_type": "display_data"
    },
    {
     "data": {
      "application/vnd.jupyter.widget-view+json": {
       "model_id": "af3acd83965744489c0eb7f8f2ccd445",
       "version_major": 2,
       "version_minor": 0
      },
      "text/plain": [
       "  0%|          | 0/20 [00:00<?, ?it/s]"
      ]
     },
     "metadata": {},
     "output_type": "display_data"
    },
    {
     "data": {
      "application/vnd.jupyter.widget-view+json": {
       "model_id": "77aead827828460a986c1f88b692c60a",
       "version_major": 2,
       "version_minor": 0
      },
      "text/plain": [
       "  0%|          | 0/1000 [00:00<?, ?it/s]"
      ]
     },
     "metadata": {},
     "output_type": "display_data"
    },
    {
     "data": {
      "application/vnd.jupyter.widget-view+json": {
       "model_id": "f0299b8e0035419ea7e893e6c7ce0141",
       "version_major": 2,
       "version_minor": 0
      },
      "text/plain": [
       "  0%|          | 0/20 [00:00<?, ?it/s]"
      ]
     },
     "metadata": {},
     "output_type": "display_data"
    },
    {
     "data": {
      "application/vnd.jupyter.widget-view+json": {
       "model_id": "64ec361dc4c746598f081877d2db0959",
       "version_major": 2,
       "version_minor": 0
      },
      "text/plain": [
       "  0%|          | 0/1000 [00:00<?, ?it/s]"
      ]
     },
     "metadata": {},
     "output_type": "display_data"
    },
    {
     "data": {
      "application/vnd.jupyter.widget-view+json": {
       "model_id": "83edb7c41d5e410fbd49785a2bed40ed",
       "version_major": 2,
       "version_minor": 0
      },
      "text/plain": [
       "  0%|          | 0/20 [00:00<?, ?it/s]"
      ]
     },
     "metadata": {},
     "output_type": "display_data"
    },
    {
     "data": {
      "application/vnd.jupyter.widget-view+json": {
       "model_id": "42b80ef023d6437099ccb65a9efa0f67",
       "version_major": 2,
       "version_minor": 0
      },
      "text/plain": [
       "  0%|          | 0/1000 [00:00<?, ?it/s]"
      ]
     },
     "metadata": {},
     "output_type": "display_data"
    },
    {
     "data": {
      "application/vnd.jupyter.widget-view+json": {
       "model_id": "f2235189315242a4ab20fb954c685a64",
       "version_major": 2,
       "version_minor": 0
      },
      "text/plain": [
       "  0%|          | 0/20 [00:00<?, ?it/s]"
      ]
     },
     "metadata": {},
     "output_type": "display_data"
    },
    {
     "data": {
      "application/vnd.jupyter.widget-view+json": {
       "model_id": "903909a57656411399bcbefe578c1d21",
       "version_major": 2,
       "version_minor": 0
      },
      "text/plain": [
       "  0%|          | 0/1000 [00:00<?, ?it/s]"
      ]
     },
     "metadata": {},
     "output_type": "display_data"
    },
    {
     "data": {
      "application/vnd.jupyter.widget-view+json": {
       "model_id": "b0c3038fd5b742dd883f5f3847be30ed",
       "version_major": 2,
       "version_minor": 0
      },
      "text/plain": [
       "  0%|          | 0/20 [00:00<?, ?it/s]"
      ]
     },
     "metadata": {},
     "output_type": "display_data"
    },
    {
     "data": {
      "application/vnd.jupyter.widget-view+json": {
       "model_id": "14d80d9c22cb4a74a8120f04b61779dc",
       "version_major": 2,
       "version_minor": 0
      },
      "text/plain": [
       "  0%|          | 0/1000 [00:00<?, ?it/s]"
      ]
     },
     "metadata": {},
     "output_type": "display_data"
    },
    {
     "data": {
      "application/vnd.jupyter.widget-view+json": {
       "model_id": "70ff3338360c4ebc80e3e935d505173b",
       "version_major": 2,
       "version_minor": 0
      },
      "text/plain": [
       "  0%|          | 0/20 [00:00<?, ?it/s]"
      ]
     },
     "metadata": {},
     "output_type": "display_data"
    },
    {
     "data": {
      "application/vnd.jupyter.widget-view+json": {
       "model_id": "f4cfcb8455a04c89a96b079fdde4084d",
       "version_major": 2,
       "version_minor": 0
      },
      "text/plain": [
       "  0%|          | 0/1000 [00:00<?, ?it/s]"
      ]
     },
     "metadata": {},
     "output_type": "display_data"
    },
    {
     "data": {
      "application/vnd.jupyter.widget-view+json": {
       "model_id": "a598e70018924c95aa4301be44a7062f",
       "version_major": 2,
       "version_minor": 0
      },
      "text/plain": [
       "  0%|          | 0/20 [00:00<?, ?it/s]"
      ]
     },
     "metadata": {},
     "output_type": "display_data"
    },
    {
     "data": {
      "application/vnd.jupyter.widget-view+json": {
       "model_id": "f510fb3424e34f7098fbfbcfd7db5031",
       "version_major": 2,
       "version_minor": 0
      },
      "text/plain": [
       "  0%|          | 0/1000 [00:00<?, ?it/s]"
      ]
     },
     "metadata": {},
     "output_type": "display_data"
    },
    {
     "data": {
      "application/vnd.jupyter.widget-view+json": {
       "model_id": "e36cf81ba6ec49b5a8e968a0ceb408ba",
       "version_major": 2,
       "version_minor": 0
      },
      "text/plain": [
       "  0%|          | 0/20 [00:00<?, ?it/s]"
      ]
     },
     "metadata": {},
     "output_type": "display_data"
    },
    {
     "data": {
      "application/vnd.jupyter.widget-view+json": {
       "model_id": "754c4fdb69ef492f87eb5fecfccca8cd",
       "version_major": 2,
       "version_minor": 0
      },
      "text/plain": [
       "  0%|          | 0/1000 [00:00<?, ?it/s]"
      ]
     },
     "metadata": {},
     "output_type": "display_data"
    },
    {
     "data": {
      "application/vnd.jupyter.widget-view+json": {
       "model_id": "cfbed3e106c5459086176e93cdc86352",
       "version_major": 2,
       "version_minor": 0
      },
      "text/plain": [
       "  0%|          | 0/20 [00:00<?, ?it/s]"
      ]
     },
     "metadata": {},
     "output_type": "display_data"
    },
    {
     "data": {
      "application/vnd.jupyter.widget-view+json": {
       "model_id": "3244e0afb58f4d73805e2b605e20babb",
       "version_major": 2,
       "version_minor": 0
      },
      "text/plain": [
       "  0%|          | 0/1000 [00:00<?, ?it/s]"
      ]
     },
     "metadata": {},
     "output_type": "display_data"
    },
    {
     "data": {
      "application/vnd.jupyter.widget-view+json": {
       "model_id": "93becea171394cc983ebbc0b37d30de4",
       "version_major": 2,
       "version_minor": 0
      },
      "text/plain": [
       "  0%|          | 0/20 [00:00<?, ?it/s]"
      ]
     },
     "metadata": {},
     "output_type": "display_data"
    },
    {
     "data": {
      "application/vnd.jupyter.widget-view+json": {
       "model_id": "9fda6025ef0847be84582c1b2acba3d9",
       "version_major": 2,
       "version_minor": 0
      },
      "text/plain": [
       "  0%|          | 0/1000 [00:00<?, ?it/s]"
      ]
     },
     "metadata": {},
     "output_type": "display_data"
    },
    {
     "data": {
      "application/vnd.jupyter.widget-view+json": {
       "model_id": "4230d576e11b4dff9c4068e8a1e96672",
       "version_major": 2,
       "version_minor": 0
      },
      "text/plain": [
       "  0%|          | 0/20 [00:00<?, ?it/s]"
      ]
     },
     "metadata": {},
     "output_type": "display_data"
    },
    {
     "data": {
      "application/vnd.jupyter.widget-view+json": {
       "model_id": "3bdb63e1db2740518cd0fca5916185b2",
       "version_major": 2,
       "version_minor": 0
      },
      "text/plain": [
       "  0%|          | 0/1000 [00:00<?, ?it/s]"
      ]
     },
     "metadata": {},
     "output_type": "display_data"
    },
    {
     "data": {
      "application/vnd.jupyter.widget-view+json": {
       "model_id": "5a15173909b2457d9f423deadd49d84c",
       "version_major": 2,
       "version_minor": 0
      },
      "text/plain": [
       "  0%|          | 0/20 [00:00<?, ?it/s]"
      ]
     },
     "metadata": {},
     "output_type": "display_data"
    },
    {
     "data": {
      "application/vnd.jupyter.widget-view+json": {
       "model_id": "09b62166f2404da8940f67e1b6652d47",
       "version_major": 2,
       "version_minor": 0
      },
      "text/plain": [
       "  0%|          | 0/1000 [00:00<?, ?it/s]"
      ]
     },
     "metadata": {},
     "output_type": "display_data"
    },
    {
     "data": {
      "application/vnd.jupyter.widget-view+json": {
       "model_id": "2e21c429b8294a9db15211179834b11d",
       "version_major": 2,
       "version_minor": 0
      },
      "text/plain": [
       "  0%|          | 0/20 [00:00<?, ?it/s]"
      ]
     },
     "metadata": {},
     "output_type": "display_data"
    },
    {
     "data": {
      "application/vnd.jupyter.widget-view+json": {
       "model_id": "359ac432c0a942a5a682b249a0677790",
       "version_major": 2,
       "version_minor": 0
      },
      "text/plain": [
       "  0%|          | 0/1000 [00:00<?, ?it/s]"
      ]
     },
     "metadata": {},
     "output_type": "display_data"
    },
    {
     "data": {
      "application/vnd.jupyter.widget-view+json": {
       "model_id": "472de20cffe74bcd82a9d965e386c8ad",
       "version_major": 2,
       "version_minor": 0
      },
      "text/plain": [
       "  0%|          | 0/20 [00:00<?, ?it/s]"
      ]
     },
     "metadata": {},
     "output_type": "display_data"
    },
    {
     "data": {
      "application/vnd.jupyter.widget-view+json": {
       "model_id": "bb225e2677664966bae18be17ffff134",
       "version_major": 2,
       "version_minor": 0
      },
      "text/plain": [
       "  0%|          | 0/1000 [00:00<?, ?it/s]"
      ]
     },
     "metadata": {},
     "output_type": "display_data"
    },
    {
     "data": {
      "application/vnd.jupyter.widget-view+json": {
       "model_id": "3b78628a9feb46b3836ad8491c8e5cc9",
       "version_major": 2,
       "version_minor": 0
      },
      "text/plain": [
       "  0%|          | 0/20 [00:00<?, ?it/s]"
      ]
     },
     "metadata": {},
     "output_type": "display_data"
    },
    {
     "data": {
      "application/vnd.jupyter.widget-view+json": {
       "model_id": "73411826b1074196b898e0af30c817fd",
       "version_major": 2,
       "version_minor": 0
      },
      "text/plain": [
       "  0%|          | 0/1000 [00:00<?, ?it/s]"
      ]
     },
     "metadata": {},
     "output_type": "display_data"
    },
    {
     "data": {
      "application/vnd.jupyter.widget-view+json": {
       "model_id": "d30124d1706e4234a688c05cd12faed3",
       "version_major": 2,
       "version_minor": 0
      },
      "text/plain": [
       "  0%|          | 0/20 [00:00<?, ?it/s]"
      ]
     },
     "metadata": {},
     "output_type": "display_data"
    },
    {
     "data": {
      "application/vnd.jupyter.widget-view+json": {
       "model_id": "e4cf2db8ab504a6fb4c07ffddba18603",
       "version_major": 2,
       "version_minor": 0
      },
      "text/plain": [
       "  0%|          | 0/1000 [00:00<?, ?it/s]"
      ]
     },
     "metadata": {},
     "output_type": "display_data"
    },
    {
     "data": {
      "application/vnd.jupyter.widget-view+json": {
       "model_id": "5b12e20c641b490486a8e323066c47ba",
       "version_major": 2,
       "version_minor": 0
      },
      "text/plain": [
       "  0%|          | 0/20 [00:00<?, ?it/s]"
      ]
     },
     "metadata": {},
     "output_type": "display_data"
    },
    {
     "data": {
      "application/vnd.jupyter.widget-view+json": {
       "model_id": "a9ecf1d9ee66401f8393c5a22b4c6e93",
       "version_major": 2,
       "version_minor": 0
      },
      "text/plain": [
       "  0%|          | 0/1000 [00:00<?, ?it/s]"
      ]
     },
     "metadata": {},
     "output_type": "display_data"
    },
    {
     "data": {
      "application/vnd.jupyter.widget-view+json": {
       "model_id": "6441b257d5c94ddfaca8e04e5408d432",
       "version_major": 2,
       "version_minor": 0
      },
      "text/plain": [
       "  0%|          | 0/20 [00:00<?, ?it/s]"
      ]
     },
     "metadata": {},
     "output_type": "display_data"
    },
    {
     "data": {
      "application/vnd.jupyter.widget-view+json": {
       "model_id": "480437f321814c5a824e84027c466020",
       "version_major": 2,
       "version_minor": 0
      },
      "text/plain": [
       "  0%|          | 0/1000 [00:00<?, ?it/s]"
      ]
     },
     "metadata": {},
     "output_type": "display_data"
    },
    {
     "data": {
      "application/vnd.jupyter.widget-view+json": {
       "model_id": "1cd679761d0343709ec46c7335c46986",
       "version_major": 2,
       "version_minor": 0
      },
      "text/plain": [
       "  0%|          | 0/20 [00:00<?, ?it/s]"
      ]
     },
     "metadata": {},
     "output_type": "display_data"
    },
    {
     "data": {
      "application/vnd.jupyter.widget-view+json": {
       "model_id": "e6dfe47088a64b77b0197d1d9df3bea5",
       "version_major": 2,
       "version_minor": 0
      },
      "text/plain": [
       "  0%|          | 0/1000 [00:00<?, ?it/s]"
      ]
     },
     "metadata": {},
     "output_type": "display_data"
    },
    {
     "data": {
      "application/vnd.jupyter.widget-view+json": {
       "model_id": "35420fc1595647168e81991021fa7155",
       "version_major": 2,
       "version_minor": 0
      },
      "text/plain": [
       "  0%|          | 0/20 [00:00<?, ?it/s]"
      ]
     },
     "metadata": {},
     "output_type": "display_data"
    },
    {
     "data": {
      "application/vnd.jupyter.widget-view+json": {
       "model_id": "940d5c0b405045df8781a0a6c8828476",
       "version_major": 2,
       "version_minor": 0
      },
      "text/plain": [
       "  0%|          | 0/1000 [00:00<?, ?it/s]"
      ]
     },
     "metadata": {},
     "output_type": "display_data"
    },
    {
     "data": {
      "application/vnd.jupyter.widget-view+json": {
       "model_id": "f302aba1bca14092acffbe90d0771e6e",
       "version_major": 2,
       "version_minor": 0
      },
      "text/plain": [
       "  0%|          | 0/20 [00:00<?, ?it/s]"
      ]
     },
     "metadata": {},
     "output_type": "display_data"
    },
    {
     "data": {
      "application/vnd.jupyter.widget-view+json": {
       "model_id": "38bd1503d48444b3aa202981e0325115",
       "version_major": 2,
       "version_minor": 0
      },
      "text/plain": [
       "  0%|          | 0/1000 [00:00<?, ?it/s]"
      ]
     },
     "metadata": {},
     "output_type": "display_data"
    },
    {
     "data": {
      "application/vnd.jupyter.widget-view+json": {
       "model_id": "9db7d5c6a700494e93039453e0730615",
       "version_major": 2,
       "version_minor": 0
      },
      "text/plain": [
       "  0%|          | 0/20 [00:00<?, ?it/s]"
      ]
     },
     "metadata": {},
     "output_type": "display_data"
    },
    {
     "data": {
      "application/vnd.jupyter.widget-view+json": {
       "model_id": "888e0bedc63143439ea2c94c18f5b2bb",
       "version_major": 2,
       "version_minor": 0
      },
      "text/plain": [
       "  0%|          | 0/1000 [00:00<?, ?it/s]"
      ]
     },
     "metadata": {},
     "output_type": "display_data"
    },
    {
     "data": {
      "application/vnd.jupyter.widget-view+json": {
       "model_id": "d14ac0e57cff451d86cfdab373e932cb",
       "version_major": 2,
       "version_minor": 0
      },
      "text/plain": [
       "  0%|          | 0/20 [00:00<?, ?it/s]"
      ]
     },
     "metadata": {},
     "output_type": "display_data"
    },
    {
     "data": {
      "application/vnd.jupyter.widget-view+json": {
       "model_id": "edf5c2521ca34393a9f33262f1d8d6d8",
       "version_major": 2,
       "version_minor": 0
      },
      "text/plain": [
       "  0%|          | 0/1000 [00:00<?, ?it/s]"
      ]
     },
     "metadata": {},
     "output_type": "display_data"
    },
    {
     "data": {
      "application/vnd.jupyter.widget-view+json": {
       "model_id": "49d461717590443eb631ee1d8e7cdea5",
       "version_major": 2,
       "version_minor": 0
      },
      "text/plain": [
       "  0%|          | 0/20 [00:00<?, ?it/s]"
      ]
     },
     "metadata": {},
     "output_type": "display_data"
    },
    {
     "data": {
      "application/vnd.jupyter.widget-view+json": {
       "model_id": "11c1a15dc4504a60992ee40bdd0991fa",
       "version_major": 2,
       "version_minor": 0
      },
      "text/plain": [
       "  0%|          | 0/1000 [00:00<?, ?it/s]"
      ]
     },
     "metadata": {},
     "output_type": "display_data"
    },
    {
     "data": {
      "application/vnd.jupyter.widget-view+json": {
       "model_id": "ea5348715abf4bdbaf7b1dddf83e238d",
       "version_major": 2,
       "version_minor": 0
      },
      "text/plain": [
       "  0%|          | 0/20 [00:00<?, ?it/s]"
      ]
     },
     "metadata": {},
     "output_type": "display_data"
    },
    {
     "data": {
      "application/vnd.jupyter.widget-view+json": {
       "model_id": "978a1e476c6c4c8b85d7ed289d163d5f",
       "version_major": 2,
       "version_minor": 0
      },
      "text/plain": [
       "  0%|          | 0/1000 [00:00<?, ?it/s]"
      ]
     },
     "metadata": {},
     "output_type": "display_data"
    },
    {
     "data": {
      "application/vnd.jupyter.widget-view+json": {
       "model_id": "99caf06de75d40d08d69b7285a23fdb8",
       "version_major": 2,
       "version_minor": 0
      },
      "text/plain": [
       "  0%|          | 0/20 [00:00<?, ?it/s]"
      ]
     },
     "metadata": {},
     "output_type": "display_data"
    },
    {
     "data": {
      "application/vnd.jupyter.widget-view+json": {
       "model_id": "7f3037a566224bdc93193c373c8363d3",
       "version_major": 2,
       "version_minor": 0
      },
      "text/plain": [
       "  0%|          | 0/1000 [00:00<?, ?it/s]"
      ]
     },
     "metadata": {},
     "output_type": "display_data"
    },
    {
     "data": {
      "application/vnd.jupyter.widget-view+json": {
       "model_id": "01c838b58fe048edb095e65c56d173d7",
       "version_major": 2,
       "version_minor": 0
      },
      "text/plain": [
       "  0%|          | 0/20 [00:00<?, ?it/s]"
      ]
     },
     "metadata": {},
     "output_type": "display_data"
    },
    {
     "data": {
      "application/vnd.jupyter.widget-view+json": {
       "model_id": "9b9421c0ba1a4639879bcde88dda1e8d",
       "version_major": 2,
       "version_minor": 0
      },
      "text/plain": [
       "  0%|          | 0/1000 [00:00<?, ?it/s]"
      ]
     },
     "metadata": {},
     "output_type": "display_data"
    },
    {
     "data": {
      "application/vnd.jupyter.widget-view+json": {
       "model_id": "c02c4f8859d94d7d943b2272014a6e99",
       "version_major": 2,
       "version_minor": 0
      },
      "text/plain": [
       "  0%|          | 0/20 [00:00<?, ?it/s]"
      ]
     },
     "metadata": {},
     "output_type": "display_data"
    },
    {
     "data": {
      "application/vnd.jupyter.widget-view+json": {
       "model_id": "9408a9996d184b949cf6150dca07375c",
       "version_major": 2,
       "version_minor": 0
      },
      "text/plain": [
       "  0%|          | 0/1000 [00:00<?, ?it/s]"
      ]
     },
     "metadata": {},
     "output_type": "display_data"
    },
    {
     "data": {
      "application/vnd.jupyter.widget-view+json": {
       "model_id": "7339f432b4664a24a3f5dc5ac9de8f7d",
       "version_major": 2,
       "version_minor": 0
      },
      "text/plain": [
       "  0%|          | 0/20 [00:00<?, ?it/s]"
      ]
     },
     "metadata": {},
     "output_type": "display_data"
    },
    {
     "data": {
      "application/vnd.jupyter.widget-view+json": {
       "model_id": "110f2eade1334aa086064c8919796eeb",
       "version_major": 2,
       "version_minor": 0
      },
      "text/plain": [
       "  0%|          | 0/1000 [00:00<?, ?it/s]"
      ]
     },
     "metadata": {},
     "output_type": "display_data"
    },
    {
     "data": {
      "application/vnd.jupyter.widget-view+json": {
       "model_id": "082aa6e995cc431fb19027124e6c9c47",
       "version_major": 2,
       "version_minor": 0
      },
      "text/plain": [
       "  0%|          | 0/20 [00:00<?, ?it/s]"
      ]
     },
     "metadata": {},
     "output_type": "display_data"
    },
    {
     "data": {
      "application/vnd.jupyter.widget-view+json": {
       "model_id": "43f6b74f9a2b461f91acc2db0cbd3548",
       "version_major": 2,
       "version_minor": 0
      },
      "text/plain": [
       "  0%|          | 0/1000 [00:00<?, ?it/s]"
      ]
     },
     "metadata": {},
     "output_type": "display_data"
    },
    {
     "data": {
      "application/vnd.jupyter.widget-view+json": {
       "model_id": "c64193a79dfb4d039373568a81ee16bf",
       "version_major": 2,
       "version_minor": 0
      },
      "text/plain": [
       "  0%|          | 0/20 [00:00<?, ?it/s]"
      ]
     },
     "metadata": {},
     "output_type": "display_data"
    },
    {
     "data": {
      "application/vnd.jupyter.widget-view+json": {
       "model_id": "921846f2dae842f49b77db05752feef7",
       "version_major": 2,
       "version_minor": 0
      },
      "text/plain": [
       "  0%|          | 0/1000 [00:00<?, ?it/s]"
      ]
     },
     "metadata": {},
     "output_type": "display_data"
    },
    {
     "data": {
      "application/vnd.jupyter.widget-view+json": {
       "model_id": "1c1be0ea235a4335b96c780c147d2cd9",
       "version_major": 2,
       "version_minor": 0
      },
      "text/plain": [
       "  0%|          | 0/20 [00:00<?, ?it/s]"
      ]
     },
     "metadata": {},
     "output_type": "display_data"
    },
    {
     "data": {
      "application/vnd.jupyter.widget-view+json": {
       "model_id": "c572a78c788449689935ffeae24fbca9",
       "version_major": 2,
       "version_minor": 0
      },
      "text/plain": [
       "  0%|          | 0/1000 [00:00<?, ?it/s]"
      ]
     },
     "metadata": {},
     "output_type": "display_data"
    },
    {
     "data": {
      "application/vnd.jupyter.widget-view+json": {
       "model_id": "0216502daa524eaeb6e6c3387bb2716e",
       "version_major": 2,
       "version_minor": 0
      },
      "text/plain": [
       "  0%|          | 0/20 [00:00<?, ?it/s]"
      ]
     },
     "metadata": {},
     "output_type": "display_data"
    },
    {
     "data": {
      "application/vnd.jupyter.widget-view+json": {
       "model_id": "b45cea53a25742439e9f75722f2754cb",
       "version_major": 2,
       "version_minor": 0
      },
      "text/plain": [
       "  0%|          | 0/1000 [00:00<?, ?it/s]"
      ]
     },
     "metadata": {},
     "output_type": "display_data"
    },
    {
     "data": {
      "application/vnd.jupyter.widget-view+json": {
       "model_id": "e67913212e68403ab37fe42f78e45d63",
       "version_major": 2,
       "version_minor": 0
      },
      "text/plain": [
       "  0%|          | 0/20 [00:00<?, ?it/s]"
      ]
     },
     "metadata": {},
     "output_type": "display_data"
    },
    {
     "data": {
      "application/vnd.jupyter.widget-view+json": {
       "model_id": "5f8b2f4d877842869718393e63f0a161",
       "version_major": 2,
       "version_minor": 0
      },
      "text/plain": [
       "  0%|          | 0/1000 [00:00<?, ?it/s]"
      ]
     },
     "metadata": {},
     "output_type": "display_data"
    },
    {
     "data": {
      "application/vnd.jupyter.widget-view+json": {
       "model_id": "7426e982aec944f4a89370dae21dced5",
       "version_major": 2,
       "version_minor": 0
      },
      "text/plain": [
       "  0%|          | 0/20 [00:00<?, ?it/s]"
      ]
     },
     "metadata": {},
     "output_type": "display_data"
    },
    {
     "data": {
      "application/vnd.jupyter.widget-view+json": {
       "model_id": "dda2b6c5d20b42f5a4ba100268dbf4a8",
       "version_major": 2,
       "version_minor": 0
      },
      "text/plain": [
       "  0%|          | 0/1000 [00:00<?, ?it/s]"
      ]
     },
     "metadata": {},
     "output_type": "display_data"
    },
    {
     "data": {
      "application/vnd.jupyter.widget-view+json": {
       "model_id": "a82e9d53d57b4ccfb45cfbc972e46e47",
       "version_major": 2,
       "version_minor": 0
      },
      "text/plain": [
       "  0%|          | 0/20 [00:00<?, ?it/s]"
      ]
     },
     "metadata": {},
     "output_type": "display_data"
    },
    {
     "data": {
      "application/vnd.jupyter.widget-view+json": {
       "model_id": "097035d65981470dbeda80c9c55fd68f",
       "version_major": 2,
       "version_minor": 0
      },
      "text/plain": [
       "  0%|          | 0/1000 [00:00<?, ?it/s]"
      ]
     },
     "metadata": {},
     "output_type": "display_data"
    },
    {
     "data": {
      "application/vnd.jupyter.widget-view+json": {
       "model_id": "8f9ec795c6ce404cb2ad37c367d452cd",
       "version_major": 2,
       "version_minor": 0
      },
      "text/plain": [
       "  0%|          | 0/20 [00:00<?, ?it/s]"
      ]
     },
     "metadata": {},
     "output_type": "display_data"
    },
    {
     "data": {
      "application/vnd.jupyter.widget-view+json": {
       "model_id": "a7794438034e4fcfa31ef3b6ffaf453c",
       "version_major": 2,
       "version_minor": 0
      },
      "text/plain": [
       "  0%|          | 0/1000 [00:00<?, ?it/s]"
      ]
     },
     "metadata": {},
     "output_type": "display_data"
    },
    {
     "data": {
      "application/vnd.jupyter.widget-view+json": {
       "model_id": "c952e7f44b7b4e5caa4c63459abc499c",
       "version_major": 2,
       "version_minor": 0
      },
      "text/plain": [
       "  0%|          | 0/20 [00:00<?, ?it/s]"
      ]
     },
     "metadata": {},
     "output_type": "display_data"
    },
    {
     "data": {
      "application/vnd.jupyter.widget-view+json": {
       "model_id": "34bc2be9d10840f0a1d2a6fd7d850d49",
       "version_major": 2,
       "version_minor": 0
      },
      "text/plain": [
       "  0%|          | 0/1000 [00:00<?, ?it/s]"
      ]
     },
     "metadata": {},
     "output_type": "display_data"
    },
    {
     "data": {
      "application/vnd.jupyter.widget-view+json": {
       "model_id": "f8a74daf4e7f4a6a9c6e41dcf4aa7cca",
       "version_major": 2,
       "version_minor": 0
      },
      "text/plain": [
       "  0%|          | 0/20 [00:00<?, ?it/s]"
      ]
     },
     "metadata": {},
     "output_type": "display_data"
    },
    {
     "data": {
      "application/vnd.jupyter.widget-view+json": {
       "model_id": "b9c08755d0d343cba7216f86533a567b",
       "version_major": 2,
       "version_minor": 0
      },
      "text/plain": [
       "  0%|          | 0/1000 [00:00<?, ?it/s]"
      ]
     },
     "metadata": {},
     "output_type": "display_data"
    },
    {
     "data": {
      "application/vnd.jupyter.widget-view+json": {
       "model_id": "df878f11c384477087df6782d9608605",
       "version_major": 2,
       "version_minor": 0
      },
      "text/plain": [
       "  0%|          | 0/20 [00:00<?, ?it/s]"
      ]
     },
     "metadata": {},
     "output_type": "display_data"
    },
    {
     "data": {
      "application/vnd.jupyter.widget-view+json": {
       "model_id": "cd61c4e80a014ab9b9f2ab26ceb97e23",
       "version_major": 2,
       "version_minor": 0
      },
      "text/plain": [
       "  0%|          | 0/1000 [00:00<?, ?it/s]"
      ]
     },
     "metadata": {},
     "output_type": "display_data"
    },
    {
     "data": {
      "application/vnd.jupyter.widget-view+json": {
       "model_id": "e9d152a5c2514f268e03971b857b28f0",
       "version_major": 2,
       "version_minor": 0
      },
      "text/plain": [
       "  0%|          | 0/20 [00:00<?, ?it/s]"
      ]
     },
     "metadata": {},
     "output_type": "display_data"
    },
    {
     "data": {
      "application/vnd.jupyter.widget-view+json": {
       "model_id": "e726d9eacee349cd8e2de93ab7c1d314",
       "version_major": 2,
       "version_minor": 0
      },
      "text/plain": [
       "  0%|          | 0/1000 [00:00<?, ?it/s]"
      ]
     },
     "metadata": {},
     "output_type": "display_data"
    },
    {
     "data": {
      "application/vnd.jupyter.widget-view+json": {
       "model_id": "b902adf12d27479fb989d4b4f6a6af41",
       "version_major": 2,
       "version_minor": 0
      },
      "text/plain": [
       "  0%|          | 0/20 [00:00<?, ?it/s]"
      ]
     },
     "metadata": {},
     "output_type": "display_data"
    },
    {
     "data": {
      "application/vnd.jupyter.widget-view+json": {
       "model_id": "d573a3c088444b3ab9e5d23456084db9",
       "version_major": 2,
       "version_minor": 0
      },
      "text/plain": [
       "  0%|          | 0/1000 [00:00<?, ?it/s]"
      ]
     },
     "metadata": {},
     "output_type": "display_data"
    },
    {
     "data": {
      "application/vnd.jupyter.widget-view+json": {
       "model_id": "fb67d0d6cac948e8bb0d495424d89b6a",
       "version_major": 2,
       "version_minor": 0
      },
      "text/plain": [
       "  0%|          | 0/20 [00:00<?, ?it/s]"
      ]
     },
     "metadata": {},
     "output_type": "display_data"
    },
    {
     "data": {
      "application/vnd.jupyter.widget-view+json": {
       "model_id": "53252e4fa1374a2d92fb192cf9a3897b",
       "version_major": 2,
       "version_minor": 0
      },
      "text/plain": [
       "  0%|          | 0/1000 [00:00<?, ?it/s]"
      ]
     },
     "metadata": {},
     "output_type": "display_data"
    },
    {
     "data": {
      "application/vnd.jupyter.widget-view+json": {
       "model_id": "9111add0a3d04a9ebabcc84697ea5c6a",
       "version_major": 2,
       "version_minor": 0
      },
      "text/plain": [
       "  0%|          | 0/20 [00:00<?, ?it/s]"
      ]
     },
     "metadata": {},
     "output_type": "display_data"
    },
    {
     "data": {
      "application/vnd.jupyter.widget-view+json": {
       "model_id": "31b9c1a58a014affb8aaacc871da393e",
       "version_major": 2,
       "version_minor": 0
      },
      "text/plain": [
       "  0%|          | 0/1000 [00:00<?, ?it/s]"
      ]
     },
     "metadata": {},
     "output_type": "display_data"
    }
   ],
   "source": [
    "bin_boundaries = np.concatenate([[-np.inf], rmsd_bins, [np.inf]])\n",
    "\n",
    "all_clusters = []\n",
    "\n",
    "for bin_lower, bin_upper in tqdm.tqdm(zip(bin_boundaries[:-1], bin_boundaries[1:]), total=len(bin_boundaries)-1):\n",
    "\n",
    "    kmeans_estimator = KMeans(\n",
    "        n_clusters=clusters_per_strat,\n",
    "        max_iter=1000,\n",
    "        fixed_seed=1337,\n",
    "        n_jobs=4,\n",
    "        progress=tqdm.tqdm\n",
    "    )\n",
    "    \n",
    "    # Get the points in this bin\n",
    "    points_in_bin = np.argwhere((rmsd[::rmsd_stride] >= bin_lower) & (rmsd[::rmsd_stride] < bin_upper)).flatten()\n",
    "    \n",
    "    clustering = kmeans_estimator.fit(projection[points_in_bin]).fetch_model()\n",
    "    \n",
    "    all_clusters.append(copy.deepcopy(clustering))"
   ]
  },
  {
   "cell_type": "code",
   "execution_count": 42,
   "metadata": {
    "execution": {
     "iopub.execute_input": "2022-02-22T17:05:43.372673Z",
     "iopub.status.busy": "2022-02-22T17:05:43.372340Z",
     "iopub.status.idle": "2022-02-22T17:05:43.378298Z",
     "shell.execute_reply": "2022-02-22T17:05:43.377387Z",
     "shell.execute_reply.started": "2022-02-22T17:05:43.372651Z"
    },
    "tags": []
   },
   "outputs": [],
   "source": [
    "combined_kmeans_centers = np.concatenate([x._cluster_centers for x in all_clusters])\n",
    "\n",
    "all_cluster = KMeansModel(combined_kmeans_centers, metric='euclidean')"
   ]
  },
  {
   "cell_type": "code",
   "execution_count": 43,
   "metadata": {
    "execution": {
     "iopub.execute_input": "2022-02-22T17:05:43.380350Z",
     "iopub.status.busy": "2022-02-22T17:05:43.379659Z",
     "iopub.status.idle": "2022-02-22T17:05:50.997499Z",
     "shell.execute_reply": "2022-02-22T17:05:50.996678Z",
     "shell.execute_reply.started": "2022-02-22T17:05:43.380308Z"
    },
    "pycharm": {
     "name": "#%%\n"
    },
    "tags": []
   },
   "outputs": [],
   "source": [
    "discrete_stratified = all_cluster.transform(projection)"
   ]
  },
  {
   "cell_type": "code",
   "execution_count": 44,
   "metadata": {
    "execution": {
     "iopub.execute_input": "2022-02-22T17:05:51.001199Z",
     "iopub.status.busy": "2022-02-22T17:05:51.000702Z",
     "iopub.status.idle": "2022-02-22T17:05:51.310724Z",
     "shell.execute_reply": "2022-02-22T17:05:51.310062Z",
     "shell.execute_reply.started": "2022-02-22T17:05:51.001162Z"
    },
    "tags": []
   },
   "outputs": [
    {
     "data": {
      "text/plain": [
       "[<matplotlib.lines.Line2D at 0x15c675a00>]"
      ]
     },
     "execution_count": 44,
     "metadata": {},
     "output_type": "execute_result"
    },
    {
     "data": {
      "image/png": "[encoded data removed]",
      "text/plain": [
       "<Figure size 432x288 with 1 Axes>"
      ]
     },
     "metadata": {
      "needs_background": "light"
     },
     "output_type": "display_data"
    }
   ],
   "source": [
    "plt.plot(discrete_stratified)"
   ]
  },
  {
   "cell_type": "code",
   "execution_count": 53,
   "metadata": {
    "execution": {
     "iopub.execute_input": "2022-02-22T17:06:19.873581Z",
     "iopub.status.busy": "2022-02-22T17:06:19.873291Z",
     "iopub.status.idle": "2022-02-22T17:06:19.877164Z",
     "shell.execute_reply": "2022-02-22T17:06:19.876058Z",
     "shell.execute_reply.started": "2022-02-22T17:06:19.873558Z"
    },
    "tags": []
   },
   "outputs": [],
   "source": [
    "discrete_trajectory = discrete_stratified\n",
    "clustering = all_cluster"
   ]
  },
  {
   "cell_type": "markdown",
   "metadata": {
    "pycharm": {
     "name": "#%% md\n"
    }
   },
   "source": [
    "# Build MSM"
   ]
  },
  {
   "cell_type": "markdown",
   "metadata": {},
   "source": [
    "## Load necessary trajectory data"
   ]
  },
  {
   "cell_type": "markdown",
   "metadata": {},
   "source": [
    "For now, manually run \n",
    "1. Up to Trajectory Preparation\n",
    "2. The \"Load Saved\" sections within Trajectory preparation\n",
    "3. Dimensionality reduction: Load Saved\n",
    "4. Discretize trajectory\n",
    "\n",
    "before running this. Can probably save all the intermediate results in one `npz` eventually."
   ]
  },
  {
   "cell_type": "markdown",
   "metadata": {},
   "source": [
    "## Construct MSM object\n",
    "\n",
    "Build with the lag time specified before, and enforce reversibility."
   ]
  },
  {
   "cell_type": "code",
   "execution_count": 64,
   "metadata": {
    "execution": {
     "iopub.execute_input": "2022-02-22T17:23:32.657343Z",
     "iopub.status.busy": "2022-02-22T17:23:32.656068Z",
     "iopub.status.idle": "2022-02-22T17:23:32.674600Z",
     "shell.execute_reply": "2022-02-22T17:23:32.673639Z",
     "shell.execute_reply.started": "2022-02-22T17:23:32.657271Z"
    },
    "pycharm": {
     "name": "#%%\n"
    },
    "tags": []
   },
   "outputs": [],
   "source": [
    "from deeptime.markov import TransitionCountEstimator, TransitionCountModel\n",
    "from deeptime.markov.msm import MaximumLikelihoodMSM, MarkovStateModel"
   ]
  },
  {
   "cell_type": "code",
   "execution_count": 55,
   "metadata": {
    "execution": {
     "iopub.execute_input": "2022-02-22T17:06:22.718754Z",
     "iopub.status.busy": "2022-02-22T17:06:22.718467Z",
     "iopub.status.idle": "2022-02-22T17:06:23.494369Z",
     "shell.execute_reply": "2022-02-22T17:06:23.493849Z",
     "shell.execute_reply.started": "2022-02-22T17:06:22.718728Z"
    },
    "pycharm": {
     "name": "#%%\n"
    },
    "tags": []
   },
   "outputs": [
    {
     "name": "stdout",
     "output_type": "stream",
     "text": [
      "50\n"
     ]
    }
   ],
   "source": [
    "lag = msm_lag_steps\n",
    "print(msm_lag_steps)\n",
    "count_model = TransitionCountEstimator(lag, 'sliding').fit_fetch(discrete_trajectory)\n",
    "asymm_msm = MaximumLikelihoodMSM(reversible=True).fit_fetch(count_model.submodel_largest())"
   ]
  },
  {
   "cell_type": "markdown",
   "metadata": {},
   "source": [
    "### Symmetrize\n",
    "\n",
    "Add the count matrix to its transpose, to get an equal number of counts in/out of states. Then construct an MSM from that symmetrized count matrix."
   ]
  },
  {
   "cell_type": "code",
   "execution_count": 65,
   "metadata": {
    "execution": {
     "iopub.execute_input": "2022-02-22T17:23:33.768666Z",
     "iopub.status.busy": "2022-02-22T17:23:33.768401Z",
     "iopub.status.idle": "2022-02-22T17:23:33.923802Z",
     "shell.execute_reply": "2022-02-22T17:23:33.922990Z",
     "shell.execute_reply.started": "2022-02-22T17:23:33.768643Z"
    },
    "pycharm": {
     "name": "#%%\n"
    },
    "tags": []
   },
   "outputs": [],
   "source": [
    "symmetric_count_matrix = count_model.count_matrix + count_model.count_matrix.T\n",
    "symmetric_count_model = TransitionCountModel(symmetric_count_matrix, \n",
    "                                             lagtime=lag, counting_mode='sliding')\n",
    "\n",
    "symm_msm =  MaximumLikelihoodMSM(reversible=True).fit_fetch(\n",
    "    symmetric_count_model.submodel_largest())\n",
    "\n",
    "msm = symm_msm"
   ]
  },
  {
   "cell_type": "raw",
   "metadata": {
    "execution": {
     "iopub.execute_input": "2022-02-18T22:49:22.803564Z",
     "iopub.status.busy": "2022-02-18T22:49:22.802920Z",
     "iopub.status.idle": "2022-02-18T22:49:22.808670Z",
     "shell.execute_reply": "2022-02-18T22:49:22.807822Z",
     "shell.execute_reply.started": "2022-02-18T22:49:22.803541Z"
    },
    "tags": []
   },
   "source": [
    "tmatrix = msm.transition_matrix"
   ]
  },
  {
   "cell_type": "raw",
   "metadata": {
    "execution": {
     "iopub.execute_input": "2022-02-18T22:57:18.320366Z",
     "iopub.status.busy": "2022-02-18T22:57:18.320133Z",
     "iopub.status.idle": "2022-02-18T22:57:18.326440Z",
     "shell.execute_reply": "2022-02-18T22:57:18.325827Z",
     "shell.execute_reply.started": "2022-02-18T22:57:18.320344Z"
    },
    "tags": []
   },
   "source": [
    "count_model.count_matrix"
   ]
  },
  {
   "cell_type": "raw",
   "metadata": {
    "execution": {
     "iopub.execute_input": "2022-02-18T22:45:01.655289Z",
     "iopub.status.busy": "2022-02-18T22:45:01.654923Z",
     "iopub.status.idle": "2022-02-18T22:45:01.716909Z",
     "shell.execute_reply": "2022-02-18T22:45:01.716365Z",
     "shell.execute_reply.started": "2022-02-18T22:45:01.655259Z"
    },
    "tags": []
   },
   "source": [
    "# Based on how PyEmma did it http://www.emma-project.org/v1.2.2/api/generated/pyemma.msm.analysis.eigenvalues.html#pyemma.msm.analysis.eigenvalues\n",
    "\n",
    "symmetrized_tmatrix = (tmatrix + tmatrix.T)  / 2\n",
    "\n",
    "row_sums = np.sum(symmetrized_tmatrix, axis=1)\n",
    "normalized_symmetrized_tmatrix = np.divide(\n",
    "    symmetrized_tmatrix.T,\n",
    "    row_sums,\n",
    "    out=np.zeros_like(symmetrized_tmatrix),\n",
    "    where=row_sums != 0,\n",
    ").T"
   ]
  },
  {
   "cell_type": "raw",
   "metadata": {
    "execution": {
     "iopub.execute_input": "2022-02-18T22:49:51.102327Z",
     "iopub.status.busy": "2022-02-18T22:49:51.101991Z",
     "iopub.status.idle": "2022-02-18T22:49:51.191186Z",
     "shell.execute_reply": "2022-02-18T22:49:51.190396Z",
     "shell.execute_reply.started": "2022-02-18T22:49:51.102292Z"
    }
   },
   "source": [
    "mu = msm.stationary_distribution\n",
    "\n",
    "# symmetrize T\n",
    "smu = np.sqrt(mu)\n",
    "S = smu[:,None] * tmatrix / smu"
   ]
  },
  {
   "cell_type": "raw",
   "metadata": {
    "execution": {
     "iopub.execute_input": "2022-02-18T22:49:53.991892Z",
     "iopub.status.busy": "2022-02-18T22:49:53.991627Z",
     "iopub.status.idle": "2022-02-18T22:49:54.012943Z",
     "shell.execute_reply": "2022-02-18T22:49:54.011681Z",
     "shell.execute_reply.started": "2022-02-18T22:49:53.991871Z"
    },
    "tags": []
   },
   "source": [
    "np.isclose(S, S.T).all()"
   ]
  },
  {
   "cell_type": "raw",
   "metadata": {
    "execution": {
     "iopub.execute_input": "2022-02-18T22:50:01.678962Z",
     "iopub.status.busy": "2022-02-18T22:50:01.678629Z",
     "iopub.status.idle": "2022-02-18T22:50:01.686534Z",
     "shell.execute_reply": "2022-02-18T22:50:01.685612Z",
     "shell.execute_reply.started": "2022-02-18T22:50:01.678933Z"
    },
    "tags": []
   },
   "source": [
    "S.sum(axis=1)"
   ]
  },
  {
   "cell_type": "raw",
   "metadata": {
    "execution": {
     "iopub.execute_input": "2022-02-18T22:50:04.243006Z",
     "iopub.status.busy": "2022-02-18T22:50:04.242624Z",
     "iopub.status.idle": "2022-02-18T22:50:04.295643Z",
     "shell.execute_reply": "2022-02-18T22:50:04.293182Z",
     "shell.execute_reply.started": "2022-02-18T22:50:04.242971Z"
    },
    "tags": []
   },
   "source": [
    "msm.update_transition_matrix(S)"
   ]
  },
  {
   "cell_type": "markdown",
   "metadata": {},
   "source": [
    "## Define folded/unfolded/intermediate states\n",
    "\n",
    "These are manually defined in the space of the tIC that maps to RMSD, mostly because it's fairly easy to pick out reasonable thresholds by eye."
   ]
  },
  {
   "cell_type": "code",
   "execution_count": 66,
   "metadata": {
    "execution": {
     "iopub.execute_input": "2022-02-22T17:23:35.920119Z",
     "iopub.status.busy": "2022-02-22T17:23:35.919703Z",
     "iopub.status.idle": "2022-02-22T17:23:35.926291Z",
     "shell.execute_reply": "2022-02-22T17:23:35.925220Z",
     "shell.execute_reply.started": "2022-02-22T17:23:35.920090Z"
    },
    "pycharm": {
     "name": "#%%\n"
    },
    "tags": []
   },
   "outputs": [],
   "source": [
    "unfolded_thresh = 10 #0.9\n",
    "folded_thresh = -35 #-1.89\n",
    "\n",
    "unfolded = np.argwhere(clustering.cluster_centers[:, tic_rmsd].flatten() > unfolded_thresh).flatten()\n",
    "folded = np.argwhere(clustering.cluster_centers[:, tic_rmsd].flatten() < folded_thresh).flatten()\n",
    "\n",
    "# unfolded_thresh = 1.6\n",
    "# folded_thresh = -1.89\n",
    "# unfolded = np.argwhere(clustering.cluster_centers[:, tic_rmsd].flatten() > unfolded_thresh).flatten()\n",
    "# folded = np.argwhere(clustering.cluster_centers[:, tic_rmsd].flatten() < folded_thresh).flatten()\n",
    "# len(unfolded), len(folded)"
   ]
  },
  {
   "cell_type": "code",
   "execution_count": 68,
   "metadata": {
    "execution": {
     "iopub.execute_input": "2022-02-22T17:23:46.511936Z",
     "iopub.status.busy": "2022-02-22T17:23:46.511612Z",
     "iopub.status.idle": "2022-02-22T17:23:46.547051Z",
     "shell.execute_reply": "2022-02-22T17:23:46.546362Z",
     "shell.execute_reply.started": "2022-02-22T17:23:46.511909Z"
    },
    "pycharm": {
     "name": "#%%\n"
    },
    "tags": []
   },
   "outputs": [],
   "source": [
    "# Sort by the rmsd-like tic\n",
    "\n",
    "active_states = symmetric_count_model.connected_sets()[0]\n",
    "cluster_sort_order = np.argsort(clustering.cluster_centers[active_states, tic_rmsd])\n",
    "\n",
    "intermediate = np.setdiff1d(active_states, np.concatenate([folded, unfolded]))"
   ]
  },
  {
   "cell_type": "code",
   "execution_count": 69,
   "metadata": {
    "execution": {
     "iopub.execute_input": "2022-02-22T17:23:47.667679Z",
     "iopub.status.busy": "2022-02-22T17:23:47.667397Z",
     "iopub.status.idle": "2022-02-22T17:23:47.673872Z",
     "shell.execute_reply": "2022-02-22T17:23:47.673183Z",
     "shell.execute_reply.started": "2022-02-22T17:23:47.667654Z"
    },
    "tags": []
   },
   "outputs": [
    {
     "data": {
      "text/plain": [
       "(458, 102, 460)"
      ]
     },
     "execution_count": 69,
     "metadata": {},
     "output_type": "execute_result"
    }
   ],
   "source": [
    "len(unfolded), len(folded), len(intermediate)"
   ]
  },
  {
   "cell_type": "markdown",
   "metadata": {
    "pycharm": {
     "name": "#%% md\n"
    }
   },
   "source": [
    "### Visualize results of MSM\n",
    "\n",
    "Note that in the plot below, the histogram may lie directly below the stationary distribution."
   ]
  },
  {
   "cell_type": "code",
   "execution_count": 70,
   "metadata": {
    "execution": {
     "iopub.execute_input": "2022-02-22T17:23:49.560086Z",
     "iopub.status.busy": "2022-02-22T17:23:49.559724Z",
     "iopub.status.idle": "2022-02-22T17:23:49.617799Z",
     "shell.execute_reply": "2022-02-22T17:23:49.617196Z",
     "shell.execute_reply.started": "2022-02-22T17:23:49.560058Z"
    },
    "pycharm": {
     "name": "#%%\n"
    },
    "tags": []
   },
   "outputs": [],
   "source": [
    "# Get the histogram in each bin from the full trajectory\n",
    "hist_bins, hist_counts = np.unique(discrete_trajectory, return_counts=True)\n",
    "hist_counts = hist_counts/sum(hist_counts)"
   ]
  },
  {
   "cell_type": "code",
   "execution_count": 215,
   "metadata": {
    "execution": {
     "iopub.execute_input": "2022-02-23T21:13:09.882508Z",
     "iopub.status.busy": "2022-02-23T21:13:09.882148Z",
     "iopub.status.idle": "2022-02-23T21:13:11.190504Z",
     "shell.execute_reply": "2022-02-23T21:13:11.189932Z",
     "shell.execute_reply.started": "2022-02-23T21:13:09.882444Z"
    },
    "pycharm": {
     "name": "#%%\n"
    },
    "tags": []
   },
   "outputs": [
    {
     "data": {
      "image/png": "[encoded data removed]",
      "text/plain": [
       "<Figure size 864x576 with 2 Axes>"
      ]
     },
     "metadata": {},
     "output_type": "display_data"
    }
   ],
   "source": [
    "# Plot the RMSDs and discrete trajectory\n",
    "fig, tic_ax = plt.subplots(1,1)\n",
    "# rmsd_ax = tic_ax.twinx()\n",
    "\n",
    "_subsample = 10\n",
    "\n",
    "# rmsd_ax.plot(rmsd, color='gray', label='RMSD')\n",
    "tic_ax.plot(projection[:, tic_rmsd][::_subsample], color='gray', label='tIC')\n",
    "tic_ax.set_ylabel(f'tIC {tic_rmsd}')\n",
    "\n",
    "# discrete_ax.plot(discrete_trajectory[::_subsample], color='k', label='Discrete')\n",
    "# discrete_ax.set_ylabel('State')\n",
    "\n",
    "tic_ax.set_xlabel('Time (ps)')\n",
    "\n",
    "stationary_ax = tic_ax.twiny()\n",
    "stationary_ax.plot(\n",
    "    msm.stationary_distribution[cluster_sort_order],\n",
    "    clustering.cluster_centers[cluster_sort_order, tic_rmsd],\n",
    "    color='red',\n",
    "    label='Stationary distribution'\n",
    ")\n",
    "stationary_ax.set_xlabel('Stationary Probability')\n",
    "\n",
    "stationary_ax.plot(\n",
    "    hist_counts[cluster_sort_order],\n",
    "    clustering.cluster_centers[hist_bins.astype(int)][cluster_sort_order, tic_rmsd].flatten(),\n",
    "    color='green',\n",
    "    linestyle='--',\n",
    "    label='Histogram',\n",
    "    zorder=-5\n",
    ")\n",
    "\n",
    "stationary_ax.axhline(unfolded_thresh, color='lime', linewidth=3, zorder=5)\n",
    "stationary_ax.axhline(folded_thresh, color='b', linewidth=3, zorder=5)\n",
    "\n",
    "unfolded_label_y = unfolded_thresh*1.5\n",
    "tic_ax.text(len(projection[::_subsample])*1.06, unfolded_label_y, \n",
    "            'Unfolded', color='green', fontsize=18)\n",
    "folded_label_y = folded_thresh*1.3\n",
    "tic_ax.text(len(projection[::_subsample])*1.06, folded_label_y, \n",
    "            'Folded', color='blue', fontsize=18)\n",
    "\n",
    "tic_ax.text(len(projection[::_subsample])*1.06, (unfolded_label_y + folded_label_y)/2, \n",
    "            'Intermediate', color='black', fontsize=18)\n",
    "\n",
    "fig.legend()\n",
    "fig.set_size_inches(12,8)\n",
    "fig.tight_layout()"
   ]
  },
  {
   "cell_type": "markdown",
   "metadata": {
    "pycharm": {
     "name": "#%% md\n"
    }
   },
   "source": [
    "### Plot potential and committor"
   ]
  },
  {
   "cell_type": "code",
   "execution_count": 222,
   "metadata": {
    "execution": {
     "iopub.execute_input": "2022-02-23T21:17:24.026706Z",
     "iopub.status.busy": "2022-02-23T21:17:24.026370Z",
     "iopub.status.idle": "2022-02-23T21:17:24.188677Z",
     "shell.execute_reply": "2022-02-23T21:17:24.187850Z",
     "shell.execute_reply.started": "2022-02-23T21:17:24.026676Z"
    },
    "pycharm": {
     "name": "#%%\n"
    },
    "tags": []
   },
   "outputs": [
    {
     "data": {
      "text/plain": [
       "Text(0, 0.5, '-$\\\\ln( P^{equil} )$')"
      ]
     },
     "execution_count": 222,
     "metadata": {},
     "output_type": "execute_result"
    },
    {
     "data": {
      "image/png": "[encoded data removed]",
      "text/plain": [
       "<Figure size 432x288 with 1 Axes>"
      ]
     },
     "metadata": {},
     "output_type": "display_data"
    }
   ],
   "source": [
    "potential = -np.log(msm.stationary_distribution)\n",
    "\n",
    "plt.plot(\n",
    "    clustering.cluster_centers[cluster_sort_order, tic_rmsd],\n",
    "    potential[cluster_sort_order])\n",
    "\n",
    "plt.axvline(folded_thresh, color='b')\n",
    "plt.axvline(unfolded_thresh, color='lime')\n",
    "\n",
    "plt.xlabel('tIC')\n",
    "plt.ylabel('-$\\\\ln( P^{equil} )$')"
   ]
  },
  {
   "cell_type": "code",
   "execution_count": 221,
   "metadata": {
    "execution": {
     "iopub.execute_input": "2022-02-23T21:17:17.563527Z",
     "iopub.status.busy": "2022-02-23T21:17:17.563164Z",
     "iopub.status.idle": "2022-02-23T21:17:17.727176Z",
     "shell.execute_reply": "2022-02-23T21:17:17.726467Z",
     "shell.execute_reply.started": "2022-02-23T21:17:17.563496Z"
    },
    "pycharm": {
     "name": "#%%\n"
    },
    "tags": []
   },
   "outputs": [
    {
     "data": {
      "text/plain": [
       "Text(0, 0.5, '-$\\\\ln( P^{equil} )$')"
      ]
     },
     "execution_count": 221,
     "metadata": {},
     "output_type": "execute_result"
    },
    {
     "data": {
      "image/png": "[encoded data removed]",
      "text/plain": [
       "<Figure size 432x288 with 1 Axes>"
      ]
     },
     "metadata": {},
     "output_type": "display_data"
    }
   ],
   "source": [
    "potential = -np.log(msm.stationary_distribution)\n",
    "\n",
    "plt.scatter(\n",
    "    avg_state_rmsds[cluster_sort_order],\n",
    "    potential[cluster_sort_order])\n",
    "\n",
    "# plt.axvline(folded_thresh, color='b')\n",
    "# plt.axvline(unfolded_thresh, color='lime')\n",
    "\n",
    "plt.xlabel('RMSD')\n",
    "plt.ylabel('-$\\\\ln( P^{equil} )$')"
   ]
  },
  {
   "cell_type": "code",
   "execution_count": 225,
   "metadata": {
    "execution": {
     "iopub.execute_input": "2022-02-23T21:19:34.891956Z",
     "iopub.status.busy": "2022-02-23T21:19:34.891706Z",
     "iopub.status.idle": "2022-02-23T21:19:35.194891Z",
     "shell.execute_reply": "2022-02-23T21:19:35.192997Z",
     "shell.execute_reply.started": "2022-02-23T21:19:34.891934Z"
    },
    "tags": []
   },
   "outputs": [
    {
     "data": {
      "text/plain": [
       "Text(0.5, 0, 'tIC 0')"
      ]
     },
     "execution_count": 225,
     "metadata": {},
     "output_type": "execute_result"
    },
    {
     "data": {
      "image/png": "[encoded data removed]",
      "text/plain": [
       "<Figure size 432x288 with 1 Axes>"
      ]
     },
     "metadata": {},
     "output_type": "display_data"
    }
   ],
   "source": [
    "committors = msm.committor_forward(folded, unfolded)\n",
    "\n",
    "committor_sort = np.argsort(committors)\n",
    "\n",
    "plt.scatter(clustering.cluster_centers[committor_sort, tic_rmsd], committors[committor_sort])\n",
    "\n",
    "plt.ylabel('Committor to unfolded')\n",
    "plt.xlabel('tIC 0')"
   ]
  },
  {
   "cell_type": "code",
   "execution_count": 224,
   "metadata": {
    "execution": {
     "iopub.execute_input": "2022-02-23T21:19:14.375605Z",
     "iopub.status.busy": "2022-02-23T21:19:14.375334Z",
     "iopub.status.idle": "2022-02-23T21:19:14.542021Z",
     "shell.execute_reply": "2022-02-23T21:19:14.541096Z",
     "shell.execute_reply.started": "2022-02-23T21:19:14.375581Z"
    },
    "tags": []
   },
   "outputs": [
    {
     "data": {
      "text/plain": [
       "Text(0.5, 0, 'RMSD')"
      ]
     },
     "execution_count": 224,
     "metadata": {},
     "output_type": "execute_result"
    },
    {
     "data": {
      "image/png": "[encoded data removed]",
      "text/plain": [
       "<Figure size 432x288 with 1 Axes>"
      ]
     },
     "metadata": {},
     "output_type": "display_data"
    }
   ],
   "source": [
    "committors = msm.committor_forward(folded, unfolded)\n",
    "\n",
    "committor_sort = np.argsort(committors)\n",
    "\n",
    "plt.scatter(avg_state_rmsds[cluster_sort_order], committors[committor_sort])\n",
    "\n",
    "plt.ylabel('Committor to unfolded')\n",
    "plt.xlabel('RMSD')"
   ]
  },
  {
   "cell_type": "markdown",
   "metadata": {
    "pycharm": {
     "name": "#%% md\n"
    }
   },
   "source": [
    "### Save the model"
   ]
  },
  {
   "cell_type": "code",
   "execution_count": 76,
   "metadata": {
    "collapsed": false,
    "execution": {
     "iopub.execute_input": "2022-02-22T17:24:26.220388Z",
     "iopub.status.busy": "2022-02-22T17:24:26.220090Z",
     "iopub.status.idle": "2022-02-22T17:24:26.259316Z",
     "shell.execute_reply": "2022-02-22T17:24:26.258507Z",
     "shell.execute_reply.started": "2022-02-22T17:24:26.220359Z"
    },
    "jupyter": {
     "outputs_hidden": false
    },
    "pycharm": {
     "name": "#%%\n"
    },
    "tags": []
   },
   "outputs": [],
   "source": [
    "mfpt_folding = msm.mfpt(unfolded.flatten(), folded.flatten())"
   ]
  },
  {
   "cell_type": "code",
   "execution_count": 77,
   "metadata": {
    "collapsed": false,
    "execution": {
     "iopub.execute_input": "2022-02-22T17:24:26.585529Z",
     "iopub.status.busy": "2022-02-22T17:24:26.585249Z",
     "iopub.status.idle": "2022-02-22T17:24:26.628148Z",
     "shell.execute_reply": "2022-02-22T17:24:26.627441Z",
     "shell.execute_reply.started": "2022-02-22T17:24:26.585508Z"
    },
    "jupyter": {
     "outputs_hidden": false
    },
    "pycharm": {
     "name": "#%%\n"
    },
    "tags": []
   },
   "outputs": [],
   "source": [
    "mfpt_unfolding = msm.mfpt(folded.flatten(), unfolded.flatten())"
   ]
  },
  {
   "cell_type": "code",
   "execution_count": 78,
   "metadata": {
    "execution": {
     "iopub.execute_input": "2022-02-22T17:24:27.051855Z",
     "iopub.status.busy": "2022-02-22T17:24:27.051223Z",
     "iopub.status.idle": "2022-02-22T17:24:27.056047Z",
     "shell.execute_reply": "2022-02-22T17:24:27.055384Z",
     "shell.execute_reply.started": "2022-02-22T17:24:27.051826Z"
    },
    "tags": []
   },
   "outputs": [
    {
     "data": {
      "text/plain": [
       "(51138.754251981, 11599.601489364708)"
      ]
     },
     "execution_count": 78,
     "metadata": {},
     "output_type": "execute_result"
    }
   ],
   "source": [
    "mfpt_folding, mfpt_unfolding # Folding time, in units of the input trajectory"
   ]
  },
  {
   "cell_type": "code",
   "execution_count": 79,
   "metadata": {
    "execution": {
     "iopub.execute_input": "2022-02-22T17:24:29.687693Z",
     "iopub.status.busy": "2022-02-22T17:24:29.687438Z",
     "iopub.status.idle": "2022-02-22T17:24:29.692580Z",
     "shell.execute_reply": "2022-02-22T17:24:29.691919Z",
     "shell.execute_reply.started": "2022-02-22T17:24:29.687663Z"
    },
    "tags": []
   },
   "outputs": [
    {
     "data": {
      "text/plain": [
       "200"
      ]
     },
     "execution_count": 79,
     "metadata": {},
     "output_type": "execute_result"
    }
   ],
   "source": [
    "universe.trajectory.dt"
   ]
  },
  {
   "cell_type": "code",
   "execution_count": 80,
   "metadata": {
    "collapsed": false,
    "execution": {
     "iopub.execute_input": "2022-02-22T17:24:30.606078Z",
     "iopub.status.busy": "2022-02-22T17:24:30.605786Z",
     "iopub.status.idle": "2022-02-22T17:24:30.611456Z",
     "shell.execute_reply": "2022-02-22T17:24:30.610497Z",
     "shell.execute_reply.started": "2022-02-22T17:24:30.606055Z"
    },
    "jupyter": {
     "outputs_hidden": false
    },
    "pycharm": {
     "name": "#%%\n"
    },
    "tags": []
   },
   "outputs": [
    {
     "name": "stdout",
     "output_type": "stream",
     "text": [
      "Folding time: 10227.75 ns\n",
      "Folding steps: 51139 steps\n",
      "\n",
      "Unfolding time: 2319.92 ns\n",
      "Unfolding steps: 11600 steps\n"
     ]
    }
   ],
   "source": [
    "mfpt_folding, mfpt_unfolding\n",
    "\n",
    "print(f\"Folding time: {mfpt_folding * universe.trajectory.dt * stride / 1000:.2f} ns\")\n",
    "print(f\"Folding steps: {mfpt_folding :.0f} steps\\n\")\n",
    "\n",
    "print(f\"Unfolding time: {mfpt_unfolding * universe.trajectory.dt * stride  / 1000:.2f} ns\")\n",
    "print(f\"Unfolding steps: {mfpt_unfolding :.0f} steps\")\n",
    "# ~500 steps @ 200ps/step = 0.1µs\n",
    "# These MFPTs seem super high?"
   ]
  },
  {
   "cell_type": "code",
   "execution_count": 81,
   "metadata": {
    "collapsed": false,
    "execution": {
     "iopub.execute_input": "2022-02-22T17:24:35.773863Z",
     "iopub.status.busy": "2022-02-22T17:24:35.773617Z",
     "iopub.status.idle": "2022-02-22T17:24:35.778983Z",
     "shell.execute_reply": "2022-02-22T17:24:35.778089Z",
     "shell.execute_reply.started": "2022-02-22T17:24:35.773840Z"
    },
    "jupyter": {
     "outputs_hidden": false
    },
    "pycharm": {
     "name": "#%%\n"
    },
    "tags": []
   },
   "outputs": [
    {
     "data": {
      "text/plain": [
       "10.4"
      ]
     },
     "execution_count": 81,
     "metadata": {},
     "output_type": "execute_result"
    }
   ],
   "source": [
    "208/20 # Ballpark µs/transition"
   ]
  },
  {
   "cell_type": "code",
   "execution_count": 181,
   "metadata": {
    "execution": {
     "iopub.execute_input": "2022-02-22T21:19:55.487388Z",
     "iopub.status.busy": "2022-02-22T21:19:55.485786Z",
     "iopub.status.idle": "2022-02-22T21:19:55.683088Z",
     "shell.execute_reply": "2022-02-22T21:19:55.681910Z",
     "shell.execute_reply.started": "2022-02-22T21:19:55.487361Z"
    },
    "pycharm": {
     "name": "#%%\n"
    },
    "tags": []
   },
   "outputs": [],
   "source": [
    "np.savez(f'{dataset_label}_transition_matrix_ernesto_symm', transition_matrix=msm.transition_matrix,\n",
    "         states_unfolded = unfolded,\n",
    "         states_folded = folded,\n",
    "         cluster_centers = clustering.cluster_centers,\n",
    "         mfpt_folding = mfpt_folding,\n",
    "         mfpt_unfolding = mfpt_unfolding,\n",
    "         msm=msm\n",
    "         )"
   ]
  },
  {
   "cell_type": "markdown",
   "metadata": {
    "jupyter": {
     "outputs_hidden": false
    },
    "pycharm": {
     "name": "#%%\n"
    }
   },
   "source": [
    "# Coarse-graining\n",
    "\n",
    "I want to come up with a physically meaningful coarse-graining scheme here. That could look something like:\n",
    "- Binning along RMSD\n",
    "- Something hierarchical\n",
    "\n",
    "I think for now binning along RMSD is probably an easy way to do it.\n",
    "\n",
    "Committor is probably meaningful too, but it would require knowing the committors, which is the point of building the model. I.e., it wouldn't translate well to analyzing simulated data, it's cheating."
   ]
  },
  {
   "cell_type": "markdown",
   "metadata": {},
   "source": [
    "## Coarse-graining in RMSD\n",
    "\n",
    "The idea here is that I can identify a set of coarse states by clustering on the RMSDs of the fine states.\n",
    "\n",
    "To do this, I need to:\n",
    "1. Get structures associated with each tIC cluster\n",
    "2. Get average RMSD of those structures, to assign each fine cluster an RMSD value\n",
    "3. Group those by clustering on them"
   ]
  },
  {
   "cell_type": "code",
   "execution_count": 83,
   "metadata": {
    "execution": {
     "iopub.execute_input": "2022-02-22T17:24:46.927131Z",
     "iopub.status.busy": "2022-02-22T17:24:46.926861Z",
     "iopub.status.idle": "2022-02-22T17:24:46.932675Z",
     "shell.execute_reply": "2022-02-22T17:24:46.931799Z",
     "shell.execute_reply.started": "2022-02-22T17:24:46.927106Z"
    },
    "tags": []
   },
   "outputs": [
    {
     "data": {
      "text/plain": [
       "((1044000,), (1044000,))"
      ]
     },
     "execution_count": 83,
     "metadata": {},
     "output_type": "execute_result"
    }
   ],
   "source": [
    "rmsd[::rmsd_stride].shape, discrete_trajectory.shape"
   ]
  },
  {
   "cell_type": "markdown",
   "metadata": {},
   "source": [
    "### Compute average fine-state RMSDs"
   ]
  },
  {
   "cell_type": "code",
   "execution_count": 84,
   "metadata": {
    "execution": {
     "iopub.execute_input": "2022-02-22T17:24:49.389213Z",
     "iopub.status.busy": "2022-02-22T17:24:49.388946Z",
     "iopub.status.idle": "2022-02-22T17:24:49.815956Z",
     "shell.execute_reply": "2022-02-22T17:24:49.815312Z",
     "shell.execute_reply.started": "2022-02-22T17:24:49.389189Z"
    },
    "tags": []
   },
   "outputs": [],
   "source": [
    "n_states = msm.transition_matrix.shape[0]\n",
    "\n",
    "avg_state_rmsds = np.full(shape=n_states, fill_value=np.nan)\n",
    "\n",
    "for state in range(n_states):\n",
    "    \n",
    "    idxs_in_state = np.argwhere(discrete_trajectory == state).flatten()\n",
    "    \n",
    "    rmsds = rmsd[::rmsd_stride][idxs_in_state]\n",
    "    \n",
    "    avg_state_rmsds[state] = np.mean(rmsds)\n",
    "    \n",
    "rmsd_sort_order = np.argsort(avg_state_rmsds).flatten()"
   ]
  },
  {
   "cell_type": "code",
   "execution_count": 226,
   "metadata": {
    "execution": {
     "iopub.execute_input": "2022-02-23T21:24:33.038384Z",
     "iopub.status.busy": "2022-02-23T21:24:33.038111Z",
     "iopub.status.idle": "2022-02-23T21:24:33.226885Z",
     "shell.execute_reply": "2022-02-23T21:24:33.226110Z",
     "shell.execute_reply.started": "2022-02-23T21:24:33.038360Z"
    },
    "tags": []
   },
   "outputs": [
    {
     "data": {
      "text/plain": [
       "Text(0.5, 0, 'Average fine-state RMSD')"
      ]
     },
     "execution_count": 226,
     "metadata": {},
     "output_type": "execute_result"
    },
    {
     "data": {
      "image/png": "[encoded data removed]",
      "text/plain": [
       "<Figure size 432x288 with 1 Axes>"
      ]
     },
     "metadata": {},
     "output_type": "display_data"
    }
   ],
   "source": [
    "plt.hist(avg_state_rmsds, bins=20)\n",
    "plt.xlabel('Average fine-state RMSD')"
   ]
  },
  {
   "cell_type": "code",
   "execution_count": 86,
   "metadata": {
    "execution": {
     "iopub.execute_input": "2022-02-22T17:24:53.306912Z",
     "iopub.status.busy": "2022-02-22T17:24:53.306668Z",
     "iopub.status.idle": "2022-02-22T17:24:53.445029Z",
     "shell.execute_reply": "2022-02-22T17:24:53.444335Z",
     "shell.execute_reply.started": "2022-02-22T17:24:53.306889Z"
    },
    "tags": []
   },
   "outputs": [
    {
     "data": {
      "text/plain": [
       "Text(0.5, 0, 'RMSD from folded structure')"
      ]
     },
     "execution_count": 86,
     "metadata": {},
     "output_type": "execute_result"
    },
    {
     "data": {
      "image/png": "[encoded data removed]",
      "text/plain": [
       "<Figure size 432x288 with 1 Axes>"
      ]
     },
     "metadata": {
      "needs_background": "light"
     },
     "output_type": "display_data"
    }
   ],
   "source": [
    "plt.plot(avg_state_rmsds, msm.committor_forward(folded, unfolded), '.')\n",
    "\n",
    "plt.ylabel('Committor to unfolded')\n",
    "plt.xlabel('RMSD from folded structure')"
   ]
  },
  {
   "cell_type": "code",
   "execution_count": 87,
   "metadata": {
    "collapsed": false,
    "execution": {
     "iopub.execute_input": "2022-02-22T17:24:54.714309Z",
     "iopub.status.busy": "2022-02-22T17:24:54.713680Z",
     "iopub.status.idle": "2022-02-22T17:24:54.820277Z",
     "shell.execute_reply": "2022-02-22T17:24:54.819602Z",
     "shell.execute_reply.started": "2022-02-22T17:24:54.714281Z"
    },
    "jupyter": {
     "outputs_hidden": false
    },
    "pycharm": {
     "name": "#%%\n"
    },
    "tags": []
   },
   "outputs": [
    {
     "data": {
      "text/plain": [
       "Text(0, 0.5, '-$\\\\ln( P^{equil} )$')"
      ]
     },
     "execution_count": 87,
     "metadata": {},
     "output_type": "execute_result"
    },
    {
     "data": {
      "image/png": "[encoded data removed]",
      "text/plain": [
       "<Figure size 432x288 with 1 Axes>"
      ]
     },
     "metadata": {
      "needs_background": "light"
     },
     "output_type": "display_data"
    }
   ],
   "source": [
    "potential = -np.log(msm.stationary_distribution)\n",
    "\n",
    "plt.plot(\n",
    "    avg_state_rmsds[rmsd_sort_order],\n",
    "    potential[rmsd_sort_order], '.')\n",
    "\n",
    "# plt.axvline(folded_thresh)\n",
    "# plt.axvline(unfolded_thresh)\n",
    "\n",
    "plt.xlabel('RMSD')\n",
    "plt.ylabel('-$\\\\ln( P^{equil} )$')"
   ]
  },
  {
   "cell_type": "markdown",
   "metadata": {},
   "source": [
    "#### Failed attempt at heatmap"
   ]
  },
  {
   "cell_type": "code",
   "execution_count": 498,
   "metadata": {
    "execution": {
     "iopub.execute_input": "2022-02-18T23:06:21.365399Z",
     "iopub.status.busy": "2022-02-18T23:06:21.365050Z",
     "iopub.status.idle": "2022-02-18T23:06:21.378829Z",
     "shell.execute_reply": "2022-02-18T23:06:21.377672Z",
     "shell.execute_reply.started": "2022-02-18T23:06:21.365367Z"
    },
    "scrolled": true,
    "tags": []
   },
   "outputs": [
    {
     "data": {
      "text/plain": [
       "array([0.00129843, 0.00033622, 0.0004665 , ..., 0.00029312, 0.00029312,\n",
       "       0.00028737])"
      ]
     },
     "execution_count": 498,
     "metadata": {},
     "output_type": "execute_result"
    }
   ],
   "source": [
    "msm.stationary_distribution\n",
    "\n",
    "# Each state has a value in the stationary distribution, and a tIC 1 and tIC 2 value\n",
    "# So for each cluster, x/y are the tIC 1 / tIC 2, and z = stationary"
   ]
  },
  {
   "cell_type": "code",
   "execution_count": 499,
   "metadata": {
    "execution": {
     "iopub.execute_input": "2022-02-18T23:06:21.381334Z",
     "iopub.status.busy": "2022-02-18T23:06:21.380671Z",
     "iopub.status.idle": "2022-02-18T23:06:21.405003Z",
     "shell.execute_reply": "2022-02-18T23:06:21.402852Z",
     "shell.execute_reply.started": "2022-02-18T23:06:21.381295Z"
    },
    "tags": []
   },
   "outputs": [
    {
     "data": {
      "text/plain": [
       "(3, 1020)"
      ]
     },
     "execution_count": 499,
     "metadata": {},
     "output_type": "execute_result"
    }
   ],
   "source": [
    "potential_data = np.vstack([\n",
    "    msm.stationary_distribution,\n",
    "    clustering.cluster_centers[:,0],\n",
    "    clustering.cluster_centers[:,1],\n",
    "])\n",
    "potential_data.shape"
   ]
  },
  {
   "cell_type": "markdown",
   "metadata": {},
   "source": [
    "### Cluster on fine-state RMSDs"
   ]
  },
  {
   "cell_type": "markdown",
   "metadata": {},
   "source": [
    "#### Intermediates\n",
    "\n",
    "For the intermediates, cluster into coarse-clusters on their average RMSDs.\n",
    "\n",
    "We will manually assign the folded/unfolded states into their own coarse states."
   ]
  },
  {
   "cell_type": "code",
   "execution_count": 182,
   "metadata": {
    "execution": {
     "iopub.execute_input": "2022-02-22T21:20:13.385681Z",
     "iopub.status.busy": "2022-02-22T21:20:13.385329Z",
     "iopub.status.idle": "2022-02-22T21:20:13.427004Z",
     "shell.execute_reply": "2022-02-22T21:20:13.425558Z",
     "shell.execute_reply.started": "2022-02-22T21:20:13.385660Z"
    },
    "tags": []
   },
   "outputs": [],
   "source": [
    "n_coarse_clusters = 100\n",
    "\n",
    "coarse_kmeans_estimator = KMeans(\n",
    "    n_clusters=n_coarse_clusters,\n",
    "    # init_strategy='uniform',\n",
    "    max_iter=1000,\n",
    "    fixed_seed=1337,\n",
    "    n_jobs=4,\n",
    "    progress=tqdm.tqdm\n",
    ")"
   ]
  },
  {
   "cell_type": "code",
   "execution_count": 183,
   "metadata": {
    "execution": {
     "iopub.execute_input": "2022-02-22T21:20:13.429887Z",
     "iopub.status.busy": "2022-02-22T21:20:13.429673Z",
     "iopub.status.idle": "2022-02-22T21:20:13.728227Z",
     "shell.execute_reply": "2022-02-22T21:20:13.724335Z",
     "shell.execute_reply.started": "2022-02-22T21:20:13.429867Z"
    },
    "tags": []
   },
   "outputs": [
    {
     "data": {
      "application/vnd.jupyter.widget-view+json": {
       "model_id": "ab16849e280240ba88413f3c4eb4578b",
       "version_major": 2,
       "version_minor": 0
      },
      "text/plain": [
       "  0%|          | 0/100 [00:00<?, ?it/s]"
      ]
     },
     "metadata": {},
     "output_type": "display_data"
    },
    {
     "data": {
      "application/vnd.jupyter.widget-view+json": {
       "model_id": "57a7da57ff85497480e34420672ed0f1",
       "version_major": 2,
       "version_minor": 0
      },
      "text/plain": [
       "  0%|          | 0/1000 [00:00<?, ?it/s]"
      ]
     },
     "metadata": {},
     "output_type": "display_data"
    }
   ],
   "source": [
    "# This builds a model which maps an RMSD to a cluster\n",
    "\n",
    "coarse_clustering = coarse_kmeans_estimator.fit_fetch(avg_state_rmsds[intermediate])"
   ]
  },
  {
   "cell_type": "code",
   "execution_count": 184,
   "metadata": {
    "execution": {
     "iopub.execute_input": "2022-02-22T21:20:13.731315Z",
     "iopub.status.busy": "2022-02-22T21:20:13.730538Z",
     "iopub.status.idle": "2022-02-22T21:20:13.761553Z",
     "shell.execute_reply": "2022-02-22T21:20:13.760328Z",
     "shell.execute_reply.started": "2022-02-22T21:20:13.731279Z"
    },
    "tags": []
   },
   "outputs": [
    {
     "data": {
      "text/plain": [
       "array([76, 20, 20, 20, 20,  7,  7, 20, 17, 66,  7, 81, 66, 37, 29, 74, 57,\n",
       "       17, 81,  7, 84,  2, 57, 81,  7, 57, 80, 92, 88, 75,  2, 74, 29,  2,\n",
       "       38, 80, 16, 29, 49, 84, 75, 16, 64,  9, 37, 75, 10, 26,  2, 70, 72,\n",
       "       69, 61, 29, 72, 52, 98, 38, 72, 61, 21, 10, 69, 72, 61, 70, 92, 68,\n",
       "       64, 49, 70, 49, 42, 27,  0, 70, 70, 32,  9, 49, 10, 55, 21, 10, 22,\n",
       "       12, 21, 13, 40,  9, 21,  4, 56, 22, 16, 59, 22, 53, 13, 52, 55,  4,\n",
       "       59, 77, 87, 68, 55, 62, 27, 67, 19, 19, 56, 12, 62, 27, 55,  3, 63,\n",
       "       27,  4, 52,  4, 90, 88, 40, 65, 90, 77, 68, 21, 58, 28,  0, 79, 39,\n",
       "       58, 12, 24, 87, 33, 39, 67, 55, 99, 65, 24,  0, 85, 41,  5,  0, 78,\n",
       "       79, 26, 53, 78, 28,  5, 79, 78, 56,  0, 87, 24, 90, 42, 40,  5, 78,\n",
       "        3, 41, 40, 22, 67, 41, 82, 67, 36, 99, 12,  5, 69, 58, 53, 97, 13,\n",
       "       39, 88, 24, 88, 19, 30, 54,  5,  3, 41, 12, 56, 13,  5, 79, 82, 26,\n",
       "       60, 40, 88, 27, 87, 65, 28, 40, 36, 88, 68,  3, 54, 41, 88, 79, 28,\n",
       "       67, 54, 78, 27, 82, 68, 89, 28,  3, 30, 88, 60, 54, 88, 13, 19, 60,\n",
       "       39, 54, 82, 41, 54, 54, 23, 54, 28, 41, 90, 46, 41, 24,  3, 34, 82,\n",
       "       30, 34, 11, 25, 39, 13, 82, 23, 13, 88, 24, 54, 23, 34, 34, 89, 34,\n",
       "       41, 36, 41,  6, 24, 24, 34, 46, 11, 23,  3, 23, 89, 63, 63, 91, 30,\n",
       "       44, 46, 36,  6, 46, 23, 83, 60, 14, 23, 11, 48, 23, 96, 71, 25, 78,\n",
       "       44, 83, 34, 11, 96, 35, 71, 83, 54, 11,  1, 44,  6, 78, 83, 48, 47,\n",
       "       91, 86, 47, 71, 83, 71, 83, 14, 25, 95,  1, 19, 86,  6, 63, 73, 11,\n",
       "       48, 83,  1, 14,  6, 71, 94, 86, 35, 63, 48, 14, 71, 11, 35, 44,  8,\n",
       "       30, 47, 15, 91, 18, 14,  6, 96, 63, 25, 18,  8, 23, 96,  8, 48, 47,\n",
       "       14, 35, 11, 94, 95, 83, 71, 48, 31,  6, 96, 46, 47, 43, 45,  1, 45,\n",
       "       73, 14, 96, 43, 14, 35, 73, 25, 35, 48, 31, 31, 35, 73, 45, 43, 45,\n",
       "       43, 43,  6, 86, 51, 15, 73, 18, 93, 86, 83, 48, 43, 48, 15, 96, 15,\n",
       "       43, 35, 43, 96, 93, 47, 71, 45, 94, 15, 18, 86, 73, 95,  1, 18, 45,\n",
       "       51, 60,  1, 50, 44, 48, 50, 91, 71, 25, 15, 45, 44, 18, 45, 96, 71,\n",
       "       44], dtype=int32)"
      ]
     },
     "execution_count": 184,
     "metadata": {},
     "output_type": "execute_result"
    }
   ],
   "source": [
    "# Now we assign clusters to all the state RMSDs\n",
    "\n",
    "coarse_assignments = coarse_clustering.transform(avg_state_rmsds[intermediate])\n",
    "coarse_assignments"
   ]
  },
  {
   "cell_type": "markdown",
   "metadata": {},
   "source": [
    "#### Folded, unfolded"
   ]
  },
  {
   "cell_type": "code",
   "execution_count": 185,
   "metadata": {
    "execution": {
     "iopub.execute_input": "2022-02-22T21:20:13.765464Z",
     "iopub.status.busy": "2022-02-22T21:20:13.765029Z",
     "iopub.status.idle": "2022-02-22T21:20:13.930995Z",
     "shell.execute_reply": "2022-02-22T21:20:13.930123Z",
     "shell.execute_reply.started": "2022-02-22T21:20:13.765421Z"
    },
    "tags": []
   },
   "outputs": [
    {
     "data": {
      "application/vnd.jupyter.widget-view+json": {
       "model_id": "8449bfd864c549f5a26de318096d5d01",
       "version_major": 2,
       "version_minor": 0
      },
      "text/plain": [
       "  0%|          | 0/50 [00:00<?, ?it/s]"
      ]
     },
     "metadata": {},
     "output_type": "display_data"
    },
    {
     "data": {
      "application/vnd.jupyter.widget-view+json": {
       "model_id": "3306f0b179264432801b49a0d4662b49",
       "version_major": 2,
       "version_minor": 0
      },
      "text/plain": [
       "  0%|          | 0/1000 [00:00<?, ?it/s]"
      ]
     },
     "metadata": {},
     "output_type": "display_data"
    },
    {
     "data": {
      "application/vnd.jupyter.widget-view+json": {
       "model_id": "bfa9ea45d4db495eba6fbbfd9f44ee0b",
       "version_major": 2,
       "version_minor": 0
      },
      "text/plain": [
       "  0%|          | 0/50 [00:00<?, ?it/s]"
      ]
     },
     "metadata": {},
     "output_type": "display_data"
    },
    {
     "data": {
      "application/vnd.jupyter.widget-view+json": {
       "model_id": "7d6b09256133465c8d81ac233e006a25",
       "version_major": 2,
       "version_minor": 0
      },
      "text/plain": [
       "  0%|          | 0/1000 [00:00<?, ?it/s]"
      ]
     },
     "metadata": {},
     "output_type": "display_data"
    },
    {
     "name": "stdout",
     "output_type": "stream",
     "text": [
      "{'folded': array([ 0, 38, 25, 20, 43, 27, 38, 22, 33, 14,  8, 48, 31, 14, 43, 34, 15,\n",
      "       30,  6, 45, 33, 37,  4,  0, 15, 18, 39, 48,  3, 11, 22, 24, 49,  8,\n",
      "       27, 36, 12, 37, 32, 32, 41, 18, 18, 47,  3, 32,  8, 41,  6, 23, 39,\n",
      "       47, 11, 16, 41, 11, 19, 37, 41, 16, 23, 41, 32, 47, 47, 37, 47, 32,\n",
      "       46, 23, 16, 26, 49, 39, 44, 10, 47, 42, 13,  1, 41, 24, 47,  5, 40,\n",
      "        6, 11, 44,  5, 24, 11, 28,  9, 17, 29,  9, 13,  2, 35, 26, 21,  7],\n",
      "      dtype=int32), 'unfolded': array([12,  7,  1, 31, 24, 31,  7,  7,  7,  7, 33,  7, 24,  4, 48, 12, 24,\n",
      "        7, 24, 12,  1, 17, 31, 24, 31, 46,  4, 29, 12, 31, 19,  7, 24, 17,\n",
      "       41, 24, 31, 29, 31, 12, 31, 48,  4,  1, 29, 24, 31,  4, 39, 31,  4,\n",
      "       12, 31,  4, 48,  4,  6, 17, 12, 31, 48, 29, 17, 31, 48, 12, 29, 21,\n",
      "        4, 48, 12,  1,  4, 48, 48, 38, 36, 39, 17, 15, 29,  1, 17, 48, 17,\n",
      "       14,  8, 34, 17, 39, 34,  1, 17, 12,  1, 21,  6, 17, 48, 46, 48, 46,\n",
      "       46, 34, 48, 14, 36, 46, 17, 36, 17, 45, 48, 14, 15, 21, 14, 49, 45,\n",
      "        1, 41, 16, 14, 40, 15, 36, 46, 15,  1, 17, 14, 41, 22, 36, 16, 39,\n",
      "        6, 36, 45, 40,  6, 39, 18, 44, 46, 38,  6,  1, 14, 40, 40,  0, 49,\n",
      "       45, 46, 34,  6, 20, 16,  6,  3, 34, 22, 15,  8, 44, 45, 39, 15, 45,\n",
      "       21,  8, 46, 45,  0, 22, 18, 40, 44, 34,  6, 21,  0, 16, 16, 16, 22,\n",
      "       38, 22, 16,  3, 45, 38, 41, 46, 39, 39,  8, 43, 23, 36, 23, 20, 38,\n",
      "       22, 22, 16, 46, 22, 49,  3, 38, 28, 16, 38, 41, 49,  2,  6, 40,  8,\n",
      "       40, 23, 39, 20, 23, 16, 14, 20, 34, 18, 37, 36,  3, 44, 47, 23, 20,\n",
      "       49,  3, 49, 21, 38, 34,  8, 44, 18,  5,  6, 43, 18,  6, 41, 38, 42,\n",
      "        0, 34, 40,  3, 41, 28, 16, 22, 49, 18,  3, 21, 16, 49, 11, 47,  8,\n",
      "        5, 23, 15, 28, 37,  8,  3, 11, 20, 49, 26, 15, 25,  3, 37, 10, 21,\n",
      "       44, 37, 28, 16, 11, 18, 40,  0, 10, 36, 40, 32, 40,  8, 46, 34,  4,\n",
      "       26, 45, 44, 11, 45, 47, 28, 42, 39, 42, 37, 22, 49, 41, 37, 46, 30,\n",
      "       28, 48, 15, 44, 11,  3,  0, 27,  0, 18, 49, 46, 18, 42, 49, 41, 18,\n",
      "       40, 18, 13, 36, 45, 42, 37, 37, 41, 45, 45,  5, 16,  0, 23, 28, 44,\n",
      "        8, 18, 28, 18, 37, 47, 25, 11, 22, 46, 22,  6,  8, 10,  0, 42, 43,\n",
      "       29, 45, 26, 34, 18, 23, 22, 34, 13,  5, 44, 20, 20, 16, 49, 43, 37,\n",
      "        2, 41, 13, 28, 45, 23, 28, 23, 48, 38,  8,  0,  8,  6, 30, 18, 37,\n",
      "        8, 16,  6,  8, 17, 38, 42, 29,  9, 27, 14, 46, 15, 14, 18, 47, 20,\n",
      "       39,  0, 23, 23,  8, 28, 36, 18, 32,  0,  3, 32, 49, 14,  6, 32, 30,\n",
      "        0,  3, 11, 18, 43, 49, 32, 28,  5, 10, 20, 43, 35,  0, 49, 20],\n",
      "      dtype=int32)}\n"
     ]
    }
   ],
   "source": [
    "# Number of clusters in the folded/unfolded states (each)\n",
    "n_coarse_target_clusters = 50\n",
    "\n",
    "coarse_macrostate_assignments = {}\n",
    "coarse_macrostate_clusters = {}\n",
    "\n",
    "for macrostate, label in zip([folded, unfolded], ['folded', 'unfolded']):\n",
    "    \n",
    "    coarse_target_kmeans_estimator = KMeans(\n",
    "        n_clusters=n_coarse_target_clusters,\n",
    "        # init_strategy='uniform',\n",
    "        max_iter=1000,\n",
    "        fixed_seed=1337,\n",
    "        n_jobs=4,\n",
    "        progress=tqdm.tqdm\n",
    "    )\n",
    "    \n",
    "    coarse_macrostate_clustering = coarse_target_kmeans_estimator.fit_fetch(\n",
    "        avg_state_rmsds[macrostate]\n",
    "    )\n",
    "    coarse_macrostate_clusters[label] = copy.deepcopy(coarse_macrostate_clustering)\n",
    "    \n",
    "    coarse_macrostate_assignments[label] = coarse_target_kmeans_estimator.transform(\n",
    "        avg_state_rmsds[macrostate]\n",
    "    )\n",
    "    \n",
    "print(coarse_macrostate_assignments)"
   ]
  },
  {
   "cell_type": "markdown",
   "metadata": {},
   "source": [
    "It's not necessary to merge these clusters, because I'm not actually re-discretizing or anything based on them.\n",
    "\n",
    "Once I know what coarse cluster a fine cluster maps into, I can just assign it to that."
   ]
  },
  {
   "cell_type": "markdown",
   "metadata": {},
   "source": [
    "### Define coarse mapping"
   ]
  },
  {
   "cell_type": "code",
   "execution_count": 186,
   "metadata": {
    "execution": {
     "iopub.execute_input": "2022-02-22T21:20:13.933381Z",
     "iopub.status.busy": "2022-02-22T21:20:13.932943Z",
     "iopub.status.idle": "2022-02-22T21:20:13.947333Z",
     "shell.execute_reply": "2022-02-22T21:20:13.946293Z",
     "shell.execute_reply.started": "2022-02-22T21:20:13.933357Z"
    },
    "tags": []
   },
   "outputs": [],
   "source": [
    "# This defines a mapping from <intermediate state> -> <coarse state ID>\n",
    "coarse_mapping = {}\n",
    "\n",
    "for i, state in enumerate(intermediate):\n",
    "    \n",
    "    avg_state_rmsd = avg_state_rmsds[state]\n",
    "    coarse_state = coarse_assignments[i]\n",
    "    \n",
    "    # coarse_state = coarse_clustering.transform(np.array(avg_state_rmsd))[0]\n",
    "    \n",
    "    # +1 leaves [0] reserved for state A\n",
    "    coarse_mapping[state] = coarse_state + n_coarse_target_clusters #+ 1\n",
    "    \n",
    "for i, state in enumerate(folded):\n",
    "#     coarse_mapping[state] = 0\n",
    "    avg_state_rmsd = avg_state_rmsds[folded]\n",
    "    coarse_state = coarse_macrostate_assignments['folded'][i]\n",
    "    coarse_mapping[state] = coarse_state\n",
    "    \n",
    "    \n",
    "for i, state in enumerate(unfolded):\n",
    "#     coarse_mapping[state] = n_coarse_clusters+1\n",
    "    avg_state_rmsd = avg_state_rmsds[folded]\n",
    "    coarse_state = coarse_macrostate_assignments['unfolded'][i]\n",
    "    coarse_mapping[state] = n_coarse_target_clusters + n_coarse_clusters + coarse_state"
   ]
  },
  {
   "cell_type": "markdown",
   "metadata": {},
   "source": [
    "#### Visualize the coarsening\n",
    "\n",
    "Plot the avg RMSD of each coarse-state, and the avg RMSD of each fine state, so you can see how the fine states fit into the coarse-states and compare to the actual trajectory.\n",
    "\n",
    "Note that all points above and below the cutoffs get assigned to a single folded or unfolded coarse-state, which is why the fine-states don't appear to span the full range. Clustering is not done for those (because it's not necessary), so they're not included in the list of cluster centers -- in other words, the folded/unfolded states are handled outside of the cluster-coarse-graining procedure."
   ]
  },
  {
   "cell_type": "code",
   "execution_count": 227,
   "metadata": {
    "execution": {
     "iopub.execute_input": "2022-02-23T21:43:07.099139Z",
     "iopub.status.busy": "2022-02-23T21:43:07.096412Z",
     "iopub.status.idle": "2022-02-23T21:43:08.027005Z",
     "shell.execute_reply": "2022-02-23T21:43:08.025672Z",
     "shell.execute_reply.started": "2022-02-23T21:43:07.099080Z"
    },
    "tags": []
   },
   "outputs": [
    {
     "data": {
      "image/png": "[encoded data removed]",
      "text/plain": [
       "<Figure size 864x288 with 2 Axes>"
      ]
     },
     "metadata": {},
     "output_type": "display_data"
    }
   ],
   "source": [
    "fig, ax = plt.subplots(1, 2, gridspec_kw={'width_ratios': [1, 4]}, figsize=(12,4))\n",
    "\n",
    "ax[0].plot(\n",
    "    coarse_clustering.cluster_centers[coarse_assignments], \n",
    "    avg_state_rmsds[intermediate], \n",
    "    '.',\n",
    "    color='tab:red',)\n",
    "\n",
    "ax[0].plot(\n",
    "    coarse_macrostate_clusters['folded'].cluster_centers[\n",
    "        coarse_macrostate_assignments['folded']], \n",
    "    avg_state_rmsds[folded], \n",
    "    '.',\n",
    "    color='tab:blue',)\n",
    "\n",
    "ax[0].plot(\n",
    "    coarse_macrostate_clusters['unfolded'].cluster_centers[\n",
    "        coarse_macrostate_assignments['unfolded']], \n",
    "    avg_state_rmsds[unfolded], \n",
    "    '.',\n",
    "    color='tab:green',)\n",
    "\n",
    "ax[1].plot(rmsd[::rmsd_stride], color='gray', label='RMSD')\n",
    "ax[1].set_xlabel('Steps')\n",
    "\n",
    "ax[0].set_ylim(ax[1].get_ylim())\n",
    "\n",
    "ax[0].set_ylabel('Avg rmsd in fine cluster')\n",
    "ax[0].set_xlabel('Coarse cluster rmsd')\n",
    "\n",
    "fig.tight_layout()"
   ]
  },
  {
   "cell_type": "code",
   "execution_count": 188,
   "metadata": {
    "execution": {
     "iopub.execute_input": "2022-02-22T21:20:14.525996Z",
     "iopub.status.busy": "2022-02-22T21:20:14.525469Z",
     "iopub.status.idle": "2022-02-22T21:20:14.538175Z",
     "shell.execute_reply": "2022-02-22T21:20:14.536633Z",
     "shell.execute_reply.started": "2022-02-22T21:20:14.525968Z"
    },
    "tags": []
   },
   "outputs": [],
   "source": [
    "assert msm.reversible, \"MSM not reversible! Need to symmetrize it.\""
   ]
  },
  {
   "cell_type": "markdown",
   "metadata": {},
   "source": [
    "### Make coarse-mapping convenience objects\n",
    "\n",
    "We started with `coarse_mapping`, a dictionary where the keys are all of the fine-states, and the values are the coarse-states that each fine-state belongs to.\n",
    "\n",
    "For convenience, we'll define a couple other things with this same information.\n",
    "\n",
    "`inv_map` is a dictionary mapping each coarse state to a list of the fine states within it\n",
    "\n",
    "`cg_map` is a list of length `n_coarse_states`. The `i`th element is a list of the fine-states in coarse state `i`."
   ]
  },
  {
   "cell_type": "code",
   "execution_count": 189,
   "metadata": {
    "execution": {
     "iopub.execute_input": "2022-02-22T21:20:14.541399Z",
     "iopub.status.busy": "2022-02-22T21:20:14.540334Z",
     "iopub.status.idle": "2022-02-22T21:20:14.548266Z",
     "shell.execute_reply": "2022-02-22T21:20:14.546748Z",
     "shell.execute_reply.started": "2022-02-22T21:20:14.541312Z"
    },
    "tags": []
   },
   "outputs": [],
   "source": [
    "inv_map = {}\n",
    "for k, v in coarse_mapping.items():\n",
    "    inv_map[v] = inv_map.get(v, []) + [k]"
   ]
  },
  {
   "cell_type": "code",
   "execution_count": 190,
   "metadata": {
    "execution": {
     "iopub.execute_input": "2022-02-22T21:20:14.553963Z",
     "iopub.status.busy": "2022-02-22T21:20:14.553258Z",
     "iopub.status.idle": "2022-02-22T21:20:14.562902Z",
     "shell.execute_reply": "2022-02-22T21:20:14.561498Z",
     "shell.execute_reply.started": "2022-02-22T21:20:14.553918Z"
    },
    "tags": []
   },
   "outputs": [],
   "source": [
    "cg_map = [[] for _ in inv_map.keys()]\n",
    "\n",
    "for k, v in inv_map.items():\n",
    "    cg_map[k] = v"
   ]
  },
  {
   "cell_type": "markdown",
   "metadata": {},
   "source": [
    "### Get coarse-grained potential"
   ]
  },
  {
   "cell_type": "code",
   "execution_count": 191,
   "metadata": {
    "execution": {
     "iopub.execute_input": "2022-02-22T21:20:14.568293Z",
     "iopub.status.busy": "2022-02-22T21:20:14.567926Z",
     "iopub.status.idle": "2022-02-22T21:20:14.573575Z",
     "shell.execute_reply": "2022-02-22T21:20:14.573036Z",
     "shell.execute_reply.started": "2022-02-22T21:20:14.568244Z"
    }
   },
   "outputs": [
    {
     "data": {
      "text/plain": [
       "(30,)"
      ]
     },
     "execution_count": 191,
     "metadata": {},
     "output_type": "execute_result"
    }
   ],
   "source": [
    "coarse_distribution.shape"
   ]
  },
  {
   "cell_type": "code",
   "execution_count": 192,
   "metadata": {
    "execution": {
     "iopub.execute_input": "2022-02-22T21:20:14.576154Z",
     "iopub.status.busy": "2022-02-22T21:20:14.575441Z",
     "iopub.status.idle": "2022-02-22T21:20:14.585354Z",
     "shell.execute_reply": "2022-02-22T21:20:14.584254Z",
     "shell.execute_reply.started": "2022-02-22T21:20:14.576118Z"
    }
   },
   "outputs": [
    {
     "data": {
      "text/plain": [
       "array([1.39491686, 1.73029713, 2.21006421, 1.55670884, 1.20483531,\n",
       "       1.98240373, 1.64858503, 2.41518251, 1.50785834, 2.10419453,\n",
       "       1.85924289, 1.57829802, 1.3074281 , 1.78247392, 1.27255809,\n",
       "       1.45190883, 1.68659488, 2.14879618, 1.5365508 , 1.34453855,\n",
       "       1.15445319, 2.02016186, 1.48127628, 1.60746229, 1.76125084,\n",
       "       1.43434433, 1.70374518, 1.51947721, 2.06824682, 1.81592608,\n",
       "       1.25623792, 1.37695077, 1.56949652, 1.33061164, 1.66580363,\n",
       "       2.16970202, 1.41654537, 1.63991499, 1.19104068, 1.52690546,\n",
       "       1.95881711, 1.54800363, 1.8002499 , 1.47121625, 1.7170129 ,\n",
       "       1.36215429, 1.74029493, 1.65661281, 1.49854367, 1.59289881])"
      ]
     },
     "execution_count": 192,
     "metadata": {},
     "output_type": "execute_result"
    }
   ],
   "source": [
    "coarse_macrostate_clusters['folded'].cluster_centers.flatten()"
   ]
  },
  {
   "cell_type": "code",
   "execution_count": 228,
   "metadata": {
    "execution": {
     "iopub.execute_input": "2022-02-23T21:44:14.609709Z",
     "iopub.status.busy": "2022-02-23T21:44:14.608617Z",
     "iopub.status.idle": "2022-02-23T21:44:14.901881Z",
     "shell.execute_reply": "2022-02-23T21:44:14.900828Z",
     "shell.execute_reply.started": "2022-02-23T21:44:14.609661Z"
    },
    "tags": []
   },
   "outputs": [
    {
     "data": {
      "text/plain": [
       "Text(0, 0.5, '-$\\\\ln( P^{equil} )$')"
      ]
     },
     "execution_count": 228,
     "metadata": {},
     "output_type": "execute_result"
    },
    {
     "data": {
      "image/png": "[encoded data removed]",
      "text/plain": [
       "<Figure size 432x288 with 1 Axes>"
      ]
     },
     "metadata": {},
     "output_type": "display_data"
    }
   ],
   "source": [
    "potential = -np.log(msm.stationary_distribution)\n",
    "\n",
    "coarse_distribution = np.zeros(len(cg_map))\n",
    "for coarse_state, fine_states in enumerate(cg_map):\n",
    "    coarse_distribution[coarse_state] = np.sum(msm.stationary_distribution[fine_states])\n",
    "    \n",
    "assert np.isclose(sum(coarse_distribution), 1.0), \"Coarse distribution not normalized\"\n",
    "coarse_potential = -np.log(coarse_distribution)\n",
    "\n",
    "    \n",
    "# plt.plot(\n",
    "#     avg_state_rmsds[rmsd_sort_order],\n",
    "#     potential[rmsd_sort_order], '.')\n",
    "\n",
    "# plt.plot(\n",
    "#     np.concatenate([coarse_macrostate_clusters['folded'].cluster_centers.flatten(), \n",
    "#                     coarse_clustering.cluster_centers.flatten(), \n",
    "#                     coarse_macrostate_clusters['unfolded'].cluster_centers.flatten()\n",
    "#                    ]),\n",
    "#     coarse_potential, '.')\n",
    "\n",
    "plt.plot(\n",
    "    coarse_macrostate_clusters['folded'].cluster_centers.flatten(),\n",
    "    coarse_potential[range(n_coarse_target_clusters)], \n",
    "    'b.')\n",
    "\n",
    "\n",
    "plt.plot(\n",
    "    coarse_macrostate_clusters['unfolded'].cluster_centers.flatten(),\n",
    "    coarse_potential[range(n_coarse_target_clusters + n_coarse_clusters,\n",
    "                           n_coarse_target_clusters + n_coarse_clusters + \n",
    "                               n_coarse_target_clusters)], \n",
    "    'g.')\n",
    "\n",
    "plt.plot(coarse_clustering.cluster_centers.flatten(), \n",
    "        coarse_potential[range(n_coarse_target_clusters, \n",
    "                               n_coarse_target_clusters + n_coarse_clusters)], \n",
    "         'r.')\n",
    "\n",
    "# plt.axvline(folded_thresh)\n",
    "# plt.axvline(unfolded_thresh)\n",
    "\n",
    "plt.xlabel('RMSD')\n",
    "plt.ylabel('-$\\\\ln( P^{equil} )$')"
   ]
  },
  {
   "cell_type": "markdown",
   "metadata": {},
   "source": [
    "## Compute average coarse-state RMSD"
   ]
  },
  {
   "cell_type": "raw",
   "metadata": {
    "execution": {
     "iopub.execute_input": "2022-02-18T23:06:22.658251Z",
     "iopub.status.busy": "2022-02-18T23:06:22.657840Z",
     "iopub.status.idle": "2022-02-18T23:06:22.676398Z",
     "shell.execute_reply": "2022-02-18T23:06:22.674454Z",
     "shell.execute_reply.started": "2022-02-18T23:06:22.658215Z"
    },
    "tags": []
   },
   "source": [
    "avg_folded_rmsd = avg_state_rmsds[cg_map[0]].mean()\n",
    "avg_unfolded_rmsd = avg_state_rmsds[cg_map[-1]].mean()\n",
    "\n",
    "avg_coarse_rmsd = np.concatenate([\n",
    "    [avg_folded_rmsd],\n",
    "    coarse_clustering.cluster_centers.flatten(),\n",
    "    [avg_unfolded_rmsd]\n",
    "])"
   ]
  },
  {
   "cell_type": "code",
   "execution_count": 194,
   "metadata": {
    "execution": {
     "iopub.execute_input": "2022-02-22T21:20:14.728049Z",
     "iopub.status.busy": "2022-02-22T21:20:14.727743Z",
     "iopub.status.idle": "2022-02-22T21:20:14.731477Z",
     "shell.execute_reply": "2022-02-22T21:20:14.730774Z",
     "shell.execute_reply.started": "2022-02-22T21:20:14.728024Z"
    },
    "tags": []
   },
   "outputs": [],
   "source": [
    "avg_coarse_rmsd = np.concatenate([\n",
    "    coarse_macrostate_clusters['folded'].cluster_centers.flatten(),\n",
    "    coarse_clustering.cluster_centers.flatten(),\n",
    "    coarse_macrostate_clusters['unfolded'].cluster_centers.flatten()\n",
    "])"
   ]
  },
  {
   "cell_type": "code",
   "execution_count": 195,
   "metadata": {
    "execution": {
     "iopub.execute_input": "2022-02-22T21:20:14.732937Z",
     "iopub.status.busy": "2022-02-22T21:20:14.732507Z",
     "iopub.status.idle": "2022-02-22T21:20:14.737225Z",
     "shell.execute_reply": "2022-02-22T21:20:14.736336Z",
     "shell.execute_reply.started": "2022-02-22T21:20:14.732909Z"
    },
    "tags": []
   },
   "outputs": [],
   "source": [
    "cg_state_sort = np.argsort(avg_coarse_rmsd)"
   ]
  },
  {
   "cell_type": "markdown",
   "metadata": {},
   "source": [
    "### Save fine transition matrix and coarse mapping"
   ]
  },
  {
   "cell_type": "code",
   "execution_count": 211,
   "metadata": {
    "execution": {
     "iopub.execute_input": "2022-02-22T22:35:40.345121Z",
     "iopub.status.busy": "2022-02-22T22:35:40.341010Z",
     "iopub.status.idle": "2022-02-22T22:35:40.574127Z",
     "shell.execute_reply": "2022-02-22T22:35:40.572335Z",
     "shell.execute_reply.started": "2022-02-22T22:35:40.345058Z"
    },
    "pycharm": {
     "name": "#%%\n"
    },
    "tags": []
   },
   "outputs": [
    {
     "name": "stdout",
     "output_type": "stream",
     "text": [
      "Saved to finer_transition_matrix_nfine1020_ernesto_symm\n"
     ]
    }
   ],
   "source": [
    "np.savez(f'{dataset_label}_transition_matrix_nfine{len(msm.transition_matrix)}_ernesto_symm', transition_matrix=msm.transition_matrix,\n",
    "         states_unfolded = unfolded,\n",
    "         states_folded = folded,\n",
    "         fine_clustering = clustering,\n",
    "         coarse_clustering = coarse_clustering,\n",
    "         mfpt_folding = mfpt_folding,\n",
    "         mfpt_unfolding = mfpt_unfolding,\n",
    "         coarse_mapping = coarse_mapping,\n",
    "         avg_state_rmsds = avg_state_rmsds,\n",
    "         coarse_potential = coarse_potential,\n",
    "         coarse_eq_ref = coarse_distribution,\n",
    "         cg_state_sort = cg_state_sort,\n",
    "         avg_coarse_rmsd = avg_coarse_rmsd,\n",
    "         msm_object=msm,\n",
    "         coarse_macrostate_clusters=coarse_macrostate_clusters\n",
    "         )\n",
    "print(f\"Saved to {dataset_label}_transition_matrix_nfine{len(msm.transition_matrix)}_ernesto_symm\")"
   ]
  },
  {
   "cell_type": "code",
   "execution_count": 213,
   "metadata": {
    "execution": {
     "iopub.execute_input": "2022-02-22T22:37:18.009482Z",
     "iopub.status.busy": "2022-02-22T22:37:18.009195Z",
     "iopub.status.idle": "2022-02-22T22:37:18.016611Z",
     "shell.execute_reply": "2022-02-22T22:37:18.015805Z",
     "shell.execute_reply.started": "2022-02-22T22:37:18.009457Z"
    },
    "tags": []
   },
   "outputs": [
    {
     "data": {
      "text/plain": [
       "50"
      ]
     },
     "execution_count": 213,
     "metadata": {},
     "output_type": "execute_result"
    }
   ],
   "source": [
    "coarse_macrostate_clusters['folded'].n_clusters"
   ]
  },
  {
   "cell_type": "code",
   "execution_count": 197,
   "metadata": {
    "execution": {
     "iopub.execute_input": "2022-02-22T21:20:14.824478Z",
     "iopub.status.busy": "2022-02-22T21:20:14.823913Z",
     "iopub.status.idle": "2022-02-22T21:20:14.830018Z",
     "shell.execute_reply": "2022-02-22T21:20:14.828948Z",
     "shell.execute_reply.started": "2022-02-22T21:20:14.824451Z"
    },
    "tags": []
   },
   "outputs": [
    {
     "data": {
      "text/plain": [
       "120"
      ]
     },
     "execution_count": 197,
     "metadata": {},
     "output_type": "execute_result"
    }
   ],
   "source": [
    "coarse_mapping[150]"
   ]
  },
  {
   "cell_type": "markdown",
   "metadata": {},
   "source": [
    "# Sample trajectory generation"
   ]
  },
  {
   "cell_type": "markdown",
   "metadata": {},
   "source": [
    "Now, we should be able to generate some trajectories from our Markov model.\n",
    "\n",
    "A couple notes:\n",
    "- Generated trajectories will have timestep equal to the lag time of the MSM. This is important when compute MFPTs etc\n",
    "- Generated trajectories are of course in the space of the fine-grained states, and will be coarse-grained after generation\n",
    "\n",
    "To sanity-check this procedure, I'll generate a large number of trajectories and then verify analyzing them gives me results consistent with the original Markov model."
   ]
  },
  {
   "cell_type": "markdown",
   "metadata": {},
   "source": [
    "## Generate fine trajectories"
   ]
  },
  {
   "cell_type": "code",
   "execution_count": 198,
   "metadata": {
    "execution": {
     "iopub.execute_input": "2022-02-22T21:20:14.831584Z",
     "iopub.status.busy": "2022-02-22T21:20:14.831284Z",
     "iopub.status.idle": "2022-02-22T21:20:14.837262Z",
     "shell.execute_reply": "2022-02-22T21:20:14.836482Z",
     "shell.execute_reply.started": "2022-02-22T21:20:14.831558Z"
    },
    "tags": []
   },
   "outputs": [],
   "source": [
    "n_trajectories = 50\n",
    "initial_state = rmsd_sort_order[-1]\n",
    "traj_seed = 1337\n",
    "original_trajectory_length=100000\n",
    "fine_transition_matrix = msm.transition_matrix"
   ]
  },
  {
   "cell_type": "code",
   "execution_count": 199,
   "metadata": {
    "execution": {
     "iopub.execute_input": "2022-02-22T21:20:14.838478Z",
     "iopub.status.busy": "2022-02-22T21:20:14.838230Z",
     "iopub.status.idle": "2022-02-22T21:20:37.746766Z",
     "shell.execute_reply": "2022-02-22T21:20:37.745801Z",
     "shell.execute_reply.started": "2022-02-22T21:20:14.838443Z"
    },
    "tags": []
   },
   "outputs": [
    {
     "data": {
      "application/vnd.jupyter.widget-view+json": {
       "model_id": "e8f724ee498b4f23beff19dc6f722775",
       "version_major": 2,
       "version_minor": 0
      },
      "text/plain": [
       "Generating trajectories:   0%|          | 0/99999 [00:00<?, ?it/s]"
      ]
     },
     "metadata": {},
     "output_type": "display_data"
    }
   ],
   "source": [
    "# ! Start all in one point\n",
    "initial_points = np.full(n_trajectories, fill_value=initial_state)\n",
    "initial_points = np.ones(n_trajectories)\n",
    "initial_points[:] = initial_state\n",
    "\n",
    "rng = np.random.default_rng(traj_seed)\n",
    "# TODO: For large datasets, may not be able to hold this in memory\n",
    "probs = rng.random(size=(n_trajectories, original_trajectory_length))\n",
    "\n",
    "fine_trajectories = np.full(shape=(n_trajectories, original_trajectory_length), fill_value=-1, dtype=int)\n",
    "fine_trajectories[:, 0] = initial_points\n",
    "for _step in tqdm.tqdm(range(1, original_trajectory_length), desc='Generating trajectories'):\n",
    "    last_points = fine_trajectories[:, _step - 1]\n",
    "    next_step_probs = probs[:, _step]\n",
    "\n",
    "    transition_rows = fine_transition_matrix[last_points]\n",
    "    prob_sums = np.cumsum(transition_rows, axis=1)\n",
    "\n",
    "    # Using the probabilities, and the cumulative sums of the transition matrix rows, compute the next state you go to.\n",
    "    # If you look at one trajectory, this is just looking for the first point where the random number drawn is >= the\n",
    "    # cumulative probability.\n",
    "    next_states = np.argmax(\n",
    "        prob_sums - next_step_probs.reshape((n_trajectories, -1)) >= 0,\n",
    "        axis=1)\n",
    "\n",
    "    fine_trajectories[:, _step] = next_states"
   ]
  },
  {
   "cell_type": "code",
   "execution_count": 200,
   "metadata": {
    "execution": {
     "iopub.execute_input": "2022-02-22T21:20:37.748380Z",
     "iopub.status.busy": "2022-02-22T21:20:37.747709Z",
     "iopub.status.idle": "2022-02-22T21:21:02.548521Z",
     "shell.execute_reply": "2022-02-22T21:21:02.545670Z",
     "shell.execute_reply.started": "2022-02-22T21:20:37.748349Z"
    },
    "tags": []
   },
   "outputs": [
    {
     "data": {
      "application/vnd.jupyter.widget-view+json": {
       "model_id": "a8a0b27bafad4379a146c2d24f0d33ae",
       "version_major": 2,
       "version_minor": 0
      },
      "text/plain": [
       "  0%|          | 0/50 [00:00<?, ?it/s]"
      ]
     },
     "metadata": {},
     "output_type": "display_data"
    }
   ],
   "source": [
    "fine_trajectories = []\n",
    "\n",
    "for i in tqdm.tqdm(range(n_trajectories)):\n",
    "    _traj = msm.simulate(n_steps=original_trajectory_length, start=initial_state)\n",
    "    fine_trajectories.append(_traj)\n",
    "    \n",
    "fine_trajectories = np.array(fine_trajectories)"
   ]
  },
  {
   "cell_type": "markdown",
   "metadata": {},
   "source": [
    "## Coarsen trajectories"
   ]
  },
  {
   "cell_type": "code",
   "execution_count": 201,
   "metadata": {
    "execution": {
     "iopub.execute_input": "2022-02-22T21:21:02.554919Z",
     "iopub.status.busy": "2022-02-22T21:21:02.553466Z",
     "iopub.status.idle": "2022-02-22T21:21:06.719160Z",
     "shell.execute_reply": "2022-02-22T21:21:06.718417Z",
     "shell.execute_reply.started": "2022-02-22T21:21:02.554879Z"
    },
    "tags": []
   },
   "outputs": [],
   "source": [
    "# Map each fine state to its coarse state, just the inverse of cg_map\n",
    "fg_map = {y: i for (i, x) in enumerate(cg_map) for y in x}\n",
    "fine_to_coarse = np.vectorize(lambda x: fg_map[x])\n",
    "coarse_trajectories = fine_to_coarse(fine_trajectories)"
   ]
  },
  {
   "cell_type": "markdown",
   "metadata": {},
   "source": [
    "## Plot sample trajectories\n",
    "\n",
    "Plot a couple trajectories in both the fine- and coarse-grained spaces.\n",
    "\n",
    "Here, the important thing is that you should be able to see the transitions in/out of the folded/unfolded states in both. Thew intermediate can look messy, but folded/unfolded should be well defined.\n",
    "\n",
    "Note that here, we're mapping back to average RMSD on the y-axis."
   ]
  },
  {
   "cell_type": "code",
   "execution_count": 229,
   "metadata": {
    "execution": {
     "iopub.execute_input": "2022-02-23T21:45:33.514727Z",
     "iopub.status.busy": "2022-02-23T21:45:33.514450Z",
     "iopub.status.idle": "2022-02-23T21:45:36.290127Z",
     "shell.execute_reply": "2022-02-23T21:45:36.288913Z",
     "shell.execute_reply.started": "2022-02-23T21:45:33.514702Z"
    },
    "tags": []
   },
   "outputs": [
    {
     "data": {
      "image/png": "[encoded data removed]",
      "text/plain": [
       "<Figure size 900x300 with 2 Axes>"
      ]
     },
     "metadata": {},
     "output_type": "display_data"
    }
   ],
   "source": [
    "fig, ax  = plt.subplots(1, 2, figsize=(6,2))\n",
    "rmsd_ax = ax[0]\n",
    "# fine_ax = ax[1]\n",
    "coarse_ax = ax[1]\n",
    "_subsample = 10\n",
    "latest_point = 5000\n",
    "for trajectory in fine_trajectories[:2]:\n",
    "    \n",
    "    rmsd_trajectory = [avg_state_rmsds[x] for x in trajectory]\n",
    "    rmsd_ax.plot(rmsd_trajectory[:latest_point:_subsample])\n",
    "    \n",
    "    # fine_ax.plot(trajectory[::_subsample])\n",
    "    \n",
    "    coarse_traj = fine_to_coarse(trajectory)\n",
    "    coarse_rmsd_traj = [avg_coarse_rmsd[x] for x in coarse_traj]\n",
    "    coarse_ax.plot(coarse_rmsd_traj[:latest_point:_subsample])\n",
    "    \n",
    "rmsd_ax.set_ylabel('Fine state RMSD')\n",
    "# fine_ax.set_ylabel('Fine state index')\n",
    "coarse_ax.set_ylabel('Coarse State RMSD')\n",
    "\n",
    "# plt.ylim([0, 15])\n",
    "\n",
    "fig.tight_layout()\n",
    "fig.set_dpi(150)"
   ]
  },
  {
   "cell_type": "markdown",
   "metadata": {},
   "source": [
    "## Sanity checks\n",
    "\n",
    "Let's make sure that analyzing these trajectories gives back results consistent with the Markov model we used to generate them."
   ]
  },
  {
   "cell_type": "code",
   "execution_count": 203,
   "metadata": {
    "execution": {
     "iopub.execute_input": "2022-02-22T21:21:07.677544Z",
     "iopub.status.busy": "2022-02-22T21:21:07.676763Z",
     "iopub.status.idle": "2022-02-22T21:21:08.330992Z",
     "shell.execute_reply": "2022-02-22T21:21:08.330421Z",
     "shell.execute_reply.started": "2022-02-22T21:21:07.677494Z"
    },
    "tags": []
   },
   "outputs": [
    {
     "name": "stdout",
     "output_type": "stream",
     "text": [
      "50\n"
     ]
    }
   ],
   "source": [
    "lag = msm_lag_steps\n",
    "print(msm_lag_steps)\n",
    "check_count_model = TransitionCountEstimator(lag, 'sliding').fit_fetch(fine_trajectories)\n",
    "check_msm = MaximumLikelihoodMSM().fit_fetch(check_count_model.submodel_largest())"
   ]
  },
  {
   "cell_type": "markdown",
   "metadata": {},
   "source": [
    "It's possible the active set of the MSM built from the generated trajs is smaller than the full set of states.\n",
    "\n",
    "That's all well and good as far as the eventual analysis, but for sanity checks, go hard on the sampling and make sure all states are represented."
   ]
  },
  {
   "cell_type": "code",
   "execution_count": 204,
   "metadata": {
    "execution": {
     "iopub.execute_input": "2022-02-22T21:21:08.332249Z",
     "iopub.status.busy": "2022-02-22T21:21:08.331778Z",
     "iopub.status.idle": "2022-02-22T21:21:08.339100Z",
     "shell.execute_reply": "2022-02-22T21:21:08.337823Z",
     "shell.execute_reply.started": "2022-02-22T21:21:08.332208Z"
    },
    "tags": []
   },
   "outputs": [],
   "source": [
    "assert check_msm.n_states == msm.n_states"
   ]
  },
  {
   "cell_type": "markdown",
   "metadata": {},
   "source": [
    "### Compare stationary distributions\n",
    "\n",
    "This should basically be a diagonal line of slope 1, or else they're giving different stationary distributions."
   ]
  },
  {
   "cell_type": "code",
   "execution_count": 230,
   "metadata": {
    "execution": {
     "iopub.execute_input": "2022-02-23T21:47:44.818036Z",
     "iopub.status.busy": "2022-02-23T21:47:44.817767Z",
     "iopub.status.idle": "2022-02-23T21:47:45.022429Z",
     "shell.execute_reply": "2022-02-23T21:47:45.020817Z",
     "shell.execute_reply.started": "2022-02-23T21:47:44.818013Z"
    },
    "tags": []
   },
   "outputs": [
    {
     "data": {
      "text/plain": [
       "<matplotlib.collections.PathCollection at 0x161124a30>"
      ]
     },
     "execution_count": 230,
     "metadata": {},
     "output_type": "execute_result"
    },
    {
     "data": {
      "image/png": "[encoded data removed]",
      "text/plain": [
       "<Figure size 432x288 with 1 Axes>"
      ]
     },
     "metadata": {},
     "output_type": "display_data"
    }
   ],
   "source": [
    "plt.scatter(check_msm.stationary_distribution, msm.stationary_distribution)"
   ]
  },
  {
   "cell_type": "markdown",
   "metadata": {},
   "source": [
    "### Compare MFPTs"
   ]
  },
  {
   "cell_type": "code",
   "execution_count": 206,
   "metadata": {
    "collapsed": false,
    "execution": {
     "iopub.execute_input": "2022-02-22T21:21:08.753985Z",
     "iopub.status.busy": "2022-02-22T21:21:08.753437Z",
     "iopub.status.idle": "2022-02-22T21:21:08.982170Z",
     "shell.execute_reply": "2022-02-22T21:21:08.980823Z",
     "shell.execute_reply.started": "2022-02-22T21:21:08.753953Z"
    },
    "jupyter": {
     "outputs_hidden": false
    },
    "pycharm": {
     "name": "#%%\n"
    },
    "tags": []
   },
   "outputs": [],
   "source": [
    "# Remember, trajectories I generate from the MSM are in units of the MSM lag time\n",
    "check_mfpt_folding = check_msm.mfpt(unfolded.flatten(), folded.flatten()) * msm_lag_steps"
   ]
  },
  {
   "cell_type": "code",
   "execution_count": 207,
   "metadata": {
    "collapsed": false,
    "execution": {
     "iopub.execute_input": "2022-02-22T21:21:08.983920Z",
     "iopub.status.busy": "2022-02-22T21:21:08.983509Z",
     "iopub.status.idle": "2022-02-22T21:21:09.020516Z",
     "shell.execute_reply": "2022-02-22T21:21:09.019597Z",
     "shell.execute_reply.started": "2022-02-22T21:21:08.983885Z"
    },
    "jupyter": {
     "outputs_hidden": false
    },
    "pycharm": {
     "name": "#%%\n"
    },
    "tags": []
   },
   "outputs": [],
   "source": [
    "check_mfpt_unfolding = check_msm.mfpt(folded.flatten(), unfolded.flatten()) * msm_lag_steps"
   ]
  },
  {
   "cell_type": "code",
   "execution_count": 208,
   "metadata": {
    "execution": {
     "iopub.execute_input": "2022-02-22T21:21:09.022075Z",
     "iopub.status.busy": "2022-02-22T21:21:09.021738Z",
     "iopub.status.idle": "2022-02-22T21:21:09.028621Z",
     "shell.execute_reply": "2022-02-22T21:21:09.027820Z",
     "shell.execute_reply.started": "2022-02-22T21:21:09.022046Z"
    },
    "tags": []
   },
   "outputs": [
    {
     "data": {
      "text/plain": [
       "(51138.754251981, 11599.601489364708)"
      ]
     },
     "execution_count": 208,
     "metadata": {},
     "output_type": "execute_result"
    }
   ],
   "source": [
    "mfpt_folding, mfpt_unfolding # Folding time, in units of the input trajectory"
   ]
  },
  {
   "cell_type": "code",
   "execution_count": 209,
   "metadata": {
    "execution": {
     "iopub.execute_input": "2022-02-22T21:21:09.039342Z",
     "iopub.status.busy": "2022-02-22T21:21:09.039048Z",
     "iopub.status.idle": "2022-02-22T21:21:09.046035Z",
     "shell.execute_reply": "2022-02-22T21:21:09.044271Z",
     "shell.execute_reply.started": "2022-02-22T21:21:09.039318Z"
    },
    "tags": []
   },
   "outputs": [
    {
     "data": {
      "text/plain": [
       "(59046.44079925745, 15687.514607360845)"
      ]
     },
     "execution_count": 209,
     "metadata": {},
     "output_type": "execute_result"
    }
   ],
   "source": [
    "check_mfpt_folding, check_mfpt_unfolding # Folding time, in units of the input trajectory"
   ]
  },
  {
   "cell_type": "code",
   "execution_count": 232,
   "metadata": {
    "collapsed": false,
    "execution": {
     "iopub.execute_input": "2022-02-23T21:48:50.882559Z",
     "iopub.status.busy": "2022-02-23T21:48:50.882197Z",
     "iopub.status.idle": "2022-02-23T21:48:50.894944Z",
     "shell.execute_reply": "2022-02-23T21:48:50.892716Z",
     "shell.execute_reply.started": "2022-02-23T21:48:50.882523Z"
    },
    "jupyter": {
     "outputs_hidden": false
    },
    "pycharm": {
     "name": "#%%\n"
    },
    "tags": []
   },
   "outputs": [
    {
     "name": "stdout",
     "output_type": "stream",
     "text": [
      "--- Original MSM ---\n",
      "Folding time: \t10227.75 ns\n",
      "Folding steps: \t51139 steps\n",
      "\n",
      "Unfolding time: \t2319.92 ns\n",
      "Unfolding steps: \t11600 steps\n",
      "\n",
      "--- MSM from generated trajectories ---\n",
      "Folding time: \t11809.29 ns\n",
      "Folding steps: \t1181 steps\n",
      "\n",
      "Unfolding time: \t3137.50 ns\n",
      "Unfolding steps: \t314 steps\n"
     ]
    }
   ],
   "source": [
    "# OG MSM\n",
    "print(\"--- Original MSM ---\")\n",
    "print(f\"Folding time: \\t{mfpt_folding * universe.trajectory.dt * stride / 1000:.2f} ns\")\n",
    "print(f\"Folding steps: \\t{mfpt_folding :.0f} steps\\n\")\n",
    "\n",
    "print(f\"Unfolding time: \\t{mfpt_unfolding * universe.trajectory.dt * stride  / 1000:.2f} ns\")\n",
    "print(f\"Unfolding steps: \\t{mfpt_unfolding :.0f} steps\")\n",
    "\n",
    "\n",
    "print(\"\\n--- MSM from generated trajectories ---\")\n",
    "\n",
    "print(f\"Folding time: \\t{check_mfpt_folding * universe.trajectory.dt / 1000:.2f} ns\")\n",
    "print(f\"Folding steps: \\t{check_mfpt_folding / msm_lag_steps :.0f} steps\\n\")\n",
    "\n",
    "print(f\"Unfolding time: \\t{check_mfpt_unfolding * universe.trajectory.dt  / 1000:.2f} ns\")\n",
    "print(f\"Unfolding steps: \\t{check_mfpt_unfolding / msm_lag_steps:.0f} steps\")"
   ]
  },
  {
   "cell_type": "code",
   "execution_count": null,
   "metadata": {},
   "outputs": [],
   "source": []
  }
 ],
 "metadata": {
  "kernelspec": {
   "display_name": "Python 3 (ipykernel)",
   "language": "python",
   "name": "python3"
  },
  "language_info": {
   "codemirror_mode": {
    "name": "ipython",
    "version": 3
   },
   "file_extension": ".py",
   "mimetype": "text/x-python",
   "name": "python",
   "nbconvert_exporter": "python",
   "pygments_lexer": "ipython3",
   "version": "3.9.6"
  }
 },
 "nbformat": 4,
 "nbformat_minor": 4
}
