{
 "cells": [
  {
   "cell_type": "markdown",
   "metadata": {
    "collapsed": true,
    "pycharm": {
     "name": "#%% md\n"
    }
   },
   "source": [
    "# Protein-like MSM building"
   ]
  },
  {
   "cell_type": "markdown",
   "metadata": {
    "pycharm": {
     "name": "#%% md\n"
    }
   },
   "source": [
    "Dependencies can be installed in a new conda environment with\n",
    "`conda env create -f environment.yml`\n",
    "or installed into an existing environment with\n",
    "`conda env update --name <existing environment name> --file environment.yml`"
   ]
  },
  {
   "cell_type": "markdown",
   "metadata": {
    "pycharm": {
     "name": "#%% md\n"
    }
   },
   "source": [
    "# Load dependencies"
   ]
  },
  {
   "cell_type": "code",
   "execution_count": 14,
   "metadata": {
    "pycharm": {
     "name": "#%%\n"
    }
   },
   "outputs": [],
   "source": [
    "import MDAnalysis as mda\n",
    "import MDAnalysis.analysis.rms\n",
    "import MDAnalysis.analysis.align\n",
    "import numpy as np\n",
    "import tqdm.auto as tqdm\n",
    "from deeptime.clustering import KMeans\n",
    "from matplotlib import pyplot as plt"
   ]
  },
  {
   "cell_type": "markdown",
   "metadata": {
    "pycharm": {
     "name": "#%% md\n"
    }
   },
   "source": [
    "## Load DE Shaw trajectories"
   ]
  },
  {
   "cell_type": "markdown",
   "metadata": {
    "pycharm": {
     "name": "#%% md\n"
    }
   },
   "source": [
    "I'll be using the Trp-cage (2JOF) folding trajectory #2. This is 105 DCD files + a topology .mae, indexed as 0-104."
   ]
  },
  {
   "cell_type": "code",
   "execution_count": 2,
   "metadata": {
    "pycharm": {
     "name": "#%%\n"
    }
   },
   "outputs": [],
   "source": [
    "trajectory_base_path = '/Users/russojd/Research/desres_trajectories/DESRES-Trajectory_2JOF-0-protein 2/2JOF-0-protein'\n",
    "n_traj_files = 105\n",
    "\n",
    "traj_name = \"2JOF-0-protein-{traj_idx:0>3d}.dcd\"\n",
    "\n",
    "# MDAnalysis can't read the .mae\n",
    "# topology_name = \"2JOF-0-protein.mae\"\n",
    "\n",
    "# So instead, use this PDB I got from converting the .mae\n",
    "topology_name = \"2JOF.pdb\"\n",
    "\n",
    "topology_path = f\"{trajectory_base_path}/{topology_name}\"\n",
    "traj_paths = [f\"{trajectory_base_path}/{traj_name.format(traj_idx=_idx)}\" for _idx in range(n_traj_files)]"
   ]
  },
  {
   "cell_type": "code",
   "execution_count": 3,
   "metadata": {
    "pycharm": {
     "name": "#%%\n"
    }
   },
   "outputs": [],
   "source": [
    "# Explicitly set the timestep here, since letting MDAnalysis infer it gives a wonky result.\n",
    "\n",
    "# Each of my trajectory DCD files start 2e6 units apart\n",
    "# The very first trajectory starts at 200 units\n",
    "# The whole trajectory is 208µs, and all the trajectories are 1e6 units, so a unit is 200ps.\n",
    "\n",
    "dt = 200"
   ]
  },
  {
   "cell_type": "code",
   "execution_count": 4,
   "metadata": {
    "pycharm": {
     "name": "#%%\n"
    }
   },
   "outputs": [],
   "source": [
    "universe = mda.Universe(topology_path, traj_paths, dt=dt )"
   ]
  },
  {
   "cell_type": "code",
   "execution_count": 5,
   "metadata": {
    "pycharm": {
     "name": "#%%\n"
    }
   },
   "outputs": [
    {
     "name": "stdout",
     "output_type": "stream",
     "text": [
      "Total trajectory time is 208.8 µs\n"
     ]
    }
   ],
   "source": [
    "total_time_ps = len(universe.trajectory) * universe.trajectory.dt\n",
    "\n",
    "print(f\"Total trajectory time is {total_time_ps/1e6} µs\")"
   ]
  },
  {
   "cell_type": "markdown",
   "metadata": {
    "pycharm": {
     "name": "#%% md\n"
    }
   },
   "source": [
    "## Prepare trajectory (align+center)"
   ]
  },
  {
   "cell_type": "markdown",
   "metadata": {
    "pycharm": {
     "name": "#%% md\n"
    }
   },
   "source": [
    "This aligns alpha-carbons on the provided reference topology, and spits out the result in `aligned_2JOF.dcd`. This only needs to be run once, to make that file."
   ]
  },
  {
   "cell_type": "raw",
   "metadata": {
    "pycharm": {
     "name": "#%% raw\n"
    }
   },
   "source": [
    "ref_universe = mda.Universe(topology=topology_path)\n",
    "\n",
    "MDAnalysis.analysis.align.AlignTraj(\n",
    "    universe,\n",
    "    ref_universe,\n",
    "    select='name CA',\n",
    "    filename='aligned_2JOF.dcd',\n",
    "    match_atoms=True,\n",
    "    verbose=True\n",
    ").run()"
   ]
  },
  {
   "cell_type": "markdown",
   "metadata": {
    "pycharm": {
     "name": "#%% md\n"
    }
   },
   "source": [
    "# Model-building"
   ]
  },
  {
   "cell_type": "code",
   "execution_count": 25,
   "metadata": {
    "pycharm": {
     "name": "#%%\n"
    }
   },
   "outputs": [],
   "source": [
    "# Stride the trajectory\n",
    "stride = 10\n",
    "\n",
    "# Number of clusters for k-means\n",
    "n_clusters = 100"
   ]
  },
  {
   "cell_type": "markdown",
   "metadata": {
    "pycharm": {
     "name": "#%% md\n"
    }
   },
   "source": [
    "## Featurize trajectory"
   ]
  },
  {
   "cell_type": "markdown",
   "metadata": {
    "pycharm": {
     "name": "#%% md\n"
    }
   },
   "source": [
    "In the original Shaw publication, they featurized the folding transition with alpha-carbon RMSD.\n",
    "\n",
    "[MDAnalysis RMSD documentation](https://www.mdanalysis.org/MDAnalysisTutorial/analysismodule.html#rmsd)"
   ]
  },
  {
   "cell_type": "raw",
   "metadata": {
    "pycharm": {
     "name": "#%% raw\n"
    }
   },
   "source": [
    "# Doing this and comparing to the initial frame looks terrible. I'll try the PDB structure instead.\n",
    "alpha_carbons = universe.select_atoms('name CA')\n",
    "initial_positions = alpha_carbons.positions"
   ]
  },
  {
   "cell_type": "code",
   "execution_count": 20,
   "metadata": {
    "pycharm": {
     "name": "#%%\n"
    }
   },
   "outputs": [],
   "source": [
    "aligned = mda.Universe(topology_path, 'aligned_2JOF.dcd')\n",
    "alpha_carbons = aligned.select_atoms('name CA')\n",
    "initial_positions = alpha_carbons.positions.copy()"
   ]
  },
  {
   "cell_type": "code",
   "execution_count": 26,
   "metadata": {
    "pycharm": {
     "name": "#%%\n"
    }
   },
   "outputs": [
    {
     "data": {
      "application/vnd.jupyter.widget-view+json": {
       "model_id": "541c7db63df54e429f9c4f72819ab432",
       "version_major": 2,
       "version_minor": 0
      },
      "text/plain": [
       "  0%|          | 0/1044000 [00:00<?, ?it/s]"
      ]
     },
     "metadata": {},
     "output_type": "display_data"
    }
   ],
   "source": [
    "rmsd = np.full(shape=len(aligned.trajectory)//stride, fill_value=np.nan)\n",
    "\n",
    "# alpha_carbons = aligned.select_atoms('name CA')\n",
    "\n",
    "for i, frame in tqdm.tqdm(enumerate(aligned.trajectory), total=len(aligned.trajectory), miniters=1e5, mininterval=1):\n",
    "\n",
    "    if not i%stride == 0:\n",
    "        continue\n",
    "\n",
    "    # Compute the alpha-carbon RMSD at each frame\n",
    "    frame_positions = alpha_carbons.positions\n",
    "    frame_rmsd = MDAnalysis.analysis.rms.rmsd(initial_positions, frame_positions)\n",
    "\n",
    "    if i//stride < len(aligned.trajectory)//stride:\n",
    "        rmsd[i//stride] = frame_rmsd"
   ]
  },
  {
   "cell_type": "code",
   "execution_count": 27,
   "metadata": {
    "pycharm": {
     "name": "#%%\n"
    }
   },
   "outputs": [
    {
     "data": {
      "text/plain": [
       "[<matplotlib.lines.Line2D at 0x16676c4c0>]"
      ]
     },
     "execution_count": 27,
     "metadata": {},
     "output_type": "execute_result"
    },
    {
     "data": {
      "image/png": "[encoded data removed]",
      "text/plain": [
       "<Figure size 432x288 with 1 Axes>"
      ]
     },
     "metadata": {
      "needs_background": "light"
     },
     "output_type": "display_data"
    }
   ],
   "source": [
    "plt.plot(rmsd)"
   ]
  },
  {
   "cell_type": "markdown",
   "metadata": {
    "pycharm": {
     "name": "#%% md\n"
    }
   },
   "source": [
    "## Discretize trajectory"
   ]
  },
  {
   "cell_type": "markdown",
   "metadata": {
    "pycharm": {
     "name": "#%% md\n"
    }
   },
   "source": [
    "We'll just do a simple k-means clustering on the RMSDs.\n",
    "\n",
    "[Deeptime k-means clustering documentation](https://deeptime-ml.github.io/latest/notebooks/clustering.html)"
   ]
  },
  {
   "cell_type": "code",
   "execution_count": 92,
   "metadata": {
    "pycharm": {
     "name": "#%%\n"
    }
   },
   "outputs": [],
   "source": [
    "# Initialize the estimator\n",
    "kmeans_estimator = KMeans(\n",
    "    n_clusters=n_clusters,\n",
    "    init_strategy='uniform',\n",
    "    max_iter=1000,\n",
    "    fixed_seed=1337,\n",
    "    n_jobs=4\n",
    ")"
   ]
  },
  {
   "cell_type": "code",
   "execution_count": 93,
   "metadata": {
    "pycharm": {
     "name": "#%%\n"
    }
   },
   "outputs": [
    {
     "name": "stderr",
     "output_type": "stream",
     "text": [
      "/Users/russojd/opt/anaconda3/envs/protein-like_msm/lib/python3.9/site-packages/deeptime/clustering/_kmeans.py:458: UserWarning: Algorithm did not reach convergence criterion of 1e-05 in 1000 iterations. Consider increasing max_iter.\n",
      "  warnings.warn(f\"Algorithm did not reach convergence criterion\"\n"
     ]
    }
   ],
   "source": [
    "# Perform the clustering\n",
    "clustering = kmeans_estimator.fit(rmsd).fetch_model()"
   ]
  },
  {
   "cell_type": "code",
   "execution_count": 95,
   "metadata": {
    "pycharm": {
     "name": "#%%\n"
    }
   },
   "outputs": [],
   "source": [
    "# Discretize the trajectory\n",
    "discrete_trajectory = clustering.transform(rmsd)"
   ]
  },
  {
   "cell_type": "code",
   "execution_count": 96,
   "metadata": {
    "pycharm": {
     "name": "#%%\n"
    }
   },
   "outputs": [
    {
     "data": {
      "text/plain": [
       "<matplotlib.legend.Legend at 0x169921af0>"
      ]
     },
     "execution_count": 96,
     "metadata": {},
     "output_type": "execute_result"
    },
    {
     "data": {
      "image/png": "[encoded data removed]",
      "text/plain": [
       "<Figure size 432x288 with 2 Axes>"
      ]
     },
     "metadata": {
      "needs_background": "light"
     },
     "output_type": "display_data"
    }
   ],
   "source": [
    "# Plot the RMSDs and discrete trajectory\n",
    "fig, discrete_ax = plt.subplots(1,1)\n",
    "rmsd_ax = discrete_ax.twinx()\n",
    "\n",
    "rmsd_ax.plot(rmsd, color='gray', label='RMSD')\n",
    "rmsd_ax.set_ylabel('RMSD')\n",
    "\n",
    "discrete_ax.plot(discrete_trajectory, color='k', label='Discrete')\n",
    "discrete_ax.set_ylabel('State')\n",
    "\n",
    "fig.legend()"
   ]
  },
  {
   "cell_type": "markdown",
   "metadata": {
    "pycharm": {
     "name": "#%% md\n"
    }
   },
   "source": [
    "## Build MSM"
   ]
  },
  {
   "cell_type": "code",
   "execution_count": 97,
   "metadata": {
    "pycharm": {
     "name": "#%%\n"
    }
   },
   "outputs": [],
   "source": [
    "from deeptime.markov import TransitionCountEstimator\n",
    "from deeptime.markov.msm import MaximumLikelihoodMSM"
   ]
  },
  {
   "cell_type": "code",
   "execution_count": 98,
   "metadata": {
    "pycharm": {
     "name": "#%%\n"
    }
   },
   "outputs": [],
   "source": [
    "lag = 1\n",
    "count_model = TransitionCountEstimator(lag, 'sliding').fit_fetch(discrete_trajectory)\n",
    "msm = MaximumLikelihoodMSM().fit_fetch(count_model.submodel_largest())"
   ]
  },
  {
   "cell_type": "markdown",
   "metadata": {
    "pycharm": {
     "name": "#%% md\n"
    }
   },
   "source": [
    "### Visualize results of MSM"
   ]
  },
  {
   "cell_type": "code",
   "execution_count": 99,
   "metadata": {
    "pycharm": {
     "name": "#%%\n"
    }
   },
   "outputs": [],
   "source": [
    "# Sort clusters by RMSD, so we get smooth plots of stationary distributions\n",
    "cluster_sort_order = np.argsort(clustering.cluster_centers, axis=0)"
   ]
  },
  {
   "cell_type": "code",
   "execution_count": 100,
   "metadata": {
    "pycharm": {
     "name": "#%%\n"
    }
   },
   "outputs": [],
   "source": [
    "# Get the histogram in each bin from the full trajectory\n",
    "hist_bins, hist_counts = np.unique(discrete_trajectory, return_counts=True)\n",
    "hist_counts = hist_counts/sum(hist_counts)"
   ]
  },
  {
   "cell_type": "code",
   "execution_count": 101,
   "metadata": {
    "pycharm": {
     "name": "#%%\n"
    }
   },
   "outputs": [
    {
     "data": {
      "text/plain": [
       "<matplotlib.legend.Legend at 0x166db9dc0>"
      ]
     },
     "execution_count": 101,
     "metadata": {},
     "output_type": "execute_result"
    },
    {
     "data": {
      "image/png": "[encoded data removed]",
      "text/plain": [
       "<Figure size 432x288 with 3 Axes>"
      ]
     },
     "metadata": {
      "needs_background": "light"
     },
     "output_type": "display_data"
    }
   ],
   "source": [
    "# Plot the RMSDs and discrete trajectory\n",
    "fig, discrete_ax = plt.subplots(1,1)\n",
    "rmsd_ax = discrete_ax.twinx()\n",
    "\n",
    "rmsd_ax.plot(rmsd, color='gray', label='RMSD')\n",
    "rmsd_ax.set_ylabel('RMSD')\n",
    "discrete_ax.plot(discrete_trajectory, color='k', label='Discrete')\n",
    "discrete_ax.set_ylabel('State')\n",
    "rmsd_ax.set_xlabel('Time (ps)')\n",
    "\n",
    "stationary_ax = rmsd_ax.twiny()\n",
    "stationary_ax.plot(\n",
    "    msm.stationary_distribution[cluster_sort_order],\n",
    "    clustering.cluster_centers[cluster_sort_order].flatten(),\n",
    "    color='red',\n",
    "    label='Stationary distribution'\n",
    ")\n",
    "stationary_ax.plot(\n",
    "    hist_counts[cluster_sort_order],\n",
    "    clustering.cluster_centers[hist_bins.astype(int)][cluster_sort_order].flatten(),\n",
    "    color='green',\n",
    "    linestyle='--',\n",
    "    label='Histogram'\n",
    ")\n",
    "stationary_ax.set_xlabel('Probability')\n",
    "\n",
    "fig.legend()"
   ]
  },
  {
   "cell_type": "markdown",
   "metadata": {
    "pycharm": {
     "name": "#%% md\n"
    }
   },
   "source": [
    "### Save the model"
   ]
  },
  {
   "cell_type": "code",
   "execution_count": 102,
   "metadata": {
    "pycharm": {
     "name": "#%%\n"
    }
   },
   "outputs": [],
   "source": [
    "np.savez('transition_matrix', transition_matrix=msm.transition_matrix)"
   ]
  }
 ],
 "metadata": {
  "kernelspec": {
   "display_name": "Python 3 (ipykernel)",
   "language": "python",
   "name": "python3"
  },
  "language_info": {
   "codemirror_mode": {
    "name": "ipython",
    "version": 3
   },
   "file_extension": ".py",
   "mimetype": "text/x-python",
   "name": "python",
   "nbconvert_exporter": "python",
   "pygments_lexer": "ipython3",
   "version": "3.9.10"
  }
 },
 "nbformat": 4,
 "nbformat_minor": 1
}