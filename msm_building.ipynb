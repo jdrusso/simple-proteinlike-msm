{
 "cells": [
  {
   "cell_type": "markdown",
   "metadata": {
    "pycharm": {
     "name": "#%% md\n"
    }
   },
   "source": [
    "# Protein-like MSM building"
   ]
  },
  {
   "cell_type": "markdown",
   "metadata": {
    "pycharm": {
     "name": "#%% md\n"
    }
   },
   "source": [
    "Dependencies can be installed in a new conda environment with\n",
    "`conda env create -f environment.yml`\n",
    "or installed into an existing environment with\n",
    "`conda env update --name <existing environment name> --file environment.yml`"
   ]
  },
  {
   "cell_type": "markdown",
   "metadata": {
    "pycharm": {
     "name": "#%% md\n"
    }
   },
   "source": [
    "# Load dependencies"
   ]
  },
  {
   "cell_type": "code",
   "execution_count": 1,
   "metadata": {
    "execution": {
     "iopub.execute_input": "2022-04-01T23:12:17.286936Z",
     "iopub.status.busy": "2022-04-01T23:12:17.284118Z",
     "iopub.status.idle": "2022-04-01T23:12:23.173241Z",
     "shell.execute_reply": "2022-04-01T23:12:23.172702Z",
     "shell.execute_reply.started": "2022-04-01T23:12:17.286073Z"
    },
    "pycharm": {
     "name": "#%%\n"
    },
    "tags": []
   },
   "outputs": [],
   "source": [
    "import MDAnalysis as mda\n",
    "import MDAnalysis.analysis.rms\n",
    "import MDAnalysis.analysis.align\n",
    "from MDAnalysis.analysis import diffusionmap\n",
    "from MDAnalysis.analysis.distances import distance_array\n",
    "import numpy as np\n",
    "import tqdm.auto as tqdm\n",
    "from deeptime.clustering import KMeans, KMeansModel\n",
    "from matplotlib import pyplot as plt\n",
    "from deeptime.decomposition import TICA\n",
    "import copy\n",
    "import pickle\n",
    "import ray"
   ]
  },
  {
   "cell_type": "code",
   "execution_count": 2,
   "metadata": {
    "execution": {
     "iopub.execute_input": "2022-04-01T23:12:23.175425Z",
     "iopub.status.busy": "2022-04-01T23:12:23.175015Z",
     "iopub.status.idle": "2022-04-01T23:12:23.183500Z",
     "shell.execute_reply": "2022-04-01T23:12:23.182333Z",
     "shell.execute_reply.started": "2022-04-01T23:12:23.175393Z"
    },
    "tags": []
   },
   "outputs": [],
   "source": [
    "plt.rcParams.update({\n",
    "    \"figure.facecolor\":  (1.0, 1.0, 1.0, 1.0),  # white with alpha = 100%\n",
    "    \"axes.facecolor\":    (1.0, 1.0, 1.0, 1.0),  # white with alpha = 100%\n",
    "})"
   ]
  },
  {
   "cell_type": "markdown",
   "metadata": {
    "pycharm": {
     "name": "#%% md\n"
    }
   },
   "source": [
    "## Load DE Shaw trajectories"
   ]
  },
  {
   "cell_type": "markdown",
   "metadata": {
    "pycharm": {
     "name": "#%% md\n"
    }
   },
   "source": [
    "I'll be using the Trp-cage (2JOF) folding trajectory #2. This is 105 DCD files + a topology .mae, indexed as 0-104."
   ]
  },
  {
   "cell_type": "code",
   "execution_count": 3,
   "metadata": {
    "execution": {
     "iopub.execute_input": "2022-04-01T23:12:23.187035Z",
     "iopub.status.busy": "2022-04-01T23:12:23.186733Z",
     "iopub.status.idle": "2022-04-01T23:12:23.202590Z",
     "shell.execute_reply": "2022-04-01T23:12:23.197416Z",
     "shell.execute_reply.started": "2022-04-01T23:12:23.186998Z"
    },
    "pycharm": {
     "name": "#%%\n"
    },
    "tags": []
   },
   "outputs": [],
   "source": [
    "trajectory_base_path = '/Users/russojd/Research/desres_trajectories/DESRES-Trajectory_2JOF-0-protein 2/2JOF-0-protein'\n",
    "n_traj_files = 105\n",
    "\n",
    "traj_name = \"2JOF-0-protein-{traj_idx:0>3d}.dcd\"\n",
    "\n",
    "dataset_label = 'strict_strat_tic_cluster_lag-10ns'\n",
    "dataset_label = 'strict_strat_tic_cluster_lag-1ns'\n",
    "\n",
    "# MDAnalysis can't read the .mae\n",
    "# topology_name = \"2JOF-0-protein.mae\"\n",
    "\n",
    "# So instead, use this PDB I got from converting the .mae\n",
    "topology_name = \"2JOF.pdb\"\n",
    "\n",
    "model_name = '2JOF'\n",
    "\n",
    "topology_path = f\"{trajectory_base_path}/{topology_name}\"\n",
    "traj_paths = [f\"{trajectory_base_path}/{traj_name.format(traj_idx=_idx)}\" for _idx in range(n_traj_files)]"
   ]
  },
  {
   "cell_type": "code",
   "execution_count": 4,
   "metadata": {
    "execution": {
     "iopub.execute_input": "2022-04-01T23:12:23.206234Z",
     "iopub.status.busy": "2022-04-01T23:12:23.205911Z",
     "iopub.status.idle": "2022-04-01T23:12:23.217002Z",
     "shell.execute_reply": "2022-04-01T23:12:23.212236Z",
     "shell.execute_reply.started": "2022-04-01T23:12:23.206202Z"
    },
    "pycharm": {
     "name": "#%%\n"
    },
    "tags": []
   },
   "outputs": [],
   "source": [
    "# Explicitly set the timestep here, since letting MDAnalysis infer it gives a wonky result.\n",
    "\n",
    "# Each of my trajectory DCD files start 2e6 units apart\n",
    "# The very first trajectory starts at 200 units\n",
    "# The whole trajectory is 208µs, and all the trajectories are 1e6 units, so a unit is 200ps.\n",
    "\n",
    "dt = 200"
   ]
  },
  {
   "cell_type": "code",
   "execution_count": 5,
   "metadata": {
    "execution": {
     "iopub.execute_input": "2022-04-01T23:12:23.222334Z",
     "iopub.status.busy": "2022-04-01T23:12:23.221848Z",
     "iopub.status.idle": "2022-04-01T23:12:23.470832Z",
     "shell.execute_reply": "2022-04-01T23:12:23.469925Z",
     "shell.execute_reply.started": "2022-04-01T23:12:23.222299Z"
    },
    "pycharm": {
     "name": "#%%\n"
    },
    "tags": []
   },
   "outputs": [],
   "source": [
    "universe = mda.Universe(topology_path, traj_paths, dt=dt )"
   ]
  },
  {
   "cell_type": "code",
   "execution_count": 6,
   "metadata": {
    "execution": {
     "iopub.execute_input": "2022-04-01T23:12:23.472677Z",
     "iopub.status.busy": "2022-04-01T23:12:23.472223Z",
     "iopub.status.idle": "2022-04-01T23:12:23.485630Z",
     "shell.execute_reply": "2022-04-01T23:12:23.481761Z",
     "shell.execute_reply.started": "2022-04-01T23:12:23.472646Z"
    },
    "pycharm": {
     "name": "#%%\n"
    },
    "tags": []
   },
   "outputs": [
    {
     "name": "stdout",
     "output_type": "stream",
     "text": [
      "Total trajectory time is 208.8 µs\n"
     ]
    }
   ],
   "source": [
    "total_time_ps = len(universe.trajectory) * universe.trajectory.dt\n",
    "\n",
    "print(f\"Total trajectory time is {total_time_ps/1e6} µs\")"
   ]
  },
  {
   "cell_type": "markdown",
   "metadata": {
    "pycharm": {
     "name": "#%% md\n"
    }
   },
   "source": [
    "## Prepare trajectory (align+center)"
   ]
  },
  {
   "cell_type": "markdown",
   "metadata": {
    "pycharm": {
     "name": "#%% md\n"
    }
   },
   "source": [
    "This aligns alpha-carbons on the provided reference topology, and spits out the result in `aligned_2JOF.dcd`. This only needs to be run once, to make that file."
   ]
  },
  {
   "cell_type": "code",
   "execution_count": 7,
   "metadata": {
    "execution": {
     "iopub.execute_input": "2022-04-01T23:12:23.598301Z",
     "iopub.status.busy": "2022-04-01T23:12:23.598003Z",
     "iopub.status.idle": "2022-04-01T23:12:23.619217Z",
     "shell.execute_reply": "2022-04-01T23:12:23.618540Z",
     "shell.execute_reply.started": "2022-04-01T23:12:23.598274Z"
    },
    "pycharm": {
     "name": "#%% raw\n"
    },
    "tags": []
   },
   "outputs": [],
   "source": [
    "ref_universe = mda.Universe(topology=topology_path)"
   ]
  },
  {
   "cell_type": "raw",
   "metadata": {
    "pycharm": {
     "name": "#%% raw\n"
    }
   },
   "source": [
    "MDAnalysis.analysis.align.AlignTraj(\n",
    "    universe,\n",
    "    ref_universe,\n",
    "    select='name CA',\n",
    "    filename='aligned_2JOF.dcd',\n",
    "    match_atoms=True,\n",
    "    verbose=True\n",
    ").run()"
   ]
  },
  {
   "cell_type": "markdown",
   "metadata": {
    "pycharm": {
     "name": "#%% md\n"
    }
   },
   "source": [
    "# Trajectory preparation"
   ]
  },
  {
   "cell_type": "code",
   "execution_count": 7,
   "metadata": {
    "execution": {
     "iopub.execute_input": "2022-04-01T23:12:25.313709Z",
     "iopub.status.busy": "2022-04-01T23:12:25.312859Z",
     "iopub.status.idle": "2022-04-01T23:12:25.334910Z",
     "shell.execute_reply": "2022-04-01T23:12:25.319252Z",
     "shell.execute_reply.started": "2022-04-01T23:12:25.313563Z"
    },
    "pycharm": {
     "name": "#%%\n"
    },
    "tags": []
   },
   "outputs": [],
   "source": [
    "# Stride the trajectory\n",
    "stride = 1\n",
    "\n",
    "rmsd_stride = 1\n",
    "\n",
    "# tica_dims = 10\n",
    "\n",
    "# The tIC that most closely corresponds to RMSD -- may change\n",
    "tic_rmsd = 0"
   ]
  },
  {
   "cell_type": "markdown",
   "metadata": {
    "pycharm": {
     "name": "#%% md\n"
    }
   },
   "source": [
    "## Featurize trajectory"
   ]
  },
  {
   "cell_type": "markdown",
   "metadata": {
    "pycharm": {
     "name": "#%% md\n"
    }
   },
   "source": [
    "In the original Shaw publication, they featurized the folding transition with alpha-carbon RMSD.\n",
    "\n",
    "[MDAnalysis RMSD documentation](https://www.mdanalysis.org/MDAnalysisTutorial/analysismodule.html#rmsd)"
   ]
  },
  {
   "cell_type": "raw",
   "metadata": {
    "pycharm": {
     "name": "#%% raw\n"
    }
   },
   "source": [
    "# Doing this and comparing to the initial frame looks terrible. I'll try the PDB structure instead.\n",
    "alpha_carbons = universe.select_atoms('name CA')\n",
    "initial_positions = alpha_carbons.positions"
   ]
  },
  {
   "cell_type": "code",
   "execution_count": 8,
   "metadata": {
    "execution": {
     "iopub.execute_input": "2022-04-01T23:12:29.204281Z",
     "iopub.status.busy": "2022-04-01T23:12:29.203900Z",
     "iopub.status.idle": "2022-04-01T23:12:29.223865Z",
     "shell.execute_reply": "2022-04-01T23:12:29.223137Z",
     "shell.execute_reply.started": "2022-04-01T23:12:29.204244Z"
    },
    "pycharm": {
     "name": "#%%\n"
    },
    "tags": []
   },
   "outputs": [],
   "source": [
    "aligned = mda.Universe(topology_path, 'aligned_2JOF.dcd')\n",
    "alpha_carbons = aligned.select_atoms('name CA')\n",
    "initial_positions = alpha_carbons.positions.copy()"
   ]
  },
  {
   "cell_type": "markdown",
   "metadata": {
    "pycharm": {
     "name": "#%% md\n"
    }
   },
   "source": [
    "### Compute RMSD"
   ]
  },
  {
   "cell_type": "raw",
   "metadata": {
    "pycharm": {
     "name": "#%% raw\n"
    }
   },
   "source": [
    "rmsd = np.full(shape=len(aligned.trajectory)//stride, fill_value=np.nan)\n",
    "\n",
    "# alpha_carbons = aligned.select_atoms('name CA')\n",
    "\n",
    "for i, frame in tqdm.tqdm(enumerate(aligned.trajectory), total=len(aligned.trajectory), miniters=1e5, mininterval=1):\n",
    "\n",
    "    if not i%stride == 0:\n",
    "        continue\n",
    "\n",
    "    # Compute the alpha-carbon RMSD at each frame\n",
    "    frame_positions = alpha_carbons.positions\n",
    "    frame_rmsd = MDAnalysis.analysis.rms.rmsd(initial_positions, frame_positions)\n",
    "\n",
    "    if i//stride < len(aligned.trajectory)//stride:\n",
    "        rmsd[i//stride] = frame_rmsd\n",
    "\n",
    "np.savez(f'rmsd_{model_name}', rmsd=rmsd)"
   ]
  },
  {
   "cell_type": "markdown",
   "metadata": {},
   "source": [
    "#### Load saved"
   ]
  },
  {
   "cell_type": "code",
   "execution_count": 9,
   "metadata": {
    "collapsed": false,
    "execution": {
     "iopub.execute_input": "2022-04-01T23:12:30.754738Z",
     "iopub.status.busy": "2022-04-01T23:12:30.754398Z",
     "iopub.status.idle": "2022-04-01T23:12:30.792896Z",
     "shell.execute_reply": "2022-04-01T23:12:30.792073Z",
     "shell.execute_reply.started": "2022-04-01T23:12:30.754709Z"
    },
    "jupyter": {
     "outputs_hidden": false
    },
    "pycharm": {
     "name": "#%%\n"
    },
    "tags": []
   },
   "outputs": [],
   "source": [
    "rmsd = np.load(f'rmsd_{model_name}.npz')['rmsd']"
   ]
  },
  {
   "cell_type": "code",
   "execution_count": 10,
   "metadata": {
    "execution": {
     "iopub.execute_input": "2022-03-12T05:55:12.082248Z",
     "iopub.status.busy": "2022-03-12T05:55:12.081885Z",
     "iopub.status.idle": "2022-03-12T05:55:12.425311Z",
     "shell.execute_reply": "2022-03-12T05:55:12.424701Z",
     "shell.execute_reply.started": "2022-03-12T05:55:12.082208Z"
    },
    "pycharm": {
     "name": "#%%\n"
    },
    "tags": []
   },
   "outputs": [
    {
     "data": {
      "text/plain": "[<matplotlib.lines.Line2D at 0x15afe6a90>]"
     },
     "execution_count": 10,
     "metadata": {},
     "output_type": "execute_result"
    },
    {
     "data": {
      "text/plain": "<Figure size 432x288 with 1 Axes>",
      "image/png": "[encoded data removed]"
     },
     "metadata": {},
     "output_type": "display_data"
    }
   ],
   "source": [
    "plt.plot(rmsd)"
   ]
  },
  {
   "cell_type": "markdown",
   "metadata": {},
   "source": [
    "### Get instantaneous positions of all alpha-carbons"
   ]
  },
  {
   "cell_type": "raw",
   "metadata": {
    "execution": {
     "iopub.execute_input": "2022-02-10T20:29:03.623381Z",
     "iopub.status.busy": "2022-02-10T20:29:03.623048Z",
     "iopub.status.idle": "2022-02-10T20:35:52.384870Z",
     "shell.execute_reply": "2022-02-10T20:35:52.375507Z",
     "shell.execute_reply.started": "2022-02-10T20:29:03.623353Z"
    },
    "jupyter": {
     "outputs_hidden": false
    },
    "pycharm": {
     "name": "#%%\n"
    }
   },
   "source": [
    "alpha_carbon_positions_list = []\n",
    "\n",
    "for i, frame in tqdm.tqdm(enumerate(aligned.trajectory), total=len(aligned.trajectory), miniters=1e5, mininterval=1):\n",
    "\n",
    "    if not i%stride == 0:\n",
    "        continue\n",
    "\n",
    "    frame_positions = alpha_carbons.positions\n",
    "    alpha_carbon_positions_list.append(frame_positions)\n",
    "\n",
    "alpha_carbon_positions = np.array(alpha_carbon_positions_list)"
   ]
  },
  {
   "cell_type": "markdown",
   "metadata": {},
   "source": [
    "### Get pairwise alpha-carbon RMSD\n",
    "\n",
    "https://userguide.mdanalysis.org/stable/examples/analysis/alignment_and_rms/rmsd.html#RMSD-of-a-Universe-with-multiple-selections"
   ]
  },
  {
   "cell_type": "raw",
   "metadata": {
    "execution": {
     "iopub.execute_input": "2022-02-10T20:54:09.870364Z",
     "iopub.status.busy": "2022-02-10T20:54:09.869681Z",
     "iopub.status.idle": "2022-02-10T20:59:31.248658Z",
     "shell.execute_reply": "2022-02-10T20:59:31.241377Z",
     "shell.execute_reply.started": "2022-02-10T20:54:09.870323Z"
    },
    "tags": []
   },
   "source": [
    "from MDAnalysis.analysis import rms\n",
    "R = rms.RMSD(aligned,  # universe to align\n",
    "             ref_universe,  # reference universe or atomgroup\n",
    "             select='name CA',  # group to superimpose and calculate RMSD\n",
    "             groupselections=[f\"id {_id}\" for _id in alpha_carbons.ids],  # groups for RMSD\n",
    "             ref_frame=0,\n",
    "            verbose=True)  # frame index of the reference\n",
    "\n",
    "R.run(step=10)"
   ]
  },
  {
   "cell_type": "raw",
   "metadata": {
    "execution": {
     "iopub.execute_input": "2022-02-10T20:59:31.270621Z",
     "iopub.status.busy": "2022-02-10T20:59:31.269520Z",
     "iopub.status.idle": "2022-02-10T20:59:31.860492Z",
     "shell.execute_reply": "2022-02-10T20:59:31.855330Z",
     "shell.execute_reply.started": "2022-02-10T20:59:31.270570Z"
    },
    "tags": []
   },
   "source": [
    "import pickle\n",
    "pickle.dump(R, open('rmsd.obj', 'wb'))"
   ]
  },
  {
   "cell_type": "markdown",
   "metadata": {},
   "source": [
    "#### Load saved"
   ]
  },
  {
   "cell_type": "code",
   "execution_count": 11,
   "metadata": {
    "execution": {
     "iopub.execute_input": "2022-04-01T23:12:36.596295Z",
     "iopub.status.busy": "2022-04-01T23:12:36.595997Z",
     "iopub.status.idle": "2022-04-01T23:12:36.627527Z",
     "shell.execute_reply": "2022-04-01T23:12:36.626673Z",
     "shell.execute_reply.started": "2022-04-01T23:12:36.596267Z"
    },
    "tags": []
   },
   "outputs": [],
   "source": [
    "R = pickle.load(open('rmsd.obj', 'rb'))"
   ]
  },
  {
   "cell_type": "code",
   "execution_count": 13,
   "metadata": {
    "execution": {
     "iopub.execute_input": "2022-03-12T05:55:16.967829Z",
     "iopub.status.busy": "2022-03-12T05:55:16.967475Z",
     "iopub.status.idle": "2022-03-12T05:55:16.975637Z",
     "shell.execute_reply": "2022-03-12T05:55:16.974814Z",
     "shell.execute_reply.started": "2022-03-12T05:55:16.967807Z"
    },
    "tags": []
   },
   "outputs": [
    {
     "name": "stderr",
     "output_type": "stream",
     "text": [
      "/Users/russojd/opt/anaconda3/envs/jupyter/lib/python3.9/site-packages/MDAnalysis/analysis/rms.py:710: DeprecationWarning: The `rmsd` attribute was deprecated in MDAnalysis 2.0.0 and will be removed in MDAnalysis 3.0.0. Please use `results.rmsd` instead.\n",
      "  warnings.warn(wmsg, DeprecationWarning)\n"
     ]
    },
    {
     "data": {
      "text/plain": [
       "(104400, 23)"
      ]
     },
     "execution_count": 13,
     "metadata": {},
     "output_type": "execute_result"
    }
   ],
   "source": [
    "R.rmsd.shape"
   ]
  },
  {
   "cell_type": "markdown",
   "metadata": {},
   "source": [
    "### Residue-residue minimum distance\n",
    "\n",
    "From “Assessing the accuracy and bias of Markov state models”:\n",
    "\n",
    "> Featurization was done with \"all minimal residue-residue distances (calculated as the closest distance between the heavy atoms of two residues separated in sequence by at least two neighboring residues)”"
   ]
  },
  {
   "cell_type": "code",
   "execution_count": 12,
   "metadata": {
    "execution": {
     "iopub.execute_input": "2022-04-01T23:12:38.824737Z",
     "iopub.status.busy": "2022-04-01T23:12:38.824486Z",
     "iopub.status.idle": "2022-04-01T23:12:38.837278Z",
     "shell.execute_reply": "2022-04-01T23:12:38.835843Z",
     "shell.execute_reply.started": "2022-04-01T23:12:38.824713Z"
    },
    "tags": []
   },
   "outputs": [],
   "source": [
    "n_residues = len(aligned.residues)\n",
    "all_residue_ids = range(1, 1+n_residues)\n",
    "\n",
    "nearby_residue_ids = {}\n",
    "\n",
    "for i in range(n_residues):\n",
    "    \n",
    "    partner_residues = [aligned.residues[i-1].resid, aligned.residues[i].resid, aligned.residues[(i+1)%n_residues].resid]\n",
    "    \n",
    "# for residue in aligned.residues:\n",
    "    # adjacent_residues = [residue.resid-1, residue.resid, residue.resid+1]\n",
    "    # if adjacent_residues[0] < 0:\n",
    "        # adjacent_residues = aligned.residues[-1].resid\n",
    "        \n",
    "    _nearby_residues = np.setdiff1d(all_residue_ids, partner_residues)\n",
    "    \n",
    "    nearby_residue_ids[all_residue_ids[i]] = _nearby_residues"
   ]
  },
  {
   "cell_type": "code",
   "execution_count": 15,
   "metadata": {
    "execution": {
     "iopub.execute_input": "2022-03-12T05:55:25.380308Z",
     "iopub.status.busy": "2022-03-12T05:55:25.380041Z",
     "iopub.status.idle": "2022-03-12T05:55:25.388441Z",
     "shell.execute_reply": "2022-03-12T05:55:25.387439Z",
     "shell.execute_reply.started": "2022-03-12T05:55:25.380284Z"
    },
    "tags": []
   },
   "outputs": [
    {
     "data": {
      "text/plain": [
       "{1: array([ 3,  4,  5,  6,  7,  8,  9, 10, 11, 12, 13, 14, 15, 16, 17, 18, 19]),\n",
       " 2: array([ 4,  5,  6,  7,  8,  9, 10, 11, 12, 13, 14, 15, 16, 17, 18, 19, 20]),\n",
       " 3: array([ 1,  5,  6,  7,  8,  9, 10, 11, 12, 13, 14, 15, 16, 17, 18, 19, 20]),\n",
       " 4: array([ 1,  2,  6,  7,  8,  9, 10, 11, 12, 13, 14, 15, 16, 17, 18, 19, 20]),\n",
       " 5: array([ 1,  2,  3,  7,  8,  9, 10, 11, 12, 13, 14, 15, 16, 17, 18, 19, 20]),\n",
       " 6: array([ 1,  2,  3,  4,  8,  9, 10, 11, 12, 13, 14, 15, 16, 17, 18, 19, 20]),\n",
       " 7: array([ 1,  2,  3,  4,  5,  9, 10, 11, 12, 13, 14, 15, 16, 17, 18, 19, 20]),\n",
       " 8: array([ 1,  2,  3,  4,  5,  6, 10, 11, 12, 13, 14, 15, 16, 17, 18, 19, 20]),\n",
       " 9: array([ 1,  2,  3,  4,  5,  6,  7, 11, 12, 13, 14, 15, 16, 17, 18, 19, 20]),\n",
       " 10: array([ 1,  2,  3,  4,  5,  6,  7,  8, 12, 13, 14, 15, 16, 17, 18, 19, 20]),\n",
       " 11: array([ 1,  2,  3,  4,  5,  6,  7,  8,  9, 13, 14, 15, 16, 17, 18, 19, 20]),\n",
       " 12: array([ 1,  2,  3,  4,  5,  6,  7,  8,  9, 10, 14, 15, 16, 17, 18, 19, 20]),\n",
       " 13: array([ 1,  2,  3,  4,  5,  6,  7,  8,  9, 10, 11, 15, 16, 17, 18, 19, 20]),\n",
       " 14: array([ 1,  2,  3,  4,  5,  6,  7,  8,  9, 10, 11, 12, 16, 17, 18, 19, 20]),\n",
       " 15: array([ 1,  2,  3,  4,  5,  6,  7,  8,  9, 10, 11, 12, 13, 17, 18, 19, 20]),\n",
       " 16: array([ 1,  2,  3,  4,  5,  6,  7,  8,  9, 10, 11, 12, 13, 14, 18, 19, 20]),\n",
       " 17: array([ 1,  2,  3,  4,  5,  6,  7,  8,  9, 10, 11, 12, 13, 14, 15, 19, 20]),\n",
       " 18: array([ 1,  2,  3,  4,  5,  6,  7,  8,  9, 10, 11, 12, 13, 14, 15, 16, 20]),\n",
       " 19: array([ 1,  2,  3,  4,  5,  6,  7,  8,  9, 10, 11, 12, 13, 14, 15, 16, 17]),\n",
       " 20: array([ 2,  3,  4,  5,  6,  7,  8,  9, 10, 11, 12, 13, 14, 15, 16, 17, 18])}"
      ]
     },
     "execution_count": 15,
     "metadata": {},
     "output_type": "execute_result"
    }
   ],
   "source": [
    "nearby_residue_ids"
   ]
  },
  {
   "cell_type": "code",
   "execution_count": 13,
   "metadata": {
    "execution": {
     "iopub.execute_input": "2022-04-01T23:12:42.451730Z",
     "iopub.status.busy": "2022-04-01T23:12:42.451159Z",
     "iopub.status.idle": "2022-04-01T23:12:42.473380Z",
     "shell.execute_reply": "2022-04-01T23:12:42.472039Z",
     "shell.execute_reply.started": "2022-04-01T23:12:42.451699Z"
    },
    "tags": []
   },
   "outputs": [
    {
     "name": "stdout",
     "output_type": "stream",
     "text": [
      "1\n"
     ]
    }
   ],
   "source": [
    "print(stride)\n",
    "\n",
    "selections = {residue.resid:aligned.select_atoms(f'resnum {residue.resid} and not type H') for residue in aligned.residues}"
   ]
  },
  {
   "cell_type": "code",
   "execution_count": 14,
   "metadata": {
    "execution": {
     "iopub.execute_input": "2022-04-01T23:12:42.661583Z",
     "iopub.status.busy": "2022-04-01T23:12:42.661218Z",
     "iopub.status.idle": "2022-04-01T23:12:42.671442Z",
     "shell.execute_reply": "2022-04-01T23:12:42.668431Z",
     "shell.execute_reply.started": "2022-04-01T23:12:42.661554Z"
    },
    "tags": []
   },
   "outputs": [],
   "source": [
    "@ray.remote\n",
    "def analyze_frame(frame, i, aligned_residues, selections, nearby_residue_ids, stride):\n",
    "    \n",
    "    pairs = []\n",
    "    \n",
    "    for residue in aligned_residues:\n",
    "        \n",
    "        selection_from = selections[residue.resid]\n",
    "        \n",
    "        # Get minimum distances to each of the nearby residues (separated by at least 1 residue index)\n",
    "        for nearby_residue_id in nearby_residue_ids:\n",
    "\n",
    "            selection_to  = selections[nearby_residue_id] #= aligned.select_atoms(f'resnum {nearby_residue_id} and name CA')\n",
    "            \n",
    "            residue_distances = MDAnalysis.analysis.distances.distance_array(selection_from.positions, selection_to.positions, backend='openmp')\n",
    "            \n",
    "            min_dist = np.min(residue_distances)\n",
    "            \n",
    "            pairs.append([min_dist, (residue.resid-1, nearby_residue_id-1)])\n",
    "            \n",
    "    return i//stride, pairs\n",
    "            # distance_matrix[i//stride, residue.resid-1, nearby_residue_id-1] = min_dist\n",
    "            # return (i//stride, residue.resid-1, nearby_residue_id-1), min_dist"
   ]
  },
  {
   "cell_type": "markdown",
   "metadata": {},
   "source": [
    "Do this in parallel because it's mega slow"
   ]
  },
  {
   "cell_type": "code",
   "execution_count": 32,
   "metadata": {
    "execution": {
     "iopub.execute_input": "2022-02-16T17:22:54.941868Z",
     "iopub.status.busy": "2022-02-16T17:22:54.941277Z",
     "iopub.status.idle": "2022-02-16T17:23:07.704055Z",
     "shell.execute_reply": "2022-02-16T17:23:07.702533Z",
     "shell.execute_reply.started": "2022-02-16T17:22:54.941829Z"
    },
    "tags": []
   },
   "outputs": [
    {
     "name": "stderr",
     "output_type": "stream",
     "text": [
      "2022-02-16 09:23:01,757\tINFO services.py:1374 -- View the Ray dashboard at \u001B[1m\u001B[32mhttp://127.0.0.1:8265\u001B[39m\u001B[22m\n"
     ]
    },
    {
     "data": {
      "text/plain": [
       "{'node_ip_address': '127.0.0.1',\n",
       " 'raylet_ip_address': '127.0.0.1',\n",
       " 'redis_address': '127.0.0.1:6379',\n",
       " 'object_store_address': '/tmp/ray/session_2022-02-16_09-22-54_947616_36510/sockets/plasma_store',\n",
       " 'raylet_socket_name': '/tmp/ray/session_2022-02-16_09-22-54_947616_36510/sockets/raylet',\n",
       " 'webui_url': '127.0.0.1:8265',\n",
       " 'session_dir': '/tmp/ray/session_2022-02-16_09-22-54_947616_36510',\n",
       " 'metrics_export_port': 64104,\n",
       " 'gcs_address': '127.0.0.1:59326',\n",
       " 'node_id': '9443c149ac839cbf49e533b2741a38432bf08f3773263fe75f503121'}"
      ]
     },
     "execution_count": 32,
     "metadata": {},
     "output_type": "execute_result"
    },
    {
     "name": "stderr",
     "output_type": "stream",
     "text": [
      "\u001B[2m\u001B[33m(raylet)\u001B[0m /Users/russojd/opt/anaconda3/envs/protein-like_msm/lib/python3.9/site-packages/ray/dashboard/agent.py:152: DeprecationWarning: distutils Version classes are deprecated. Use packaging.version instead.\n",
      "\u001B[2m\u001B[33m(raylet)\u001B[0m   if LooseVersion(aiohttp.__version__) < LooseVersion(\"4.0.0\"):\n"
     ]
    }
   ],
   "source": [
    "ray.init(num_cpus=4)"
   ]
  },
  {
   "cell_type": "code",
   "execution_count": 55,
   "metadata": {
    "execution": {
     "iopub.execute_input": "2022-02-16T17:34:40.520900Z",
     "iopub.status.busy": "2022-02-16T17:34:40.519761Z",
     "iopub.status.idle": "2022-02-17T05:05:49.083736Z",
     "shell.execute_reply": "2022-02-17T05:05:49.080338Z",
     "shell.execute_reply.started": "2022-02-16T17:34:40.520861Z"
    },
    "tags": []
   },
   "outputs": [
    {
     "data": {
      "application/vnd.jupyter.widget-view+json": {
       "model_id": "201b57ece978488db805dbe442b48a7c",
       "version_major": 2,
       "version_minor": 0
      },
      "text/plain": [
       "Submitting jobs:   0%|          | 0/1044000 [00:00<?, ?it/s]"
      ]
     },
     "metadata": {},
     "output_type": "display_data"
    },
    {
     "data": {
      "application/vnd.jupyter.widget-view+json": {
       "model_id": "a12e30df07c64e6cbb005f8dbd88b3b5",
       "version_major": 2,
       "version_minor": 0
      },
      "text/plain": [
       "Retrieving discretized trajectories:   0%|          | 0/1044000 [00:00<?, ?it/s]"
      ]
     },
     "metadata": {},
     "output_type": "display_data"
    }
   ],
   "source": [
    "distance_matrix = np.full(shape=(len(aligned.trajectory)//stride, n_residues, n_residues), fill_value=np.nan)\n",
    "\n",
    "task_ids = []\n",
    "max_inflight = 10\n",
    "chunk_size=100\n",
    "doing_chunk = False\n",
    "\n",
    "for i, frame in tqdm.tqdm(enumerate(aligned.trajectory), total=len(aligned.trajectory), desc='Submitting jobs'):\n",
    "\n",
    "    if not i%stride == 0:\n",
    "        continue\n",
    "        \n",
    "    # if i > 1000: break\n",
    "        \n",
    "#     if len(task_ids) > max_inflight:\n",
    "    \n",
    "#         # The number that need to be ready before we can submit more\n",
    "#         num_ready = i - max_inflight\n",
    "#         ray.wait(task_ids, num_returns=num_ready)\n",
    "                    \n",
    "    _id = analyze_frame.remote(frame, i, aligned.residues, selections, nearby_residue_ids, stride)\n",
    "    \n",
    "    task_ids.append(_id)\n",
    "    \n",
    "with tqdm.tqdm(\n",
    "    total=len(task_ids), desc=\"Retrieving discretized trajectories\"\n",
    ") as pbar:\n",
    "    while task_ids:\n",
    "        result_batch_size = 100\n",
    "        result_batch_size = min(result_batch_size, len(task_ids))\n",
    "\n",
    "        # Returns the first ObjectRef that is ready, with a 20s timeout\n",
    "        finished, task_ids = ray.wait(\n",
    "            task_ids, num_returns=result_batch_size, timeout=20\n",
    "        )\n",
    "        results = ray.get(finished)\n",
    "        \n",
    "        for frame_idx, _dists in results:\n",
    "            for min_dist, (from_residue, to_residue) in _dists:\n",
    "                distance_matrix[frame_idx, from_residue, to_residue] = min_dist\n",
    "            \n",
    "            pbar.update(1)"
   ]
  },
  {
   "cell_type": "raw",
   "metadata": {
    "execution": {
     "iopub.execute_input": "2022-02-17T19:32:57.903413Z",
     "iopub.status.busy": "2022-02-17T19:32:57.899679Z",
     "iopub.status.idle": "2022-02-17T19:34:05.594951Z",
     "shell.execute_reply": "2022-02-17T19:34:05.590717Z",
     "shell.execute_reply.started": "2022-02-17T19:32:57.903335Z"
    }
   },
   "source": [
    "np.savez('distance_matrix.npz', distance_matrix=distance_matrix)"
   ]
  },
  {
   "cell_type": "markdown",
   "metadata": {},
   "source": [
    "#### Load saved"
   ]
  },
  {
   "cell_type": "code",
   "execution_count": 15,
   "metadata": {
    "execution": {
     "iopub.execute_input": "2022-04-01T23:12:46.300948Z",
     "iopub.status.busy": "2022-04-01T23:12:46.300200Z",
     "iopub.status.idle": "2022-04-01T23:12:57.055995Z",
     "shell.execute_reply": "2022-04-01T23:12:57.054712Z",
     "shell.execute_reply.started": "2022-04-01T23:12:46.300889Z"
    },
    "tags": []
   },
   "outputs": [],
   "source": [
    "distance_matrix = np.load('distance_matrix.npz')['distance_matrix']"
   ]
  },
  {
   "cell_type": "code",
   "execution_count": 16,
   "metadata": {
    "execution": {
     "iopub.execute_input": "2022-04-01T23:12:57.059148Z",
     "iopub.status.busy": "2022-04-01T23:12:57.058576Z",
     "iopub.status.idle": "2022-04-01T23:12:57.085161Z",
     "shell.execute_reply": "2022-04-01T23:12:57.084243Z",
     "shell.execute_reply.started": "2022-04-01T23:12:57.059111Z"
    },
    "tags": []
   },
   "outputs": [
    {
     "data": {
      "text/plain": "(1044000, 20, 20)"
     },
     "execution_count": 16,
     "metadata": {},
     "output_type": "execute_result"
    }
   ],
   "source": [
    "distance_matrix.shape"
   ]
  },
  {
   "cell_type": "code",
   "execution_count": 17,
   "metadata": {
    "execution": {
     "iopub.execute_input": "2022-04-01T23:12:57.088649Z",
     "iopub.status.busy": "2022-04-01T23:12:57.087607Z",
     "iopub.status.idle": "2022-04-01T23:13:20.117891Z",
     "shell.execute_reply": "2022-04-01T23:13:20.112432Z",
     "shell.execute_reply.started": "2022-04-01T23:12:57.088602Z"
    },
    "tags": []
   },
   "outputs": [],
   "source": [
    "# Get rid of the nan terms corresponding to self-distance or adjacent-distrances\n",
    "\n",
    "reduced_distance_matrix = np.full(shape=(distance_matrix.shape[0], n_residues, n_residues-3), fill_value=np.nan)\n",
    "\n",
    "for residue, partners in nearby_residue_ids.items():\n",
    "    \n",
    "    reduced_distance_matrix[:, residue-1] = distance_matrix[:, residue-1, partners-1]"
   ]
  },
  {
   "cell_type": "code",
   "execution_count": 18,
   "metadata": {
    "execution": {
     "iopub.execute_input": "2022-04-01T23:13:20.128710Z",
     "iopub.status.busy": "2022-04-01T23:13:20.128235Z",
     "iopub.status.idle": "2022-04-01T23:13:20.157745Z",
     "shell.execute_reply": "2022-04-01T23:13:20.155729Z",
     "shell.execute_reply.started": "2022-04-01T23:13:20.128649Z"
    },
    "tags": []
   },
   "outputs": [
    {
     "data": {
      "text/plain": [
       "(1044000, 20, 17)"
      ]
     },
     "execution_count": 18,
     "metadata": {},
     "output_type": "execute_result"
    }
   ],
   "source": [
    "reduced_distance_matrix.shape"
   ]
  },
  {
   "cell_type": "code",
   "execution_count": 19,
   "metadata": {
    "execution": {
     "iopub.execute_input": "2022-04-01T23:13:20.166154Z",
     "iopub.status.busy": "2022-04-01T23:13:20.164309Z",
     "iopub.status.idle": "2022-04-01T23:13:21.149121Z",
     "shell.execute_reply": "2022-04-01T23:13:21.148000Z",
     "shell.execute_reply.started": "2022-04-01T23:13:20.166107Z"
    },
    "tags": []
   },
   "outputs": [],
   "source": [
    "assert not np.isnan(reduced_distance_matrix).any()"
   ]
  },
  {
   "cell_type": "markdown",
   "metadata": {},
   "source": [
    "## Dimensionality reduction\n",
    "\n",
    "At a 10ns MSM lag time (i.e. 50-frames, since each frame is 200ps), the dimensionality reduction was\n",
    "- commute tICA\n",
    "- 10ns tICA lag\n",
    "- 10 tICs\n",
    "- 200 microstates"
   ]
  },
  {
   "cell_type": "code",
   "execution_count": 17,
   "metadata": {
    "execution": {
     "iopub.execute_input": "2022-04-01T23:13:21.153334Z",
     "iopub.status.busy": "2022-04-01T23:13:21.152510Z",
     "iopub.status.idle": "2022-04-01T23:13:21.163904Z",
     "shell.execute_reply": "2022-04-01T23:13:21.162793Z",
     "shell.execute_reply.started": "2022-04-01T23:13:21.153294Z"
    },
    "tags": []
   },
   "outputs": [],
   "source": [
    "_map_type = 'commute_map'\n",
    "tica_lag_steps = 50\n",
    "n_tics = 10\n",
    "n_clusters = 1000\n",
    "msm_lag_steps = 50 # 10ns\n",
    "msm_lag_steps = 5 # 1ns\n",
    "\n",
    "# tica_lag_steps, msm_lag_steps = 50, 5"
   ]
  },
  {
   "cell_type": "code",
   "execution_count": 21,
   "metadata": {
    "execution": {
     "iopub.execute_input": "2022-04-01T23:13:21.168122Z",
     "iopub.status.busy": "2022-04-01T23:13:21.167755Z",
     "iopub.status.idle": "2022-04-01T23:13:21.179314Z",
     "shell.execute_reply": "2022-04-01T23:13:21.176990Z",
     "shell.execute_reply.started": "2022-04-01T23:13:21.168086Z"
    },
    "tags": []
   },
   "outputs": [],
   "source": [
    "unrolled_distances = reduced_distance_matrix.reshape((reduced_distance_matrix.shape[0], -1))"
   ]
  },
  {
   "cell_type": "code",
   "execution_count": 22,
   "metadata": {
    "execution": {
     "iopub.execute_input": "2022-04-01T23:13:21.183345Z",
     "iopub.status.busy": "2022-04-01T23:13:21.182723Z",
     "iopub.status.idle": "2022-04-01T23:13:34.664395Z",
     "shell.execute_reply": "2022-04-01T23:13:34.661978Z",
     "shell.execute_reply.started": "2022-04-01T23:13:21.183318Z"
    },
    "tags": []
   },
   "outputs": [],
   "source": [
    "np.savez(f'{dataset_label}_feature-traj', unrolled_distances=unrolled_distances)"
   ]
  },
  {
   "cell_type": "code",
   "execution_count": 23,
   "metadata": {
    "execution": {
     "iopub.execute_input": "2022-04-01T23:13:34.668359Z",
     "iopub.status.busy": "2022-04-01T23:13:34.667764Z",
     "iopub.status.idle": "2022-04-01T23:13:34.684224Z",
     "shell.execute_reply": "2022-04-01T23:13:34.683261Z",
     "shell.execute_reply.started": "2022-04-01T23:13:34.668327Z"
    },
    "tags": []
   },
   "outputs": [
    {
     "data": {
      "text/plain": [
       "((1044000, 20, 17), (1044000, 340))"
      ]
     },
     "execution_count": 23,
     "metadata": {},
     "output_type": "execute_result"
    }
   ],
   "source": [
    "reduced_distance_matrix.shape, unrolled_distances.shape"
   ]
  },
  {
   "cell_type": "markdown",
   "metadata": {},
   "source": [
    "### Calculate fresh"
   ]
  },
  {
   "cell_type": "code",
   "execution_count": 24,
   "metadata": {
    "execution": {
     "iopub.execute_input": "2022-04-01T23:13:34.688571Z",
     "iopub.status.busy": "2022-04-01T23:13:34.688297Z",
     "iopub.status.idle": "2022-04-01T23:13:34.711789Z",
     "shell.execute_reply": "2022-04-01T23:13:34.710577Z",
     "shell.execute_reply.started": "2022-04-01T23:13:34.688515Z"
    },
    "tags": []
   },
   "outputs": [],
   "source": [
    "tica = TICA(lagtime=tica_lag_steps, dim=n_tics, scaling=_map_type)"
   ]
  },
  {
   "cell_type": "code",
   "execution_count": 25,
   "metadata": {
    "execution": {
     "iopub.execute_input": "2022-04-01T23:13:34.713363Z",
     "iopub.status.busy": "2022-04-01T23:13:34.712968Z",
     "iopub.status.idle": "2022-04-01T23:14:54.726491Z",
     "shell.execute_reply": "2022-04-01T23:14:54.723652Z",
     "shell.execute_reply.started": "2022-04-01T23:13:34.713339Z"
    },
    "tags": []
   },
   "outputs": [],
   "source": [
    "tica_model = tica.fit_fetch(unrolled_distances, verbose=True)"
   ]
  },
  {
   "cell_type": "code",
   "execution_count": 26,
   "metadata": {
    "execution": {
     "iopub.execute_input": "2022-04-01T23:14:54.731413Z",
     "iopub.status.busy": "2022-04-01T23:14:54.730992Z",
     "iopub.status.idle": "2022-04-01T23:15:08.274034Z",
     "shell.execute_reply": "2022-04-01T23:15:08.272831Z",
     "shell.execute_reply.started": "2022-04-01T23:14:54.731376Z"
    },
    "tags": []
   },
   "outputs": [],
   "source": [
    "projection = tica_model.transform(unrolled_distances)"
   ]
  },
  {
   "cell_type": "code",
   "execution_count": 27,
   "metadata": {
    "execution": {
     "iopub.execute_input": "2022-04-01T23:15:08.279456Z",
     "iopub.status.busy": "2022-04-01T23:15:08.279092Z",
     "iopub.status.idle": "2022-04-01T23:15:08.513419Z",
     "shell.execute_reply": "2022-04-01T23:15:08.509956Z",
     "shell.execute_reply.started": "2022-04-01T23:15:08.279425Z"
    },
    "tags": []
   },
   "outputs": [],
   "source": [
    "np.savez(f'{dataset_label}_tica', tica=tica, tica_model=tica_model, projection=projection)"
   ]
  },
  {
   "cell_type": "markdown",
   "metadata": {},
   "source": [
    "### Load saved"
   ]
  },
  {
   "cell_type": "code",
   "execution_count": 18,
   "metadata": {
    "execution": {
     "iopub.execute_input": "2022-03-12T05:56:00.510736Z",
     "iopub.status.busy": "2022-03-12T05:56:00.510391Z",
     "iopub.status.idle": "2022-03-12T05:56:00.731857Z",
     "shell.execute_reply": "2022-03-12T05:56:00.731005Z",
     "shell.execute_reply.started": "2022-03-12T05:56:00.510715Z"
    },
    "tags": []
   },
   "outputs": [],
   "source": [
    "_tica = np.load(f'{dataset_label}_tica.npz', allow_pickle=True)\n",
    "tica = _tica['tica']\n",
    "tica_model = _tica['tica_model']\n",
    "projection = _tica['projection']"
   ]
  },
  {
   "cell_type": "code",
   "execution_count": 19,
   "metadata": {
    "collapsed": false,
    "execution": {
     "iopub.status.busy": "2022-03-12T05:56:00.732536Z",
     "iopub.status.idle": "2022-03-12T05:56:00.732746Z",
     "shell.execute_reply": "2022-03-12T05:56:00.732638Z",
     "shell.execute_reply.started": "2022-03-12T05:56:00.732628Z"
    },
    "jupyter": {
     "outputs_hidden": false
    },
    "pycharm": {
     "name": "#%%\n"
    },
    "tags": []
   },
   "outputs": [
    {
     "data": {
      "text/plain": "array(TICA-5822960016:dim=10, epsilon=1e-06, lagtime=50,\n         observable_transform=<deeptime.basis._monomials.Identity object at 0x15b135130>,\n         scaling='commute_map', var_cutoff=None], dtype=object)"
     },
     "execution_count": 19,
     "metadata": {},
     "output_type": "execute_result"
    }
   ],
   "source": [
    "tica"
   ]
  },
  {
   "cell_type": "markdown",
   "metadata": {},
   "source": [
    "### Visualize tIC 0 and RMSD\n",
    "\n",
    "Visually compare the tIC projection and the RMSD. If the tIC projection looks weird, try looking at some others.\n",
    "\n",
    "tIC 0 PROBABLY maps to RMSD (i.e., it usually does)"
   ]
  },
  {
   "cell_type": "code",
   "execution_count": 20,
   "metadata": {
    "execution": {
     "iopub.execute_input": "2022-04-01T23:15:08.523885Z",
     "iopub.status.busy": "2022-04-01T23:15:08.521186Z",
     "iopub.status.idle": "2022-04-01T23:15:08.538976Z",
     "shell.execute_reply": "2022-04-01T23:15:08.533406Z",
     "shell.execute_reply.started": "2022-04-01T23:15:08.523842Z"
    },
    "tags": []
   },
   "outputs": [],
   "source": [
    "tic_rmsd = 0"
   ]
  },
  {
   "cell_type": "code",
   "execution_count": 21,
   "metadata": {
    "execution": {
     "iopub.execute_input": "2022-04-01T23:15:08.546635Z",
     "iopub.status.busy": "2022-04-01T23:15:08.545276Z",
     "iopub.status.idle": "2022-04-01T23:15:09.393395Z",
     "shell.execute_reply": "2022-04-01T23:15:09.392763Z",
     "shell.execute_reply.started": "2022-04-01T23:15:08.546607Z"
    },
    "tags": []
   },
   "outputs": [
    {
     "data": {
      "text/plain": "<matplotlib.legend.Legend at 0x15f27d400>"
     },
     "execution_count": 21,
     "metadata": {},
     "output_type": "execute_result"
    },
    {
     "data": {
      "text/plain": "<Figure size 432x288 with 2 Axes>",
      "image/png": "[encoded data removed]"
     },
     "metadata": {},
     "output_type": "display_data"
    }
   ],
   "source": [
    "fig, ax = plt.subplots()\n",
    "\n",
    "ax.plot(projection[:, tic_rmsd], label=f'tIC {tic_rmsd}', color='tab:blue')\n",
    "ax.set_ylabel('tIC')\n",
    "\n",
    "ax2 = ax.twinx()\n",
    "ax2.plot(rmsd[::1], label='RMSD', alpha=0.5, color='tab:orange')\n",
    "ax2.set_ylabel('RMSD')\n",
    "\n",
    "fig.legend()"
   ]
  },
  {
   "cell_type": "markdown",
   "metadata": {
    "pycharm": {
     "name": "#%% md\n"
    }
   },
   "source": [
    "## Discretize trajectory"
   ]
  },
  {
   "cell_type": "markdown",
   "metadata": {
    "jp-MarkdownHeadingCollapsed": true,
    "tags": []
   },
   "source": [
    "### Aggregate clustering"
   ]
  },
  {
   "cell_type": "markdown",
   "metadata": {
    "pycharm": {
     "name": "#%% md\n"
    }
   },
   "source": [
    "We'll just do a simple k-means clustering on the RMSDs.\n",
    "\n",
    "[Deeptime k-means clustering documentation](https://deeptime-ml.github.io/latest/notebooks/clustering.html)"
   ]
  },
  {
   "cell_type": "code",
   "execution_count": 299,
   "metadata": {
    "execution": {
     "iopub.execute_input": "2022-02-10T23:51:47.420218Z",
     "iopub.status.busy": "2022-02-10T23:51:47.418106Z",
     "iopub.status.idle": "2022-02-10T23:51:47.439044Z",
     "shell.execute_reply": "2022-02-10T23:51:47.437615Z",
     "shell.execute_reply.started": "2022-02-10T23:51:47.418665Z"
    },
    "tags": []
   },
   "outputs": [],
   "source": [
    "# Number of clusters for k-means\n",
    "# n_clusters = 1000"
   ]
  },
  {
   "cell_type": "code",
   "execution_count": 32,
   "metadata": {
    "execution": {
     "iopub.execute_input": "2022-03-12T05:57:13.563412Z",
     "iopub.status.busy": "2022-03-12T05:57:13.563111Z",
     "iopub.status.idle": "2022-03-12T05:57:13.575491Z",
     "shell.execute_reply": "2022-03-12T05:57:13.574400Z",
     "shell.execute_reply.started": "2022-03-12T05:57:13.563382Z"
    },
    "pycharm": {
     "name": "#%%\n"
    },
    "tags": []
   },
   "outputs": [],
   "source": [
    "# Initialize the estimator\n",
    "# Perform the clustering\n",
    "\n",
    "kmeans_estimator = KMeans(\n",
    "    n_clusters=n_clusters,\n",
    "    # init_strategy='uniform',\n",
    "    max_iter=1000,\n",
    "    fixed_seed=1337,\n",
    "    n_jobs=4,\n",
    "    progress=tqdm.tqdm\n",
    ")"
   ]
  },
  {
   "cell_type": "code",
   "execution_count": null,
   "metadata": {
    "pycharm": {
     "name": "#%%\n"
    },
    "tags": []
   },
   "outputs": [],
   "source": [
    "clustering = kmeans_estimator.fit(projection).fetch_model()"
   ]
  },
  {
   "cell_type": "code",
   "execution_count": 93,
   "metadata": {
    "execution": {
     "iopub.execute_input": "2022-02-17T21:01:44.632178Z",
     "iopub.status.busy": "2022-02-17T21:01:44.631717Z",
     "iopub.status.idle": "2022-02-17T21:01:44.669490Z",
     "shell.execute_reply": "2022-02-17T21:01:44.667817Z",
     "shell.execute_reply.started": "2022-02-17T21:01:44.632142Z"
    },
    "tags": []
   },
   "outputs": [],
   "source": [
    "pickle.dump(clustering, open('clustering.obj', 'wb'))\n",
    "pickle.dump(kmeans_estimator, open('kmeans_estimator.obj', 'wb'))"
   ]
  },
  {
   "cell_type": "code",
   "execution_count": 37,
   "metadata": {
    "execution": {
     "iopub.execute_input": "2022-03-12T05:58:12.607655Z",
     "iopub.status.busy": "2022-03-12T05:58:12.607356Z",
     "iopub.status.idle": "2022-03-12T05:58:12.616513Z",
     "shell.execute_reply": "2022-03-12T05:58:12.615624Z",
     "shell.execute_reply.started": "2022-03-12T05:58:12.607621Z"
    },
    "tags": []
   },
   "outputs": [
    {
     "name": "stderr",
     "output_type": "stream",
     "text": [
      "/Users/russojd/opt/anaconda3/envs/jupyter/lib/python3.9/site-packages/deeptime/base.py:115: UserWarning: Trying to unpickle estimator KMeans from version 0.4.0 when using version 0.4.1. This might lead to breaking code or invalid results. Use at your own risk.\n",
      "  warnings.warn(\n"
     ]
    }
   ],
   "source": [
    "clustering = pickle.load(open('clustering.obj', 'rb'))\n",
    "kmeans_estimator = pickle.load(open('kmeans_estimator.obj', 'rb'))"
   ]
  },
  {
   "cell_type": "code",
   "execution_count": 38,
   "metadata": {
    "execution": {
     "iopub.execute_input": "2022-03-12T05:58:14.407857Z",
     "iopub.status.busy": "2022-03-12T05:58:14.407536Z",
     "iopub.status.idle": "2022-03-12T05:58:25.064562Z",
     "shell.execute_reply": "2022-03-12T05:58:25.063432Z",
     "shell.execute_reply.started": "2022-03-12T05:58:14.407824Z"
    },
    "pycharm": {
     "name": "#%%\n"
    },
    "tags": []
   },
   "outputs": [],
   "source": [
    "# Discretize the trajectory\n",
    "discrete_trajectory = clustering.transform(projection)"
   ]
  },
  {
   "cell_type": "code",
   "execution_count": 39,
   "metadata": {
    "execution": {
     "iopub.execute_input": "2022-03-12T05:58:26.918426Z",
     "iopub.status.busy": "2022-03-12T05:58:26.918128Z",
     "iopub.status.idle": "2022-03-12T05:58:27.435350Z",
     "shell.execute_reply": "2022-03-12T05:58:27.434482Z",
     "shell.execute_reply.started": "2022-03-12T05:58:26.918396Z"
    },
    "pycharm": {
     "name": "#%%\n"
    },
    "tags": []
   },
   "outputs": [
    {
     "data": {
      "image/png": "[encoded data removed]",
      "text/plain": [
       "<Figure size 864x288 with 2 Axes>"
      ]
     },
     "metadata": {},
     "output_type": "display_data"
    }
   ],
   "source": [
    "# Plot the RMSDs and discrete trajectory\n",
    "fig, rmsd_ax = plt.subplots(1,1)\n",
    "\n",
    "discrete_ax = rmsd_ax.twinx()\n",
    "\n",
    "discrete_ax.plot(discrete_trajectory[::50], color='k', label='Discrete')\n",
    "discrete_ax.set_ylabel('State')\n",
    "\n",
    "rmsd_ax.plot(rmsd[::rmsd_stride*50], color='gray', label='RMSD')\n",
    "rmsd_ax.set_ylabel('RMSD')\n",
    "\n",
    "\n",
    "rmsd_ax.set_zorder(10)\n",
    "rmsd_ax.patch.set_visible(False)\n",
    "\n",
    "fig.legend()\n",
    "fig.set_size_inches(12,4)"
   ]
  },
  {
   "cell_type": "markdown",
   "metadata": {},
   "source": [
    "### Stratified clustering"
   ]
  },
  {
   "cell_type": "markdown",
   "metadata": {},
   "source": [
    "#### RMSD-based"
   ]
  },
  {
   "cell_type": "markdown",
   "metadata": {},
   "source": [
    "Here, I want to divide up RMSD uniformly, and then cluster within each RMSD-bin."
   ]
  },
  {
   "cell_type": "code",
   "execution_count": 40,
   "metadata": {
    "execution": {
     "iopub.execute_input": "2022-03-12T05:58:30.642761Z",
     "iopub.status.busy": "2022-03-12T05:58:30.642418Z",
     "iopub.status.idle": "2022-03-12T05:58:30.651778Z",
     "shell.execute_reply": "2022-03-12T05:58:30.650555Z",
     "shell.execute_reply.started": "2022-03-12T05:58:30.642728Z"
    },
    "tags": []
   },
   "outputs": [
    {
     "data": {
      "text/plain": [
       "array([ 1.        ,  1.24489796,  1.48979592,  1.73469388,  1.97959184,\n",
       "        2.2244898 ,  2.46938776,  2.71428571,  2.95918367,  3.20408163,\n",
       "        3.44897959,  3.69387755,  3.93877551,  4.18367347,  4.42857143,\n",
       "        4.67346939,  4.91836735,  5.16326531,  5.40816327,  5.65306122,\n",
       "        5.89795918,  6.14285714,  6.3877551 ,  6.63265306,  6.87755102,\n",
       "        7.12244898,  7.36734694,  7.6122449 ,  7.85714286,  8.10204082,\n",
       "        8.34693878,  8.59183673,  8.83673469,  9.08163265,  9.32653061,\n",
       "        9.57142857,  9.81632653, 10.06122449, 10.30612245, 10.55102041,\n",
       "       10.79591837, 11.04081633, 11.28571429, 11.53061224, 11.7755102 ,\n",
       "       12.02040816, 12.26530612, 12.51020408, 12.75510204, 13.        ])"
      ]
     },
     "execution_count": 40,
     "metadata": {},
     "output_type": "execute_result"
    }
   ],
   "source": [
    "# Now, cluster within each of those.\n",
    "# clusters_per_strat = 10\n",
    "\n",
    "n_strat_bins = 50\n",
    "clusters_per_strat = n_clusters // n_strat_bins\n",
    "\n",
    "rmsd_bins = np.linspace(1, 13, n_strat_bins)\n",
    "rmsd_bins"
   ]
  },
  {
   "cell_type": "code",
   "execution_count": 41,
   "metadata": {
    "execution": {
     "iopub.execute_input": "2022-03-12T05:58:32.529521Z",
     "iopub.status.busy": "2022-03-12T05:58:32.529189Z",
     "iopub.status.idle": "2022-03-12T05:58:33.102336Z",
     "shell.execute_reply": "2022-03-12T05:58:33.101466Z",
     "shell.execute_reply.started": "2022-03-12T05:58:32.529494Z"
    },
    "tags": []
   },
   "outputs": [
    {
     "data": {
      "text/plain": [
       "Text(0, 0.5, 'RMSD')"
      ]
     },
     "execution_count": 41,
     "metadata": {},
     "output_type": "execute_result"
    },
    {
     "data": {
      "image/png": "[encoded data removed]",
      "text/plain": [
       "<Figure size 864x288 with 1 Axes>"
      ]
     },
     "metadata": {},
     "output_type": "display_data"
    }
   ],
   "source": [
    "plt.plot(rmsd[::rmsd_stride])\n",
    "plt.gcf().set_size_inches(12,4)\n",
    "\n",
    "[plt.axhline(rmsd_bin, color='k') for rmsd_bin in rmsd_bins];\n",
    "plt.ylabel('RMSD')"
   ]
  },
  {
   "cell_type": "raw",
   "metadata": {
    "execution": {
     "iopub.execute_input": "2022-02-22T17:05:15.363615Z",
     "iopub.status.busy": "2022-02-22T17:05:15.363331Z",
     "iopub.status.idle": "2022-02-22T17:05:43.369890Z",
     "shell.execute_reply": "2022-02-22T17:05:43.368782Z",
     "shell.execute_reply.started": "2022-02-22T17:05:15.363584Z"
    },
    "pycharm": {
     "name": "#%%\n"
    },
    "tags": []
   },
   "source": [
    "# Sloppy RMSD-based clustering. Not strictly stratified, since bins are aggregated at the end.\n",
    "\n",
    "bin_boundaries = np.concatenate([[-np.inf], rmsd_bins, [np.inf]])\n",
    "\n",
    "all_clusters = []\n",
    "\n",
    "for bin_lower, bin_upper in tqdm.tqdm(zip(bin_boundaries[:-1], bin_boundaries[1:]), total=len(bin_boundaries)-1):\n",
    "\n",
    "    kmeans_estimator = KMeans(\n",
    "        n_clusters=clusters_per_strat,\n",
    "        max_iter=1000,\n",
    "        fixed_seed=1337,\n",
    "        n_jobs=4,\n",
    "        progress=tqdm.tqdm\n",
    "    )\n",
    "    \n",
    "    # Get the points in this bin\n",
    "    points_in_bin = np.argwhere((rmsd[::rmsd_stride] >= bin_lower) & (rmsd[::rmsd_stride] < bin_upper)).flatten()\n",
    "    \n",
    "    clustering = kmeans_estimator.fit(projection[points_in_bin]).fetch_model()\n",
    "    \n",
    "    all_clusters.append(copy.deepcopy(clustering))\n",
    "\n",
    "combined_kmeans_centers = np.concatenate([x._cluster_centers for x in all_clusters])\n",
    "\n",
    "all_cluster = KMeansModel(combined_kmeans_centers, metric='euclidean')\n",
    "\n",
    "discrete_stratified = all_cluster.transform(projection)"
   ]
  },
  {
   "cell_type": "markdown",
   "metadata": {},
   "source": [
    "#### tIC-based"
   ]
  },
  {
   "cell_type": "code",
   "execution_count": 267,
   "metadata": {
    "execution": {
     "iopub.execute_input": "2022-02-24T20:53:14.314968Z",
     "iopub.status.busy": "2022-02-24T20:53:14.314570Z",
     "iopub.status.idle": "2022-02-24T20:53:14.321869Z",
     "shell.execute_reply": "2022-02-24T20:53:14.319386Z",
     "shell.execute_reply.started": "2022-02-24T20:53:14.314936Z"
    }
   },
   "outputs": [],
   "source": [
    "del rmsd_bins"
   ]
  },
  {
   "cell_type": "code",
   "execution_count": 32,
   "metadata": {
    "execution": {
     "iopub.execute_input": "2022-04-01T23:15:09.407784Z",
     "iopub.status.busy": "2022-04-01T23:15:09.407461Z",
     "iopub.status.idle": "2022-04-01T23:15:09.418940Z",
     "shell.execute_reply": "2022-04-01T23:15:09.417710Z",
     "shell.execute_reply.started": "2022-04-01T23:15:09.407748Z"
    },
    "tags": []
   },
   "outputs": [
    {
     "data": {
      "text/plain": "(array([-47.        , -43.63157895, -40.26315789, -36.89473684,\n        -33.52631579, -30.15789474, -26.78947368, -23.42105263,\n        -20.05263158, -16.68421053, -13.31578947,  -9.94736842,\n         -6.57894737,  -3.21052632,   0.15789474,   3.52631579,\n          6.89473684,  10.26315789,  13.63157895,  17.        ]),\n 500)"
     },
     "execution_count": 32,
     "metadata": {},
     "output_type": "execute_result"
    }
   ],
   "source": [
    "# Now, cluster within each of those.\n",
    "# clusters_per_strat = 10\n",
    "n_clusters = 10000\n",
    "n_strat_bins = 20\n",
    "clusters_per_strat = n_clusters // n_strat_bins\n",
    "\n",
    "tic_bins = np.linspace(-50, 20, n_strat_bins) # 10ns, 1k states\n",
    "tic_bins = np.linspace(-47, 17, n_strat_bins) # 1ns, 10k states\n",
    "tic_bins, clusters_per_strat"
   ]
  },
  {
   "cell_type": "code",
   "execution_count": 33,
   "metadata": {
    "execution": {
     "iopub.execute_input": "2022-04-01T23:15:09.421513Z",
     "iopub.status.busy": "2022-04-01T23:15:09.421245Z",
     "iopub.status.idle": "2022-04-01T23:15:09.851656Z",
     "shell.execute_reply": "2022-04-01T23:15:09.850800Z",
     "shell.execute_reply.started": "2022-04-01T23:15:09.421493Z"
    },
    "tags": []
   },
   "outputs": [
    {
     "data": {
      "text/plain": "[<matplotlib.lines.Line2D at 0x15f7c9490>]"
     },
     "execution_count": 33,
     "metadata": {},
     "output_type": "execute_result"
    },
    {
     "data": {
      "text/plain": "<Figure size 432x288 with 1 Axes>",
      "image/png": "[encoded data removed]"
     },
     "metadata": {},
     "output_type": "display_data"
    }
   ],
   "source": [
    "fig, ax = plt.subplots()\n",
    "\n",
    "[ax.axhline(x, color='k') for x in tic_bins]\n",
    "ax.plot(projection[:, tic_rmsd], label=f'tIC {tic_rmsd}', color='tab:blue')"
   ]
  },
  {
   "cell_type": "code",
   "execution_count": 34,
   "metadata": {
    "execution": {
     "iopub.execute_input": "2022-04-01T23:15:09.853895Z",
     "iopub.status.busy": "2022-04-01T23:15:09.853513Z",
     "iopub.status.idle": "2022-04-01T23:15:46.336277Z",
     "shell.execute_reply": "2022-04-01T23:15:46.331040Z",
     "shell.execute_reply.started": "2022-04-01T23:15:09.853851Z"
    },
    "pycharm": {
     "name": "#%%\n"
    },
    "scrolled": true,
    "tags": []
   },
   "outputs": [
    {
     "data": {
      "text/plain": "  0%|          | 0/21 [00:00<?, ?it/s]",
      "application/vnd.jupyter.widget-view+json": {
       "version_major": 2,
       "version_minor": 0,
       "model_id": "95afb83ffc2e48cda3b3237acf918880"
      }
     },
     "metadata": {},
     "output_type": "display_data"
    },
    {
     "data": {
      "text/plain": "  0%|          | 0/500 [00:00<?, ?it/s]",
      "application/vnd.jupyter.widget-view+json": {
       "version_major": 2,
       "version_minor": 0,
       "model_id": "c960ff5426ca4712849131c8794b77c4"
      }
     },
     "metadata": {},
     "output_type": "display_data"
    },
    {
     "data": {
      "text/plain": "  0%|          | 0/1000 [00:00<?, ?it/s]",
      "application/vnd.jupyter.widget-view+json": {
       "version_major": 2,
       "version_minor": 0,
       "model_id": "1d91541584ae46c99d2105fe70bbdb76"
      }
     },
     "metadata": {},
     "output_type": "display_data"
    },
    {
     "data": {
      "text/plain": "  0%|          | 0/500 [00:00<?, ?it/s]",
      "application/vnd.jupyter.widget-view+json": {
       "version_major": 2,
       "version_minor": 0,
       "model_id": "7489580d1104422fba8198dc68bc3587"
      }
     },
     "metadata": {},
     "output_type": "display_data"
    },
    {
     "data": {
      "text/plain": "  0%|          | 0/1000 [00:00<?, ?it/s]",
      "application/vnd.jupyter.widget-view+json": {
       "version_major": 2,
       "version_minor": 0,
       "model_id": "10baca12b51243eebd276c6a7c581329"
      }
     },
     "metadata": {},
     "output_type": "display_data"
    },
    {
     "data": {
      "text/plain": "  0%|          | 0/500 [00:00<?, ?it/s]",
      "application/vnd.jupyter.widget-view+json": {
       "version_major": 2,
       "version_minor": 0,
       "model_id": "a46d185e008b4f1aa0826489f77b3bd6"
      }
     },
     "metadata": {},
     "output_type": "display_data"
    },
    {
     "data": {
      "text/plain": "  0%|          | 0/1000 [00:00<?, ?it/s]",
      "application/vnd.jupyter.widget-view+json": {
       "version_major": 2,
       "version_minor": 0,
       "model_id": "fa2ecde541eb455e9978171735248ed2"
      }
     },
     "metadata": {},
     "output_type": "display_data"
    },
    {
     "data": {
      "text/plain": "  0%|          | 0/500 [00:00<?, ?it/s]",
      "application/vnd.jupyter.widget-view+json": {
       "version_major": 2,
       "version_minor": 0,
       "model_id": "8188e9a93064403ea9fea2f4fd754620"
      }
     },
     "metadata": {},
     "output_type": "display_data"
    },
    {
     "data": {
      "text/plain": "  0%|          | 0/1000 [00:00<?, ?it/s]",
      "application/vnd.jupyter.widget-view+json": {
       "version_major": 2,
       "version_minor": 0,
       "model_id": "293adf9a4be049ca88bd025ee6b4eead"
      }
     },
     "metadata": {},
     "output_type": "display_data"
    },
    {
     "data": {
      "text/plain": "  0%|          | 0/500 [00:00<?, ?it/s]",
      "application/vnd.jupyter.widget-view+json": {
       "version_major": 2,
       "version_minor": 0,
       "model_id": "390f7b8240cd4f2c95aff243eca76cff"
      }
     },
     "metadata": {},
     "output_type": "display_data"
    },
    {
     "data": {
      "text/plain": "  0%|          | 0/1000 [00:00<?, ?it/s]",
      "application/vnd.jupyter.widget-view+json": {
       "version_major": 2,
       "version_minor": 0,
       "model_id": "3be8af0a155845a399d0b69c0109b343"
      }
     },
     "metadata": {},
     "output_type": "display_data"
    },
    {
     "data": {
      "text/plain": "  0%|          | 0/500 [00:00<?, ?it/s]",
      "application/vnd.jupyter.widget-view+json": {
       "version_major": 2,
       "version_minor": 0,
       "model_id": "a2b9476fd8bb4e3387cf1750c16fa1f2"
      }
     },
     "metadata": {},
     "output_type": "display_data"
    },
    {
     "data": {
      "text/plain": "  0%|          | 0/1000 [00:00<?, ?it/s]",
      "application/vnd.jupyter.widget-view+json": {
       "version_major": 2,
       "version_minor": 0,
       "model_id": "7ce79567ad61490d8ba976387addd9f8"
      }
     },
     "metadata": {},
     "output_type": "display_data"
    },
    {
     "data": {
      "text/plain": "  0%|          | 0/500 [00:00<?, ?it/s]",
      "application/vnd.jupyter.widget-view+json": {
       "version_major": 2,
       "version_minor": 0,
       "model_id": "0f6d9ece3dc04f15b76ba38be8f82d2d"
      }
     },
     "metadata": {},
     "output_type": "display_data"
    },
    {
     "data": {
      "text/plain": "  0%|          | 0/1000 [00:00<?, ?it/s]",
      "application/vnd.jupyter.widget-view+json": {
       "version_major": 2,
       "version_minor": 0,
       "model_id": "debaeb0b2c47483b88d5ccd55a484515"
      }
     },
     "metadata": {},
     "output_type": "display_data"
    },
    {
     "data": {
      "text/plain": "  0%|          | 0/500 [00:00<?, ?it/s]",
      "application/vnd.jupyter.widget-view+json": {
       "version_major": 2,
       "version_minor": 0,
       "model_id": "c29cf0d7b5254326a55b9f491acfa4a1"
      }
     },
     "metadata": {},
     "output_type": "display_data"
    },
    {
     "data": {
      "text/plain": "  0%|          | 0/1000 [00:00<?, ?it/s]",
      "application/vnd.jupyter.widget-view+json": {
       "version_major": 2,
       "version_minor": 0,
       "model_id": "b8054dc83bd149a387f6c72ef8545e2d"
      }
     },
     "metadata": {},
     "output_type": "display_data"
    },
    {
     "data": {
      "text/plain": "  0%|          | 0/500 [00:00<?, ?it/s]",
      "application/vnd.jupyter.widget-view+json": {
       "version_major": 2,
       "version_minor": 0,
       "model_id": "01cf400b81dd4fa8847eea595ea97e01"
      }
     },
     "metadata": {},
     "output_type": "display_data"
    },
    {
     "data": {
      "text/plain": "  0%|          | 0/1000 [00:00<?, ?it/s]",
      "application/vnd.jupyter.widget-view+json": {
       "version_major": 2,
       "version_minor": 0,
       "model_id": "4a992bd5ce254c2d9dc1acf251739224"
      }
     },
     "metadata": {},
     "output_type": "display_data"
    },
    {
     "data": {
      "text/plain": "  0%|          | 0/500 [00:00<?, ?it/s]",
      "application/vnd.jupyter.widget-view+json": {
       "version_major": 2,
       "version_minor": 0,
       "model_id": "1710aa9070e74cd2b76337bd06c72f7a"
      }
     },
     "metadata": {},
     "output_type": "display_data"
    },
    {
     "data": {
      "text/plain": "  0%|          | 0/1000 [00:00<?, ?it/s]",
      "application/vnd.jupyter.widget-view+json": {
       "version_major": 2,
       "version_minor": 0,
       "model_id": "21ef7101d93c4873830b2926815751bd"
      }
     },
     "metadata": {},
     "output_type": "display_data"
    },
    {
     "data": {
      "text/plain": "  0%|          | 0/500 [00:00<?, ?it/s]",
      "application/vnd.jupyter.widget-view+json": {
       "version_major": 2,
       "version_minor": 0,
       "model_id": "09561555ec904359956b815e9683a517"
      }
     },
     "metadata": {},
     "output_type": "display_data"
    },
    {
     "data": {
      "text/plain": "  0%|          | 0/1000 [00:00<?, ?it/s]",
      "application/vnd.jupyter.widget-view+json": {
       "version_major": 2,
       "version_minor": 0,
       "model_id": "39d00e89999140b9906c7790312acc94"
      }
     },
     "metadata": {},
     "output_type": "display_data"
    },
    {
     "data": {
      "text/plain": "  0%|          | 0/500 [00:00<?, ?it/s]",
      "application/vnd.jupyter.widget-view+json": {
       "version_major": 2,
       "version_minor": 0,
       "model_id": "56c1b39b1d264a72864dd3648ee9f441"
      }
     },
     "metadata": {},
     "output_type": "display_data"
    },
    {
     "data": {
      "text/plain": "  0%|          | 0/1000 [00:00<?, ?it/s]",
      "application/vnd.jupyter.widget-view+json": {
       "version_major": 2,
       "version_minor": 0,
       "model_id": "649aca14eab74b63b70349a154e27f00"
      }
     },
     "metadata": {},
     "output_type": "display_data"
    },
    {
     "data": {
      "text/plain": "  0%|          | 0/500 [00:00<?, ?it/s]",
      "application/vnd.jupyter.widget-view+json": {
       "version_major": 2,
       "version_minor": 0,
       "model_id": "094bfc7d36c94834b27d280117a9d022"
      }
     },
     "metadata": {},
     "output_type": "display_data"
    },
    {
     "data": {
      "text/plain": "  0%|          | 0/1000 [00:00<?, ?it/s]",
      "application/vnd.jupyter.widget-view+json": {
       "version_major": 2,
       "version_minor": 0,
       "model_id": "1e1cf1e649494ffca2bff825d76031bd"
      }
     },
     "metadata": {},
     "output_type": "display_data"
    },
    {
     "data": {
      "text/plain": "  0%|          | 0/500 [00:00<?, ?it/s]",
      "application/vnd.jupyter.widget-view+json": {
       "version_major": 2,
       "version_minor": 0,
       "model_id": "74b067b7c4ae4bcfa54de7101d2c4dc6"
      }
     },
     "metadata": {},
     "output_type": "display_data"
    },
    {
     "data": {
      "text/plain": "  0%|          | 0/1000 [00:00<?, ?it/s]",
      "application/vnd.jupyter.widget-view+json": {
       "version_major": 2,
       "version_minor": 0,
       "model_id": "0f7318f06eca42c398e7e04eeb5d02b7"
      }
     },
     "metadata": {},
     "output_type": "display_data"
    },
    {
     "data": {
      "text/plain": "  0%|          | 0/500 [00:00<?, ?it/s]",
      "application/vnd.jupyter.widget-view+json": {
       "version_major": 2,
       "version_minor": 0,
       "model_id": "121ce98cf0f44791998305d921f45006"
      }
     },
     "metadata": {},
     "output_type": "display_data"
    },
    {
     "data": {
      "text/plain": "  0%|          | 0/1000 [00:00<?, ?it/s]",
      "application/vnd.jupyter.widget-view+json": {
       "version_major": 2,
       "version_minor": 0,
       "model_id": "fd20741792674b75ab9631c44653b8da"
      }
     },
     "metadata": {},
     "output_type": "display_data"
    },
    {
     "data": {
      "text/plain": "  0%|          | 0/500 [00:00<?, ?it/s]",
      "application/vnd.jupyter.widget-view+json": {
       "version_major": 2,
       "version_minor": 0,
       "model_id": "9c44265f5e114a52b24fbe73fbbff024"
      }
     },
     "metadata": {},
     "output_type": "display_data"
    },
    {
     "data": {
      "text/plain": "  0%|          | 0/1000 [00:00<?, ?it/s]",
      "application/vnd.jupyter.widget-view+json": {
       "version_major": 2,
       "version_minor": 0,
       "model_id": "6bec8c9185174f7e8e741dfd643b08bd"
      }
     },
     "metadata": {},
     "output_type": "display_data"
    },
    {
     "data": {
      "text/plain": "  0%|          | 0/500 [00:00<?, ?it/s]",
      "application/vnd.jupyter.widget-view+json": {
       "version_major": 2,
       "version_minor": 0,
       "model_id": "3bd8a78c7e5c4b06b403c97cffd981a0"
      }
     },
     "metadata": {},
     "output_type": "display_data"
    },
    {
     "data": {
      "text/plain": "  0%|          | 0/1000 [00:00<?, ?it/s]",
      "application/vnd.jupyter.widget-view+json": {
       "version_major": 2,
       "version_minor": 0,
       "model_id": "1096e001c0c942bfb6bbbc4c88166168"
      }
     },
     "metadata": {},
     "output_type": "display_data"
    },
    {
     "data": {
      "text/plain": "  0%|          | 0/500 [00:00<?, ?it/s]",
      "application/vnd.jupyter.widget-view+json": {
       "version_major": 2,
       "version_minor": 0,
       "model_id": "a5a510bfeb93410eb7c6702cc6cb3e57"
      }
     },
     "metadata": {},
     "output_type": "display_data"
    },
    {
     "data": {
      "text/plain": "  0%|          | 0/1000 [00:00<?, ?it/s]",
      "application/vnd.jupyter.widget-view+json": {
       "version_major": 2,
       "version_minor": 0,
       "model_id": "7abd201482b046a784d61d3cfbd1b479"
      }
     },
     "metadata": {},
     "output_type": "display_data"
    },
    {
     "data": {
      "text/plain": "  0%|          | 0/500 [00:00<?, ?it/s]",
      "application/vnd.jupyter.widget-view+json": {
       "version_major": 2,
       "version_minor": 0,
       "model_id": "30f9113c813243be8a7167ec16519395"
      }
     },
     "metadata": {},
     "output_type": "display_data"
    },
    {
     "data": {
      "text/plain": "  0%|          | 0/1000 [00:00<?, ?it/s]",
      "application/vnd.jupyter.widget-view+json": {
       "version_major": 2,
       "version_minor": 0,
       "model_id": "2df691c2f3df4dbdb60e1da8332f05cd"
      }
     },
     "metadata": {},
     "output_type": "display_data"
    },
    {
     "data": {
      "text/plain": "  0%|          | 0/500 [00:00<?, ?it/s]",
      "application/vnd.jupyter.widget-view+json": {
       "version_major": 2,
       "version_minor": 0,
       "model_id": "247b8fe8ad5647de989098bc73475398"
      }
     },
     "metadata": {},
     "output_type": "display_data"
    },
    {
     "data": {
      "text/plain": "  0%|          | 0/1000 [00:00<?, ?it/s]",
      "application/vnd.jupyter.widget-view+json": {
       "version_major": 2,
       "version_minor": 0,
       "model_id": "a614f5a1d5af4075bbfd8847881c513b"
      }
     },
     "metadata": {},
     "output_type": "display_data"
    },
    {
     "data": {
      "text/plain": "  0%|          | 0/500 [00:00<?, ?it/s]",
      "application/vnd.jupyter.widget-view+json": {
       "version_major": 2,
       "version_minor": 0,
       "model_id": "933f3eddef1e470cb66b321e19d8e4a0"
      }
     },
     "metadata": {},
     "output_type": "display_data"
    },
    {
     "data": {
      "text/plain": "  0%|          | 0/1000 [00:00<?, ?it/s]",
      "application/vnd.jupyter.widget-view+json": {
       "version_major": 2,
       "version_minor": 0,
       "model_id": "35a4a1f4fb7447a98b77dc39356af9bd"
      }
     },
     "metadata": {},
     "output_type": "display_data"
    }
   ],
   "source": [
    "bin_boundaries = np.concatenate([[-np.inf], tic_bins, [np.inf]])\n",
    "\n",
    "all_clusters = []\n",
    "\n",
    "discretized = np.full(projection.shape[0], fill_value=np.nan)\n",
    "\n",
    "for i, (bin_lower, bin_upper) in tqdm.tqdm(\n",
    "                                        enumerate(zip(bin_boundaries[:-1], bin_boundaries[1:])), \n",
    "                                    total=len(bin_boundaries)-1):\n",
    "\n",
    "    kmeans_estimator = KMeans(\n",
    "        n_clusters=clusters_per_strat,\n",
    "        max_iter=1000,\n",
    "        fixed_seed=1337,\n",
    "        n_jobs=4,\n",
    "        progress=tqdm.tqdm\n",
    "    )\n",
    "    \n",
    "    # Get the points in this bin\n",
    "    points_in_bin = np.argwhere(\n",
    "        (projection[:,tic_rmsd] >= bin_lower) & \n",
    "        (projection[:,tic_rmsd] < bin_upper)\n",
    "    ).flatten()\n",
    "    \n",
    "    _clustering = kmeans_estimator.fit(projection[points_in_bin]).fetch_model()\n",
    "    \n",
    "    cluster_offset = i*clusters_per_strat\n",
    "    \n",
    "    discretized[points_in_bin] = _clustering.transform(projection[points_in_bin])\n",
    "    discretized[points_in_bin] = discretized[points_in_bin] + cluster_offset\n",
    "    \n",
    "    all_clusters.append(copy.deepcopy(_clustering))\n",
    "    \n",
    "discrete_stratified = discretized\n",
    "\n",
    "combined_kmeans_centers = np.concatenate([x._cluster_centers for x in all_clusters])"
   ]
  },
  {
   "cell_type": "code",
   "execution_count": 35,
   "metadata": {
    "execution": {
     "iopub.execute_input": "2022-04-01T23:15:46.345326Z",
     "iopub.status.busy": "2022-04-01T23:15:46.342579Z",
     "iopub.status.idle": "2022-04-01T23:15:46.823744Z",
     "shell.execute_reply": "2022-04-01T23:15:46.822341Z",
     "shell.execute_reply.started": "2022-04-01T23:15:46.345281Z"
    },
    "tags": []
   },
   "outputs": [
    {
     "data": {
      "text/plain": "[<matplotlib.lines.Line2D at 0x15fa6de80>]"
     },
     "execution_count": 35,
     "metadata": {},
     "output_type": "execute_result"
    },
    {
     "data": {
      "text/plain": "<Figure size 432x288 with 1 Axes>",
      "image/png": "[encoded data removed]"
     },
     "metadata": {},
     "output_type": "display_data"
    }
   ],
   "source": [
    "plt.plot(discrete_stratified)"
   ]
  },
  {
   "cell_type": "code",
   "execution_count": 36,
   "metadata": {
    "execution": {
     "iopub.execute_input": "2022-04-01T23:15:46.826328Z",
     "iopub.status.busy": "2022-04-01T23:15:46.825800Z",
     "iopub.status.idle": "2022-04-01T23:15:46.837268Z",
     "shell.execute_reply": "2022-04-01T23:15:46.834633Z",
     "shell.execute_reply.started": "2022-04-01T23:15:46.826292Z"
    },
    "tags": []
   },
   "outputs": [],
   "source": [
    "discrete_trajectory = discrete_stratified.astype(int)\n",
    "# clustering = all_cluster"
   ]
  },
  {
   "cell_type": "markdown",
   "metadata": {
    "pycharm": {
     "name": "#%% md\n"
    }
   },
   "source": [
    "# Build MSM"
   ]
  },
  {
   "cell_type": "markdown",
   "metadata": {},
   "source": [
    "## Load necessary trajectory data"
   ]
  },
  {
   "cell_type": "markdown",
   "metadata": {},
   "source": [
    "For now, manually run \n",
    "1. Up to Trajectory Preparation\n",
    "2. The \"Load Saved\" sections within Trajectory preparation\n",
    "3. Dimensionality reduction: Load Saved\n",
    "4. Discretize trajectory\n",
    "\n",
    "before running this. Can probably save all the intermediate results in one `npz` eventually."
   ]
  },
  {
   "cell_type": "markdown",
   "metadata": {},
   "source": [
    "## Construct MSM object\n",
    "\n",
    "Build with the lag time specified before, and enforce reversibility."
   ]
  },
  {
   "cell_type": "code",
   "execution_count": 37,
   "metadata": {
    "execution": {
     "iopub.execute_input": "2022-04-01T23:15:46.842111Z",
     "iopub.status.busy": "2022-04-01T23:15:46.841642Z",
     "iopub.status.idle": "2022-04-01T23:15:46.856122Z",
     "shell.execute_reply": "2022-04-01T23:15:46.849697Z",
     "shell.execute_reply.started": "2022-04-01T23:15:46.842075Z"
    },
    "pycharm": {
     "name": "#%%\n"
    },
    "tags": []
   },
   "outputs": [],
   "source": [
    "from deeptime.markov import TransitionCountEstimator, TransitionCountModel\n",
    "from deeptime.markov.msm import MaximumLikelihoodMSM, MarkovStateModel"
   ]
  },
  {
   "cell_type": "code",
   "execution_count": 38,
   "metadata": {
    "execution": {
     "iopub.execute_input": "2022-04-01T23:15:46.863283Z",
     "iopub.status.busy": "2022-04-01T23:15:46.860127Z",
     "iopub.status.idle": "2022-04-01T23:15:47.277603Z",
     "shell.execute_reply": "2022-04-01T23:15:47.276974Z",
     "shell.execute_reply.started": "2022-04-01T23:15:46.863232Z"
    },
    "pycharm": {
     "name": "#%%\n"
    },
    "tags": []
   },
   "outputs": [
    {
     "name": "stdout",
     "output_type": "stream",
     "text": [
      "5\n"
     ]
    }
   ],
   "source": [
    "lag = msm_lag_steps\n",
    "# lag = 100\n",
    "print(msm_lag_steps)\n",
    "count_model = TransitionCountEstimator(lag, 'sliding').fit_fetch(discrete_trajectory)\n",
    "asymm_msm = MaximumLikelihoodMSM(reversible=True).fit_fetch(count_model.submodel_largest())"
   ]
  },
  {
   "cell_type": "markdown",
   "metadata": {},
   "source": [
    "### Symmetrize\n",
    "\n",
    "Add the count matrix to its transpose, to get an equal number of counts in/out of states. Then construct an MSM from that symmetrized count matrix."
   ]
  },
  {
   "cell_type": "code",
   "execution_count": 39,
   "metadata": {
    "execution": {
     "iopub.execute_input": "2022-04-01T23:15:47.278994Z",
     "iopub.status.busy": "2022-04-01T23:15:47.278592Z",
     "iopub.status.idle": "2022-04-01T23:15:47.435415Z",
     "shell.execute_reply": "2022-04-01T23:15:47.434680Z",
     "shell.execute_reply.started": "2022-04-01T23:15:47.278922Z"
    },
    "pycharm": {
     "name": "#%%\n"
    },
    "tags": []
   },
   "outputs": [],
   "source": [
    "symmetric_count_matrix = count_model.count_matrix + count_model.count_matrix.T\n",
    "symmetric_count_model = TransitionCountModel(symmetric_count_matrix, \n",
    "                                             lagtime=lag, counting_mode='sliding')\n",
    "\n",
    "symm_msm =  MaximumLikelihoodMSM(reversible=True).fit_fetch(\n",
    "    symmetric_count_model.submodel_largest())\n",
    "\n",
    "msm = symm_msm"
   ]
  },
  {
   "cell_type": "markdown",
   "metadata": {},
   "source": [
    "## Define folded/unfolded/intermediate states\n",
    "\n",
    "These are manually defined in the space of the tIC that maps to RMSD, mostly because it's fairly easy to pick out reasonable thresholds by eye."
   ]
  },
  {
   "cell_type": "code",
   "execution_count": 40,
   "metadata": {
    "execution": {
     "iopub.execute_input": "2022-04-01T23:15:47.437912Z",
     "iopub.status.busy": "2022-04-01T23:15:47.437352Z",
     "iopub.status.idle": "2022-04-01T23:15:47.447367Z",
     "shell.execute_reply": "2022-04-01T23:15:47.446643Z",
     "shell.execute_reply.started": "2022-04-01T23:15:47.437861Z"
    },
    "pycharm": {
     "name": "#%%\n"
    },
    "tags": []
   },
   "outputs": [],
   "source": [
    "unfolded_thresh = 5 #0.9\n",
    "folded_thresh = -40 #-1.89\n",
    "\n",
    "unfolded = np.argwhere(combined_kmeans_centers[:, tic_rmsd].flatten() > unfolded_thresh).flatten()\n",
    "folded = np.argwhere(combined_kmeans_centers[:, tic_rmsd].flatten() < folded_thresh).flatten()\n",
    "\n",
    "# unfolded_thresh = 1.6\n",
    "# folded_thresh = -1.89\n",
    "# unfolded = np.argwhere(clustering.cluster_centers[:, tic_rmsd].flatten() > unfolded_thresh).flatten()\n",
    "# folded = np.argwhere(clustering.cluster_centers[:, tic_rmsd].flatten() < folded_thresh).flatten()\n",
    "# len(unfolded), len(folded)"
   ]
  },
  {
   "cell_type": "code",
   "execution_count": 41,
   "metadata": {
    "execution": {
     "iopub.execute_input": "2022-04-01T23:15:47.450396Z",
     "iopub.status.busy": "2022-04-01T23:15:47.449579Z",
     "iopub.status.idle": "2022-04-01T23:15:47.484417Z",
     "shell.execute_reply": "2022-04-01T23:15:47.483358Z",
     "shell.execute_reply.started": "2022-04-01T23:15:47.450324Z"
    },
    "pycharm": {
     "name": "#%%\n"
    },
    "tags": []
   },
   "outputs": [],
   "source": [
    "# Sort by the rmsd-like tic\n",
    "\n",
    "active_states = symmetric_count_model.connected_sets()[0]\n",
    "cluster_sort_order = np.argsort(combined_kmeans_centers[active_states, tic_rmsd])\n",
    "\n",
    "intermediate = np.setdiff1d(active_states, np.concatenate([folded, unfolded]))"
   ]
  },
  {
   "cell_type": "code",
   "execution_count": 42,
   "metadata": {
    "execution": {
     "iopub.execute_input": "2022-04-01T23:15:47.486236Z",
     "iopub.status.busy": "2022-04-01T23:15:47.485964Z",
     "iopub.status.idle": "2022-04-01T23:15:47.494648Z",
     "shell.execute_reply": "2022-04-01T23:15:47.493871Z",
     "shell.execute_reply.started": "2022-04-01T23:15:47.486205Z"
    },
    "tags": []
   },
   "outputs": [
    {
     "data": {
      "text/plain": "(2485, 1500, 6515)"
     },
     "execution_count": 42,
     "metadata": {},
     "output_type": "execute_result"
    }
   ],
   "source": [
    "len(unfolded), len(folded), len(intermediate)"
   ]
  },
  {
   "cell_type": "markdown",
   "metadata": {
    "pycharm": {
     "name": "#%% md\n"
    }
   },
   "source": [
    "### Visualize results of MSM\n",
    "\n",
    "Note that in the plot below, the histogram may lie directly below the stationary distribution."
   ]
  },
  {
   "cell_type": "code",
   "execution_count": 43,
   "metadata": {
    "execution": {
     "iopub.execute_input": "2022-04-01T23:15:47.497460Z",
     "iopub.status.busy": "2022-04-01T23:15:47.496752Z",
     "iopub.status.idle": "2022-04-01T23:15:47.563222Z",
     "shell.execute_reply": "2022-04-01T23:15:47.561414Z",
     "shell.execute_reply.started": "2022-04-01T23:15:47.497425Z"
    },
    "pycharm": {
     "name": "#%%\n"
    },
    "tags": []
   },
   "outputs": [],
   "source": [
    "# Get the histogram in each bin from the full trajectory\n",
    "hist_bins, hist_raw_counts = np.unique(discrete_trajectory, return_counts=True)\n",
    "hist_counts = hist_raw_counts/sum(hist_raw_counts)"
   ]
  },
  {
   "cell_type": "code",
   "execution_count": 44,
   "metadata": {
    "execution": {
     "iopub.execute_input": "2022-04-01T23:15:47.566091Z",
     "iopub.status.busy": "2022-04-01T23:15:47.565719Z",
     "iopub.status.idle": "2022-04-01T23:15:48.678771Z",
     "shell.execute_reply": "2022-04-01T23:15:48.674702Z",
     "shell.execute_reply.started": "2022-04-01T23:15:47.566061Z"
    },
    "pycharm": {
     "name": "#%%\n"
    },
    "tags": []
   },
   "outputs": [
    {
     "data": {
      "text/plain": "<Figure size 864x288 with 2 Axes>",
      "image/png": "[encoded data removed]"
     },
     "metadata": {},
     "output_type": "display_data"
    }
   ],
   "source": [
    "# Plot the RMSDs and discrete trajectory\n",
    "fig, tic_ax = plt.subplots(1,1)\n",
    "# rmsd_ax = tic_ax.twinx()\n",
    "\n",
    "_subsample = 10\n",
    "\n",
    "# rmsd_ax.plot(rmsd, color='gray', label='RMSD')\n",
    "tic_ax.plot(projection[:, tic_rmsd][::_subsample], color='gray', label='tIC')\n",
    "tic_ax.set_ylabel(f'tIC {tic_rmsd}')\n",
    "\n",
    "# discrete_ax.plot(discrete_trajectory[::_subsample], color='k', label='Discrete')\n",
    "# discrete_ax.set_ylabel('State')\n",
    "\n",
    "tic_ax.set_xlabel('Time (ps)')\n",
    "\n",
    "stationary_ax = tic_ax.twiny()\n",
    "stationary_ax.plot(\n",
    "    msm.stationary_distribution[cluster_sort_order],\n",
    "    combined_kmeans_centers[cluster_sort_order, tic_rmsd],\n",
    "    color='red',\n",
    "    label='Stationary distribution'\n",
    ")\n",
    "stationary_ax.set_xlabel('Stationary Probability')\n",
    "\n",
    "stationary_ax.plot(\n",
    "    hist_counts[cluster_sort_order],\n",
    "    combined_kmeans_centers[hist_bins.astype(int)][cluster_sort_order, tic_rmsd].flatten(),\n",
    "    color='green',\n",
    "    linestyle='--',\n",
    "    label='Histogram',\n",
    "    zorder=-5\n",
    ")\n",
    "\n",
    "stationary_ax.axhline(unfolded_thresh, color='lime', linewidth=3, zorder=5)\n",
    "stationary_ax.axhline(folded_thresh, color='b', linewidth=3, zorder=5)\n",
    "\n",
    "unfolded_label_y = unfolded_thresh*1.5\n",
    "tic_ax.text(len(projection[::_subsample])*1.06, unfolded_label_y, \n",
    "            'Unfolded', color='green', fontsize=18)\n",
    "folded_label_y = folded_thresh*1.3\n",
    "tic_ax.text(len(projection[::_subsample])*1.06, folded_label_y, \n",
    "            'Folded', color='blue', fontsize=18)\n",
    "\n",
    "tic_ax.text(len(projection[::_subsample])*1.06, (unfolded_label_y + folded_label_y)/2, \n",
    "            'Intermediate', color='black', fontsize=18)\n",
    "\n",
    "fig.legend()\n",
    "fig.set_size_inches(12,4)\n",
    "fig.tight_layout()"
   ]
  },
  {
   "cell_type": "markdown",
   "metadata": {
    "pycharm": {
     "name": "#%% md\n"
    }
   },
   "source": [
    "### Plot potential and committor"
   ]
  },
  {
   "cell_type": "code",
   "execution_count": 47,
   "outputs": [
    {
     "data": {
      "text/plain": "1.0"
     },
     "execution_count": 47,
     "metadata": {},
     "output_type": "execute_result"
    }
   ],
   "source": [
    "msm.stationary_distribution.sum()"
   ],
   "metadata": {
    "collapsed": false,
    "pycharm": {
     "name": "#%%\n"
    }
   }
  },
  {
   "cell_type": "code",
   "execution_count": 45,
   "metadata": {
    "execution": {
     "iopub.execute_input": "2022-04-01T23:15:48.684656Z",
     "iopub.status.busy": "2022-04-01T23:15:48.682351Z",
     "iopub.status.idle": "2022-04-01T23:15:49.413329Z",
     "shell.execute_reply": "2022-04-01T23:15:49.412130Z",
     "shell.execute_reply.started": "2022-04-01T23:15:48.684593Z"
    },
    "pycharm": {
     "name": "#%%\n"
    },
    "tags": []
   },
   "outputs": [
    {
     "data": {
      "text/plain": "Text(0, 0.5, '-$\\\\ln( P^{equil} )$')"
     },
     "execution_count": 45,
     "metadata": {},
     "output_type": "execute_result"
    },
    {
     "data": {
      "text/plain": "<Figure size 432x288 with 1 Axes>",
      "image/png": "[encoded data removed]"
     },
     "metadata": {},
     "output_type": "display_data"
    }
   ],
   "source": [
    "potential = -np.log(msm.stationary_distribution)\n",
    "\n",
    "cluster_sort_order = np.argsort(combined_kmeans_centers[:, tic_rmsd])\n",
    "\n",
    "plt.scatter(\n",
    "    combined_kmeans_centers[cluster_sort_order, tic_rmsd],\n",
    "    potential[cluster_sort_order])\n",
    "\n",
    "plt.axvline(folded_thresh, color='b')\n",
    "plt.axvline(unfolded_thresh, color='lime')\n",
    "\n",
    "plt.xlabel('tIC')\n",
    "plt.ylabel('-$\\\\ln( P^{equil} )$')"
   ]
  },
  {
   "cell_type": "code",
   "execution_count": 57,
   "metadata": {
    "execution": {
     "iopub.execute_input": "2022-03-12T06:00:28.220319Z",
     "iopub.status.busy": "2022-03-12T06:00:28.219975Z",
     "iopub.status.idle": "2022-03-12T06:00:28.234972Z",
     "shell.execute_reply": "2022-03-12T06:00:28.233236Z",
     "shell.execute_reply.started": "2022-03-12T06:00:28.220286Z"
    },
    "pycharm": {
     "name": "#%%\n"
    },
    "tags": []
   },
   "outputs": [
    {
     "ename": "NameError",
     "evalue": "name 'avg_state_rmsds' is not defined",
     "output_type": "error",
     "traceback": [
      "\u001B[0;31m---------------------------------------------------------------------------\u001B[0m",
      "\u001B[0;31mNameError\u001B[0m                                 Traceback (most recent call last)",
      "\u001B[0;32m/var/folders/br/39cs_vgj35b6qs4y2kdfp7dsg0d5l5/T/ipykernel_78378/3411638448.py\u001B[0m in \u001B[0;36m<module>\u001B[0;34m\u001B[0m\n\u001B[1;32m      2\u001B[0m \u001B[0;34m\u001B[0m\u001B[0m\n\u001B[1;32m      3\u001B[0m plt.scatter(\n\u001B[0;32m----> 4\u001B[0;31m     \u001B[0mavg_state_rmsds\u001B[0m\u001B[0;34m[\u001B[0m\u001B[0mcluster_sort_order\u001B[0m\u001B[0;34m]\u001B[0m\u001B[0;34m,\u001B[0m\u001B[0;34m\u001B[0m\u001B[0;34m\u001B[0m\u001B[0m\n\u001B[0m\u001B[1;32m      5\u001B[0m     potential[cluster_sort_order])\n\u001B[1;32m      6\u001B[0m \u001B[0;34m\u001B[0m\u001B[0m\n",
      "\u001B[0;31mNameError\u001B[0m: name 'avg_state_rmsds' is not defined"
     ]
    }
   ],
   "source": [
    "potential = -np.log(msm.stationary_distribution)\n",
    "\n",
    "plt.scatter(\n",
    "    avg_state_rmsds[cluster_sort_order],\n",
    "    potential[cluster_sort_order])\n",
    "\n",
    "# plt.axvline(folded_thresh, color='b')\n",
    "# plt.axvline(unfolded_thresh, color='lime')\n",
    "\n",
    "plt.xlabel('RMSD')\n",
    "plt.ylabel('-$\\\\ln( P^{equil} )$')"
   ]
  },
  {
   "cell_type": "code",
   "execution_count": 58,
   "metadata": {
    "execution": {
     "iopub.execute_input": "2022-03-12T06:00:29.802571Z",
     "iopub.status.busy": "2022-03-12T06:00:29.802187Z",
     "iopub.status.idle": "2022-03-12T06:00:30.056780Z",
     "shell.execute_reply": "2022-03-12T06:00:30.055779Z",
     "shell.execute_reply.started": "2022-03-12T06:00:29.802539Z"
    },
    "tags": []
   },
   "outputs": [
    {
     "data": {
      "text/plain": [
       "Text(0.5, 0, 'tIC 0')"
      ]
     },
     "execution_count": 58,
     "metadata": {},
     "output_type": "execute_result"
    },
    {
     "data": {
      "image/png": "[encoded data removed]",
      "text/plain": [
       "<Figure size 432x288 with 1 Axes>"
      ]
     },
     "metadata": {},
     "output_type": "display_data"
    }
   ],
   "source": [
    "committors = msm.committor_forward(folded, unfolded)\n",
    "\n",
    "committor_sort = np.argsort(committors)\n",
    "\n",
    "plt.scatter(combined_kmeans_centers[committor_sort, tic_rmsd], committors[committor_sort])\n",
    "\n",
    "plt.ylabel('Committor to unfolded')\n",
    "plt.xlabel('tIC 0')"
   ]
  },
  {
   "cell_type": "code",
   "execution_count": 59,
   "metadata": {
    "execution": {
     "iopub.execute_input": "2022-03-12T06:00:31.574873Z",
     "iopub.status.busy": "2022-03-12T06:00:31.574547Z",
     "iopub.status.idle": "2022-03-12T06:00:31.637494Z",
     "shell.execute_reply": "2022-03-12T06:00:31.635789Z",
     "shell.execute_reply.started": "2022-03-12T06:00:31.574845Z"
    },
    "tags": []
   },
   "outputs": [
    {
     "ename": "NameError",
     "evalue": "name 'avg_state_rmsds' is not defined",
     "output_type": "error",
     "traceback": [
      "\u001B[0;31m---------------------------------------------------------------------------\u001B[0m",
      "\u001B[0;31mNameError\u001B[0m                                 Traceback (most recent call last)",
      "\u001B[0;32m/var/folders/br/39cs_vgj35b6qs4y2kdfp7dsg0d5l5/T/ipykernel_78378/1247353177.py\u001B[0m in \u001B[0;36m<module>\u001B[0;34m\u001B[0m\n\u001B[1;32m      3\u001B[0m \u001B[0mcommittor_sort\u001B[0m \u001B[0;34m=\u001B[0m \u001B[0mnp\u001B[0m\u001B[0;34m.\u001B[0m\u001B[0margsort\u001B[0m\u001B[0;34m(\u001B[0m\u001B[0mcommittors\u001B[0m\u001B[0;34m)\u001B[0m\u001B[0;34m\u001B[0m\u001B[0;34m\u001B[0m\u001B[0m\n\u001B[1;32m      4\u001B[0m \u001B[0;34m\u001B[0m\u001B[0m\n\u001B[0;32m----> 5\u001B[0;31m \u001B[0mplt\u001B[0m\u001B[0;34m.\u001B[0m\u001B[0mscatter\u001B[0m\u001B[0;34m(\u001B[0m\u001B[0mavg_state_rmsds\u001B[0m\u001B[0;34m[\u001B[0m\u001B[0mcluster_sort_order\u001B[0m\u001B[0;34m]\u001B[0m\u001B[0;34m,\u001B[0m \u001B[0mcommittors\u001B[0m\u001B[0;34m[\u001B[0m\u001B[0mcommittor_sort\u001B[0m\u001B[0;34m]\u001B[0m\u001B[0;34m)\u001B[0m\u001B[0;34m\u001B[0m\u001B[0;34m\u001B[0m\u001B[0m\n\u001B[0m\u001B[1;32m      6\u001B[0m \u001B[0;34m\u001B[0m\u001B[0m\n\u001B[1;32m      7\u001B[0m \u001B[0mplt\u001B[0m\u001B[0;34m.\u001B[0m\u001B[0mylabel\u001B[0m\u001B[0;34m(\u001B[0m\u001B[0;34m'Committor to unfolded'\u001B[0m\u001B[0;34m)\u001B[0m\u001B[0;34m\u001B[0m\u001B[0;34m\u001B[0m\u001B[0m\n",
      "\u001B[0;31mNameError\u001B[0m: name 'avg_state_rmsds' is not defined"
     ]
    }
   ],
   "source": [
    "committors = msm.committor_forward(folded, unfolded)\n",
    "\n",
    "committor_sort = np.argsort(committors)\n",
    "\n",
    "plt.scatter(avg_state_rmsds[cluster_sort_order], committors[committor_sort])\n",
    "\n",
    "plt.ylabel('Committor to unfolded')\n",
    "plt.xlabel('RMSD')"
   ]
  },
  {
   "cell_type": "markdown",
   "metadata": {
    "pycharm": {
     "name": "#%% md\n"
    }
   },
   "source": [
    "### Save the model"
   ]
  },
  {
   "cell_type": "code",
   "execution_count": 48,
   "metadata": {
    "collapsed": false,
    "execution": {
     "iopub.execute_input": "2022-04-01T23:15:49.415174Z",
     "iopub.status.busy": "2022-04-01T23:15:49.414794Z",
     "iopub.status.idle": "2022-04-01T23:15:49.479321Z",
     "shell.execute_reply": "2022-04-01T23:15:49.478048Z",
     "shell.execute_reply.started": "2022-04-01T23:15:49.415136Z"
    },
    "jupyter": {
     "outputs_hidden": false
    },
    "pycharm": {
     "name": "#%%\n"
    },
    "tags": []
   },
   "outputs": [],
   "source": [
    "mfpt_folding = msm.mfpt(unfolded.flatten(), folded.flatten())"
   ]
  },
  {
   "cell_type": "code",
   "execution_count": 49,
   "metadata": {
    "collapsed": false,
    "execution": {
     "iopub.execute_input": "2022-04-01T23:15:49.481717Z",
     "iopub.status.busy": "2022-04-01T23:15:49.481433Z",
     "iopub.status.idle": "2022-04-01T23:15:49.538894Z",
     "shell.execute_reply": "2022-04-01T23:15:49.536703Z",
     "shell.execute_reply.started": "2022-04-01T23:15:49.481685Z"
    },
    "jupyter": {
     "outputs_hidden": false
    },
    "pycharm": {
     "name": "#%%\n"
    },
    "tags": []
   },
   "outputs": [],
   "source": [
    "mfpt_unfolding = msm.mfpt(folded.flatten(), unfolded.flatten())"
   ]
  },
  {
   "cell_type": "code",
   "execution_count": 50,
   "metadata": {
    "execution": {
     "iopub.execute_input": "2022-04-01T23:15:49.556961Z",
     "iopub.status.busy": "2022-04-01T23:15:49.554878Z",
     "iopub.status.idle": "2022-04-01T23:15:49.568240Z",
     "shell.execute_reply": "2022-04-01T23:15:49.564788Z",
     "shell.execute_reply.started": "2022-04-01T23:15:49.556531Z"
    },
    "tags": []
   },
   "outputs": [
    {
     "data": {
      "text/plain": "(49708.51322963692, 10743.864949881474)"
     },
     "execution_count": 50,
     "metadata": {},
     "output_type": "execute_result"
    }
   ],
   "source": [
    "mfpt_folding, mfpt_unfolding # Folding time, in units of the input trajectory"
   ]
  },
  {
   "cell_type": "code",
   "execution_count": 47,
   "metadata": {
    "execution": {
     "iopub.execute_input": "2022-04-01T23:15:49.571403Z",
     "iopub.status.busy": "2022-04-01T23:15:49.569994Z",
     "iopub.status.idle": "2022-04-01T23:15:49.582530Z",
     "shell.execute_reply": "2022-04-01T23:15:49.580507Z",
     "shell.execute_reply.started": "2022-04-01T23:15:49.571366Z"
    },
    "tags": []
   },
   "outputs": [
    {
     "data": {
      "text/plain": [
       "200"
      ]
     },
     "execution_count": 47,
     "metadata": {},
     "output_type": "execute_result"
    }
   ],
   "source": [
    "universe.trajectory.dt"
   ]
  },
  {
   "cell_type": "code",
   "execution_count": 51,
   "metadata": {
    "execution": {
     "iopub.execute_input": "2022-04-01T23:20:41.742558Z",
     "iopub.status.busy": "2022-04-01T23:20:41.741552Z",
     "iopub.status.idle": "2022-04-01T23:20:41.759903Z",
     "shell.execute_reply": "2022-04-01T23:20:41.753626Z",
     "shell.execute_reply.started": "2022-04-01T23:20:41.742459Z"
    },
    "tags": []
   },
   "outputs": [
    {
     "data": {
      "text/plain": [
       "200"
      ]
     },
     "execution_count": 51,
     "metadata": {},
     "output_type": "execute_result"
    }
   ],
   "source": [
    "universe.trajectory.dt"
   ]
  },
  {
   "cell_type": "code",
   "execution_count": 51,
   "metadata": {
    "collapsed": false,
    "execution": {
     "iopub.execute_input": "2022-04-01T23:15:49.585296Z",
     "iopub.status.busy": "2022-04-01T23:15:49.584538Z",
     "iopub.status.idle": "2022-04-01T23:15:49.594356Z",
     "shell.execute_reply": "2022-04-01T23:15:49.592125Z",
     "shell.execute_reply.started": "2022-04-01T23:15:49.585260Z"
    },
    "jupyter": {
     "outputs_hidden": false
    },
    "pycharm": {
     "name": "#%%\n"
    },
    "tags": []
   },
   "outputs": [
    {
     "name": "stdout",
     "output_type": "stream",
     "text": [
      "Folding time: 9941.70 ns\n",
      "Folding steps: 49709 steps\n",
      "\n",
      "Unfolding time: 2148.77 ns\n",
      "Unfolding steps: 10744 steps\n"
     ]
    }
   ],
   "source": [
    "mfpt_folding, mfpt_unfolding\n",
    "\n",
    "print(f\"Folding time: {mfpt_folding * universe.trajectory.dt * stride / 1000:.2f} ns\")\n",
    "print(f\"Folding steps: {mfpt_folding :.0f} steps\\n\")\n",
    "\n",
    "print(f\"Unfolding time: {mfpt_unfolding * universe.trajectory.dt * stride  / 1000:.2f} ns\")\n",
    "print(f\"Unfolding steps: {mfpt_unfolding :.0f} steps\")\n",
    "# ~500 steps @ 200ps/step = 0.1µs\n",
    "# These MFPTs seem super high?"
   ]
  },
  {
   "cell_type": "code",
   "execution_count": 8,
   "metadata": {
    "execution": {
     "iopub.execute_input": "2022-04-05T23:29:51.794568Z",
     "iopub.status.busy": "2022-04-05T23:29:51.794318Z",
     "iopub.status.idle": "2022-04-05T23:29:51.809721Z",
     "shell.execute_reply": "2022-04-05T23:29:51.808726Z",
     "shell.execute_reply.started": "2022-04-05T23:29:51.794543Z"
    }
   },
   "outputs": [
    {
     "ename": "NameError",
     "evalue": "name 'discrete_trajectory' is not defined",
     "output_type": "error",
     "traceback": [
      "\u001B[0;31m---------------------------------------------------------------------------\u001B[0m",
      "\u001B[0;31mNameError\u001B[0m                                 Traceback (most recent call last)",
      "Input \u001B[0;32mIn [8]\u001B[0m, in \u001B[0;36m<module>\u001B[0;34m\u001B[0m\n\u001B[0;32m----> 1\u001B[0m \u001B[38;5;28mlen\u001B[39m(\u001B[43mdiscrete_trajectory\u001B[49m)\n",
      "\u001B[0;31mNameError\u001B[0m: name 'discrete_trajectory' is not defined"
     ]
    }
   ],
   "source": [
    "len(discrete_trajectory)"
   ]
  },
  {
   "cell_type": "code",
   "execution_count": 52,
   "metadata": {
    "collapsed": false,
    "execution": {
     "iopub.execute_input": "2022-04-05T23:29:15.526667Z",
     "iopub.status.busy": "2022-04-05T23:29:15.526074Z",
     "iopub.status.idle": "2022-04-05T23:29:15.533492Z",
     "shell.execute_reply": "2022-04-05T23:29:15.532480Z",
     "shell.execute_reply.started": "2022-04-05T23:29:15.526622Z"
    },
    "jupyter": {
     "outputs_hidden": false
    },
    "pycharm": {
     "name": "#%%\n"
    },
    "tags": []
   },
   "outputs": [
    {
     "name": "stdout",
     "output_type": "stream",
     "text": [
      "Folding time: 6.37 ns\n",
      "Folding steps: 63659 steps\n",
      "\n",
      "Unfolding time: 1.37 ns\n",
      "Unfolding steps: 13695 steps\n"
     ]
    }
   ],
   "source": [
    "# mfpt_folding, mfpt_unfolding\n",
    "\n",
    "print(f\"Folding time: {63659 / (.200 * 50) / 1000:.2f} ns\")\n",
    "print(f\"Folding steps: {63659 :.0f} steps\\n\")\n",
    "\n",
    "print(f\"Unfolding time: {13695 / (.200 * 50) / 1000:.2f} ns\")\n",
    "print(f\"Unfolding steps: {13695 :.0f} steps\")\n",
    "# ~500 steps @ 200ps/step = 0.1µs\n",
    "# These MFPTs seem super high?"
   ]
  },
  {
   "cell_type": "code",
   "execution_count": 65,
   "metadata": {
    "collapsed": false,
    "execution": {
     "iopub.execute_input": "2022-03-12T06:00:40.384613Z",
     "iopub.status.busy": "2022-03-12T06:00:40.383891Z",
     "iopub.status.idle": "2022-03-12T06:00:40.390914Z",
     "shell.execute_reply": "2022-03-12T06:00:40.389725Z",
     "shell.execute_reply.started": "2022-03-12T06:00:40.384543Z"
    },
    "jupyter": {
     "outputs_hidden": false
    },
    "pycharm": {
     "name": "#%%\n"
    },
    "tags": []
   },
   "outputs": [
    {
     "data": {
      "text/plain": [
       "10.4"
      ]
     },
     "execution_count": 65,
     "metadata": {},
     "output_type": "execute_result"
    }
   ],
   "source": [
    "208/20 # Ballpark µs/transition"
   ]
  },
  {
   "cell_type": "code",
   "execution_count": 53,
   "metadata": {
    "execution": {
     "iopub.execute_input": "2022-04-01T23:15:49.600981Z",
     "iopub.status.busy": "2022-04-01T23:15:49.598072Z",
     "iopub.status.idle": "2022-04-01T23:15:49.705889Z",
     "shell.execute_reply": "2022-04-01T23:15:49.703649Z",
     "shell.execute_reply.started": "2022-04-01T23:15:49.600935Z"
    },
    "pycharm": {
     "name": "#%%\n"
    },
    "tags": []
   },
   "outputs": [
    {
     "name": "stdout",
     "output_type": "stream",
     "text": [
      "Saved as strict_strat_tic_cluster_lag-1ns_transition_matrix_ernesto_symm\n"
     ]
    }
   ],
   "source": [
    "np.savez(f'{dataset_label}_transition_matrix_ernesto_symm', transition_matrix=msm.transition_matrix,\n",
    "         states_unfolded = unfolded,\n",
    "         states_folded = folded,\n",
    "         cluster_centers = combined_kmeans_centers,\n",
    "         mfpt_folding = mfpt_folding,\n",
    "         mfpt_unfolding = mfpt_unfolding,\n",
    "         msm=msm,\n",
    "         discrete_trajectory=discrete_trajectory\n",
    "         )\n",
    "\n",
    "print(f\"Saved as {dataset_label}_transition_matrix_ernesto_symm\")"
   ]
  },
  {
   "cell_type": "markdown",
   "metadata": {
    "jupyter": {
     "outputs_hidden": false
    },
    "pycharm": {
     "name": "#%%\n"
    }
   },
   "source": [
    "# Coarse-graining\n",
    "\n",
    "I want to come up with a physically meaningful coarse-graining scheme here. That could look something like:\n",
    "- Binning along RMSD\n",
    "- Something hierarchical\n",
    "\n",
    "I think for now binning along RMSD is probably an easy way to do it.\n",
    "\n",
    "Committor is probably meaningful too, but it would require knowing the committors, which is the point of building the model. I.e., it wouldn't translate well to analyzing simulated data, it's cheating."
   ]
  },
  {
   "cell_type": "markdown",
   "metadata": {},
   "source": [
    "## Coarse-graining in RMSD\n",
    "\n",
    "The idea here is that I can identify a set of coarse states by clustering on the RMSDs of the fine states.\n",
    "\n",
    "To do this, I need to:\n",
    "1. Get structures associated with each tIC cluster\n",
    "2. Get average RMSD of those structures, to assign each fine cluster an RMSD value\n",
    "3. Group those by clustering on them"
   ]
  },
  {
   "cell_type": "code",
   "execution_count": 454,
   "metadata": {
    "execution": {
     "iopub.execute_input": "2022-02-25T00:30:32.161663Z",
     "iopub.status.busy": "2022-02-25T00:30:32.161310Z",
     "iopub.status.idle": "2022-02-25T00:30:32.171354Z",
     "shell.execute_reply": "2022-02-25T00:30:32.170283Z",
     "shell.execute_reply.started": "2022-02-25T00:30:32.161627Z"
    },
    "tags": []
   },
   "outputs": [
    {
     "data": {
      "text/plain": [
       "((1044000,), (1044000,))"
      ]
     },
     "execution_count": 454,
     "metadata": {},
     "output_type": "execute_result"
    }
   ],
   "source": [
    "rmsd[::rmsd_stride].shape, discrete_trajectory.shape"
   ]
  },
  {
   "cell_type": "markdown",
   "metadata": {},
   "source": [
    "### Compute average fine-state RMSDs"
   ]
  },
  {
   "cell_type": "code",
   "execution_count": 461,
   "metadata": {
    "execution": {
     "iopub.execute_input": "2022-02-25T00:31:22.304289Z",
     "iopub.status.busy": "2022-02-25T00:31:22.304048Z",
     "iopub.status.idle": "2022-02-25T00:31:23.062456Z",
     "shell.execute_reply": "2022-02-25T00:31:23.061969Z",
     "shell.execute_reply.started": "2022-02-25T00:31:22.304266Z"
    },
    "tags": []
   },
   "outputs": [],
   "source": [
    "n_states = msm.transition_matrix.shape[0]\n",
    "\n",
    "avg_state_rmsds = np.full(shape=n_states, fill_value=np.nan)\n",
    "\n",
    "for state in range(n_states):\n",
    "    \n",
    "    idxs_in_state = np.argwhere(discrete_trajectory == state).flatten()\n",
    "    \n",
    "    rmsds = rmsd[::rmsd_stride][idxs_in_state]\n",
    "    \n",
    "    avg_state_rmsds[state] = np.mean(rmsds)\n",
    "    \n",
    "rmsd_sort_order = np.argsort(avg_state_rmsds).flatten()"
   ]
  },
  {
   "cell_type": "markdown",
   "metadata": {},
   "source": [
    "Kinda janky, but let's see if I can just replace avg RMSD with the tIC cluster center and still use the rest of the pipeline\n",
    "\n",
    "**TODO:** rename rmsd places, this is confusing"
   ]
  },
  {
   "cell_type": "code",
   "execution_count": 462,
   "metadata": {
    "execution": {
     "iopub.execute_input": "2022-02-25T00:31:24.124363Z",
     "iopub.status.busy": "2022-02-25T00:31:24.124055Z",
     "iopub.status.idle": "2022-02-25T00:31:24.130856Z",
     "shell.execute_reply": "2022-02-25T00:31:24.129030Z",
     "shell.execute_reply.started": "2022-02-25T00:31:24.124341Z"
    },
    "tags": []
   },
   "outputs": [],
   "source": [
    "n_states = msm.transition_matrix.shape[0]\n",
    "avg_state_rmsds = combined_kmeans_centers[:,tic_rmsd]\n",
    "rmsd_sort_order = np.argsort(avg_state_rmsds).flatten()"
   ]
  },
  {
   "cell_type": "code",
   "execution_count": 463,
   "metadata": {
    "execution": {
     "iopub.execute_input": "2022-02-25T00:31:24.394782Z",
     "iopub.status.busy": "2022-02-25T00:31:24.394479Z",
     "iopub.status.idle": "2022-02-25T00:31:25.923256Z",
     "shell.execute_reply": "2022-02-25T00:31:25.922515Z",
     "shell.execute_reply.started": "2022-02-25T00:31:24.394749Z"
    },
    "tags": []
   },
   "outputs": [
    {
     "data": {
      "text/plain": [
       "Text(0.5, 0, 'Average fine-state coordinate')"
      ]
     },
     "execution_count": 463,
     "metadata": {},
     "output_type": "execute_result"
    },
    {
     "data": {
      "image/png": "[encoded data removed]",
      "text/plain": [
       "<Figure size 432x288 with 1 Axes>"
      ]
     },
     "metadata": {},
     "output_type": "display_data"
    }
   ],
   "source": [
    "plt.hist(avg_state_rmsds, bins=20)\n",
    "plt.xlabel('Average fine-state coordinate')"
   ]
  },
  {
   "cell_type": "code",
   "execution_count": 464,
   "metadata": {
    "execution": {
     "iopub.execute_input": "2022-02-25T00:31:25.926004Z",
     "iopub.status.busy": "2022-02-25T00:31:25.925591Z",
     "iopub.status.idle": "2022-02-25T00:31:26.147368Z",
     "shell.execute_reply": "2022-02-25T00:31:26.142923Z",
     "shell.execute_reply.started": "2022-02-25T00:31:25.925976Z"
    },
    "tags": []
   },
   "outputs": [
    {
     "data": {
      "text/plain": [
       "Text(0.5, 0, 'RMSD from folded structure')"
      ]
     },
     "execution_count": 464,
     "metadata": {},
     "output_type": "execute_result"
    },
    {
     "data": {
      "image/png": "[encoded data removed]",
      "text/plain": [
       "<Figure size 432x288 with 1 Axes>"
      ]
     },
     "metadata": {},
     "output_type": "display_data"
    }
   ],
   "source": [
    "plt.plot(avg_state_rmsds, msm.committor_forward(folded, unfolded), '.')\n",
    "\n",
    "plt.ylabel('Committor to unfolded')\n",
    "plt.xlabel('RMSD from folded structure')"
   ]
  },
  {
   "cell_type": "code",
   "execution_count": 465,
   "metadata": {
    "collapsed": false,
    "execution": {
     "iopub.execute_input": "2022-02-25T00:31:26.150571Z",
     "iopub.status.busy": "2022-02-25T00:31:26.150144Z",
     "iopub.status.idle": "2022-02-25T00:31:26.316851Z",
     "shell.execute_reply": "2022-02-25T00:31:26.316012Z",
     "shell.execute_reply.started": "2022-02-25T00:31:26.150533Z"
    },
    "jupyter": {
     "outputs_hidden": false
    },
    "pycharm": {
     "name": "#%%\n"
    },
    "tags": []
   },
   "outputs": [
    {
     "data": {
      "text/plain": [
       "Text(0, 0.5, '-$\\\\ln( P^{equil} )$')"
      ]
     },
     "execution_count": 465,
     "metadata": {},
     "output_type": "execute_result"
    },
    {
     "data": {
      "image/png": "[encoded data removed]",
      "text/plain": [
       "<Figure size 432x288 with 1 Axes>"
      ]
     },
     "metadata": {},
     "output_type": "display_data"
    }
   ],
   "source": [
    "potential = -np.log(msm.stationary_distribution)\n",
    "\n",
    "plt.plot(\n",
    "    avg_state_rmsds[rmsd_sort_order],\n",
    "    potential[rmsd_sort_order], '.')\n",
    "\n",
    "# plt.axvline(folded_thresh)\n",
    "# plt.axvline(unfolded_thresh)\n",
    "\n",
    "plt.xlabel('RMSD')\n",
    "plt.ylabel('-$\\\\ln( P^{equil} )$')"
   ]
  },
  {
   "cell_type": "markdown",
   "metadata": {},
   "source": [
    "#### Failed attempt at heatmap"
   ]
  },
  {
   "cell_type": "code",
   "execution_count": 466,
   "metadata": {
    "execution": {
     "iopub.execute_input": "2022-02-25T00:31:27.672118Z",
     "iopub.status.busy": "2022-02-25T00:31:27.671901Z",
     "iopub.status.idle": "2022-02-25T00:31:27.681060Z",
     "shell.execute_reply": "2022-02-25T00:31:27.679793Z",
     "shell.execute_reply.started": "2022-02-25T00:31:27.672100Z"
    },
    "scrolled": true,
    "tags": []
   },
   "outputs": [
    {
     "data": {
      "text/plain": [
       "array([6.70501296e-06, 3.83143597e-06, 1.91571799e-06, ...,\n",
       "       1.43678849e-05, 4.78929497e-06, 6.70501296e-05])"
      ]
     },
     "execution_count": 466,
     "metadata": {},
     "output_type": "execute_result"
    }
   ],
   "source": [
    "msm.stationary_distribution\n",
    "\n",
    "# Each state has a value in the stationary distribution, and a tIC 1 and tIC 2 value\n",
    "# So for each cluster, x/y are the tIC 1 / tIC 2, and z = stationary"
   ]
  },
  {
   "cell_type": "code",
   "execution_count": 467,
   "metadata": {
    "execution": {
     "iopub.execute_input": "2022-02-25T00:31:28.084397Z",
     "iopub.status.busy": "2022-02-25T00:31:28.084057Z",
     "iopub.status.idle": "2022-02-25T00:31:28.089917Z",
     "shell.execute_reply": "2022-02-25T00:31:28.089096Z",
     "shell.execute_reply.started": "2022-02-25T00:31:28.084341Z"
    },
    "tags": []
   },
   "outputs": [
    {
     "data": {
      "text/plain": [
       "(3, 1020)"
      ]
     },
     "execution_count": 467,
     "metadata": {},
     "output_type": "execute_result"
    }
   ],
   "source": [
    "potential_data = np.vstack([\n",
    "    msm.stationary_distribution,\n",
    "    combined_kmeans_centers[:,0],\n",
    "    combined_kmeans_centers[:,1],\n",
    "])\n",
    "potential_data.shape"
   ]
  },
  {
   "cell_type": "markdown",
   "metadata": {},
   "source": [
    "### Cluster on fine-state RMSDs"
   ]
  },
  {
   "cell_type": "markdown",
   "metadata": {},
   "source": [
    "#### Intermediates\n",
    "\n",
    "For the intermediates, cluster into coarse-clusters on their average RMSDs.\n",
    "\n",
    "We will manually assign the folded/unfolded states into their own coarse states."
   ]
  },
  {
   "cell_type": "code",
   "execution_count": 468,
   "metadata": {
    "execution": {
     "iopub.execute_input": "2022-02-25T00:31:30.634740Z",
     "iopub.status.busy": "2022-02-25T00:31:30.634482Z",
     "iopub.status.idle": "2022-02-25T00:31:30.645186Z",
     "shell.execute_reply": "2022-02-25T00:31:30.643265Z",
     "shell.execute_reply.started": "2022-02-25T00:31:30.634717Z"
    },
    "tags": []
   },
   "outputs": [],
   "source": [
    "n_coarse_clusters = 20\n",
    "\n",
    "coarse_kmeans_estimator = KMeans(\n",
    "    n_clusters=n_coarse_clusters,\n",
    "    # init_strategy='uniform',\n",
    "    max_iter=1000,\n",
    "    fixed_seed=1337,\n",
    "    n_jobs=4,\n",
    "    progress=tqdm.tqdm\n",
    ")"
   ]
  },
  {
   "cell_type": "code",
   "execution_count": 469,
   "metadata": {
    "execution": {
     "iopub.execute_input": "2022-02-25T00:31:30.991306Z",
     "iopub.status.busy": "2022-02-25T00:31:30.991082Z",
     "iopub.status.idle": "2022-02-25T00:31:31.086955Z",
     "shell.execute_reply": "2022-02-25T00:31:31.086140Z",
     "shell.execute_reply.started": "2022-02-25T00:31:30.991286Z"
    },
    "tags": []
   },
   "outputs": [
    {
     "data": {
      "application/vnd.jupyter.widget-view+json": {
       "model_id": "fbd9ba5e1e5041eab5a716d4348c3bd9",
       "version_major": 2,
       "version_minor": 0
      },
      "text/plain": [
       "  0%|          | 0/20 [00:00<?, ?it/s]"
      ]
     },
     "metadata": {},
     "output_type": "display_data"
    },
    {
     "data": {
      "application/vnd.jupyter.widget-view+json": {
       "model_id": "3afd1a6ec7404f978a46589a02a88efd",
       "version_major": 2,
       "version_minor": 0
      },
      "text/plain": [
       "  0%|          | 0/1000 [00:00<?, ?it/s]"
      ]
     },
     "metadata": {},
     "output_type": "display_data"
    }
   ],
   "source": [
    "# This builds a model which maps an RMSD to a cluster\n",
    "\n",
    "coarse_clustering = coarse_kmeans_estimator.fit_fetch(avg_state_rmsds[intermediate])"
   ]
  },
  {
   "cell_type": "code",
   "execution_count": 470,
   "metadata": {
    "execution": {
     "iopub.execute_input": "2022-02-25T00:31:32.108044Z",
     "iopub.status.busy": "2022-02-25T00:31:32.107807Z",
     "iopub.status.idle": "2022-02-25T00:31:32.119058Z",
     "shell.execute_reply": "2022-02-25T00:31:32.116726Z",
     "shell.execute_reply.started": "2022-02-25T00:31:32.108023Z"
    },
    "tags": []
   },
   "outputs": [
    {
     "data": {
      "text/plain": [
       "array([ 3,  3,  3,  3,  3,  3,  3,  3,  3,  3,  3,  3,  3,  3,  3,  3,  3,\n",
       "        3,  3,  3,  3,  3,  3,  3,  3,  3,  3,  3,  3,  3,  3,  3,  3,  3,\n",
       "        3,  3,  3,  3,  3,  3, 11, 11, 11, 11, 11, 11, 11, 11, 11, 11, 11,\n",
       "       11, 11, 11, 11, 11, 11, 11, 11, 11,  7,  7,  7,  7,  7,  7,  7,  7,\n",
       "        7,  7,  7,  7,  7,  7,  7,  7,  7,  7,  7,  7,  7,  7,  7,  7,  7,\n",
       "        7,  7,  7,  7,  7,  7,  7,  7,  7,  7,  7,  7,  7,  7,  7, 14, 14,\n",
       "       14, 14, 14, 14, 14, 14, 14, 14, 14, 14, 14, 14, 14, 14, 14, 14, 14,\n",
       "       14, 19, 19, 19, 19, 19, 19, 19, 19, 19, 19, 19, 19, 19, 19, 19, 19,\n",
       "       19, 19, 19, 19,  0,  0,  0,  0,  0,  0,  0,  0,  0,  0,  0,  0,  0,\n",
       "        0,  0,  0,  0,  0,  0,  0, 10, 10, 10, 10, 10, 10, 10, 10, 10, 10,\n",
       "       10, 10, 10, 10, 10, 10, 10, 10, 10, 10, 10, 10, 10, 10, 10, 10, 10,\n",
       "       10, 10, 10, 10, 10, 10, 10, 10, 10, 10, 10, 10, 10, 18, 18, 18, 18,\n",
       "       18, 18, 18, 18, 18, 18, 18, 18, 18, 18, 18, 18, 18, 18, 18, 18,  6,\n",
       "        6,  6,  6,  6,  6,  6,  6,  6,  6,  6,  6,  6,  6,  6,  6,  6,  6,\n",
       "        6,  6,  6,  6,  6,  6,  6,  6,  6,  6,  6,  6,  6,  6,  6,  6,  6,\n",
       "        6,  6,  6,  6,  6, 12, 12, 12, 12, 12, 12, 12, 12, 12, 12, 12, 12,\n",
       "       12, 12, 12, 12, 12, 12, 12, 12, 12, 12, 12, 12, 12, 12, 12, 12, 12,\n",
       "       12, 12, 12, 12, 12, 12, 12, 12, 12, 12, 12,  2,  2,  2,  2,  2,  2,\n",
       "        2,  2,  2,  2,  2,  2,  2,  2,  2,  2,  2,  2,  2,  2, 13, 13, 13,\n",
       "       13, 13, 13, 13, 13, 13, 13, 13, 13, 13, 13, 13, 13, 13, 13, 13, 13,\n",
       "       13, 13, 13, 13, 13, 13, 13, 13, 13, 13, 13, 13, 13, 13, 13, 13, 13,\n",
       "       13, 13, 13,  5,  5,  5,  5,  5,  5,  5,  5,  5,  5,  5,  5,  5,  5,\n",
       "        5,  5,  5,  5,  5,  5,  5,  5,  5,  5,  5,  5,  5,  5,  5,  5,  5,\n",
       "        5,  5,  5,  5,  5,  5,  5,  5,  5,  9,  9,  9,  9,  9,  9,  9,  9,\n",
       "        9,  9,  9,  9,  9,  9,  9,  9,  9,  9,  9,  9,  9,  9,  9,  9,  9,\n",
       "        9,  9,  9,  9,  9,  9,  9,  9,  9,  9,  9,  9,  9,  9,  9,  1,  1,\n",
       "        1,  1,  1,  1,  1,  1,  1,  1,  1,  1,  1,  1,  1,  1,  1,  1,  1,\n",
       "        1,  1,  1,  1,  1,  1,  1,  1,  1,  1,  1,  1,  1,  1,  1,  1,  1,\n",
       "        1,  1,  1,  1, 16, 16, 16, 16, 16, 16, 16, 16, 16, 16, 16, 16, 16,\n",
       "       16, 16, 16, 16, 16, 16, 16, 16, 16, 16, 16, 16, 16, 16, 16, 16, 16,\n",
       "       16, 16, 16, 16, 16, 16, 16, 16, 16, 16,  8,  8,  8,  8,  8,  8,  8,\n",
       "        8,  8,  8,  8,  8,  8,  8,  8,  8,  8,  8,  8,  8, 17, 17, 17, 17,\n",
       "       17, 17, 17, 17, 17, 17, 17, 17, 17, 17, 17, 17, 17, 17, 17, 17, 17,\n",
       "       17, 17, 17, 17, 17, 17, 17, 17, 17, 17, 17, 17, 17, 17, 17, 17, 17,\n",
       "       17, 17,  4,  4,  4,  4,  4,  4,  4,  4,  4,  4,  4,  4,  4,  4,  4,\n",
       "        4,  4,  4,  4,  4, 15, 15, 15, 15, 15, 15, 15, 15, 15, 15, 15, 15,\n",
       "       15, 15, 15, 15, 15, 15, 15, 15, 15], dtype=int32)"
      ]
     },
     "execution_count": 470,
     "metadata": {},
     "output_type": "execute_result"
    }
   ],
   "source": [
    "# Now we assign clusters to all the state RMSDs\n",
    "\n",
    "coarse_assignments = coarse_clustering.transform(avg_state_rmsds[intermediate])\n",
    "coarse_assignments"
   ]
  },
  {
   "cell_type": "markdown",
   "metadata": {},
   "source": [
    "#### Folded, unfolded"
   ]
  },
  {
   "cell_type": "code",
   "execution_count": 471,
   "metadata": {
    "execution": {
     "iopub.execute_input": "2022-02-25T00:31:38.297871Z",
     "iopub.status.busy": "2022-02-25T00:31:38.297603Z",
     "iopub.status.idle": "2022-02-25T00:31:38.428142Z",
     "shell.execute_reply": "2022-02-25T00:31:38.426456Z",
     "shell.execute_reply.started": "2022-02-25T00:31:38.297842Z"
    },
    "tags": []
   },
   "outputs": [
    {
     "data": {
      "application/vnd.jupyter.widget-view+json": {
       "model_id": "0ba094ace3024d979cbb78717f62ce4b",
       "version_major": 2,
       "version_minor": 0
      },
      "text/plain": [
       "  0%|          | 0/5 [00:00<?, ?it/s]"
      ]
     },
     "metadata": {},
     "output_type": "display_data"
    },
    {
     "data": {
      "application/vnd.jupyter.widget-view+json": {
       "model_id": "aefba05da78a402aae933ff7017a8f36",
       "version_major": 2,
       "version_minor": 0
      },
      "text/plain": [
       "  0%|          | 0/1000 [00:00<?, ?it/s]"
      ]
     },
     "metadata": {},
     "output_type": "display_data"
    },
    {
     "data": {
      "application/vnd.jupyter.widget-view+json": {
       "model_id": "671a2082d8904c3596c689c2f030373e",
       "version_major": 2,
       "version_minor": 0
      },
      "text/plain": [
       "  0%|          | 0/5 [00:00<?, ?it/s]"
      ]
     },
     "metadata": {},
     "output_type": "display_data"
    },
    {
     "data": {
      "application/vnd.jupyter.widget-view+json": {
       "model_id": "0374d1921b664afea12321eaa6560288",
       "version_major": 2,
       "version_minor": 0
      },
      "text/plain": [
       "  0%|          | 0/1000 [00:00<?, ?it/s]"
      ]
     },
     "metadata": {},
     "output_type": "display_data"
    },
    {
     "name": "stdout",
     "output_type": "stream",
     "text": [
      "{'folded': array([1, 1, 1, 1, 1, 1, 1, 1, 1, 1, 1, 1, 1, 1, 1, 1, 1, 1, 1, 1, 1, 1,\n",
      "       1, 1, 1, 1, 1, 1, 1, 1, 1, 1, 1, 1, 1, 1, 1, 1, 1, 1, 4, 4, 4, 4,\n",
      "       4, 4, 4, 4, 4, 4, 4, 4, 4, 4, 4, 4, 4, 4, 4, 4, 4, 4, 4, 4, 4, 4,\n",
      "       4, 4, 4, 4, 4, 4, 4, 4, 4, 4, 4, 4, 4, 4, 2, 2, 2, 2, 2, 2, 2, 2,\n",
      "       2, 2, 2, 2, 2, 2, 2, 2, 2, 2, 2, 2, 3, 3, 3, 3, 3, 3, 3, 3, 3, 3,\n",
      "       3, 3, 3, 3, 3, 3, 3, 3, 3, 3, 3, 3, 3, 3, 3, 3, 3, 3, 3, 3, 3, 3,\n",
      "       3, 3, 3, 3, 3, 3, 3, 3, 0, 0, 0, 0, 0, 0, 0, 0, 0, 0, 0, 0, 0, 0,\n",
      "       0, 0, 0, 0, 0, 0], dtype=int32), 'unfolded': array([1, 1, 1, 1, 1, 1, 1, 1, 1, 1, 1, 1, 1, 1, 1, 1, 1, 1, 1, 1, 1, 1,\n",
      "       1, 1, 1, 1, 1, 1, 1, 1, 1, 1, 1, 1, 1, 1, 1, 1, 1, 1, 1, 1, 1, 1,\n",
      "       1, 1, 1, 1, 1, 1, 1, 1, 1, 1, 1, 1, 1, 1, 1, 3, 3, 3, 3, 3, 3, 3,\n",
      "       3, 3, 3, 3, 3, 3, 3, 3, 3, 3, 3, 3, 3, 3, 3, 3, 3, 3, 3, 3, 3, 3,\n",
      "       3, 3, 3, 3, 3, 3, 3, 3, 3, 3, 3, 4, 4, 4, 4, 4, 4, 4, 4, 4, 4, 4,\n",
      "       4, 4, 4, 4, 4, 4, 4, 4, 4, 4, 4, 4, 4, 4, 4, 4, 4, 4, 4, 4, 4, 4,\n",
      "       4, 4, 4, 4, 4, 4, 4, 0, 0, 0, 0, 0, 0, 0, 0, 0, 0, 0, 0, 0, 0, 0,\n",
      "       0, 0, 0, 0, 0, 0, 0, 0, 0, 0, 0, 0, 0, 0, 0, 0, 0, 0, 0, 0, 0, 0,\n",
      "       0, 0, 0, 2, 2, 2, 2, 2, 2, 2, 2, 2, 2, 2, 2, 2, 2, 2, 2, 2, 2, 2,\n",
      "       2, 2, 2, 2, 2, 2, 2, 2, 2, 2, 2, 2, 2, 2, 2, 2, 2, 2, 2, 2, 2, 2,\n",
      "       2, 2, 2, 2, 2, 2, 2, 2, 2, 2, 2, 2, 2, 2, 2, 2, 2, 2, 2],\n",
      "      dtype=int32)}\n"
     ]
    }
   ],
   "source": [
    "# Number of clusters in the folded/unfolded states (each)\n",
    "n_coarse_target_clusters = 5\n",
    "\n",
    "coarse_macrostate_assignments = {}\n",
    "coarse_macrostate_clusters = {}\n",
    "\n",
    "for macrostate, label in zip([folded, unfolded], ['folded', 'unfolded']):\n",
    "    \n",
    "    coarse_target_kmeans_estimator = KMeans(\n",
    "        n_clusters=n_coarse_target_clusters,\n",
    "        # init_strategy='uniform',\n",
    "        max_iter=1000,\n",
    "        fixed_seed=1337,\n",
    "        n_jobs=4,\n",
    "        progress=tqdm.tqdm\n",
    "    )\n",
    "    \n",
    "    coarse_macrostate_clustering = coarse_target_kmeans_estimator.fit_fetch(\n",
    "        avg_state_rmsds[macrostate]\n",
    "    )\n",
    "    coarse_macrostate_clusters[label] = copy.deepcopy(coarse_macrostate_clustering)\n",
    "    \n",
    "    coarse_macrostate_assignments[label] = coarse_target_kmeans_estimator.transform(\n",
    "        avg_state_rmsds[macrostate]\n",
    "    )\n",
    "    \n",
    "print(coarse_macrostate_assignments)"
   ]
  },
  {
   "cell_type": "markdown",
   "metadata": {},
   "source": [
    "It's not necessary to merge these clusters, because I'm not actually re-discretizing or anything based on them.\n",
    "\n",
    "Once I know what coarse cluster a fine cluster maps into, I can just assign it to that."
   ]
  },
  {
   "cell_type": "markdown",
   "metadata": {},
   "source": [
    "### Define coarse mapping"
   ]
  },
  {
   "cell_type": "code",
   "execution_count": 472,
   "metadata": {
    "execution": {
     "iopub.execute_input": "2022-02-25T00:31:41.188180Z",
     "iopub.status.busy": "2022-02-25T00:31:41.187881Z",
     "iopub.status.idle": "2022-02-25T00:31:41.199402Z",
     "shell.execute_reply": "2022-02-25T00:31:41.198449Z",
     "shell.execute_reply.started": "2022-02-25T00:31:41.188155Z"
    },
    "tags": []
   },
   "outputs": [],
   "source": [
    "# This defines a mapping from <intermediate state> -> <coarse state ID>\n",
    "coarse_mapping = {}\n",
    "\n",
    "for i, state in enumerate(intermediate):\n",
    "    \n",
    "    avg_state_rmsd = avg_state_rmsds[state]\n",
    "    coarse_state = coarse_assignments[i]\n",
    "    \n",
    "    # coarse_state = coarse_clustering.transform(np.array(avg_state_rmsd))[0]\n",
    "    \n",
    "    # +1 leaves [0] reserved for state A\n",
    "    coarse_mapping[state] = coarse_state + n_coarse_target_clusters #+ 1\n",
    "    \n",
    "for i, state in enumerate(folded):\n",
    "#     coarse_mapping[state] = 0\n",
    "    avg_state_rmsd = avg_state_rmsds[folded]\n",
    "    coarse_state = coarse_macrostate_assignments['folded'][i]\n",
    "    coarse_mapping[state] = coarse_state\n",
    "    \n",
    "    \n",
    "for i, state in enumerate(unfolded):\n",
    "#     coarse_mapping[state] = n_coarse_clusters+1\n",
    "    avg_state_rmsd = avg_state_rmsds[folded]\n",
    "    coarse_state = coarse_macrostate_assignments['unfolded'][i]\n",
    "    coarse_mapping[state] = n_coarse_target_clusters + n_coarse_clusters + coarse_state"
   ]
  },
  {
   "cell_type": "markdown",
   "metadata": {},
   "source": [
    "#### Visualize the coarsening\n",
    "\n",
    "Plot the avg RMSD of each coarse-state, and the avg RMSD of each fine state, so you can see how the fine states fit into the coarse-states and compare to the actual trajectory.\n",
    "\n",
    "Note that all points above and below the cutoffs get assigned to a single folded or unfolded coarse-state, which is why the fine-states don't appear to span the full range. Clustering is not done for those (because it's not necessary), so they're not included in the list of cluster centers -- in other words, the folded/unfolded states are handled outside of the cluster-coarse-graining procedure."
   ]
  },
  {
   "cell_type": "code",
   "execution_count": 473,
   "metadata": {
    "execution": {
     "iopub.execute_input": "2022-02-25T00:31:44.095298Z",
     "iopub.status.busy": "2022-02-25T00:31:44.094881Z",
     "iopub.status.idle": "2022-02-25T00:31:44.523464Z",
     "shell.execute_reply": "2022-02-25T00:31:44.522780Z",
     "shell.execute_reply.started": "2022-02-25T00:31:44.095269Z"
    },
    "tags": []
   },
   "outputs": [
    {
     "data": {
      "image/png": "[encoded data removed]",
      "text/plain": [
       "<Figure size 864x288 with 2 Axes>"
      ]
     },
     "metadata": {},
     "output_type": "display_data"
    }
   ],
   "source": [
    "fig, ax = plt.subplots(1, 2, gridspec_kw={'width_ratios': [1, 4]}, figsize=(12,4))\n",
    "\n",
    "ax[0].plot(\n",
    "    coarse_clustering.cluster_centers[coarse_assignments], \n",
    "    avg_state_rmsds[intermediate], \n",
    "    '.',\n",
    "    color='tab:red',)\n",
    "\n",
    "ax[0].plot(\n",
    "    coarse_macrostate_clusters['folded'].cluster_centers[\n",
    "        coarse_macrostate_assignments['folded']], \n",
    "    avg_state_rmsds[folded], \n",
    "    '.',\n",
    "    color='tab:blue',)\n",
    "\n",
    "ax[0].plot(\n",
    "    coarse_macrostate_clusters['unfolded'].cluster_centers[\n",
    "        coarse_macrostate_assignments['unfolded']], \n",
    "    avg_state_rmsds[unfolded], \n",
    "    '.',\n",
    "    color='tab:green',)\n",
    "\n",
    "# ax[1].plot(rmsd[::rmsd_stride], color='gray', label='RMSD')\n",
    "ax[1].plot(projection[:, tic_rmsd], color='gray', label=f'tIC {tic_rmsd}')\n",
    "ax[1].set_xlabel('Steps')\n",
    "\n",
    "ax[0].set_ylim(ax[1].get_ylim())\n",
    "\n",
    "ax[0].set_ylabel('Avg rmsd in fine cluster')\n",
    "ax[0].set_xlabel('Coarse cluster rmsd')\n",
    "\n",
    "fig.tight_layout()"
   ]
  },
  {
   "cell_type": "code",
   "execution_count": 474,
   "metadata": {
    "execution": {
     "iopub.execute_input": "2022-02-25T00:31:46.688756Z",
     "iopub.status.busy": "2022-02-25T00:31:46.688295Z",
     "iopub.status.idle": "2022-02-25T00:31:46.701285Z",
     "shell.execute_reply": "2022-02-25T00:31:46.697992Z",
     "shell.execute_reply.started": "2022-02-25T00:31:46.688727Z"
    },
    "tags": []
   },
   "outputs": [],
   "source": [
    "assert msm.reversible, \"MSM not reversible! Need to symmetrize it.\""
   ]
  },
  {
   "cell_type": "markdown",
   "metadata": {},
   "source": [
    "### Make coarse-mapping convenience objects\n",
    "\n",
    "We started with `coarse_mapping`, a dictionary where the keys are all of the fine-states, and the values are the coarse-states that each fine-state belongs to.\n",
    "\n",
    "For convenience, we'll define a couple other things with this same information.\n",
    "\n",
    "`inv_map` is a dictionary mapping each coarse state to a list of the fine states within it\n",
    "\n",
    "`cg_map` is a list of length `n_coarse_states`. The `i`th element is a list of the fine-states in coarse state `i`."
   ]
  },
  {
   "cell_type": "code",
   "execution_count": 475,
   "metadata": {
    "execution": {
     "iopub.execute_input": "2022-02-25T00:31:47.544319Z",
     "iopub.status.busy": "2022-02-25T00:31:47.543862Z",
     "iopub.status.idle": "2022-02-25T00:31:47.550611Z",
     "shell.execute_reply": "2022-02-25T00:31:47.548517Z",
     "shell.execute_reply.started": "2022-02-25T00:31:47.544284Z"
    },
    "tags": []
   },
   "outputs": [],
   "source": [
    "inv_map = {}\n",
    "for k, v in coarse_mapping.items():\n",
    "    inv_map[v] = inv_map.get(v, []) + [k]"
   ]
  },
  {
   "cell_type": "code",
   "execution_count": 476,
   "metadata": {
    "execution": {
     "iopub.execute_input": "2022-02-25T00:31:47.885904Z",
     "iopub.status.busy": "2022-02-25T00:31:47.885494Z",
     "iopub.status.idle": "2022-02-25T00:31:47.890544Z",
     "shell.execute_reply": "2022-02-25T00:31:47.889320Z",
     "shell.execute_reply.started": "2022-02-25T00:31:47.885870Z"
    },
    "tags": []
   },
   "outputs": [],
   "source": [
    "cg_map = [[] for _ in inv_map.keys()]\n",
    "\n",
    "for k, v in inv_map.items():\n",
    "    cg_map[k] = v"
   ]
  },
  {
   "cell_type": "markdown",
   "metadata": {},
   "source": [
    "### Get coarse-grained potential"
   ]
  },
  {
   "cell_type": "code",
   "execution_count": 477,
   "metadata": {
    "execution": {
     "iopub.execute_input": "2022-02-25T00:31:48.511060Z",
     "iopub.status.busy": "2022-02-25T00:31:48.510813Z",
     "iopub.status.idle": "2022-02-25T00:31:48.642496Z",
     "shell.execute_reply": "2022-02-25T00:31:48.641114Z",
     "shell.execute_reply.started": "2022-02-25T00:31:48.511041Z"
    },
    "tags": []
   },
   "outputs": [
    {
     "data": {
      "text/plain": [
       "Text(0, 0.5, '-$\\\\ln( P^{equil} )$')"
      ]
     },
     "execution_count": 477,
     "metadata": {},
     "output_type": "execute_result"
    },
    {
     "data": {
      "image/png": "[encoded data removed]",
      "text/plain": [
       "<Figure size 432x288 with 1 Axes>"
      ]
     },
     "metadata": {},
     "output_type": "display_data"
    }
   ],
   "source": [
    "potential = -np.log(msm.stationary_distribution)\n",
    "\n",
    "coarse_distribution = np.zeros(len(cg_map))\n",
    "for coarse_state, fine_states in enumerate(cg_map):\n",
    "    coarse_distribution[coarse_state] = np.sum(msm.stationary_distribution[fine_states])\n",
    "    \n",
    "assert np.isclose(sum(coarse_distribution), 1.0), \"Coarse distribution not normalized\"\n",
    "coarse_potential = -np.log(coarse_distribution)\n",
    "\n",
    "    \n",
    "# plt.plot(\n",
    "#     avg_state_rmsds[rmsd_sort_order],\n",
    "#     potential[rmsd_sort_order], '.')\n",
    "\n",
    "# plt.plot(\n",
    "#     np.concatenate([coarse_macrostate_clusters['folded'].cluster_centers.flatten(), \n",
    "#                     coarse_clustering.cluster_centers.flatten(), \n",
    "#                     coarse_macrostate_clusters['unfolded'].cluster_centers.flatten()\n",
    "#                    ]),\n",
    "#     coarse_potential, '.')\n",
    "\n",
    "plt.plot(\n",
    "    coarse_macrostate_clusters['folded'].cluster_centers.flatten(),\n",
    "    coarse_potential[range(n_coarse_target_clusters)], \n",
    "    'bo')\n",
    "\n",
    "\n",
    "plt.plot(\n",
    "    coarse_macrostate_clusters['unfolded'].cluster_centers.flatten(),\n",
    "    coarse_potential[range(n_coarse_target_clusters + n_coarse_clusters,\n",
    "                           n_coarse_target_clusters + n_coarse_clusters + \n",
    "                               n_coarse_target_clusters)], \n",
    "    'go')\n",
    "\n",
    "plt.plot(coarse_clustering.cluster_centers.flatten(), \n",
    "        coarse_potential[range(n_coarse_target_clusters, \n",
    "                               n_coarse_target_clusters + n_coarse_clusters)], \n",
    "         'ro')\n",
    "\n",
    "# plt.axvline(folded_thresh)\n",
    "# plt.axvline(unfolded_thresh)\n",
    "\n",
    "plt.xlabel('RMSD')\n",
    "plt.ylabel('-$\\\\ln( P^{equil} )$')"
   ]
  },
  {
   "cell_type": "markdown",
   "metadata": {},
   "source": [
    "## Compute average coarse-state RMSD"
   ]
  },
  {
   "cell_type": "raw",
   "metadata": {
    "execution": {
     "iopub.execute_input": "2022-02-18T23:06:22.658251Z",
     "iopub.status.busy": "2022-02-18T23:06:22.657840Z",
     "iopub.status.idle": "2022-02-18T23:06:22.676398Z",
     "shell.execute_reply": "2022-02-18T23:06:22.674454Z",
     "shell.execute_reply.started": "2022-02-18T23:06:22.658215Z"
    },
    "tags": []
   },
   "source": [
    "avg_folded_rmsd = avg_state_rmsds[cg_map[0]].mean()\n",
    "avg_unfolded_rmsd = avg_state_rmsds[cg_map[-1]].mean()\n",
    "\n",
    "avg_coarse_rmsd = np.concatenate([\n",
    "    [avg_folded_rmsd],\n",
    "    coarse_clustering.cluster_centers.flatten(),\n",
    "    [avg_unfolded_rmsd]\n",
    "])"
   ]
  },
  {
   "cell_type": "code",
   "execution_count": 485,
   "metadata": {
    "execution": {
     "iopub.execute_input": "2022-02-25T00:34:03.782667Z",
     "iopub.status.busy": "2022-02-25T00:34:03.780721Z",
     "iopub.status.idle": "2022-02-25T00:34:03.792583Z",
     "shell.execute_reply": "2022-02-25T00:34:03.790349Z",
     "shell.execute_reply.started": "2022-02-25T00:34:03.782616Z"
    },
    "tags": []
   },
   "outputs": [],
   "source": [
    "avg_coarse_rmsd = np.concatenate([\n",
    "    coarse_macrostate_clusters['folded'].cluster_centers.flatten(),\n",
    "    coarse_clustering.cluster_centers.flatten(),\n",
    "    coarse_macrostate_clusters['unfolded'].cluster_centers.flatten()\n",
    "])"
   ]
  },
  {
   "cell_type": "code",
   "execution_count": 486,
   "metadata": {
    "execution": {
     "iopub.execute_input": "2022-02-25T00:34:04.175225Z",
     "iopub.status.busy": "2022-02-25T00:34:04.174873Z",
     "iopub.status.idle": "2022-02-25T00:34:04.180476Z",
     "shell.execute_reply": "2022-02-25T00:34:04.179453Z",
     "shell.execute_reply.started": "2022-02-25T00:34:04.175201Z"
    },
    "tags": []
   },
   "outputs": [],
   "source": [
    "cg_state_sort = np.argsort(avg_coarse_rmsd)"
   ]
  },
  {
   "cell_type": "markdown",
   "metadata": {},
   "source": [
    "### Save fine transition matrix and coarse mapping"
   ]
  },
  {
   "cell_type": "code",
   "execution_count": 487,
   "metadata": {
    "execution": {
     "iopub.execute_input": "2022-02-25T00:34:05.393155Z",
     "iopub.status.busy": "2022-02-25T00:34:05.392426Z",
     "iopub.status.idle": "2022-02-25T00:34:05.535702Z",
     "shell.execute_reply": "2022-02-25T00:34:05.534699Z",
     "shell.execute_reply.started": "2022-02-25T00:34:05.393116Z"
    },
    "pycharm": {
     "name": "#%%\n"
    },
    "tags": []
   },
   "outputs": [
    {
     "name": "stdout",
     "output_type": "stream",
     "text": [
      "Saved to strict_strat_tic_cluster_lag-1ns_transition_matrix_nfine1020_ernesto_symm\n"
     ]
    }
   ],
   "source": [
    "np.savez(f'{dataset_label}_transition_matrix_nfine{len(msm.transition_matrix)}_ernesto_symm', transition_matrix=msm.transition_matrix,\n",
    "         states_unfolded = unfolded,\n",
    "         states_folded = folded,\n",
    "         fine_clustering = clustering,\n",
    "         coarse_clustering = coarse_clustering,\n",
    "         mfpt_folding = mfpt_folding,\n",
    "         mfpt_unfolding = mfpt_unfolding,\n",
    "         coarse_mapping = coarse_mapping,\n",
    "         avg_state_rmsds = avg_state_rmsds,\n",
    "         coarse_potential = coarse_potential,\n",
    "         coarse_eq_ref = coarse_distribution,\n",
    "         cg_state_sort = cg_state_sort,\n",
    "         avg_coarse_rmsd = avg_coarse_rmsd,\n",
    "         msm_object=msm,\n",
    "         coarse_macrostate_clusters=coarse_macrostate_clusters\n",
    "         )\n",
    "print(f\"Saved to {dataset_label}_transition_matrix_nfine{len(msm.transition_matrix)}_ernesto_symm\")"
   ]
  },
  {
   "cell_type": "code",
   "execution_count": 392,
   "metadata": {
    "execution": {
     "iopub.execute_input": "2022-02-24T21:20:31.346631Z",
     "iopub.status.busy": "2022-02-24T21:20:31.346289Z",
     "iopub.status.idle": "2022-02-24T21:20:31.353255Z",
     "shell.execute_reply": "2022-02-24T21:20:31.352578Z",
     "shell.execute_reply.started": "2022-02-24T21:20:31.346604Z"
    },
    "tags": []
   },
   "outputs": [
    {
     "data": {
      "text/plain": [
       "5"
      ]
     },
     "execution_count": 392,
     "metadata": {},
     "output_type": "execute_result"
    }
   ],
   "source": [
    "coarse_macrostate_clusters['folded'].n_clusters"
   ]
  },
  {
   "cell_type": "markdown",
   "metadata": {},
   "source": [
    "# Sample trajectory generation"
   ]
  },
  {
   "cell_type": "markdown",
   "metadata": {},
   "source": [
    "Now, we should be able to generate some trajectories from our Markov model.\n",
    "\n",
    "A couple notes:\n",
    "- Generated trajectories will have timestep equal to the lag time of the MSM. This is important when compute MFPTs etc\n",
    "- Generated trajectories are of course in the space of the fine-grained states, and will be coarse-grained after generation\n",
    "\n",
    "To sanity-check this procedure, I'll generate a large number of trajectories and then verify analyzing them gives me results consistent with the original Markov model."
   ]
  },
  {
   "cell_type": "markdown",
   "metadata": {},
   "source": [
    "## Generate fine trajectories"
   ]
  },
  {
   "cell_type": "code",
   "execution_count": 488,
   "metadata": {
    "execution": {
     "iopub.execute_input": "2022-02-25T00:34:08.286193Z",
     "iopub.status.busy": "2022-02-25T00:34:08.285894Z",
     "iopub.status.idle": "2022-02-25T00:34:08.293931Z",
     "shell.execute_reply": "2022-02-25T00:34:08.292675Z",
     "shell.execute_reply.started": "2022-02-25T00:34:08.286164Z"
    },
    "tags": []
   },
   "outputs": [],
   "source": [
    "n_trajectories = 50\n",
    "initial_state = rmsd_sort_order[-1]\n",
    "traj_seed = 1337\n",
    "original_trajectory_length=100000\n",
    "fine_transition_matrix = msm.transition_matrix"
   ]
  },
  {
   "cell_type": "code",
   "execution_count": 489,
   "metadata": {
    "execution": {
     "iopub.execute_input": "2022-02-25T00:34:09.859457Z",
     "iopub.status.busy": "2022-02-25T00:34:09.859197Z",
     "iopub.status.idle": "2022-02-25T00:34:46.913569Z",
     "shell.execute_reply": "2022-02-25T00:34:46.909245Z",
     "shell.execute_reply.started": "2022-02-25T00:34:09.859434Z"
    },
    "tags": []
   },
   "outputs": [
    {
     "data": {
      "application/vnd.jupyter.widget-view+json": {
       "model_id": "fc4896eaac3a41229ef4579134f16bdf",
       "version_major": 2,
       "version_minor": 0
      },
      "text/plain": [
       "Generating trajectories:   0%|          | 0/99999 [00:00<?, ?it/s]"
      ]
     },
     "metadata": {},
     "output_type": "display_data"
    }
   ],
   "source": [
    "# ! Start all in one point\n",
    "initial_points = np.full(n_trajectories, fill_value=initial_state)\n",
    "initial_points = np.ones(n_trajectories)\n",
    "initial_points[:] = initial_state\n",
    "\n",
    "rng = np.random.default_rng(traj_seed)\n",
    "# TODO: For large datasets, may not be able to hold this in memory\n",
    "probs = rng.random(size=(n_trajectories, original_trajectory_length))\n",
    "\n",
    "fine_trajectories = np.full(shape=(n_trajectories, original_trajectory_length), fill_value=-1, dtype=int)\n",
    "fine_trajectories[:, 0] = initial_points\n",
    "for _step in tqdm.tqdm(range(1, original_trajectory_length), desc='Generating trajectories'):\n",
    "    last_points = fine_trajectories[:, _step - 1]\n",
    "    next_step_probs = probs[:, _step]\n",
    "\n",
    "    transition_rows = fine_transition_matrix[last_points]\n",
    "    prob_sums = np.cumsum(transition_rows, axis=1)\n",
    "\n",
    "    # Using the probabilities, and the cumulative sums of the transition matrix rows, compute the next state you go to.\n",
    "    # If you look at one trajectory, this is just looking for the first point where the random number drawn is >= the\n",
    "    # cumulative probability.\n",
    "    next_states = np.argmax(\n",
    "        prob_sums - next_step_probs.reshape((n_trajectories, -1)) >= 0,\n",
    "        axis=1)\n",
    "\n",
    "    fine_trajectories[:, _step] = next_states"
   ]
  },
  {
   "cell_type": "code",
   "execution_count": 490,
   "metadata": {
    "execution": {
     "iopub.execute_input": "2022-02-25T00:34:46.923461Z",
     "iopub.status.busy": "2022-02-25T00:34:46.923173Z",
     "iopub.status.idle": "2022-02-25T00:35:23.926325Z",
     "shell.execute_reply": "2022-02-25T00:35:23.922477Z",
     "shell.execute_reply.started": "2022-02-25T00:34:46.923433Z"
    },
    "tags": []
   },
   "outputs": [
    {
     "data": {
      "application/vnd.jupyter.widget-view+json": {
       "model_id": "146509f7e3894d3da862a1b70fac8923",
       "version_major": 2,
       "version_minor": 0
      },
      "text/plain": [
       "  0%|          | 0/50 [00:00<?, ?it/s]"
      ]
     },
     "metadata": {},
     "output_type": "display_data"
    }
   ],
   "source": [
    "fine_trajectories = []\n",
    "\n",
    "for i in tqdm.tqdm(range(n_trajectories)):\n",
    "    _traj = msm.simulate(n_steps=original_trajectory_length, start=initial_state)\n",
    "    fine_trajectories.append(_traj)\n",
    "    \n",
    "fine_trajectories = np.array(fine_trajectories)"
   ]
  },
  {
   "cell_type": "markdown",
   "metadata": {},
   "source": [
    "## Coarsen trajectories"
   ]
  },
  {
   "cell_type": "code",
   "execution_count": 491,
   "metadata": {
    "execution": {
     "iopub.execute_input": "2022-02-25T00:35:23.928752Z",
     "iopub.status.busy": "2022-02-25T00:35:23.927776Z",
     "iopub.status.idle": "2022-02-25T00:35:25.413979Z",
     "shell.execute_reply": "2022-02-25T00:35:25.413229Z",
     "shell.execute_reply.started": "2022-02-25T00:35:23.928717Z"
    },
    "tags": []
   },
   "outputs": [],
   "source": [
    "# Map each fine state to its coarse state, just the inverse of cg_map\n",
    "fg_map = {y: i for (i, x) in enumerate(cg_map) for y in x}\n",
    "fine_to_coarse = np.vectorize(lambda x: fg_map[x])\n",
    "coarse_trajectories = fine_to_coarse(fine_trajectories)"
   ]
  },
  {
   "cell_type": "markdown",
   "metadata": {},
   "source": [
    "## Plot sample trajectories\n",
    "\n",
    "Plot a couple trajectories in both the fine- and coarse-grained spaces.\n",
    "\n",
    "Here, the important thing is that you should be able to see the transitions in/out of the folded/unfolded states in both. Thew intermediate can look messy, but folded/unfolded should be well defined.\n",
    "\n",
    "Note that here, we're mapping back to average RMSD on the y-axis."
   ]
  },
  {
   "cell_type": "code",
   "execution_count": 492,
   "metadata": {
    "execution": {
     "iopub.execute_input": "2022-02-25T00:35:55.249533Z",
     "iopub.status.busy": "2022-02-25T00:35:55.249064Z",
     "iopub.status.idle": "2022-02-25T00:35:55.610452Z",
     "shell.execute_reply": "2022-02-25T00:35:55.609790Z",
     "shell.execute_reply.started": "2022-02-25T00:35:55.249499Z"
    },
    "tags": []
   },
   "outputs": [
    {
     "data": {
      "image/png": "[encoded data removed]",
      "text/plain": [
       "<Figure size 900x300 with 2 Axes>"
      ]
     },
     "metadata": {},
     "output_type": "display_data"
    }
   ],
   "source": [
    "fig, ax  = plt.subplots(1, 2, figsize=(6,2))\n",
    "rmsd_ax = ax[0]\n",
    "# fine_ax = ax[1]\n",
    "coarse_ax = ax[1]\n",
    "_subsample = 10\n",
    "latest_point = 5000\n",
    "for trajectory in fine_trajectories[:2]:\n",
    "    \n",
    "    rmsd_trajectory = [avg_state_rmsds[x] for x in trajectory]\n",
    "    rmsd_ax.plot(rmsd_trajectory[:latest_point:_subsample])\n",
    "    \n",
    "    # fine_ax.plot(trajectory[::_subsample])\n",
    "    \n",
    "    coarse_traj = fine_to_coarse(trajectory)\n",
    "    coarse_rmsd_traj = [avg_coarse_rmsd[x] for x in coarse_traj]\n",
    "    coarse_ax.plot(coarse_rmsd_traj[:latest_point:_subsample])\n",
    "    \n",
    "rmsd_ax.set_ylabel('Fine state coordinate')\n",
    "# fine_ax.set_ylabel('Fine state index')\n",
    "coarse_ax.set_ylabel('Coarse State coordinate')\n",
    "\n",
    "# plt.ylim([0, 15])\n",
    "\n",
    "fig.tight_layout()\n",
    "fig.set_dpi(150)"
   ]
  },
  {
   "cell_type": "markdown",
   "metadata": {},
   "source": [
    "## Sanity checks\n",
    "\n",
    "Let's make sure that analyzing these trajectories gives back results consistent with the Markov model we used to generate them."
   ]
  },
  {
   "cell_type": "code",
   "execution_count": 493,
   "metadata": {
    "execution": {
     "iopub.execute_input": "2022-02-25T00:35:57.471147Z",
     "iopub.status.busy": "2022-02-25T00:35:57.470876Z",
     "iopub.status.idle": "2022-02-25T00:36:00.330918Z",
     "shell.execute_reply": "2022-02-25T00:36:00.330287Z",
     "shell.execute_reply.started": "2022-02-25T00:35:57.471121Z"
    },
    "tags": []
   },
   "outputs": [
    {
     "name": "stdout",
     "output_type": "stream",
     "text": [
      "5\n"
     ]
    }
   ],
   "source": [
    "lag = msm_lag_steps\n",
    "print(msm_lag_steps)\n",
    "check_count_model = TransitionCountEstimator(lag, 'sliding').fit_fetch(fine_trajectories)\n",
    "check_msm = MaximumLikelihoodMSM().fit_fetch(check_count_model.submodel_largest())"
   ]
  },
  {
   "cell_type": "markdown",
   "metadata": {},
   "source": [
    "It's possible the active set of the MSM built from the generated trajs is smaller than the full set of states.\n",
    "\n",
    "That's all well and good as far as the eventual analysis, but for sanity checks, go hard on the sampling and make sure all states are represented."
   ]
  },
  {
   "cell_type": "code",
   "execution_count": 494,
   "metadata": {
    "execution": {
     "iopub.execute_input": "2022-02-25T00:36:00.333478Z",
     "iopub.status.busy": "2022-02-25T00:36:00.333192Z",
     "iopub.status.idle": "2022-02-25T00:36:00.338556Z",
     "shell.execute_reply": "2022-02-25T00:36:00.337788Z",
     "shell.execute_reply.started": "2022-02-25T00:36:00.333451Z"
    },
    "tags": []
   },
   "outputs": [],
   "source": [
    "assert check_msm.n_states == msm.n_states"
   ]
  },
  {
   "cell_type": "markdown",
   "metadata": {},
   "source": [
    "### Compare stationary distributions\n",
    "\n",
    "This should basically be a diagonal line of slope 1, or else they're giving different stationary distributions."
   ]
  },
  {
   "cell_type": "code",
   "execution_count": 495,
   "metadata": {
    "execution": {
     "iopub.execute_input": "2022-02-25T00:36:01.544198Z",
     "iopub.status.busy": "2022-02-25T00:36:01.543664Z",
     "iopub.status.idle": "2022-02-25T00:36:01.831656Z",
     "shell.execute_reply": "2022-02-25T00:36:01.830893Z",
     "shell.execute_reply.started": "2022-02-25T00:36:01.544171Z"
    },
    "tags": []
   },
   "outputs": [
    {
     "data": {
      "text/plain": [
       "<matplotlib.collections.PathCollection at 0x164611910>"
      ]
     },
     "execution_count": 495,
     "metadata": {},
     "output_type": "execute_result"
    },
    {
     "data": {
      "image/png": "[encoded data removed]",
      "text/plain": [
       "<Figure size 432x288 with 1 Axes>"
      ]
     },
     "metadata": {},
     "output_type": "display_data"
    }
   ],
   "source": [
    "plt.scatter(check_msm.stationary_distribution, msm.stationary_distribution)"
   ]
  },
  {
   "cell_type": "markdown",
   "metadata": {},
   "source": [
    "### Compare MFPTs"
   ]
  },
  {
   "cell_type": "code",
   "execution_count": 496,
   "metadata": {
    "collapsed": false,
    "execution": {
     "iopub.execute_input": "2022-02-25T00:36:03.692466Z",
     "iopub.status.busy": "2022-02-25T00:36:03.692119Z",
     "iopub.status.idle": "2022-02-25T00:36:03.734206Z",
     "shell.execute_reply": "2022-02-25T00:36:03.733444Z",
     "shell.execute_reply.started": "2022-02-25T00:36:03.692436Z"
    },
    "jupyter": {
     "outputs_hidden": false
    },
    "pycharm": {
     "name": "#%%\n"
    },
    "tags": []
   },
   "outputs": [],
   "source": [
    "# Remember, trajectories I generate from the MSM are in units of the MSM lag time\n",
    "check_mfpt_folding = check_msm.mfpt(unfolded.flatten(), folded.flatten()) * msm_lag_steps"
   ]
  },
  {
   "cell_type": "code",
   "execution_count": 497,
   "metadata": {
    "collapsed": false,
    "execution": {
     "iopub.execute_input": "2022-02-25T00:36:04.026688Z",
     "iopub.status.busy": "2022-02-25T00:36:04.026335Z",
     "iopub.status.idle": "2022-02-25T00:36:04.069441Z",
     "shell.execute_reply": "2022-02-25T00:36:04.068581Z",
     "shell.execute_reply.started": "2022-02-25T00:36:04.026668Z"
    },
    "jupyter": {
     "outputs_hidden": false
    },
    "pycharm": {
     "name": "#%%\n"
    },
    "tags": []
   },
   "outputs": [],
   "source": [
    "check_mfpt_unfolding = check_msm.mfpt(folded.flatten(), unfolded.flatten()) * msm_lag_steps"
   ]
  },
  {
   "cell_type": "code",
   "execution_count": 498,
   "metadata": {
    "execution": {
     "iopub.execute_input": "2022-02-25T00:36:04.379412Z",
     "iopub.status.busy": "2022-02-25T00:36:04.379123Z",
     "iopub.status.idle": "2022-02-25T00:36:04.387013Z",
     "shell.execute_reply": "2022-02-25T00:36:04.385334Z",
     "shell.execute_reply.started": "2022-02-25T00:36:04.379388Z"
    },
    "tags": []
   },
   "outputs": [
    {
     "data": {
      "text/plain": [
       "(21457.17177666563, 4645.003112759477)"
      ]
     },
     "execution_count": 498,
     "metadata": {},
     "output_type": "execute_result"
    }
   ],
   "source": [
    "mfpt_folding, mfpt_unfolding # Folding time, in units of the input trajectory"
   ]
  },
  {
   "cell_type": "code",
   "execution_count": 499,
   "metadata": {
    "execution": {
     "iopub.execute_input": "2022-02-25T00:36:07.494487Z",
     "iopub.status.busy": "2022-02-25T00:36:07.494220Z",
     "iopub.status.idle": "2022-02-25T00:36:07.501504Z",
     "shell.execute_reply": "2022-02-25T00:36:07.500625Z",
     "shell.execute_reply.started": "2022-02-25T00:36:07.494463Z"
    },
    "tags": []
   },
   "outputs": [
    {
     "data": {
      "text/plain": [
       "(22412.80684855974, 4792.508604396656)"
      ]
     },
     "execution_count": 499,
     "metadata": {},
     "output_type": "execute_result"
    }
   ],
   "source": [
    "check_mfpt_folding, check_mfpt_unfolding # Folding time, in units of the input trajectory"
   ]
  },
  {
   "cell_type": "code",
   "execution_count": 501,
   "metadata": {
    "collapsed": false,
    "execution": {
     "iopub.execute_input": "2022-02-25T00:36:27.655573Z",
     "iopub.status.busy": "2022-02-25T00:36:27.655196Z",
     "iopub.status.idle": "2022-02-25T00:36:27.669770Z",
     "shell.execute_reply": "2022-02-25T00:36:27.667443Z",
     "shell.execute_reply.started": "2022-02-25T00:36:27.655540Z"
    },
    "jupyter": {
     "outputs_hidden": false
    },
    "pycharm": {
     "name": "#%%\n"
    },
    "tags": []
   },
   "outputs": [
    {
     "name": "stdout",
     "output_type": "stream",
     "text": [
      "--- Original MSM ---\n",
      "Folding time: \t4291.43 ns\n",
      "Folding steps: \t21457 steps\n",
      "\n",
      "Unfolding time: \t929.00 ns\n",
      "Unfolding steps: \t4645 steps\n",
      "\n",
      "--- MSM from generated trajectories ---\n",
      "Folding time: \t4482.56 ns\n",
      "Folding steps: \t4483 steps\n",
      "\n",
      "Unfolding time: \t958.50 ns\n",
      "Unfolding steps: \t959 steps\n"
     ]
    }
   ],
   "source": [
    "# OG MSM\n",
    "print(\"--- Original MSM ---\")\n",
    "print(f\"Folding time: \\t{mfpt_folding * universe.trajectory.dt * stride / 1000:.2f} ns\")\n",
    "print(f\"Folding steps: \\t{mfpt_folding :.0f} steps\\n\")\n",
    "\n",
    "print(f\"Unfolding time: \\t{mfpt_unfolding * universe.trajectory.dt * stride  / 1000:.2f} ns\")\n",
    "print(f\"Unfolding steps: \\t{mfpt_unfolding :.0f} steps\")\n",
    "\n",
    "\n",
    "print(\"\\n--- MSM from generated trajectories ---\")\n",
    "\n",
    "print(f\"Folding time: \\t{check_mfpt_folding * universe.trajectory.dt / 1000:.2f} ns\")\n",
    "print(f\"Folding steps: \\t{check_mfpt_folding / msm_lag_steps :.0f} steps\\n\")\n",
    "\n",
    "print(f\"Unfolding time: \\t{check_mfpt_unfolding * universe.trajectory.dt  / 1000:.2f} ns\")\n",
    "print(f\"Unfolding steps: \\t{check_mfpt_unfolding / msm_lag_steps:.0f} steps\")"
   ]
  },
  {
   "cell_type": "code",
   "execution_count": 407,
   "metadata": {
    "collapsed": false,
    "execution": {
     "iopub.execute_input": "2022-02-24T21:23:47.981187Z",
     "iopub.status.busy": "2022-02-24T21:23:47.980922Z",
     "iopub.status.idle": "2022-02-24T21:23:47.993305Z",
     "shell.execute_reply": "2022-02-24T21:23:47.989062Z",
     "shell.execute_reply.started": "2022-02-24T21:23:47.981163Z"
    },
    "jupyter": {
     "outputs_hidden": false
    },
    "pycharm": {
     "name": "#%%\n"
    },
    "tags": []
   },
   "outputs": [
    {
     "name": "stdout",
     "output_type": "stream",
     "text": [
      "--- Original MSM ---\n",
      "Folding time: \t12731.87 ns\n",
      "Folding steps: \t63659 steps\n",
      "\n",
      "Unfolding time: \t2739.02 ns\n",
      "Unfolding steps: \t13695 steps\n",
      "\n",
      "--- MSM from generated trajectories ---\n",
      "Folding time: \t14863.39 ns\n",
      "Folding steps: \t1486 steps\n",
      "\n",
      "Unfolding time: \t3085.82 ns\n",
      "Unfolding steps: \t309 steps\n"
     ]
    }
   ],
   "source": [
    "# OG MSM\n",
    "print(\"--- Original MSM ---\")\n",
    "print(f\"Folding time: \\t{mfpt_folding * universe.trajectory.dt * stride / 1000:.2f} ns\")\n",
    "print(f\"Folding steps: \\t{mfpt_folding :.0f} steps\\n\")\n",
    "\n",
    "print(f\"Unfolding time: \\t{mfpt_unfolding * universe.trajectory.dt * stride  / 1000:.2f} ns\")\n",
    "print(f\"Unfolding steps: \\t{mfpt_unfolding :.0f} steps\")\n",
    "\n",
    "\n",
    "print(\"\\n--- MSM from generated trajectories ---\")\n",
    "\n",
    "print(f\"Folding time: \\t{check_mfpt_folding * universe.trajectory.dt / 1000:.2f} ns\")\n",
    "print(f\"Folding steps: \\t{check_mfpt_folding / msm_lag_steps :.0f} steps\\n\")\n",
    "\n",
    "print(f\"Unfolding time: \\t{check_mfpt_unfolding * universe.trajectory.dt  / 1000:.2f} ns\")\n",
    "print(f\"Unfolding steps: \\t{check_mfpt_unfolding / msm_lag_steps:.0f} steps\")"
   ]
  },
  {
   "cell_type": "code",
   "execution_count": null,
   "metadata": {},
   "outputs": [],
   "source": []
  }
 ],
 "metadata": {
  "kernelspec": {
   "display_name": "Python 3 (ipykernel)",
   "language": "python",
   "name": "python3"
  },
  "language_info": {
   "codemirror_mode": {
    "name": "ipython",
    "version": 3
   },
   "file_extension": ".py",
   "mimetype": "text/x-python",
   "name": "python",
   "nbconvert_exporter": "python",
   "pygments_lexer": "ipython3",
   "version": "3.9.10"
  }
 },
 "nbformat": 4,
 "nbformat_minor": 4
}