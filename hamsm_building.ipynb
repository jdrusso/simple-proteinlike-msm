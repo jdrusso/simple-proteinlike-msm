{
 "cells": [
  {
   "cell_type": "markdown",
   "id": "70810d53-c3f6-4467-b5e6-101326f05c78",
   "metadata": {},
   "source": [
    "# History-augmented Trajectory Selection"
   ]
  },
  {
   "cell_type": "code",
   "execution_count": 1,
   "id": "341ec6ca-805c-45a8-9e8b-6b35dca37b45",
   "metadata": {
    "execution": {
     "iopub.execute_input": "2022-04-08T22:36:53.173445Z",
     "iopub.status.busy": "2022-04-08T22:36:53.173243Z",
     "iopub.status.idle": "2022-04-08T22:36:55.131772Z",
     "shell.execute_reply": "2022-04-08T22:36:55.131135Z",
     "shell.execute_reply.started": "2022-04-08T22:36:53.173390Z"
    },
    "tags": []
   },
   "outputs": [
    {
     "name": "stderr",
     "output_type": "stream",
     "text": [
      "/Users/russojd/opt/anaconda3/envs/protein-like_msm/lib/python3.9/site-packages/MDAnalysis/coordinates/chemfiles.py:108: DeprecationWarning: distutils Version classes are deprecated. Use packaging.version instead.\n",
      "  MIN_CHEMFILES_VERSION = LooseVersion(\"0.9\")\n",
      "/Users/russojd/opt/anaconda3/envs/protein-like_msm/lib/python3.9/site-packages/MDAnalysis/coordinates/TRJ.py:1209: DeprecationWarning: Please use `netcdf_file` from the `scipy.io` namespace, the `scipy.io.netcdf` namespace is deprecated.\n",
      "  class NCDFPicklable(scipy.io.netcdf.netcdf_file):\n"
     ]
    }
   ],
   "source": [
    "import numpy as np\n",
    "import tqdm.auto as tqdm\n",
    "\n",
    "from deeptime.clustering import KMeans, KMeansModel\n",
    "from matplotlib import pyplot as plt\n",
    "import tqdm.auto as tqdm\n",
    "\n",
    "import MDAnalysis as mda\n",
    "\n",
    "import copy"
   ]
  },
  {
   "cell_type": "code",
   "execution_count": 2,
   "id": "9ec51d49-3b7c-4be6-914c-5a8b0af1f258",
   "metadata": {
    "execution": {
     "iopub.execute_input": "2022-04-08T22:36:55.139363Z",
     "iopub.status.busy": "2022-04-08T22:36:55.138847Z",
     "iopub.status.idle": "2022-04-08T22:36:55.142878Z",
     "shell.execute_reply": "2022-04-08T22:36:55.142020Z",
     "shell.execute_reply.started": "2022-04-08T22:36:55.139338Z"
    },
    "tags": []
   },
   "outputs": [],
   "source": [
    "from deeptime.markov import TransitionCountEstimator, TransitionCountModel\n",
    "from deeptime.markov.msm import MaximumLikelihoodMSM, MarkovStateModel"
   ]
  },
  {
   "cell_type": "code",
   "execution_count": 3,
   "id": "0ebc2c91-dcad-4a2e-822c-e3ce04b672e8",
   "metadata": {
    "execution": {
     "iopub.execute_input": "2022-04-08T22:36:55.145596Z",
     "iopub.status.busy": "2022-04-08T22:36:55.145421Z",
     "iopub.status.idle": "2022-04-08T22:36:55.148712Z",
     "shell.execute_reply": "2022-04-08T22:36:55.148184Z",
     "shell.execute_reply.started": "2022-04-08T22:36:55.145579Z"
    },
    "tags": []
   },
   "outputs": [],
   "source": [
    "dataset_label = \"strict_strat_tic_cluster_lag-10ns\""
   ]
  },
  {
   "cell_type": "code",
   "execution_count": 4,
   "id": "756b3806-3e21-478b-b75b-3ec21195af50",
   "metadata": {
    "execution": {
     "iopub.execute_input": "2022-04-08T22:36:55.149938Z",
     "iopub.status.busy": "2022-04-08T22:36:55.149645Z",
     "iopub.status.idle": "2022-04-08T22:36:55.163253Z",
     "shell.execute_reply": "2022-04-08T22:36:55.162616Z",
     "shell.execute_reply.started": "2022-04-08T22:36:55.149919Z"
    },
    "tags": []
   },
   "outputs": [],
   "source": [
    "continuous_trajectory = mda.Universe(\n",
    "    '/Users/russojd/Research/desres_trajectories/DESRES-Trajectory_2JOF-0-protein 2/2JOF-0-protein/2JOF.pdb',\n",
    "    '/Users/russojd/Research/protein-like_msm/aligned_2JOF.dcd')"
   ]
  },
  {
   "cell_type": "code",
   "execution_count": 5,
   "id": "702a3991-1acc-4de6-857a-4cd4021ab98b",
   "metadata": {
    "execution": {
     "iopub.execute_input": "2022-04-08T22:36:55.164360Z",
     "iopub.status.busy": "2022-04-08T22:36:55.164127Z",
     "iopub.status.idle": "2022-04-08T22:36:55.302347Z",
     "shell.execute_reply": "2022-04-08T22:36:55.301625Z",
     "shell.execute_reply.started": "2022-04-08T22:36:55.164340Z"
    },
    "tags": []
   },
   "outputs": [],
   "source": [
    "_tica = np.load(f'{dataset_label}_tica.npz', allow_pickle=True)\n",
    "tica = _tica['tica']\n",
    "tica_model = _tica['tica_model']\n",
    "projection = _tica['projection']"
   ]
  },
  {
   "cell_type": "code",
   "execution_count": 6,
   "id": "f32dc517-1e8b-4529-b26a-1f12c85a2ca2",
   "metadata": {
    "execution": {
     "iopub.execute_input": "2022-04-08T22:36:55.303489Z",
     "iopub.status.busy": "2022-04-08T22:36:55.303233Z",
     "iopub.status.idle": "2022-04-08T22:36:55.310598Z",
     "shell.execute_reply": "2022-04-08T22:36:55.309448Z",
     "shell.execute_reply.started": "2022-04-08T22:36:55.303469Z"
    },
    "tags": []
   },
   "outputs": [
    {
     "data": {
      "text/plain": [
       "(1044000, 10)"
      ]
     },
     "execution_count": 6,
     "metadata": {},
     "output_type": "execute_result"
    }
   ],
   "source": [
    "projection.shape"
   ]
  },
  {
   "cell_type": "markdown",
   "id": "73481c32-739b-49eb-85bf-bf218fe7cba1",
   "metadata": {},
   "source": [
    "## Identify directional ensembles"
   ]
  },
  {
   "cell_type": "markdown",
   "id": "b7bbf870-dbb4-490e-bb67-675e85a688cc",
   "metadata": {},
   "source": [
    "### Identify macrostates"
   ]
  },
  {
   "cell_type": "code",
   "execution_count": 7,
   "id": "cdfd65df-e1ee-45de-8115-082a1d95fcb5",
   "metadata": {
    "execution": {
     "iopub.execute_input": "2022-04-08T22:36:56.786311Z",
     "iopub.status.busy": "2022-04-08T22:36:56.786106Z",
     "iopub.status.idle": "2022-04-08T22:36:56.789766Z",
     "shell.execute_reply": "2022-04-08T22:36:56.789070Z",
     "shell.execute_reply.started": "2022-04-08T22:36:56.786290Z"
    },
    "tags": []
   },
   "outputs": [],
   "source": [
    "# Now, cluster within each of those.\n",
    "# clusters_per_strat = 10\n",
    "n_clusters = 1000\n",
    "n_strat_bins = 10\n",
    "clusters_per_strat = n_clusters // n_strat_bins\n",
    "\n",
    "tic_rmsd = 0\n",
    "\n",
    "tic_bins = np.linspace(-45, 15, n_strat_bins)"
   ]
  },
  {
   "cell_type": "raw",
   "id": "2c6760ab-f941-4217-be3d-38bbb353c5a9",
   "metadata": {
    "execution": {
     "iopub.execute_input": "2022-04-07T22:44:55.923910Z",
     "iopub.status.busy": "2022-04-07T22:44:55.923456Z",
     "iopub.status.idle": "2022-04-07T22:44:56.538092Z",
     "shell.execute_reply": "2022-04-07T22:44:56.536098Z",
     "shell.execute_reply.started": "2022-04-07T22:44:55.923861Z"
    },
    "tags": []
   },
   "source": [
    "len(list(zip(bin_boundaries[:-1], bin_boundaries[1:])))"
   ]
  },
  {
   "cell_type": "code",
   "execution_count": 8,
   "id": "dc5ed40d-64d5-4802-a3d2-c49711c3a99b",
   "metadata": {
    "execution": {
     "iopub.execute_input": "2022-04-08T22:36:58.381117Z",
     "iopub.status.busy": "2022-04-08T22:36:58.380894Z",
     "iopub.status.idle": "2022-04-08T22:36:58.412215Z",
     "shell.execute_reply": "2022-04-08T22:36:58.411690Z",
     "shell.execute_reply.started": "2022-04-08T22:36:58.381093Z"
    },
    "tags": []
   },
   "outputs": [],
   "source": [
    "unfolded_thresh = 10#5 #0.9\n",
    "folded_thresh = -35 #-1.89\n",
    "\n",
    "unfolded = np.argwhere(projection[:, tic_rmsd].flatten() > unfolded_thresh).flatten()\n",
    "folded = np.argwhere(projection[:, tic_rmsd].flatten() < folded_thresh).flatten()"
   ]
  },
  {
   "cell_type": "code",
   "execution_count": 9,
   "id": "d37128b8-cf9e-4588-8e3b-42dffde1e910",
   "metadata": {
    "execution": {
     "iopub.execute_input": "2022-04-08T22:36:59.526128Z",
     "iopub.status.busy": "2022-04-08T22:36:59.525711Z",
     "iopub.status.idle": "2022-04-08T22:37:01.388544Z",
     "shell.execute_reply": "2022-04-08T22:37:01.387305Z",
     "shell.execute_reply.started": "2022-04-08T22:36:59.526096Z"
    },
    "tags": []
   },
   "outputs": [
    {
     "data": {
      "application/vnd.jupyter.widget-view+json": {
       "model_id": "f55436ab557b41138be8e9946ecccfba",
       "version_major": 2,
       "version_minor": 0
      },
      "text/plain": [
       "  0%|          | 0/1044000 [00:00<?, ?it/s]"
      ]
     },
     "metadata": {},
     "output_type": "display_data"
    }
   ],
   "source": [
    "colors = np.full(projection.shape[0], fill_value=np.nan)\n",
    "literal_colors = {0:'k', 1:'g', 2:'tab:red'}\n",
    "\n",
    "NONE = 0\n",
    "UNFOLDED = 1\n",
    "FOLDED = 2\n",
    "\n",
    "colors[0] = NONE\n",
    "colors[folded] = FOLDED\n",
    "colors[unfolded] = UNFOLDED\n",
    "\n",
    "last_in = colors[0]\n",
    "for index, color in tqdm.tqdm(enumerate(colors), total=len(projection)):\n",
    "    \n",
    "    if np.isnan(color):\n",
    "        colors[index] = last_in\n",
    "        \n",
    "    else:\n",
    "        last_in = colors[index]"
   ]
  },
  {
   "cell_type": "code",
   "execution_count": 10,
   "id": "03fde039-aa51-45ed-83fc-6bdcb557aaec",
   "metadata": {
    "execution": {
     "iopub.execute_input": "2022-04-08T22:37:01.391814Z",
     "iopub.status.busy": "2022-04-08T22:37:01.391264Z",
     "iopub.status.idle": "2022-04-08T22:37:01.413987Z",
     "shell.execute_reply": "2022-04-08T22:37:01.413367Z",
     "shell.execute_reply.started": "2022-04-08T22:37:01.391779Z"
    },
    "tags": []
   },
   "outputs": [
    {
     "name": "stdout",
     "output_type": "stream",
     "text": [
      "[      0   13018   99990  131549  306481  311882  351435  352207  374979\n",
      "  375326  391767  422792  519794  544023  639905  649040  650874  651270\n",
      "  689960  706456  725366  746132  786661  795143  809507  830326 1032946\n",
      " 1044000]\n"
     ]
    },
    {
     "data": {
      "text/plain": [
       "array([      0,   13019,   99991,  131550,  306482,  311883,  351436,\n",
       "        352208,  374980,  375327,  391768,  422793,  519795,  544024,\n",
       "        639906,  649041,  650875,  651271,  689961,  706457,  725367,\n",
       "        746133,  786662,  795144,  809508,  830327, 1032947, 1044000])"
      ]
     },
     "execution_count": 10,
     "metadata": {},
     "output_type": "execute_result"
    }
   ],
   "source": [
    "switches = np.concatenate([[0], 1 + np.argwhere(colors[1:] - colors[:-1]).flatten(), [len(colors)]])\n",
    "\n",
    "print(switches)\n",
    "\n",
    "# But actually, stay in your color for 1 step after entering a new state\n",
    "switches[1:-1] = switches[1:-1] + 1\n",
    "# switches[:-1] = switches[:-1] + np.arange(len(switches[:-1]))\n",
    "\n",
    "switches"
   ]
  },
  {
   "cell_type": "code",
   "execution_count": null,
   "id": "af616fff-d4a4-4129-9670-3dd86951c5cd",
   "metadata": {
    "tags": []
   },
   "outputs": [],
   "source": []
  },
  {
   "cell_type": "code",
   "execution_count": 11,
   "id": "bbeeb85b-a1b4-4a99-914f-98858a84da5c",
   "metadata": {
    "execution": {
     "iopub.execute_input": "2022-04-08T22:37:03.326710Z",
     "iopub.status.busy": "2022-04-08T22:37:03.326479Z",
     "iopub.status.idle": "2022-04-08T22:37:03.478123Z",
     "shell.execute_reply": "2022-04-08T22:37:03.477623Z",
     "shell.execute_reply.started": "2022-04-08T22:37:03.326687Z"
    },
    "tags": []
   },
   "outputs": [
    {
     "data": {
      "text/plain": [
       "[<matplotlib.lines.Line2D at 0x15e5b3a60>]"
      ]
     },
     "execution_count": 11,
     "metadata": {},
     "output_type": "execute_result"
    },
    {
     "data": {
      "image/png": "[encoded data removed]",
      "text/plain": [
       "<Figure size 432x288 with 1 Axes>"
      ]
     },
     "metadata": {
      "needs_background": "light"
     },
     "output_type": "display_data"
    }
   ],
   "source": [
    "rmsd_trajectory = np.load(f'/Users/russojd/Research/protein-like_msm/rmsd_2JOF.npz')['rmsd']\n",
    "plt.plot(rmsd_trajectory[::100])"
   ]
  },
  {
   "cell_type": "code",
   "execution_count": 12,
   "id": "5d06df4e-6d76-4a3f-a3ef-cd8b715827ae",
   "metadata": {
    "execution": {
     "iopub.execute_input": "2022-04-08T22:37:04.368689Z",
     "iopub.status.busy": "2022-04-08T22:37:04.368476Z",
     "iopub.status.idle": "2022-04-08T22:37:04.701168Z",
     "shell.execute_reply": "2022-04-08T22:37:04.700657Z",
     "shell.execute_reply.started": "2022-04-08T22:37:04.368667Z"
    },
    "tags": []
   },
   "outputs": [
    {
     "data": {
      "text/plain": [
       "<matplotlib.lines.Line2D at 0x15e5f2e20>"
      ]
     },
     "execution_count": 12,
     "metadata": {},
     "output_type": "execute_result"
    },
    {
     "data": {
      "image/png": "[encoded data removed]",
      "text/plain": [
       "<Figure size 1296x288 with 1 Axes>"
      ]
     },
     "metadata": {
      "needs_background": "light"
     },
     "output_type": "display_data"
    }
   ],
   "source": [
    "# tic_bins = np.linspace(-50, 20, n_strat_bins)\n",
    "# tic_bins\n",
    "\n",
    "fig, ax = plt.subplots(figsize=(18,4))\n",
    "\n",
    "[ax.axhline(x, color='k') for x in tic_bins]\n",
    "# ax.plot(projection[:, tic_rmsd], label=f'tIC {tic_rmsd}', color='tab:blue')\n",
    "\n",
    "for start, end in np.vstack([switches[:-1], switches[1:]]).T:\n",
    "    _color = literal_colors[colors[start]]\n",
    "    ax.plot(np.arange(start, end), projection[start:end, tic_rmsd], label=f'tIC {tic_rmsd}', color=_color)\n",
    "\n",
    "ax.axhline(unfolded_thresh, color='limegreen', linewidth=3)\n",
    "ax.axhline(folded_thresh, color='r', linewidth=3)"
   ]
  },
  {
   "cell_type": "markdown",
   "id": "248f4bd6-59bc-4608-a2bf-fc496e10be72",
   "metadata": {},
   "source": [
    "Now, go back to the original trajectory, and color it."
   ]
  },
  {
   "cell_type": "markdown",
   "id": "dcffc37f-96ee-4ef5-b496-ebf5c4359fb6",
   "metadata": {
    "execution": {
     "iopub.execute_input": "2022-04-05T20:21:31.249439Z",
     "iopub.status.busy": "2022-04-05T20:21:31.249020Z",
     "iopub.status.idle": "2022-04-05T20:21:31.257472Z",
     "shell.execute_reply": "2022-04-05T20:21:31.256207Z",
     "shell.execute_reply.started": "2022-04-05T20:21:31.249403Z"
    },
    "tags": []
   },
   "source": [
    "And now find all the points where we switch over from one color to another. We'll split the trajectories at these points"
   ]
  },
  {
   "cell_type": "markdown",
   "id": "d6ef8ccc-1b7b-4306-8050-03e91aefec81",
   "metadata": {},
   "source": [
    "Now separate out the directional ensembles"
   ]
  },
  {
   "cell_type": "code",
   "execution_count": 13,
   "id": "58a00dff-8e11-4cd7-b6d9-529a78702833",
   "metadata": {
    "execution": {
     "iopub.execute_input": "2022-04-08T22:37:06.298861Z",
     "iopub.status.busy": "2022-04-08T22:37:06.298652Z",
     "iopub.status.idle": "2022-04-08T22:37:06.309143Z",
     "shell.execute_reply": "2022-04-08T22:37:06.308633Z",
     "shell.execute_reply.started": "2022-04-08T22:37:06.298841Z"
    },
    "tags": []
   },
   "outputs": [
    {
     "name": "stdout",
     "output_type": "stream",
     "text": [
      "Segment in 2 from 0 to 13019\n",
      "Segment in 1 from 13019 to 99991\n",
      "Segment in 2 from 99991 to 131550\n",
      "Segment in 1 from 131550 to 306482\n",
      "Segment in 2 from 306482 to 311883\n",
      "Segment in 1 from 311883 to 351436\n",
      "Segment in 2 from 351436 to 352208\n",
      "Segment in 1 from 352208 to 374980\n",
      "Segment in 2 from 374980 to 375327\n",
      "Segment in 1 from 375327 to 391768\n",
      "Segment in 2 from 391768 to 422793\n",
      "Segment in 1 from 422793 to 519795\n",
      "Segment in 2 from 519795 to 544024\n",
      "Segment in 1 from 544024 to 639906\n",
      "Segment in 2 from 639906 to 649041\n",
      "Segment in 1 from 649041 to 650875\n",
      "Segment in 2 from 650875 to 651271\n",
      "Segment in 1 from 651271 to 689961\n",
      "Segment in 2 from 689961 to 706457\n",
      "Segment in 1 from 706457 to 725367\n",
      "Segment in 2 from 725367 to 746133\n",
      "Segment in 1 from 746133 to 786662\n",
      "Segment in 2 from 786662 to 795144\n",
      "Segment in 1 from 795144 to 809508\n",
      "Segment in 2 from 809508 to 830327\n",
      "Segment in 1 from 830327 to 1032947\n",
      "Segment in 2 from 1032947 to 1044000\n"
     ]
    },
    {
     "name": "stderr",
     "output_type": "stream",
     "text": [
      "/var/folders/br/39cs_vgj35b6qs4y2kdfp7dsg0d5l5/T/ipykernel_65955/1110596562.py:17: VisibleDeprecationWarning: Creating an ndarray from ragged nested sequences (which is a list-or-tuple of lists-or-tuples-or ndarrays with different lengths or shapes) is deprecated. If you meant to do this, you must specify 'dtype=object' when creating the ndarray.\n",
      "  directional_ensembles[_color].append(np.array([times, segment.T]))\n"
     ]
    }
   ],
   "source": [
    "directional_ensembles = {color:[] for color in [NONE, FOLDED, UNFOLDED]}\n",
    "mfpts = {color:[] for color in [NONE, FOLDED, UNFOLDED]}\n",
    "\n",
    "last_time = 0\n",
    "for start, end in np.vstack([switches[:-1], switches[1:]]).T:\n",
    "    \n",
    "    \n",
    "    _color = colors[start]\n",
    "    \n",
    "    print(f\"Segment in {int(_color):d} from {start} to {end}\")\n",
    "    \n",
    "    mfpts[_color].append([end - start])\n",
    "          \n",
    "    times = np.arange(start, end)\n",
    "    segment = projection[start:end]\n",
    "    \n",
    "    directional_ensembles[_color].append(np.array([times, segment.T]))"
   ]
  },
  {
   "cell_type": "code",
   "execution_count": 14,
   "id": "1501fdac-7c1a-4a14-9043-ef0a5d59a1aa",
   "metadata": {
    "execution": {
     "iopub.execute_input": "2022-04-08T22:37:09.145995Z",
     "iopub.status.busy": "2022-04-08T22:37:09.145665Z",
     "iopub.status.idle": "2022-04-08T22:37:09.156032Z",
     "shell.execute_reply": "2022-04-08T22:37:09.154881Z",
     "shell.execute_reply.started": "2022-04-08T22:37:09.145964Z"
    },
    "tags": []
   },
   "outputs": [
    {
     "data": {
      "text/plain": [
       "(2.764271428571429, 13.084630769230767)"
      ]
     },
     "execution_count": 14,
     "metadata": {},
     "output_type": "execute_result"
    }
   ],
   "source": [
    "# FOLDED here means last-in-folded. If you're last-in-folded, and you change colors, you just underwent UNFOLDING\n",
    "\n",
    "# Conversion: * 200 (picoseconds/frame) / 1000 (picoseconds/nanosecond) / 1000 (nanoseconds/microsecond)\n",
    "convert = lambda x: x * 200 / 1000 / 1000\n",
    "\n",
    "convert(np.mean(mfpts[FOLDED])), convert(np.mean(mfpts[UNFOLDED]))"
   ]
  },
  {
   "cell_type": "markdown",
   "id": "ea1b557d-fcce-47ba-a7c0-5db756954bc9",
   "metadata": {},
   "source": [
    "# Discretization"
   ]
  },
  {
   "cell_type": "code",
   "execution_count": 15,
   "id": "80da9845-f536-4daa-96b7-6a7d5a5312dd",
   "metadata": {
    "execution": {
     "iopub.execute_input": "2022-04-08T22:37:11.527609Z",
     "iopub.status.busy": "2022-04-08T22:37:11.527394Z",
     "iopub.status.idle": "2022-04-08T22:37:11.538072Z",
     "shell.execute_reply": "2022-04-08T22:37:11.537382Z",
     "shell.execute_reply.started": "2022-04-08T22:37:11.527585Z"
    },
    "tags": []
   },
   "outputs": [],
   "source": [
    "def stratified_cluster(tic_bins, projection, clusters_per_strat, tic_rmsd):\n",
    "\n",
    "    bin_boundaries = np.concatenate([[-np.inf], tic_bins, [np.inf]])\n",
    "\n",
    "    all_clusters = []\n",
    "\n",
    "    # discretized = np.full(len(projection), fill_value=np.nan)\n",
    "    discretized = [np.full(len(x[1][0]), fill_value=np.nan) for x in projection]\n",
    "    traj_starts = np.cumsum([len(x) for x in discretized])\n",
    "    print([len(x) for x in discretized])\n",
    "\n",
    "    for i, (bin_lower, bin_upper) in tqdm.tqdm(\n",
    "                                            enumerate(zip(bin_boundaries[:-1], bin_boundaries[1:])), \n",
    "                                        total=len(bin_boundaries)-1):\n",
    "\n",
    "        kmeans_estimator = KMeans(\n",
    "            n_clusters=clusters_per_strat,\n",
    "            max_iter=1000,\n",
    "            fixed_seed=1337,\n",
    "            n_jobs=4,\n",
    "            # progress=tqdm.tqdm\n",
    "        )\n",
    "        # print(bin_lower, bin_upper)\n",
    "        \n",
    "        \n",
    "        # For each trajectory, get its points that fall in the current bin\n",
    "        all_traj_idxs_in_bin = []\n",
    "        all_traj_points_in_bin = []\n",
    "        for traj_idx, (traj_time_indices, traj_projection) in enumerate(projection):\n",
    "            \n",
    "            # print(f\"Traj shape is {traj_projection.shape}\")\n",
    "            assert traj_projection.shape[0] == 10\n",
    "            \n",
    "            # Get the indices of points in the current bin\n",
    "            traj_idxs_in_bin = np.argwhere(\n",
    "                (traj_projection[tic_rmsd, :] >= bin_lower) & \n",
    "                (traj_projection[tic_rmsd, :] < bin_upper)\n",
    "            ).flatten()\n",
    "            \n",
    "            all_traj_idxs_in_bin.append(traj_idxs_in_bin)\n",
    "            \n",
    "            # Now also get the actual points, to make clustering easier\n",
    "            all_traj_points_in_bin.append(traj_projection[:, traj_idxs_in_bin])\n",
    "            \n",
    "        # Now I have all the points from all the trajectories that are in the current bin\n",
    "        # if len(all_traj_idxs_in_bin) == 0:\n",
    "            # print(f\"No trajs in this set had points in bin {i}\")\n",
    "            # continue\n",
    "            \n",
    "        # print(f\"Points in bin: {len(all_traj_points_in_bin)}, with shapes {[x.shape for x in all_traj_points_in_bin]}\")\n",
    "        \n",
    "        all_points_together = np.hstack(all_traj_points_in_bin).T\n",
    "        # print(f\"All together, shape is {all_points_together.shape}\")\n",
    "        \n",
    "        if all_points_together.shape[0] == 0:\n",
    "            print(f\"No trajs in this set had points in bin {i}\")\n",
    "            continue\n",
    "        \n",
    "        try:\n",
    "            _clustering = kmeans_estimator.fit(all_points_together).fetch_model()\n",
    "            # print(_clustering.metric)\n",
    "        except ValueError as e:\n",
    "            print(f\"Only had {len(all_points_together)} points\")\n",
    "            raise e\n",
    "        cluster_offset = i*clusters_per_strat\n",
    "        \n",
    "        # Now discretize the parts of each trajectory that are in this bin\n",
    "        for traj_idx in range(len(projection)):\n",
    "            \n",
    "            traj_idxs_in_bin = all_traj_idxs_in_bin[traj_idx]\n",
    "            traj_points_in_bin = all_traj_points_in_bin[traj_idx].T\n",
    "            \n",
    "            # print(f\"In bin, shape is {traj_points_in_bin.shape}\")\n",
    "            \n",
    "            # print(f\"Populating {discretized[traj_idx][traj_idxs_in_bin].shape}\")\n",
    "            # print(f\"\\t {discretized[traj_idx].shape}\")\n",
    "            \n",
    "            discretized[traj_idx][traj_idxs_in_bin] = _clustering.transform(traj_points_in_bin)\n",
    "            discretized[traj_idx][traj_idxs_in_bin] += cluster_offset\n",
    "            \n",
    "        all_clusters.append(copy.deepcopy(_clustering))\n",
    "\n",
    "    # discrete_stratified = discretized\n",
    "\n",
    "    combined_kmeans_centers = np.concatenate([x._cluster_centers for x in all_clusters])\n",
    "    # print([len(x) for x in discretized])\n",
    "    # print(discretized[0].shape)\n",
    "    \n",
    "    return discretized, combined_kmeans_centers, bin_boundaries"
   ]
  },
  {
   "cell_type": "raw",
   "id": "04160309-5e71-4be4-96e4-4201f6ae266d",
   "metadata": {
    "execution": {
     "iopub.execute_input": "2022-04-05T22:11:03.973104Z",
     "iopub.status.busy": "2022-04-05T22:11:03.972667Z",
     "iopub.status.idle": "2022-04-05T22:11:03.984223Z",
     "shell.execute_reply": "2022-04-05T22:11:03.983092Z",
     "shell.execute_reply.started": "2022-04-05T22:11:03.973054Z"
    },
    "tags": []
   },
   "source": [
    "# Projection is directional_ensembles[1]\n",
    "# traj is directional_ensembles[1][0]\n",
    "traj_projection = directional_ensembles[FOLDED][0][1].T\n",
    "traj_projection"
   ]
  },
  {
   "cell_type": "raw",
   "id": "99e14834-5aae-4d62-b313-c686f7ee4b5b",
   "metadata": {
    "execution": {
     "iopub.execute_input": "2022-04-05T22:40:47.795348Z",
     "iopub.status.busy": "2022-04-05T22:40:47.795000Z",
     "iopub.status.idle": "2022-04-05T22:41:08.022473Z",
     "shell.execute_reply": "2022-04-05T22:41:08.020372Z",
     "shell.execute_reply.started": "2022-04-05T22:40:47.795302Z"
    },
    "tags": []
   },
   "source": [
    "discrete_traj, combined_centers, bin_coundaries = stratified_cluster(\n",
    "    tic_bins, directional_ensembles[UNFOLDED], 10, 0)"
   ]
  },
  {
   "cell_type": "markdown",
   "id": "229decd1-a6a0-4519-b2c5-3e34a50a4b67",
   "metadata": {},
   "source": [
    "# MSM Building"
   ]
  },
  {
   "cell_type": "markdown",
   "id": "904976a8-5579-41e1-b1c9-e7b6aa5b5f70",
   "metadata": {
    "jp-MarkdownHeadingCollapsed": true,
    "tags": []
   },
   "source": [
    "## Independent haMSMs"
   ]
  },
  {
   "cell_type": "code",
   "execution_count": 23,
   "id": "71fce11f-66ab-48c6-bcb4-673b717f720d",
   "metadata": {
    "execution": {
     "iopub.execute_input": "2022-04-07T22:48:33.768832Z",
     "iopub.status.busy": "2022-04-07T22:48:33.768479Z",
     "iopub.status.idle": "2022-04-07T22:48:33.775102Z",
     "shell.execute_reply": "2022-04-07T22:48:33.773800Z",
     "shell.execute_reply.started": "2022-04-07T22:48:33.768774Z"
    },
    "tags": []
   },
   "outputs": [],
   "source": [
    "def symmetrize(count_model, lag):\n",
    "    \n",
    "    symmetric_count_matrix = count_model.count_matrix + count_model.count_matrix.T\n",
    "    symmetric_count_model = TransitionCountModel(symmetric_count_matrix, \n",
    "                                             lagtime=count_model.lagtime, counting_mode='sliding')\n",
    "\n",
    "    symm_msm =  MaximumLikelihoodMSM(reversible=True).fit_fetch(\n",
    "    symmetric_count_model.submodel_largest())\n",
    "\n",
    "    msm = symm_msm\n",
    "\n",
    "    return symm_msm"
   ]
  },
  {
   "cell_type": "code",
   "execution_count": 32,
   "id": "4baee846-2205-4896-b017-32656e295425",
   "metadata": {
    "execution": {
     "iopub.execute_input": "2022-04-07T22:53:10.871739Z",
     "iopub.status.busy": "2022-04-07T22:53:10.871086Z",
     "iopub.status.idle": "2022-04-07T22:53:10.877235Z",
     "shell.execute_reply": "2022-04-07T22:53:10.876298Z",
     "shell.execute_reply.started": "2022-04-07T22:53:10.871703Z"
    },
    "tags": []
   },
   "outputs": [
    {
     "name": "stdout",
     "output_type": "stream",
     "text": [
      "5\n"
     ]
    }
   ],
   "source": [
    "msm_lag = 5 # 10ns\n",
    "print(msm_lag)\n",
    "\n",
    "# thresholds = {FOLDED:[folded_thresh, 0], UNFOLDED:[-35, unfolded_thresh]}\n",
    "# thresholds = {FOLDED:[-35, 10], UNFOLDED:[-35, 10]}\n",
    "\n",
    "\n",
    "thresh = [folded_thresh, unfolded_thresh]\n",
    "thresholds = {FOLDED:thresh, UNFOLDED:thresh}\n",
    "\n",
    "direction = FOLDED\n",
    "directions = ['NONE', 'Unfolding', \"Folding\"]"
   ]
  },
  {
   "cell_type": "raw",
   "id": "b0412cab-96f6-4ca6-b6e1-cefea9ca02c7",
   "metadata": {
    "execution": {
     "iopub.execute_input": "2022-04-06T19:48:57.781344Z",
     "iopub.status.busy": "2022-04-06T19:48:57.781099Z",
     "iopub.status.idle": "2022-04-06T19:50:09.803848Z",
     "shell.execute_reply": "2022-04-06T19:50:09.802684Z",
     "shell.execute_reply.started": "2022-04-06T19:48:57.781325Z"
    },
    "tags": []
   },
   "source": [
    "\n",
    "# for directional_trajectories in [directional_ensembles[direction]]:\n",
    "msms = {}\n",
    "all_discrete_trajectories = {}\n",
    "all_kmeans = {}\n",
    "\n",
    "tic_threshs = {UNFOLDED:[-20, 15], FOLDED:[-45, 10]}\n",
    "for direction, directional_trajectories in directional_ensembles.items():\n",
    "    \n",
    "    if len(directional_trajectories) == 0: continue\n",
    "    \n",
    "    n_clusters = 1000\n",
    "    n_strat_bins = 10\n",
    "    clusters_per_strat = n_clusters // n_strat_bins\n",
    "\n",
    "    tic_rmsd = 0\n",
    "\n",
    "    tic_bins = np.linspace(*tic_threshs[direction], n_strat_bins)\n",
    "    \n",
    "    \n",
    "    \n",
    "    print(f'** Direction: {directions[direction]}')\n",
    "    \n",
    "\n",
    "    discrete_stratified, combined_kmeans_centers, bin_boundaries = stratified_cluster(\n",
    "        tic_bins, directional_trajectories, clusters_per_strat, tic_rmsd)\n",
    "\n",
    "    discrete_trajectories = [x.astype(int) for x in discrete_stratified]\n",
    "    count_model = TransitionCountEstimator(msm_lag, 'sliding').fit_fetch(discrete_trajectories)\n",
    "    asymm_msm = MaximumLikelihoodMSM(reversible=True).fit_fetch(count_model.submodel_largest())\n",
    "\n",
    "    symm_msm = symmetrize(count_model, lag)\n",
    "    \n",
    "    msms[direction] = symm_msm\n",
    "    all_discrete_trajectories[direction] = discrete_trajectories\n",
    "    all_kmeans[direction] = combined_kmeans_centers\n",
    "    \n",
    "    \n",
    "    \n",
    "    \n",
    "    _folded_thresh, _unfolded_thresh = thresholds[direction]\n",
    "    unfolded = np.argwhere(combined_kmeans_centers[:, tic_rmsd].flatten() > _unfolded_thresh).flatten()\n",
    "    folded = np.argwhere(combined_kmeans_centers[:, tic_rmsd].flatten() < _folded_thresh).flatten()\n",
    "    \n",
    "    print(unfolded, folded)\n",
    "    \n",
    "    mfpt_folding = symm_msm.mfpt(unfolded.flatten(), folded.flatten())\n",
    "    mfpt_unfolding = symm_msm.mfpt(folded.flatten(), unfolded.flatten()) #mfpt_folding, mfpt_unfolding\n",
    "\n",
    "    \n",
    "    print(f\"Folding time: {mfpt_folding * 200 * 10 / 1000:.2f} ns\")\n",
    "    print(f\"Folding steps: {mfpt_folding :.0f} steps\\n\")\n",
    "\n",
    "    print(f\"Unfolding time: {mfpt_unfolding * 200 * 10  / 1000:.2f} ns\")\n",
    "    print(f\"Unfolding steps: {mfpt_unfolding :.0f} steps\")\n",
    "    # ~500 steps @ 200ps/step = 0.1µs"
   ]
  },
  {
   "cell_type": "code",
   "execution_count": 33,
   "id": "0dec39b1-d1eb-48f1-97b1-31812a0ab61b",
   "metadata": {
    "execution": {
     "iopub.execute_input": "2022-04-07T22:53:21.143552Z",
     "iopub.status.busy": "2022-04-07T22:53:21.143124Z",
     "iopub.status.idle": "2022-04-07T22:53:58.702195Z",
     "shell.execute_reply": "2022-04-07T22:53:58.701020Z",
     "shell.execute_reply.started": "2022-04-07T22:53:21.143510Z"
    },
    "tags": []
   },
   "outputs": [
    {
     "name": "stdout",
     "output_type": "stream",
     "text": [
      "-45 15\n",
      "[1044000]\n"
     ]
    },
    {
     "data": {
      "application/vnd.jupyter.widget-view+json": {
       "model_id": "e480b4595be543209b77ce1fafa9e7a1",
       "version_major": 2,
       "version_minor": 0
      },
      "text/plain": [
       "  0%|          | 0/11 [00:00<?, ?it/s]"
      ]
     },
     "metadata": {},
     "output_type": "display_data"
    }
   ],
   "source": [
    "# for directional_trajectories in [directional_ensembles[direction]]:\n",
    "msms = {}\n",
    "all_discrete_trajectories = {}\n",
    "all_kmeans = {}\n",
    "\n",
    "# Shared discretization\n",
    "   \n",
    "n_clusters = 200\n",
    "n_strat_bins = 10\n",
    "clusters_per_strat = n_clusters // n_strat_bins\n",
    "\n",
    "tic_rmsd = 0\n",
    "\n",
    "# tic_threshs = {UNFOLDED:[-20, 15], FOLDED:[-45, 10]}\n",
    "print(folded_thresh, unfolded_thresh)\n",
    "tic_bins = np.linspace(folded_thresh, unfolded_thresh, n_strat_bins)\n",
    "discrete_stratified, combined_kmeans_centers, bin_boundaries = stratified_cluster(\n",
    "    tic_bins, \n",
    "    [[np.arange(len(projection)), projection.T]], \n",
    "    clusters_per_strat, tic_rmsd)"
   ]
  },
  {
   "cell_type": "code",
   "execution_count": 37,
   "id": "e3030721-8075-461f-ac1c-10059975a040",
   "metadata": {
    "execution": {
     "iopub.execute_input": "2022-04-07T22:55:08.685466Z",
     "iopub.status.busy": "2022-04-07T22:55:08.685059Z",
     "iopub.status.idle": "2022-04-07T22:55:08.800228Z",
     "shell.execute_reply": "2022-04-07T22:55:08.798370Z",
     "shell.execute_reply.started": "2022-04-07T22:55:08.685420Z"
    },
    "tags": []
   },
   "outputs": [
    {
     "name": "stdout",
     "output_type": "stream",
     "text": [
      "Last in: NONE\n",
      "Last in: Folding\n",
      "186 active states\n"
     ]
    },
    {
     "ename": "ValueError",
     "evalue": "zero-size array to reduction operation maximum which has no identity",
     "output_type": "error",
     "traceback": [
      "\u001B[0;31m---------------------------------------------------------------------------\u001B[0m",
      "\u001B[0;31mValueError\u001B[0m                                Traceback (most recent call last)",
      "Input \u001B[0;32mIn [37]\u001B[0m, in \u001B[0;36m<module>\u001B[0;34m\u001B[0m\n\u001B[1;32m     39\u001B[0m _unfolded \u001B[38;5;241m=\u001B[39m [remap[x] \u001B[38;5;28;01mfor\u001B[39;00m x \u001B[38;5;129;01min\u001B[39;00m unfolded \u001B[38;5;28;01mif\u001B[39;00m x \u001B[38;5;129;01min\u001B[39;00m remap\u001B[38;5;241m.\u001B[39mkeys()]\n\u001B[1;32m     40\u001B[0m _folded \u001B[38;5;241m=\u001B[39m [remap[x] \u001B[38;5;28;01mfor\u001B[39;00m x \u001B[38;5;129;01min\u001B[39;00m folded \u001B[38;5;28;01mif\u001B[39;00m x \u001B[38;5;129;01min\u001B[39;00m remap\u001B[38;5;241m.\u001B[39mkeys()]\n\u001B[0;32m---> 42\u001B[0m mfpt_folding \u001B[38;5;241m=\u001B[39m \u001B[43msymm_msm\u001B[49m\u001B[38;5;241;43m.\u001B[39;49m\u001B[43mmfpt\u001B[49m\u001B[43m(\u001B[49m\u001B[43m_unfolded\u001B[49m\u001B[43m,\u001B[49m\u001B[43m \u001B[49m\u001B[43m_folded\u001B[49m\u001B[43m)\u001B[49m\n\u001B[1;32m     43\u001B[0m mfpt_unfolding \u001B[38;5;241m=\u001B[39m symm_msm\u001B[38;5;241m.\u001B[39mmfpt(_folded, _unfolded) \u001B[38;5;66;03m#mfpt_folding, mfpt_unfolding\u001B[39;00m\n\u001B[1;32m     44\u001B[0m \u001B[38;5;66;03m# print(mfpt_unfolding)\u001B[39;00m\n\u001B[1;32m     45\u001B[0m \u001B[38;5;66;03m# mfpt_unfolding = mfpt(symm_msm.transition_matrix, _unfolded, _folded, tau=msm_lag)\u001B[39;00m\n\u001B[1;32m     46\u001B[0m \u001B[38;5;66;03m# mfpt_folding = mfpt(symm_msm.transition_matrix, _folded, _unfolded, tau=msm_lag)\u001B[39;00m\n\u001B[1;32m     47\u001B[0m \u001B[38;5;66;03m# print(mfpt_unfolding)\u001B[39;00m\n",
      "File \u001B[0;32m~/opt/anaconda3/envs/protein-like_msm/lib/python3.9/site-packages/deeptime/markov/msm/_markov_state_model.py:617\u001B[0m, in \u001B[0;36mMarkovStateModel.mfpt\u001B[0;34m(self, A, B)\u001B[0m\n\u001B[1;32m    607\u001B[0m \u001B[38;5;124;03m\"\"\"Mean first passage times from set A to set B, in units of the input trajectory time step.\u001B[39;00m\n\u001B[1;32m    608\u001B[0m \n\u001B[1;32m    609\u001B[0m \u001B[38;5;124;03mParameters\u001B[39;00m\n\u001B[0;32m   (...)\u001B[0m\n\u001B[1;32m    614\u001B[0m \u001B[38;5;124;03m    set of target states\u001B[39;00m\n\u001B[1;32m    615\u001B[0m \u001B[38;5;124;03m\"\"\"\u001B[39;00m\n\u001B[1;32m    616\u001B[0m \u001B[38;5;28;01mfrom\u001B[39;00m \u001B[38;5;21;01mdeeptime\u001B[39;00m\u001B[38;5;21;01m.\u001B[39;00m\u001B[38;5;21;01mmarkov\u001B[39;00m\u001B[38;5;21;01m.\u001B[39;00m\u001B[38;5;21;01mtools\u001B[39;00m\u001B[38;5;21;01m.\u001B[39;00m\u001B[38;5;21;01manalysis\u001B[39;00m \u001B[38;5;28;01mimport\u001B[39;00m mfpt\n\u001B[0;32m--> 617\u001B[0m \u001B[38;5;28;43mself\u001B[39;49m\u001B[38;5;241;43m.\u001B[39;49m\u001B[43m_assert_in_active\u001B[49m\u001B[43m(\u001B[49m\u001B[43mA\u001B[49m\u001B[43m)\u001B[49m\n\u001B[1;32m    618\u001B[0m \u001B[38;5;28mself\u001B[39m\u001B[38;5;241m.\u001B[39m_assert_in_active(B)\n\u001B[1;32m    619\u001B[0m \u001B[38;5;28;01mreturn\u001B[39;00m mfpt(\u001B[38;5;28mself\u001B[39m\u001B[38;5;241m.\u001B[39mtransition_matrix, B, tau\u001B[38;5;241m=\u001B[39m\u001B[38;5;28mself\u001B[39m\u001B[38;5;241m.\u001B[39mlagtime, origin\u001B[38;5;241m=\u001B[39mA, mu\u001B[38;5;241m=\u001B[39m\u001B[38;5;28mself\u001B[39m\u001B[38;5;241m.\u001B[39mstationary_distribution)\n",
      "File \u001B[0;32m~/opt/anaconda3/envs/protein-like_msm/lib/python3.9/site-packages/deeptime/markov/msm/_markov_state_model.py:603\u001B[0m, in \u001B[0;36mMarkovStateModel._assert_in_active\u001B[0;34m(self, A)\u001B[0m\n\u001B[1;32m    594\u001B[0m \u001B[38;5;28;01mdef\u001B[39;00m \u001B[38;5;21m_assert_in_active\u001B[39m(\u001B[38;5;28mself\u001B[39m, A):\n\u001B[1;32m    595\u001B[0m     \u001B[38;5;124;03m\"\"\"\u001B[39;00m\n\u001B[1;32m    596\u001B[0m \u001B[38;5;124;03m    Checks if set A is within the active set\u001B[39;00m\n\u001B[1;32m    597\u001B[0m \n\u001B[0;32m   (...)\u001B[0m\n\u001B[1;32m    601\u001B[0m \u001B[38;5;124;03m        set of states\u001B[39;00m\n\u001B[1;32m    602\u001B[0m \u001B[38;5;124;03m    \"\"\"\u001B[39;00m\n\u001B[0;32m--> 603\u001B[0m     \u001B[38;5;28;01mif\u001B[39;00m \u001B[43mnp\u001B[49m\u001B[38;5;241;43m.\u001B[39;49m\u001B[43mmax\u001B[49m\u001B[43m(\u001B[49m\u001B[43mA\u001B[49m\u001B[43m)\u001B[49m \u001B[38;5;241m>\u001B[39m \u001B[38;5;28mself\u001B[39m\u001B[38;5;241m.\u001B[39mn_states:\n\u001B[1;32m    604\u001B[0m         \u001B[38;5;28;01mraise\u001B[39;00m \u001B[38;5;167;01mValueError\u001B[39;00m(\u001B[38;5;124m'\u001B[39m\u001B[38;5;124mChosen set contains states that are not included in the active set.\u001B[39m\u001B[38;5;124m'\u001B[39m)\n",
      "File \u001B[0;32m<__array_function__ internals>:180\u001B[0m, in \u001B[0;36mamax\u001B[0;34m(*args, **kwargs)\u001B[0m\n",
      "File \u001B[0;32m~/opt/anaconda3/envs/protein-like_msm/lib/python3.9/site-packages/numpy/core/fromnumeric.py:2791\u001B[0m, in \u001B[0;36mamax\u001B[0;34m(a, axis, out, keepdims, initial, where)\u001B[0m\n\u001B[1;32m   2675\u001B[0m \u001B[38;5;129m@array_function_dispatch\u001B[39m(_amax_dispatcher)\n\u001B[1;32m   2676\u001B[0m \u001B[38;5;28;01mdef\u001B[39;00m \u001B[38;5;21mamax\u001B[39m(a, axis\u001B[38;5;241m=\u001B[39m\u001B[38;5;28;01mNone\u001B[39;00m, out\u001B[38;5;241m=\u001B[39m\u001B[38;5;28;01mNone\u001B[39;00m, keepdims\u001B[38;5;241m=\u001B[39mnp\u001B[38;5;241m.\u001B[39m_NoValue, initial\u001B[38;5;241m=\u001B[39mnp\u001B[38;5;241m.\u001B[39m_NoValue,\n\u001B[1;32m   2677\u001B[0m          where\u001B[38;5;241m=\u001B[39mnp\u001B[38;5;241m.\u001B[39m_NoValue):\n\u001B[1;32m   2678\u001B[0m     \u001B[38;5;124;03m\"\"\"\u001B[39;00m\n\u001B[1;32m   2679\u001B[0m \u001B[38;5;124;03m    Return the maximum of an array or maximum along an axis.\u001B[39;00m\n\u001B[1;32m   2680\u001B[0m \n\u001B[0;32m   (...)\u001B[0m\n\u001B[1;32m   2789\u001B[0m \u001B[38;5;124;03m    5\u001B[39;00m\n\u001B[1;32m   2790\u001B[0m \u001B[38;5;124;03m    \"\"\"\u001B[39;00m\n\u001B[0;32m-> 2791\u001B[0m     \u001B[38;5;28;01mreturn\u001B[39;00m \u001B[43m_wrapreduction\u001B[49m\u001B[43m(\u001B[49m\u001B[43ma\u001B[49m\u001B[43m,\u001B[49m\u001B[43m \u001B[49m\u001B[43mnp\u001B[49m\u001B[38;5;241;43m.\u001B[39;49m\u001B[43mmaximum\u001B[49m\u001B[43m,\u001B[49m\u001B[43m \u001B[49m\u001B[38;5;124;43m'\u001B[39;49m\u001B[38;5;124;43mmax\u001B[39;49m\u001B[38;5;124;43m'\u001B[39;49m\u001B[43m,\u001B[49m\u001B[43m \u001B[49m\u001B[43maxis\u001B[49m\u001B[43m,\u001B[49m\u001B[43m \u001B[49m\u001B[38;5;28;43;01mNone\u001B[39;49;00m\u001B[43m,\u001B[49m\u001B[43m \u001B[49m\u001B[43mout\u001B[49m\u001B[43m,\u001B[49m\n\u001B[1;32m   2792\u001B[0m \u001B[43m                          \u001B[49m\u001B[43mkeepdims\u001B[49m\u001B[38;5;241;43m=\u001B[39;49m\u001B[43mkeepdims\u001B[49m\u001B[43m,\u001B[49m\u001B[43m \u001B[49m\u001B[43minitial\u001B[49m\u001B[38;5;241;43m=\u001B[39;49m\u001B[43minitial\u001B[49m\u001B[43m,\u001B[49m\u001B[43m \u001B[49m\u001B[43mwhere\u001B[49m\u001B[38;5;241;43m=\u001B[39;49m\u001B[43mwhere\u001B[49m\u001B[43m)\u001B[49m\n",
      "File \u001B[0;32m~/opt/anaconda3/envs/protein-like_msm/lib/python3.9/site-packages/numpy/core/fromnumeric.py:86\u001B[0m, in \u001B[0;36m_wrapreduction\u001B[0;34m(obj, ufunc, method, axis, dtype, out, **kwargs)\u001B[0m\n\u001B[1;32m     83\u001B[0m         \u001B[38;5;28;01melse\u001B[39;00m:\n\u001B[1;32m     84\u001B[0m             \u001B[38;5;28;01mreturn\u001B[39;00m reduction(axis\u001B[38;5;241m=\u001B[39maxis, out\u001B[38;5;241m=\u001B[39mout, \u001B[38;5;241m*\u001B[39m\u001B[38;5;241m*\u001B[39mpasskwargs)\n\u001B[0;32m---> 86\u001B[0m \u001B[38;5;28;01mreturn\u001B[39;00m \u001B[43mufunc\u001B[49m\u001B[38;5;241;43m.\u001B[39;49m\u001B[43mreduce\u001B[49m\u001B[43m(\u001B[49m\u001B[43mobj\u001B[49m\u001B[43m,\u001B[49m\u001B[43m \u001B[49m\u001B[43maxis\u001B[49m\u001B[43m,\u001B[49m\u001B[43m \u001B[49m\u001B[43mdtype\u001B[49m\u001B[43m,\u001B[49m\u001B[43m \u001B[49m\u001B[43mout\u001B[49m\u001B[43m,\u001B[49m\u001B[43m \u001B[49m\u001B[38;5;241;43m*\u001B[39;49m\u001B[38;5;241;43m*\u001B[39;49m\u001B[43mpasskwargs\u001B[49m\u001B[43m)\u001B[49m\n",
      "\u001B[0;31mValueError\u001B[0m: zero-size array to reduction operation maximum which has no identity"
     ]
    }
   ],
   "source": [
    "_folded_thresh, _unfolded_thresh = thresholds[direction]\n",
    "unfolded = np.argwhere(combined_kmeans_centers[:, tic_rmsd].flatten() > _unfolded_thresh).flatten()\n",
    "folded = np.argwhere(combined_kmeans_centers[:, tic_rmsd].flatten() < _folded_thresh).flatten()\n",
    "\n",
    "all_active_states = {}\n",
    "uncleaned_msms = {}\n",
    "remapped_trajs = {}\n",
    "\n",
    "for direction, directional_trajectories in directional_ensembles.items():\n",
    "    \n",
    "    print(f\"Last in: {directions[direction]}\")\n",
    "    if len(directional_trajectories) == 0: continue\n",
    "    if direction == 0: continue\n",
    "    \n",
    "#     discrete_stratified, combined_kmeans_centers, bin_boundaries = stratified_cluster(\n",
    "#         tic_bins, directional_trajectories, clusters_per_strat, tic_rmsd)\n",
    "\n",
    "    # discrete_trajectories = [x.astype(int) for x in discrete_stratified]\n",
    "    \n",
    "    # Get the discrete trajectories\n",
    "    trajectory_indices = [x[0] for x in directional_trajectories]\n",
    "    discrete_trajectories = [discrete_stratified[0][indices].astype(int) for indices in trajectory_indices]\n",
    "    \n",
    "    count_model = TransitionCountEstimator(msm_lag, 'sliding-effective').fit_fetch(discrete_trajectories)\n",
    "    asymm_msm = MaximumLikelihoodMSM(reversible=False).fit_fetch(count_model.submodel_largest())\n",
    "\n",
    "    symm_msm = asymm_msm#\n",
    "    # symm_msm = symmetrize(count_model, lag)\n",
    "    print(f\"{symm_msm.n_states} active states\")\n",
    "    \n",
    "    uncleaned_msms[direction] = symm_msm\n",
    "    all_discrete_trajectories[direction] = discrete_trajectories\n",
    "    all_kmeans[direction] = combined_kmeans_centers\n",
    "    \n",
    "    # active_states = np.argwhere(count_model.state_histogram).flatten()\n",
    "    active_states = count_model.connected_sets()[0]\n",
    "    remap = {j:i for i,j in enumerate(active_states)}\n",
    "    all_active_states[direction] = active_states\n",
    "    _unfolded = [remap[x] for x in unfolded if x in remap.keys()]\n",
    "    _folded = [remap[x] for x in folded if x in remap.keys()]\n",
    "    \n",
    "    mfpt_folding = symm_msm.mfpt(_unfolded, _folded)\n",
    "    mfpt_unfolding = symm_msm.mfpt(_folded, _unfolded) #mfpt_folding, mfpt_unfolding\n",
    "    # print(mfpt_unfolding)\n",
    "    # mfpt_unfolding = mfpt(symm_msm.transition_matrix, _unfolded, _folded, tau=msm_lag)\n",
    "    # mfpt_folding = mfpt(symm_msm.transition_matrix, _folded, _unfolded, tau=msm_lag)\n",
    "    # print(mfpt_unfolding)\n",
    "    \n",
    "    print('*** Pre-cleaning')\n",
    "    # MFPT are in units of the input trajectory time\n",
    "    print(f\"Folding time: {mfpt_folding * 200 * 100 / 1000:.2f} ns\")\n",
    "    print(f\"Folding steps: {mfpt_folding :.0f} steps\\n\")\n",
    "\n",
    "    print(f\"Unfolding time: {mfpt_unfolding * 200 * 100 / 1000:.2f} ns\")\n",
    "    print(f\"Unfolding steps: {mfpt_unfolding :.0f} steps\")\n",
    "    # ~500 steps @ 200ps/step = 0.1µs"
   ]
  },
  {
   "cell_type": "code",
   "execution_count": 29,
   "id": "06c51db4-2c19-483f-bf17-efc2cf16cee4",
   "metadata": {
    "execution": {
     "iopub.execute_input": "2022-04-07T22:49:43.800124Z",
     "iopub.status.busy": "2022-04-07T22:49:43.799784Z",
     "iopub.status.idle": "2022-04-07T22:49:43.815585Z",
     "shell.execute_reply": "2022-04-07T22:49:43.814369Z",
     "shell.execute_reply.started": "2022-04-07T22:49:43.800095Z"
    },
    "tags": []
   },
   "outputs": [],
   "source": [
    "minimum_set = np.intersect1d(*[x.count_model.connected_sets()[0] for x in uncleaned_msms.values()])\n",
    "\n",
    "msms = {}\n",
    "# remaps = {}\n",
    "# remapped_discrete_trajectories = {}\n",
    "for key, value in uncleaned_msms.items():\n",
    "    \n",
    "    msms[key] = value.submodel(minimum_set)\n",
    "    \n",
    "    # remap = {old_state_index:consecutive_index for consecutive_index, old_state_index in \n",
    "    #          enumerate(msms[key].count_model.connected_sets()[0])}\n",
    "    # remaps[key] = remap"
   ]
  },
  {
   "cell_type": "markdown",
   "id": "540cf8dc-dc7e-46d7-b940-98e8bb8e2880",
   "metadata": {},
   "source": [
    "### Build the structure map"
   ]
  },
  {
   "cell_type": "code",
   "execution_count": 30,
   "id": "647e874c-a7eb-43f8-a1ae-385584134049",
   "metadata": {
    "execution": {
     "iopub.execute_input": "2022-04-07T22:49:48.972208Z",
     "iopub.status.busy": "2022-04-07T22:49:48.971721Z",
     "iopub.status.idle": "2022-04-07T22:49:50.993564Z",
     "shell.execute_reply": "2022-04-07T22:49:50.992472Z",
     "shell.execute_reply.started": "2022-04-07T22:49:48.972175Z"
    },
    "tags": []
   },
   "outputs": [
    {
     "name": "stdout",
     "output_type": "stream",
     "text": [
      "Processing direction Folding\n",
      "182 states\n",
      "Processing direction Unfolding\n",
      "182 states\n"
     ]
    }
   ],
   "source": [
    "# For all directions, get representative structures for each cluster\n",
    "structure_maps = {}\n",
    "remapped_directional_ensembles = {}\n",
    "remaps = {}\n",
    "all_active_states = {}\n",
    "\n",
    "n_total_states = None\n",
    "for direction, directional_trajectories in directional_ensembles.items():\n",
    "    \n",
    "    \n",
    "    if direction == NONE: continue\n",
    "    \n",
    "    print(f\"Processing direction {directions[direction]}\")\n",
    "    \n",
    "    discrete_trajectories = all_discrete_trajectories[direction]\n",
    "    \n",
    "    # Get the indices of the points in each bin\n",
    "    time_indices = [x[0] for x in directional_trajectories]\n",
    "    \n",
    "    n_states = msms[direction].transition_matrix.shape[0]\n",
    "    print(f\"{n_states} states\")\n",
    "    \n",
    "    active_states = msms[direction].count_model.connected_sets()[0]\n",
    "    all_active_states[direction] = active_states\n",
    "    # Maps non-consecutive states to their consecutive indices\n",
    "    consecutive_states = {}\n",
    "    for consecutive_index, original_index in enumerate(np.unique([ i for sl in discrete_trajectories for i in sl])):\n",
    "#     for i, j in enumerate(msms[direction].count_model.connected_sets()[0]):\n",
    "        consecutive_states[original_index] = consecutive_index\n",
    "    \n",
    "        \n",
    "    remaps[direction] = consecutive_states\n",
    "        \n",
    "    remapped_trajectories = [np.array([consecutive_states[x] for x in traj], dtype=int) \n",
    "                             for traj in discrete_trajectories]\n",
    "    \n",
    "#     remapped_directional_ensembles[direction] = remapped_trajectories\n",
    "        \n",
    "    # print(n_states, len(consecutive_states))\n",
    "    # assert len(consecutive_states) == n_states\n",
    "    \n",
    "    structure_map = {}\n",
    "    # Now pick a representative structure for each cluster\n",
    "    # for cluster_idx in range(n_states):\n",
    "    for cluster_idx in active_states:\n",
    "        \n",
    "        # state_idx = consecutive_states[cluster_idx]\n",
    "        \n",
    "        # First, find all points in this cluster\n",
    "        indices_in_cluster = []\n",
    "        for i, traj in enumerate(remapped_trajectories):\n",
    "        # for i, traj in enumerate(discrete_trajectories):\n",
    "            in_cluster = np.argwhere(traj == cluster_idx).flatten()\n",
    "            indices_in_cluster.extend([i, x] for x in in_cluster)\n",
    "            \n",
    "        if len(indices_in_cluster) == 0:\n",
    "            print(f'No structures in cluster {cluster_idx} for direction {direction}')\n",
    "            continue\n",
    "\n",
    "        # Now, randomly pick one as representative\n",
    "        random = indices_in_cluster[np.random.choice(np.arange(len(indices_in_cluster)))]\n",
    "        \n",
    "        # And get its index in the full trajectory\n",
    "        representative_index = directional_trajectories[random[0]][0][random[1]]\n",
    "        \n",
    "        representative_structure = continuous_trajectory.trajectory[representative_index].positions\n",
    "        \n",
    "        structure_map[cluster_idx] = [representative_structure, None, representative_index]\n",
    "    \n",
    "    structure_maps[direction] = structure_map"
   ]
  },
  {
   "cell_type": "code",
   "execution_count": 31,
   "id": "5943602f-4e22-4667-b534-af11016dd42d",
   "metadata": {
    "execution": {
     "iopub.execute_input": "2022-04-07T22:50:23.954836Z",
     "iopub.status.busy": "2022-04-07T22:50:23.954332Z",
     "iopub.status.idle": "2022-04-07T22:50:23.967113Z",
     "shell.execute_reply": "2022-04-07T22:50:23.966029Z",
     "shell.execute_reply.started": "2022-04-07T22:50:23.954773Z"
    },
    "tags": []
   },
   "outputs": [
    {
     "name": "stdout",
     "output_type": "stream",
     "text": [
      "[ 0  1  2  3  4  5  6  7  8  9 10 11 12 13 14 15 16 17 18 19]\n",
      "[200 201 202 203 204 205 206 207 208 209 210 211 212 213 214 215 216 217\n",
      " 218 219]\n",
      "[0, 1, 2, 3, 4, 5, 6, 7, 8, 9, 10, 11, 12, 13, 14, 15, 16, 17, 18, 19]\n",
      "[]\n",
      "\n",
      "\n",
      "\n",
      "[ 0  1  2  3  4  5  6  7  8  9 10 11 12 13 14 15 16 17 18 19]\n",
      "[200 201 202 203 204 205 206 207 208 209 210 211 212 213 214 215 216 217\n",
      " 218 219]\n",
      "[0, 1, 2, 3, 4, 5, 6, 7]\n",
      "[176, 177, 178, 179, 180, 181]\n",
      "\n",
      "\n",
      "\n"
     ]
    }
   ],
   "source": [
    "# Define slightly less-restrictive macrostates, so that each haMSM includes some from the other macrostate\n",
    "# These states are initially defined as their k-means center indices. \n",
    "# So, I need to reduce down into the active-state space.\n",
    "\n",
    "all_folded = {}\n",
    "all_unfolded = {}\n",
    "\n",
    "# thresh = [-38, 10]\n",
    "thresh = [folded_thresh, unfolded_thresh]\n",
    "# thresholds = {FOLDED:[-20, 0], UNFOLDED:[-20, 0]}\n",
    "thresholds = {FOLDED:thresh, UNFOLDED:thresh}\n",
    "\n",
    "for direction, remap in remaps.items():\n",
    "    \n",
    "    _folded_thresh, _unfolded_thresh = thresholds[direction]\n",
    "    unfolded = np.argwhere(combined_kmeans_centers[:, tic_rmsd].flatten() > _unfolded_thresh).flatten()\n",
    "    folded = np.argwhere(combined_kmeans_centers[:, tic_rmsd].flatten() < _folded_thresh).flatten()\n",
    "    \n",
    "    # Problem: Unfolded clusters don't contain any folded states\n",
    "    print(folded)\n",
    "    print(unfolded)\n",
    "    \n",
    "    # _folded = [remap[x] for x in folded if x in remap.keys() and x in all_active_states[direction]]\n",
    "    # _unfolded = [remap[x] for x in unfolded if x in remap.keys() and x in all_active_states[direction]]\n",
    "    \n",
    "    _folded = [remap[x] for x in folded if x in remap.keys()]\n",
    "    _unfolded = [remap[x] for x in unfolded if x in remap.keys()]\n",
    "    \n",
    "    _folded = [x for x in _folded if x in all_active_states[direction]]\n",
    "    _unfolded = [x for x in _unfolded if x in all_active_states[direction]]\n",
    "    \n",
    "    print(_folded)\n",
    "    print(_unfolded)\n",
    "    print('\\n\\n')\n",
    "    \n",
    "    all_folded[direction] = _folded\n",
    "    all_unfolded[direction] = _unfolded"
   ]
  },
  {
   "cell_type": "raw",
   "id": "a14fc1f6-2a8a-4159-a54e-52d60df151b2",
   "metadata": {
    "execution": {
     "iopub.execute_input": "2022-04-07T15:24:12.399924Z",
     "iopub.status.busy": "2022-04-07T15:24:12.399504Z",
     "iopub.status.idle": "2022-04-07T15:24:12.442455Z",
     "shell.execute_reply": "2022-04-07T15:24:12.441653Z",
     "shell.execute_reply.started": "2022-04-07T15:24:12.399895Z"
    },
    "tags": []
   },
   "source": [
    "combined_structure_map = {}\n",
    "for _map in structure_maps.values():\n",
    "    combined_structure_map.update(_map)"
   ]
  },
  {
   "cell_type": "code",
   "execution_count": 943,
   "id": "37dbb784-a14b-429b-97b1-5703b9ac49d1",
   "metadata": {
    "execution": {
     "iopub.execute_input": "2022-04-07T15:57:00.696484Z",
     "iopub.status.busy": "2022-04-07T15:57:00.696163Z",
     "iopub.status.idle": "2022-04-07T15:57:00.717902Z",
     "shell.execute_reply": "2022-04-07T15:57:00.717259Z",
     "shell.execute_reply.started": "2022-04-07T15:57:00.696425Z"
    },
    "tags": []
   },
   "outputs": [],
   "source": [
    "np.savez('built_hamsm', \n",
    "         msms=msms,\n",
    "         structure_maps=structure_maps,\n",
    "         # combined_structure_map=combined_structure_map,\n",
    "         all_kmeans=all_kmeans,\n",
    "         tic_rmsd=tic_rmsd,\n",
    "         all_folded=all_folded,\n",
    "         all_unfolded=all_unfolded,\n",
    "         all_active_states=all_active_states\n",
    "        )"
   ]
  },
  {
   "cell_type": "code",
   "execution_count": 942,
   "id": "0cd6a034-6d24-464f-8f2e-9fe6929d1e15",
   "metadata": {
    "execution": {
     "iopub.execute_input": "2022-04-07T15:56:56.040985Z",
     "iopub.status.busy": "2022-04-07T15:56:56.040534Z",
     "iopub.status.idle": "2022-04-07T15:56:56.124713Z",
     "shell.execute_reply": "2022-04-07T15:56:56.123628Z",
     "shell.execute_reply.started": "2022-04-07T15:56:56.040913Z"
    },
    "tags": []
   },
   "outputs": [
    {
     "name": "stdout",
     "output_type": "stream",
     "text": [
      "***\n",
      "Folding time: 6911.71 ns\n",
      "Folding steps: 3456 steps\n",
      "\n",
      "Unfolding time: 95914.24 ns\n",
      "Unfolding steps: 47957 steps\n",
      "\n",
      "\n",
      "***\n",
      "Folding time: 193938.14 ns\n",
      "Folding steps: 96969 steps\n",
      "\n",
      "Unfolding time: 2502.05 ns\n",
      "Unfolding steps: 1251 steps\n",
      "\n",
      "\n"
     ]
    }
   ],
   "source": [
    "for direction, msm in msms.items():\n",
    "    \n",
    "    _unfolded, _folded = all_unfolded[direction], all_folded[direction]\n",
    "    \n",
    "    mfpt_folding = msm.mfpt(_unfolded, _folded)\n",
    "    mfpt_unfolding = msm.mfpt(_folded, _unfolded) #mfpt_folding, mfpt_unfolding\n",
    "\n",
    "    print('***')\n",
    "    print(f\"Folding time: {mfpt_folding * 200 * 10 / 1000:.2f} ns\")\n",
    "    print(f\"Folding steps: {mfpt_folding :.0f} steps\\n\")\n",
    "\n",
    "    print(f\"Unfolding time: {mfpt_unfolding * 200 * 10  / 1000:.2f} ns\")\n",
    "    print(f\"Unfolding steps: {mfpt_unfolding :.0f} steps\\n\\n\")\n",
    "\n",
    "# mfpt_folding, mfpt_unfolding\n",
    "\n",
    "# print(f\"Folding time: {mfpt_folding * 200 * 10 / 1000:.2f} ns\")\n",
    "# print(f\"Folding steps: {mfpt_folding :.0f} steps\\n\")\n",
    "\n",
    "# print(f\"Unfolding time: {mfpt_unfolding * 200 * 10  / 1000:.2f} ns\")\n",
    "# print(f\"Unfolding steps: {mfpt_unfolding :.0f} steps\")\n",
    "# ~500 steps @ 200ps/step = 0.1µs\n",
    "# These MFPTs seem super high?"
   ]
  },
  {
   "cell_type": "markdown",
   "id": "7c5f359c-2542-4e23-97bd-f8fb1476f231",
   "metadata": {},
   "source": [
    "## 2Nx2N combined haMSM\n",
    "\n",
    "**NOTE**: This section is VERY non-idempotent.. run from here to be safe!\n",
    "\n",
    "To build the 2-direction, N-states haMSM as a combined matrix, we want to build a 2Nx2N matrix.\n",
    "\n",
    "1. Discretize the two directional ensembles independently\n",
    "2. Clean them, restricting them only to the shared active set\n",
    "3. Reindex the N states so direction 1 are 0-N, and direction 2 are N-2N\n",
    "4. Apply that discretization to the full trajectory, so it's discretized over 2N states\n",
    "5. Build a shared structure map\n",
    "    The structure map should be indexed as `[state_index%N]`"
   ]
  },
  {
   "cell_type": "code",
   "execution_count": 211,
   "id": "18e3326f-6915-4ffe-8728-b7784c48506c",
   "metadata": {
    "execution": {
     "iopub.execute_input": "2022-04-08T23:09:38.183097Z",
     "iopub.status.busy": "2022-04-08T23:09:38.182607Z",
     "iopub.status.idle": "2022-04-08T23:09:38.203589Z",
     "shell.execute_reply": "2022-04-08T23:09:38.202626Z",
     "shell.execute_reply.started": "2022-04-08T23:09:38.183064Z"
    },
    "tags": []
   },
   "outputs": [],
   "source": [
    "def transform_stratified(cluster_centers, projection, tic_bins, tic_rmsd):\n",
    "    \n",
    "\n",
    "    bin_boundaries = np.concatenate([[-np.inf], tic_bins, [np.inf]])\n",
    "\n",
    "    # all_clusters = []\n",
    "\n",
    "    discretized = [np.full(len(x[1][0]), fill_value=np.nan) for x in projection]\n",
    "    traj_starts = np.cumsum([len(x) for x in discretized])\n",
    "    # print([len(x) for x in discretized])\n",
    "    \n",
    "    cluster_offset = 0\n",
    "\n",
    "    for i, (bin_lower, bin_upper) in tqdm.tqdm(\n",
    "                                            enumerate(zip(bin_boundaries[:-1], bin_boundaries[1:])), \n",
    "                                        total=len(bin_boundaries)-1):\n",
    "\n",
    "        # Make a KMeans estimator using only the cluster centers in this bin\n",
    "        center_idxs_in_bin = np.argwhere(\n",
    "            (cluster_centers[:, tic_rmsd] >= bin_lower) & \n",
    "            (cluster_centers[:, tic_rmsd] < bin_upper)\n",
    "        ).flatten()\n",
    "        \n",
    "        _clustering = KMeansModel(\n",
    "            cluster_centers[center_idxs_in_bin],\n",
    "            metric=\"euclidean\",\n",
    "            # fixed_seed=True\n",
    "        )\n",
    "        print(f\"{center_idxs_in_bin.shape} centers in bin\")\n",
    "        \n",
    "        \n",
    "        # For each trajectory, get its points that fall in the current bin\n",
    "        all_traj_idxs_in_bin = []\n",
    "        all_traj_points_in_bin = []\n",
    "        for traj_idx, (traj_time_indices, traj_projection) in enumerate(projection):\n",
    "            \n",
    "            # print(f\"Traj shape is {traj_projection.shape}\")\n",
    "            assert traj_projection.shape[0] == 10\n",
    "            \n",
    "            # Get the indices of points in the current bin\n",
    "            traj_idxs_in_bin = np.argwhere(\n",
    "                (traj_projection[tic_rmsd, :] >= bin_lower) & \n",
    "                (traj_projection[tic_rmsd, :] < bin_upper)\n",
    "            ).flatten()\n",
    "            \n",
    "            all_traj_idxs_in_bin.append(traj_idxs_in_bin)\n",
    "            \n",
    "            if len(traj_idxs_in_bin) > 0:\n",
    "                \n",
    "                assert len(_clustering._cluster_centers) > 0, f\"Trajs but no cluster centers in bin {i}! {bin_lower} = {bin_upper}\"\n",
    "            \n",
    "            # Now also get the actual points, to make clustering easier\n",
    "            all_traj_points_in_bin.append(traj_projection[:, traj_idxs_in_bin])\n",
    "        \n",
    "        all_points_together = np.hstack(all_traj_points_in_bin).T\n",
    "        # print(f\"All together, shape is {all_points_together.shape}\")\n",
    "        \n",
    "        if all_points_together.shape[0] == 0:\n",
    "            print(f\"No trajs in this set had points in bin {i}\")\n",
    "            continue\n",
    "        \n",
    "        # Now discretize the parts of each trajectory that are in this bin\n",
    "        for traj_idx in range(len(projection)):\n",
    "            \n",
    "            traj_idxs_in_bin = all_traj_idxs_in_bin[traj_idx]\n",
    "            traj_points_in_bin = all_traj_points_in_bin[traj_idx].T\n",
    "            \n",
    "            # print(f\"{traj_idxs_in_bin.shape} points in bin {i}\")\n",
    "            \n",
    "            transformed = _clustering.transform(traj_points_in_bin) + cluster_offset\n",
    "            \n",
    "            # print(transformed)\n",
    "            \n",
    "            discretized[traj_idx][traj_idxs_in_bin] = transformed\n",
    "            \n",
    "        cluster_offset += len(_clustering.cluster_centers)\n",
    "        # print(f\"Cluster offset is now {}\")\n",
    "    \n",
    "    return discretized, combined_kmeans_centers, bin_boundaries"
   ]
  },
  {
   "cell_type": "code",
   "execution_count": 238,
   "id": "fcb2664a-2079-4d42-bed8-5aac2157048a",
   "metadata": {
    "execution": {
     "iopub.execute_input": "2022-04-08T23:13:54.126309Z",
     "iopub.status.busy": "2022-04-08T23:13:54.126076Z",
     "iopub.status.idle": "2022-04-08T23:13:54.130348Z",
     "shell.execute_reply": "2022-04-08T23:13:54.129723Z",
     "shell.execute_reply.started": "2022-04-08T23:13:54.126287Z"
    },
    "tags": []
   },
   "outputs": [],
   "source": [
    "def remap_trajectory(directional_ensembles, full_trajectory, n_centers):\n",
    "    \n",
    "    rediscretized_full = full_trajectory.copy()\n",
    "    \n",
    "    offset = 0\n",
    "    for direction, directional_trajectories in directional_ensembles.items():\n",
    "\n",
    "        # print(f\"Last in: {directions[direction]}\")\n",
    "        if len(directional_trajectories) == 0: continue\n",
    "        if direction == 0: continue\n",
    "\n",
    "        trajectory_indices = [x[0] for x in directional_trajectories]\n",
    "        rediscretized_full[\n",
    "            [i for sl in trajectory_indices for i in sl]] += offset * n_centers\n",
    "\n",
    "        offset += 1\n",
    "        \n",
    "    return rediscretized_full"
   ]
  },
  {
   "cell_type": "markdown",
   "id": "74dd9191-bf67-470b-87dc-ead723d5074c",
   "metadata": {
    "tags": []
   },
   "source": [
    "### Discretize the two directional ensembles separately"
   ]
  },
  {
   "cell_type": "code",
   "execution_count": 379,
   "id": "325eb811-c7d2-44a3-9c3b-075c9788e962",
   "metadata": {
    "execution": {
     "iopub.execute_input": "2022-04-08T23:47:18.629910Z",
     "iopub.status.busy": "2022-04-08T23:47:18.629565Z",
     "iopub.status.idle": "2022-04-08T23:47:18.636463Z",
     "shell.execute_reply": "2022-04-08T23:47:18.635297Z",
     "shell.execute_reply.started": "2022-04-08T23:47:18.629890Z"
    },
    "tags": []
   },
   "outputs": [],
   "source": [
    "all_discrete_trajectories = {}\n",
    "all_kmeans = {}\n",
    "\n",
    "# Shared discretization\n",
    "msm_lag = 5 # 5 steps = 10 ns\n",
    "   \n",
    "n_clusters = 1000\n",
    "n_strat_bins = 24\n",
    "clusters_per_strat = n_clusters // (n_strat_bins+1)\n",
    "\n",
    "tic_rmsd = 0\n",
    "\n",
    "# tic_threshs = {UNFOLDED:[-20, 15], FOLDED:[-45, 10]}\n",
    "# print(folded_thresh, unfolded_thresh)\n",
    "# tic_bins = np.linspace(folded_thresh, unfolded_thresh, n_strat_bins)\n",
    "\n",
    "tic_thresh = [-50, 20]\n",
    "tic_bins = np.linspace(*tic_thresh, n_strat_bins)"
   ]
  },
  {
   "cell_type": "code",
   "execution_count": 380,
   "id": "42a5850f-9e76-4f82-bf0a-fc9c2bc24027",
   "metadata": {
    "execution": {
     "iopub.execute_input": "2022-04-08T23:47:19.097401Z",
     "iopub.status.busy": "2022-04-08T23:47:19.097159Z",
     "iopub.status.idle": "2022-04-08T23:47:19.471921Z",
     "shell.execute_reply": "2022-04-08T23:47:19.471188Z",
     "shell.execute_reply.started": "2022-04-08T23:47:19.097378Z"
    },
    "tags": []
   },
   "outputs": [
    {
     "data": {
      "text/plain": [
       "<matplotlib.lines.Line2D at 0x1644498e0>"
      ]
     },
     "execution_count": 380,
     "metadata": {},
     "output_type": "execute_result"
    },
    {
     "data": {
      "image/png": "[encoded data removed]",
      "text/plain": [
       "<Figure size 1296x288 with 1 Axes>"
      ]
     },
     "metadata": {
      "needs_background": "light"
     },
     "output_type": "display_data"
    }
   ],
   "source": [
    "fig, ax = plt.subplots(figsize=(18,4))\n",
    "\n",
    "[ax.axhline(x, color='k') for x in tic_bins]\n",
    "# ax.plot(projection[:, tic_rmsd], label=f'tIC {tic_rmsd}', color='tab:blue')\n",
    "\n",
    "for start, end in np.vstack([switches[:-1], switches[1:]]).T:\n",
    "    _color = literal_colors[colors[start]]\n",
    "    ax.plot(np.arange(start, end), projection[start:end, tic_rmsd], label=f'tIC {tic_rmsd}', color=_color)\n",
    "\n",
    "ax.axhline(unfolded_thresh, color='limegreen', linewidth=3)\n",
    "ax.axhline(folded_thresh, color='r', linewidth=3)"
   ]
  },
  {
   "cell_type": "code",
   "execution_count": 381,
   "id": "512246ac-fb43-4874-bddd-786082744a2f",
   "metadata": {
    "execution": {
     "iopub.execute_input": "2022-04-08T23:47:21.354143Z",
     "iopub.status.busy": "2022-04-08T23:47:21.353935Z",
     "iopub.status.idle": "2022-04-08T23:48:31.789953Z",
     "shell.execute_reply": "2022-04-08T23:48:31.789175Z",
     "shell.execute_reply.started": "2022-04-08T23:47:21.354121Z"
    },
    "tags": []
   },
   "outputs": [
    {
     "name": "stdout",
     "output_type": "stream",
     "text": [
      "[1044000]\n"
     ]
    },
    {
     "data": {
      "application/vnd.jupyter.widget-view+json": {
       "model_id": "fdbb0e4d6fc14c3e98188c82e459fabb",
       "version_major": 2,
       "version_minor": 0
      },
      "text/plain": [
       "  0%|          | 0/25 [00:00<?, ?it/s]"
      ]
     },
     "metadata": {},
     "output_type": "display_data"
    }
   ],
   "source": [
    "discrete_stratified, combined_kmeans_centers, bin_boundaries = stratified_cluster(\n",
    "    tic_bins, \n",
    "    [[np.arange(len(projection)), projection.T]], \n",
    "    clusters_per_strat, tic_rmsd)"
   ]
  },
  {
   "cell_type": "code",
   "execution_count": 382,
   "id": "f093f7c1-808f-4bf4-b768-0d833ee7ca4d",
   "metadata": {
    "execution": {
     "iopub.execute_input": "2022-04-08T23:48:38.948655Z",
     "iopub.status.busy": "2022-04-08T23:48:38.948380Z",
     "iopub.status.idle": "2022-04-08T23:48:38.955954Z",
     "shell.execute_reply": "2022-04-08T23:48:38.954806Z",
     "shell.execute_reply.started": "2022-04-08T23:48:38.948635Z"
    },
    "tags": []
   },
   "outputs": [
    {
     "data": {
      "text/plain": [
       "(1000, 10)"
      ]
     },
     "execution_count": 382,
     "metadata": {},
     "output_type": "execute_result"
    }
   ],
   "source": [
    "combined_kmeans_centers.shape"
   ]
  },
  {
   "cell_type": "markdown",
   "id": "beb99511-44c2-41ff-94ff-7f21ed26d5ca",
   "metadata": {},
   "source": [
    "The goal of this is just to build the count matrices on the initial attempt at discretizing the trajectory, so we can compare active states"
   ]
  },
  {
   "cell_type": "code",
   "execution_count": 383,
   "id": "33f5cfe5-9535-453d-8845-87d36ac30ed6",
   "metadata": {
    "execution": {
     "iopub.execute_input": "2022-04-08T23:48:39.807692Z",
     "iopub.status.busy": "2022-04-08T23:48:39.807333Z",
     "iopub.status.idle": "2022-04-08T23:48:39.916425Z",
     "shell.execute_reply": "2022-04-08T23:48:39.915575Z",
     "shell.execute_reply.started": "2022-04-08T23:48:39.807659Z"
    },
    "tags": []
   },
   "outputs": [
    {
     "name": "stdout",
     "output_type": "stream",
     "text": [
      "Last in: last-in-none\n",
      "Last in: last_in_folded\n",
      "682\n",
      "Last in: last-in-unfolded\n",
      "655\n"
     ]
    }
   ],
   "source": [
    "# _folded_thresh, _unfolded_thresh = thresholds[direction]\n",
    "# unfolded = np.argwhere(combined_kmeans_centers[:, tic_rmsd].flatten() > _unfolded_thresh).flatten()\n",
    "# folded = np.argwhere(combined_kmeans_centers[:, tic_rmsd].flatten() < _folded_thresh).flatten()\n",
    "unfolded = np.argwhere(combined_kmeans_centers[:, tic_rmsd].flatten() > unfolded_thresh).flatten()\n",
    "folded = np.argwhere(combined_kmeans_centers[:, tic_rmsd].flatten() < folded_thresh).flatten()\n",
    "directions=[\"last-in-none\", \"last-in-unfolded\", \"last_in_folded\"]\n",
    "\n",
    "all_active_states = {}\n",
    "uncleaned_countmodels = {}\n",
    "remapped_trajs = {}\n",
    "\n",
    "# \n",
    "\n",
    "for direction, directional_trajectories in directional_ensembles.items():\n",
    "    \n",
    "    print(f\"Last in: {directions[direction]}\")\n",
    "    if len(directional_trajectories) == 0: continue\n",
    "    if direction == 0: continue\n",
    "    \n",
    "#     discrete_stratified, combined_kmeans_centers, bin_boundaries = stratified_cluster(\n",
    "#         tic_bins, directional_trajectories, clusters_per_strat, tic_rmsd)\n",
    "\n",
    "    # discrete_trajectories = [x.astype(int) for x in discrete_stratified]\n",
    "    \n",
    "    # Get the discrete trajectories\n",
    "    trajectory_indices = [x[0] for x in directional_trajectories]\n",
    "    discrete_trajectories = [discrete_stratified[0][indices].astype(int) for indices in trajectory_indices]\n",
    "    \n",
    "    count_model = TransitionCountEstimator(msm_lag, 'sliding').fit_fetch(discrete_trajectories)\n",
    "    # asymm_msm = MaximumLikelihoodMSM(reversible=False).fit_fetch(count_model.submodel_largest())\n",
    "    # symm_msm = asymm_msm\n",
    "    # print(f\"{count_model.n_states} active states\")\n",
    "    \n",
    "    uncleaned_countmodels[direction] = count_model\n",
    "    all_discrete_trajectories[direction] = discrete_trajectories\n",
    "    all_kmeans[direction] = combined_kmeans_centers\n",
    "    \n",
    "    active_states = count_model.connected_sets()[0]\n",
    "    print(len(active_states))\n",
    "    all_active_states[direction] = active_states"
   ]
  },
  {
   "cell_type": "markdown",
   "id": "05a78cbf-342d-45cf-a322-bb6d2b8bda97",
   "metadata": {},
   "source": [
    "### Build 2Nx2N haMSM"
   ]
  },
  {
   "cell_type": "markdown",
   "id": "11fb581c-549e-4a06-8927-6aea3d095438",
   "metadata": {
    "jp-MarkdownHeadingCollapsed": true,
    "tags": []
   },
   "source": [
    "#### Aggro cleaning\n",
    "\n",
    "Another round of cleaning, this time on the shared states\n",
    "\n",
    "Requires active states to be active in BOTH"
   ]
  },
  {
   "cell_type": "raw",
   "id": "5eebd957-c171-48dc-8431-bf9ff9af8580",
   "metadata": {
    "execution": {
     "iopub.execute_input": "2022-04-08T20:40:54.856001Z",
     "iopub.status.busy": "2022-04-08T20:40:54.855755Z",
     "iopub.status.idle": "2022-04-08T20:40:58.642952Z",
     "shell.execute_reply": "2022-04-08T20:40:58.642244Z",
     "shell.execute_reply.started": "2022-04-08T20:40:54.855981Z"
    },
    "tags": []
   },
   "source": [
    "##### Initial rediscretization\n",
    "\n",
    "#### Option 1\n",
    "minimum_set = np.intersect1d(*[x.connected_sets()[0] for x in uncleaned_countmodels.values()])\n",
    "# countmodels = {}\n",
    "# print(f\"Identified {n_shared_states} shared states\")\n",
    "# for key, value in uncleaned_countmodels.items():\n",
    "    \n",
    "#     countmodels[key] = value.submodel(minimum_set)\n",
    "####\n",
    "    \n",
    "#### Option 2\n",
    "# minimum_set = np.union1d(*[x.connected_sets()[0] for x in uncleaned_countmodels.values()])\n",
    "####\n",
    "n_shared_states = len(minimum_set)\n",
    "\n",
    "# Doesn't matter which direction you pick here, same kmeans \n",
    "minimum_set_kmeans_centers = combined_kmeans_centers[minimum_set]\n",
    "# Metric is the default for the KMeans object, at least empirically seems to be\n",
    "shared_minimum_clustering = KMeansModel(minimum_set_kmeans_centers, metric='euclidean')\n",
    "\n",
    "rediscretized_full = shared_minimum_clustering.transform(projection)\n",
    "\n",
    "offset = 0\n",
    "for direction, directional_trajectories in directional_ensembles.items():\n",
    "    \n",
    "    print(f\"Last in: {directions[direction]}\")\n",
    "    if len(directional_trajectories) == 0: continue\n",
    "    if direction == 0: continue\n",
    "    \n",
    "    trajectory_indices = [x[0] for x in directional_trajectories]\n",
    "    rediscretized_full[\n",
    "        [i for sl in trajectory_indices for i in sl]] += offset * len(minimum_set_kmeans_centers)\n",
    "    \n",
    "    offset += 1\n",
    "\n",
    "# disconnected_states_remain = True\n",
    "count_model = TransitionCountEstimator(msm_lag, 'sliding').fit_fetch(rediscretized_full)\n",
    "disconnected_states_remain = len(count_model.connected_sets()) > 1\n",
    "\n",
    "while disconnected_states_remain:\n",
    "    print(f\"Attempting cleaning, {len(count_model.connected_sets())-1} (2N) unclean states ({count_model.n_states} total (2N))\")\n",
    "\n",
    "    # Identify the shared, active states (in the 1N state-space)\n",
    "    # Is this necessary? Maybe this is too aggressively cleaning\n",
    "    all_clean_combined_states = count_model.connected_sets()[0]\n",
    "    # clean_combined_states = np.unique(all_clean_combined_states % n_shared_states)\n",
    "    clean_combined_states, counts = np.unique(all_clean_combined_states % n_shared_states, return_counts=True)\n",
    "    clean_combined_states = clean_combined_states[counts > 1]\n",
    "    print(f\"{len(clean_combined_states)} (1N) clean states identified\")\n",
    "    \n",
    "    # Rediscretize with those\n",
    "    minimum_set_kmeans_centers = minimum_set_kmeans_centers[clean_combined_states]\n",
    "    shared_minimum_clustering = KMeansModel(minimum_set_kmeans_centers, metric='euclidean')\n",
    "    rediscretized_full = shared_minimum_clustering.transform(projection)\n",
    "    offset = 0\n",
    "    for direction, directional_trajectories in directional_ensembles.items():\n",
    "\n",
    "        print(f\"Last in: {directions[direction]}\")\n",
    "        if len(directional_trajectories) == 0: continue\n",
    "        if direction == 0: continue\n",
    "\n",
    "        trajectory_indices = [x[0] for x in directional_trajectories]\n",
    "        rediscretized_full[\n",
    "            [i for sl in trajectory_indices for i in sl]] += offset * len(clean_combined_states)\n",
    "\n",
    "        offset += 1\n",
    "        \n",
    "        \n",
    "    count_model = TransitionCountEstimator(msm_lag, 'sliding').fit_fetch(rediscretized_full)\n",
    "    disconnected_states_remain = len(count_model.connected_sets()) > 1\n",
    "    \n",
    "n_shared_states = len(clean_combined_states)\n",
    "print(\"Finished cleaning\")"
   ]
  },
  {
   "cell_type": "markdown",
   "id": "0a4f4d6b-3802-4adb-9dca-d682c4509c8c",
   "metadata": {},
   "source": [
    "#### Less aggro cleaning\n",
    "\n",
    "I thought htis would be way more involved -- actually all it requires is changing the intersect to a union at the beginning"
   ]
  },
  {
   "cell_type": "raw",
   "id": "af3e9dae-3b42-438e-b788-d88a4dd82e83",
   "metadata": {
    "execution": {
     "iopub.execute_input": "2022-04-08T22:46:32.754378Z",
     "iopub.status.busy": "2022-04-08T22:46:32.754149Z",
     "iopub.status.idle": "2022-04-08T22:46:32.762824Z",
     "shell.execute_reply": "2022-04-08T22:46:32.762129Z",
     "shell.execute_reply.started": "2022-04-08T22:46:32.754351Z"
    },
    "tags": []
   },
   "source": [
    "minimum_set = np.union1d(*[x.connected_sets()[0] for x in uncleaned_countmodels.values()])\n",
    "n_shared_states = len(minimum_set)\n",
    "# Doesn't matter which direction you pick here, same kmeans \n",
    "minimum_set_kmeans_centers = combined_kmeans_centers#[minimum_set]\n",
    "\n",
    "minimum_set_kmeans_centers.shape"
   ]
  },
  {
   "cell_type": "code",
   "execution_count": 384,
   "id": "f29c43e1-f970-4637-bf3a-c2e60e79a15c",
   "metadata": {
    "execution": {
     "iopub.execute_input": "2022-04-08T23:48:42.082736Z",
     "iopub.status.busy": "2022-04-08T23:48:42.082435Z",
     "iopub.status.idle": "2022-04-08T23:48:43.180439Z",
     "shell.execute_reply": "2022-04-08T23:48:43.179888Z",
     "shell.execute_reply.started": "2022-04-08T23:48:42.082716Z"
    },
    "tags": []
   },
   "outputs": [
    {
     "name": "stdout",
     "output_type": "stream",
     "text": [
      "[  0   1   2   3   4   5   6   7   8   9  10  11  12  13  14  15  16  17\n",
      "  18  19  20  21  22  23  24  25  26  27  28  29  30  31  32  33  34  35\n",
      "  36  37  38  39  40  41  42  43  44  45  46  47  48  49  50  51  52  53\n",
      "  54  55  56  57  58  59  60  61  62  63  64  65  66  67  68  69  70  71\n",
      "  72  73  74  75  76  77  78  79  80  81  82  83  84  85  86  87  88  89\n",
      "  90  91  92  93  94  95  96  97  98  99 100 101 102 103 104 105 106 107\n",
      " 108 109 110 111 112 113 114 115 116 117 118 119 120 121 122 123 124 125\n",
      " 126 127 128 129 130 131 132 133 134 135 136 137 138 139 140 141 142 143\n",
      " 144 145 146 147 148 149 150 151 152 153 154 155 156 157 158 159 160 161\n",
      " 162 163 164 165 166 167 168 169 170 171 172 173 174 175 176 177 178 179\n",
      " 180 181 182 183 184 185 186 187 188 189 190 191 192 193 194 195 196 197\n",
      " 198 199 200 201 202 203 204 205 206 207 208 209 210 211 212 213 214 215\n",
      " 216 217 218 219 220 221 222 223 224 225 226 227 228 229 230 231 232 233\n",
      " 234 235 236 237 238 239 240 241 242 243 244 245 246 247 248 249 250 251\n",
      " 252 253 254 255 256 257 258 259 260 261 262 263 264 265 266 267 268 269\n",
      " 270 271 272 273 274 275 276 277 278 279 280 281 282 283 284 285 286 287\n",
      " 288 289 290 291 292 293 294 295 296 297 298 299 300 301 302 303 304 305\n",
      " 306 307 308 309 310 311 312 313 314 315 316 317 318 319 320 321 322 323\n",
      " 324 325 326 327 328 329 330 331 332 333 334 335 336 337 338 339 340 341\n",
      " 342 343 344 345 346 347 348 349 350 351 352 353 354 355 356 357 358 359\n",
      " 360 361 362 363 364 365 366 367 368 369 370 371 372 373 374 375 376 377\n",
      " 378 379 380 381 382 383 384 385 386 387 388 389 390 391 392 393 394 395\n",
      " 396 397 398 399 400 401 402 403 404 405 406 407 408 409 410 411 412 413\n",
      " 414 415 416 417 418 419 420 421 422 423 424 425 426 427 428 429 430 431\n",
      " 432 433 434 435 436 437 438 439 440 441 442 443 444 445 446 447 448 449\n",
      " 450 451 452 453 454 455 456 457 458 459 460 461 462 463 464 465 466 467\n",
      " 468 469 470 471 472 473 474 475 476 477 478 479 480 481 482 483 484 485\n",
      " 486 487 488 489 490 491 492 493 494 495 496 497 498 499 500 501 502 503\n",
      " 504 505 506 507 508 509 510 511 512 513 514 515 516 517 518 519 520 521\n",
      " 522 523 524 525 526 527 528 529 530 531 532 533 534 535 536 537 538 539\n",
      " 540 541 542 543 544 545 546 547 548 549 550 551 552 553 554 555 556 557\n",
      " 558 559 560 561 562 563 564 565 566 567 568 569 570 571 572 573 574 575\n",
      " 576 577 578 579 580 581 582 583 584 585 586 587 588 589 590 591 592 593\n",
      " 594 595 596 597 598 599 600 601 602 603 604 605 606 607 608 609 610 611\n",
      " 612 613 614 615 616 617 618 619 620 621 622 623 624 625 626 627 628 629\n",
      " 630 631 632 633 634 635 636 637 638 639 640 641 642 643 644 645 646 647\n",
      " 648 649 650 651 652 653 654 655 656 657 658 659 660 661 662 663 664 665\n",
      " 666 667 668 669 670 671 672 673 674 675 676 677 678 679 680 681 682 683\n",
      " 684 685 686 687 688 689 690 691 692 693 694 695 696 697 698 699 700 701\n",
      " 702 703 704 705 706 707 708 709 710 711 712 713 714 715 716 717 718 719\n",
      " 720 721 722 723 724 725 726 727 728 729 730 731 732 733 734 735 736 737\n",
      " 738 739 740 741 742 743 744 745 746 747 748 749 750 751 752 753 754 755\n",
      " 756 757 758 759 760 761 762 763 764 765 766 767 768 769 770 771 772 773\n",
      " 774 775 776 777 778 779 780 781 782 783 784 785 786 787 788 789 790 791\n",
      " 792 793 794 795 796 797 798 799 800 801 802 803 804 805 806 807 808 809\n",
      " 810 811 812 813 814 815 816 817 818 819 820 821 822 823 824 825 826 827\n",
      " 828 829 830 831 832 833 834 835 836 837 838 839 840 841 842 843 844 845\n",
      " 846 847 848 849 850 851 852 853 854 855 856 857 858 859 860 861 862 863\n",
      " 864 865 866 867 868 869 870 871 872 873 874 875 876 877 878 879 880 881\n",
      " 882 883 884 885 886 887 888 889 890 891 892 893 894 895 896 897 898 899\n",
      " 900 901 902 903 904 905 906 907 908 909 910 911 912 913 914 915 916 917\n",
      " 918 919 920 921 922 923 924 925 926 927 928 929 930 931 932 933 934 935\n",
      " 936 937 938 939 940 941 942 943 944 945 946 947 948 949 950 951 952 953\n",
      " 954 955 956 957 958 959 960 961 962 963 964 965 966 967 968 969 970 971\n",
      " 972 973 974 975 976 977 978 979 980 981 982 983 984 985 986 987 988 989\n",
      " 990 991 992 993 994 995 996 997 998 999] (1000,)\n"
     ]
    },
    {
     "data": {
      "application/vnd.jupyter.widget-view+json": {
       "model_id": "73f3c4586660444a9473a3d68bc7214f",
       "version_major": 2,
       "version_minor": 0
      },
      "text/plain": [
       "  0%|          | 0/25 [00:00<?, ?it/s]"
      ]
     },
     "metadata": {},
     "output_type": "display_data"
    },
    {
     "name": "stdout",
     "output_type": "stream",
     "text": [
      "(40,) centers in bin\n",
      "(40,) centers in bin\n",
      "(40,) centers in bin\n",
      "(40,) centers in bin\n",
      "(40,) centers in bin\n",
      "(40,) centers in bin\n",
      "(40,) centers in bin\n",
      "(40,) centers in bin\n",
      "(40,) centers in bin\n",
      "(40,) centers in bin\n",
      "(40,) centers in bin\n",
      "(40,) centers in bin\n",
      "(40,) centers in bin\n",
      "(40,) centers in bin\n",
      "(40,) centers in bin\n",
      "(40,) centers in bin\n",
      "(40,) centers in bin\n",
      "(40,) centers in bin\n",
      "(40,) centers in bin\n",
      "(40,) centers in bin\n",
      "(40,) centers in bin\n",
      "(40,) centers in bin\n",
      "(40,) centers in bin\n",
      "(40,) centers in bin\n",
      "(40,) centers in bin\n",
      "Finished cleaning\n"
     ]
    }
   ],
   "source": [
    "##### Initial rediscretization\n",
    "import numpy as np\n",
    "rng = np.random.default_rng(seed=1)\n",
    "# minimum_set_kmeans_centers = combined_kmeans_centers.copy()\n",
    "\n",
    "# del minimum_set, n_shared_states, rediscretized_full \n",
    "# del count_model, disconnected_states_remain\n",
    "# del minimum_set_kmeans_centers\n",
    "\n",
    "#### First, clean any states which aren't active in EITHER\n",
    "minimum_set = np.union1d(*[x.connected_sets()[0] for x in uncleaned_countmodels.values()])\n",
    "n_shared_states = len(minimum_set)\n",
    "print(minimum_set, minimum_set.shape)\n",
    "\n",
    "minimum_set_kmeans_centers = combined_kmeans_centers[minimum_set]\n",
    "\n",
    "rediscretized_full, _, _ = transform_stratified(\n",
    "    minimum_set_kmeans_centers, \n",
    "    [[np.arange(len(projection)), projection.T]], \n",
    "    tic_bins, \n",
    "    tic_rmsd)\n",
    "rediscretized_full = rediscretized_full[0].astype(int)\n",
    "\n",
    "rediscretized_full = remap_trajectory(directional_ensembles, rediscretized_full, n_centers = combined_kmeans_centers.shape[0])\n",
    "\n",
    "count_model = TransitionCountEstimator(msm_lag, 'sliding').fit_fetch(rediscretized_full)\n",
    "disconnected_states_remain = len(count_model.connected_sets()) > 1\n",
    "\n",
    "n_shared_states = minimum_set_kmeans_centers.shape[0]\n",
    "\n",
    "disconnected_states_remain = False\n",
    "while disconnected_states_remain:\n",
    "    print(f\"Attempting cleaning, {sum([len(x) for x in count_model.connected_sets()[1:]])} (2N) unclean states ({count_model.n_states} total (2N))\")\n",
    "    print(count_model.connected_sets()[1:])\n",
    "\n",
    "    # Identify the shared, active states (in the 1N state-space)\n",
    "    # Is this necessary? Maybe this is too aggressively cleaning\n",
    "    all_clean_combined_states = count_model.connected_sets()[0]\n",
    "    clean_combined_states, counts = np.unique(all_clean_combined_states % n_shared_states, return_counts=True)\n",
    "    clean_combined_states = clean_combined_states[counts > 1]\n",
    "    # clean_combined_states = clean_combined_states[counts > 0]\n",
    "    # clean_combined_states = all_clean_combined_states\n",
    "    \n",
    "    # Require at least one cluster in each bin post-cleaning\n",
    "    force_preserve = []\n",
    "    for i, (_bin_lower, _bin_upper) in enumerate(zip(bin_boundaries[:-1], bin_boundaries[1:])):\n",
    "        # print(i, _bin_lower, _bin_upper)\n",
    "        \n",
    "        original_centers_in_bin = np.argwhere(\n",
    "            (minimum_set_kmeans_centers[:, tic_rmsd] < _bin_upper) &\n",
    "            (minimum_set_kmeans_centers[:, tic_rmsd] > _bin_lower)).flatten()\n",
    "        # print(original_centers_in_bin)\n",
    "        \n",
    "        clean_centers_in_bin = np.argwhere(\n",
    "            (minimum_set_kmeans_centers[clean_combined_states, tic_rmsd] < _bin_upper) &\n",
    "            (minimum_set_kmeans_centers[clean_combined_states, tic_rmsd] > _bin_lower)).flatten()\n",
    "        \n",
    "        if len(clean_centers_in_bin) == 0:\n",
    "            to_keep = rng.choice(original_centers_in_bin, size=max(len(original_centers_in_bin)-1,1))\n",
    "            \n",
    "            force_preserve.extend(to_keep)\n",
    "            print(_bin_upper, _bin_lower)\n",
    "            print(f\"Cleaning would remove all centers in bin {i}, keeping state {to_keep}\")\n",
    "            \n",
    "    clean_combined_states = np.concatenate([clean_combined_states, force_preserve]) \n",
    "    print(f\"{len(clean_combined_states)} (1N) clean states identified (all: {len(all_clean_combined_states)})\")\n",
    "    \n",
    "    # Rediscretize with those\n",
    "    minimum_set_kmeans_centers = minimum_set_kmeans_centers[clean_combined_states]\n",
    "    shared_minimum_clustering = KMeansModel(minimum_set_kmeans_centers, metric='euclidean')\n",
    "    \n",
    "    rediscretized_full, _, _ = transform_stratified(\n",
    "        minimum_set_kmeans_centers, \n",
    "        [[np.arange(len(projection)), projection.T]], \n",
    "        tic_bins, \n",
    "        tic_rmsd)\n",
    "    rediscretized_full = rediscretized_full[0].astype(int)\n",
    "    rediscretized_full = remap_trajectory(directional_ensembles, rediscretized_full, n_centers = minimum_set_kmeans_centers.shape[0])\n",
    "        \n",
    "        \n",
    "    count_model = TransitionCountEstimator(msm_lag, 'sliding').fit_fetch(rediscretized_full)\n",
    "    disconnected_states_remain = len(count_model.connected_sets()) > 1 + len(force_preserve)\n",
    "    \n",
    "    n_shared_states = minimum_set_kmeans_centers.shape[0]\n",
    "    \n",
    "print(\"Finished cleaning\")"
   ]
  },
  {
   "cell_type": "code",
   "execution_count": 385,
   "id": "47c04e94-3bcb-4cc2-8c21-ee56e369cb01",
   "metadata": {
    "execution": {
     "iopub.execute_input": "2022-04-08T23:48:44.783275Z",
     "iopub.status.busy": "2022-04-08T23:48:44.783062Z",
     "iopub.status.idle": "2022-04-08T23:48:44.832486Z",
     "shell.execute_reply": "2022-04-08T23:48:44.832035Z",
     "shell.execute_reply.started": "2022-04-08T23:48:44.783255Z"
    },
    "tags": []
   },
   "outputs": [],
   "source": [
    "count_matrix = count_model.count_matrix\n",
    "\n",
    "row_sums = count_matrix.sum(axis=1)\n",
    "transition_matrix = np.divide(count_matrix.T, \n",
    "                              row_sums, \n",
    "                              out=np.zeros_like(count_matrix), \n",
    "                              where=row_sums>0).T"
   ]
  },
  {
   "cell_type": "code",
   "execution_count": 386,
   "id": "658e4a7a-e172-4c48-aeb8-80a8b80b46ec",
   "metadata": {
    "execution": {
     "iopub.execute_input": "2022-04-08T23:48:45.531934Z",
     "iopub.status.busy": "2022-04-08T23:48:45.531721Z",
     "iopub.status.idle": "2022-04-08T23:48:45.624447Z",
     "shell.execute_reply": "2022-04-08T23:48:45.623505Z",
     "shell.execute_reply.started": "2022-04-08T23:48:45.531913Z"
    },
    "tags": []
   },
   "outputs": [],
   "source": [
    "# hamsm = MaximumLikelihoodMSM(reversible=False).fit_fetch(\n",
    "#     count_model\n",
    "# )\n",
    "full_hamsm = MarkovStateModel(transition_matrix, lagtime=msm_lag, transition_matrix_tolerance=1)"
   ]
  },
  {
   "cell_type": "code",
   "execution_count": 387,
   "id": "e0da1230-7ab6-4972-874f-283101bdfa1c",
   "metadata": {
    "execution": {
     "iopub.execute_input": "2022-04-08T23:48:45.983289Z",
     "iopub.status.busy": "2022-04-08T23:48:45.982956Z",
     "iopub.status.idle": "2022-04-08T23:48:46.129851Z",
     "shell.execute_reply": "2022-04-08T23:48:46.128929Z",
     "shell.execute_reply.started": "2022-04-08T23:48:45.983260Z"
    },
    "tags": []
   },
   "outputs": [],
   "source": [
    "# I can define the haMSM over JUST the good states\n",
    "\n",
    "good_states = count_model.connected_sets()[0]\n",
    "state_was_good = np.isin(np.arange(transition_matrix.shape[0]), good_states)\n",
    "\n",
    "hamsm = MarkovStateModel(\n",
    "    transition_matrix[good_states][:,good_states], \n",
    "    lagtime=msm_lag, transition_matrix_tolerance=1)"
   ]
  },
  {
   "cell_type": "code",
   "execution_count": 388,
   "id": "404e13db-7a4b-4a7c-8de5-4ad83d2ac0d1",
   "metadata": {
    "execution": {
     "iopub.execute_input": "2022-04-08T23:48:48.206413Z",
     "iopub.status.busy": "2022-04-08T23:48:48.205097Z",
     "iopub.status.idle": "2022-04-08T23:48:48.337867Z",
     "shell.execute_reply": "2022-04-08T23:48:48.336914Z",
     "shell.execute_reply.started": "2022-04-08T23:48:48.206372Z"
    },
    "tags": []
   },
   "outputs": [],
   "source": [
    "full_state_stationary = np.zeros_like(transition_matrix[0]) \n",
    "full_state_stationary[state_was_good] = hamsm.stationary_distribution"
   ]
  },
  {
   "cell_type": "code",
   "execution_count": 389,
   "id": "f91ed126-5076-489f-9802-12f5c0315aa0",
   "metadata": {
    "execution": {
     "iopub.execute_input": "2022-04-08T23:48:48.520983Z",
     "iopub.status.busy": "2022-04-08T23:48:48.519732Z",
     "iopub.status.idle": "2022-04-08T23:48:49.219290Z",
     "shell.execute_reply": "2022-04-08T23:48:49.218774Z",
     "shell.execute_reply.started": "2022-04-08T23:48:48.520944Z"
    },
    "tags": []
   },
   "outputs": [
    {
     "name": "stdout",
     "output_type": "stream",
     "text": [
      "Last-in-unfolded probability sum: 0.81465291539541\n"
     ]
    },
    {
     "data": {
      "text/plain": [
       "<matplotlib.lines.Line2D at 0x164f4a400>"
      ]
     },
     "execution_count": 389,
     "metadata": {},
     "output_type": "execute_result"
    },
    {
     "data": {
      "image/png": "[encoded data removed]",
      "text/plain": [
       "<Figure size 720x288 with 2 Axes>"
      ]
     },
     "metadata": {
      "needs_background": "light"
     },
     "output_type": "display_data"
    }
   ],
   "source": [
    "fig, ax = plt.subplots(nrows=1, ncols=2, figsize=(10,4))\n",
    "\n",
    "_sort = np.argsort(minimum_set_kmeans_centers[:,0])\n",
    "\n",
    "\n",
    "\n",
    "# Direction 1: Last-in-unfolded\n",
    "last_unfolded = full_state_stationary[0:n_shared_states][_sort]\n",
    "ax[0].scatter(minimum_set_kmeans_centers[_sort,0], \n",
    "           last_unfolded, label=f'Last-in-unfolded ({sum(last_unfolded):.2f}%)')\n",
    "\n",
    "# Direction 2: Last-in-folded\n",
    "last_folded = full_state_stationary[n_shared_states:n_shared_states*2][_sort]\n",
    "ax[0].scatter(minimum_set_kmeans_centers[_sort,0],\n",
    "          last_folded , label=f'Last-in-folded ({sum(last_folded):.2f}%)')\n",
    "\n",
    "print(f\"Last-in-unfolded probability sum: {sum(full_state_stationary[n_shared_states:n_shared_states*2])}\")\n",
    "           \n",
    "ax[0].legend()\n",
    "ax[0].set_yscale('log')\n",
    "\n",
    "# Equilibrium\n",
    "equil = full_state_stationary[n_shared_states:n_shared_states*2] +\\\n",
    "    full_state_stationary[0:n_shared_states]\n",
    "ax[1].plot(minimum_set_kmeans_centers[_sort,0], equil[_sort])\n",
    "\n",
    "ax[0].set_xticks([-50, -40, -30, -20, -10, 0, 10, 20])\n",
    "ax[0].set_ylabel('Probability')\n",
    "ax[0].set_xlabel('tIC 0')\n",
    "ax[1].set_xlabel('tIC 0')\n",
    "\n",
    "ax[1].axvline(folded_thresh, color='k')\n",
    "ax[1].axvline(unfolded_thresh, color='k')"
   ]
  },
  {
   "cell_type": "markdown",
   "id": "7559244b-073a-461e-9f38-00dfb9a33a75",
   "metadata": {},
   "source": [
    "## 2Nx2N shared structure map"
   ]
  },
  {
   "cell_type": "markdown",
   "id": "830f3498-4dd3-482a-9369-1a5578e58a84",
   "metadata": {},
   "source": [
    "Build one structure map going both directions"
   ]
  },
  {
   "cell_type": "code",
   "execution_count": 390,
   "id": "78329296-92c2-4eba-8278-df5cabd866c5",
   "metadata": {
    "execution": {
     "iopub.execute_input": "2022-04-08T23:48:51.699459Z",
     "iopub.status.busy": "2022-04-08T23:48:51.699237Z",
     "iopub.status.idle": "2022-04-08T23:49:03.093505Z",
     "shell.execute_reply": "2022-04-08T23:49:03.092887Z",
     "shell.execute_reply.started": "2022-04-08T23:48:51.699439Z"
    },
    "tags": []
   },
   "outputs": [],
   "source": [
    "structure_map = {}\n",
    "\n",
    "for state in range(n_shared_states):\n",
    "    \n",
    "    # Get indices of points in this cluster, in EITHER direction\n",
    "    indices = np.argwhere(rediscretized_full % n_shared_states == state).flatten()\n",
    "    \n",
    "    random_index = np.random.choice(indices)\n",
    "    \n",
    "    representative_structure = continuous_trajectory.trajectory[random_index].positions\n",
    "    \n",
    "    structure_map[state] = [representative_structure, None, random_index]\n",
    "    structure_map[state + n_shared_states] = [representative_structure, None, random_index]"
   ]
  },
  {
   "cell_type": "code",
   "execution_count": null,
   "id": "f90bdf4f-6cac-46b7-984e-4f00ed394b5f",
   "metadata": {},
   "outputs": [],
   "source": []
  },
  {
   "cell_type": "markdown",
   "id": "e46e150d-6f57-4c51-8703-9acf9d93319f",
   "metadata": {},
   "source": [
    "# Check MFPT"
   ]
  },
  {
   "cell_type": "code",
   "execution_count": 391,
   "id": "9c0e6dbc-46ce-4369-bc7b-2c0b3bfb787c",
   "metadata": {
    "execution": {
     "iopub.execute_input": "2022-04-08T23:49:03.095160Z",
     "iopub.status.busy": "2022-04-08T23:49:03.094878Z",
     "iopub.status.idle": "2022-04-08T23:49:03.098440Z",
     "shell.execute_reply": "2022-04-08T23:49:03.097876Z",
     "shell.execute_reply.started": "2022-04-08T23:49:03.095139Z"
    },
    "tags": []
   },
   "outputs": [],
   "source": [
    "# Map good states to their consecutive index in the new haMSM\n",
    "good_map = {j:i for i, j in enumerate(good_states)}"
   ]
  },
  {
   "cell_type": "code",
   "execution_count": 392,
   "id": "72c72936-e178-48b2-b3f3-cb270e0fe741",
   "metadata": {
    "execution": {
     "iopub.execute_input": "2022-04-08T23:49:03.099757Z",
     "iopub.status.busy": "2022-04-08T23:49:03.099269Z",
     "iopub.status.idle": "2022-04-08T23:49:03.107553Z",
     "shell.execute_reply": "2022-04-08T23:49:03.106662Z",
     "shell.execute_reply.started": "2022-04-08T23:49:03.099726Z"
    },
    "tags": []
   },
   "outputs": [],
   "source": [
    "_unfolded = np.argwhere(minimum_set_kmeans_centers[:,0] > unfolded_thresh).flatten()\n",
    "_folded = np.argwhere(minimum_set_kmeans_centers[:,0] < folded_thresh).flatten()\n",
    "\n",
    "# This gives me the unfolded states in the 2N representation\n",
    "# But which of the 2N states survived to the haMSM? Keep only those\n",
    "full_both_direction_unfolded = np.intersect1d(\n",
    "    np.concatenate([_unfolded, _unfolded + n_shared_states]),\n",
    "    good_states\n",
    ")\n",
    "# both_direction_folded = np.concatenate([_folded, _folded + n_shared_states])\n",
    "full_both_direction_folded = np.intersect1d(\n",
    "    np.concatenate([_folded, _folded + n_shared_states]),\n",
    "    good_states\n",
    ")\n",
    "\n",
    "# Now, only keep those that are actually present in the hamsm\n",
    "both_direction_unfolded = [good_map[x] for x in full_both_direction_unfolded if x in good_map.keys()]\n",
    "both_direction_folded = [good_map[x] for x in full_both_direction_folded if x in good_map.keys()]"
   ]
  },
  {
   "cell_type": "code",
   "execution_count": 393,
   "id": "ed55096c-43ab-453f-b106-1d35eeb55e99",
   "metadata": {
    "execution": {
     "iopub.execute_input": "2022-04-08T23:49:03.110379Z",
     "iopub.status.busy": "2022-04-08T23:49:03.110051Z",
     "iopub.status.idle": "2022-04-08T23:49:03.268766Z",
     "shell.execute_reply": "2022-04-08T23:49:03.268033Z",
     "shell.execute_reply.started": "2022-04-08T23:49:03.110321Z"
    },
    "tags": []
   },
   "outputs": [
    {
     "name": "stdout",
     "output_type": "stream",
     "text": [
      "*** Note: Steps are in units of the original trajectory (200ps)\n",
      "Folding time: 13.42 µs\n",
      "Folding steps: 67102 steps\n",
      "\n",
      "Unfolding time: 3.14 µs\n",
      "Unfolding steps: 15718 steps\n",
      "\n",
      "\n",
      "Brute force references: 13.08, 2.76\n"
     ]
    }
   ],
   "source": [
    "mfpt_folding = hamsm.mfpt(both_direction_unfolded, both_direction_folded)\n",
    "mfpt_unfolding = hamsm.mfpt(both_direction_folded, both_direction_unfolded) #mfpt_folding, mfpt_unfolding\n",
    "\n",
    "print('*** Note: Steps are in units of the original trajectory (200ps)')\n",
    "print(f\"Folding time: {convert(mfpt_folding):.2f} µs\")\n",
    "print(f\"Folding steps: {mfpt_folding :.0f} steps\\n\")\n",
    "\n",
    "print(f\"Unfolding time: {convert(mfpt_unfolding):.2f} µs\")\n",
    "print(f\"Unfolding steps: {mfpt_unfolding :.0f} steps\\n\\n\")\n",
    "\n",
    "print(f\"Brute force references: {convert(np.mean(mfpts[UNFOLDED])):.2f}, {convert(np.mean(mfpts[FOLDED])):.2f}\")"
   ]
  },
  {
   "cell_type": "markdown",
   "id": "3a47a080-1246-4f17-97ba-8153d8fae45f",
   "metadata": {},
   "source": [
    "## Save"
   ]
  },
  {
   "cell_type": "code",
   "execution_count": 394,
   "id": "b283c590-f473-4da1-aade-a61f54caa781",
   "metadata": {
    "execution": {
     "iopub.execute_input": "2022-04-08T23:56:03.448074Z",
     "iopub.status.busy": "2022-04-08T23:56:03.446001Z",
     "iopub.status.idle": "2022-04-08T23:56:03.546172Z",
     "shell.execute_reply": "2022-04-08T23:56:03.545135Z",
     "shell.execute_reply.started": "2022-04-08T23:56:03.448033Z"
    },
    "tags": []
   },
   "outputs": [],
   "source": [
    "np.savez('built_combined_hamsm', \n",
    "         # hamsm=hamsm,\n",
    "         hamsm=full_hamsm,\n",
    "         good_states=good_states,\n",
    "         clusters=minimum_set_kmeans_centers,\n",
    "         thresholds=[folded_thresh,unfolded_thresh],\n",
    "         tic_rmsd=tic_rmsd,\n",
    "         # both_direction_unfolded=both_direction_unfolded,\n",
    "         # both_direction_folded=both_direction_folded,\n",
    "         both_direction_unfolded=full_both_direction_unfolded,\n",
    "         both_direction_folded=full_both_direction_folded,\n",
    "         structure_map=structure_map\n",
    "        )"
   ]
  },
  {
   "cell_type": "code",
   "execution_count": 202,
   "id": "440afad2-bfbb-467b-b55d-f3cf07e9f064",
   "metadata": {
    "execution": {
     "iopub.execute_input": "2022-04-08T20:25:57.620313Z",
     "iopub.status.busy": "2022-04-08T20:25:57.619648Z",
     "iopub.status.idle": "2022-04-08T20:25:57.631825Z",
     "shell.execute_reply": "2022-04-08T20:25:57.629274Z",
     "shell.execute_reply.started": "2022-04-08T20:25:57.620275Z"
    }
   },
   "outputs": [
    {
     "data": {
      "text/plain": [
       "MarkovStateModelCollection-6028919808:count_models=None, reversible=False,\n",
       "                    stationary_distributions=None,\n",
       "                    transition_matrices=None,\n",
       "                    transition_matrix_tolerance=1e-06]"
      ]
     },
     "execution_count": 202,
     "metadata": {},
     "output_type": "execute_result"
    }
   ],
   "source": [
    "hamsm"
   ]
  },
  {
   "cell_type": "code",
   "execution_count": null,
   "id": "18bd24f2-cda7-4d73-9841-12e081ac3a99",
   "metadata": {},
   "outputs": [],
   "source": []
  }
 ],
 "metadata": {
  "kernelspec": {
   "display_name": "Python 3 (ipykernel)",
   "language": "python",
   "name": "python3"
  },
  "language_info": {
   "codemirror_mode": {
    "name": "ipython",
    "version": 3
   },
   "file_extension": ".py",
   "mimetype": "text/x-python",
   "name": "python",
   "nbconvert_exporter": "python",
   "pygments_lexer": "ipython3",
   "version": "3.9.10"
  }
 },
 "nbformat": 4,
 "nbformat_minor": 5
}