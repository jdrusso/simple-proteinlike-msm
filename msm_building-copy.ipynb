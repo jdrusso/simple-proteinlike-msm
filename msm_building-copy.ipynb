{
 "cells": [
  {
   "cell_type": "markdown",
   "metadata": {
    "pycharm": {
     "name": "#%% md\n"
    }
   },
   "source": [
    "# Protein-like MSM building"
   ]
  },
  {
   "cell_type": "markdown",
   "metadata": {
    "pycharm": {
     "name": "#%% md\n"
    }
   },
   "source": [
    "Dependencies can be installed in a new conda environment with\n",
    "`conda env create -f environment.yml`\n",
    "or installed into an existing environment with\n",
    "`conda env update --name <existing environment name> --file environment.yml`"
   ]
  },
  {
   "cell_type": "markdown",
   "metadata": {
    "pycharm": {
     "name": "#%% md\n"
    }
   },
   "source": [
    "# Load dependencies"
   ]
  },
  {
   "cell_type": "code",
   "execution_count": 1,
   "metadata": {
    "execution": {
     "iopub.execute_input": "2022-02-17T23:03:27.052070Z",
     "iopub.status.busy": "2022-02-17T23:03:27.051755Z",
     "iopub.status.idle": "2022-02-17T23:03:29.985177Z",
     "shell.execute_reply": "2022-02-17T23:03:29.984655Z",
     "shell.execute_reply.started": "2022-02-17T23:03:27.051998Z"
    },
    "pycharm": {
     "name": "#%%\n"
    },
    "tags": []
   },
   "outputs": [
    {
     "name": "stderr",
     "output_type": "stream",
     "text": [
      "/Users/russojd/opt/anaconda3/envs/protein-like_msm/lib/python3.9/site-packages/MDAnalysis/coordinates/chemfiles.py:108: DeprecationWarning: distutils Version classes are deprecated. Use packaging.version instead.\n",
      "  MIN_CHEMFILES_VERSION = LooseVersion(\"0.9\")\n",
      "/Users/russojd/opt/anaconda3/envs/protein-like_msm/lib/python3.9/site-packages/MDAnalysis/coordinates/TRJ.py:1209: DeprecationWarning: Please use `netcdf_file` from the `scipy.io` namespace, the `scipy.io.netcdf` namespace is deprecated.\n",
      "  class NCDFPicklable(scipy.io.netcdf.netcdf_file):\n"
     ]
    }
   ],
   "source": [
    "import MDAnalysis as mda\n",
    "import MDAnalysis.analysis.rms\n",
    "import MDAnalysis.analysis.align\n",
    "from MDAnalysis.analysis import diffusionmap\n",
    "from MDAnalysis.analysis.distances import distance_array\n",
    "import numpy as np\n",
    "import tqdm.auto as tqdm\n",
    "from deeptime.clustering import KMeans, KMeansModel\n",
    "from matplotlib import pyplot as plt\n",
    "from deeptime.decomposition import TICA\n",
    "import copy\n",
    "import pickle\n",
    "import ray"
   ]
  },
  {
   "cell_type": "markdown",
   "metadata": {
    "pycharm": {
     "name": "#%% md\n"
    }
   },
   "source": [
    "## Load DE Shaw trajectories"
   ]
  },
  {
   "cell_type": "markdown",
   "metadata": {
    "pycharm": {
     "name": "#%% md\n"
    }
   },
   "source": [
    "I'll be using the Trp-cage (2JOF) folding trajectory #2. This is 105 DCD files + a topology .mae, indexed as 0-104."
   ]
  },
  {
   "cell_type": "code",
   "execution_count": 2,
   "metadata": {
    "execution": {
     "iopub.execute_input": "2022-02-17T23:03:29.986697Z",
     "iopub.status.busy": "2022-02-17T23:03:29.986452Z",
     "iopub.status.idle": "2022-02-17T23:03:29.991022Z",
     "shell.execute_reply": "2022-02-17T23:03:29.990146Z",
     "shell.execute_reply.started": "2022-02-17T23:03:29.986677Z"
    },
    "pycharm": {
     "name": "#%%\n"
    },
    "tags": []
   },
   "outputs": [],
   "source": [
    "trajectory_base_path = '/Users/russojd/Research/desres_trajectories/DESRES-Trajectory_2JOF-0-protein 2/2JOF-0-protein'\n",
    "n_traj_files = 105\n",
    "\n",
    "traj_name = \"2JOF-0-protein-{traj_idx:0>3d}.dcd\"\n",
    "\n",
    "# MDAnalysis can't read the .mae\n",
    "# topology_name = \"2JOF-0-protein.mae\"\n",
    "\n",
    "# So instead, use this PDB I got from converting the .mae\n",
    "topology_name = \"2JOF.pdb\"\n",
    "\n",
    "model_name = '2JOF'\n",
    "\n",
    "topology_path = f\"{trajectory_base_path}/{topology_name}\"\n",
    "traj_paths = [f\"{trajectory_base_path}/{traj_name.format(traj_idx=_idx)}\" for _idx in range(n_traj_files)]"
   ]
  },
  {
   "cell_type": "code",
   "execution_count": 3,
   "metadata": {
    "execution": {
     "iopub.execute_input": "2022-02-17T23:03:29.992295Z",
     "iopub.status.busy": "2022-02-17T23:03:29.992063Z",
     "iopub.status.idle": "2022-02-17T23:03:29.995692Z",
     "shell.execute_reply": "2022-02-17T23:03:29.994920Z",
     "shell.execute_reply.started": "2022-02-17T23:03:29.992271Z"
    },
    "pycharm": {
     "name": "#%%\n"
    },
    "tags": []
   },
   "outputs": [],
   "source": [
    "# Explicitly set the timestep here, since letting MDAnalysis infer it gives a wonky result.\n",
    "\n",
    "# Each of my trajectory DCD files start 2e6 units apart\n",
    "# The very first trajectory starts at 200 units\n",
    "# The whole trajectory is 208µs, and all the trajectories are 1e6 units, so a unit is 200ps.\n",
    "\n",
    "dt = 200"
   ]
  },
  {
   "cell_type": "code",
   "execution_count": 4,
   "metadata": {
    "execution": {
     "iopub.execute_input": "2022-02-17T23:03:30.424744Z",
     "iopub.status.busy": "2022-02-17T23:03:30.424475Z",
     "iopub.status.idle": "2022-02-17T23:03:30.634747Z",
     "shell.execute_reply": "2022-02-17T23:03:30.632573Z",
     "shell.execute_reply.started": "2022-02-17T23:03:30.424715Z"
    },
    "pycharm": {
     "name": "#%%\n"
    },
    "tags": []
   },
   "outputs": [],
   "source": [
    "universe = mda.Universe(topology_path, traj_paths, dt=dt )"
   ]
  },
  {
   "cell_type": "code",
   "execution_count": 5,
   "metadata": {
    "execution": {
     "iopub.execute_input": "2022-02-17T23:03:30.654902Z",
     "iopub.status.busy": "2022-02-17T23:03:30.650040Z",
     "iopub.status.idle": "2022-02-17T23:03:30.677181Z",
     "shell.execute_reply": "2022-02-17T23:03:30.671009Z",
     "shell.execute_reply.started": "2022-02-17T23:03:30.654869Z"
    },
    "pycharm": {
     "name": "#%%\n"
    },
    "tags": []
   },
   "outputs": [
    {
     "name": "stdout",
     "output_type": "stream",
     "text": [
      "Total trajectory time is 208.8 µs\n"
     ]
    }
   ],
   "source": [
    "total_time_ps = len(universe.trajectory) * universe.trajectory.dt\n",
    "\n",
    "print(f\"Total trajectory time is {total_time_ps/1e6} µs\")"
   ]
  },
  {
   "cell_type": "markdown",
   "metadata": {
    "pycharm": {
     "name": "#%% md\n"
    }
   },
   "source": [
    "## Prepare trajectory (align+center)"
   ]
  },
  {
   "cell_type": "markdown",
   "metadata": {
    "pycharm": {
     "name": "#%% md\n"
    }
   },
   "source": [
    "This aligns alpha-carbons on the provided reference topology, and spits out the result in `aligned_2JOF.dcd`. This only needs to be run once, to make that file."
   ]
  },
  {
   "cell_type": "code",
   "execution_count": 6,
   "metadata": {
    "execution": {
     "iopub.execute_input": "2022-02-17T23:03:31.694635Z",
     "iopub.status.busy": "2022-02-17T23:03:31.694276Z",
     "iopub.status.idle": "2022-02-17T23:03:31.710866Z",
     "shell.execute_reply": "2022-02-17T23:03:31.710197Z",
     "shell.execute_reply.started": "2022-02-17T23:03:31.694598Z"
    },
    "pycharm": {
     "name": "#%% raw\n"
    },
    "tags": []
   },
   "outputs": [],
   "source": [
    "ref_universe = mda.Universe(topology=topology_path)"
   ]
  },
  {
   "cell_type": "raw",
   "metadata": {
    "pycharm": {
     "name": "#%% raw\n"
    }
   },
   "source": [
    "MDAnalysis.analysis.align.AlignTraj(\n",
    "    universe,\n",
    "    ref_universe,\n",
    "    select='name CA',\n",
    "    filename='aligned_2JOF.dcd',\n",
    "    match_atoms=True,\n",
    "    verbose=True\n",
    ").run()"
   ]
  },
  {
   "cell_type": "markdown",
   "metadata": {
    "pycharm": {
     "name": "#%% md\n"
    }
   },
   "source": [
    "# Trajectory preparation"
   ]
  },
  {
   "cell_type": "code",
   "execution_count": 7,
   "metadata": {
    "execution": {
     "iopub.execute_input": "2022-02-17T23:03:33.530099Z",
     "iopub.status.busy": "2022-02-17T23:03:33.529792Z",
     "iopub.status.idle": "2022-02-17T23:03:33.534208Z",
     "shell.execute_reply": "2022-02-17T23:03:33.532987Z",
     "shell.execute_reply.started": "2022-02-17T23:03:33.530075Z"
    },
    "pycharm": {
     "name": "#%%\n"
    },
    "tags": []
   },
   "outputs": [],
   "source": [
    "# Stride the trajectory\n",
    "stride = 10\n",
    "\n",
    "rmsd_stride = 1\n",
    "\n",
    "# tica_dims = 10\n",
    "\n",
    "# The tIC that most closely corresponds to RMSD -- may change\n",
    "tic_rmsd = 0"
   ]
  },
  {
   "cell_type": "markdown",
   "metadata": {
    "pycharm": {
     "name": "#%% md\n"
    }
   },
   "source": [
    "## Featurize trajectory"
   ]
  },
  {
   "cell_type": "markdown",
   "metadata": {
    "pycharm": {
     "name": "#%% md\n"
    }
   },
   "source": [
    "In the original Shaw publication, they featurized the folding transition with alpha-carbon RMSD.\n",
    "\n",
    "[MDAnalysis RMSD documentation](https://www.mdanalysis.org/MDAnalysisTutorial/analysismodule.html#rmsd)"
   ]
  },
  {
   "cell_type": "raw",
   "metadata": {
    "pycharm": {
     "name": "#%% raw\n"
    }
   },
   "source": [
    "# Doing this and comparing to the initial frame looks terrible. I'll try the PDB structure instead.\n",
    "alpha_carbons = universe.select_atoms('name CA')\n",
    "initial_positions = alpha_carbons.positions"
   ]
  },
  {
   "cell_type": "code",
   "execution_count": 8,
   "metadata": {
    "execution": {
     "iopub.execute_input": "2022-02-17T23:03:35.859309Z",
     "iopub.status.busy": "2022-02-17T23:03:35.858934Z",
     "iopub.status.idle": "2022-02-17T23:03:35.892170Z",
     "shell.execute_reply": "2022-02-17T23:03:35.890449Z",
     "shell.execute_reply.started": "2022-02-17T23:03:35.859279Z"
    },
    "pycharm": {
     "name": "#%%\n"
    },
    "tags": []
   },
   "outputs": [],
   "source": [
    "aligned = mda.Universe(topology_path, 'aligned_2JOF.dcd')\n",
    "alpha_carbons = aligned.select_atoms('name CA')\n",
    "initial_positions = alpha_carbons.positions.copy()"
   ]
  },
  {
   "cell_type": "markdown",
   "metadata": {
    "pycharm": {
     "name": "#%% md\n"
    }
   },
   "source": [
    "### Compute RMSD"
   ]
  },
  {
   "cell_type": "raw",
   "metadata": {
    "pycharm": {
     "name": "#%% raw\n"
    }
   },
   "source": [
    "rmsd = np.full(shape=len(aligned.trajectory)//stride, fill_value=np.nan)\n",
    "\n",
    "# alpha_carbons = aligned.select_atoms('name CA')\n",
    "\n",
    "for i, frame in tqdm.tqdm(enumerate(aligned.trajectory), total=len(aligned.trajectory), miniters=1e5, mininterval=1):\n",
    "\n",
    "    if not i%stride == 0:\n",
    "        continue\n",
    "\n",
    "    # Compute the alpha-carbon RMSD at each frame\n",
    "    frame_positions = alpha_carbons.positions\n",
    "    frame_rmsd = MDAnalysis.analysis.rms.rmsd(initial_positions, frame_positions)\n",
    "\n",
    "    if i//stride < len(aligned.trajectory)//stride:\n",
    "        rmsd[i//stride] = frame_rmsd\n",
    "\n",
    "np.savez(f'rmsd_{model_name}', rmsd=rmsd)"
   ]
  },
  {
   "cell_type": "markdown",
   "metadata": {},
   "source": [
    "#### Load saved"
   ]
  },
  {
   "cell_type": "code",
   "execution_count": 9,
   "metadata": {
    "collapsed": false,
    "execution": {
     "iopub.execute_input": "2022-02-17T23:03:37.418714Z",
     "iopub.status.busy": "2022-02-17T23:03:37.418476Z",
     "iopub.status.idle": "2022-02-17T23:03:37.442872Z",
     "shell.execute_reply": "2022-02-17T23:03:37.442127Z",
     "shell.execute_reply.started": "2022-02-17T23:03:37.418689Z"
    },
    "jupyter": {
     "outputs_hidden": false
    },
    "pycharm": {
     "name": "#%%\n"
    },
    "tags": []
   },
   "outputs": [],
   "source": [
    "rmsd = np.load(f'rmsd_{model_name}.npz')['rmsd']"
   ]
  },
  {
   "cell_type": "code",
   "execution_count": 10,
   "metadata": {
    "execution": {
     "iopub.execute_input": "2022-02-16T16:45:31.155311Z",
     "iopub.status.busy": "2022-02-16T16:45:31.154981Z",
     "iopub.status.idle": "2022-02-16T16:45:32.017811Z",
     "shell.execute_reply": "2022-02-16T16:45:32.014016Z",
     "shell.execute_reply.started": "2022-02-16T16:45:31.155277Z"
    },
    "pycharm": {
     "name": "#%%\n"
    },
    "tags": []
   },
   "outputs": [
    {
     "data": {
      "text/plain": [
       "[<matplotlib.lines.Line2D at 0x15dbe9970>]"
      ]
     },
     "execution_count": 10,
     "metadata": {},
     "output_type": "execute_result"
    },
    {
     "data": {
      "image/png": "[encoded data removed]",
      "text/plain": [
       "<Figure size 432x288 with 1 Axes>"
      ]
     },
     "metadata": {
      "needs_background": "light"
     },
     "output_type": "display_data"
    }
   ],
   "source": [
    "plt.plot(rmsd)"
   ]
  },
  {
   "cell_type": "markdown",
   "metadata": {},
   "source": [
    "### Get instantaneous positions of all alpha-carbons"
   ]
  },
  {
   "cell_type": "raw",
   "metadata": {
    "execution": {
     "iopub.execute_input": "2022-02-10T20:29:03.623381Z",
     "iopub.status.busy": "2022-02-10T20:29:03.623048Z",
     "iopub.status.idle": "2022-02-10T20:35:52.384870Z",
     "shell.execute_reply": "2022-02-10T20:35:52.375507Z",
     "shell.execute_reply.started": "2022-02-10T20:29:03.623353Z"
    },
    "jupyter": {
     "outputs_hidden": false
    },
    "pycharm": {
     "name": "#%%\n"
    }
   },
   "source": [
    "alpha_carbon_positions_list = []\n",
    "\n",
    "for i, frame in tqdm.tqdm(enumerate(aligned.trajectory), total=len(aligned.trajectory), miniters=1e5, mininterval=1):\n",
    "\n",
    "    if not i%stride == 0:\n",
    "        continue\n",
    "\n",
    "    frame_positions = alpha_carbons.positions\n",
    "    alpha_carbon_positions_list.append(frame_positions)\n",
    "\n",
    "alpha_carbon_positions = np.array(alpha_carbon_positions_list)"
   ]
  },
  {
   "cell_type": "markdown",
   "metadata": {},
   "source": [
    "### Get pairwise alpha-carbon RMSD\n",
    "\n",
    "https://userguide.mdanalysis.org/stable/examples/analysis/alignment_and_rms/rmsd.html#RMSD-of-a-Universe-with-multiple-selections"
   ]
  },
  {
   "cell_type": "raw",
   "metadata": {
    "execution": {
     "iopub.execute_input": "2022-02-10T20:54:09.870364Z",
     "iopub.status.busy": "2022-02-10T20:54:09.869681Z",
     "iopub.status.idle": "2022-02-10T20:59:31.248658Z",
     "shell.execute_reply": "2022-02-10T20:59:31.241377Z",
     "shell.execute_reply.started": "2022-02-10T20:54:09.870323Z"
    },
    "tags": []
   },
   "source": [
    "from MDAnalysis.analysis import rms\n",
    "R = rms.RMSD(aligned,  # universe to align\n",
    "             ref_universe,  # reference universe or atomgroup\n",
    "             select='name CA',  # group to superimpose and calculate RMSD\n",
    "             groupselections=[f\"id {_id}\" for _id in alpha_carbons.ids],  # groups for RMSD\n",
    "             ref_frame=0,\n",
    "            verbose=True)  # frame index of the reference\n",
    "\n",
    "R.run(step=10)"
   ]
  },
  {
   "cell_type": "raw",
   "metadata": {
    "execution": {
     "iopub.execute_input": "2022-02-10T20:59:31.270621Z",
     "iopub.status.busy": "2022-02-10T20:59:31.269520Z",
     "iopub.status.idle": "2022-02-10T20:59:31.860492Z",
     "shell.execute_reply": "2022-02-10T20:59:31.855330Z",
     "shell.execute_reply.started": "2022-02-10T20:59:31.270570Z"
    },
    "tags": []
   },
   "source": [
    "import pickle\n",
    "pickle.dump(R, open('rmsd.obj', 'wb'))"
   ]
  },
  {
   "cell_type": "markdown",
   "metadata": {},
   "source": [
    "#### Load saved"
   ]
  },
  {
   "cell_type": "code",
   "execution_count": 10,
   "metadata": {
    "execution": {
     "iopub.execute_input": "2022-02-17T23:03:40.503747Z",
     "iopub.status.busy": "2022-02-17T23:03:40.503502Z",
     "iopub.status.idle": "2022-02-17T23:03:40.529133Z",
     "shell.execute_reply": "2022-02-17T23:03:40.528461Z",
     "shell.execute_reply.started": "2022-02-17T23:03:40.503722Z"
    },
    "tags": []
   },
   "outputs": [],
   "source": [
    "R = pickle.load(open('rmsd.obj', 'rb'))"
   ]
  },
  {
   "cell_type": "code",
   "execution_count": 15,
   "metadata": {
    "execution": {
     "iopub.execute_input": "2022-02-16T16:45:53.893174Z",
     "iopub.status.busy": "2022-02-16T16:45:53.892487Z",
     "iopub.status.idle": "2022-02-16T16:45:53.904772Z",
     "shell.execute_reply": "2022-02-16T16:45:53.903848Z",
     "shell.execute_reply.started": "2022-02-16T16:45:53.893130Z"
    },
    "tags": []
   },
   "outputs": [
    {
     "name": "stderr",
     "output_type": "stream",
     "text": [
      "/Users/russojd/opt/anaconda3/envs/protein-like_msm/lib/python3.9/site-packages/MDAnalysis/analysis/rms.py:710: DeprecationWarning: The `rmsd` attribute was deprecated in MDAnalysis 2.0.0 and will be removed in MDAnalysis 3.0.0. Please use `results.rmsd` instead.\n",
      "  warnings.warn(wmsg, DeprecationWarning)\n"
     ]
    },
    {
     "data": {
      "text/plain": [
       "(104400, 23)"
      ]
     },
     "execution_count": 15,
     "metadata": {},
     "output_type": "execute_result"
    }
   ],
   "source": [
    "R.rmsd.shape"
   ]
  },
  {
   "cell_type": "markdown",
   "metadata": {},
   "source": [
    "### Residue-residue minimum distance\n",
    "\n",
    "From “Assessing the accuracy and bias of Markov state models”:\n",
    "\n",
    "> Featurization was done with \"all minimal residue-residue distances (calculated as the closest distance between the heavy atoms of two residues separated in sequence by at least two neighboring residues)”"
   ]
  },
  {
   "cell_type": "code",
   "execution_count": 11,
   "metadata": {
    "execution": {
     "iopub.execute_input": "2022-02-17T23:03:45.603543Z",
     "iopub.status.busy": "2022-02-17T23:03:45.603308Z",
     "iopub.status.idle": "2022-02-17T23:03:45.611634Z",
     "shell.execute_reply": "2022-02-17T23:03:45.610719Z",
     "shell.execute_reply.started": "2022-02-17T23:03:45.603520Z"
    },
    "tags": []
   },
   "outputs": [],
   "source": [
    "n_residues = len(aligned.residues)\n",
    "all_residue_ids = range(1, 1+n_residues)\n",
    "\n",
    "nearby_residue_ids = {}\n",
    "\n",
    "for i in range(n_residues):\n",
    "    \n",
    "    partner_residues = [aligned.residues[i-1].resid, aligned.residues[i].resid, aligned.residues[(i+1)%n_residues].resid]\n",
    "    \n",
    "# for residue in aligned.residues:\n",
    "    # adjacent_residues = [residue.resid-1, residue.resid, residue.resid+1]\n",
    "    # if adjacent_residues[0] < 0:\n",
    "        # adjacent_residues = aligned.residues[-1].resid\n",
    "        \n",
    "    _nearby_residues = np.setdiff1d(all_residue_ids, partner_residues)\n",
    "    \n",
    "    nearby_residue_ids[all_residue_ids[i]] = _nearby_residues"
   ]
  },
  {
   "cell_type": "code",
   "execution_count": 17,
   "metadata": {
    "execution": {
     "iopub.execute_input": "2022-02-16T16:45:55.950001Z",
     "iopub.status.busy": "2022-02-16T16:45:55.949652Z",
     "iopub.status.idle": "2022-02-16T16:45:55.961008Z",
     "shell.execute_reply": "2022-02-16T16:45:55.960021Z",
     "shell.execute_reply.started": "2022-02-16T16:45:55.949968Z"
    },
    "tags": []
   },
   "outputs": [
    {
     "data": {
      "text/plain": [
       "{1: array([ 3,  4,  5,  6,  7,  8,  9, 10, 11, 12, 13, 14, 15, 16, 17, 18, 19]),\n",
       " 2: array([ 4,  5,  6,  7,  8,  9, 10, 11, 12, 13, 14, 15, 16, 17, 18, 19, 20]),\n",
       " 3: array([ 1,  5,  6,  7,  8,  9, 10, 11, 12, 13, 14, 15, 16, 17, 18, 19, 20]),\n",
       " 4: array([ 1,  2,  6,  7,  8,  9, 10, 11, 12, 13, 14, 15, 16, 17, 18, 19, 20]),\n",
       " 5: array([ 1,  2,  3,  7,  8,  9, 10, 11, 12, 13, 14, 15, 16, 17, 18, 19, 20]),\n",
       " 6: array([ 1,  2,  3,  4,  8,  9, 10, 11, 12, 13, 14, 15, 16, 17, 18, 19, 20]),\n",
       " 7: array([ 1,  2,  3,  4,  5,  9, 10, 11, 12, 13, 14, 15, 16, 17, 18, 19, 20]),\n",
       " 8: array([ 1,  2,  3,  4,  5,  6, 10, 11, 12, 13, 14, 15, 16, 17, 18, 19, 20]),\n",
       " 9: array([ 1,  2,  3,  4,  5,  6,  7, 11, 12, 13, 14, 15, 16, 17, 18, 19, 20]),\n",
       " 10: array([ 1,  2,  3,  4,  5,  6,  7,  8, 12, 13, 14, 15, 16, 17, 18, 19, 20]),\n",
       " 11: array([ 1,  2,  3,  4,  5,  6,  7,  8,  9, 13, 14, 15, 16, 17, 18, 19, 20]),\n",
       " 12: array([ 1,  2,  3,  4,  5,  6,  7,  8,  9, 10, 14, 15, 16, 17, 18, 19, 20]),\n",
       " 13: array([ 1,  2,  3,  4,  5,  6,  7,  8,  9, 10, 11, 15, 16, 17, 18, 19, 20]),\n",
       " 14: array([ 1,  2,  3,  4,  5,  6,  7,  8,  9, 10, 11, 12, 16, 17, 18, 19, 20]),\n",
       " 15: array([ 1,  2,  3,  4,  5,  6,  7,  8,  9, 10, 11, 12, 13, 17, 18, 19, 20]),\n",
       " 16: array([ 1,  2,  3,  4,  5,  6,  7,  8,  9, 10, 11, 12, 13, 14, 18, 19, 20]),\n",
       " 17: array([ 1,  2,  3,  4,  5,  6,  7,  8,  9, 10, 11, 12, 13, 14, 15, 19, 20]),\n",
       " 18: array([ 1,  2,  3,  4,  5,  6,  7,  8,  9, 10, 11, 12, 13, 14, 15, 16, 20]),\n",
       " 19: array([ 1,  2,  3,  4,  5,  6,  7,  8,  9, 10, 11, 12, 13, 14, 15, 16, 17]),\n",
       " 20: array([ 2,  3,  4,  5,  6,  7,  8,  9, 10, 11, 12, 13, 14, 15, 16, 17, 18])}"
      ]
     },
     "execution_count": 17,
     "metadata": {},
     "output_type": "execute_result"
    }
   ],
   "source": [
    "nearby_residue_ids"
   ]
  },
  {
   "cell_type": "code",
   "execution_count": 12,
   "metadata": {
    "execution": {
     "iopub.execute_input": "2022-02-17T23:03:48.479834Z",
     "iopub.status.busy": "2022-02-17T23:03:48.479588Z",
     "iopub.status.idle": "2022-02-17T23:03:48.493331Z",
     "shell.execute_reply": "2022-02-17T23:03:48.492609Z",
     "shell.execute_reply.started": "2022-02-17T23:03:48.479809Z"
    },
    "tags": []
   },
   "outputs": [
    {
     "name": "stdout",
     "output_type": "stream",
     "text": [
      "1\n"
     ]
    }
   ],
   "source": [
    "stride = 1\n",
    "print(stride)\n",
    "\n",
    "selections = {residue.resid:aligned.select_atoms(f'resnum {residue.resid} and not type H') for residue in aligned.residues}"
   ]
  },
  {
   "cell_type": "code",
   "execution_count": 47,
   "metadata": {
    "execution": {
     "iopub.execute_input": "2022-02-16T17:32:29.529200Z",
     "iopub.status.busy": "2022-02-16T17:32:29.528853Z",
     "iopub.status.idle": "2022-02-16T17:32:29.542440Z",
     "shell.execute_reply": "2022-02-16T17:32:29.541265Z",
     "shell.execute_reply.started": "2022-02-16T17:32:29.529162Z"
    },
    "tags": []
   },
   "outputs": [],
   "source": [
    "@ray.remote\n",
    "def analyze_frame(frame, i, aligned_residues, selections, nearby_residue_ids, stride):\n",
    "    \n",
    "    pairs = []\n",
    "    \n",
    "    for residue in aligned_residues:\n",
    "        \n",
    "        selection_from = selections[residue.resid]\n",
    "        \n",
    "        # Get minimum distances to each of the nearby residues (separated by at least 1 residue index)\n",
    "        for nearby_residue_id in nearby_residue_ids:\n",
    "\n",
    "            selection_to  = selections[nearby_residue_id] #= aligned.select_atoms(f'resnum {nearby_residue_id} and name CA')\n",
    "            \n",
    "            residue_distances = MDAnalysis.analysis.distances.distance_array(selection_from.positions, selection_to.positions, backend='openmp')\n",
    "            \n",
    "            min_dist = np.min(residue_distances)\n",
    "            \n",
    "            pairs.append([min_dist, (residue.resid-1, nearby_residue_id-1)])\n",
    "            \n",
    "    return i//stride, pairs\n",
    "            # distance_matrix[i//stride, residue.resid-1, nearby_residue_id-1] = min_dist\n",
    "            # return (i//stride, residue.resid-1, nearby_residue_id-1), min_dist"
   ]
  },
  {
   "cell_type": "markdown",
   "metadata": {},
   "source": [
    "Do this in parallel because it's mega slow"
   ]
  },
  {
   "cell_type": "code",
   "execution_count": 32,
   "metadata": {
    "execution": {
     "iopub.execute_input": "2022-02-16T17:22:54.941868Z",
     "iopub.status.busy": "2022-02-16T17:22:54.941277Z",
     "iopub.status.idle": "2022-02-16T17:23:07.704055Z",
     "shell.execute_reply": "2022-02-16T17:23:07.702533Z",
     "shell.execute_reply.started": "2022-02-16T17:22:54.941829Z"
    },
    "tags": []
   },
   "outputs": [
    {
     "name": "stderr",
     "output_type": "stream",
     "text": [
      "2022-02-16 09:23:01,757\tINFO services.py:1374 -- View the Ray dashboard at \u001b[1m\u001b[32mhttp://127.0.0.1:8265\u001b[39m\u001b[22m\n"
     ]
    },
    {
     "data": {
      "text/plain": [
       "{'node_ip_address': '127.0.0.1',\n",
       " 'raylet_ip_address': '127.0.0.1',\n",
       " 'redis_address': '127.0.0.1:6379',\n",
       " 'object_store_address': '/tmp/ray/session_2022-02-16_09-22-54_947616_36510/sockets/plasma_store',\n",
       " 'raylet_socket_name': '/tmp/ray/session_2022-02-16_09-22-54_947616_36510/sockets/raylet',\n",
       " 'webui_url': '127.0.0.1:8265',\n",
       " 'session_dir': '/tmp/ray/session_2022-02-16_09-22-54_947616_36510',\n",
       " 'metrics_export_port': 64104,\n",
       " 'gcs_address': '127.0.0.1:59326',\n",
       " 'node_id': '9443c149ac839cbf49e533b2741a38432bf08f3773263fe75f503121'}"
      ]
     },
     "execution_count": 32,
     "metadata": {},
     "output_type": "execute_result"
    },
    {
     "name": "stderr",
     "output_type": "stream",
     "text": [
      "\u001b[2m\u001b[33m(raylet)\u001b[0m /Users/russojd/opt/anaconda3/envs/protein-like_msm/lib/python3.9/site-packages/ray/dashboard/agent.py:152: DeprecationWarning: distutils Version classes are deprecated. Use packaging.version instead.\n",
      "\u001b[2m\u001b[33m(raylet)\u001b[0m   if LooseVersion(aiohttp.__version__) < LooseVersion(\"4.0.0\"):\n"
     ]
    }
   ],
   "source": [
    "ray.init(num_cpus=4)"
   ]
  },
  {
   "cell_type": "code",
   "execution_count": 55,
   "metadata": {
    "execution": {
     "iopub.execute_input": "2022-02-16T17:34:40.520900Z",
     "iopub.status.busy": "2022-02-16T17:34:40.519761Z",
     "iopub.status.idle": "2022-02-17T05:05:49.083736Z",
     "shell.execute_reply": "2022-02-17T05:05:49.080338Z",
     "shell.execute_reply.started": "2022-02-16T17:34:40.520861Z"
    },
    "tags": []
   },
   "outputs": [
    {
     "data": {
      "application/vnd.jupyter.widget-view+json": {
       "model_id": "201b57ece978488db805dbe442b48a7c",
       "version_major": 2,
       "version_minor": 0
      },
      "text/plain": [
       "Submitting jobs:   0%|          | 0/1044000 [00:00<?, ?it/s]"
      ]
     },
     "metadata": {},
     "output_type": "display_data"
    },
    {
     "data": {
      "application/vnd.jupyter.widget-view+json": {
       "model_id": "a12e30df07c64e6cbb005f8dbd88b3b5",
       "version_major": 2,
       "version_minor": 0
      },
      "text/plain": [
       "Retrieving discretized trajectories:   0%|          | 0/1044000 [00:00<?, ?it/s]"
      ]
     },
     "metadata": {},
     "output_type": "display_data"
    }
   ],
   "source": [
    "distance_matrix = np.full(shape=(len(aligned.trajectory)//stride, n_residues, n_residues), fill_value=np.nan)\n",
    "\n",
    "task_ids = []\n",
    "max_inflight = 10\n",
    "chunk_size=100\n",
    "doing_chunk = False\n",
    "\n",
    "for i, frame in tqdm.tqdm(enumerate(aligned.trajectory), total=len(aligned.trajectory), desc='Submitting jobs'):\n",
    "\n",
    "    if not i%stride == 0:\n",
    "        continue\n",
    "        \n",
    "    # if i > 1000: break\n",
    "        \n",
    "#     if len(task_ids) > max_inflight:\n",
    "    \n",
    "#         # The number that need to be ready before we can submit more\n",
    "#         num_ready = i - max_inflight\n",
    "#         ray.wait(task_ids, num_returns=num_ready)\n",
    "                    \n",
    "    _id = analyze_frame.remote(frame, i, aligned.residues, selections, nearby_residue_ids, stride)\n",
    "    \n",
    "    task_ids.append(_id)\n",
    "    \n",
    "with tqdm.tqdm(\n",
    "    total=len(task_ids), desc=\"Retrieving discretized trajectories\"\n",
    ") as pbar:\n",
    "    while task_ids:\n",
    "        result_batch_size = 100\n",
    "        result_batch_size = min(result_batch_size, len(task_ids))\n",
    "\n",
    "        # Returns the first ObjectRef that is ready, with a 20s timeout\n",
    "        finished, task_ids = ray.wait(\n",
    "            task_ids, num_returns=result_batch_size, timeout=20\n",
    "        )\n",
    "        results = ray.get(finished)\n",
    "        \n",
    "        for frame_idx, _dists in results:\n",
    "            for min_dist, (from_residue, to_residue) in _dists:\n",
    "                distance_matrix[frame_idx, from_residue, to_residue] = min_dist\n",
    "            \n",
    "            pbar.update(1)"
   ]
  },
  {
   "cell_type": "raw",
   "metadata": {
    "execution": {
     "iopub.execute_input": "2022-02-17T19:32:57.903413Z",
     "iopub.status.busy": "2022-02-17T19:32:57.899679Z",
     "iopub.status.idle": "2022-02-17T19:34:05.594951Z",
     "shell.execute_reply": "2022-02-17T19:34:05.590717Z",
     "shell.execute_reply.started": "2022-02-17T19:32:57.903335Z"
    }
   },
   "source": [
    "np.savez('distance_matrix.npz', distance_matrix=distance_matrix)"
   ]
  },
  {
   "cell_type": "markdown",
   "metadata": {},
   "source": [
    "#### Load saved"
   ]
  },
  {
   "cell_type": "code",
   "execution_count": 14,
   "metadata": {
    "execution": {
     "iopub.execute_input": "2022-02-17T23:04:24.910025Z",
     "iopub.status.busy": "2022-02-17T23:04:24.909708Z",
     "iopub.status.idle": "2022-02-17T23:04:30.767186Z",
     "shell.execute_reply": "2022-02-17T23:04:30.765529Z",
     "shell.execute_reply.started": "2022-02-17T23:04:24.910000Z"
    },
    "tags": []
   },
   "outputs": [],
   "source": [
    "distance_matrix = np.load('distance_matrix.npz')['distance_matrix']"
   ]
  },
  {
   "cell_type": "code",
   "execution_count": 15,
   "metadata": {
    "execution": {
     "iopub.execute_input": "2022-02-17T23:04:31.671575Z",
     "iopub.status.busy": "2022-02-17T23:04:31.671267Z",
     "iopub.status.idle": "2022-02-17T23:04:31.678499Z",
     "shell.execute_reply": "2022-02-17T23:04:31.677335Z",
     "shell.execute_reply.started": "2022-02-17T23:04:31.671547Z"
    },
    "tags": []
   },
   "outputs": [
    {
     "data": {
      "text/plain": [
       "(1044000, 20, 20)"
      ]
     },
     "execution_count": 15,
     "metadata": {},
     "output_type": "execute_result"
    }
   ],
   "source": [
    "distance_matrix.shape"
   ]
  },
  {
   "cell_type": "code",
   "execution_count": 16,
   "metadata": {
    "execution": {
     "iopub.execute_input": "2022-02-17T23:04:32.445428Z",
     "iopub.status.busy": "2022-02-17T23:04:32.445196Z",
     "iopub.status.idle": "2022-02-17T23:04:47.053984Z",
     "shell.execute_reply": "2022-02-17T23:04:47.053045Z",
     "shell.execute_reply.started": "2022-02-17T23:04:32.445405Z"
    },
    "tags": []
   },
   "outputs": [],
   "source": [
    "# Get rid of the nan terms corresponding to self-distance or adjacent-distrances\n",
    "\n",
    "reduced_distance_matrix = np.full(shape=(distance_matrix.shape[0], n_residues, n_residues-3), fill_value=np.nan)\n",
    "\n",
    "for residue, partners in nearby_residue_ids.items():\n",
    "    \n",
    "    reduced_distance_matrix[:, residue-1] = distance_matrix[:, residue-1, partners-1]"
   ]
  },
  {
   "cell_type": "code",
   "execution_count": 17,
   "metadata": {
    "execution": {
     "iopub.execute_input": "2022-02-17T23:04:47.056355Z",
     "iopub.status.busy": "2022-02-17T23:04:47.055890Z",
     "iopub.status.idle": "2022-02-17T23:04:47.063990Z",
     "shell.execute_reply": "2022-02-17T23:04:47.063052Z",
     "shell.execute_reply.started": "2022-02-17T23:04:47.056327Z"
    },
    "tags": []
   },
   "outputs": [
    {
     "data": {
      "text/plain": [
       "(1044000, 20, 17)"
      ]
     },
     "execution_count": 17,
     "metadata": {},
     "output_type": "execute_result"
    }
   ],
   "source": [
    "reduced_distance_matrix.shape"
   ]
  },
  {
   "cell_type": "code",
   "execution_count": 18,
   "metadata": {
    "execution": {
     "iopub.execute_input": "2022-02-17T23:04:47.065645Z",
     "iopub.status.busy": "2022-02-17T23:04:47.065298Z",
     "iopub.status.idle": "2022-02-17T23:04:47.572075Z",
     "shell.execute_reply": "2022-02-17T23:04:47.571260Z",
     "shell.execute_reply.started": "2022-02-17T23:04:47.065620Z"
    },
    "tags": []
   },
   "outputs": [
    {
     "data": {
      "text/plain": [
       "False"
      ]
     },
     "execution_count": 18,
     "metadata": {},
     "output_type": "execute_result"
    }
   ],
   "source": [
    "assert np.isnan(reduced_distance_matrix).any()"
   ]
  },
  {
   "cell_type": "markdown",
   "metadata": {},
   "source": [
    "## Dimensionality reduction\n",
    "\n",
    "At a 10ns MSM lag time (i.e. 50-frames, since each frame is 200ps), the dimensionality reduction was\n",
    "- commute tICA\n",
    "- 10ns tICA lag\n",
    "- 10 tICs\n",
    "- 200 microstates"
   ]
  },
  {
   "cell_type": "code",
   "execution_count": 89,
   "metadata": {
    "execution": {
     "iopub.execute_input": "2022-02-17T23:13:14.925391Z",
     "iopub.status.busy": "2022-02-17T23:13:14.925105Z",
     "iopub.status.idle": "2022-02-17T23:13:14.929335Z",
     "shell.execute_reply": "2022-02-17T23:13:14.928427Z",
     "shell.execute_reply.started": "2022-02-17T23:13:14.925364Z"
    },
    "tags": []
   },
   "outputs": [],
   "source": [
    "_map_type = 'commute_map'\n",
    "lag_steps = 50\n",
    "n_tics = 10\n",
    "n_clusters = 1000\n",
    "msm_lag_steps = 50"
   ]
  },
  {
   "cell_type": "code",
   "execution_count": 26,
   "metadata": {
    "execution": {
     "iopub.execute_input": "2022-02-17T23:06:15.456646Z",
     "iopub.status.busy": "2022-02-17T23:06:15.456401Z",
     "iopub.status.idle": "2022-02-17T23:06:15.460504Z",
     "shell.execute_reply": "2022-02-17T23:06:15.459298Z",
     "shell.execute_reply.started": "2022-02-17T23:06:15.456622Z"
    },
    "tags": []
   },
   "outputs": [],
   "source": [
    "unrolled_distances = reduced_distance_matrix.reshape((reduced_distance_matrix.shape[0], -1))"
   ]
  },
  {
   "cell_type": "code",
   "execution_count": 27,
   "metadata": {
    "execution": {
     "iopub.execute_input": "2022-02-17T23:06:15.697577Z",
     "iopub.status.busy": "2022-02-17T23:06:15.697247Z",
     "iopub.status.idle": "2022-02-17T23:06:15.708585Z",
     "shell.execute_reply": "2022-02-17T23:06:15.704408Z",
     "shell.execute_reply.started": "2022-02-17T23:06:15.697547Z"
    },
    "tags": []
   },
   "outputs": [
    {
     "data": {
      "text/plain": [
       "((1044000, 20, 17), (1044000, 340))"
      ]
     },
     "execution_count": 27,
     "metadata": {},
     "output_type": "execute_result"
    }
   ],
   "source": [
    "reduced_distance_matrix.shape, unrolled_distances.shape"
   ]
  },
  {
   "cell_type": "markdown",
   "metadata": {},
   "source": [
    "### Calculate fresh"
   ]
  },
  {
   "cell_type": "code",
   "execution_count": 28,
   "metadata": {
    "execution": {
     "iopub.execute_input": "2022-02-17T23:06:16.063821Z",
     "iopub.status.busy": "2022-02-17T23:06:16.063602Z",
     "iopub.status.idle": "2022-02-17T23:06:16.066787Z",
     "shell.execute_reply": "2022-02-17T23:06:16.066087Z",
     "shell.execute_reply.started": "2022-02-17T23:06:16.063800Z"
    },
    "tags": []
   },
   "outputs": [],
   "source": [
    "tica = TICA(lagtime=lag_steps, dim=n_tics, scaling=_map_type)"
   ]
  },
  {
   "cell_type": "code",
   "execution_count": 29,
   "metadata": {
    "execution": {
     "iopub.execute_input": "2022-02-17T23:06:16.331447Z",
     "iopub.status.busy": "2022-02-17T23:06:16.331186Z",
     "iopub.status.idle": "2022-02-17T23:06:57.144504Z",
     "shell.execute_reply": "2022-02-17T23:06:57.141523Z",
     "shell.execute_reply.started": "2022-02-17T23:06:16.331421Z"
    },
    "tags": []
   },
   "outputs": [],
   "source": [
    "tica_model = tica.fit_fetch(unrolled_distances, verbose=True)"
   ]
  },
  {
   "cell_type": "code",
   "execution_count": 30,
   "metadata": {
    "execution": {
     "iopub.execute_input": "2022-02-17T23:06:57.153522Z",
     "iopub.status.busy": "2022-02-17T23:06:57.152337Z",
     "iopub.status.idle": "2022-02-17T23:07:06.624231Z",
     "shell.execute_reply": "2022-02-17T23:07:06.618488Z",
     "shell.execute_reply.started": "2022-02-17T23:06:57.153492Z"
    },
    "tags": []
   },
   "outputs": [],
   "source": [
    "projection = tica_model.transform(unrolled_distances)"
   ]
  },
  {
   "cell_type": "code",
   "execution_count": 31,
   "metadata": {
    "execution": {
     "iopub.execute_input": "2022-02-17T23:07:06.626503Z",
     "iopub.status.busy": "2022-02-17T23:07:06.625585Z",
     "iopub.status.idle": "2022-02-17T23:07:06.799249Z",
     "shell.execute_reply": "2022-02-17T23:07:06.798704Z",
     "shell.execute_reply.started": "2022-02-17T23:07:06.626474Z"
    }
   },
   "outputs": [],
   "source": [
    "np.savez('tica', tica=tica, tica_model=tica_model, projection=projection)"
   ]
  },
  {
   "cell_type": "markdown",
   "metadata": {},
   "source": [
    "### Load saved"
   ]
  },
  {
   "cell_type": "code",
   "execution_count": 34,
   "metadata": {
    "execution": {
     "iopub.execute_input": "2022-02-17T23:07:45.007388Z",
     "iopub.status.busy": "2022-02-17T23:07:45.007082Z",
     "iopub.status.idle": "2022-02-17T23:07:45.145451Z",
     "shell.execute_reply": "2022-02-17T23:07:45.144839Z",
     "shell.execute_reply.started": "2022-02-17T23:07:45.007363Z"
    },
    "tags": []
   },
   "outputs": [],
   "source": [
    "_tica = np.load('tica.npz', allow_pickle=True)\n",
    "tica = _tica['tica']\n",
    "tica_model = _tica['tica_model']\n",
    "projection = _tica['projection']"
   ]
  },
  {
   "cell_type": "code",
   "execution_count": 35,
   "metadata": {
    "collapsed": false,
    "execution": {
     "iopub.execute_input": "2022-02-17T23:07:46.372646Z",
     "iopub.status.busy": "2022-02-17T23:07:46.372358Z",
     "iopub.status.idle": "2022-02-17T23:07:46.378852Z",
     "shell.execute_reply": "2022-02-17T23:07:46.377976Z",
     "shell.execute_reply.started": "2022-02-17T23:07:46.372620Z"
    },
    "jupyter": {
     "outputs_hidden": false
    },
    "pycharm": {
     "name": "#%%\n"
    },
    "tags": []
   },
   "outputs": [
    {
     "data": {
      "text/plain": [
       "(1044000, 10)"
      ]
     },
     "execution_count": 35,
     "metadata": {},
     "output_type": "execute_result"
    }
   ],
   "source": [
    "projection.shape"
   ]
  },
  {
   "cell_type": "markdown",
   "metadata": {},
   "source": [
    "### Visualize tIC 0 and RMSD\n",
    "\n",
    "Visually compare the tIC projection and the RMSD. If the tIC projection looks weird, try looking at some others.\n",
    "\n",
    "tIC 0 PROBABLY maps to RMSD (i.e., it usually does)"
   ]
  },
  {
   "cell_type": "code",
   "execution_count": 36,
   "metadata": {
    "execution": {
     "iopub.execute_input": "2022-02-17T23:07:48.128143Z",
     "iopub.status.busy": "2022-02-17T23:07:48.127909Z",
     "iopub.status.idle": "2022-02-17T23:07:48.131077Z",
     "shell.execute_reply": "2022-02-17T23:07:48.130243Z",
     "shell.execute_reply.started": "2022-02-17T23:07:48.128117Z"
    },
    "tags": []
   },
   "outputs": [],
   "source": [
    "tic_rmsd = 0"
   ]
  },
  {
   "cell_type": "code",
   "execution_count": 37,
   "metadata": {
    "execution": {
     "iopub.execute_input": "2022-02-17T23:07:49.846501Z",
     "iopub.status.busy": "2022-02-17T23:07:49.845960Z",
     "iopub.status.idle": "2022-02-17T23:07:50.415233Z",
     "shell.execute_reply": "2022-02-17T23:07:50.414455Z",
     "shell.execute_reply.started": "2022-02-17T23:07:49.846474Z"
    },
    "tags": []
   },
   "outputs": [
    {
     "data": {
      "text/plain": [
       "<matplotlib.legend.Legend at 0x15c81ed00>"
      ]
     },
     "execution_count": 37,
     "metadata": {},
     "output_type": "execute_result"
    },
    {
     "data": {
      "image/png": "[encoded data removed]",
      "text/plain": [
       "<Figure size 432x288 with 2 Axes>"
      ]
     },
     "metadata": {
      "needs_background": "light"
     },
     "output_type": "display_data"
    }
   ],
   "source": [
    "fig, ax = plt.subplots()\n",
    "\n",
    "ax.plot(projection[:, tic_rmsd], label=f'tIC {tic_rmsd}', color='tab:blue')\n",
    "ax.set_ylabel('tIC')\n",
    "\n",
    "ax2 = ax.twinx()\n",
    "ax2.plot(rmsd[::1], label='RMSD', alpha=0.5, color='tab:orange')\n",
    "ax2.set_ylabel('RMSD')\n",
    "\n",
    "fig.legend()"
   ]
  },
  {
   "cell_type": "markdown",
   "metadata": {
    "pycharm": {
     "name": "#%% md\n"
    }
   },
   "source": [
    "## Discretize trajectory"
   ]
  },
  {
   "cell_type": "markdown",
   "metadata": {
    "jp-MarkdownHeadingCollapsed": true,
    "tags": []
   },
   "source": [
    "### Aggregate clustering"
   ]
  },
  {
   "cell_type": "markdown",
   "metadata": {
    "pycharm": {
     "name": "#%% md\n"
    }
   },
   "source": [
    "We'll just do a simple k-means clustering on the RMSDs.\n",
    "\n",
    "[Deeptime k-means clustering documentation](https://deeptime-ml.github.io/latest/notebooks/clustering.html)"
   ]
  },
  {
   "cell_type": "code",
   "execution_count": 299,
   "metadata": {
    "execution": {
     "iopub.execute_input": "2022-02-10T23:51:47.420218Z",
     "iopub.status.busy": "2022-02-10T23:51:47.418106Z",
     "iopub.status.idle": "2022-02-10T23:51:47.439044Z",
     "shell.execute_reply": "2022-02-10T23:51:47.437615Z",
     "shell.execute_reply.started": "2022-02-10T23:51:47.418665Z"
    },
    "tags": []
   },
   "outputs": [],
   "source": [
    "# Number of clusters for k-means\n",
    "# n_clusters = 1000"
   ]
  },
  {
   "cell_type": "code",
   "execution_count": 89,
   "metadata": {
    "execution": {
     "iopub.execute_input": "2022-02-17T20:11:16.697832Z",
     "iopub.status.busy": "2022-02-17T20:11:16.697305Z",
     "iopub.status.idle": "2022-02-17T20:11:16.716833Z",
     "shell.execute_reply": "2022-02-17T20:11:16.715734Z",
     "shell.execute_reply.started": "2022-02-17T20:11:16.697723Z"
    },
    "pycharm": {
     "name": "#%%\n"
    },
    "tags": []
   },
   "outputs": [],
   "source": [
    "# Initialize the estimator\n",
    "# Perform the clustering\n",
    "\n",
    "kmeans_estimator = KMeans(\n",
    "    n_clusters=n_clusters,\n",
    "    # init_strategy='uniform',\n",
    "    max_iter=1000,\n",
    "    fixed_seed=1337,\n",
    "    n_jobs=4,\n",
    "    progress=tqdm.tqdm\n",
    ")"
   ]
  },
  {
   "cell_type": "code",
   "execution_count": 90,
   "metadata": {
    "execution": {
     "iopub.execute_input": "2022-02-17T20:11:18.351967Z",
     "iopub.status.busy": "2022-02-17T20:11:18.350970Z",
     "iopub.status.idle": "2022-02-17T20:39:49.091656Z",
     "shell.execute_reply": "2022-02-17T20:39:49.089077Z",
     "shell.execute_reply.started": "2022-02-17T20:11:18.351910Z"
    },
    "pycharm": {
     "name": "#%%\n"
    },
    "tags": []
   },
   "outputs": [
    {
     "data": {
      "application/vnd.jupyter.widget-view+json": {
       "model_id": "697531ce31f94f7e92248d1b843251a7",
       "version_major": 2,
       "version_minor": 0
      },
      "text/plain": [
       "  0%|          | 0/1000 [00:00<?, ?it/s]"
      ]
     },
     "metadata": {},
     "output_type": "display_data"
    },
    {
     "data": {
      "application/vnd.jupyter.widget-view+json": {
       "model_id": "ea9e15fcc30a4249841bb858b3a4d701",
       "version_major": 2,
       "version_minor": 0
      },
      "text/plain": [
       "  0%|          | 0/1000 [00:00<?, ?it/s]"
      ]
     },
     "metadata": {},
     "output_type": "display_data"
    }
   ],
   "source": [
    "clustering = kmeans_estimator.fit(projection).fetch_model()"
   ]
  },
  {
   "cell_type": "code",
   "execution_count": 93,
   "metadata": {
    "execution": {
     "iopub.execute_input": "2022-02-17T21:01:44.632178Z",
     "iopub.status.busy": "2022-02-17T21:01:44.631717Z",
     "iopub.status.idle": "2022-02-17T21:01:44.669490Z",
     "shell.execute_reply": "2022-02-17T21:01:44.667817Z",
     "shell.execute_reply.started": "2022-02-17T21:01:44.632142Z"
    },
    "tags": []
   },
   "outputs": [],
   "source": [
    "pickle.dump(clustering, open('clustering.obj', 'wb'))\n",
    "pickle.dump(kmeans_estimator, open('kmeans_estimator.obj', 'wb'))"
   ]
  },
  {
   "cell_type": "code",
   "execution_count": null,
   "metadata": {},
   "outputs": [],
   "source": []
  },
  {
   "cell_type": "code",
   "execution_count": 92,
   "metadata": {
    "execution": {
     "iopub.execute_input": "2022-02-17T21:01:13.647459Z",
     "iopub.status.busy": "2022-02-17T21:01:13.647147Z",
     "iopub.status.idle": "2022-02-17T21:01:44.628632Z",
     "shell.execute_reply": "2022-02-17T21:01:44.627221Z",
     "shell.execute_reply.started": "2022-02-17T21:01:13.647437Z"
    },
    "pycharm": {
     "name": "#%%\n"
    },
    "tags": []
   },
   "outputs": [],
   "source": [
    "# Discretize the trajectory\n",
    "discrete_trajectory = clustering.transform(projection)"
   ]
  },
  {
   "cell_type": "code",
   "execution_count": 96,
   "metadata": {
    "execution": {
     "iopub.execute_input": "2022-02-17T21:03:12.924514Z",
     "iopub.status.busy": "2022-02-17T21:03:12.924189Z",
     "iopub.status.idle": "2022-02-17T21:03:13.555576Z",
     "shell.execute_reply": "2022-02-17T21:03:13.554380Z",
     "shell.execute_reply.started": "2022-02-17T21:03:12.924491Z"
    },
    "pycharm": {
     "name": "#%%\n"
    },
    "tags": []
   },
   "outputs": [
    {
     "data": {
      "image/png": "[encoded data removed]",
      "text/plain": [
       "<Figure size 864x288 with 2 Axes>"
      ]
     },
     "metadata": {
      "needs_background": "light"
     },
     "output_type": "display_data"
    }
   ],
   "source": [
    "# Plot the RMSDs and discrete trajectory\n",
    "fig, rmsd_ax = plt.subplots(1,1)\n",
    "\n",
    "discrete_ax = rmsd_ax.twinx()\n",
    "\n",
    "discrete_ax.plot(discrete_trajectory[::50], color='k', label='Discrete')\n",
    "discrete_ax.set_ylabel('State')\n",
    "\n",
    "rmsd_ax.plot(rmsd[::rmsd_stride*50], color='gray', label='RMSD')\n",
    "rmsd_ax.set_ylabel('RMSD')\n",
    "\n",
    "\n",
    "rmsd_ax.set_zorder(10)\n",
    "rmsd_ax.patch.set_visible(False)\n",
    "\n",
    "fig.legend()\n",
    "fig.set_size_inches(12,4)"
   ]
  },
  {
   "cell_type": "markdown",
   "metadata": {},
   "source": [
    "### Stratified clustering"
   ]
  },
  {
   "cell_type": "markdown",
   "metadata": {},
   "source": [
    "Here, I want to divide up RMSD uniformly, and then cluster within each RMSD-bin."
   ]
  },
  {
   "cell_type": "code",
   "execution_count": 97,
   "metadata": {
    "execution": {
     "iopub.execute_input": "2022-02-17T23:14:16.975692Z",
     "iopub.status.busy": "2022-02-17T23:14:16.975444Z",
     "iopub.status.idle": "2022-02-17T23:14:16.981825Z",
     "shell.execute_reply": "2022-02-17T23:14:16.981216Z",
     "shell.execute_reply.started": "2022-02-17T23:14:16.975668Z"
    },
    "tags": []
   },
   "outputs": [
    {
     "data": {
      "text/plain": [
       "array([ 1.        ,  1.24489796,  1.48979592,  1.73469388,  1.97959184,\n",
       "        2.2244898 ,  2.46938776,  2.71428571,  2.95918367,  3.20408163,\n",
       "        3.44897959,  3.69387755,  3.93877551,  4.18367347,  4.42857143,\n",
       "        4.67346939,  4.91836735,  5.16326531,  5.40816327,  5.65306122,\n",
       "        5.89795918,  6.14285714,  6.3877551 ,  6.63265306,  6.87755102,\n",
       "        7.12244898,  7.36734694,  7.6122449 ,  7.85714286,  8.10204082,\n",
       "        8.34693878,  8.59183673,  8.83673469,  9.08163265,  9.32653061,\n",
       "        9.57142857,  9.81632653, 10.06122449, 10.30612245, 10.55102041,\n",
       "       10.79591837, 11.04081633, 11.28571429, 11.53061224, 11.7755102 ,\n",
       "       12.02040816, 12.26530612, 12.51020408, 12.75510204, 13.        ])"
      ]
     },
     "execution_count": 97,
     "metadata": {},
     "output_type": "execute_result"
    }
   ],
   "source": [
    "# Now, cluster within each of those.\n",
    "# clusters_per_strat = 10\n",
    "n_strat_bins = 50\n",
    "clusters_per_strat = n_clusters // n_strat_bins\n",
    "\n",
    "rmsd_bins = np.linspace(1, 13, n_strat_bins)\n",
    "rmsd_bins"
   ]
  },
  {
   "cell_type": "code",
   "execution_count": 98,
   "metadata": {
    "execution": {
     "iopub.execute_input": "2022-02-17T23:14:17.785185Z",
     "iopub.status.busy": "2022-02-17T23:14:17.784884Z",
     "iopub.status.idle": "2022-02-17T23:14:17.790118Z",
     "shell.execute_reply": "2022-02-17T23:14:17.789265Z",
     "shell.execute_reply.started": "2022-02-17T23:14:17.785163Z"
    },
    "tags": []
   },
   "outputs": [
    {
     "data": {
      "text/plain": [
       "((1044000,), (1044000, 10))"
      ]
     },
     "execution_count": 98,
     "metadata": {},
     "output_type": "execute_result"
    }
   ],
   "source": [
    "rmsd.shape, projection.shape"
   ]
  },
  {
   "cell_type": "code",
   "execution_count": 99,
   "metadata": {
    "execution": {
     "iopub.execute_input": "2022-02-17T23:14:18.047067Z",
     "iopub.status.busy": "2022-02-17T23:14:18.046831Z",
     "iopub.status.idle": "2022-02-17T23:14:18.392655Z",
     "shell.execute_reply": "2022-02-17T23:14:18.392061Z",
     "shell.execute_reply.started": "2022-02-17T23:14:18.047043Z"
    },
    "tags": []
   },
   "outputs": [
    {
     "data": {
      "image/png": "[encoded data removed]",
      "text/plain": [
       "<Figure size 864x288 with 1 Axes>"
      ]
     },
     "metadata": {
      "needs_background": "light"
     },
     "output_type": "display_data"
    }
   ],
   "source": [
    "plt.plot(rmsd[::rmsd_stride])\n",
    "plt.gcf().set_size_inches(12,4)\n",
    "\n",
    "[plt.axhline(rmsd_bin, color='k') for rmsd_bin in rmsd_bins];"
   ]
  },
  {
   "cell_type": "code",
   "execution_count": 100,
   "metadata": {
    "execution": {
     "iopub.execute_input": "2022-02-17T23:14:21.300866Z",
     "iopub.status.busy": "2022-02-17T23:14:21.300107Z",
     "iopub.status.idle": "2022-02-17T23:14:49.892809Z",
     "shell.execute_reply": "2022-02-17T23:14:49.892042Z",
     "shell.execute_reply.started": "2022-02-17T23:14:21.300825Z"
    },
    "pycharm": {
     "name": "#%%\n"
    },
    "scrolled": true,
    "tags": []
   },
   "outputs": [
    {
     "data": {
      "application/vnd.jupyter.widget-view+json": {
       "model_id": "c913aa3db9624553820da34f12563367",
       "version_major": 2,
       "version_minor": 0
      },
      "text/plain": [
       "  0%|          | 0/51 [00:00<?, ?it/s]"
      ]
     },
     "metadata": {},
     "output_type": "display_data"
    },
    {
     "data": {
      "application/vnd.jupyter.widget-view+json": {
       "model_id": "de0dbb34f280481ab10cc837dbfd5aea",
       "version_major": 2,
       "version_minor": 0
      },
      "text/plain": [
       "  0%|          | 0/20 [00:00<?, ?it/s]"
      ]
     },
     "metadata": {},
     "output_type": "display_data"
    },
    {
     "data": {
      "application/vnd.jupyter.widget-view+json": {
       "model_id": "0bd6c8ce20d240aa8074e8088c4574a2",
       "version_major": 2,
       "version_minor": 0
      },
      "text/plain": [
       "  0%|          | 0/1000 [00:00<?, ?it/s]"
      ]
     },
     "metadata": {},
     "output_type": "display_data"
    },
    {
     "data": {
      "application/vnd.jupyter.widget-view+json": {
       "model_id": "e608c618d9464c7ca7d06bf3a15650eb",
       "version_major": 2,
       "version_minor": 0
      },
      "text/plain": [
       "  0%|          | 0/20 [00:00<?, ?it/s]"
      ]
     },
     "metadata": {},
     "output_type": "display_data"
    },
    {
     "data": {
      "application/vnd.jupyter.widget-view+json": {
       "model_id": "7ea7586f8cdb464daddaf83f22c8c784",
       "version_major": 2,
       "version_minor": 0
      },
      "text/plain": [
       "  0%|          | 0/1000 [00:00<?, ?it/s]"
      ]
     },
     "metadata": {},
     "output_type": "display_data"
    },
    {
     "data": {
      "application/vnd.jupyter.widget-view+json": {
       "model_id": "5a0dc1f279cb4b6ba44e0a77f6dec15a",
       "version_major": 2,
       "version_minor": 0
      },
      "text/plain": [
       "  0%|          | 0/20 [00:00<?, ?it/s]"
      ]
     },
     "metadata": {},
     "output_type": "display_data"
    },
    {
     "data": {
      "application/vnd.jupyter.widget-view+json": {
       "model_id": "f62b5ec2ae3d4e3fa759e9716c0eac64",
       "version_major": 2,
       "version_minor": 0
      },
      "text/plain": [
       "  0%|          | 0/1000 [00:00<?, ?it/s]"
      ]
     },
     "metadata": {},
     "output_type": "display_data"
    },
    {
     "data": {
      "application/vnd.jupyter.widget-view+json": {
       "model_id": "929704e3c5d84d5c9d48f56ccf8a70f5",
       "version_major": 2,
       "version_minor": 0
      },
      "text/plain": [
       "  0%|          | 0/20 [00:00<?, ?it/s]"
      ]
     },
     "metadata": {},
     "output_type": "display_data"
    },
    {
     "data": {
      "application/vnd.jupyter.widget-view+json": {
       "model_id": "f0a6a35997b243a4916f81d90052b49d",
       "version_major": 2,
       "version_minor": 0
      },
      "text/plain": [
       "  0%|          | 0/1000 [00:00<?, ?it/s]"
      ]
     },
     "metadata": {},
     "output_type": "display_data"
    },
    {
     "data": {
      "application/vnd.jupyter.widget-view+json": {
       "model_id": "ef562b8d388c4ac3aa4cca91e85bbf48",
       "version_major": 2,
       "version_minor": 0
      },
      "text/plain": [
       "  0%|          | 0/20 [00:00<?, ?it/s]"
      ]
     },
     "metadata": {},
     "output_type": "display_data"
    },
    {
     "data": {
      "application/vnd.jupyter.widget-view+json": {
       "model_id": "0857d57774ba44dd8bc32f332a2fa1db",
       "version_major": 2,
       "version_minor": 0
      },
      "text/plain": [
       "  0%|          | 0/1000 [00:00<?, ?it/s]"
      ]
     },
     "metadata": {},
     "output_type": "display_data"
    },
    {
     "data": {
      "application/vnd.jupyter.widget-view+json": {
       "model_id": "3f5a82ff46e84dc0ba10b0a56628b677",
       "version_major": 2,
       "version_minor": 0
      },
      "text/plain": [
       "  0%|          | 0/20 [00:00<?, ?it/s]"
      ]
     },
     "metadata": {},
     "output_type": "display_data"
    },
    {
     "data": {
      "application/vnd.jupyter.widget-view+json": {
       "model_id": "567df334fa1f4ffd9444b78319792195",
       "version_major": 2,
       "version_minor": 0
      },
      "text/plain": [
       "  0%|          | 0/1000 [00:00<?, ?it/s]"
      ]
     },
     "metadata": {},
     "output_type": "display_data"
    },
    {
     "data": {
      "application/vnd.jupyter.widget-view+json": {
       "model_id": "435daf31cc6c477688d667b104f00e47",
       "version_major": 2,
       "version_minor": 0
      },
      "text/plain": [
       "  0%|          | 0/20 [00:00<?, ?it/s]"
      ]
     },
     "metadata": {},
     "output_type": "display_data"
    },
    {
     "data": {
      "application/vnd.jupyter.widget-view+json": {
       "model_id": "76a35df1a9d548059e7ee12f13636bb6",
       "version_major": 2,
       "version_minor": 0
      },
      "text/plain": [
       "  0%|          | 0/1000 [00:00<?, ?it/s]"
      ]
     },
     "metadata": {},
     "output_type": "display_data"
    },
    {
     "data": {
      "application/vnd.jupyter.widget-view+json": {
       "model_id": "c0d5e75ab3584da2bc22767366260dec",
       "version_major": 2,
       "version_minor": 0
      },
      "text/plain": [
       "  0%|          | 0/20 [00:00<?, ?it/s]"
      ]
     },
     "metadata": {},
     "output_type": "display_data"
    },
    {
     "data": {
      "application/vnd.jupyter.widget-view+json": {
       "model_id": "1b90a36d5e4e4aa4851e1c8a2e63cd36",
       "version_major": 2,
       "version_minor": 0
      },
      "text/plain": [
       "  0%|          | 0/1000 [00:00<?, ?it/s]"
      ]
     },
     "metadata": {},
     "output_type": "display_data"
    },
    {
     "data": {
      "application/vnd.jupyter.widget-view+json": {
       "model_id": "af2a62d9f4e74835a41b74e2719757fe",
       "version_major": 2,
       "version_minor": 0
      },
      "text/plain": [
       "  0%|          | 0/20 [00:00<?, ?it/s]"
      ]
     },
     "metadata": {},
     "output_type": "display_data"
    },
    {
     "data": {
      "application/vnd.jupyter.widget-view+json": {
       "model_id": "9364e66edcc1469fab7759d72695b144",
       "version_major": 2,
       "version_minor": 0
      },
      "text/plain": [
       "  0%|          | 0/1000 [00:00<?, ?it/s]"
      ]
     },
     "metadata": {},
     "output_type": "display_data"
    },
    {
     "data": {
      "application/vnd.jupyter.widget-view+json": {
       "model_id": "712c8ff27fba4afab8a13a9b755d063d",
       "version_major": 2,
       "version_minor": 0
      },
      "text/plain": [
       "  0%|          | 0/20 [00:00<?, ?it/s]"
      ]
     },
     "metadata": {},
     "output_type": "display_data"
    },
    {
     "data": {
      "application/vnd.jupyter.widget-view+json": {
       "model_id": "ce4b83c9a4884d78878a6c7d81c88581",
       "version_major": 2,
       "version_minor": 0
      },
      "text/plain": [
       "  0%|          | 0/1000 [00:00<?, ?it/s]"
      ]
     },
     "metadata": {},
     "output_type": "display_data"
    },
    {
     "data": {
      "application/vnd.jupyter.widget-view+json": {
       "model_id": "e0b39922b00340b5999fa83d4881ed2a",
       "version_major": 2,
       "version_minor": 0
      },
      "text/plain": [
       "  0%|          | 0/20 [00:00<?, ?it/s]"
      ]
     },
     "metadata": {},
     "output_type": "display_data"
    },
    {
     "data": {
      "application/vnd.jupyter.widget-view+json": {
       "model_id": "6896c8f7fd994b3f99226e1bd3d1fe5d",
       "version_major": 2,
       "version_minor": 0
      },
      "text/plain": [
       "  0%|          | 0/1000 [00:00<?, ?it/s]"
      ]
     },
     "metadata": {},
     "output_type": "display_data"
    },
    {
     "data": {
      "application/vnd.jupyter.widget-view+json": {
       "model_id": "ff72cf6c9ed547e2bf0f6c72bfac6272",
       "version_major": 2,
       "version_minor": 0
      },
      "text/plain": [
       "  0%|          | 0/20 [00:00<?, ?it/s]"
      ]
     },
     "metadata": {},
     "output_type": "display_data"
    },
    {
     "data": {
      "application/vnd.jupyter.widget-view+json": {
       "model_id": "d743c64f8fd2453aaf5e9e48eb8ec8dc",
       "version_major": 2,
       "version_minor": 0
      },
      "text/plain": [
       "  0%|          | 0/1000 [00:00<?, ?it/s]"
      ]
     },
     "metadata": {},
     "output_type": "display_data"
    },
    {
     "data": {
      "application/vnd.jupyter.widget-view+json": {
       "model_id": "ddb3142ab734452fbbe5e4e15e89e442",
       "version_major": 2,
       "version_minor": 0
      },
      "text/plain": [
       "  0%|          | 0/20 [00:00<?, ?it/s]"
      ]
     },
     "metadata": {},
     "output_type": "display_data"
    },
    {
     "data": {
      "application/vnd.jupyter.widget-view+json": {
       "model_id": "68bd362e44e9455381fb6c7c59f91c35",
       "version_major": 2,
       "version_minor": 0
      },
      "text/plain": [
       "  0%|          | 0/1000 [00:00<?, ?it/s]"
      ]
     },
     "metadata": {},
     "output_type": "display_data"
    },
    {
     "data": {
      "application/vnd.jupyter.widget-view+json": {
       "model_id": "dbcd98e6476244239b6461bd9a607894",
       "version_major": 2,
       "version_minor": 0
      },
      "text/plain": [
       "  0%|          | 0/20 [00:00<?, ?it/s]"
      ]
     },
     "metadata": {},
     "output_type": "display_data"
    },
    {
     "data": {
      "application/vnd.jupyter.widget-view+json": {
       "model_id": "4d8a8f67304046289ce9785d9561b9ba",
       "version_major": 2,
       "version_minor": 0
      },
      "text/plain": [
       "  0%|          | 0/1000 [00:00<?, ?it/s]"
      ]
     },
     "metadata": {},
     "output_type": "display_data"
    },
    {
     "data": {
      "application/vnd.jupyter.widget-view+json": {
       "model_id": "2befc5406d404862aeaa3d4e3ec212b7",
       "version_major": 2,
       "version_minor": 0
      },
      "text/plain": [
       "  0%|          | 0/20 [00:00<?, ?it/s]"
      ]
     },
     "metadata": {},
     "output_type": "display_data"
    },
    {
     "data": {
      "application/vnd.jupyter.widget-view+json": {
       "model_id": "5427f52f7b004cecba830602df779214",
       "version_major": 2,
       "version_minor": 0
      },
      "text/plain": [
       "  0%|          | 0/1000 [00:00<?, ?it/s]"
      ]
     },
     "metadata": {},
     "output_type": "display_data"
    },
    {
     "data": {
      "application/vnd.jupyter.widget-view+json": {
       "model_id": "4c50ff34a0f842c38db5aa9009a1eb7f",
       "version_major": 2,
       "version_minor": 0
      },
      "text/plain": [
       "  0%|          | 0/20 [00:00<?, ?it/s]"
      ]
     },
     "metadata": {},
     "output_type": "display_data"
    },
    {
     "data": {
      "application/vnd.jupyter.widget-view+json": {
       "model_id": "b77c83694b1940e7abc20a501292854c",
       "version_major": 2,
       "version_minor": 0
      },
      "text/plain": [
       "  0%|          | 0/1000 [00:00<?, ?it/s]"
      ]
     },
     "metadata": {},
     "output_type": "display_data"
    },
    {
     "data": {
      "application/vnd.jupyter.widget-view+json": {
       "model_id": "d6df3af463d543d9978413278c618864",
       "version_major": 2,
       "version_minor": 0
      },
      "text/plain": [
       "  0%|          | 0/20 [00:00<?, ?it/s]"
      ]
     },
     "metadata": {},
     "output_type": "display_data"
    },
    {
     "data": {
      "application/vnd.jupyter.widget-view+json": {
       "model_id": "c73e86ba9ac94ba1985339e475a0c19e",
       "version_major": 2,
       "version_minor": 0
      },
      "text/plain": [
       "  0%|          | 0/1000 [00:00<?, ?it/s]"
      ]
     },
     "metadata": {},
     "output_type": "display_data"
    },
    {
     "data": {
      "application/vnd.jupyter.widget-view+json": {
       "model_id": "6f34cae2e66742a3876f8a699b50d0e1",
       "version_major": 2,
       "version_minor": 0
      },
      "text/plain": [
       "  0%|          | 0/20 [00:00<?, ?it/s]"
      ]
     },
     "metadata": {},
     "output_type": "display_data"
    },
    {
     "data": {
      "application/vnd.jupyter.widget-view+json": {
       "model_id": "dfbc286820e24d4a8db8ea4076a41fc1",
       "version_major": 2,
       "version_minor": 0
      },
      "text/plain": [
       "  0%|          | 0/1000 [00:00<?, ?it/s]"
      ]
     },
     "metadata": {},
     "output_type": "display_data"
    },
    {
     "data": {
      "application/vnd.jupyter.widget-view+json": {
       "model_id": "28f8763c463d4a23aad4a0af8cd57106",
       "version_major": 2,
       "version_minor": 0
      },
      "text/plain": [
       "  0%|          | 0/20 [00:00<?, ?it/s]"
      ]
     },
     "metadata": {},
     "output_type": "display_data"
    },
    {
     "data": {
      "application/vnd.jupyter.widget-view+json": {
       "model_id": "c4a2fca6bca74b7581d6f30647a62ee1",
       "version_major": 2,
       "version_minor": 0
      },
      "text/plain": [
       "  0%|          | 0/1000 [00:00<?, ?it/s]"
      ]
     },
     "metadata": {},
     "output_type": "display_data"
    },
    {
     "data": {
      "application/vnd.jupyter.widget-view+json": {
       "model_id": "6f670ab6e98a473ea359b015fca0fa3d",
       "version_major": 2,
       "version_minor": 0
      },
      "text/plain": [
       "  0%|          | 0/20 [00:00<?, ?it/s]"
      ]
     },
     "metadata": {},
     "output_type": "display_data"
    },
    {
     "data": {
      "application/vnd.jupyter.widget-view+json": {
       "model_id": "dfea38360f784bf883d53e93dccfceca",
       "version_major": 2,
       "version_minor": 0
      },
      "text/plain": [
       "  0%|          | 0/1000 [00:00<?, ?it/s]"
      ]
     },
     "metadata": {},
     "output_type": "display_data"
    },
    {
     "data": {
      "application/vnd.jupyter.widget-view+json": {
       "model_id": "c3998e90514d4a46a9a16cf1f66f43ae",
       "version_major": 2,
       "version_minor": 0
      },
      "text/plain": [
       "  0%|          | 0/20 [00:00<?, ?it/s]"
      ]
     },
     "metadata": {},
     "output_type": "display_data"
    },
    {
     "data": {
      "application/vnd.jupyter.widget-view+json": {
       "model_id": "b1e8cbb1e70a4d658da9a4c3d27263fe",
       "version_major": 2,
       "version_minor": 0
      },
      "text/plain": [
       "  0%|          | 0/1000 [00:00<?, ?it/s]"
      ]
     },
     "metadata": {},
     "output_type": "display_data"
    },
    {
     "data": {
      "application/vnd.jupyter.widget-view+json": {
       "model_id": "05a29b8ede3d4ee1bf8dd2e2aeaa3d83",
       "version_major": 2,
       "version_minor": 0
      },
      "text/plain": [
       "  0%|          | 0/20 [00:00<?, ?it/s]"
      ]
     },
     "metadata": {},
     "output_type": "display_data"
    },
    {
     "data": {
      "application/vnd.jupyter.widget-view+json": {
       "model_id": "18fe4c09f08c4651ab92b30848c62a52",
       "version_major": 2,
       "version_minor": 0
      },
      "text/plain": [
       "  0%|          | 0/1000 [00:00<?, ?it/s]"
      ]
     },
     "metadata": {},
     "output_type": "display_data"
    },
    {
     "data": {
      "application/vnd.jupyter.widget-view+json": {
       "model_id": "ce451c604fe04d9ea5b5554ea3421aa3",
       "version_major": 2,
       "version_minor": 0
      },
      "text/plain": [
       "  0%|          | 0/20 [00:00<?, ?it/s]"
      ]
     },
     "metadata": {},
     "output_type": "display_data"
    },
    {
     "data": {
      "application/vnd.jupyter.widget-view+json": {
       "model_id": "2c87816bb8a8442a858d38448031d1c5",
       "version_major": 2,
       "version_minor": 0
      },
      "text/plain": [
       "  0%|          | 0/1000 [00:00<?, ?it/s]"
      ]
     },
     "metadata": {},
     "output_type": "display_data"
    },
    {
     "data": {
      "application/vnd.jupyter.widget-view+json": {
       "model_id": "eb23f71941a246ef85b0671b2be2e2c9",
       "version_major": 2,
       "version_minor": 0
      },
      "text/plain": [
       "  0%|          | 0/20 [00:00<?, ?it/s]"
      ]
     },
     "metadata": {},
     "output_type": "display_data"
    },
    {
     "data": {
      "application/vnd.jupyter.widget-view+json": {
       "model_id": "de13bc7c31ae416992cffe8e94ae3359",
       "version_major": 2,
       "version_minor": 0
      },
      "text/plain": [
       "  0%|          | 0/1000 [00:00<?, ?it/s]"
      ]
     },
     "metadata": {},
     "output_type": "display_data"
    },
    {
     "data": {
      "application/vnd.jupyter.widget-view+json": {
       "model_id": "609aaf32c8114caca7d9179440d85bd2",
       "version_major": 2,
       "version_minor": 0
      },
      "text/plain": [
       "  0%|          | 0/20 [00:00<?, ?it/s]"
      ]
     },
     "metadata": {},
     "output_type": "display_data"
    },
    {
     "data": {
      "application/vnd.jupyter.widget-view+json": {
       "model_id": "a0e92e7ab3754052a08a037476ab4546",
       "version_major": 2,
       "version_minor": 0
      },
      "text/plain": [
       "  0%|          | 0/1000 [00:00<?, ?it/s]"
      ]
     },
     "metadata": {},
     "output_type": "display_data"
    },
    {
     "data": {
      "application/vnd.jupyter.widget-view+json": {
       "model_id": "725b446290484ae7b914106a2fdc9080",
       "version_major": 2,
       "version_minor": 0
      },
      "text/plain": [
       "  0%|          | 0/20 [00:00<?, ?it/s]"
      ]
     },
     "metadata": {},
     "output_type": "display_data"
    },
    {
     "data": {
      "application/vnd.jupyter.widget-view+json": {
       "model_id": "88b63fce9a0c41069250671d3db8591e",
       "version_major": 2,
       "version_minor": 0
      },
      "text/plain": [
       "  0%|          | 0/1000 [00:00<?, ?it/s]"
      ]
     },
     "metadata": {},
     "output_type": "display_data"
    },
    {
     "data": {
      "application/vnd.jupyter.widget-view+json": {
       "model_id": "1c59c77826cf4cafa335b9e784d4c2fc",
       "version_major": 2,
       "version_minor": 0
      },
      "text/plain": [
       "  0%|          | 0/20 [00:00<?, ?it/s]"
      ]
     },
     "metadata": {},
     "output_type": "display_data"
    },
    {
     "data": {
      "application/vnd.jupyter.widget-view+json": {
       "model_id": "83358754b646455fa2205950616f8039",
       "version_major": 2,
       "version_minor": 0
      },
      "text/plain": [
       "  0%|          | 0/1000 [00:00<?, ?it/s]"
      ]
     },
     "metadata": {},
     "output_type": "display_data"
    },
    {
     "data": {
      "application/vnd.jupyter.widget-view+json": {
       "model_id": "732ef69b0e8a42fabcedb33473f6c301",
       "version_major": 2,
       "version_minor": 0
      },
      "text/plain": [
       "  0%|          | 0/20 [00:00<?, ?it/s]"
      ]
     },
     "metadata": {},
     "output_type": "display_data"
    },
    {
     "data": {
      "application/vnd.jupyter.widget-view+json": {
       "model_id": "51c7801cf93b4b759e7efd722b7cde57",
       "version_major": 2,
       "version_minor": 0
      },
      "text/plain": [
       "  0%|          | 0/1000 [00:00<?, ?it/s]"
      ]
     },
     "metadata": {},
     "output_type": "display_data"
    },
    {
     "data": {
      "application/vnd.jupyter.widget-view+json": {
       "model_id": "8e65e1542bd54e8594ae5c4fb467fded",
       "version_major": 2,
       "version_minor": 0
      },
      "text/plain": [
       "  0%|          | 0/20 [00:00<?, ?it/s]"
      ]
     },
     "metadata": {},
     "output_type": "display_data"
    },
    {
     "data": {
      "application/vnd.jupyter.widget-view+json": {
       "model_id": "4d8919da66a7451cbb4fed9ef471417a",
       "version_major": 2,
       "version_minor": 0
      },
      "text/plain": [
       "  0%|          | 0/1000 [00:00<?, ?it/s]"
      ]
     },
     "metadata": {},
     "output_type": "display_data"
    },
    {
     "data": {
      "application/vnd.jupyter.widget-view+json": {
       "model_id": "2a19cf88e61449cebfdc04df7d7ea9d1",
       "version_major": 2,
       "version_minor": 0
      },
      "text/plain": [
       "  0%|          | 0/20 [00:00<?, ?it/s]"
      ]
     },
     "metadata": {},
     "output_type": "display_data"
    },
    {
     "data": {
      "application/vnd.jupyter.widget-view+json": {
       "model_id": "1c17105a32354edb89de3a26b31f026b",
       "version_major": 2,
       "version_minor": 0
      },
      "text/plain": [
       "  0%|          | 0/1000 [00:00<?, ?it/s]"
      ]
     },
     "metadata": {},
     "output_type": "display_data"
    },
    {
     "data": {
      "application/vnd.jupyter.widget-view+json": {
       "model_id": "e21a89bf2d8d4cf089c5c6796088fd7c",
       "version_major": 2,
       "version_minor": 0
      },
      "text/plain": [
       "  0%|          | 0/20 [00:00<?, ?it/s]"
      ]
     },
     "metadata": {},
     "output_type": "display_data"
    },
    {
     "data": {
      "application/vnd.jupyter.widget-view+json": {
       "model_id": "e6e02020239e4eb78bdc9126d684291f",
       "version_major": 2,
       "version_minor": 0
      },
      "text/plain": [
       "  0%|          | 0/1000 [00:00<?, ?it/s]"
      ]
     },
     "metadata": {},
     "output_type": "display_data"
    },
    {
     "data": {
      "application/vnd.jupyter.widget-view+json": {
       "model_id": "144361d8cd7747ceafbb9c4f76a9ecfa",
       "version_major": 2,
       "version_minor": 0
      },
      "text/plain": [
       "  0%|          | 0/20 [00:00<?, ?it/s]"
      ]
     },
     "metadata": {},
     "output_type": "display_data"
    },
    {
     "data": {
      "application/vnd.jupyter.widget-view+json": {
       "model_id": "34d566e380b44084b58351b5b3735dad",
       "version_major": 2,
       "version_minor": 0
      },
      "text/plain": [
       "  0%|          | 0/1000 [00:00<?, ?it/s]"
      ]
     },
     "metadata": {},
     "output_type": "display_data"
    },
    {
     "data": {
      "application/vnd.jupyter.widget-view+json": {
       "model_id": "28a70a7a62284b63936516dcfd9c8b60",
       "version_major": 2,
       "version_minor": 0
      },
      "text/plain": [
       "  0%|          | 0/20 [00:00<?, ?it/s]"
      ]
     },
     "metadata": {},
     "output_type": "display_data"
    },
    {
     "data": {
      "application/vnd.jupyter.widget-view+json": {
       "model_id": "5f215e199c5a4e31a5c86d1dec797201",
       "version_major": 2,
       "version_minor": 0
      },
      "text/plain": [
       "  0%|          | 0/1000 [00:00<?, ?it/s]"
      ]
     },
     "metadata": {},
     "output_type": "display_data"
    },
    {
     "data": {
      "application/vnd.jupyter.widget-view+json": {
       "model_id": "e89ec85c9b7647a2ae77c36e2e9aea3c",
       "version_major": 2,
       "version_minor": 0
      },
      "text/plain": [
       "  0%|          | 0/20 [00:00<?, ?it/s]"
      ]
     },
     "metadata": {},
     "output_type": "display_data"
    },
    {
     "data": {
      "application/vnd.jupyter.widget-view+json": {
       "model_id": "5ee6ba2b05e34a81be0f9c5ac79946e6",
       "version_major": 2,
       "version_minor": 0
      },
      "text/plain": [
       "  0%|          | 0/1000 [00:00<?, ?it/s]"
      ]
     },
     "metadata": {},
     "output_type": "display_data"
    },
    {
     "data": {
      "application/vnd.jupyter.widget-view+json": {
       "model_id": "857a199f5a4144ba801b1620ef3f55d8",
       "version_major": 2,
       "version_minor": 0
      },
      "text/plain": [
       "  0%|          | 0/20 [00:00<?, ?it/s]"
      ]
     },
     "metadata": {},
     "output_type": "display_data"
    },
    {
     "data": {
      "application/vnd.jupyter.widget-view+json": {
       "model_id": "a32ff333498240eabf88fcd9af8a8b61",
       "version_major": 2,
       "version_minor": 0
      },
      "text/plain": [
       "  0%|          | 0/1000 [00:00<?, ?it/s]"
      ]
     },
     "metadata": {},
     "output_type": "display_data"
    },
    {
     "data": {
      "application/vnd.jupyter.widget-view+json": {
       "model_id": "af1aabef4ce94477bb179cd9e0bcdb3a",
       "version_major": 2,
       "version_minor": 0
      },
      "text/plain": [
       "  0%|          | 0/20 [00:00<?, ?it/s]"
      ]
     },
     "metadata": {},
     "output_type": "display_data"
    },
    {
     "data": {
      "application/vnd.jupyter.widget-view+json": {
       "model_id": "9c02eff5040d4fc39bf797fabe94e497",
       "version_major": 2,
       "version_minor": 0
      },
      "text/plain": [
       "  0%|          | 0/1000 [00:00<?, ?it/s]"
      ]
     },
     "metadata": {},
     "output_type": "display_data"
    },
    {
     "data": {
      "application/vnd.jupyter.widget-view+json": {
       "model_id": "ded184c9b8ff471589a158957de066bc",
       "version_major": 2,
       "version_minor": 0
      },
      "text/plain": [
       "  0%|          | 0/20 [00:00<?, ?it/s]"
      ]
     },
     "metadata": {},
     "output_type": "display_data"
    },
    {
     "data": {
      "application/vnd.jupyter.widget-view+json": {
       "model_id": "890a6a0832f04e2ebaa7e0fe5cdbd87d",
       "version_major": 2,
       "version_minor": 0
      },
      "text/plain": [
       "  0%|          | 0/1000 [00:00<?, ?it/s]"
      ]
     },
     "metadata": {},
     "output_type": "display_data"
    },
    {
     "data": {
      "application/vnd.jupyter.widget-view+json": {
       "model_id": "5371af1133c342d7ae91c66b60819636",
       "version_major": 2,
       "version_minor": 0
      },
      "text/plain": [
       "  0%|          | 0/20 [00:00<?, ?it/s]"
      ]
     },
     "metadata": {},
     "output_type": "display_data"
    },
    {
     "data": {
      "application/vnd.jupyter.widget-view+json": {
       "model_id": "4ef2deb66d23456ba67ab59b199d2f9f",
       "version_major": 2,
       "version_minor": 0
      },
      "text/plain": [
       "  0%|          | 0/1000 [00:00<?, ?it/s]"
      ]
     },
     "metadata": {},
     "output_type": "display_data"
    },
    {
     "data": {
      "application/vnd.jupyter.widget-view+json": {
       "model_id": "ca3843770030483080ba4436bcff2725",
       "version_major": 2,
       "version_minor": 0
      },
      "text/plain": [
       "  0%|          | 0/20 [00:00<?, ?it/s]"
      ]
     },
     "metadata": {},
     "output_type": "display_data"
    },
    {
     "data": {
      "application/vnd.jupyter.widget-view+json": {
       "model_id": "32802c24d32540128f0e043b4c9d867a",
       "version_major": 2,
       "version_minor": 0
      },
      "text/plain": [
       "  0%|          | 0/1000 [00:00<?, ?it/s]"
      ]
     },
     "metadata": {},
     "output_type": "display_data"
    },
    {
     "data": {
      "application/vnd.jupyter.widget-view+json": {
       "model_id": "0fbc2717955a4c65b9d2e3973eb9921a",
       "version_major": 2,
       "version_minor": 0
      },
      "text/plain": [
       "  0%|          | 0/20 [00:00<?, ?it/s]"
      ]
     },
     "metadata": {},
     "output_type": "display_data"
    },
    {
     "data": {
      "application/vnd.jupyter.widget-view+json": {
       "model_id": "18b825a8698e48c89220222b00937c9d",
       "version_major": 2,
       "version_minor": 0
      },
      "text/plain": [
       "  0%|          | 0/1000 [00:00<?, ?it/s]"
      ]
     },
     "metadata": {},
     "output_type": "display_data"
    },
    {
     "data": {
      "application/vnd.jupyter.widget-view+json": {
       "model_id": "d2587ed170ed45f191a059dcb827ec03",
       "version_major": 2,
       "version_minor": 0
      },
      "text/plain": [
       "  0%|          | 0/20 [00:00<?, ?it/s]"
      ]
     },
     "metadata": {},
     "output_type": "display_data"
    },
    {
     "data": {
      "application/vnd.jupyter.widget-view+json": {
       "model_id": "155d795a877344ceaf0d85fe324fad04",
       "version_major": 2,
       "version_minor": 0
      },
      "text/plain": [
       "  0%|          | 0/1000 [00:00<?, ?it/s]"
      ]
     },
     "metadata": {},
     "output_type": "display_data"
    },
    {
     "data": {
      "application/vnd.jupyter.widget-view+json": {
       "model_id": "2b9113bcc19f4412a3ec71c325e0e492",
       "version_major": 2,
       "version_minor": 0
      },
      "text/plain": [
       "  0%|          | 0/20 [00:00<?, ?it/s]"
      ]
     },
     "metadata": {},
     "output_type": "display_data"
    },
    {
     "data": {
      "application/vnd.jupyter.widget-view+json": {
       "model_id": "a01a1241bc3d48faad2d3445fbbdaaa2",
       "version_major": 2,
       "version_minor": 0
      },
      "text/plain": [
       "  0%|          | 0/1000 [00:00<?, ?it/s]"
      ]
     },
     "metadata": {},
     "output_type": "display_data"
    },
    {
     "data": {
      "application/vnd.jupyter.widget-view+json": {
       "model_id": "29a63c8165c64ae0ae37e1be0a46ca8a",
       "version_major": 2,
       "version_minor": 0
      },
      "text/plain": [
       "  0%|          | 0/20 [00:00<?, ?it/s]"
      ]
     },
     "metadata": {},
     "output_type": "display_data"
    },
    {
     "data": {
      "application/vnd.jupyter.widget-view+json": {
       "model_id": "9de68801eafc47b8b54a2a8fbb852183",
       "version_major": 2,
       "version_minor": 0
      },
      "text/plain": [
       "  0%|          | 0/1000 [00:00<?, ?it/s]"
      ]
     },
     "metadata": {},
     "output_type": "display_data"
    },
    {
     "data": {
      "application/vnd.jupyter.widget-view+json": {
       "model_id": "2f29e6c1b27d40a99a5e479a3fb58b40",
       "version_major": 2,
       "version_minor": 0
      },
      "text/plain": [
       "  0%|          | 0/20 [00:00<?, ?it/s]"
      ]
     },
     "metadata": {},
     "output_type": "display_data"
    },
    {
     "data": {
      "application/vnd.jupyter.widget-view+json": {
       "model_id": "bcf39977fcfb4806b6e95ec9704d72fe",
       "version_major": 2,
       "version_minor": 0
      },
      "text/plain": [
       "  0%|          | 0/1000 [00:00<?, ?it/s]"
      ]
     },
     "metadata": {},
     "output_type": "display_data"
    },
    {
     "data": {
      "application/vnd.jupyter.widget-view+json": {
       "model_id": "2863478185ab4fd8963e6aca98c7ad05",
       "version_major": 2,
       "version_minor": 0
      },
      "text/plain": [
       "  0%|          | 0/20 [00:00<?, ?it/s]"
      ]
     },
     "metadata": {},
     "output_type": "display_data"
    },
    {
     "data": {
      "application/vnd.jupyter.widget-view+json": {
       "model_id": "8677927bb08d4881b5edcf54957fa53c",
       "version_major": 2,
       "version_minor": 0
      },
      "text/plain": [
       "  0%|          | 0/1000 [00:00<?, ?it/s]"
      ]
     },
     "metadata": {},
     "output_type": "display_data"
    },
    {
     "data": {
      "application/vnd.jupyter.widget-view+json": {
       "model_id": "e0995bc625534b8790929aad82ff0698",
       "version_major": 2,
       "version_minor": 0
      },
      "text/plain": [
       "  0%|          | 0/20 [00:00<?, ?it/s]"
      ]
     },
     "metadata": {},
     "output_type": "display_data"
    },
    {
     "data": {
      "application/vnd.jupyter.widget-view+json": {
       "model_id": "daa9c399d1b243be9b8e95b6a9ff3e84",
       "version_major": 2,
       "version_minor": 0
      },
      "text/plain": [
       "  0%|          | 0/1000 [00:00<?, ?it/s]"
      ]
     },
     "metadata": {},
     "output_type": "display_data"
    },
    {
     "data": {
      "application/vnd.jupyter.widget-view+json": {
       "model_id": "53cc7985414448458c5112db00ede1ac",
       "version_major": 2,
       "version_minor": 0
      },
      "text/plain": [
       "  0%|          | 0/20 [00:00<?, ?it/s]"
      ]
     },
     "metadata": {},
     "output_type": "display_data"
    },
    {
     "data": {
      "application/vnd.jupyter.widget-view+json": {
       "model_id": "148f2c71465f4ba6a24635f42adf71ee",
       "version_major": 2,
       "version_minor": 0
      },
      "text/plain": [
       "  0%|          | 0/1000 [00:00<?, ?it/s]"
      ]
     },
     "metadata": {},
     "output_type": "display_data"
    },
    {
     "data": {
      "application/vnd.jupyter.widget-view+json": {
       "model_id": "99125bb48e914a02899419507be00702",
       "version_major": 2,
       "version_minor": 0
      },
      "text/plain": [
       "  0%|          | 0/20 [00:00<?, ?it/s]"
      ]
     },
     "metadata": {},
     "output_type": "display_data"
    },
    {
     "data": {
      "application/vnd.jupyter.widget-view+json": {
       "model_id": "365a42f758a445768f05cff1ca1b1dd5",
       "version_major": 2,
       "version_minor": 0
      },
      "text/plain": [
       "  0%|          | 0/1000 [00:00<?, ?it/s]"
      ]
     },
     "metadata": {},
     "output_type": "display_data"
    },
    {
     "data": {
      "application/vnd.jupyter.widget-view+json": {
       "model_id": "48ed98cf7cd24e919dce45da7095f5d9",
       "version_major": 2,
       "version_minor": 0
      },
      "text/plain": [
       "  0%|          | 0/20 [00:00<?, ?it/s]"
      ]
     },
     "metadata": {},
     "output_type": "display_data"
    },
    {
     "data": {
      "application/vnd.jupyter.widget-view+json": {
       "model_id": "46776699c9824affba49dcd1fe5f7142",
       "version_major": 2,
       "version_minor": 0
      },
      "text/plain": [
       "  0%|          | 0/1000 [00:00<?, ?it/s]"
      ]
     },
     "metadata": {},
     "output_type": "display_data"
    },
    {
     "data": {
      "application/vnd.jupyter.widget-view+json": {
       "model_id": "c3d31b79c5c74f528c8691211cf8e1de",
       "version_major": 2,
       "version_minor": 0
      },
      "text/plain": [
       "  0%|          | 0/20 [00:00<?, ?it/s]"
      ]
     },
     "metadata": {},
     "output_type": "display_data"
    },
    {
     "data": {
      "application/vnd.jupyter.widget-view+json": {
       "model_id": "5b6e799835fe4c8d849c57f76d3dd0bc",
       "version_major": 2,
       "version_minor": 0
      },
      "text/plain": [
       "  0%|          | 0/1000 [00:00<?, ?it/s]"
      ]
     },
     "metadata": {},
     "output_type": "display_data"
    },
    {
     "data": {
      "application/vnd.jupyter.widget-view+json": {
       "model_id": "e9291a77d2294b5790ed95eec1df7c01",
       "version_major": 2,
       "version_minor": 0
      },
      "text/plain": [
       "  0%|          | 0/20 [00:00<?, ?it/s]"
      ]
     },
     "metadata": {},
     "output_type": "display_data"
    },
    {
     "data": {
      "application/vnd.jupyter.widget-view+json": {
       "model_id": "418bd32befdb4d22a1f8e334e2f8f7b5",
       "version_major": 2,
       "version_minor": 0
      },
      "text/plain": [
       "  0%|          | 0/1000 [00:00<?, ?it/s]"
      ]
     },
     "metadata": {},
     "output_type": "display_data"
    }
   ],
   "source": [
    "bin_boundaries = np.concatenate([[-np.inf], rmsd_bins, [np.inf]])\n",
    "\n",
    "all_clusters = []\n",
    "\n",
    "for bin_lower, bin_upper in tqdm.tqdm(zip(bin_boundaries[:-1], bin_boundaries[1:]), total=len(bin_boundaries)-1):\n",
    "\n",
    "    kmeans_estimator = KMeans(\n",
    "        n_clusters=clusters_per_strat,\n",
    "        max_iter=1000,\n",
    "        fixed_seed=1337,\n",
    "        n_jobs=4,\n",
    "        progress=tqdm.tqdm\n",
    "    )\n",
    "    \n",
    "    # Get the points in this bin\n",
    "    points_in_bin = np.argwhere((rmsd[::rmsd_stride] >= bin_lower) & (rmsd[::rmsd_stride] < bin_upper)).flatten()\n",
    "    \n",
    "    clustering = kmeans_estimator.fit(projection[points_in_bin]).fetch_model()\n",
    "    \n",
    "    all_clusters.append(copy.deepcopy(clustering))"
   ]
  },
  {
   "cell_type": "code",
   "execution_count": 101,
   "metadata": {
    "execution": {
     "iopub.execute_input": "2022-02-17T23:14:49.895444Z",
     "iopub.status.busy": "2022-02-17T23:14:49.895161Z",
     "iopub.status.idle": "2022-02-17T23:14:49.900504Z",
     "shell.execute_reply": "2022-02-17T23:14:49.899664Z",
     "shell.execute_reply.started": "2022-02-17T23:14:49.895418Z"
    },
    "tags": []
   },
   "outputs": [],
   "source": [
    "combined_kmeans_centers = np.concatenate([x._cluster_centers for x in all_clusters])\n",
    "\n",
    "all_cluster = KMeansModel(combined_kmeans_centers, metric='euclidean')"
   ]
  },
  {
   "cell_type": "code",
   "execution_count": 102,
   "metadata": {
    "execution": {
     "iopub.execute_input": "2022-02-17T23:14:49.901969Z",
     "iopub.status.busy": "2022-02-17T23:14:49.901482Z",
     "iopub.status.idle": "2022-02-17T23:14:58.381938Z",
     "shell.execute_reply": "2022-02-17T23:14:58.381346Z",
     "shell.execute_reply.started": "2022-02-17T23:14:49.901927Z"
    },
    "pycharm": {
     "name": "#%%\n"
    },
    "tags": []
   },
   "outputs": [],
   "source": [
    "discrete_stratified = all_cluster.transform(projection)"
   ]
  },
  {
   "cell_type": "code",
   "execution_count": 103,
   "metadata": {
    "execution": {
     "iopub.execute_input": "2022-02-17T23:14:58.384274Z",
     "iopub.status.busy": "2022-02-17T23:14:58.384058Z",
     "iopub.status.idle": "2022-02-17T23:14:58.777099Z",
     "shell.execute_reply": "2022-02-17T23:14:58.776335Z",
     "shell.execute_reply.started": "2022-02-17T23:14:58.384255Z"
    },
    "tags": []
   },
   "outputs": [
    {
     "data": {
      "text/plain": [
       "[<matplotlib.lines.Line2D at 0x15da03f40>]"
      ]
     },
     "execution_count": 103,
     "metadata": {},
     "output_type": "execute_result"
    },
    {
     "data": {
      "image/png": "[encoded data removed]",
      "text/plain": [
       "<Figure size 432x288 with 1 Axes>"
      ]
     },
     "metadata": {
      "needs_background": "light"
     },
     "output_type": "display_data"
    }
   ],
   "source": [
    "plt.plot(discrete_stratified)"
   ]
  },
  {
   "cell_type": "code",
   "execution_count": 106,
   "metadata": {
    "execution": {
     "iopub.execute_input": "2022-02-17T23:14:59.551098Z",
     "iopub.status.busy": "2022-02-17T23:14:59.550771Z",
     "iopub.status.idle": "2022-02-17T23:14:59.554970Z",
     "shell.execute_reply": "2022-02-17T23:14:59.553856Z",
     "shell.execute_reply.started": "2022-02-17T23:14:59.551076Z"
    },
    "tags": []
   },
   "outputs": [],
   "source": [
    "discrete_trajectory = discrete_stratified\n",
    "clustering = all_cluster"
   ]
  },
  {
   "cell_type": "markdown",
   "metadata": {
    "pycharm": {
     "name": "#%% md\n"
    }
   },
   "source": [
    "# Build MSM"
   ]
  },
  {
   "cell_type": "markdown",
   "metadata": {},
   "source": [
    "## Load necessary trajectory data"
   ]
  },
  {
   "cell_type": "markdown",
   "metadata": {},
   "source": [
    "For now, manually run \n",
    "1. Up to Trajectory Preparation\n",
    "2. The \"Load Saved\" sections within Trajectory preparation\n",
    "3. Dimensionality reduction: Load Saved\n",
    "4. Discretize trajectory\n",
    "\n",
    "before running this. Can probably save all the intermediate results in one `npz` eventually."
   ]
  },
  {
   "cell_type": "markdown",
   "metadata": {},
   "source": [
    "## Construct MSM object\n",
    "\n",
    "Build with the lag time specified before, and enforce reversibility."
   ]
  },
  {
   "cell_type": "code",
   "execution_count": 108,
   "metadata": {
    "execution": {
     "iopub.execute_input": "2022-02-17T23:15:00.449141Z",
     "iopub.status.busy": "2022-02-17T23:15:00.448576Z",
     "iopub.status.idle": "2022-02-17T23:15:00.453043Z",
     "shell.execute_reply": "2022-02-17T23:15:00.451994Z",
     "shell.execute_reply.started": "2022-02-17T23:15:00.449116Z"
    },
    "pycharm": {
     "name": "#%%\n"
    },
    "tags": []
   },
   "outputs": [],
   "source": [
    "from deeptime.markov import TransitionCountEstimator\n",
    "from deeptime.markov.msm import MaximumLikelihoodMSM"
   ]
  },
  {
   "cell_type": "code",
   "execution_count": 477,
   "metadata": {
    "execution": {
     "iopub.execute_input": "2022-02-18T23:03:28.423391Z",
     "iopub.status.busy": "2022-02-18T23:03:28.423183Z",
     "iopub.status.idle": "2022-02-18T23:03:29.503126Z",
     "shell.execute_reply": "2022-02-18T23:03:29.502103Z",
     "shell.execute_reply.started": "2022-02-18T23:03:28.423371Z"
    },
    "pycharm": {
     "name": "#%%\n"
    },
    "tags": []
   },
   "outputs": [
    {
     "name": "stdout",
     "output_type": "stream",
     "text": [
      "50\n"
     ]
    }
   ],
   "source": [
    "lag = msm_lag_steps\n",
    "print(msm_lag_steps)\n",
    "count_model = TransitionCountEstimator(lag, 'sliding').fit_fetch(discrete_trajectory)\n",
    "asymm_msm = MaximumLikelihoodMSM(reversible=True).fit_fetch(count_model.submodel_largest())"
   ]
  },
  {
   "cell_type": "markdown",
   "metadata": {},
   "source": [
    "### Symmetrize"
   ]
  },
  {
   "cell_type": "code",
   "execution_count": 478,
   "metadata": {
    "execution": {
     "iopub.execute_input": "2022-02-18T23:03:29.506577Z",
     "iopub.status.busy": "2022-02-18T23:03:29.505611Z",
     "iopub.status.idle": "2022-02-18T23:03:29.659678Z",
     "shell.execute_reply": "2022-02-18T23:03:29.658939Z",
     "shell.execute_reply.started": "2022-02-18T23:03:29.506542Z"
    },
    "pycharm": {
     "name": "#%%\n"
    },
    "tags": []
   },
   "outputs": [],
   "source": [
    "symmetric_count_matrix = count_model.count_matrix + count_model.count_matrix.T\n",
    "# symmetric_count_model = copy.deepcopy(count_model)\n",
    "# symmetric_count_model.count_matrix = symmetric_count_matrix\n",
    "symm_msm =  MaximumLikelihoodMSM(reversible=True).fit_fetch(symmetric_count_matrix)\n",
    "\n",
    "msm = symm_msm"
   ]
  },
  {
   "cell_type": "raw",
   "metadata": {
    "execution": {
     "iopub.execute_input": "2022-02-18T22:49:22.803564Z",
     "iopub.status.busy": "2022-02-18T22:49:22.802920Z",
     "iopub.status.idle": "2022-02-18T22:49:22.808670Z",
     "shell.execute_reply": "2022-02-18T22:49:22.807822Z",
     "shell.execute_reply.started": "2022-02-18T22:49:22.803541Z"
    },
    "tags": []
   },
   "source": [
    "tmatrix = msm.transition_matrix"
   ]
  },
  {
   "cell_type": "raw",
   "metadata": {
    "execution": {
     "iopub.execute_input": "2022-02-18T22:57:18.320366Z",
     "iopub.status.busy": "2022-02-18T22:57:18.320133Z",
     "iopub.status.idle": "2022-02-18T22:57:18.326440Z",
     "shell.execute_reply": "2022-02-18T22:57:18.325827Z",
     "shell.execute_reply.started": "2022-02-18T22:57:18.320344Z"
    },
    "tags": []
   },
   "source": [
    "count_model.count_matrix"
   ]
  },
  {
   "cell_type": "raw",
   "metadata": {
    "execution": {
     "iopub.execute_input": "2022-02-18T22:45:01.655289Z",
     "iopub.status.busy": "2022-02-18T22:45:01.654923Z",
     "iopub.status.idle": "2022-02-18T22:45:01.716909Z",
     "shell.execute_reply": "2022-02-18T22:45:01.716365Z",
     "shell.execute_reply.started": "2022-02-18T22:45:01.655259Z"
    },
    "tags": []
   },
   "source": [
    "# Based on how PyEmma did it http://www.emma-project.org/v1.2.2/api/generated/pyemma.msm.analysis.eigenvalues.html#pyemma.msm.analysis.eigenvalues\n",
    "\n",
    "symmetrized_tmatrix = (tmatrix + tmatrix.T)  / 2\n",
    "\n",
    "row_sums = np.sum(symmetrized_tmatrix, axis=1)\n",
    "normalized_symmetrized_tmatrix = np.divide(\n",
    "    symmetrized_tmatrix.T,\n",
    "    row_sums,\n",
    "    out=np.zeros_like(symmetrized_tmatrix),\n",
    "    where=row_sums != 0,\n",
    ").T"
   ]
  },
  {
   "cell_type": "raw",
   "metadata": {
    "execution": {
     "iopub.execute_input": "2022-02-18T22:49:51.102327Z",
     "iopub.status.busy": "2022-02-18T22:49:51.101991Z",
     "iopub.status.idle": "2022-02-18T22:49:51.191186Z",
     "shell.execute_reply": "2022-02-18T22:49:51.190396Z",
     "shell.execute_reply.started": "2022-02-18T22:49:51.102292Z"
    }
   },
   "source": [
    "mu = msm.stationary_distribution\n",
    "\n",
    "# symmetrize T\n",
    "smu = np.sqrt(mu)\n",
    "S = smu[:,None] * tmatrix / smu"
   ]
  },
  {
   "cell_type": "raw",
   "metadata": {
    "execution": {
     "iopub.execute_input": "2022-02-18T22:49:53.991892Z",
     "iopub.status.busy": "2022-02-18T22:49:53.991627Z",
     "iopub.status.idle": "2022-02-18T22:49:54.012943Z",
     "shell.execute_reply": "2022-02-18T22:49:54.011681Z",
     "shell.execute_reply.started": "2022-02-18T22:49:53.991871Z"
    },
    "tags": []
   },
   "source": [
    "np.isclose(S, S.T).all()"
   ]
  },
  {
   "cell_type": "raw",
   "metadata": {
    "execution": {
     "iopub.execute_input": "2022-02-18T22:50:01.678962Z",
     "iopub.status.busy": "2022-02-18T22:50:01.678629Z",
     "iopub.status.idle": "2022-02-18T22:50:01.686534Z",
     "shell.execute_reply": "2022-02-18T22:50:01.685612Z",
     "shell.execute_reply.started": "2022-02-18T22:50:01.678933Z"
    },
    "tags": []
   },
   "source": [
    "S.sum(axis=1)"
   ]
  },
  {
   "cell_type": "raw",
   "metadata": {
    "execution": {
     "iopub.execute_input": "2022-02-18T22:50:04.243006Z",
     "iopub.status.busy": "2022-02-18T22:50:04.242624Z",
     "iopub.status.idle": "2022-02-18T22:50:04.295643Z",
     "shell.execute_reply": "2022-02-18T22:50:04.293182Z",
     "shell.execute_reply.started": "2022-02-18T22:50:04.242971Z"
    },
    "tags": []
   },
   "source": [
    "msm.update_transition_matrix(S)"
   ]
  },
  {
   "cell_type": "markdown",
   "metadata": {},
   "source": [
    "## Define folded/unfolded/intermediate states\n",
    "\n",
    "These are manually defined in the space of the tIC that maps to RMSD, mostly because it's fairly easy to pick out reasonable thresholds by eye."
   ]
  },
  {
   "cell_type": "code",
   "execution_count": 479,
   "metadata": {
    "execution": {
     "iopub.execute_input": "2022-02-18T23:03:31.503639Z",
     "iopub.status.busy": "2022-02-18T23:03:31.503337Z",
     "iopub.status.idle": "2022-02-18T23:03:31.508694Z",
     "shell.execute_reply": "2022-02-18T23:03:31.507528Z",
     "shell.execute_reply.started": "2022-02-18T23:03:31.503598Z"
    },
    "pycharm": {
     "name": "#%%\n"
    },
    "tags": []
   },
   "outputs": [],
   "source": [
    "unfolded_thresh = 10 #0.9\n",
    "folded_thresh = -35 #-1.89\n",
    "\n",
    "unfolded = np.argwhere(clustering.cluster_centers[:, tic_rmsd].flatten() > unfolded_thresh).flatten()\n",
    "folded = np.argwhere(clustering.cluster_centers[:, tic_rmsd].flatten() < folded_thresh).flatten()\n",
    "\n",
    "# unfolded_thresh = 1.6\n",
    "# folded_thresh = -1.89\n",
    "# unfolded = np.argwhere(clustering.cluster_centers[:, tic_rmsd].flatten() > unfolded_thresh).flatten()\n",
    "# folded = np.argwhere(clustering.cluster_centers[:, tic_rmsd].flatten() < folded_thresh).flatten()\n",
    "# len(unfolded), len(folded)"
   ]
  },
  {
   "cell_type": "code",
   "execution_count": 480,
   "metadata": {
    "execution": {
     "iopub.execute_input": "2022-02-18T23:03:31.779216Z",
     "iopub.status.busy": "2022-02-18T23:03:31.778983Z",
     "iopub.status.idle": "2022-02-18T23:03:31.806296Z",
     "shell.execute_reply": "2022-02-18T23:03:31.805461Z",
     "shell.execute_reply.started": "2022-02-18T23:03:31.779193Z"
    },
    "pycharm": {
     "name": "#%%\n"
    },
    "tags": []
   },
   "outputs": [],
   "source": [
    "# Sort by the rmsd-like tic\n",
    "\n",
    "active_states = symmetric_count_model.connected_sets()[0]\n",
    "cluster_sort_order = np.argsort(clustering.cluster_centers[active_states, tic_rmsd])\n",
    "\n",
    "intermediate = np.setdiff1d(active_states, np.concatenate([folded, unfolded]))"
   ]
  },
  {
   "cell_type": "code",
   "execution_count": 481,
   "metadata": {
    "execution": {
     "iopub.execute_input": "2022-02-18T23:03:32.709487Z",
     "iopub.status.busy": "2022-02-18T23:03:32.709167Z",
     "iopub.status.idle": "2022-02-18T23:03:32.714627Z",
     "shell.execute_reply": "2022-02-18T23:03:32.714050Z",
     "shell.execute_reply.started": "2022-02-18T23:03:32.709465Z"
    },
    "tags": []
   },
   "outputs": [
    {
     "data": {
      "text/plain": [
       "(458, 102, 460)"
      ]
     },
     "execution_count": 481,
     "metadata": {},
     "output_type": "execute_result"
    }
   ],
   "source": [
    "len(unfolded), len(folded), len(intermediate)"
   ]
  },
  {
   "cell_type": "markdown",
   "metadata": {
    "pycharm": {
     "name": "#%% md\n"
    }
   },
   "source": [
    "### Visualize results of MSM\n",
    "\n",
    "Note that in the plot below, the histogram may lie directly below the stationary distribution."
   ]
  },
  {
   "cell_type": "code",
   "execution_count": 482,
   "metadata": {
    "execution": {
     "iopub.execute_input": "2022-02-18T23:03:34.062565Z",
     "iopub.status.busy": "2022-02-18T23:03:34.062270Z",
     "iopub.status.idle": "2022-02-18T23:03:34.115847Z",
     "shell.execute_reply": "2022-02-18T23:03:34.115021Z",
     "shell.execute_reply.started": "2022-02-18T23:03:34.062541Z"
    },
    "pycharm": {
     "name": "#%%\n"
    },
    "tags": []
   },
   "outputs": [],
   "source": [
    "# Get the histogram in each bin from the full trajectory\n",
    "hist_bins, hist_counts = np.unique(discrete_trajectory, return_counts=True)\n",
    "hist_counts = hist_counts/sum(hist_counts)"
   ]
  },
  {
   "cell_type": "code",
   "execution_count": 483,
   "metadata": {
    "execution": {
     "iopub.execute_input": "2022-02-18T23:03:35.749584Z",
     "iopub.status.busy": "2022-02-18T23:03:35.749257Z",
     "iopub.status.idle": "2022-02-18T23:03:36.827984Z",
     "shell.execute_reply": "2022-02-18T23:03:36.827275Z",
     "shell.execute_reply.started": "2022-02-18T23:03:35.749555Z"
    },
    "pycharm": {
     "name": "#%%\n"
    },
    "tags": []
   },
   "outputs": [
    {
     "data": {
      "image/png": "[encoded data removed]",
      "text/plain": [
       "<Figure size 864x576 with 2 Axes>"
      ]
     },
     "metadata": {
      "needs_background": "light"
     },
     "output_type": "display_data"
    }
   ],
   "source": [
    "# Plot the RMSDs and discrete trajectory\n",
    "fig, tic_ax = plt.subplots(1,1)\n",
    "# rmsd_ax = tic_ax.twinx()\n",
    "\n",
    "_subsample = 10\n",
    "\n",
    "# rmsd_ax.plot(rmsd, color='gray', label='RMSD')\n",
    "tic_ax.plot(projection[:, tic_rmsd][::_subsample], color='gray', label='tIC')\n",
    "tic_ax.set_ylabel(f'tIC {tic_rmsd}')\n",
    "\n",
    "# discrete_ax.plot(discrete_trajectory[::_subsample], color='k', label='Discrete')\n",
    "# discrete_ax.set_ylabel('State')\n",
    "\n",
    "tic_ax.set_xlabel('Time (ps)')\n",
    "\n",
    "stationary_ax = tic_ax.twiny()\n",
    "stationary_ax.plot(\n",
    "    msm.stationary_distribution[cluster_sort_order],\n",
    "    clustering.cluster_centers[cluster_sort_order, tic_rmsd],\n",
    "    color='red',\n",
    "    label='Stationary distribution'\n",
    ")\n",
    "stationary_ax.set_xlabel('Stationary Probability')\n",
    "\n",
    "stationary_ax.plot(\n",
    "    hist_counts[cluster_sort_order],\n",
    "    clustering.cluster_centers[hist_bins.astype(int)][cluster_sort_order, tic_rmsd].flatten(),\n",
    "    color='green',\n",
    "    linestyle='--',\n",
    "    label='Histogram',\n",
    "    zorder=-5\n",
    ")\n",
    "\n",
    "stationary_ax.axhline(unfolded_thresh, color='lime', linewidth=3, zorder=5)\n",
    "stationary_ax.axhline(folded_thresh, color='b', linewidth=3, zorder=5)\n",
    "\n",
    "unfolded_label_y = unfolded_thresh*1.5\n",
    "tic_ax.text(len(projection[::_subsample])*1.06, unfolded_label_y, \n",
    "            'Unfolded', color='green', fontsize=18)\n",
    "folded_label_y = folded_thresh*1.3\n",
    "tic_ax.text(len(projection[::_subsample])*1.06, folded_label_y, \n",
    "            'Folded', color='blue', fontsize=18)\n",
    "\n",
    "tic_ax.text(len(projection[::_subsample])*1.06, (unfolded_label_y + folded_label_y)/2, \n",
    "            'Intermediate', color='black', fontsize=18)\n",
    "\n",
    "fig.legend()\n",
    "fig.set_size_inches(12,8)\n",
    "fig.tight_layout()"
   ]
  },
  {
   "cell_type": "markdown",
   "metadata": {
    "pycharm": {
     "name": "#%% md\n"
    }
   },
   "source": [
    "### Plot potential and committor"
   ]
  },
  {
   "cell_type": "code",
   "execution_count": 484,
   "metadata": {
    "execution": {
     "iopub.execute_input": "2022-02-18T23:03:39.270901Z",
     "iopub.status.busy": "2022-02-18T23:03:39.270525Z",
     "iopub.status.idle": "2022-02-18T23:03:39.494121Z",
     "shell.execute_reply": "2022-02-18T23:03:39.492594Z",
     "shell.execute_reply.started": "2022-02-18T23:03:39.270870Z"
    },
    "pycharm": {
     "name": "#%%\n"
    },
    "tags": []
   },
   "outputs": [
    {
     "data": {
      "text/plain": [
       "Text(0, 0.5, '-$\\\\ln( P^{equil} )$')"
      ]
     },
     "execution_count": 484,
     "metadata": {},
     "output_type": "execute_result"
    },
    {
     "data": {
      "image/png": "[encoded data removed]",
      "text/plain": [
       "<Figure size 432x288 with 1 Axes>"
      ]
     },
     "metadata": {
      "needs_background": "light"
     },
     "output_type": "display_data"
    }
   ],
   "source": [
    "potential = -np.log(msm.stationary_distribution)\n",
    "\n",
    "plt.plot(\n",
    "    clustering.cluster_centers[cluster_sort_order, tic_rmsd],\n",
    "    potential[cluster_sort_order])\n",
    "\n",
    "plt.axvline(folded_thresh, color='b')\n",
    "plt.axvline(unfolded_thresh, color='lime')\n",
    "\n",
    "plt.xlabel('tIC')\n",
    "plt.ylabel('-$\\\\ln( P^{equil} )$')"
   ]
  },
  {
   "cell_type": "code",
   "execution_count": 485,
   "metadata": {
    "execution": {
     "iopub.execute_input": "2022-02-18T23:03:41.210286Z",
     "iopub.status.busy": "2022-02-18T23:03:41.209969Z",
     "iopub.status.idle": "2022-02-18T23:03:41.359615Z",
     "shell.execute_reply": "2022-02-18T23:03:41.359037Z",
     "shell.execute_reply.started": "2022-02-18T23:03:41.210256Z"
    },
    "tags": []
   },
   "outputs": [
    {
     "data": {
      "text/plain": [
       "Text(0.5, 0, 'tIC 0')"
      ]
     },
     "execution_count": 485,
     "metadata": {},
     "output_type": "execute_result"
    },
    {
     "data": {
      "image/png": "[encoded data removed]",
      "text/plain": [
       "<Figure size 432x288 with 1 Axes>"
      ]
     },
     "metadata": {
      "needs_background": "light"
     },
     "output_type": "display_data"
    }
   ],
   "source": [
    "committor_sort = np.argsort(committors)\n",
    "\n",
    "plt.scatter(clustering.cluster_centers[committor_sort, tic_rmsd], committors[committor_sort])\n",
    "\n",
    "plt.ylabel('Committor to unfolded')\n",
    "plt.xlabel('tIC 0')"
   ]
  },
  {
   "cell_type": "markdown",
   "metadata": {
    "pycharm": {
     "name": "#%% md\n"
    }
   },
   "source": [
    "### Save the model"
   ]
  },
  {
   "cell_type": "code",
   "execution_count": 486,
   "metadata": {
    "collapsed": false,
    "execution": {
     "iopub.execute_input": "2022-02-18T23:04:48.277334Z",
     "iopub.status.busy": "2022-02-18T23:04:48.276865Z",
     "iopub.status.idle": "2022-02-18T23:04:48.325831Z",
     "shell.execute_reply": "2022-02-18T23:04:48.324942Z",
     "shell.execute_reply.started": "2022-02-18T23:04:48.277309Z"
    },
    "jupyter": {
     "outputs_hidden": false
    },
    "pycharm": {
     "name": "#%%\n"
    },
    "tags": []
   },
   "outputs": [],
   "source": [
    "mfpt_folding = msm.mfpt(unfolded.flatten(), folded.flatten())"
   ]
  },
  {
   "cell_type": "code",
   "execution_count": 487,
   "metadata": {
    "collapsed": false,
    "execution": {
     "iopub.execute_input": "2022-02-18T23:04:48.486317Z",
     "iopub.status.busy": "2022-02-18T23:04:48.485869Z",
     "iopub.status.idle": "2022-02-18T23:04:48.519778Z",
     "shell.execute_reply": "2022-02-18T23:04:48.519154Z",
     "shell.execute_reply.started": "2022-02-18T23:04:48.486288Z"
    },
    "jupyter": {
     "outputs_hidden": false
    },
    "pycharm": {
     "name": "#%%\n"
    },
    "tags": []
   },
   "outputs": [],
   "source": [
    "mfpt_unfolding = msm.mfpt(folded.flatten(), unfolded.flatten())"
   ]
  },
  {
   "cell_type": "code",
   "execution_count": 488,
   "metadata": {
    "execution": {
     "iopub.execute_input": "2022-02-18T23:04:49.506969Z",
     "iopub.status.busy": "2022-02-18T23:04:49.506126Z",
     "iopub.status.idle": "2022-02-18T23:04:49.520495Z",
     "shell.execute_reply": "2022-02-18T23:04:49.519014Z",
     "shell.execute_reply.started": "2022-02-18T23:04:49.506920Z"
    },
    "tags": []
   },
   "outputs": [
    {
     "data": {
      "text/plain": [
       "(1022.7750850396201, 231.99202978729414)"
      ]
     },
     "execution_count": 488,
     "metadata": {},
     "output_type": "execute_result"
    }
   ],
   "source": [
    "mfpt_folding, mfpt_unfolding # Folding time, in units of the input trajectory"
   ]
  },
  {
   "cell_type": "code",
   "execution_count": 489,
   "metadata": {
    "execution": {
     "iopub.execute_input": "2022-02-18T23:04:51.486794Z",
     "iopub.status.busy": "2022-02-18T23:04:51.486495Z",
     "iopub.status.idle": "2022-02-18T23:04:51.493862Z",
     "shell.execute_reply": "2022-02-18T23:04:51.492707Z",
     "shell.execute_reply.started": "2022-02-18T23:04:51.486750Z"
    },
    "tags": []
   },
   "outputs": [
    {
     "data": {
      "text/plain": [
       "200"
      ]
     },
     "execution_count": 489,
     "metadata": {},
     "output_type": "execute_result"
    }
   ],
   "source": [
    "universe.trajectory.dt"
   ]
  },
  {
   "cell_type": "code",
   "execution_count": 490,
   "metadata": {
    "collapsed": false,
    "execution": {
     "iopub.execute_input": "2022-02-18T23:04:59.906071Z",
     "iopub.status.busy": "2022-02-18T23:04:59.905170Z",
     "iopub.status.idle": "2022-02-18T23:04:59.927318Z",
     "shell.execute_reply": "2022-02-18T23:04:59.923216Z",
     "shell.execute_reply.started": "2022-02-18T23:04:59.906029Z"
    },
    "jupyter": {
     "outputs_hidden": false
    },
    "pycharm": {
     "name": "#%%\n"
    },
    "tags": []
   },
   "outputs": [
    {
     "name": "stdout",
     "output_type": "stream",
     "text": [
      "Folding time: 204.56 ns\n",
      "Folding steps: 1023 steps\n",
      "\n",
      "Unfolding time: 46.40 ns\n",
      "Unfolding steps: 232 steps\n"
     ]
    }
   ],
   "source": [
    "mfpt_folding, mfpt_unfolding\n",
    "\n",
    "print(f\"Folding time: {mfpt_folding * universe.trajectory.dt * stride / 1000:.2f} ns\")\n",
    "print(f\"Folding steps: {mfpt_folding :.0f} steps\\n\")\n",
    "\n",
    "print(f\"Unfolding time: {mfpt_unfolding * universe.trajectory.dt * stride  / 1000:.2f} ns\")\n",
    "print(f\"Unfolding steps: {mfpt_unfolding :.0f} steps\")\n",
    "# ~500 steps @ 200ps/step = 0.1µs\n",
    "# These MFPTs seem super high?"
   ]
  },
  {
   "cell_type": "code",
   "execution_count": 384,
   "metadata": {
    "collapsed": false,
    "execution": {
     "iopub.execute_input": "2022-02-18T19:58:52.435596Z",
     "iopub.status.busy": "2022-02-18T19:58:52.435368Z",
     "iopub.status.idle": "2022-02-18T19:58:52.439874Z",
     "shell.execute_reply": "2022-02-18T19:58:52.439137Z",
     "shell.execute_reply.started": "2022-02-18T19:58:52.435570Z"
    },
    "jupyter": {
     "outputs_hidden": false
    },
    "pycharm": {
     "name": "#%%\n"
    },
    "tags": []
   },
   "outputs": [
    {
     "data": {
      "text/plain": [
       "10.4"
      ]
     },
     "execution_count": 384,
     "metadata": {},
     "output_type": "execute_result"
    }
   ],
   "source": [
    "208/20 # Ballpark µs/transition"
   ]
  },
  {
   "cell_type": "code",
   "execution_count": 492,
   "metadata": {
    "execution": {
     "iopub.execute_input": "2022-02-18T23:06:18.990082Z",
     "iopub.status.busy": "2022-02-18T23:06:18.989581Z",
     "iopub.status.idle": "2022-02-18T23:06:19.128565Z",
     "shell.execute_reply": "2022-02-18T23:06:19.127763Z",
     "shell.execute_reply.started": "2022-02-18T23:06:18.990025Z"
    },
    "pycharm": {
     "name": "#%%\n"
    },
    "tags": []
   },
   "outputs": [],
   "source": [
    "np.savez('transition_matrix_ernesto_symm', transition_matrix=msm.transition_matrix,\n",
    "         states_unfolded = unfolded,\n",
    "         states_folded = folded,\n",
    "         cluster_centers = clustering.cluster_centers,\n",
    "         mfpt_folding = mfpt_folding,\n",
    "         mfpt_unfolding = mfpt_unfolding,\n",
    "         msm=msm\n",
    "         )"
   ]
  },
  {
   "cell_type": "markdown",
   "metadata": {
    "jupyter": {
     "outputs_hidden": false
    },
    "pycharm": {
     "name": "#%%\n"
    }
   },
   "source": [
    "# Coarse-graining\n",
    "\n",
    "I want to come up with a physically meaningful coarse-graining scheme here. That could look something like:\n",
    "- Binning along RMSD\n",
    "- Something hierarchical\n",
    "\n",
    "I think for now binning along RMSD is probably an easy way to do it.\n",
    "\n",
    "Committor is probably meaningful too, but it would require knowing the committors, which is the point of building the model. I.e., it wouldn't translate well to analyzing simulated data, it's cheating."
   ]
  },
  {
   "cell_type": "markdown",
   "metadata": {},
   "source": [
    "## Coarse-graining in RMSD\n",
    "\n",
    "The idea here is that I can identify a set of coarse states by clustering on the RMSDs of the fine states.\n",
    "\n",
    "To do this, I need to:\n",
    "1. Get structures associated with each tIC cluster\n",
    "2. Get average RMSD of those structures, to assign each fine cluster an RMSD value\n",
    "3. Group those by clustering on them"
   ]
  },
  {
   "cell_type": "code",
   "execution_count": 493,
   "metadata": {
    "execution": {
     "iopub.execute_input": "2022-02-18T23:06:19.133940Z",
     "iopub.status.busy": "2022-02-18T23:06:19.133549Z",
     "iopub.status.idle": "2022-02-18T23:06:19.163985Z",
     "shell.execute_reply": "2022-02-18T23:06:19.162193Z",
     "shell.execute_reply.started": "2022-02-18T23:06:19.133912Z"
    },
    "tags": []
   },
   "outputs": [
    {
     "data": {
      "text/plain": [
       "((1044000,), (1044000,))"
      ]
     },
     "execution_count": 493,
     "metadata": {},
     "output_type": "execute_result"
    }
   ],
   "source": [
    "rmsd[::rmsd_stride].shape, discrete_trajectory.shape"
   ]
  },
  {
   "cell_type": "markdown",
   "metadata": {},
   "source": [
    "### Compute average fine-state RMSDs"
   ]
  },
  {
   "cell_type": "code",
   "execution_count": 494,
   "metadata": {
    "execution": {
     "iopub.execute_input": "2022-02-18T23:06:19.168839Z",
     "iopub.status.busy": "2022-02-18T23:06:19.168348Z",
     "iopub.status.idle": "2022-02-18T23:06:20.123498Z",
     "shell.execute_reply": "2022-02-18T23:06:20.122721Z",
     "shell.execute_reply.started": "2022-02-18T23:06:19.168807Z"
    },
    "tags": []
   },
   "outputs": [],
   "source": [
    "n_states = msm.transition_matrix.shape[0]\n",
    "\n",
    "avg_state_rmsds = np.full(shape=n_states, fill_value=np.nan)\n",
    "\n",
    "for state in range(n_states):\n",
    "    \n",
    "    idxs_in_state = np.argwhere(discrete_trajectory == state).flatten()\n",
    "    \n",
    "    rmsds = rmsd[::rmsd_stride][idxs_in_state]\n",
    "    \n",
    "    avg_state_rmsds[state] = np.mean(rmsds)\n",
    "    \n",
    "rmsd_sort_order = np.argsort(avg_state_rmsds).flatten()"
   ]
  },
  {
   "cell_type": "code",
   "execution_count": 495,
   "metadata": {
    "execution": {
     "iopub.execute_input": "2022-02-18T23:06:20.131639Z",
     "iopub.status.busy": "2022-02-18T23:06:20.131203Z",
     "iopub.status.idle": "2022-02-18T23:06:20.704747Z",
     "shell.execute_reply": "2022-02-18T23:06:20.700934Z",
     "shell.execute_reply.started": "2022-02-18T23:06:20.131606Z"
    },
    "tags": []
   },
   "outputs": [
    {
     "data": {
      "text/plain": [
       "Text(0.5, 0, 'Average fine-state RMSD')"
      ]
     },
     "execution_count": 495,
     "metadata": {},
     "output_type": "execute_result"
    },
    {
     "data": {
      "image/png": "[encoded data removed]",
      "text/plain": [
       "<Figure size 432x288 with 1 Axes>"
      ]
     },
     "metadata": {
      "needs_background": "light"
     },
     "output_type": "display_data"
    }
   ],
   "source": [
    "plt.hist(avg_state_rmsds, bins=20)\n",
    "plt.xlabel('Average fine-state RMSD')"
   ]
  },
  {
   "cell_type": "code",
   "execution_count": 496,
   "metadata": {
    "execution": {
     "iopub.execute_input": "2022-02-18T23:06:20.715604Z",
     "iopub.status.busy": "2022-02-18T23:06:20.713193Z",
     "iopub.status.idle": "2022-02-18T23:06:21.072120Z",
     "shell.execute_reply": "2022-02-18T23:06:21.071088Z",
     "shell.execute_reply.started": "2022-02-18T23:06:20.715505Z"
    },
    "tags": []
   },
   "outputs": [
    {
     "data": {
      "text/plain": [
       "Text(0.5, 0, 'RMSD from folded structure')"
      ]
     },
     "execution_count": 496,
     "metadata": {},
     "output_type": "execute_result"
    },
    {
     "data": {
      "image/png": "[encoded data removed]",
      "text/plain": [
       "<Figure size 432x288 with 1 Axes>"
      ]
     },
     "metadata": {
      "needs_background": "light"
     },
     "output_type": "display_data"
    }
   ],
   "source": [
    "plt.plot(avg_state_rmsds, msm.committor_forward(folded, unfolded), '.')\n",
    "\n",
    "plt.ylabel('Committor to unfolded')\n",
    "plt.xlabel('RMSD from folded structure')"
   ]
  },
  {
   "cell_type": "code",
   "execution_count": 497,
   "metadata": {
    "collapsed": false,
    "execution": {
     "iopub.execute_input": "2022-02-18T23:06:21.074396Z",
     "iopub.status.busy": "2022-02-18T23:06:21.073400Z",
     "iopub.status.idle": "2022-02-18T23:06:21.363710Z",
     "shell.execute_reply": "2022-02-18T23:06:21.362182Z",
     "shell.execute_reply.started": "2022-02-18T23:06:21.074356Z"
    },
    "jupyter": {
     "outputs_hidden": false
    },
    "pycharm": {
     "name": "#%%\n"
    },
    "tags": []
   },
   "outputs": [
    {
     "data": {
      "text/plain": [
       "Text(0, 0.5, '-$\\\\ln( P^{equil} )$')"
      ]
     },
     "execution_count": 497,
     "metadata": {},
     "output_type": "execute_result"
    },
    {
     "data": {
      "image/png": "[encoded data removed]",
      "text/plain": [
       "<Figure size 432x288 with 1 Axes>"
      ]
     },
     "metadata": {
      "needs_background": "light"
     },
     "output_type": "display_data"
    }
   ],
   "source": [
    "potential = -np.log(msm.stationary_distribution)\n",
    "\n",
    "plt.plot(\n",
    "    avg_state_rmsds[rmsd_sort_order],\n",
    "    potential[rmsd_sort_order], '.')\n",
    "\n",
    "# plt.axvline(folded_thresh)\n",
    "# plt.axvline(unfolded_thresh)\n",
    "\n",
    "plt.xlabel('RMSD')\n",
    "plt.ylabel('-$\\\\ln( P^{equil} )$')"
   ]
  },
  {
   "cell_type": "markdown",
   "metadata": {},
   "source": [
    "#### Failed attempt at heatmap"
   ]
  },
  {
   "cell_type": "code",
   "execution_count": 498,
   "metadata": {
    "execution": {
     "iopub.execute_input": "2022-02-18T23:06:21.365399Z",
     "iopub.status.busy": "2022-02-18T23:06:21.365050Z",
     "iopub.status.idle": "2022-02-18T23:06:21.378829Z",
     "shell.execute_reply": "2022-02-18T23:06:21.377672Z",
     "shell.execute_reply.started": "2022-02-18T23:06:21.365367Z"
    },
    "scrolled": true,
    "tags": []
   },
   "outputs": [
    {
     "data": {
      "text/plain": [
       "array([0.00129843, 0.00033622, 0.0004665 , ..., 0.00029312, 0.00029312,\n",
       "       0.00028737])"
      ]
     },
     "execution_count": 498,
     "metadata": {},
     "output_type": "execute_result"
    }
   ],
   "source": [
    "msm.stationary_distribution\n",
    "\n",
    "# Each state has a value in the stationary distribution, and a tIC 1 and tIC 2 value\n",
    "# So for each cluster, x/y are the tIC 1 / tIC 2, and z = stationary"
   ]
  },
  {
   "cell_type": "code",
   "execution_count": 499,
   "metadata": {
    "execution": {
     "iopub.execute_input": "2022-02-18T23:06:21.381334Z",
     "iopub.status.busy": "2022-02-18T23:06:21.380671Z",
     "iopub.status.idle": "2022-02-18T23:06:21.405003Z",
     "shell.execute_reply": "2022-02-18T23:06:21.402852Z",
     "shell.execute_reply.started": "2022-02-18T23:06:21.381295Z"
    },
    "tags": []
   },
   "outputs": [
    {
     "data": {
      "text/plain": [
       "(3, 1020)"
      ]
     },
     "execution_count": 499,
     "metadata": {},
     "output_type": "execute_result"
    }
   ],
   "source": [
    "potential_data = np.vstack([\n",
    "    msm.stationary_distribution,\n",
    "    clustering.cluster_centers[:,0],\n",
    "    clustering.cluster_centers[:,1],\n",
    "])\n",
    "potential_data.shape"
   ]
  },
  {
   "cell_type": "markdown",
   "metadata": {},
   "source": [
    "### Cluster on fine-state RMSDs\n",
    "\n",
    "For the intermediates, cluster into coarse-clusters on their average RMSDs.\n",
    "\n",
    "We will manually assign the folded/unfolded states into their own coarse states."
   ]
  },
  {
   "cell_type": "code",
   "execution_count": 500,
   "metadata": {
    "execution": {
     "iopub.execute_input": "2022-02-18T23:06:21.410892Z",
     "iopub.status.busy": "2022-02-18T23:06:21.409332Z",
     "iopub.status.idle": "2022-02-18T23:06:21.446238Z",
     "shell.execute_reply": "2022-02-18T23:06:21.444617Z",
     "shell.execute_reply.started": "2022-02-18T23:06:21.410850Z"
    },
    "tags": []
   },
   "outputs": [],
   "source": [
    "n_coarse_clusters = 20\n",
    "\n",
    "coarse_kmeans_estimator = KMeans(\n",
    "    n_clusters=n_coarse_clusters,\n",
    "    # init_strategy='uniform',\n",
    "    max_iter=1000,\n",
    "    fixed_seed=1337,\n",
    "    n_jobs=4,\n",
    "    progress=tqdm.tqdm\n",
    ")"
   ]
  },
  {
   "cell_type": "code",
   "execution_count": 501,
   "metadata": {
    "execution": {
     "iopub.execute_input": "2022-02-18T23:06:21.474568Z",
     "iopub.status.busy": "2022-02-18T23:06:21.473390Z",
     "iopub.status.idle": "2022-02-18T23:06:21.653039Z",
     "shell.execute_reply": "2022-02-18T23:06:21.651601Z",
     "shell.execute_reply.started": "2022-02-18T23:06:21.474531Z"
    },
    "tags": []
   },
   "outputs": [
    {
     "data": {
      "application/vnd.jupyter.widget-view+json": {
       "model_id": "613c09746efc4277a82958ab1876fead",
       "version_major": 2,
       "version_minor": 0
      },
      "text/plain": [
       "  0%|          | 0/20 [00:00<?, ?it/s]"
      ]
     },
     "metadata": {},
     "output_type": "display_data"
    },
    {
     "data": {
      "application/vnd.jupyter.widget-view+json": {
       "model_id": "2df29e7f57c549e9bcc69edb24fe3534",
       "version_major": 2,
       "version_minor": 0
      },
      "text/plain": [
       "  0%|          | 0/1000 [00:00<?, ?it/s]"
      ]
     },
     "metadata": {},
     "output_type": "display_data"
    }
   ],
   "source": [
    "# This builds a model which maps an RMSD to a cluster\n",
    "\n",
    "coarse_clustering = coarse_kmeans_estimator.fit_fetch(avg_state_rmsds[intermediate])"
   ]
  },
  {
   "cell_type": "code",
   "execution_count": 502,
   "metadata": {
    "execution": {
     "iopub.execute_input": "2022-02-18T23:06:21.656160Z",
     "iopub.status.busy": "2022-02-18T23:06:21.655756Z",
     "iopub.status.idle": "2022-02-18T23:06:21.663430Z",
     "shell.execute_reply": "2022-02-18T23:06:21.662056Z",
     "shell.execute_reply.started": "2022-02-18T23:06:21.656109Z"
    },
    "tags": []
   },
   "outputs": [],
   "source": [
    "# Now we assign clusters to all the state RMSDs\n",
    "\n",
    "coarse_assignments = coarse_clustering.transform(avg_state_rmsds[intermediate])"
   ]
  },
  {
   "cell_type": "markdown",
   "metadata": {},
   "source": [
    "### Define coarse mapping"
   ]
  },
  {
   "cell_type": "code",
   "execution_count": 503,
   "metadata": {
    "execution": {
     "iopub.execute_input": "2022-02-18T23:06:21.665410Z",
     "iopub.status.busy": "2022-02-18T23:06:21.665016Z",
     "iopub.status.idle": "2022-02-18T23:06:21.678522Z",
     "shell.execute_reply": "2022-02-18T23:06:21.677064Z",
     "shell.execute_reply.started": "2022-02-18T23:06:21.665379Z"
    },
    "tags": []
   },
   "outputs": [],
   "source": [
    "# This defines a mapping from <intermediate state> -> <coarse state ID>\n",
    "coarse_mapping = {}\n",
    "\n",
    "for i, state in enumerate(intermediate):\n",
    "    \n",
    "    avg_state_rmsd = avg_state_rmsds[state]\n",
    "    coarse_state = coarse_assignments[i]\n",
    "    \n",
    "    # coarse_state = coarse_clustering.transform(np.array(avg_state_rmsd))[0]\n",
    "    \n",
    "    # +1 leaves [0] reserved for state A\n",
    "    coarse_mapping[state] = coarse_state + 1\n",
    "    \n",
    "for state in folded:\n",
    "    coarse_mapping[state] = 0\n",
    "    \n",
    "for state in unfolded:\n",
    "    coarse_mapping[state] = n_coarse_clusters+1"
   ]
  },
  {
   "cell_type": "markdown",
   "metadata": {},
   "source": [
    "#### Visualize the coarsening\n",
    "\n",
    "Plot the avg RMSD of each coarse-state, and the avg RMSD of each fine state, so you can see how the fine states fit into the coarse-states and compare to the actual trajectory.\n",
    "\n",
    "Note that all points above and below the cutoffs get assigned to a single folded or unfolded coarse-state, which is why the fine-states don't appear to span the full range. Clustering is not done for those (because it's not necessary), so they're not included in the list of cluster centers -- in other words, the folded/unfolded states are handled outside of the cluster-coarse-graining procedure."
   ]
  },
  {
   "cell_type": "code",
   "execution_count": 504,
   "metadata": {
    "execution": {
     "iopub.execute_input": "2022-02-18T23:06:21.680641Z",
     "iopub.status.busy": "2022-02-18T23:06:21.680264Z",
     "iopub.status.idle": "2022-02-18T23:06:22.381613Z",
     "shell.execute_reply": "2022-02-18T23:06:22.379671Z",
     "shell.execute_reply.started": "2022-02-18T23:06:21.680614Z"
    },
    "tags": []
   },
   "outputs": [
    {
     "data": {
      "image/png": "[encoded data removed]",
      "text/plain": [
       "<Figure size 864x288 with 2 Axes>"
      ]
     },
     "metadata": {
      "needs_background": "light"
     },
     "output_type": "display_data"
    }
   ],
   "source": [
    "fig, ax = plt.subplots(1, 2, gridspec_kw={'width_ratios': [1, 4]}, figsize=(12,4))\n",
    "\n",
    "ax[0].plot(\n",
    "    coarse_clustering.cluster_centers[coarse_assignments], \n",
    "    avg_state_rmsds[intermediate], \n",
    "    '.',\n",
    "    color='tab:green',)\n",
    "\n",
    "ax[1].plot(rmsd[::rmsd_stride], color='gray', label='RMSD')\n",
    "ax[1].set_xlabel('Steps')\n",
    "\n",
    "ax[0].set_ylim(ax[1].get_ylim())\n",
    "\n",
    "ax[0].set_ylabel('Avg rmsd in fine cluster')\n",
    "ax[0].set_xlabel('Coarse cluster rmsd')\n",
    "\n",
    "fig.tight_layout()"
   ]
  },
  {
   "cell_type": "code",
   "execution_count": 505,
   "metadata": {
    "execution": {
     "iopub.execute_input": "2022-02-18T23:06:22.383871Z",
     "iopub.status.busy": "2022-02-18T23:06:22.383380Z",
     "iopub.status.idle": "2022-02-18T23:06:22.410276Z",
     "shell.execute_reply": "2022-02-18T23:06:22.404744Z",
     "shell.execute_reply.started": "2022-02-18T23:06:22.383804Z"
    },
    "tags": []
   },
   "outputs": [],
   "source": [
    "assert msm.reversible, \"MSM not reversible! Need to symmetrize it.\""
   ]
  },
  {
   "cell_type": "markdown",
   "metadata": {},
   "source": [
    "### Make coarse-mapping convenience objects\n",
    "\n",
    "We started with `coarse_mapping`, a dictionary where the keys are all of the fine-states, and the values are the coarse-states that each fine-state belongs to.\n",
    "\n",
    "For convenience, we'll define a couple other things with this same information.\n",
    "\n",
    "`inv_map` is a dictionary mapping each coarse state to a list of the fine states within it\n",
    "\n",
    "`cg_map` is a list of length `n_coarse_states`. The `i`th element is a list of the fine-states in coarse state `i`."
   ]
  },
  {
   "cell_type": "code",
   "execution_count": 506,
   "metadata": {
    "execution": {
     "iopub.execute_input": "2022-02-18T23:06:22.413312Z",
     "iopub.status.busy": "2022-02-18T23:06:22.412494Z",
     "iopub.status.idle": "2022-02-18T23:06:22.427278Z",
     "shell.execute_reply": "2022-02-18T23:06:22.423793Z",
     "shell.execute_reply.started": "2022-02-18T23:06:22.413273Z"
    },
    "tags": []
   },
   "outputs": [],
   "source": [
    "inv_map = {}\n",
    "for k, v in coarse_mapping.items():\n",
    "    inv_map[v] = inv_map.get(v, []) + [k]"
   ]
  },
  {
   "cell_type": "code",
   "execution_count": 507,
   "metadata": {
    "execution": {
     "iopub.execute_input": "2022-02-18T23:06:22.432836Z",
     "iopub.status.busy": "2022-02-18T23:06:22.431530Z",
     "iopub.status.idle": "2022-02-18T23:06:22.440528Z",
     "shell.execute_reply": "2022-02-18T23:06:22.439050Z",
     "shell.execute_reply.started": "2022-02-18T23:06:22.432758Z"
    },
    "tags": []
   },
   "outputs": [],
   "source": [
    "cg_map = [[] for _ in inv_map.keys()]\n",
    "\n",
    "for k, v in inv_map.items():\n",
    "    cg_map[k] = v"
   ]
  },
  {
   "cell_type": "markdown",
   "metadata": {},
   "source": [
    "### Get coarse-grained potential"
   ]
  },
  {
   "cell_type": "code",
   "execution_count": 508,
   "metadata": {
    "execution": {
     "iopub.execute_input": "2022-02-18T23:06:22.445195Z",
     "iopub.status.busy": "2022-02-18T23:06:22.444867Z",
     "iopub.status.idle": "2022-02-18T23:06:22.651510Z",
     "shell.execute_reply": "2022-02-18T23:06:22.650575Z",
     "shell.execute_reply.started": "2022-02-18T23:06:22.445158Z"
    },
    "tags": []
   },
   "outputs": [
    {
     "data": {
      "text/plain": [
       "Text(0, 0.5, '-$\\\\ln( P^{equil} )$')"
      ]
     },
     "execution_count": 508,
     "metadata": {},
     "output_type": "execute_result"
    },
    {
     "data": {
      "image/png": "[encoded data removed]",
      "text/plain": [
       "<Figure size 432x288 with 1 Axes>"
      ]
     },
     "metadata": {
      "needs_background": "light"
     },
     "output_type": "display_data"
    }
   ],
   "source": [
    "potential = -np.log(msm.stationary_distribution)\n",
    "\n",
    "coarse_distribution = np.zeros(len(cg_map))\n",
    "for coarse_state, fine_states in enumerate(cg_map):\n",
    "    coarse_distribution[coarse_state] = np.sum(msm.stationary_distribution[fine_states])\n",
    "assert np.isclose(sum(coarse_distribution), 1.0), \"Coarse distribution not normalized\"\n",
    "coarse_potential = -np.log(coarse_distribution)\n",
    "\n",
    "    \n",
    "plt.plot(\n",
    "    avg_state_rmsds[rmsd_sort_order],\n",
    "    potential[rmsd_sort_order], '.')\n",
    "\n",
    "plt.plot(\n",
    "    np.concatenate([[1], coarse_clustering.cluster_centers.flatten(), [10]]),\n",
    "    coarse_potential, '.')\n",
    "\n",
    "# plt.axvline(folded_thresh)\n",
    "# plt.axvline(unfolded_thresh)\n",
    "\n",
    "plt.xlabel('RMSD')\n",
    "plt.ylabel('-$\\\\ln( P^{equil} )$')"
   ]
  },
  {
   "cell_type": "markdown",
   "metadata": {},
   "source": [
    "## Compute average coarse-state RMSD"
   ]
  },
  {
   "cell_type": "code",
   "execution_count": 509,
   "metadata": {
    "execution": {
     "iopub.execute_input": "2022-02-18T23:06:22.658251Z",
     "iopub.status.busy": "2022-02-18T23:06:22.657840Z",
     "iopub.status.idle": "2022-02-18T23:06:22.676398Z",
     "shell.execute_reply": "2022-02-18T23:06:22.674454Z",
     "shell.execute_reply.started": "2022-02-18T23:06:22.658215Z"
    },
    "tags": []
   },
   "outputs": [],
   "source": [
    "avg_folded_rmsd = avg_state_rmsds[cg_map[0]].mean()\n",
    "avg_unfolded_rmsd = avg_state_rmsds[cg_map[-1]].mean()\n",
    "\n",
    "avg_coarse_rmsd = np.concatenate([\n",
    "    [avg_folded_rmsd],\n",
    "    coarse_clustering.cluster_centers.flatten(),\n",
    "    [avg_unfolded_rmsd]\n",
    "])"
   ]
  },
  {
   "cell_type": "code",
   "execution_count": 510,
   "metadata": {
    "execution": {
     "iopub.execute_input": "2022-02-18T23:06:22.680960Z",
     "iopub.status.busy": "2022-02-18T23:06:22.679375Z",
     "iopub.status.idle": "2022-02-18T23:06:22.687707Z",
     "shell.execute_reply": "2022-02-18T23:06:22.686526Z",
     "shell.execute_reply.started": "2022-02-18T23:06:22.680905Z"
    },
    "tags": []
   },
   "outputs": [],
   "source": [
    "cg_state_sort = np.argsort(avg_coarse_rmsd)"
   ]
  },
  {
   "cell_type": "markdown",
   "metadata": {},
   "source": [
    "### Save fine transition matrix and coarse mapping"
   ]
  },
  {
   "cell_type": "code",
   "execution_count": 511,
   "metadata": {
    "execution": {
     "iopub.execute_input": "2022-02-18T23:06:22.691020Z",
     "iopub.status.busy": "2022-02-18T23:06:22.689988Z",
     "iopub.status.idle": "2022-02-18T23:06:22.800194Z",
     "shell.execute_reply": "2022-02-18T23:06:22.799261Z",
     "shell.execute_reply.started": "2022-02-18T23:06:22.690978Z"
    },
    "pycharm": {
     "name": "#%%\n"
    },
    "tags": []
   },
   "outputs": [],
   "source": [
    "np.savez(f'transition_matrix_nfine{len(msm.transition_matrix)}_ernesto_symm', transition_matrix=msm.transition_matrix,\n",
    "         states_unfolded = unfolded,\n",
    "         states_folded = folded,\n",
    "         fine_clustering = clustering,\n",
    "         coarse_clustering = coarse_clustering,\n",
    "         mfpt_folding = mfpt_folding,\n",
    "         mfpt_unfolding = mfpt_unfolding,\n",
    "         coarse_mapping = coarse_mapping,\n",
    "         avg_state_rmsds = avg_state_rmsds,\n",
    "         coarse_potential = coarse_potential,\n",
    "         coarse_eq_ref = coarse_distribution,\n",
    "         cg_state_sort = cg_state_sort,\n",
    "         avg_coarse_rmsd = avg_coarse_rmsd,\n",
    "         msm_object=msm,\n",
    "         )"
   ]
  },
  {
   "cell_type": "markdown",
   "metadata": {},
   "source": [
    "# Sample trajectory generation"
   ]
  },
  {
   "cell_type": "markdown",
   "metadata": {},
   "source": [
    "Now, we should be able to generate some trajectories from our Markov model.\n",
    "\n",
    "A couple notes:\n",
    "- Generated trajectories will have timestep equal to the lag time of the MSM. This is important when compute MFPTs etc\n",
    "- Generated trajectories are of course in the space of the fine-grained states, and will be coarse-grained after generation\n",
    "\n",
    "To sanity-check this procedure, I'll generate a large number of trajectories and then verify analyzing them gives me results consistent with the original Markov model."
   ]
  },
  {
   "cell_type": "markdown",
   "metadata": {},
   "source": [
    "## Generate fine trajectories"
   ]
  },
  {
   "cell_type": "code",
   "execution_count": 512,
   "metadata": {
    "execution": {
     "iopub.execute_input": "2022-02-18T23:06:22.802349Z",
     "iopub.status.busy": "2022-02-18T23:06:22.801572Z",
     "iopub.status.idle": "2022-02-18T23:06:22.811309Z",
     "shell.execute_reply": "2022-02-18T23:06:22.809444Z",
     "shell.execute_reply.started": "2022-02-18T23:06:22.802154Z"
    },
    "tags": []
   },
   "outputs": [],
   "source": [
    "n_trajectories = 50\n",
    "initial_state = rmsd_sort_order[-1]\n",
    "traj_seed = 1337\n",
    "original_trajectory_length=100000\n",
    "fine_transition_matrix = msm.transition_matrix"
   ]
  },
  {
   "cell_type": "code",
   "execution_count": 513,
   "metadata": {
    "execution": {
     "iopub.execute_input": "2022-02-18T23:06:22.815842Z",
     "iopub.status.busy": "2022-02-18T23:06:22.815185Z",
     "iopub.status.idle": "2022-02-18T23:06:57.043189Z",
     "shell.execute_reply": "2022-02-18T23:06:57.041544Z",
     "shell.execute_reply.started": "2022-02-18T23:06:22.815807Z"
    },
    "tags": []
   },
   "outputs": [
    {
     "data": {
      "application/vnd.jupyter.widget-view+json": {
       "model_id": "4751c44421484c0e9033fa284fe80e34",
       "version_major": 2,
       "version_minor": 0
      },
      "text/plain": [
       "Generating trajectories:   0%|          | 0/99999 [00:00<?, ?it/s]"
      ]
     },
     "metadata": {},
     "output_type": "display_data"
    }
   ],
   "source": [
    "# ! Start all in one point\n",
    "initial_points = np.full(n_trajectories, fill_value=initial_state)\n",
    "initial_points = np.ones(n_trajectories)\n",
    "initial_points[:] = initial_state\n",
    "\n",
    "rng = np.random.default_rng(traj_seed)\n",
    "# TODO: For large datasets, may not be able to hold this in memory\n",
    "probs = rng.random(size=(n_trajectories, original_trajectory_length))\n",
    "\n",
    "fine_trajectories = np.full(shape=(n_trajectories, original_trajectory_length), fill_value=-1, dtype=int)\n",
    "fine_trajectories[:, 0] = initial_points\n",
    "for _step in tqdm.tqdm(range(1, original_trajectory_length), desc='Generating trajectories'):\n",
    "    last_points = fine_trajectories[:, _step - 1]\n",
    "    next_step_probs = probs[:, _step]\n",
    "\n",
    "    transition_rows = fine_transition_matrix[last_points]\n",
    "    prob_sums = np.cumsum(transition_rows, axis=1)\n",
    "\n",
    "    # Using the probabilities, and the cumulative sums of the transition matrix rows, compute the next state you go to.\n",
    "    # If you look at one trajectory, this is just looking for the first point where the random number drawn is >= the\n",
    "    # cumulative probability.\n",
    "    next_states = np.argmax(\n",
    "        prob_sums - next_step_probs.reshape((n_trajectories, -1)) >= 0,\n",
    "        axis=1)\n",
    "\n",
    "    fine_trajectories[:, _step] = next_states"
   ]
  },
  {
   "cell_type": "code",
   "execution_count": 514,
   "metadata": {
    "execution": {
     "iopub.execute_input": "2022-02-18T23:06:57.048484Z",
     "iopub.status.busy": "2022-02-18T23:06:57.048126Z",
     "iopub.status.idle": "2022-02-18T23:07:28.170166Z",
     "shell.execute_reply": "2022-02-18T23:07:28.169401Z",
     "shell.execute_reply.started": "2022-02-18T23:06:57.048447Z"
    },
    "tags": []
   },
   "outputs": [
    {
     "data": {
      "application/vnd.jupyter.widget-view+json": {
       "model_id": "4cc0daf6c443481eb34f41c40e9f001f",
       "version_major": 2,
       "version_minor": 0
      },
      "text/plain": [
       "  0%|          | 0/50 [00:00<?, ?it/s]"
      ]
     },
     "metadata": {},
     "output_type": "display_data"
    }
   ],
   "source": [
    "fine_trajectories = []\n",
    "\n",
    "for i in tqdm.tqdm(range(n_trajectories)):\n",
    "    _traj = msm.simulate(n_steps=original_trajectory_length, start=initial_state)\n",
    "    fine_trajectories.append(_traj)\n",
    "    \n",
    "fine_trajectories = np.array(fine_trajectories)"
   ]
  },
  {
   "cell_type": "markdown",
   "metadata": {},
   "source": [
    "## Coarsen trajectories"
   ]
  },
  {
   "cell_type": "code",
   "execution_count": 515,
   "metadata": {
    "execution": {
     "iopub.execute_input": "2022-02-18T23:07:28.171358Z",
     "iopub.status.busy": "2022-02-18T23:07:28.171049Z",
     "iopub.status.idle": "2022-02-18T23:07:29.626888Z",
     "shell.execute_reply": "2022-02-18T23:07:29.626248Z",
     "shell.execute_reply.started": "2022-02-18T23:07:28.171326Z"
    },
    "tags": []
   },
   "outputs": [],
   "source": [
    "# Map each fine state to its coarse state, just the inverse of cg_map\n",
    "fg_map = {y: i for (i, x) in enumerate(cg_map) for y in x}\n",
    "fine_to_coarse = np.vectorize(lambda x: fg_map[x])\n",
    "coarse_trajectories = fine_to_coarse(fine_trajectories)"
   ]
  },
  {
   "cell_type": "markdown",
   "metadata": {},
   "source": [
    "## Plot sample trajectories\n",
    "\n",
    "Plot a couple trajectories in both the fine- and coarse-grained spaces.\n",
    "\n",
    "Here, the important thing is that you should be able to see the transitions in/out of the folded/unfolded states in both. Thew intermediate can look messy, but folded/unfolded should be well defined.\n",
    "\n",
    "Note that here, we're mapping back to average RMSD on the y-axis."
   ]
  },
  {
   "cell_type": "code",
   "execution_count": 516,
   "metadata": {
    "execution": {
     "iopub.execute_input": "2022-02-18T23:07:29.627912Z",
     "iopub.status.busy": "2022-02-18T23:07:29.627595Z",
     "iopub.status.idle": "2022-02-18T23:07:30.019217Z",
     "shell.execute_reply": "2022-02-18T23:07:30.018609Z",
     "shell.execute_reply.started": "2022-02-18T23:07:29.627888Z"
    },
    "tags": []
   },
   "outputs": [
    {
     "data": {
      "image/png": "[encoded data removed]",
      "text/plain": [
       "<Figure size 900x300 with 2 Axes>"
      ]
     },
     "metadata": {
      "needs_background": "light"
     },
     "output_type": "display_data"
    }
   ],
   "source": [
    "fig, ax  = plt.subplots(1, 2, figsize=(6,2))\n",
    "rmsd_ax = ax[0]\n",
    "# fine_ax = ax[1]\n",
    "coarse_ax = ax[1]\n",
    "_subsample = 10\n",
    "latest_point = 5000\n",
    "for trajectory in fine_trajectories[:2]:\n",
    "    \n",
    "    rmsd_trajectory = [avg_state_rmsds[x] for x in trajectory]\n",
    "    rmsd_ax.plot(rmsd_trajectory[:latest_point:_subsample])\n",
    "    \n",
    "    # fine_ax.plot(trajectory[::_subsample])\n",
    "    \n",
    "    coarse_traj = fine_to_coarse(trajectory)\n",
    "    coarse_rmsd_traj = [avg_coarse_rmsd[x] for x in coarse_traj]\n",
    "    coarse_ax.plot(coarse_rmsd_traj[:latest_point:_subsample])\n",
    "    \n",
    "rmsd_ax.set_ylabel('Fine state RMSD')\n",
    "# fine_ax.set_ylabel('Fine state index')\n",
    "coarse_ax.set_ylabel('Coarse State RMSD')\n",
    "\n",
    "# plt.ylim([0, 15])\n",
    "\n",
    "fig.tight_layout()\n",
    "fig.set_dpi(150)"
   ]
  },
  {
   "cell_type": "markdown",
   "metadata": {},
   "source": [
    "## Sanity checks\n",
    "\n",
    "Let's make sure that analyzing these trajectories gives back results consistent with the Markov model we used to generate them."
   ]
  },
  {
   "cell_type": "code",
   "execution_count": 517,
   "metadata": {
    "execution": {
     "iopub.execute_input": "2022-02-18T23:07:30.020625Z",
     "iopub.status.busy": "2022-02-18T23:07:30.020442Z",
     "iopub.status.idle": "2022-02-18T23:07:30.719230Z",
     "shell.execute_reply": "2022-02-18T23:07:30.718524Z",
     "shell.execute_reply.started": "2022-02-18T23:07:30.020607Z"
    },
    "tags": []
   },
   "outputs": [
    {
     "name": "stdout",
     "output_type": "stream",
     "text": [
      "50\n"
     ]
    }
   ],
   "source": [
    "lag = msm_lag_steps\n",
    "print(msm_lag_steps)\n",
    "check_count_model = TransitionCountEstimator(lag, 'sliding').fit_fetch(fine_trajectories)\n",
    "check_msm = MaximumLikelihoodMSM().fit_fetch(check_count_model.submodel_largest())"
   ]
  },
  {
   "cell_type": "markdown",
   "metadata": {},
   "source": [
    "It's possible the active set of the MSM built from the generated trajs is smaller than the full set of states.\n",
    "\n",
    "That's all well and good as far as the eventual analysis, but for sanity checks, go hard on the sampling and make sure all states are represented."
   ]
  },
  {
   "cell_type": "code",
   "execution_count": 518,
   "metadata": {
    "execution": {
     "iopub.execute_input": "2022-02-18T23:07:30.720518Z",
     "iopub.status.busy": "2022-02-18T23:07:30.720209Z",
     "iopub.status.idle": "2022-02-18T23:07:30.724270Z",
     "shell.execute_reply": "2022-02-18T23:07:30.723498Z",
     "shell.execute_reply.started": "2022-02-18T23:07:30.720495Z"
    },
    "tags": []
   },
   "outputs": [],
   "source": [
    "assert check_msm.n_states == msm.n_states"
   ]
  },
  {
   "cell_type": "markdown",
   "metadata": {},
   "source": [
    "### Compare stationary distributions\n",
    "\n",
    "This should basically be a diagonal line of slope 1, or else they're giving different stationary distributions."
   ]
  },
  {
   "cell_type": "code",
   "execution_count": 519,
   "metadata": {
    "execution": {
     "iopub.execute_input": "2022-02-18T23:07:30.733122Z",
     "iopub.status.busy": "2022-02-18T23:07:30.732845Z",
     "iopub.status.idle": "2022-02-18T23:07:31.080239Z",
     "shell.execute_reply": "2022-02-18T23:07:31.079200Z",
     "shell.execute_reply.started": "2022-02-18T23:07:30.733093Z"
    },
    "tags": []
   },
   "outputs": [
    {
     "data": {
      "text/plain": [
       "<matplotlib.collections.PathCollection at 0x1647d6ac0>"
      ]
     },
     "execution_count": 519,
     "metadata": {},
     "output_type": "execute_result"
    },
    {
     "data": {
      "image/png": "[encoded data removed]",
      "text/plain": [
       "<Figure size 432x288 with 1 Axes>"
      ]
     },
     "metadata": {
      "needs_background": "light"
     },
     "output_type": "display_data"
    }
   ],
   "source": [
    "plt.scatter(check_msm.stationary_distribution, msm.stationary_distribution)"
   ]
  },
  {
   "cell_type": "markdown",
   "metadata": {},
   "source": [
    "### Compare MFPTs"
   ]
  },
  {
   "cell_type": "code",
   "execution_count": 520,
   "metadata": {
    "collapsed": false,
    "execution": {
     "iopub.execute_input": "2022-02-18T23:07:31.081678Z",
     "iopub.status.busy": "2022-02-18T23:07:31.081255Z",
     "iopub.status.idle": "2022-02-18T23:07:31.121886Z",
     "shell.execute_reply": "2022-02-18T23:07:31.121037Z",
     "shell.execute_reply.started": "2022-02-18T23:07:31.081649Z"
    },
    "jupyter": {
     "outputs_hidden": false
    },
    "pycharm": {
     "name": "#%%\n"
    },
    "tags": []
   },
   "outputs": [],
   "source": [
    "# Remember, trajectories I generate from the MSM are in units of the MSM lag time\n",
    "check_mfpt_folding = check_msm.mfpt(unfolded.flatten(), folded.flatten()) * msm_lag_steps"
   ]
  },
  {
   "cell_type": "code",
   "execution_count": 521,
   "metadata": {
    "collapsed": false,
    "execution": {
     "iopub.execute_input": "2022-02-18T23:07:31.123650Z",
     "iopub.status.busy": "2022-02-18T23:07:31.123136Z",
     "iopub.status.idle": "2022-02-18T23:07:31.160286Z",
     "shell.execute_reply": "2022-02-18T23:07:31.159516Z",
     "shell.execute_reply.started": "2022-02-18T23:07:31.123617Z"
    },
    "jupyter": {
     "outputs_hidden": false
    },
    "pycharm": {
     "name": "#%%\n"
    },
    "tags": []
   },
   "outputs": [],
   "source": [
    "check_mfpt_unfolding = check_msm.mfpt(folded.flatten(), unfolded.flatten()) * msm_lag_steps"
   ]
  },
  {
   "cell_type": "code",
   "execution_count": 522,
   "metadata": {
    "execution": {
     "iopub.execute_input": "2022-02-18T23:07:31.162175Z",
     "iopub.status.busy": "2022-02-18T23:07:31.161642Z",
     "iopub.status.idle": "2022-02-18T23:07:31.168573Z",
     "shell.execute_reply": "2022-02-18T23:07:31.167694Z",
     "shell.execute_reply.started": "2022-02-18T23:07:31.162131Z"
    },
    "tags": []
   },
   "outputs": [
    {
     "data": {
      "text/plain": [
       "(1022.7750850396201, 231.99202978729414)"
      ]
     },
     "execution_count": 522,
     "metadata": {},
     "output_type": "execute_result"
    }
   ],
   "source": [
    "mfpt_folding, mfpt_unfolding # Folding time, in units of the input trajectory"
   ]
  },
  {
   "cell_type": "code",
   "execution_count": 523,
   "metadata": {
    "execution": {
     "iopub.execute_input": "2022-02-18T23:07:31.170727Z",
     "iopub.status.busy": "2022-02-18T23:07:31.169977Z",
     "iopub.status.idle": "2022-02-18T23:07:31.177340Z",
     "shell.execute_reply": "2022-02-18T23:07:31.175906Z",
     "shell.execute_reply.started": "2022-02-18T23:07:31.170695Z"
    },
    "tags": []
   },
   "outputs": [
    {
     "data": {
      "text/plain": [
       "(60497.537031916814, 15329.431940125434)"
      ]
     },
     "execution_count": 523,
     "metadata": {},
     "output_type": "execute_result"
    }
   ],
   "source": [
    "check_mfpt_folding, check_mfpt_unfolding # Folding time, in units of the input trajectory"
   ]
  },
  {
   "cell_type": "code",
   "execution_count": 524,
   "metadata": {
    "collapsed": false,
    "execution": {
     "iopub.execute_input": "2022-02-18T23:07:31.179688Z",
     "iopub.status.busy": "2022-02-18T23:07:31.179169Z",
     "iopub.status.idle": "2022-02-18T23:07:31.188741Z",
     "shell.execute_reply": "2022-02-18T23:07:31.187461Z",
     "shell.execute_reply.started": "2022-02-18T23:07:31.179655Z"
    },
    "jupyter": {
     "outputs_hidden": false
    },
    "pycharm": {
     "name": "#%%\n"
    },
    "tags": []
   },
   "outputs": [
    {
     "name": "stdout",
     "output_type": "stream",
     "text": [
      "--- Original MSM ---\n",
      "Folding time: \t204.56 ns\n",
      "Folding steps: \t1023 steps\n",
      "\n",
      "Unfolding time: \t46.40 ns\n",
      "Unfolding steps: \t232 steps\n",
      "\n",
      "--- MSM from generated trajectories ---\n",
      "Folding time: \t12099.51 ns\n",
      "Folding steps: \t1210 steps\n",
      "\n",
      "Unfolding time: \t3065.89 ns\n",
      "Unfolding steps: \t307 steps\n"
     ]
    }
   ],
   "source": [
    "# OG MSM\n",
    "print(\"--- Original MSM ---\")\n",
    "print(f\"Folding time: \\t{mfpt_folding * universe.trajectory.dt * stride / 1000:.2f} ns\")\n",
    "print(f\"Folding steps: \\t{mfpt_folding :.0f} steps\\n\")\n",
    "\n",
    "print(f\"Unfolding time: \\t{mfpt_unfolding * universe.trajectory.dt * stride  / 1000:.2f} ns\")\n",
    "print(f\"Unfolding steps: \\t{mfpt_unfolding :.0f} steps\")\n",
    "\n",
    "\n",
    "print(\"\\n--- MSM from generated trajectories ---\")\n",
    "\n",
    "print(f\"Folding time: \\t{check_mfpt_folding * universe.trajectory.dt / 1000:.2f} ns\")\n",
    "print(f\"Folding steps: \\t{check_mfpt_folding / msm_lag_steps :.0f} steps\\n\")\n",
    "\n",
    "print(f\"Unfolding time: \\t{check_mfpt_unfolding * universe.trajectory.dt  / 1000:.2f} ns\")\n",
    "print(f\"Unfolding steps: \\t{check_mfpt_unfolding / msm_lag_steps:.0f} steps\")"
   ]
  },
  {
   "cell_type": "code",
   "execution_count": null,
   "metadata": {},
   "outputs": [],
   "source": []
  }
 ],
 "metadata": {
  "kernelspec": {
   "display_name": "Python 3 (ipykernel)",
   "language": "python",
   "name": "python3"
  },
  "language_info": {
   "codemirror_mode": {
    "name": "ipython",
    "version": 3
   },
   "file_extension": ".py",
   "mimetype": "text/x-python",
   "name": "python",
   "nbconvert_exporter": "python",
   "pygments_lexer": "ipython3",
   "version": "3.9.10"
  }
 },
 "nbformat": 4,
 "nbformat_minor": 4
}
