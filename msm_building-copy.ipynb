{
 "cells": [
  {
   "cell_type": "markdown",
   "metadata": {
    "pycharm": {
     "name": "#%% md\n"
    }
   },
   "source": [
    "# Protein-like MSM building"
   ]
  },
  {
   "cell_type": "markdown",
   "metadata": {
    "pycharm": {
     "name": "#%% md\n"
    }
   },
   "source": [
    "Dependencies can be installed in a new conda environment with\n",
    "`conda env create -f environment.yml`\n",
    "or installed into an existing environment with\n",
    "`conda env update --name <existing environment name> --file environment.yml`"
   ]
  },
  {
   "cell_type": "markdown",
   "metadata": {
    "pycharm": {
     "name": "#%% md\n"
    }
   },
   "source": [
    "# Load dependencies"
   ]
  },
  {
   "cell_type": "code",
   "execution_count": 1,
   "metadata": {
    "execution": {
     "iopub.execute_input": "2022-02-17T23:03:27.052070Z",
     "iopub.status.busy": "2022-02-17T23:03:27.051755Z",
     "iopub.status.idle": "2022-02-17T23:03:29.985177Z",
     "shell.execute_reply": "2022-02-17T23:03:29.984655Z",
     "shell.execute_reply.started": "2022-02-17T23:03:27.051998Z"
    },
    "pycharm": {
     "name": "#%%\n"
    },
    "tags": []
   },
   "outputs": [
    {
     "name": "stderr",
     "output_type": "stream",
     "text": [
      "/Users/russojd/opt/anaconda3/envs/protein-like_msm/lib/python3.9/site-packages/MDAnalysis/coordinates/chemfiles.py:108: DeprecationWarning: distutils Version classes are deprecated. Use packaging.version instead.\n",
      "  MIN_CHEMFILES_VERSION = LooseVersion(\"0.9\")\n",
      "/Users/russojd/opt/anaconda3/envs/protein-like_msm/lib/python3.9/site-packages/MDAnalysis/coordinates/TRJ.py:1209: DeprecationWarning: Please use `netcdf_file` from the `scipy.io` namespace, the `scipy.io.netcdf` namespace is deprecated.\n",
      "  class NCDFPicklable(scipy.io.netcdf.netcdf_file):\n"
     ]
    }
   ],
   "source": [
    "import MDAnalysis as mda\n",
    "import MDAnalysis.analysis.rms\n",
    "import MDAnalysis.analysis.align\n",
    "from MDAnalysis.analysis import diffusionmap\n",
    "from MDAnalysis.analysis.distances import distance_array\n",
    "import numpy as np\n",
    "import tqdm.auto as tqdm\n",
    "from deeptime.clustering import KMeans, KMeansModel\n",
    "from matplotlib import pyplot as plt\n",
    "from deeptime.decomposition import TICA\n",
    "import copy\n",
    "import pickle\n",
    "import ray"
   ]
  },
  {
   "cell_type": "markdown",
   "metadata": {
    "pycharm": {
     "name": "#%% md\n"
    }
   },
   "source": [
    "## Load DE Shaw trajectories"
   ]
  },
  {
   "cell_type": "markdown",
   "metadata": {
    "pycharm": {
     "name": "#%% md\n"
    }
   },
   "source": [
    "I'll be using the Trp-cage (2JOF) folding trajectory #2. This is 105 DCD files + a topology .mae, indexed as 0-104."
   ]
  },
  {
   "cell_type": "code",
   "execution_count": 2,
   "metadata": {
    "execution": {
     "iopub.execute_input": "2022-02-17T23:03:29.986697Z",
     "iopub.status.busy": "2022-02-17T23:03:29.986452Z",
     "iopub.status.idle": "2022-02-17T23:03:29.991022Z",
     "shell.execute_reply": "2022-02-17T23:03:29.990146Z",
     "shell.execute_reply.started": "2022-02-17T23:03:29.986677Z"
    },
    "pycharm": {
     "name": "#%%\n"
    },
    "tags": []
   },
   "outputs": [],
   "source": [
    "trajectory_base_path = '/Users/russojd/Research/desres_trajectories/DESRES-Trajectory_2JOF-0-protein 2/2JOF-0-protein'\n",
    "n_traj_files = 105\n",
    "\n",
    "traj_name = \"2JOF-0-protein-{traj_idx:0>3d}.dcd\"\n",
    "\n",
    "# MDAnalysis can't read the .mae\n",
    "# topology_name = \"2JOF-0-protein.mae\"\n",
    "\n",
    "# So instead, use this PDB I got from converting the .mae\n",
    "topology_name = \"2JOF.pdb\"\n",
    "\n",
    "model_name = '2JOF'\n",
    "\n",
    "topology_path = f\"{trajectory_base_path}/{topology_name}\"\n",
    "traj_paths = [f\"{trajectory_base_path}/{traj_name.format(traj_idx=_idx)}\" for _idx in range(n_traj_files)]"
   ]
  },
  {
   "cell_type": "code",
   "execution_count": 3,
   "metadata": {
    "execution": {
     "iopub.execute_input": "2022-02-17T23:03:29.992295Z",
     "iopub.status.busy": "2022-02-17T23:03:29.992063Z",
     "iopub.status.idle": "2022-02-17T23:03:29.995692Z",
     "shell.execute_reply": "2022-02-17T23:03:29.994920Z",
     "shell.execute_reply.started": "2022-02-17T23:03:29.992271Z"
    },
    "pycharm": {
     "name": "#%%\n"
    },
    "tags": []
   },
   "outputs": [],
   "source": [
    "# Explicitly set the timestep here, since letting MDAnalysis infer it gives a wonky result.\n",
    "\n",
    "# Each of my trajectory DCD files start 2e6 units apart\n",
    "# The very first trajectory starts at 200 units\n",
    "# The whole trajectory is 208µs, and all the trajectories are 1e6 units, so a unit is 200ps.\n",
    "\n",
    "dt = 200"
   ]
  },
  {
   "cell_type": "code",
   "execution_count": 4,
   "metadata": {
    "execution": {
     "iopub.execute_input": "2022-02-17T23:03:30.424744Z",
     "iopub.status.busy": "2022-02-17T23:03:30.424475Z",
     "iopub.status.idle": "2022-02-17T23:03:30.634747Z",
     "shell.execute_reply": "2022-02-17T23:03:30.632573Z",
     "shell.execute_reply.started": "2022-02-17T23:03:30.424715Z"
    },
    "pycharm": {
     "name": "#%%\n"
    },
    "tags": []
   },
   "outputs": [],
   "source": [
    "universe = mda.Universe(topology_path, traj_paths, dt=dt )"
   ]
  },
  {
   "cell_type": "code",
   "execution_count": 5,
   "metadata": {
    "execution": {
     "iopub.execute_input": "2022-02-17T23:03:30.654902Z",
     "iopub.status.busy": "2022-02-17T23:03:30.650040Z",
     "iopub.status.idle": "2022-02-17T23:03:30.677181Z",
     "shell.execute_reply": "2022-02-17T23:03:30.671009Z",
     "shell.execute_reply.started": "2022-02-17T23:03:30.654869Z"
    },
    "pycharm": {
     "name": "#%%\n"
    },
    "tags": []
   },
   "outputs": [
    {
     "name": "stdout",
     "output_type": "stream",
     "text": [
      "Total trajectory time is 208.8 µs\n"
     ]
    }
   ],
   "source": [
    "total_time_ps = len(universe.trajectory) * universe.trajectory.dt\n",
    "\n",
    "print(f\"Total trajectory time is {total_time_ps/1e6} µs\")"
   ]
  },
  {
   "cell_type": "markdown",
   "metadata": {
    "pycharm": {
     "name": "#%% md\n"
    }
   },
   "source": [
    "## Prepare trajectory (align+center)"
   ]
  },
  {
   "cell_type": "markdown",
   "metadata": {
    "pycharm": {
     "name": "#%% md\n"
    }
   },
   "source": [
    "This aligns alpha-carbons on the provided reference topology, and spits out the result in `aligned_2JOF.dcd`. This only needs to be run once, to make that file."
   ]
  },
  {
   "cell_type": "code",
   "execution_count": 6,
   "metadata": {
    "execution": {
     "iopub.execute_input": "2022-02-17T23:03:31.694635Z",
     "iopub.status.busy": "2022-02-17T23:03:31.694276Z",
     "iopub.status.idle": "2022-02-17T23:03:31.710866Z",
     "shell.execute_reply": "2022-02-17T23:03:31.710197Z",
     "shell.execute_reply.started": "2022-02-17T23:03:31.694598Z"
    },
    "pycharm": {
     "name": "#%% raw\n"
    },
    "tags": []
   },
   "outputs": [],
   "source": [
    "ref_universe = mda.Universe(topology=topology_path)"
   ]
  },
  {
   "cell_type": "raw",
   "metadata": {
    "pycharm": {
     "name": "#%% raw\n"
    }
   },
   "source": [
    "MDAnalysis.analysis.align.AlignTraj(\n",
    "    universe,\n",
    "    ref_universe,\n",
    "    select='name CA',\n",
    "    filename='aligned_2JOF.dcd',\n",
    "    match_atoms=True,\n",
    "    verbose=True\n",
    ").run()"
   ]
  },
  {
   "cell_type": "markdown",
   "metadata": {
    "pycharm": {
     "name": "#%% md\n"
    }
   },
   "source": [
    "# Trajectory preparation"
   ]
  },
  {
   "cell_type": "code",
   "execution_count": 7,
   "metadata": {
    "execution": {
     "iopub.execute_input": "2022-02-17T23:03:33.530099Z",
     "iopub.status.busy": "2022-02-17T23:03:33.529792Z",
     "iopub.status.idle": "2022-02-17T23:03:33.534208Z",
     "shell.execute_reply": "2022-02-17T23:03:33.532987Z",
     "shell.execute_reply.started": "2022-02-17T23:03:33.530075Z"
    },
    "pycharm": {
     "name": "#%%\n"
    },
    "tags": []
   },
   "outputs": [],
   "source": [
    "# Stride the trajectory\n",
    "stride = 10\n",
    "\n",
    "rmsd_stride = 1\n",
    "\n",
    "# tica_dims = 10\n",
    "\n",
    "# The tIC that most closely corresponds to RMSD -- may change\n",
    "tic_rmsd = 0"
   ]
  },
  {
   "cell_type": "markdown",
   "metadata": {
    "pycharm": {
     "name": "#%% md\n"
    }
   },
   "source": [
    "## Featurize trajectory"
   ]
  },
  {
   "cell_type": "markdown",
   "metadata": {
    "pycharm": {
     "name": "#%% md\n"
    }
   },
   "source": [
    "In the original Shaw publication, they featurized the folding transition with alpha-carbon RMSD.\n",
    "\n",
    "[MDAnalysis RMSD documentation](https://www.mdanalysis.org/MDAnalysisTutorial/analysismodule.html#rmsd)"
   ]
  },
  {
   "cell_type": "raw",
   "metadata": {
    "pycharm": {
     "name": "#%% raw\n"
    }
   },
   "source": [
    "# Doing this and comparing to the initial frame looks terrible. I'll try the PDB structure instead.\n",
    "alpha_carbons = universe.select_atoms('name CA')\n",
    "initial_positions = alpha_carbons.positions"
   ]
  },
  {
   "cell_type": "code",
   "execution_count": 8,
   "metadata": {
    "execution": {
     "iopub.execute_input": "2022-02-17T23:03:35.859309Z",
     "iopub.status.busy": "2022-02-17T23:03:35.858934Z",
     "iopub.status.idle": "2022-02-17T23:03:35.892170Z",
     "shell.execute_reply": "2022-02-17T23:03:35.890449Z",
     "shell.execute_reply.started": "2022-02-17T23:03:35.859279Z"
    },
    "pycharm": {
     "name": "#%%\n"
    },
    "tags": []
   },
   "outputs": [],
   "source": [
    "aligned = mda.Universe(topology_path, 'aligned_2JOF.dcd')\n",
    "alpha_carbons = aligned.select_atoms('name CA')\n",
    "initial_positions = alpha_carbons.positions.copy()"
   ]
  },
  {
   "cell_type": "markdown",
   "metadata": {
    "pycharm": {
     "name": "#%% md\n"
    }
   },
   "source": [
    "### Compute RMSD"
   ]
  },
  {
   "cell_type": "raw",
   "metadata": {
    "pycharm": {
     "name": "#%% raw\n"
    }
   },
   "source": [
    "rmsd = np.full(shape=len(aligned.trajectory)//stride, fill_value=np.nan)\n",
    "\n",
    "# alpha_carbons = aligned.select_atoms('name CA')\n",
    "\n",
    "for i, frame in tqdm.tqdm(enumerate(aligned.trajectory), total=len(aligned.trajectory), miniters=1e5, mininterval=1):\n",
    "\n",
    "    if not i%stride == 0:\n",
    "        continue\n",
    "\n",
    "    # Compute the alpha-carbon RMSD at each frame\n",
    "    frame_positions = alpha_carbons.positions\n",
    "    frame_rmsd = MDAnalysis.analysis.rms.rmsd(initial_positions, frame_positions)\n",
    "\n",
    "    if i//stride < len(aligned.trajectory)//stride:\n",
    "        rmsd[i//stride] = frame_rmsd\n",
    "\n",
    "np.savez(f'rmsd_{model_name}', rmsd=rmsd)"
   ]
  },
  {
   "cell_type": "markdown",
   "metadata": {},
   "source": [
    "#### Load saved"
   ]
  },
  {
   "cell_type": "code",
   "execution_count": 9,
   "metadata": {
    "collapsed": false,
    "execution": {
     "iopub.execute_input": "2022-02-17T23:03:37.418714Z",
     "iopub.status.busy": "2022-02-17T23:03:37.418476Z",
     "iopub.status.idle": "2022-02-17T23:03:37.442872Z",
     "shell.execute_reply": "2022-02-17T23:03:37.442127Z",
     "shell.execute_reply.started": "2022-02-17T23:03:37.418689Z"
    },
    "jupyter": {
     "outputs_hidden": false
    },
    "pycharm": {
     "name": "#%%\n"
    },
    "tags": []
   },
   "outputs": [],
   "source": [
    "rmsd = np.load(f'rmsd_{model_name}.npz')['rmsd']"
   ]
  },
  {
   "cell_type": "code",
   "execution_count": 10,
   "metadata": {
    "execution": {
     "iopub.execute_input": "2022-02-16T16:45:31.155311Z",
     "iopub.status.busy": "2022-02-16T16:45:31.154981Z",
     "iopub.status.idle": "2022-02-16T16:45:32.017811Z",
     "shell.execute_reply": "2022-02-16T16:45:32.014016Z",
     "shell.execute_reply.started": "2022-02-16T16:45:31.155277Z"
    },
    "pycharm": {
     "name": "#%%\n"
    },
    "tags": []
   },
   "outputs": [
    {
     "data": {
      "text/plain": [
       "[<matplotlib.lines.Line2D at 0x15dbe9970>]"
      ]
     },
     "execution_count": 10,
     "metadata": {},
     "output_type": "execute_result"
    },
    {
     "data": {
      "image/png": "[encoded data removed]",
      "text/plain": [
       "<Figure size 432x288 with 1 Axes>"
      ]
     },
     "metadata": {
      "needs_background": "light"
     },
     "output_type": "display_data"
    }
   ],
   "source": [
    "plt.plot(rmsd)"
   ]
  },
  {
   "cell_type": "markdown",
   "metadata": {},
   "source": [
    "### Get instantaneous positions of all alpha-carbons"
   ]
  },
  {
   "cell_type": "raw",
   "metadata": {
    "execution": {
     "iopub.execute_input": "2022-02-10T20:29:03.623381Z",
     "iopub.status.busy": "2022-02-10T20:29:03.623048Z",
     "iopub.status.idle": "2022-02-10T20:35:52.384870Z",
     "shell.execute_reply": "2022-02-10T20:35:52.375507Z",
     "shell.execute_reply.started": "2022-02-10T20:29:03.623353Z"
    },
    "jupyter": {
     "outputs_hidden": false
    },
    "pycharm": {
     "name": "#%%\n"
    }
   },
   "source": [
    "alpha_carbon_positions_list = []\n",
    "\n",
    "for i, frame in tqdm.tqdm(enumerate(aligned.trajectory), total=len(aligned.trajectory), miniters=1e5, mininterval=1):\n",
    "\n",
    "    if not i%stride == 0:\n",
    "        continue\n",
    "\n",
    "    frame_positions = alpha_carbons.positions\n",
    "    alpha_carbon_positions_list.append(frame_positions)\n",
    "\n",
    "alpha_carbon_positions = np.array(alpha_carbon_positions_list)"
   ]
  },
  {
   "cell_type": "markdown",
   "metadata": {},
   "source": [
    "### Get pairwise alpha-carbon RMSD\n",
    "\n",
    "https://userguide.mdanalysis.org/stable/examples/analysis/alignment_and_rms/rmsd.html#RMSD-of-a-Universe-with-multiple-selections"
   ]
  },
  {
   "cell_type": "raw",
   "metadata": {
    "execution": {
     "iopub.execute_input": "2022-02-10T20:54:09.870364Z",
     "iopub.status.busy": "2022-02-10T20:54:09.869681Z",
     "iopub.status.idle": "2022-02-10T20:59:31.248658Z",
     "shell.execute_reply": "2022-02-10T20:59:31.241377Z",
     "shell.execute_reply.started": "2022-02-10T20:54:09.870323Z"
    },
    "tags": []
   },
   "source": [
    "from MDAnalysis.analysis import rms\n",
    "R = rms.RMSD(aligned,  # universe to align\n",
    "             ref_universe,  # reference universe or atomgroup\n",
    "             select='name CA',  # group to superimpose and calculate RMSD\n",
    "             groupselections=[f\"id {_id}\" for _id in alpha_carbons.ids],  # groups for RMSD\n",
    "             ref_frame=0,\n",
    "            verbose=True)  # frame index of the reference\n",
    "\n",
    "R.run(step=10)"
   ]
  },
  {
   "cell_type": "raw",
   "metadata": {
    "execution": {
     "iopub.execute_input": "2022-02-10T20:59:31.270621Z",
     "iopub.status.busy": "2022-02-10T20:59:31.269520Z",
     "iopub.status.idle": "2022-02-10T20:59:31.860492Z",
     "shell.execute_reply": "2022-02-10T20:59:31.855330Z",
     "shell.execute_reply.started": "2022-02-10T20:59:31.270570Z"
    },
    "tags": []
   },
   "source": [
    "import pickle\n",
    "pickle.dump(R, open('rmsd.obj', 'wb'))"
   ]
  },
  {
   "cell_type": "markdown",
   "metadata": {},
   "source": [
    "#### Load saved"
   ]
  },
  {
   "cell_type": "code",
   "execution_count": 10,
   "metadata": {
    "execution": {
     "iopub.execute_input": "2022-02-17T23:03:40.503747Z",
     "iopub.status.busy": "2022-02-17T23:03:40.503502Z",
     "iopub.status.idle": "2022-02-17T23:03:40.529133Z",
     "shell.execute_reply": "2022-02-17T23:03:40.528461Z",
     "shell.execute_reply.started": "2022-02-17T23:03:40.503722Z"
    },
    "tags": []
   },
   "outputs": [],
   "source": [
    "R = pickle.load(open('rmsd.obj', 'rb'))"
   ]
  },
  {
   "cell_type": "code",
   "execution_count": 15,
   "metadata": {
    "execution": {
     "iopub.execute_input": "2022-02-16T16:45:53.893174Z",
     "iopub.status.busy": "2022-02-16T16:45:53.892487Z",
     "iopub.status.idle": "2022-02-16T16:45:53.904772Z",
     "shell.execute_reply": "2022-02-16T16:45:53.903848Z",
     "shell.execute_reply.started": "2022-02-16T16:45:53.893130Z"
    },
    "tags": []
   },
   "outputs": [
    {
     "name": "stderr",
     "output_type": "stream",
     "text": [
      "/Users/russojd/opt/anaconda3/envs/protein-like_msm/lib/python3.9/site-packages/MDAnalysis/analysis/rms.py:710: DeprecationWarning: The `rmsd` attribute was deprecated in MDAnalysis 2.0.0 and will be removed in MDAnalysis 3.0.0. Please use `results.rmsd` instead.\n",
      "  warnings.warn(wmsg, DeprecationWarning)\n"
     ]
    },
    {
     "data": {
      "text/plain": [
       "(104400, 23)"
      ]
     },
     "execution_count": 15,
     "metadata": {},
     "output_type": "execute_result"
    }
   ],
   "source": [
    "R.rmsd.shape"
   ]
  },
  {
   "cell_type": "markdown",
   "metadata": {},
   "source": [
    "### Residue-residue minimum distance\n",
    "\n",
    "From “Assessing the accuracy and bias of Markov state models”:\n",
    "\n",
    "> Featurization was done with \"all minimal residue-residue distances (calculated as the closest distance between the heavy atoms of two residues separated in sequence by at least two neighboring residues)”"
   ]
  },
  {
   "cell_type": "code",
   "execution_count": 11,
   "metadata": {
    "execution": {
     "iopub.execute_input": "2022-02-17T23:03:45.603543Z",
     "iopub.status.busy": "2022-02-17T23:03:45.603308Z",
     "iopub.status.idle": "2022-02-17T23:03:45.611634Z",
     "shell.execute_reply": "2022-02-17T23:03:45.610719Z",
     "shell.execute_reply.started": "2022-02-17T23:03:45.603520Z"
    },
    "tags": []
   },
   "outputs": [],
   "source": [
    "n_residues = len(aligned.residues)\n",
    "all_residue_ids = range(1, 1+n_residues)\n",
    "\n",
    "nearby_residue_ids = {}\n",
    "\n",
    "for i in range(n_residues):\n",
    "    \n",
    "    partner_residues = [aligned.residues[i-1].resid, aligned.residues[i].resid, aligned.residues[(i+1)%n_residues].resid]\n",
    "    \n",
    "# for residue in aligned.residues:\n",
    "    # adjacent_residues = [residue.resid-1, residue.resid, residue.resid+1]\n",
    "    # if adjacent_residues[0] < 0:\n",
    "        # adjacent_residues = aligned.residues[-1].resid\n",
    "        \n",
    "    _nearby_residues = np.setdiff1d(all_residue_ids, partner_residues)\n",
    "    \n",
    "    nearby_residue_ids[all_residue_ids[i]] = _nearby_residues"
   ]
  },
  {
   "cell_type": "code",
   "execution_count": 17,
   "metadata": {
    "execution": {
     "iopub.execute_input": "2022-02-16T16:45:55.950001Z",
     "iopub.status.busy": "2022-02-16T16:45:55.949652Z",
     "iopub.status.idle": "2022-02-16T16:45:55.961008Z",
     "shell.execute_reply": "2022-02-16T16:45:55.960021Z",
     "shell.execute_reply.started": "2022-02-16T16:45:55.949968Z"
    },
    "tags": []
   },
   "outputs": [
    {
     "data": {
      "text/plain": [
       "{1: array([ 3,  4,  5,  6,  7,  8,  9, 10, 11, 12, 13, 14, 15, 16, 17, 18, 19]),\n",
       " 2: array([ 4,  5,  6,  7,  8,  9, 10, 11, 12, 13, 14, 15, 16, 17, 18, 19, 20]),\n",
       " 3: array([ 1,  5,  6,  7,  8,  9, 10, 11, 12, 13, 14, 15, 16, 17, 18, 19, 20]),\n",
       " 4: array([ 1,  2,  6,  7,  8,  9, 10, 11, 12, 13, 14, 15, 16, 17, 18, 19, 20]),\n",
       " 5: array([ 1,  2,  3,  7,  8,  9, 10, 11, 12, 13, 14, 15, 16, 17, 18, 19, 20]),\n",
       " 6: array([ 1,  2,  3,  4,  8,  9, 10, 11, 12, 13, 14, 15, 16, 17, 18, 19, 20]),\n",
       " 7: array([ 1,  2,  3,  4,  5,  9, 10, 11, 12, 13, 14, 15, 16, 17, 18, 19, 20]),\n",
       " 8: array([ 1,  2,  3,  4,  5,  6, 10, 11, 12, 13, 14, 15, 16, 17, 18, 19, 20]),\n",
       " 9: array([ 1,  2,  3,  4,  5,  6,  7, 11, 12, 13, 14, 15, 16, 17, 18, 19, 20]),\n",
       " 10: array([ 1,  2,  3,  4,  5,  6,  7,  8, 12, 13, 14, 15, 16, 17, 18, 19, 20]),\n",
       " 11: array([ 1,  2,  3,  4,  5,  6,  7,  8,  9, 13, 14, 15, 16, 17, 18, 19, 20]),\n",
       " 12: array([ 1,  2,  3,  4,  5,  6,  7,  8,  9, 10, 14, 15, 16, 17, 18, 19, 20]),\n",
       " 13: array([ 1,  2,  3,  4,  5,  6,  7,  8,  9, 10, 11, 15, 16, 17, 18, 19, 20]),\n",
       " 14: array([ 1,  2,  3,  4,  5,  6,  7,  8,  9, 10, 11, 12, 16, 17, 18, 19, 20]),\n",
       " 15: array([ 1,  2,  3,  4,  5,  6,  7,  8,  9, 10, 11, 12, 13, 17, 18, 19, 20]),\n",
       " 16: array([ 1,  2,  3,  4,  5,  6,  7,  8,  9, 10, 11, 12, 13, 14, 18, 19, 20]),\n",
       " 17: array([ 1,  2,  3,  4,  5,  6,  7,  8,  9, 10, 11, 12, 13, 14, 15, 19, 20]),\n",
       " 18: array([ 1,  2,  3,  4,  5,  6,  7,  8,  9, 10, 11, 12, 13, 14, 15, 16, 20]),\n",
       " 19: array([ 1,  2,  3,  4,  5,  6,  7,  8,  9, 10, 11, 12, 13, 14, 15, 16, 17]),\n",
       " 20: array([ 2,  3,  4,  5,  6,  7,  8,  9, 10, 11, 12, 13, 14, 15, 16, 17, 18])}"
      ]
     },
     "execution_count": 17,
     "metadata": {},
     "output_type": "execute_result"
    }
   ],
   "source": [
    "nearby_residue_ids"
   ]
  },
  {
   "cell_type": "code",
   "execution_count": 12,
   "metadata": {
    "execution": {
     "iopub.execute_input": "2022-02-17T23:03:48.479834Z",
     "iopub.status.busy": "2022-02-17T23:03:48.479588Z",
     "iopub.status.idle": "2022-02-17T23:03:48.493331Z",
     "shell.execute_reply": "2022-02-17T23:03:48.492609Z",
     "shell.execute_reply.started": "2022-02-17T23:03:48.479809Z"
    },
    "tags": []
   },
   "outputs": [
    {
     "name": "stdout",
     "output_type": "stream",
     "text": [
      "1\n"
     ]
    }
   ],
   "source": [
    "stride = 1\n",
    "print(stride)\n",
    "\n",
    "selections = {residue.resid:aligned.select_atoms(f'resnum {residue.resid} and not type H') for residue in aligned.residues}"
   ]
  },
  {
   "cell_type": "code",
   "execution_count": 47,
   "metadata": {
    "execution": {
     "iopub.execute_input": "2022-02-16T17:32:29.529200Z",
     "iopub.status.busy": "2022-02-16T17:32:29.528853Z",
     "iopub.status.idle": "2022-02-16T17:32:29.542440Z",
     "shell.execute_reply": "2022-02-16T17:32:29.541265Z",
     "shell.execute_reply.started": "2022-02-16T17:32:29.529162Z"
    },
    "tags": []
   },
   "outputs": [],
   "source": [
    "@ray.remote\n",
    "def analyze_frame(frame, i, aligned_residues, selections, nearby_residue_ids, stride):\n",
    "    \n",
    "    pairs = []\n",
    "    \n",
    "    for residue in aligned_residues:\n",
    "        \n",
    "        selection_from = selections[residue.resid]\n",
    "        \n",
    "        # Get minimum distances to each of the nearby residues (separated by at least 1 residue index)\n",
    "        for nearby_residue_id in nearby_residue_ids:\n",
    "\n",
    "            selection_to  = selections[nearby_residue_id] #= aligned.select_atoms(f'resnum {nearby_residue_id} and name CA')\n",
    "            \n",
    "            residue_distances = MDAnalysis.analysis.distances.distance_array(selection_from.positions, selection_to.positions, backend='openmp')\n",
    "            \n",
    "            min_dist = np.min(residue_distances)\n",
    "            \n",
    "            pairs.append([min_dist, (residue.resid-1, nearby_residue_id-1)])\n",
    "            \n",
    "    return i//stride, pairs\n",
    "            # distance_matrix[i//stride, residue.resid-1, nearby_residue_id-1] = min_dist\n",
    "            # return (i//stride, residue.resid-1, nearby_residue_id-1), min_dist"
   ]
  },
  {
   "cell_type": "markdown",
   "metadata": {},
   "source": [
    "Do this in parallel because it's mega slow"
   ]
  },
  {
   "cell_type": "code",
   "execution_count": 32,
   "metadata": {
    "execution": {
     "iopub.execute_input": "2022-02-16T17:22:54.941868Z",
     "iopub.status.busy": "2022-02-16T17:22:54.941277Z",
     "iopub.status.idle": "2022-02-16T17:23:07.704055Z",
     "shell.execute_reply": "2022-02-16T17:23:07.702533Z",
     "shell.execute_reply.started": "2022-02-16T17:22:54.941829Z"
    },
    "tags": []
   },
   "outputs": [
    {
     "name": "stderr",
     "output_type": "stream",
     "text": [
      "2022-02-16 09:23:01,757\tINFO services.py:1374 -- View the Ray dashboard at \u001b[1m\u001b[32mhttp://127.0.0.1:8265\u001b[39m\u001b[22m\n"
     ]
    },
    {
     "data": {
      "text/plain": [
       "{'node_ip_address': '127.0.0.1',\n",
       " 'raylet_ip_address': '127.0.0.1',\n",
       " 'redis_address': '127.0.0.1:6379',\n",
       " 'object_store_address': '/tmp/ray/session_2022-02-16_09-22-54_947616_36510/sockets/plasma_store',\n",
       " 'raylet_socket_name': '/tmp/ray/session_2022-02-16_09-22-54_947616_36510/sockets/raylet',\n",
       " 'webui_url': '127.0.0.1:8265',\n",
       " 'session_dir': '/tmp/ray/session_2022-02-16_09-22-54_947616_36510',\n",
       " 'metrics_export_port': 64104,\n",
       " 'gcs_address': '127.0.0.1:59326',\n",
       " 'node_id': '9443c149ac839cbf49e533b2741a38432bf08f3773263fe75f503121'}"
      ]
     },
     "execution_count": 32,
     "metadata": {},
     "output_type": "execute_result"
    },
    {
     "name": "stderr",
     "output_type": "stream",
     "text": [
      "\u001b[2m\u001b[33m(raylet)\u001b[0m /Users/russojd/opt/anaconda3/envs/protein-like_msm/lib/python3.9/site-packages/ray/dashboard/agent.py:152: DeprecationWarning: distutils Version classes are deprecated. Use packaging.version instead.\n",
      "\u001b[2m\u001b[33m(raylet)\u001b[0m   if LooseVersion(aiohttp.__version__) < LooseVersion(\"4.0.0\"):\n"
     ]
    }
   ],
   "source": [
    "ray.init(num_cpus=4)"
   ]
  },
  {
   "cell_type": "code",
   "execution_count": 55,
   "metadata": {
    "execution": {
     "iopub.execute_input": "2022-02-16T17:34:40.520900Z",
     "iopub.status.busy": "2022-02-16T17:34:40.519761Z",
     "iopub.status.idle": "2022-02-17T05:05:49.083736Z",
     "shell.execute_reply": "2022-02-17T05:05:49.080338Z",
     "shell.execute_reply.started": "2022-02-16T17:34:40.520861Z"
    },
    "tags": []
   },
   "outputs": [
    {
     "data": {
      "application/vnd.jupyter.widget-view+json": {
       "model_id": "201b57ece978488db805dbe442b48a7c",
       "version_major": 2,
       "version_minor": 0
      },
      "text/plain": [
       "Submitting jobs:   0%|          | 0/1044000 [00:00<?, ?it/s]"
      ]
     },
     "metadata": {},
     "output_type": "display_data"
    },
    {
     "data": {
      "application/vnd.jupyter.widget-view+json": {
       "model_id": "a12e30df07c64e6cbb005f8dbd88b3b5",
       "version_major": 2,
       "version_minor": 0
      },
      "text/plain": [
       "Retrieving discretized trajectories:   0%|          | 0/1044000 [00:00<?, ?it/s]"
      ]
     },
     "metadata": {},
     "output_type": "display_data"
    }
   ],
   "source": [
    "distance_matrix = np.full(shape=(len(aligned.trajectory)//stride, n_residues, n_residues), fill_value=np.nan)\n",
    "\n",
    "task_ids = []\n",
    "max_inflight = 10\n",
    "chunk_size=100\n",
    "doing_chunk = False\n",
    "\n",
    "for i, frame in tqdm.tqdm(enumerate(aligned.trajectory), total=len(aligned.trajectory), desc='Submitting jobs'):\n",
    "\n",
    "    if not i%stride == 0:\n",
    "        continue\n",
    "        \n",
    "    # if i > 1000: break\n",
    "        \n",
    "#     if len(task_ids) > max_inflight:\n",
    "    \n",
    "#         # The number that need to be ready before we can submit more\n",
    "#         num_ready = i - max_inflight\n",
    "#         ray.wait(task_ids, num_returns=num_ready)\n",
    "                    \n",
    "    _id = analyze_frame.remote(frame, i, aligned.residues, selections, nearby_residue_ids, stride)\n",
    "    \n",
    "    task_ids.append(_id)\n",
    "    \n",
    "with tqdm.tqdm(\n",
    "    total=len(task_ids), desc=\"Retrieving discretized trajectories\"\n",
    ") as pbar:\n",
    "    while task_ids:\n",
    "        result_batch_size = 100\n",
    "        result_batch_size = min(result_batch_size, len(task_ids))\n",
    "\n",
    "        # Returns the first ObjectRef that is ready, with a 20s timeout\n",
    "        finished, task_ids = ray.wait(\n",
    "            task_ids, num_returns=result_batch_size, timeout=20\n",
    "        )\n",
    "        results = ray.get(finished)\n",
    "        \n",
    "        for frame_idx, _dists in results:\n",
    "            for min_dist, (from_residue, to_residue) in _dists:\n",
    "                distance_matrix[frame_idx, from_residue, to_residue] = min_dist\n",
    "            \n",
    "            pbar.update(1)"
   ]
  },
  {
   "cell_type": "raw",
   "metadata": {
    "execution": {
     "iopub.execute_input": "2022-02-17T19:32:57.903413Z",
     "iopub.status.busy": "2022-02-17T19:32:57.899679Z",
     "iopub.status.idle": "2022-02-17T19:34:05.594951Z",
     "shell.execute_reply": "2022-02-17T19:34:05.590717Z",
     "shell.execute_reply.started": "2022-02-17T19:32:57.903335Z"
    }
   },
   "source": [
    "np.savez('distance_matrix.npz', distance_matrix=distance_matrix)"
   ]
  },
  {
   "cell_type": "markdown",
   "metadata": {},
   "source": [
    "#### Load saved"
   ]
  },
  {
   "cell_type": "code",
   "execution_count": 14,
   "metadata": {
    "execution": {
     "iopub.execute_input": "2022-02-17T23:04:24.910025Z",
     "iopub.status.busy": "2022-02-17T23:04:24.909708Z",
     "iopub.status.idle": "2022-02-17T23:04:30.767186Z",
     "shell.execute_reply": "2022-02-17T23:04:30.765529Z",
     "shell.execute_reply.started": "2022-02-17T23:04:24.910000Z"
    },
    "tags": []
   },
   "outputs": [],
   "source": [
    "distance_matrix = np.load('distance_matrix.npz')['distance_matrix']"
   ]
  },
  {
   "cell_type": "code",
   "execution_count": 15,
   "metadata": {
    "execution": {
     "iopub.execute_input": "2022-02-17T23:04:31.671575Z",
     "iopub.status.busy": "2022-02-17T23:04:31.671267Z",
     "iopub.status.idle": "2022-02-17T23:04:31.678499Z",
     "shell.execute_reply": "2022-02-17T23:04:31.677335Z",
     "shell.execute_reply.started": "2022-02-17T23:04:31.671547Z"
    },
    "tags": []
   },
   "outputs": [
    {
     "data": {
      "text/plain": [
       "(1044000, 20, 20)"
      ]
     },
     "execution_count": 15,
     "metadata": {},
     "output_type": "execute_result"
    }
   ],
   "source": [
    "distance_matrix.shape"
   ]
  },
  {
   "cell_type": "code",
   "execution_count": 16,
   "metadata": {
    "execution": {
     "iopub.execute_input": "2022-02-17T23:04:32.445428Z",
     "iopub.status.busy": "2022-02-17T23:04:32.445196Z",
     "iopub.status.idle": "2022-02-17T23:04:47.053984Z",
     "shell.execute_reply": "2022-02-17T23:04:47.053045Z",
     "shell.execute_reply.started": "2022-02-17T23:04:32.445405Z"
    },
    "tags": []
   },
   "outputs": [],
   "source": [
    "# Get rid of the nan terms corresponding to self-distance or adjacent-distrances\n",
    "\n",
    "reduced_distance_matrix = np.full(shape=(distance_matrix.shape[0], n_residues, n_residues-3), fill_value=np.nan)\n",
    "\n",
    "for residue, partners in nearby_residue_ids.items():\n",
    "    \n",
    "    reduced_distance_matrix[:, residue-1] = distance_matrix[:, residue-1, partners-1]"
   ]
  },
  {
   "cell_type": "code",
   "execution_count": 17,
   "metadata": {
    "execution": {
     "iopub.execute_input": "2022-02-17T23:04:47.056355Z",
     "iopub.status.busy": "2022-02-17T23:04:47.055890Z",
     "iopub.status.idle": "2022-02-17T23:04:47.063990Z",
     "shell.execute_reply": "2022-02-17T23:04:47.063052Z",
     "shell.execute_reply.started": "2022-02-17T23:04:47.056327Z"
    },
    "tags": []
   },
   "outputs": [
    {
     "data": {
      "text/plain": [
       "(1044000, 20, 17)"
      ]
     },
     "execution_count": 17,
     "metadata": {},
     "output_type": "execute_result"
    }
   ],
   "source": [
    "reduced_distance_matrix.shape"
   ]
  },
  {
   "cell_type": "code",
   "execution_count": 18,
   "metadata": {
    "execution": {
     "iopub.execute_input": "2022-02-17T23:04:47.065645Z",
     "iopub.status.busy": "2022-02-17T23:04:47.065298Z",
     "iopub.status.idle": "2022-02-17T23:04:47.572075Z",
     "shell.execute_reply": "2022-02-17T23:04:47.571260Z",
     "shell.execute_reply.started": "2022-02-17T23:04:47.065620Z"
    },
    "tags": []
   },
   "outputs": [
    {
     "data": {
      "text/plain": [
       "False"
      ]
     },
     "execution_count": 18,
     "metadata": {},
     "output_type": "execute_result"
    }
   ],
   "source": [
    "assert np.isnan(reduced_distance_matrix).any()"
   ]
  },
  {
   "cell_type": "markdown",
   "metadata": {},
   "source": [
    "## Dimensionality reduction\n",
    "\n",
    "At a 10ns MSM lag time (i.e. 50-frames, since each frame is 200ps), the dimensionality reduction was\n",
    "- commute tICA\n",
    "- 10ns tICA lag\n",
    "- 10 tICs\n",
    "- 200 microstates"
   ]
  },
  {
   "cell_type": "code",
   "execution_count": 89,
   "metadata": {
    "execution": {
     "iopub.execute_input": "2022-02-17T23:13:14.925391Z",
     "iopub.status.busy": "2022-02-17T23:13:14.925105Z",
     "iopub.status.idle": "2022-02-17T23:13:14.929335Z",
     "shell.execute_reply": "2022-02-17T23:13:14.928427Z",
     "shell.execute_reply.started": "2022-02-17T23:13:14.925364Z"
    },
    "tags": []
   },
   "outputs": [],
   "source": [
    "_map_type = 'commute_map'\n",
    "lag_steps = 50\n",
    "n_tics = 10\n",
    "n_clusters = 1000\n",
    "msm_lag_steps = 50"
   ]
  },
  {
   "cell_type": "code",
   "execution_count": 26,
   "metadata": {
    "execution": {
     "iopub.execute_input": "2022-02-17T23:06:15.456646Z",
     "iopub.status.busy": "2022-02-17T23:06:15.456401Z",
     "iopub.status.idle": "2022-02-17T23:06:15.460504Z",
     "shell.execute_reply": "2022-02-17T23:06:15.459298Z",
     "shell.execute_reply.started": "2022-02-17T23:06:15.456622Z"
    },
    "tags": []
   },
   "outputs": [],
   "source": [
    "unrolled_distances = reduced_distance_matrix.reshape((reduced_distance_matrix.shape[0], -1))"
   ]
  },
  {
   "cell_type": "code",
   "execution_count": 27,
   "metadata": {
    "execution": {
     "iopub.execute_input": "2022-02-17T23:06:15.697577Z",
     "iopub.status.busy": "2022-02-17T23:06:15.697247Z",
     "iopub.status.idle": "2022-02-17T23:06:15.708585Z",
     "shell.execute_reply": "2022-02-17T23:06:15.704408Z",
     "shell.execute_reply.started": "2022-02-17T23:06:15.697547Z"
    },
    "tags": []
   },
   "outputs": [
    {
     "data": {
      "text/plain": [
       "((1044000, 20, 17), (1044000, 340))"
      ]
     },
     "execution_count": 27,
     "metadata": {},
     "output_type": "execute_result"
    }
   ],
   "source": [
    "reduced_distance_matrix.shape, unrolled_distances.shape"
   ]
  },
  {
   "cell_type": "markdown",
   "metadata": {},
   "source": [
    "### Calculate fresh"
   ]
  },
  {
   "cell_type": "code",
   "execution_count": 28,
   "metadata": {
    "execution": {
     "iopub.execute_input": "2022-02-17T23:06:16.063821Z",
     "iopub.status.busy": "2022-02-17T23:06:16.063602Z",
     "iopub.status.idle": "2022-02-17T23:06:16.066787Z",
     "shell.execute_reply": "2022-02-17T23:06:16.066087Z",
     "shell.execute_reply.started": "2022-02-17T23:06:16.063800Z"
    },
    "tags": []
   },
   "outputs": [],
   "source": [
    "tica = TICA(lagtime=lag_steps, dim=n_tics, scaling=_map_type)"
   ]
  },
  {
   "cell_type": "code",
   "execution_count": 29,
   "metadata": {
    "execution": {
     "iopub.execute_input": "2022-02-17T23:06:16.331447Z",
     "iopub.status.busy": "2022-02-17T23:06:16.331186Z",
     "iopub.status.idle": "2022-02-17T23:06:57.144504Z",
     "shell.execute_reply": "2022-02-17T23:06:57.141523Z",
     "shell.execute_reply.started": "2022-02-17T23:06:16.331421Z"
    },
    "tags": []
   },
   "outputs": [],
   "source": [
    "tica_model = tica.fit_fetch(unrolled_distances, verbose=True)"
   ]
  },
  {
   "cell_type": "code",
   "execution_count": 30,
   "metadata": {
    "execution": {
     "iopub.execute_input": "2022-02-17T23:06:57.153522Z",
     "iopub.status.busy": "2022-02-17T23:06:57.152337Z",
     "iopub.status.idle": "2022-02-17T23:07:06.624231Z",
     "shell.execute_reply": "2022-02-17T23:07:06.618488Z",
     "shell.execute_reply.started": "2022-02-17T23:06:57.153492Z"
    },
    "tags": []
   },
   "outputs": [],
   "source": [
    "projection = tica_model.transform(unrolled_distances)"
   ]
  },
  {
   "cell_type": "code",
   "execution_count": 31,
   "metadata": {
    "execution": {
     "iopub.execute_input": "2022-02-17T23:07:06.626503Z",
     "iopub.status.busy": "2022-02-17T23:07:06.625585Z",
     "iopub.status.idle": "2022-02-17T23:07:06.799249Z",
     "shell.execute_reply": "2022-02-17T23:07:06.798704Z",
     "shell.execute_reply.started": "2022-02-17T23:07:06.626474Z"
    }
   },
   "outputs": [],
   "source": [
    "np.savez('tica', tica=tica, tica_model=tica_model, projection=projection)"
   ]
  },
  {
   "cell_type": "markdown",
   "metadata": {},
   "source": [
    "### Load saved"
   ]
  },
  {
   "cell_type": "code",
   "execution_count": 34,
   "metadata": {
    "execution": {
     "iopub.execute_input": "2022-02-17T23:07:45.007388Z",
     "iopub.status.busy": "2022-02-17T23:07:45.007082Z",
     "iopub.status.idle": "2022-02-17T23:07:45.145451Z",
     "shell.execute_reply": "2022-02-17T23:07:45.144839Z",
     "shell.execute_reply.started": "2022-02-17T23:07:45.007363Z"
    },
    "tags": []
   },
   "outputs": [],
   "source": [
    "_tica = np.load('tica.npz', allow_pickle=True)\n",
    "tica = _tica['tica']\n",
    "tica_model = _tica['tica_model']\n",
    "projection = _tica['projection']"
   ]
  },
  {
   "cell_type": "code",
   "execution_count": 35,
   "metadata": {
    "collapsed": false,
    "execution": {
     "iopub.execute_input": "2022-02-17T23:07:46.372646Z",
     "iopub.status.busy": "2022-02-17T23:07:46.372358Z",
     "iopub.status.idle": "2022-02-17T23:07:46.378852Z",
     "shell.execute_reply": "2022-02-17T23:07:46.377976Z",
     "shell.execute_reply.started": "2022-02-17T23:07:46.372620Z"
    },
    "jupyter": {
     "outputs_hidden": false
    },
    "pycharm": {
     "name": "#%%\n"
    },
    "tags": []
   },
   "outputs": [
    {
     "data": {
      "text/plain": [
       "(1044000, 10)"
      ]
     },
     "execution_count": 35,
     "metadata": {},
     "output_type": "execute_result"
    }
   ],
   "source": [
    "projection.shape"
   ]
  },
  {
   "cell_type": "markdown",
   "metadata": {},
   "source": [
    "### Visualize tIC 0 and RMSD\n",
    "\n",
    "Visually compare the tIC projection and the RMSD. If the tIC projection looks weird, try looking at some others.\n",
    "\n",
    "tIC 0 PROBABLY maps to RMSD (i.e., it usually does)"
   ]
  },
  {
   "cell_type": "code",
   "execution_count": 36,
   "metadata": {
    "execution": {
     "iopub.execute_input": "2022-02-17T23:07:48.128143Z",
     "iopub.status.busy": "2022-02-17T23:07:48.127909Z",
     "iopub.status.idle": "2022-02-17T23:07:48.131077Z",
     "shell.execute_reply": "2022-02-17T23:07:48.130243Z",
     "shell.execute_reply.started": "2022-02-17T23:07:48.128117Z"
    },
    "tags": []
   },
   "outputs": [],
   "source": [
    "tic_rmsd = 0"
   ]
  },
  {
   "cell_type": "code",
   "execution_count": 37,
   "metadata": {
    "execution": {
     "iopub.execute_input": "2022-02-17T23:07:49.846501Z",
     "iopub.status.busy": "2022-02-17T23:07:49.845960Z",
     "iopub.status.idle": "2022-02-17T23:07:50.415233Z",
     "shell.execute_reply": "2022-02-17T23:07:50.414455Z",
     "shell.execute_reply.started": "2022-02-17T23:07:49.846474Z"
    },
    "tags": []
   },
   "outputs": [
    {
     "data": {
      "text/plain": [
       "<matplotlib.legend.Legend at 0x15c81ed00>"
      ]
     },
     "execution_count": 37,
     "metadata": {},
     "output_type": "execute_result"
    },
    {
     "data": {
      "image/png": "[encoded data removed]",
      "text/plain": [
       "<Figure size 432x288 with 2 Axes>"
      ]
     },
     "metadata": {
      "needs_background": "light"
     },
     "output_type": "display_data"
    }
   ],
   "source": [
    "fig, ax = plt.subplots()\n",
    "\n",
    "ax.plot(projection[:, tic_rmsd], label=f'tIC {tic_rmsd}', color='tab:blue')\n",
    "ax.set_ylabel('tIC')\n",
    "\n",
    "ax2 = ax.twinx()\n",
    "ax2.plot(rmsd[::1], label='RMSD', alpha=0.5, color='tab:orange')\n",
    "ax2.set_ylabel('RMSD')\n",
    "\n",
    "fig.legend()"
   ]
  },
  {
   "cell_type": "markdown",
   "metadata": {
    "pycharm": {
     "name": "#%% md\n"
    }
   },
   "source": [
    "## Discretize trajectory"
   ]
  },
  {
   "cell_type": "markdown",
   "metadata": {
    "jp-MarkdownHeadingCollapsed": true,
    "tags": []
   },
   "source": [
    "### Aggregate clustering"
   ]
  },
  {
   "cell_type": "markdown",
   "metadata": {
    "pycharm": {
     "name": "#%% md\n"
    }
   },
   "source": [
    "We'll just do a simple k-means clustering on the RMSDs.\n",
    "\n",
    "[Deeptime k-means clustering documentation](https://deeptime-ml.github.io/latest/notebooks/clustering.html)"
   ]
  },
  {
   "cell_type": "code",
   "execution_count": 299,
   "metadata": {
    "execution": {
     "iopub.execute_input": "2022-02-10T23:51:47.420218Z",
     "iopub.status.busy": "2022-02-10T23:51:47.418106Z",
     "iopub.status.idle": "2022-02-10T23:51:47.439044Z",
     "shell.execute_reply": "2022-02-10T23:51:47.437615Z",
     "shell.execute_reply.started": "2022-02-10T23:51:47.418665Z"
    },
    "tags": []
   },
   "outputs": [],
   "source": [
    "# Number of clusters for k-means\n",
    "# n_clusters = 1000"
   ]
  },
  {
   "cell_type": "code",
   "execution_count": 89,
   "metadata": {
    "execution": {
     "iopub.execute_input": "2022-02-17T20:11:16.697832Z",
     "iopub.status.busy": "2022-02-17T20:11:16.697305Z",
     "iopub.status.idle": "2022-02-17T20:11:16.716833Z",
     "shell.execute_reply": "2022-02-17T20:11:16.715734Z",
     "shell.execute_reply.started": "2022-02-17T20:11:16.697723Z"
    },
    "pycharm": {
     "name": "#%%\n"
    },
    "tags": []
   },
   "outputs": [],
   "source": [
    "# Initialize the estimator\n",
    "# Perform the clustering\n",
    "\n",
    "kmeans_estimator = KMeans(\n",
    "    n_clusters=n_clusters,\n",
    "    # init_strategy='uniform',\n",
    "    max_iter=1000,\n",
    "    fixed_seed=1337,\n",
    "    n_jobs=4,\n",
    "    progress=tqdm.tqdm\n",
    ")"
   ]
  },
  {
   "cell_type": "code",
   "execution_count": 90,
   "metadata": {
    "execution": {
     "iopub.execute_input": "2022-02-17T20:11:18.351967Z",
     "iopub.status.busy": "2022-02-17T20:11:18.350970Z",
     "iopub.status.idle": "2022-02-17T20:39:49.091656Z",
     "shell.execute_reply": "2022-02-17T20:39:49.089077Z",
     "shell.execute_reply.started": "2022-02-17T20:11:18.351910Z"
    },
    "pycharm": {
     "name": "#%%\n"
    },
    "tags": []
   },
   "outputs": [
    {
     "data": {
      "application/vnd.jupyter.widget-view+json": {
       "model_id": "697531ce31f94f7e92248d1b843251a7",
       "version_major": 2,
       "version_minor": 0
      },
      "text/plain": [
       "  0%|          | 0/1000 [00:00<?, ?it/s]"
      ]
     },
     "metadata": {},
     "output_type": "display_data"
    },
    {
     "data": {
      "application/vnd.jupyter.widget-view+json": {
       "model_id": "ea9e15fcc30a4249841bb858b3a4d701",
       "version_major": 2,
       "version_minor": 0
      },
      "text/plain": [
       "  0%|          | 0/1000 [00:00<?, ?it/s]"
      ]
     },
     "metadata": {},
     "output_type": "display_data"
    }
   ],
   "source": [
    "clustering = kmeans_estimator.fit(projection).fetch_model()"
   ]
  },
  {
   "cell_type": "code",
   "execution_count": 93,
   "metadata": {
    "execution": {
     "iopub.execute_input": "2022-02-17T21:01:44.632178Z",
     "iopub.status.busy": "2022-02-17T21:01:44.631717Z",
     "iopub.status.idle": "2022-02-17T21:01:44.669490Z",
     "shell.execute_reply": "2022-02-17T21:01:44.667817Z",
     "shell.execute_reply.started": "2022-02-17T21:01:44.632142Z"
    },
    "tags": []
   },
   "outputs": [],
   "source": [
    "pickle.dump(clustering, open('clustering.obj', 'wb'))\n",
    "pickle.dump(kmeans_estimator, open('kmeans_estimator.obj', 'wb'))"
   ]
  },
  {
   "cell_type": "code",
   "execution_count": null,
   "metadata": {},
   "outputs": [],
   "source": []
  },
  {
   "cell_type": "code",
   "execution_count": 92,
   "metadata": {
    "execution": {
     "iopub.execute_input": "2022-02-17T21:01:13.647459Z",
     "iopub.status.busy": "2022-02-17T21:01:13.647147Z",
     "iopub.status.idle": "2022-02-17T21:01:44.628632Z",
     "shell.execute_reply": "2022-02-17T21:01:44.627221Z",
     "shell.execute_reply.started": "2022-02-17T21:01:13.647437Z"
    },
    "pycharm": {
     "name": "#%%\n"
    },
    "tags": []
   },
   "outputs": [],
   "source": [
    "# Discretize the trajectory\n",
    "discrete_trajectory = clustering.transform(projection)"
   ]
  },
  {
   "cell_type": "code",
   "execution_count": 96,
   "metadata": {
    "execution": {
     "iopub.execute_input": "2022-02-17T21:03:12.924514Z",
     "iopub.status.busy": "2022-02-17T21:03:12.924189Z",
     "iopub.status.idle": "2022-02-17T21:03:13.555576Z",
     "shell.execute_reply": "2022-02-17T21:03:13.554380Z",
     "shell.execute_reply.started": "2022-02-17T21:03:12.924491Z"
    },
    "pycharm": {
     "name": "#%%\n"
    },
    "tags": []
   },
   "outputs": [
    {
     "data": {
      "image/png": "[encoded data removed]",
      "text/plain": [
       "<Figure size 864x288 with 2 Axes>"
      ]
     },
     "metadata": {
      "needs_background": "light"
     },
     "output_type": "display_data"
    }
   ],
   "source": [
    "# Plot the RMSDs and discrete trajectory\n",
    "fig, rmsd_ax = plt.subplots(1,1)\n",
    "\n",
    "discrete_ax = rmsd_ax.twinx()\n",
    "\n",
    "discrete_ax.plot(discrete_trajectory[::50], color='k', label='Discrete')\n",
    "discrete_ax.set_ylabel('State')\n",
    "\n",
    "rmsd_ax.plot(rmsd[::rmsd_stride*50], color='gray', label='RMSD')\n",
    "rmsd_ax.set_ylabel('RMSD')\n",
    "\n",
    "\n",
    "rmsd_ax.set_zorder(10)\n",
    "rmsd_ax.patch.set_visible(False)\n",
    "\n",
    "fig.legend()\n",
    "fig.set_size_inches(12,4)"
   ]
  },
  {
   "cell_type": "markdown",
   "metadata": {},
   "source": [
    "### Stratified clustering"
   ]
  },
  {
   "cell_type": "markdown",
   "metadata": {},
   "source": [
    "Here, I want to divide up RMSD uniformly, and then cluster within each RMSD-bin."
   ]
  },
  {
   "cell_type": "code",
   "execution_count": 97,
   "metadata": {
    "execution": {
     "iopub.execute_input": "2022-02-17T23:14:16.975692Z",
     "iopub.status.busy": "2022-02-17T23:14:16.975444Z",
     "iopub.status.idle": "2022-02-17T23:14:16.981825Z",
     "shell.execute_reply": "2022-02-17T23:14:16.981216Z",
     "shell.execute_reply.started": "2022-02-17T23:14:16.975668Z"
    },
    "tags": []
   },
   "outputs": [
    {
     "data": {
      "text/plain": [
       "array([ 1.        ,  1.24489796,  1.48979592,  1.73469388,  1.97959184,\n",
       "        2.2244898 ,  2.46938776,  2.71428571,  2.95918367,  3.20408163,\n",
       "        3.44897959,  3.69387755,  3.93877551,  4.18367347,  4.42857143,\n",
       "        4.67346939,  4.91836735,  5.16326531,  5.40816327,  5.65306122,\n",
       "        5.89795918,  6.14285714,  6.3877551 ,  6.63265306,  6.87755102,\n",
       "        7.12244898,  7.36734694,  7.6122449 ,  7.85714286,  8.10204082,\n",
       "        8.34693878,  8.59183673,  8.83673469,  9.08163265,  9.32653061,\n",
       "        9.57142857,  9.81632653, 10.06122449, 10.30612245, 10.55102041,\n",
       "       10.79591837, 11.04081633, 11.28571429, 11.53061224, 11.7755102 ,\n",
       "       12.02040816, 12.26530612, 12.51020408, 12.75510204, 13.        ])"
      ]
     },
     "execution_count": 97,
     "metadata": {},
     "output_type": "execute_result"
    }
   ],
   "source": [
    "# Now, cluster within each of those.\n",
    "# clusters_per_strat = 10\n",
    "n_strat_bins = 50\n",
    "clusters_per_strat = n_clusters // n_strat_bins\n",
    "\n",
    "rmsd_bins = np.linspace(1, 13, n_strat_bins)\n",
    "rmsd_bins"
   ]
  },
  {
   "cell_type": "code",
   "execution_count": 98,
   "metadata": {
    "execution": {
     "iopub.execute_input": "2022-02-17T23:14:17.785185Z",
     "iopub.status.busy": "2022-02-17T23:14:17.784884Z",
     "iopub.status.idle": "2022-02-17T23:14:17.790118Z",
     "shell.execute_reply": "2022-02-17T23:14:17.789265Z",
     "shell.execute_reply.started": "2022-02-17T23:14:17.785163Z"
    },
    "tags": []
   },
   "outputs": [
    {
     "data": {
      "text/plain": [
       "((1044000,), (1044000, 10))"
      ]
     },
     "execution_count": 98,
     "metadata": {},
     "output_type": "execute_result"
    }
   ],
   "source": [
    "rmsd.shape, projection.shape"
   ]
  },
  {
   "cell_type": "code",
   "execution_count": 99,
   "metadata": {
    "execution": {
     "iopub.execute_input": "2022-02-17T23:14:18.047067Z",
     "iopub.status.busy": "2022-02-17T23:14:18.046831Z",
     "iopub.status.idle": "2022-02-17T23:14:18.392655Z",
     "shell.execute_reply": "2022-02-17T23:14:18.392061Z",
     "shell.execute_reply.started": "2022-02-17T23:14:18.047043Z"
    },
    "tags": []
   },
   "outputs": [
    {
     "data": {
      "image/png": "[encoded data removed]",
      "text/plain": [
       "<Figure size 864x288 with 1 Axes>"
      ]
     },
     "metadata": {
      "needs_background": "light"
     },
     "output_type": "display_data"
    }
   ],
   "source": [
    "plt.plot(rmsd[::rmsd_stride])\n",
    "plt.gcf().set_size_inches(12,4)\n",
    "\n",
    "[plt.axhline(rmsd_bin, color='k') for rmsd_bin in rmsd_bins];"
   ]
  },
  {
   "cell_type": "code",
   "execution_count": 100,
   "metadata": {
    "execution": {
     "iopub.execute_input": "2022-02-17T23:14:21.300866Z",
     "iopub.status.busy": "2022-02-17T23:14:21.300107Z",
     "iopub.status.idle": "2022-02-17T23:14:49.892809Z",
     "shell.execute_reply": "2022-02-17T23:14:49.892042Z",
     "shell.execute_reply.started": "2022-02-17T23:14:21.300825Z"
    },
    "pycharm": {
     "name": "#%%\n"
    },
    "scrolled": true,
    "tags": []
   },
   "outputs": [
    {
     "data": {
      "application/vnd.jupyter.widget-view+json": {
       "model_id": "c913aa3db9624553820da34f12563367",
       "version_major": 2,
       "version_minor": 0
      },
      "text/plain": [
       "  0%|          | 0/51 [00:00<?, ?it/s]"
      ]
     },
     "metadata": {},
     "output_type": "display_data"
    },
    {
     "data": {
      "application/vnd.jupyter.widget-view+json": {
       "model_id": "de0dbb34f280481ab10cc837dbfd5aea",
       "version_major": 2,
       "version_minor": 0
      },
      "text/plain": [
       "  0%|          | 0/20 [00:00<?, ?it/s]"
      ]
     },
     "metadata": {},
     "output_type": "display_data"
    },
    {
     "data": {
      "application/vnd.jupyter.widget-view+json": {
       "model_id": "0bd6c8ce20d240aa8074e8088c4574a2",
       "version_major": 2,
       "version_minor": 0
      },
      "text/plain": [
       "  0%|          | 0/1000 [00:00<?, ?it/s]"
      ]
     },
     "metadata": {},
     "output_type": "display_data"
    },
    {
     "data": {
      "application/vnd.jupyter.widget-view+json": {
       "model_id": "e608c618d9464c7ca7d06bf3a15650eb",
       "version_major": 2,
       "version_minor": 0
      },
      "text/plain": [
       "  0%|          | 0/20 [00:00<?, ?it/s]"
      ]
     },
     "metadata": {},
     "output_type": "display_data"
    },
    {
     "data": {
      "application/vnd.jupyter.widget-view+json": {
       "model_id": "7ea7586f8cdb464daddaf83f22c8c784",
       "version_major": 2,
       "version_minor": 0
      },
      "text/plain": [
       "  0%|          | 0/1000 [00:00<?, ?it/s]"
      ]
     },
     "metadata": {},
     "output_type": "display_data"
    },
    {
     "data": {
      "application/vnd.jupyter.widget-view+json": {
       "model_id": "5a0dc1f279cb4b6ba44e0a77f6dec15a",
       "version_major": 2,
       "version_minor": 0
      },
      "text/plain": [
       "  0%|          | 0/20 [00:00<?, ?it/s]"
      ]
     },
     "metadata": {},
     "output_type": "display_data"
    },
    {
     "data": {
      "application/vnd.jupyter.widget-view+json": {
       "model_id": "f62b5ec2ae3d4e3fa759e9716c0eac64",
       "version_major": 2,
       "version_minor": 0
      },
      "text/plain": [
       "  0%|          | 0/1000 [00:00<?, ?it/s]"
      ]
     },
     "metadata": {},
     "output_type": "display_data"
    },
    {
     "data": {
      "application/vnd.jupyter.widget-view+json": {
       "model_id": "929704e3c5d84d5c9d48f56ccf8a70f5",
       "version_major": 2,
       "version_minor": 0
      },
      "text/plain": [
       "  0%|          | 0/20 [00:00<?, ?it/s]"
      ]
     },
     "metadata": {},
     "output_type": "display_data"
    },
    {
     "data": {
      "application/vnd.jupyter.widget-view+json": {
       "model_id": "f0a6a35997b243a4916f81d90052b49d",
       "version_major": 2,
       "version_minor": 0
      },
      "text/plain": [
       "  0%|          | 0/1000 [00:00<?, ?it/s]"
      ]
     },
     "metadata": {},
     "output_type": "display_data"
    },
    {
     "data": {
      "application/vnd.jupyter.widget-view+json": {
       "model_id": "ef562b8d388c4ac3aa4cca91e85bbf48",
       "version_major": 2,
       "version_minor": 0
      },
      "text/plain": [
       "  0%|          | 0/20 [00:00<?, ?it/s]"
      ]
     },
     "metadata": {},
     "output_type": "display_data"
    },
    {
     "data": {
      "application/vnd.jupyter.widget-view+json": {
       "model_id": "0857d57774ba44dd8bc32f332a2fa1db",
       "version_major": 2,
       "version_minor": 0
      },
      "text/plain": [
       "  0%|          | 0/1000 [00:00<?, ?it/s]"
      ]
     },
     "metadata": {},
     "output_type": "display_data"
    },
    {
     "data": {
      "application/vnd.jupyter.widget-view+json": {
       "model_id": "3f5a82ff46e84dc0ba10b0a56628b677",
       "version_major": 2,
       "version_minor": 0
      },
      "text/plain": [
       "  0%|          | 0/20 [00:00<?, ?it/s]"
      ]
     },
     "metadata": {},
     "output_type": "display_data"
    },
    {
     "data": {
      "application/vnd.jupyter.widget-view+json": {
       "model_id": "567df334fa1f4ffd9444b78319792195",
       "version_major": 2,
       "version_minor": 0
      },
      "text/plain": [
       "  0%|          | 0/1000 [00:00<?, ?it/s]"
      ]
     },
     "metadata": {},
     "output_type": "display_data"
    },
    {
     "data": {
      "application/vnd.jupyter.widget-view+json": {
       "model_id": "435daf31cc6c477688d667b104f00e47",
       "version_major": 2,
       "version_minor": 0
      },
      "text/plain": [
       "  0%|          | 0/20 [00:00<?, ?it/s]"
      ]
     },
     "metadata": {},
     "output_type": "display_data"
    },
    {
     "data": {
      "application/vnd.jupyter.widget-view+json": {
       "model_id": "76a35df1a9d548059e7ee12f13636bb6",
       "version_major": 2,
       "version_minor": 0
      },
      "text/plain": [
       "  0%|          | 0/1000 [00:00<?, ?it/s]"
      ]
     },
     "metadata": {},
     "output_type": "display_data"
    },
    {
     "data": {
      "application/vnd.jupyter.widget-view+json": {
       "model_id": "c0d5e75ab3584da2bc22767366260dec",
       "version_major": 2,
       "version_minor": 0
      },
      "text/plain": [
       "  0%|          | 0/20 [00:00<?, ?it/s]"
      ]
     },
     "metadata": {},
     "output_type": "display_data"
    },
    {
     "data": {
      "application/vnd.jupyter.widget-view+json": {
       "model_id": "1b90a36d5e4e4aa4851e1c8a2e63cd36",
       "version_major": 2,
       "version_minor": 0
      },
      "text/plain": [
       "  0%|          | 0/1000 [00:00<?, ?it/s]"
      ]
     },
     "metadata": {},
     "output_type": "display_data"
    },
    {
     "data": {
      "application/vnd.jupyter.widget-view+json": {
       "model_id": "af2a62d9f4e74835a41b74e2719757fe",
       "version_major": 2,
       "version_minor": 0
      },
      "text/plain": [
       "  0%|          | 0/20 [00:00<?, ?it/s]"
      ]
     },
     "metadata": {},
     "output_type": "display_data"
    },
    {
     "data": {
      "application/vnd.jupyter.widget-view+json": {
       "model_id": "9364e66edcc1469fab7759d72695b144",
       "version_major": 2,
       "version_minor": 0
      },
      "text/plain": [
       "  0%|          | 0/1000 [00:00<?, ?it/s]"
      ]
     },
     "metadata": {},
     "output_type": "display_data"
    },
    {
     "data": {
      "application/vnd.jupyter.widget-view+json": {
       "model_id": "712c8ff27fba4afab8a13a9b755d063d",
       "version_major": 2,
       "version_minor": 0
      },
      "text/plain": [
       "  0%|          | 0/20 [00:00<?, ?it/s]"
      ]
     },
     "metadata": {},
     "output_type": "display_data"
    },
    {
     "data": {
      "application/vnd.jupyter.widget-view+json": {
       "model_id": "ce4b83c9a4884d78878a6c7d81c88581",
       "version_major": 2,
       "version_minor": 0
      },
      "text/plain": [
       "  0%|          | 0/1000 [00:00<?, ?it/s]"
      ]
     },
     "metadata": {},
     "output_type": "display_data"
    },
    {
     "data": {
      "application/vnd.jupyter.widget-view+json": {
       "model_id": "e0b39922b00340b5999fa83d4881ed2a",
       "version_major": 2,
       "version_minor": 0
      },
      "text/plain": [
       "  0%|          | 0/20 [00:00<?, ?it/s]"
      ]
     },
     "metadata": {},
     "output_type": "display_data"
    },
    {
     "data": {
      "application/vnd.jupyter.widget-view+json": {
       "model_id": "6896c8f7fd994b3f99226e1bd3d1fe5d",
       "version_major": 2,
       "version_minor": 0
      },
      "text/plain": [
       "  0%|          | 0/1000 [00:00<?, ?it/s]"
      ]
     },
     "metadata": {},
     "output_type": "display_data"
    },
    {
     "data": {
      "application/vnd.jupyter.widget-view+json": {
       "model_id": "ff72cf6c9ed547e2bf0f6c72bfac6272",
       "version_major": 2,
       "version_minor": 0
      },
      "text/plain": [
       "  0%|          | 0/20 [00:00<?, ?it/s]"
      ]
     },
     "metadata": {},
     "output_type": "display_data"
    },
    {
     "data": {
      "application/vnd.jupyter.widget-view+json": {
       "model_id": "d743c64f8fd2453aaf5e9e48eb8ec8dc",
       "version_major": 2,
       "version_minor": 0
      },
      "text/plain": [
       "  0%|          | 0/1000 [00:00<?, ?it/s]"
      ]
     },
     "metadata": {},
     "output_type": "display_data"
    },
    {
     "data": {
      "application/vnd.jupyter.widget-view+json": {
       "model_id": "ddb3142ab734452fbbe5e4e15e89e442",
       "version_major": 2,
       "version_minor": 0
      },
      "text/plain": [
       "  0%|          | 0/20 [00:00<?, ?it/s]"
      ]
     },
     "metadata": {},
     "output_type": "display_data"
    },
    {
     "data": {
      "application/vnd.jupyter.widget-view+json": {
       "model_id": "68bd362e44e9455381fb6c7c59f91c35",
       "version_major": 2,
       "version_minor": 0
      },
      "text/plain": [
       "  0%|          | 0/1000 [00:00<?, ?it/s]"
      ]
     },
     "metadata": {},
     "output_type": "display_data"
    },
    {
     "data": {
      "application/vnd.jupyter.widget-view+json": {
       "model_id": "dbcd98e6476244239b6461bd9a607894",
       "version_major": 2,
       "version_minor": 0
      },
      "text/plain": [
       "  0%|          | 0/20 [00:00<?, ?it/s]"
      ]
     },
     "metadata": {},
     "output_type": "display_data"
    },
    {
     "data": {
      "application/vnd.jupyter.widget-view+json": {
       "model_id": "4d8a8f67304046289ce9785d9561b9ba",
       "version_major": 2,
       "version_minor": 0
      },
      "text/plain": [
       "  0%|          | 0/1000 [00:00<?, ?it/s]"
      ]
     },
     "metadata": {},
     "output_type": "display_data"
    },
    {
     "data": {
      "application/vnd.jupyter.widget-view+json": {
       "model_id": "2befc5406d404862aeaa3d4e3ec212b7",
       "version_major": 2,
       "version_minor": 0
      },
      "text/plain": [
       "  0%|          | 0/20 [00:00<?, ?it/s]"
      ]
     },
     "metadata": {},
     "output_type": "display_data"
    },
    {
     "data": {
      "application/vnd.jupyter.widget-view+json": {
       "model_id": "5427f52f7b004cecba830602df779214",
       "version_major": 2,
       "version_minor": 0
      },
      "text/plain": [
       "  0%|          | 0/1000 [00:00<?, ?it/s]"
      ]
     },
     "metadata": {},
     "output_type": "display_data"
    },
    {
     "data": {
      "application/vnd.jupyter.widget-view+json": {
       "model_id": "4c50ff34a0f842c38db5aa9009a1eb7f",
       "version_major": 2,
       "version_minor": 0
      },
      "text/plain": [
       "  0%|          | 0/20 [00:00<?, ?it/s]"
      ]
     },
     "metadata": {},
     "output_type": "display_data"
    },
    {
     "data": {
      "application/vnd.jupyter.widget-view+json": {
       "model_id": "b77c83694b1940e7abc20a501292854c",
       "version_major": 2,
       "version_minor": 0
      },
      "text/plain": [
       "  0%|          | 0/1000 [00:00<?, ?it/s]"
      ]
     },
     "metadata": {},
     "output_type": "display_data"
    },
    {
     "data": {
      "application/vnd.jupyter.widget-view+json": {
       "model_id": "d6df3af463d543d9978413278c618864",
       "version_major": 2,
       "version_minor": 0
      },
      "text/plain": [
       "  0%|          | 0/20 [00:00<?, ?it/s]"
      ]
     },
     "metadata": {},
     "output_type": "display_data"
    },
    {
     "data": {
      "application/vnd.jupyter.widget-view+json": {
       "model_id": "c73e86ba9ac94ba1985339e475a0c19e",
       "version_major": 2,
       "version_minor": 0
      },
      "text/plain": [
       "  0%|          | 0/1000 [00:00<?, ?it/s]"
      ]
     },
     "metadata": {},
     "output_type": "display_data"
    },
    {
     "data": {
      "application/vnd.jupyter.widget-view+json": {
       "model_id": "6f34cae2e66742a3876f8a699b50d0e1",
       "version_major": 2,
       "version_minor": 0
      },
      "text/plain": [
       "  0%|          | 0/20 [00:00<?, ?it/s]"
      ]
     },
     "metadata": {},
     "output_type": "display_data"
    },
    {
     "data": {
      "application/vnd.jupyter.widget-view+json": {
       "model_id": "dfbc286820e24d4a8db8ea4076a41fc1",
       "version_major": 2,
       "version_minor": 0
      },
      "text/plain": [
       "  0%|          | 0/1000 [00:00<?, ?it/s]"
      ]
     },
     "metadata": {},
     "output_type": "display_data"
    },
    {
     "data": {
      "application/vnd.jupyter.widget-view+json": {
       "model_id": "28f8763c463d4a23aad4a0af8cd57106",
       "version_major": 2,
       "version_minor": 0
      },
      "text/plain": [
       "  0%|          | 0/20 [00:00<?, ?it/s]"
      ]
     },
     "metadata": {},
     "output_type": "display_data"
    },
    {
     "data": {
      "application/vnd.jupyter.widget-view+json": {
       "model_id": "c4a2fca6bca74b7581d6f30647a62ee1",
       "version_major": 2,
       "version_minor": 0
      },
      "text/plain": [
       "  0%|          | 0/1000 [00:00<?, ?it/s]"
      ]
     },
     "metadata": {},
     "output_type": "display_data"
    },
    {
     "data": {
      "application/vnd.jupyter.widget-view+json": {
       "model_id": "6f670ab6e98a473ea359b015fca0fa3d",
       "version_major": 2,
       "version_minor": 0
      },
      "text/plain": [
       "  0%|          | 0/20 [00:00<?, ?it/s]"
      ]
     },
     "metadata": {},
     "output_type": "display_data"
    },
    {
     "data": {
      "application/vnd.jupyter.widget-view+json": {
       "model_id": "dfea38360f784bf883d53e93dccfceca",
       "version_major": 2,
       "version_minor": 0
      },
      "text/plain": [
       "  0%|          | 0/1000 [00:00<?, ?it/s]"
      ]
     },
     "metadata": {},
     "output_type": "display_data"
    },
    {
     "data": {
      "application/vnd.jupyter.widget-view+json": {
       "model_id": "c3998e90514d4a46a9a16cf1f66f43ae",
       "version_major": 2,
       "version_minor": 0
      },
      "text/plain": [
       "  0%|          | 0/20 [00:00<?, ?it/s]"
      ]
     },
     "metadata": {},
     "output_type": "display_data"
    },
    {
     "data": {
      "application/vnd.jupyter.widget-view+json": {
       "model_id": "b1e8cbb1e70a4d658da9a4c3d27263fe",
       "version_major": 2,
       "version_minor": 0
      },
      "text/plain": [
       "  0%|          | 0/1000 [00:00<?, ?it/s]"
      ]
     },
     "metadata": {},
     "output_type": "display_data"
    },
    {
     "data": {
      "application/vnd.jupyter.widget-view+json": {
       "model_id": "05a29b8ede3d4ee1bf8dd2e2aeaa3d83",
       "version_major": 2,
       "version_minor": 0
      },
      "text/plain": [
       "  0%|          | 0/20 [00:00<?, ?it/s]"
      ]
     },
     "metadata": {},
     "output_type": "display_data"
    },
    {
     "data": {
      "application/vnd.jupyter.widget-view+json": {
       "model_id": "18fe4c09f08c4651ab92b30848c62a52",
       "version_major": 2,
       "version_minor": 0
      },
      "text/plain": [
       "  0%|          | 0/1000 [00:00<?, ?it/s]"
      ]
     },
     "metadata": {},
     "output_type": "display_data"
    },
    {
     "data": {
      "application/vnd.jupyter.widget-view+json": {
       "model_id": "ce451c604fe04d9ea5b5554ea3421aa3",
       "version_major": 2,
       "version_minor": 0
      },
      "text/plain": [
       "  0%|          | 0/20 [00:00<?, ?it/s]"
      ]
     },
     "metadata": {},
     "output_type": "display_data"
    },
    {
     "data": {
      "application/vnd.jupyter.widget-view+json": {
       "model_id": "2c87816bb8a8442a858d38448031d1c5",
       "version_major": 2,
       "version_minor": 0
      },
      "text/plain": [
       "  0%|          | 0/1000 [00:00<?, ?it/s]"
      ]
     },
     "metadata": {},
     "output_type": "display_data"
    },
    {
     "data": {
      "application/vnd.jupyter.widget-view+json": {
       "model_id": "eb23f71941a246ef85b0671b2be2e2c9",
       "version_major": 2,
       "version_minor": 0
      },
      "text/plain": [
       "  0%|          | 0/20 [00:00<?, ?it/s]"
      ]
     },
     "metadata": {},
     "output_type": "display_data"
    },
    {
     "data": {
      "application/vnd.jupyter.widget-view+json": {
       "model_id": "de13bc7c31ae416992cffe8e94ae3359",
       "version_major": 2,
       "version_minor": 0
      },
      "text/plain": [
       "  0%|          | 0/1000 [00:00<?, ?it/s]"
      ]
     },
     "metadata": {},
     "output_type": "display_data"
    },
    {
     "data": {
      "application/vnd.jupyter.widget-view+json": {
       "model_id": "609aaf32c8114caca7d9179440d85bd2",
       "version_major": 2,
       "version_minor": 0
      },
      "text/plain": [
       "  0%|          | 0/20 [00:00<?, ?it/s]"
      ]
     },
     "metadata": {},
     "output_type": "display_data"
    },
    {
     "data": {
      "application/vnd.jupyter.widget-view+json": {
       "model_id": "a0e92e7ab3754052a08a037476ab4546",
       "version_major": 2,
       "version_minor": 0
      },
      "text/plain": [
       "  0%|          | 0/1000 [00:00<?, ?it/s]"
      ]
     },
     "metadata": {},
     "output_type": "display_data"
    },
    {
     "data": {
      "application/vnd.jupyter.widget-view+json": {
       "model_id": "725b446290484ae7b914106a2fdc9080",
       "version_major": 2,
       "version_minor": 0
      },
      "text/plain": [
       "  0%|          | 0/20 [00:00<?, ?it/s]"
      ]
     },
     "metadata": {},
     "output_type": "display_data"
    },
    {
     "data": {
      "application/vnd.jupyter.widget-view+json": {
       "model_id": "88b63fce9a0c41069250671d3db8591e",
       "version_major": 2,
       "version_minor": 0
      },
      "text/plain": [
       "  0%|          | 0/1000 [00:00<?, ?it/s]"
      ]
     },
     "metadata": {},
     "output_type": "display_data"
    },
    {
     "data": {
      "application/vnd.jupyter.widget-view+json": {
       "model_id": "1c59c77826cf4cafa335b9e784d4c2fc",
       "version_major": 2,
       "version_minor": 0
      },
      "text/plain": [
       "  0%|          | 0/20 [00:00<?, ?it/s]"
      ]
     },
     "metadata": {},
     "output_type": "display_data"
    },
    {
     "data": {
      "application/vnd.jupyter.widget-view+json": {
       "model_id": "83358754b646455fa2205950616f8039",
       "version_major": 2,
       "version_minor": 0
      },
      "text/plain": [
       "  0%|          | 0/1000 [00:00<?, ?it/s]"
      ]
     },
     "metadata": {},
     "output_type": "display_data"
    },
    {
     "data": {
      "application/vnd.jupyter.widget-view+json": {
       "model_id": "732ef69b0e8a42fabcedb33473f6c301",
       "version_major": 2,
       "version_minor": 0
      },
      "text/plain": [
       "  0%|          | 0/20 [00:00<?, ?it/s]"
      ]
     },
     "metadata": {},
     "output_type": "display_data"
    },
    {
     "data": {
      "application/vnd.jupyter.widget-view+json": {
       "model_id": "51c7801cf93b4b759e7efd722b7cde57",
       "version_major": 2,
       "version_minor": 0
      },
      "text/plain": [
       "  0%|          | 0/1000 [00:00<?, ?it/s]"
      ]
     },
     "metadata": {},
     "output_type": "display_data"
    },
    {
     "data": {
      "application/vnd.jupyter.widget-view+json": {
       "model_id": "8e65e1542bd54e8594ae5c4fb467fded",
       "version_major": 2,
       "version_minor": 0
      },
      "text/plain": [
       "  0%|          | 0/20 [00:00<?, ?it/s]"
      ]
     },
     "metadata": {},
     "output_type": "display_data"
    },
    {
     "data": {
      "application/vnd.jupyter.widget-view+json": {
       "model_id": "4d8919da66a7451cbb4fed9ef471417a",
       "version_major": 2,
       "version_minor": 0
      },
      "text/plain": [
       "  0%|          | 0/1000 [00:00<?, ?it/s]"
      ]
     },
     "metadata": {},
     "output_type": "display_data"
    },
    {
     "data": {
      "application/vnd.jupyter.widget-view+json": {
       "model_id": "2a19cf88e61449cebfdc04df7d7ea9d1",
       "version_major": 2,
       "version_minor": 0
      },
      "text/plain": [
       "  0%|          | 0/20 [00:00<?, ?it/s]"
      ]
     },
     "metadata": {},
     "output_type": "display_data"
    },
    {
     "data": {
      "application/vnd.jupyter.widget-view+json": {
       "model_id": "1c17105a32354edb89de3a26b31f026b",
       "version_major": 2,
       "version_minor": 0
      },
      "text/plain": [
       "  0%|          | 0/1000 [00:00<?, ?it/s]"
      ]
     },
     "metadata": {},
     "output_type": "display_data"
    },
    {
     "data": {
      "application/vnd.jupyter.widget-view+json": {
       "model_id": "e21a89bf2d8d4cf089c5c6796088fd7c",
       "version_major": 2,
       "version_minor": 0
      },
      "text/plain": [
       "  0%|          | 0/20 [00:00<?, ?it/s]"
      ]
     },
     "metadata": {},
     "output_type": "display_data"
    },
    {
     "data": {
      "application/vnd.jupyter.widget-view+json": {
       "model_id": "e6e02020239e4eb78bdc9126d684291f",
       "version_major": 2,
       "version_minor": 0
      },
      "text/plain": [
       "  0%|          | 0/1000 [00:00<?, ?it/s]"
      ]
     },
     "metadata": {},
     "output_type": "display_data"
    },
    {
     "data": {
      "application/vnd.jupyter.widget-view+json": {
       "model_id": "144361d8cd7747ceafbb9c4f76a9ecfa",
       "version_major": 2,
       "version_minor": 0
      },
      "text/plain": [
       "  0%|          | 0/20 [00:00<?, ?it/s]"
      ]
     },
     "metadata": {},
     "output_type": "display_data"
    },
    {
     "data": {
      "application/vnd.jupyter.widget-view+json": {
       "model_id": "34d566e380b44084b58351b5b3735dad",
       "version_major": 2,
       "version_minor": 0
      },
      "text/plain": [
       "  0%|          | 0/1000 [00:00<?, ?it/s]"
      ]
     },
     "metadata": {},
     "output_type": "display_data"
    },
    {
     "data": {
      "application/vnd.jupyter.widget-view+json": {
       "model_id": "28a70a7a62284b63936516dcfd9c8b60",
       "version_major": 2,
       "version_minor": 0
      },
      "text/plain": [
       "  0%|          | 0/20 [00:00<?, ?it/s]"
      ]
     },
     "metadata": {},
     "output_type": "display_data"
    },
    {
     "data": {
      "application/vnd.jupyter.widget-view+json": {
       "model_id": "5f215e199c5a4e31a5c86d1dec797201",
       "version_major": 2,
       "version_minor": 0
      },
      "text/plain": [
       "  0%|          | 0/1000 [00:00<?, ?it/s]"
      ]
     },
     "metadata": {},
     "output_type": "display_data"
    },
    {
     "data": {
      "application/vnd.jupyter.widget-view+json": {
       "model_id": "e89ec85c9b7647a2ae77c36e2e9aea3c",
       "version_major": 2,
       "version_minor": 0
      },
      "text/plain": [
       "  0%|          | 0/20 [00:00<?, ?it/s]"
      ]
     },
     "metadata": {},
     "output_type": "display_data"
    },
    {
     "data": {
      "application/vnd.jupyter.widget-view+json": {
       "model_id": "5ee6ba2b05e34a81be0f9c5ac79946e6",
       "version_major": 2,
       "version_minor": 0
      },
      "text/plain": [
       "  0%|          | 0/1000 [00:00<?, ?it/s]"
      ]
     },
     "metadata": {},
     "output_type": "display_data"
    },
    {
     "data": {
      "application/vnd.jupyter.widget-view+json": {
       "model_id": "857a199f5a4144ba801b1620ef3f55d8",
       "version_major": 2,
       "version_minor": 0
      },
      "text/plain": [
       "  0%|          | 0/20 [00:00<?, ?it/s]"
      ]
     },
     "metadata": {},
     "output_type": "display_data"
    },
    {
     "data": {
      "application/vnd.jupyter.widget-view+json": {
       "model_id": "a32ff333498240eabf88fcd9af8a8b61",
       "version_major": 2,
       "version_minor": 0
      },
      "text/plain": [
       "  0%|          | 0/1000 [00:00<?, ?it/s]"
      ]
     },
     "metadata": {},
     "output_type": "display_data"
    },
    {
     "data": {
      "application/vnd.jupyter.widget-view+json": {
       "model_id": "af1aabef4ce94477bb179cd9e0bcdb3a",
       "version_major": 2,
       "version_minor": 0
      },
      "text/plain": [
       "  0%|          | 0/20 [00:00<?, ?it/s]"
      ]
     },
     "metadata": {},
     "output_type": "display_data"
    },
    {
     "data": {
      "application/vnd.jupyter.widget-view+json": {
       "model_id": "9c02eff5040d4fc39bf797fabe94e497",
       "version_major": 2,
       "version_minor": 0
      },
      "text/plain": [
       "  0%|          | 0/1000 [00:00<?, ?it/s]"
      ]
     },
     "metadata": {},
     "output_type": "display_data"
    },
    {
     "data": {
      "application/vnd.jupyter.widget-view+json": {
       "model_id": "ded184c9b8ff471589a158957de066bc",
       "version_major": 2,
       "version_minor": 0
      },
      "text/plain": [
       "  0%|          | 0/20 [00:00<?, ?it/s]"
      ]
     },
     "metadata": {},
     "output_type": "display_data"
    },
    {
     "data": {
      "application/vnd.jupyter.widget-view+json": {
       "model_id": "890a6a0832f04e2ebaa7e0fe5cdbd87d",
       "version_major": 2,
       "version_minor": 0
      },
      "text/plain": [
       "  0%|          | 0/1000 [00:00<?, ?it/s]"
      ]
     },
     "metadata": {},
     "output_type": "display_data"
    },
    {
     "data": {
      "application/vnd.jupyter.widget-view+json": {
       "model_id": "5371af1133c342d7ae91c66b60819636",
       "version_major": 2,
       "version_minor": 0
      },
      "text/plain": [
       "  0%|          | 0/20 [00:00<?, ?it/s]"
      ]
     },
     "metadata": {},
     "output_type": "display_data"
    },
    {
     "data": {
      "application/vnd.jupyter.widget-view+json": {
       "model_id": "4ef2deb66d23456ba67ab59b199d2f9f",
       "version_major": 2,
       "version_minor": 0
      },
      "text/plain": [
       "  0%|          | 0/1000 [00:00<?, ?it/s]"
      ]
     },
     "metadata": {},
     "output_type": "display_data"
    },
    {
     "data": {
      "application/vnd.jupyter.widget-view+json": {
       "model_id": "ca3843770030483080ba4436bcff2725",
       "version_major": 2,
       "version_minor": 0
      },
      "text/plain": [
       "  0%|          | 0/20 [00:00<?, ?it/s]"
      ]
     },
     "metadata": {},
     "output_type": "display_data"
    },
    {
     "data": {
      "application/vnd.jupyter.widget-view+json": {
       "model_id": "32802c24d32540128f0e043b4c9d867a",
       "version_major": 2,
       "version_minor": 0
      },
      "text/plain": [
       "  0%|          | 0/1000 [00:00<?, ?it/s]"
      ]
     },
     "metadata": {},
     "output_type": "display_data"
    },
    {
     "data": {
      "application/vnd.jupyter.widget-view+json": {
       "model_id": "0fbc2717955a4c65b9d2e3973eb9921a",
       "version_major": 2,
       "version_minor": 0
      },
      "text/plain": [
       "  0%|          | 0/20 [00:00<?, ?it/s]"
      ]
     },
     "metadata": {},
     "output_type": "display_data"
    },
    {
     "data": {
      "application/vnd.jupyter.widget-view+json": {
       "model_id": "18b825a8698e48c89220222b00937c9d",
       "version_major": 2,
       "version_minor": 0
      },
      "text/plain": [
       "  0%|          | 0/1000 [00:00<?, ?it/s]"
      ]
     },
     "metadata": {},
     "output_type": "display_data"
    },
    {
     "data": {
      "application/vnd.jupyter.widget-view+json": {
       "model_id": "d2587ed170ed45f191a059dcb827ec03",
       "version_major": 2,
       "version_minor": 0
      },
      "text/plain": [
       "  0%|          | 0/20 [00:00<?, ?it/s]"
      ]
     },
     "metadata": {},
     "output_type": "display_data"
    },
    {
     "data": {
      "application/vnd.jupyter.widget-view+json": {
       "model_id": "155d795a877344ceaf0d85fe324fad04",
       "version_major": 2,
       "version_minor": 0
      },
      "text/plain": [
       "  0%|          | 0/1000 [00:00<?, ?it/s]"
      ]
     },
     "metadata": {},
     "output_type": "display_data"
    },
    {
     "data": {
      "application/vnd.jupyter.widget-view+json": {
       "model_id": "2b9113bcc19f4412a3ec71c325e0e492",
       "version_major": 2,
       "version_minor": 0
      },
      "text/plain": [
       "  0%|          | 0/20 [00:00<?, ?it/s]"
      ]
     },
     "metadata": {},
     "output_type": "display_data"
    },
    {
     "data": {
      "application/vnd.jupyter.widget-view+json": {
       "model_id": "a01a1241bc3d48faad2d3445fbbdaaa2",
       "version_major": 2,
       "version_minor": 0
      },
      "text/plain": [
       "  0%|          | 0/1000 [00:00<?, ?it/s]"
      ]
     },
     "metadata": {},
     "output_type": "display_data"
    },
    {
     "data": {
      "application/vnd.jupyter.widget-view+json": {
       "model_id": "29a63c8165c64ae0ae37e1be0a46ca8a",
       "version_major": 2,
       "version_minor": 0
      },
      "text/plain": [
       "  0%|          | 0/20 [00:00<?, ?it/s]"
      ]
     },
     "metadata": {},
     "output_type": "display_data"
    },
    {
     "data": {
      "application/vnd.jupyter.widget-view+json": {
       "model_id": "9de68801eafc47b8b54a2a8fbb852183",
       "version_major": 2,
       "version_minor": 0
      },
      "text/plain": [
       "  0%|          | 0/1000 [00:00<?, ?it/s]"
      ]
     },
     "metadata": {},
     "output_type": "display_data"
    },
    {
     "data": {
      "application/vnd.jupyter.widget-view+json": {
       "model_id": "2f29e6c1b27d40a99a5e479a3fb58b40",
       "version_major": 2,
       "version_minor": 0
      },
      "text/plain": [
       "  0%|          | 0/20 [00:00<?, ?it/s]"
      ]
     },
     "metadata": {},
     "output_type": "display_data"
    },
    {
     "data": {
      "application/vnd.jupyter.widget-view+json": {
       "model_id": "bcf39977fcfb4806b6e95ec9704d72fe",
       "version_major": 2,
       "version_minor": 0
      },
      "text/plain": [
       "  0%|          | 0/1000 [00:00<?, ?it/s]"
      ]
     },
     "metadata": {},
     "output_type": "display_data"
    },
    {
     "data": {
      "application/vnd.jupyter.widget-view+json": {
       "model_id": "2863478185ab4fd8963e6aca98c7ad05",
       "version_major": 2,
       "version_minor": 0
      },
      "text/plain": [
       "  0%|          | 0/20 [00:00<?, ?it/s]"
      ]
     },
     "metadata": {},
     "output_type": "display_data"
    },
    {
     "data": {
      "application/vnd.jupyter.widget-view+json": {
       "model_id": "8677927bb08d4881b5edcf54957fa53c",
       "version_major": 2,
       "version_minor": 0
      },
      "text/plain": [
       "  0%|          | 0/1000 [00:00<?, ?it/s]"
      ]
     },
     "metadata": {},
     "output_type": "display_data"
    },
    {
     "data": {
      "application/vnd.jupyter.widget-view+json": {
       "model_id": "e0995bc625534b8790929aad82ff0698",
       "version_major": 2,
       "version_minor": 0
      },
      "text/plain": [
       "  0%|          | 0/20 [00:00<?, ?it/s]"
      ]
     },
     "metadata": {},
     "output_type": "display_data"
    },
    {
     "data": {
      "application/vnd.jupyter.widget-view+json": {
       "model_id": "daa9c399d1b243be9b8e95b6a9ff3e84",
       "version_major": 2,
       "version_minor": 0
      },
      "text/plain": [
       "  0%|          | 0/1000 [00:00<?, ?it/s]"
      ]
     },
     "metadata": {},
     "output_type": "display_data"
    },
    {
     "data": {
      "application/vnd.jupyter.widget-view+json": {
       "model_id": "53cc7985414448458c5112db00ede1ac",
       "version_major": 2,
       "version_minor": 0
      },
      "text/plain": [
       "  0%|          | 0/20 [00:00<?, ?it/s]"
      ]
     },
     "metadata": {},
     "output_type": "display_data"
    },
    {
     "data": {
      "application/vnd.jupyter.widget-view+json": {
       "model_id": "148f2c71465f4ba6a24635f42adf71ee",
       "version_major": 2,
       "version_minor": 0
      },
      "text/plain": [
       "  0%|          | 0/1000 [00:00<?, ?it/s]"
      ]
     },
     "metadata": {},
     "output_type": "display_data"
    },
    {
     "data": {
      "application/vnd.jupyter.widget-view+json": {
       "model_id": "99125bb48e914a02899419507be00702",
       "version_major": 2,
       "version_minor": 0
      },
      "text/plain": [
       "  0%|          | 0/20 [00:00<?, ?it/s]"
      ]
     },
     "metadata": {},
     "output_type": "display_data"
    },
    {
     "data": {
      "application/vnd.jupyter.widget-view+json": {
       "model_id": "365a42f758a445768f05cff1ca1b1dd5",
       "version_major": 2,
       "version_minor": 0
      },
      "text/plain": [
       "  0%|          | 0/1000 [00:00<?, ?it/s]"
      ]
     },
     "metadata": {},
     "output_type": "display_data"
    },
    {
     "data": {
      "application/vnd.jupyter.widget-view+json": {
       "model_id": "48ed98cf7cd24e919dce45da7095f5d9",
       "version_major": 2,
       "version_minor": 0
      },
      "text/plain": [
       "  0%|          | 0/20 [00:00<?, ?it/s]"
      ]
     },
     "metadata": {},
     "output_type": "display_data"
    },
    {
     "data": {
      "application/vnd.jupyter.widget-view+json": {
       "model_id": "46776699c9824affba49dcd1fe5f7142",
       "version_major": 2,
       "version_minor": 0
      },
      "text/plain": [
       "  0%|          | 0/1000 [00:00<?, ?it/s]"
      ]
     },
     "metadata": {},
     "output_type": "display_data"
    },
    {
     "data": {
      "application/vnd.jupyter.widget-view+json": {
       "model_id": "c3d31b79c5c74f528c8691211cf8e1de",
       "version_major": 2,
       "version_minor": 0
      },
      "text/plain": [
       "  0%|          | 0/20 [00:00<?, ?it/s]"
      ]
     },
     "metadata": {},
     "output_type": "display_data"
    },
    {
     "data": {
      "application/vnd.jupyter.widget-view+json": {
       "model_id": "5b6e799835fe4c8d849c57f76d3dd0bc",
       "version_major": 2,
       "version_minor": 0
      },
      "text/plain": [
       "  0%|          | 0/1000 [00:00<?, ?it/s]"
      ]
     },
     "metadata": {},
     "output_type": "display_data"
    },
    {
     "data": {
      "application/vnd.jupyter.widget-view+json": {
       "model_id": "e9291a77d2294b5790ed95eec1df7c01",
       "version_major": 2,
       "version_minor": 0
      },
      "text/plain": [
       "  0%|          | 0/20 [00:00<?, ?it/s]"
      ]
     },
     "metadata": {},
     "output_type": "display_data"
    },
    {
     "data": {
      "application/vnd.jupyter.widget-view+json": {
       "model_id": "418bd32befdb4d22a1f8e334e2f8f7b5",
       "version_major": 2,
       "version_minor": 0
      },
      "text/plain": [
       "  0%|          | 0/1000 [00:00<?, ?it/s]"
      ]
     },
     "metadata": {},
     "output_type": "display_data"
    }
   ],
   "source": [
    "bin_boundaries = np.concatenate([[-np.inf], rmsd_bins, [np.inf]])\n",
    "\n",
    "all_clusters = []\n",
    "\n",
    "for bin_lower, bin_upper in tqdm.tqdm(zip(bin_boundaries[:-1], bin_boundaries[1:]), total=len(bin_boundaries)-1):\n",
    "\n",
    "    kmeans_estimator = KMeans(\n",
    "        n_clusters=clusters_per_strat,\n",
    "        max_iter=1000,\n",
    "        fixed_seed=1337,\n",
    "        n_jobs=4,\n",
    "        progress=tqdm.tqdm\n",
    "    )\n",
    "    \n",
    "    # Get the points in this bin\n",
    "    points_in_bin = np.argwhere((rmsd[::rmsd_stride] >= bin_lower) & (rmsd[::rmsd_stride] < bin_upper)).flatten()\n",
    "    \n",
    "    clustering = kmeans_estimator.fit(projection[points_in_bin]).fetch_model()\n",
    "    \n",
    "    all_clusters.append(copy.deepcopy(clustering))"
   ]
  },
  {
   "cell_type": "code",
   "execution_count": 101,
   "metadata": {
    "execution": {
     "iopub.execute_input": "2022-02-17T23:14:49.895444Z",
     "iopub.status.busy": "2022-02-17T23:14:49.895161Z",
     "iopub.status.idle": "2022-02-17T23:14:49.900504Z",
     "shell.execute_reply": "2022-02-17T23:14:49.899664Z",
     "shell.execute_reply.started": "2022-02-17T23:14:49.895418Z"
    },
    "tags": []
   },
   "outputs": [],
   "source": [
    "combined_kmeans_centers = np.concatenate([x._cluster_centers for x in all_clusters])\n",
    "\n",
    "all_cluster = KMeansModel(combined_kmeans_centers, metric='euclidean')"
   ]
  },
  {
   "cell_type": "code",
   "execution_count": 102,
   "metadata": {
    "execution": {
     "iopub.execute_input": "2022-02-17T23:14:49.901969Z",
     "iopub.status.busy": "2022-02-17T23:14:49.901482Z",
     "iopub.status.idle": "2022-02-17T23:14:58.381938Z",
     "shell.execute_reply": "2022-02-17T23:14:58.381346Z",
     "shell.execute_reply.started": "2022-02-17T23:14:49.901927Z"
    },
    "pycharm": {
     "name": "#%%\n"
    },
    "tags": []
   },
   "outputs": [],
   "source": [
    "discrete_stratified = all_cluster.transform(projection)"
   ]
  },
  {
   "cell_type": "code",
   "execution_count": 103,
   "metadata": {
    "execution": {
     "iopub.execute_input": "2022-02-17T23:14:58.384274Z",
     "iopub.status.busy": "2022-02-17T23:14:58.384058Z",
     "iopub.status.idle": "2022-02-17T23:14:58.777099Z",
     "shell.execute_reply": "2022-02-17T23:14:58.776335Z",
     "shell.execute_reply.started": "2022-02-17T23:14:58.384255Z"
    },
    "tags": []
   },
   "outputs": [
    {
     "data": {
      "text/plain": [
       "[<matplotlib.lines.Line2D at 0x15da03f40>]"
      ]
     },
     "execution_count": 103,
     "metadata": {},
     "output_type": "execute_result"
    },
    {
     "data": {
      "image/png": "[encoded data removed]",
      "text/plain": [
       "<Figure size 432x288 with 1 Axes>"
      ]
     },
     "metadata": {
      "needs_background": "light"
     },
     "output_type": "display_data"
    }
   ],
   "source": [
    "plt.plot(discrete_stratified)"
   ]
  },
  {
   "cell_type": "code",
   "execution_count": 106,
   "metadata": {
    "execution": {
     "iopub.execute_input": "2022-02-17T23:14:59.551098Z",
     "iopub.status.busy": "2022-02-17T23:14:59.550771Z",
     "iopub.status.idle": "2022-02-17T23:14:59.554970Z",
     "shell.execute_reply": "2022-02-17T23:14:59.553856Z",
     "shell.execute_reply.started": "2022-02-17T23:14:59.551076Z"
    },
    "tags": []
   },
   "outputs": [],
   "source": [
    "discrete_trajectory = discrete_stratified\n",
    "clustering = all_cluster"
   ]
  },
  {
   "cell_type": "markdown",
   "metadata": {
    "pycharm": {
     "name": "#%% md\n"
    }
   },
   "source": [
    "# Build MSM"
   ]
  },
  {
   "cell_type": "markdown",
   "metadata": {},
   "source": [
    "## Load necessary trajectory data"
   ]
  },
  {
   "cell_type": "markdown",
   "metadata": {},
   "source": [
    "For now, manually run \n",
    "1. Up to Trajectory Preparation\n",
    "2. The \"Load Saved\" sections within Trajectory preparation\n",
    "3. Dimensionality reduction: Load Saved\n",
    "4. Discretize trajectory\n",
    "\n",
    "before running this. Can probably save all the intermediate results in one `npz` eventually."
   ]
  },
  {
   "cell_type": "markdown",
   "metadata": {},
   "source": [
    "## Construct MSM object\n",
    "\n",
    "Build with the lag time specified before, and enforce reversibility."
   ]
  },
  {
   "cell_type": "code",
   "execution_count": 108,
   "metadata": {
    "execution": {
     "iopub.execute_input": "2022-02-17T23:15:00.449141Z",
     "iopub.status.busy": "2022-02-17T23:15:00.448576Z",
     "iopub.status.idle": "2022-02-17T23:15:00.453043Z",
     "shell.execute_reply": "2022-02-17T23:15:00.451994Z",
     "shell.execute_reply.started": "2022-02-17T23:15:00.449116Z"
    },
    "pycharm": {
     "name": "#%%\n"
    },
    "tags": []
   },
   "outputs": [],
   "source": [
    "from deeptime.markov import TransitionCountEstimator\n",
    "from deeptime.markov.msm import MaximumLikelihoodMSM"
   ]
  },
  {
   "cell_type": "code",
   "execution_count": 203,
   "metadata": {
    "execution": {
     "iopub.execute_input": "2022-02-18T19:09:54.439106Z",
     "iopub.status.busy": "2022-02-18T19:09:54.438773Z",
     "iopub.status.idle": "2022-02-18T19:09:55.467738Z",
     "shell.execute_reply": "2022-02-18T19:09:55.466935Z",
     "shell.execute_reply.started": "2022-02-18T19:09:54.439084Z"
    },
    "pycharm": {
     "name": "#%%\n"
    },
    "tags": []
   },
   "outputs": [
    {
     "name": "stdout",
     "output_type": "stream",
     "text": [
      "50\n"
     ]
    }
   ],
   "source": [
    "lag = msm_lag_steps\n",
    "print(msm_lag_steps)\n",
    "count_model = TransitionCountEstimator(lag, 'sliding').fit_fetch(discrete_trajectory)\n",
    "msm = MaximumLikelihoodMSM(reversible=True).fit_fetch(count_model.submodel_largest())"
   ]
  },
  {
   "cell_type": "markdown",
   "metadata": {},
   "source": [
    "## Define folded/unfolded/intermediate states\n",
    "\n",
    "These are manually defined in the space of the tIC that maps to RMSD, mostly because it's fairly easy to pick out reasonable thresholds by eye."
   ]
  },
  {
   "cell_type": "code",
   "execution_count": 205,
   "metadata": {
    "execution": {
     "iopub.execute_input": "2022-02-18T19:09:55.515142Z",
     "iopub.status.busy": "2022-02-18T19:09:55.514794Z",
     "iopub.status.idle": "2022-02-18T19:09:55.523974Z",
     "shell.execute_reply": "2022-02-18T19:09:55.523021Z",
     "shell.execute_reply.started": "2022-02-18T19:09:55.515101Z"
    },
    "pycharm": {
     "name": "#%%\n"
    },
    "tags": []
   },
   "outputs": [
    {
     "data": {
      "text/plain": [
       "(458, 102)"
      ]
     },
     "execution_count": 205,
     "metadata": {},
     "output_type": "execute_result"
    }
   ],
   "source": [
    "unfolded_thresh = 10 #0.9\n",
    "folded_thresh = -35 #-1.89\n",
    "\n",
    "unfolded = np.argwhere(clustering.cluster_centers[:, tic_rmsd].flatten() > unfolded_thresh).flatten()\n",
    "folded = np.argwhere(clustering.cluster_centers[:, tic_rmsd].flatten() < folded_thresh).flatten()\n",
    "\n",
    "# unfolded_thresh = 1.6\n",
    "# folded_thresh = -1.89\n",
    "# unfolded = np.argwhere(clustering.cluster_centers[:, tic_rmsd].flatten() > unfolded_thresh).flatten()\n",
    "# folded = np.argwhere(clustering.cluster_centers[:, tic_rmsd].flatten() < folded_thresh).flatten()\n",
    "# len(unfolded), len(folded)"
   ]
  },
  {
   "cell_type": "code",
   "execution_count": 206,
   "metadata": {
    "execution": {
     "iopub.execute_input": "2022-02-18T19:09:55.528119Z",
     "iopub.status.busy": "2022-02-18T19:09:55.527654Z",
     "iopub.status.idle": "2022-02-18T19:09:55.555082Z",
     "shell.execute_reply": "2022-02-18T19:09:55.554497Z",
     "shell.execute_reply.started": "2022-02-18T19:09:55.528085Z"
    },
    "pycharm": {
     "name": "#%%\n"
    },
    "tags": []
   },
   "outputs": [],
   "source": [
    "# Sort by the rmsd-like tic\n",
    "\n",
    "active_states = count_model.connected_sets()[0]\n",
    "cluster_sort_order = np.argsort(clustering.cluster_centers[active_states, tic_rmsd])\n",
    "\n",
    "intermediate = np.setdiff1d(active_states, np.concatenate([folded, unfolded]))"
   ]
  },
  {
   "cell_type": "code",
   "execution_count": 319,
   "metadata": {
    "execution": {
     "iopub.execute_input": "2022-02-18T19:35:01.794335Z",
     "iopub.status.busy": "2022-02-18T19:35:01.794082Z",
     "iopub.status.idle": "2022-02-18T19:35:01.799068Z",
     "shell.execute_reply": "2022-02-18T19:35:01.798120Z",
     "shell.execute_reply.started": "2022-02-18T19:35:01.794312Z"
    },
    "tags": []
   },
   "outputs": [
    {
     "data": {
      "text/plain": [
       "(458, 102, 460)"
      ]
     },
     "execution_count": 319,
     "metadata": {},
     "output_type": "execute_result"
    }
   ],
   "source": [
    "len(unfolded), len(folded), len(intermediate)"
   ]
  },
  {
   "cell_type": "markdown",
   "metadata": {
    "pycharm": {
     "name": "#%% md\n"
    }
   },
   "source": [
    "### Visualize results of MSM\n",
    "\n",
    "Note that in the plot below, the histogram may lie directly below the stationary distribution."
   ]
  },
  {
   "cell_type": "code",
   "execution_count": 204,
   "metadata": {
    "execution": {
     "iopub.execute_input": "2022-02-18T19:09:55.470153Z",
     "iopub.status.busy": "2022-02-18T19:09:55.469697Z",
     "iopub.status.idle": "2022-02-18T19:09:55.513794Z",
     "shell.execute_reply": "2022-02-18T19:09:55.513027Z",
     "shell.execute_reply.started": "2022-02-18T19:09:55.470134Z"
    },
    "pycharm": {
     "name": "#%%\n"
    },
    "tags": []
   },
   "outputs": [],
   "source": [
    "# Get the histogram in each bin from the full trajectory\n",
    "hist_bins, hist_counts = np.unique(discrete_trajectory, return_counts=True)\n",
    "hist_counts = hist_counts/sum(hist_counts)"
   ]
  },
  {
   "cell_type": "code",
   "execution_count": 368,
   "metadata": {
    "execution": {
     "iopub.execute_input": "2022-02-18T19:49:04.630178Z",
     "iopub.status.busy": "2022-02-18T19:49:04.629913Z",
     "iopub.status.idle": "2022-02-18T19:49:05.103298Z",
     "shell.execute_reply": "2022-02-18T19:49:05.102741Z",
     "shell.execute_reply.started": "2022-02-18T19:49:04.630134Z"
    },
    "pycharm": {
     "name": "#%%\n"
    },
    "tags": []
   },
   "outputs": [
    {
     "data": {
      "image/png": "[encoded data removed]",
      "text/plain": [
       "<Figure size 864x576 with 2 Axes>"
      ]
     },
     "metadata": {
      "needs_background": "light"
     },
     "output_type": "display_data"
    }
   ],
   "source": [
    "# Plot the RMSDs and discrete trajectory\n",
    "fig, tic_ax = plt.subplots(1,1)\n",
    "# rmsd_ax = tic_ax.twinx()\n",
    "\n",
    "_subsample = 10\n",
    "\n",
    "# rmsd_ax.plot(rmsd, color='gray', label='RMSD')\n",
    "tic_ax.plot(projection[:, tic_rmsd][::_subsample], color='gray', label='tIC')\n",
    "tic_ax.set_ylabel(f'tIC {tic_rmsd}')\n",
    "\n",
    "# discrete_ax.plot(discrete_trajectory[::_subsample], color='k', label='Discrete')\n",
    "# discrete_ax.set_ylabel('State')\n",
    "\n",
    "tic_ax.set_xlabel('Time (ps)')\n",
    "\n",
    "stationary_ax = tic_ax.twiny()\n",
    "stationary_ax.plot(\n",
    "    msm.stationary_distribution[cluster_sort_order],\n",
    "    clustering.cluster_centers[cluster_sort_order, tic_rmsd],\n",
    "    color='red',\n",
    "    label='Stationary distribution'\n",
    ")\n",
    "stationary_ax.set_xlabel('Stationary Probability')\n",
    "\n",
    "stationary_ax.plot(\n",
    "    hist_counts[cluster_sort_order],\n",
    "    clustering.cluster_centers[hist_bins.astype(int)][cluster_sort_order, tic_rmsd].flatten(),\n",
    "    color='green',\n",
    "    linestyle='--',\n",
    "    label='Histogram',\n",
    "    zorder=-5\n",
    ")\n",
    "\n",
    "stationary_ax.axhline(unfolded_thresh, color='lime', linewidth=3, zorder=5)\n",
    "stationary_ax.axhline(folded_thresh, color='b', linewidth=3, zorder=5)\n",
    "\n",
    "unfolded_label_y = unfolded_thresh*1.5\n",
    "tic_ax.text(len(projection[::_subsample])*1.06, unfolded_label_y, \n",
    "            'Unfolded', color='green', fontsize=18)\n",
    "folded_label_y = folded_thresh*1.3\n",
    "tic_ax.text(len(projection[::_subsample])*1.06, folded_label_y, \n",
    "            'Folded', color='blue', fontsize=18)\n",
    "\n",
    "tic_ax.text(len(projection[::_subsample])*1.06, (unfolded_label_y + folded_label_y)/2, \n",
    "            'Intermediate', color='black', fontsize=18)\n",
    "\n",
    "fig.legend()\n",
    "fig.set_size_inches(12,8)\n",
    "fig.tight_layout()"
   ]
  },
  {
   "cell_type": "markdown",
   "metadata": {
    "pycharm": {
     "name": "#%% md\n"
    }
   },
   "source": [
    "### Plot potential and committor"
   ]
  },
  {
   "cell_type": "code",
   "execution_count": 371,
   "metadata": {
    "execution": {
     "iopub.execute_input": "2022-02-18T19:49:45.339742Z",
     "iopub.status.busy": "2022-02-18T19:49:45.339489Z",
     "iopub.status.idle": "2022-02-18T19:49:45.508952Z",
     "shell.execute_reply": "2022-02-18T19:49:45.507832Z",
     "shell.execute_reply.started": "2022-02-18T19:49:45.339718Z"
    },
    "pycharm": {
     "name": "#%%\n"
    },
    "tags": []
   },
   "outputs": [
    {
     "data": {
      "text/plain": [
       "Text(0, 0.5, '-$\\\\ln( P^{equil} )$')"
      ]
     },
     "execution_count": 371,
     "metadata": {},
     "output_type": "execute_result"
    },
    {
     "data": {
      "image/png": "[encoded data removed]",
      "text/plain": [
       "<Figure size 432x288 with 1 Axes>"
      ]
     },
     "metadata": {
      "needs_background": "light"
     },
     "output_type": "display_data"
    }
   ],
   "source": [
    "potential = -np.log(msm.stationary_distribution)\n",
    "\n",
    "plt.plot(\n",
    "    clustering.cluster_centers[cluster_sort_order, tic_rmsd],\n",
    "    potential[cluster_sort_order])\n",
    "\n",
    "plt.axvline(folded_thresh, color='b')\n",
    "plt.axvline(unfolded_thresh, color='lime')\n",
    "\n",
    "plt.xlabel('tIC')\n",
    "plt.ylabel('-$\\\\ln( P^{equil} )$')"
   ]
  },
  {
   "cell_type": "code",
   "execution_count": 377,
   "metadata": {
    "execution": {
     "iopub.execute_input": "2022-02-18T19:51:12.399281Z",
     "iopub.status.busy": "2022-02-18T19:51:12.399014Z",
     "iopub.status.idle": "2022-02-18T19:51:12.525190Z",
     "shell.execute_reply": "2022-02-18T19:51:12.524367Z",
     "shell.execute_reply.started": "2022-02-18T19:51:12.399255Z"
    },
    "tags": []
   },
   "outputs": [
    {
     "data": {
      "text/plain": [
       "Text(0.5, 0, 'Sorted state index')"
      ]
     },
     "execution_count": 377,
     "metadata": {},
     "output_type": "execute_result"
    },
    {
     "data": {
      "image/png": "[encoded data removed]",
      "text/plain": [
       "<Figure size 432x288 with 1 Axes>"
      ]
     },
     "metadata": {
      "needs_background": "light"
     },
     "output_type": "display_data"
    }
   ],
   "source": [
    "committor_sort = np.argsort(committors)\n",
    "\n",
    "plt.scatter(clustering.cluster_centers[committor_sort, tic_rmsd], committors[committor_sort])\n",
    "\n",
    "plt.ylabel('Committor to unfolded')\n",
    "plt.xlabel('tIC 0')"
   ]
  },
  {
   "cell_type": "markdown",
   "metadata": {
    "pycharm": {
     "name": "#%% md\n"
    }
   },
   "source": [
    "### Save the model"
   ]
  },
  {
   "cell_type": "code",
   "execution_count": 379,
   "metadata": {
    "collapsed": false,
    "execution": {
     "iopub.execute_input": "2022-02-18T19:58:48.781753Z",
     "iopub.status.busy": "2022-02-18T19:58:48.781401Z",
     "iopub.status.idle": "2022-02-18T19:58:48.825334Z",
     "shell.execute_reply": "2022-02-18T19:58:48.824280Z",
     "shell.execute_reply.started": "2022-02-18T19:58:48.781726Z"
    },
    "jupyter": {
     "outputs_hidden": false
    },
    "pycharm": {
     "name": "#%%\n"
    },
    "tags": []
   },
   "outputs": [],
   "source": [
    "mfpt_folding = msm.mfpt(unfolded.flatten(), folded.flatten())"
   ]
  },
  {
   "cell_type": "code",
   "execution_count": 380,
   "metadata": {
    "collapsed": false,
    "execution": {
     "iopub.execute_input": "2022-02-18T19:58:49.202621Z",
     "iopub.status.busy": "2022-02-18T19:58:49.202384Z",
     "iopub.status.idle": "2022-02-18T19:58:49.235503Z",
     "shell.execute_reply": "2022-02-18T19:58:49.234903Z",
     "shell.execute_reply.started": "2022-02-18T19:58:49.202597Z"
    },
    "jupyter": {
     "outputs_hidden": false
    },
    "pycharm": {
     "name": "#%%\n"
    },
    "tags": []
   },
   "outputs": [],
   "source": [
    "mfpt_unfolding = msm.mfpt(folded.flatten(), unfolded.flatten())"
   ]
  },
  {
   "cell_type": "code",
   "execution_count": 381,
   "metadata": {
    "execution": {
     "iopub.execute_input": "2022-02-18T19:58:49.501152Z",
     "iopub.status.busy": "2022-02-18T19:58:49.500855Z",
     "iopub.status.idle": "2022-02-18T19:58:49.511017Z",
     "shell.execute_reply": "2022-02-18T19:58:49.509730Z",
     "shell.execute_reply.started": "2022-02-18T19:58:49.501123Z"
    },
    "tags": []
   },
   "outputs": [
    {
     "data": {
      "text/plain": [
       "(51138.860355009136, 11599.885511622675)"
      ]
     },
     "execution_count": 381,
     "metadata": {},
     "output_type": "execute_result"
    }
   ],
   "source": [
    "mfpt_folding, mfpt_unfolding # Folding time, in units of the input trajectory"
   ]
  },
  {
   "cell_type": "code",
   "execution_count": 382,
   "metadata": {
    "execution": {
     "iopub.execute_input": "2022-02-18T19:58:50.211771Z",
     "iopub.status.busy": "2022-02-18T19:58:50.211492Z",
     "iopub.status.idle": "2022-02-18T19:58:50.217615Z",
     "shell.execute_reply": "2022-02-18T19:58:50.217126Z",
     "shell.execute_reply.started": "2022-02-18T19:58:50.211747Z"
    },
    "tags": []
   },
   "outputs": [
    {
     "data": {
      "text/plain": [
       "200"
      ]
     },
     "execution_count": 382,
     "metadata": {},
     "output_type": "execute_result"
    }
   ],
   "source": [
    "universe.trajectory.dt"
   ]
  },
  {
   "cell_type": "code",
   "execution_count": 383,
   "metadata": {
    "collapsed": false,
    "execution": {
     "iopub.execute_input": "2022-02-18T19:58:51.208928Z",
     "iopub.status.busy": "2022-02-18T19:58:51.208675Z",
     "iopub.status.idle": "2022-02-18T19:58:51.215321Z",
     "shell.execute_reply": "2022-02-18T19:58:51.214737Z",
     "shell.execute_reply.started": "2022-02-18T19:58:51.208905Z"
    },
    "jupyter": {
     "outputs_hidden": false
    },
    "pycharm": {
     "name": "#%%\n"
    },
    "tags": []
   },
   "outputs": [
    {
     "name": "stdout",
     "output_type": "stream",
     "text": [
      "Folding time: 10227.77 ns\n",
      "Folding steps: 51139 steps\n",
      "\n",
      "Unfolding time: 2319.98 ns\n",
      "Unfolding steps: 11600 steps\n"
     ]
    }
   ],
   "source": [
    "mfpt_folding, mfpt_unfolding\n",
    "\n",
    "print(f\"Folding time: {mfpt_folding * universe.trajectory.dt * stride / 1000:.2f} ns\")\n",
    "print(f\"Folding steps: {mfpt_folding :.0f} steps\\n\")\n",
    "\n",
    "print(f\"Unfolding time: {mfpt_unfolding * universe.trajectory.dt * stride  / 1000:.2f} ns\")\n",
    "print(f\"Unfolding steps: {mfpt_unfolding :.0f} steps\")\n",
    "# ~500 steps @ 200ps/step = 0.1µs\n",
    "# These MFPTs seem super high?"
   ]
  },
  {
   "cell_type": "code",
   "execution_count": 384,
   "metadata": {
    "collapsed": false,
    "execution": {
     "iopub.execute_input": "2022-02-18T19:58:52.435596Z",
     "iopub.status.busy": "2022-02-18T19:58:52.435368Z",
     "iopub.status.idle": "2022-02-18T19:58:52.439874Z",
     "shell.execute_reply": "2022-02-18T19:58:52.439137Z",
     "shell.execute_reply.started": "2022-02-18T19:58:52.435570Z"
    },
    "jupyter": {
     "outputs_hidden": false
    },
    "pycharm": {
     "name": "#%%\n"
    },
    "tags": []
   },
   "outputs": [
    {
     "data": {
      "text/plain": [
       "10.4"
      ]
     },
     "execution_count": 384,
     "metadata": {},
     "output_type": "execute_result"
    }
   ],
   "source": [
    "208/20 # Ballpark µs/transition"
   ]
  },
  {
   "cell_type": "code",
   "execution_count": 385,
   "metadata": {
    "execution": {
     "iopub.execute_input": "2022-02-18T19:58:55.885434Z",
     "iopub.status.busy": "2022-02-18T19:58:55.885202Z",
     "iopub.status.idle": "2022-02-18T19:58:55.953403Z",
     "shell.execute_reply": "2022-02-18T19:58:55.952920Z",
     "shell.execute_reply.started": "2022-02-18T19:58:55.885412Z"
    },
    "pycharm": {
     "name": "#%%\n"
    },
    "tags": []
   },
   "outputs": [],
   "source": [
    "np.savez('transition_matrix_ernesto', transition_matrix=msm.transition_matrix,\n",
    "         states_unfolded = unfolded,\n",
    "         states_folded = folded,\n",
    "         cluster_centers = clustering.cluster_centers,\n",
    "         mfpt_folding = mfpt_folding,\n",
    "         mfpt_unfolding = mfpt_unfolding,\n",
    "         msm=msm\n",
    "         )"
   ]
  },
  {
   "cell_type": "markdown",
   "metadata": {
    "jupyter": {
     "outputs_hidden": false
    },
    "pycharm": {
     "name": "#%%\n"
    }
   },
   "source": [
    "# Coarse-graining\n",
    "\n",
    "I want to come up with a physically meaningful coarse-graining scheme here. That could look something like:\n",
    "- Binning along RMSD\n",
    "- Something hierarchical\n",
    "\n",
    "I think for now binning along RMSD is probably an easy way to do it.\n",
    "\n",
    "Committor is probably meaningful too, but it would require knowing the committors, which is the point of building the model. I.e., it wouldn't translate well to analyzing simulated data, it's cheating."
   ]
  },
  {
   "cell_type": "markdown",
   "metadata": {},
   "source": [
    "## Coarse-graining in RMSD\n",
    "\n",
    "The idea here is that I can identify a set of coarse states by clustering on the RMSDs of the fine states.\n",
    "\n",
    "To do this, I need to:\n",
    "1. Get structures associated with each tIC cluster\n",
    "2. Get average RMSD of those structures, to assign each fine cluster an RMSD value\n",
    "3. Group those by clustering on them"
   ]
  },
  {
   "cell_type": "code",
   "execution_count": 219,
   "metadata": {
    "execution": {
     "iopub.execute_input": "2022-02-18T19:09:57.008658Z",
     "iopub.status.busy": "2022-02-18T19:09:57.008067Z",
     "iopub.status.idle": "2022-02-18T19:09:57.016571Z",
     "shell.execute_reply": "2022-02-18T19:09:57.015242Z",
     "shell.execute_reply.started": "2022-02-18T19:09:57.008577Z"
    },
    "tags": []
   },
   "outputs": [
    {
     "data": {
      "text/plain": [
       "((1044000,), (1044000,))"
      ]
     },
     "execution_count": 219,
     "metadata": {},
     "output_type": "execute_result"
    }
   ],
   "source": [
    "rmsd[::rmsd_stride].shape, discrete_trajectory.shape"
   ]
  },
  {
   "cell_type": "markdown",
   "metadata": {},
   "source": [
    "### Compute average fine-state RMSDs"
   ]
  },
  {
   "cell_type": "code",
   "execution_count": 220,
   "metadata": {
    "execution": {
     "iopub.execute_input": "2022-02-18T19:09:57.018611Z",
     "iopub.status.busy": "2022-02-18T19:09:57.018352Z",
     "iopub.status.idle": "2022-02-18T19:09:57.536380Z",
     "shell.execute_reply": "2022-02-18T19:09:57.535713Z",
     "shell.execute_reply.started": "2022-02-18T19:09:57.018585Z"
    },
    "tags": []
   },
   "outputs": [],
   "source": [
    "n_states = msm.transition_matrix.shape[0]\n",
    "\n",
    "avg_state_rmsds = np.full(shape=n_states, fill_value=np.nan)\n",
    "\n",
    "for state in range(n_states):\n",
    "    \n",
    "    idxs_in_state = np.argwhere(discrete_trajectory == state).flatten()\n",
    "    \n",
    "    rmsds = rmsd[::rmsd_stride][idxs_in_state]\n",
    "    \n",
    "    avg_state_rmsds[state] = np.mean(rmsds)\n",
    "    \n",
    "rmsd_sort_order = np.argsort(avg_state_rmsds).flatten()"
   ]
  },
  {
   "cell_type": "code",
   "execution_count": 386,
   "metadata": {
    "execution": {
     "iopub.execute_input": "2022-02-18T19:59:34.206157Z",
     "iopub.status.busy": "2022-02-18T19:59:34.205886Z",
     "iopub.status.idle": "2022-02-18T19:59:34.477147Z",
     "shell.execute_reply": "2022-02-18T19:59:34.476472Z",
     "shell.execute_reply.started": "2022-02-18T19:59:34.206134Z"
    },
    "tags": []
   },
   "outputs": [
    {
     "data": {
      "text/plain": [
       "Text(0.5, 0, 'Average fine-state RMSD')"
      ]
     },
     "execution_count": 386,
     "metadata": {},
     "output_type": "execute_result"
    },
    {
     "data": {
      "image/png": "[encoded data removed]",
      "text/plain": [
       "<Figure size 432x288 with 1 Axes>"
      ]
     },
     "metadata": {
      "needs_background": "light"
     },
     "output_type": "display_data"
    }
   ],
   "source": [
    "plt.hist(avg_state_rmsds, bins=20)\n",
    "plt.xlabel('Average fine-state RMSD')"
   ]
  },
  {
   "cell_type": "code",
   "execution_count": 222,
   "metadata": {
    "execution": {
     "iopub.execute_input": "2022-02-18T19:09:57.665186Z",
     "iopub.status.busy": "2022-02-18T19:09:57.664630Z",
     "iopub.status.idle": "2022-02-18T19:09:57.834251Z",
     "shell.execute_reply": "2022-02-18T19:09:57.833528Z",
     "shell.execute_reply.started": "2022-02-18T19:09:57.665157Z"
    },
    "tags": []
   },
   "outputs": [
    {
     "data": {
      "text/plain": [
       "Text(0.5, 0, 'RMSD from folded structure')"
      ]
     },
     "execution_count": 222,
     "metadata": {},
     "output_type": "execute_result"
    },
    {
     "data": {
      "image/png": "[encoded data removed]",
      "text/plain": [
       "<Figure size 432x288 with 1 Axes>"
      ]
     },
     "metadata": {
      "needs_background": "light"
     },
     "output_type": "display_data"
    }
   ],
   "source": [
    "plt.plot(avg_state_rmsds, msm.committor_forward(folded, unfolded), '.')\n",
    "\n",
    "plt.ylabel('Committor to unfolded')\n",
    "plt.xlabel('RMSD from folded structure')"
   ]
  },
  {
   "cell_type": "code",
   "execution_count": 223,
   "metadata": {
    "collapsed": false,
    "execution": {
     "iopub.execute_input": "2022-02-18T19:09:57.837137Z",
     "iopub.status.busy": "2022-02-18T19:09:57.836100Z",
     "iopub.status.idle": "2022-02-18T19:09:58.000223Z",
     "shell.execute_reply": "2022-02-18T19:09:57.998549Z",
     "shell.execute_reply.started": "2022-02-18T19:09:57.837097Z"
    },
    "jupyter": {
     "outputs_hidden": false
    },
    "pycharm": {
     "name": "#%%\n"
    },
    "tags": []
   },
   "outputs": [
    {
     "data": {
      "text/plain": [
       "Text(0, 0.5, '-$\\\\ln( P^{equil} )$')"
      ]
     },
     "execution_count": 223,
     "metadata": {},
     "output_type": "execute_result"
    },
    {
     "data": {
      "image/png": "[encoded data removed]",
      "text/plain": [
       "<Figure size 432x288 with 1 Axes>"
      ]
     },
     "metadata": {
      "needs_background": "light"
     },
     "output_type": "display_data"
    }
   ],
   "source": [
    "potential = -np.log(msm.stationary_distribution)\n",
    "\n",
    "plt.plot(\n",
    "    avg_state_rmsds[rmsd_sort_order],\n",
    "    potential[rmsd_sort_order], '.')\n",
    "\n",
    "# plt.axvline(folded_thresh)\n",
    "# plt.axvline(unfolded_thresh)\n",
    "\n",
    "plt.xlabel('RMSD')\n",
    "plt.ylabel('-$\\\\ln( P^{equil} )$')"
   ]
  },
  {
   "cell_type": "markdown",
   "metadata": {},
   "source": [
    "#### Failed attempt at heatmap"
   ]
  },
  {
   "cell_type": "code",
   "execution_count": 224,
   "metadata": {
    "execution": {
     "iopub.execute_input": "2022-02-18T19:09:58.001895Z",
     "iopub.status.busy": "2022-02-18T19:09:58.001604Z",
     "iopub.status.idle": "2022-02-18T19:09:58.032303Z",
     "shell.execute_reply": "2022-02-18T19:09:58.028446Z",
     "shell.execute_reply.started": "2022-02-18T19:09:58.001864Z"
    },
    "scrolled": true,
    "tags": []
   },
   "outputs": [
    {
     "data": {
      "text/plain": [
       "array([0.00129792, 0.0003362 , 0.00046645, ..., 0.00029312, 0.00029312,\n",
       "       0.00028737])"
      ]
     },
     "execution_count": 224,
     "metadata": {},
     "output_type": "execute_result"
    }
   ],
   "source": [
    "msm.stationary_distribution\n",
    "\n",
    "# Each state has a value in the stationary distribution, and a tIC 1 and tIC 2 value\n",
    "# So for each cluster, x/y are the tIC 1 / tIC 2, and z = stationary"
   ]
  },
  {
   "cell_type": "code",
   "execution_count": 225,
   "metadata": {
    "execution": {
     "iopub.execute_input": "2022-02-18T19:09:58.038273Z",
     "iopub.status.busy": "2022-02-18T19:09:58.037424Z",
     "iopub.status.idle": "2022-02-18T19:09:58.048489Z",
     "shell.execute_reply": "2022-02-18T19:09:58.047360Z",
     "shell.execute_reply.started": "2022-02-18T19:09:58.038232Z"
    },
    "tags": []
   },
   "outputs": [
    {
     "data": {
      "text/plain": [
       "(3, 1020)"
      ]
     },
     "execution_count": 225,
     "metadata": {},
     "output_type": "execute_result"
    }
   ],
   "source": [
    "potential_data = np.vstack([\n",
    "    msm.stationary_distribution,\n",
    "    clustering.cluster_centers[:,0],\n",
    "    clustering.cluster_centers[:,1],\n",
    "])\n",
    "potential_data.shape"
   ]
  },
  {
   "cell_type": "markdown",
   "metadata": {},
   "source": [
    "### Cluster on fine-state RMSDs\n",
    "\n",
    "For the intermediates, cluster into coarse-clusters on their average RMSDs.\n",
    "\n",
    "We will manually assign the folded/unfolded states into their own coarse states."
   ]
  },
  {
   "cell_type": "code",
   "execution_count": 226,
   "metadata": {
    "execution": {
     "iopub.execute_input": "2022-02-18T19:09:58.050576Z",
     "iopub.status.busy": "2022-02-18T19:09:58.050092Z",
     "iopub.status.idle": "2022-02-18T19:09:58.059041Z",
     "shell.execute_reply": "2022-02-18T19:09:58.058159Z",
     "shell.execute_reply.started": "2022-02-18T19:09:58.050544Z"
    },
    "tags": []
   },
   "outputs": [],
   "source": [
    "n_coarse_clusters = 20\n",
    "\n",
    "coarse_kmeans_estimator = KMeans(\n",
    "    n_clusters=n_coarse_clusters,\n",
    "    # init_strategy='uniform',\n",
    "    max_iter=1000,\n",
    "    fixed_seed=1337,\n",
    "    n_jobs=4,\n",
    "    progress=tqdm.tqdm\n",
    ")"
   ]
  },
  {
   "cell_type": "code",
   "execution_count": 227,
   "metadata": {
    "execution": {
     "iopub.execute_input": "2022-02-18T19:09:58.061555Z",
     "iopub.status.busy": "2022-02-18T19:09:58.061004Z",
     "iopub.status.idle": "2022-02-18T19:09:58.162801Z",
     "shell.execute_reply": "2022-02-18T19:09:58.161879Z",
     "shell.execute_reply.started": "2022-02-18T19:09:58.061527Z"
    },
    "tags": []
   },
   "outputs": [
    {
     "data": {
      "application/vnd.jupyter.widget-view+json": {
       "model_id": "6c92f85100484d5d8fed7253f3f48044",
       "version_major": 2,
       "version_minor": 0
      },
      "text/plain": [
       "  0%|          | 0/20 [00:00<?, ?it/s]"
      ]
     },
     "metadata": {},
     "output_type": "display_data"
    },
    {
     "data": {
      "application/vnd.jupyter.widget-view+json": {
       "model_id": "d0ce2612e30a44c3b83414ecef0e6016",
       "version_major": 2,
       "version_minor": 0
      },
      "text/plain": [
       "  0%|          | 0/1000 [00:00<?, ?it/s]"
      ]
     },
     "metadata": {},
     "output_type": "display_data"
    }
   ],
   "source": [
    "# This builds a model which maps an RMSD to a cluster\n",
    "\n",
    "coarse_clustering = coarse_kmeans_estimator.fit_fetch(avg_state_rmsds[intermediate])"
   ]
  },
  {
   "cell_type": "code",
   "execution_count": 228,
   "metadata": {
    "execution": {
     "iopub.execute_input": "2022-02-18T19:09:58.165109Z",
     "iopub.status.busy": "2022-02-18T19:09:58.164582Z",
     "iopub.status.idle": "2022-02-18T19:09:58.170092Z",
     "shell.execute_reply": "2022-02-18T19:09:58.169169Z",
     "shell.execute_reply.started": "2022-02-18T19:09:58.165071Z"
    },
    "tags": []
   },
   "outputs": [],
   "source": [
    "# Now we assign clusters to all the state RMSDs\n",
    "\n",
    "coarse_assignments = coarse_clustering.transform(avg_state_rmsds[intermediate])"
   ]
  },
  {
   "cell_type": "markdown",
   "metadata": {},
   "source": [
    "### Define coarse mapping"
   ]
  },
  {
   "cell_type": "code",
   "execution_count": 229,
   "metadata": {
    "execution": {
     "iopub.execute_input": "2022-02-18T19:09:58.172230Z",
     "iopub.status.busy": "2022-02-18T19:09:58.171671Z",
     "iopub.status.idle": "2022-02-18T19:09:58.180381Z",
     "shell.execute_reply": "2022-02-18T19:09:58.179423Z",
     "shell.execute_reply.started": "2022-02-18T19:09:58.172199Z"
    },
    "tags": []
   },
   "outputs": [],
   "source": [
    "# This defines a mapping from <intermediate state> -> <coarse state ID>\n",
    "coarse_mapping = {}\n",
    "\n",
    "for i, state in enumerate(intermediate):\n",
    "    \n",
    "    avg_state_rmsd = avg_state_rmsds[state]\n",
    "    coarse_state = coarse_assignments[i]\n",
    "    \n",
    "    # coarse_state = coarse_clustering.transform(np.array(avg_state_rmsd))[0]\n",
    "    \n",
    "    # +1 leaves [0] reserved for state A\n",
    "    coarse_mapping[state] = coarse_state + 1\n",
    "    \n",
    "for state in folded:\n",
    "    coarse_mapping[state] = 0\n",
    "    \n",
    "for state in unfolded:\n",
    "    coarse_mapping[state] = n_coarse_clusters+1"
   ]
  },
  {
   "cell_type": "markdown",
   "metadata": {},
   "source": [
    "#### Visualize the coarsening\n",
    "\n",
    "Plot the avg RMSD of each coarse-state, and the avg RMSD of each fine state, so you can see how the fine states fit into the coarse-states and compare to the actual trajectory.\n",
    "\n",
    "Note that all points above and below the cutoffs get assigned to a single folded or unfolded coarse-state, which is why the fine-states don't appear to span the full range. Clustering is not done for those (because it's not necessary), so they're not included in the list of cluster centers -- in other words, the folded/unfolded states are handled outside of the cluster-coarse-graining procedure."
   ]
  },
  {
   "cell_type": "code",
   "execution_count": 231,
   "metadata": {
    "execution": {
     "iopub.execute_input": "2022-02-18T19:09:58.241666Z",
     "iopub.status.busy": "2022-02-18T19:09:58.239112Z",
     "iopub.status.idle": "2022-02-18T19:09:58.678541Z",
     "shell.execute_reply": "2022-02-18T19:09:58.677972Z",
     "shell.execute_reply.started": "2022-02-18T19:09:58.241627Z"
    },
    "tags": []
   },
   "outputs": [
    {
     "data": {
      "image/png": "[encoded data removed]",
      "text/plain": [
       "<Figure size 864x288 with 2 Axes>"
      ]
     },
     "metadata": {
      "needs_background": "light"
     },
     "output_type": "display_data"
    }
   ],
   "source": [
    "fig, ax = plt.subplots(1, 2, gridspec_kw={'width_ratios': [1, 4]}, figsize=(12,4))\n",
    "\n",
    "ax[0].plot(\n",
    "    coarse_clustering.cluster_centers[coarse_assignments], \n",
    "    avg_state_rmsds[intermediate], \n",
    "    '.',\n",
    "    color='tab:green',)\n",
    "\n",
    "ax[1].plot(rmsd[::rmsd_stride], color='gray', label='RMSD')\n",
    "ax[1].set_xlabel('Steps')\n",
    "\n",
    "ax[0].set_ylim(ax[1].get_ylim())\n",
    "\n",
    "ax[0].set_ylabel('Avg rmsd in fine cluster')\n",
    "ax[0].set_xlabel('Coarse cluster rmsd')\n",
    "\n",
    "fig.tight_layout()"
   ]
  },
  {
   "cell_type": "code",
   "execution_count": 232,
   "metadata": {
    "execution": {
     "iopub.execute_input": "2022-02-18T19:09:58.681059Z",
     "iopub.status.busy": "2022-02-18T19:09:58.680697Z",
     "iopub.status.idle": "2022-02-18T19:09:58.686131Z",
     "shell.execute_reply": "2022-02-18T19:09:58.685196Z",
     "shell.execute_reply.started": "2022-02-18T19:09:58.681038Z"
    },
    "tags": []
   },
   "outputs": [
    {
     "data": {
      "text/plain": [
       "True"
      ]
     },
     "execution_count": 232,
     "metadata": {},
     "output_type": "execute_result"
    }
   ],
   "source": [
    "assert msm.reversible, \"MSM not reversible! Need to symmetrize it.\""
   ]
  },
  {
   "cell_type": "markdown",
   "metadata": {},
   "source": [
    "#### Save resulting transition matrix and coarse mapping"
   ]
  },
  {
   "cell_type": "code",
   "execution_count": 233,
   "metadata": {
    "execution": {
     "iopub.execute_input": "2022-02-18T19:09:58.687817Z",
     "iopub.status.busy": "2022-02-18T19:09:58.687516Z",
     "iopub.status.idle": "2022-02-18T19:09:58.709894Z",
     "shell.execute_reply": "2022-02-18T19:09:58.709060Z",
     "shell.execute_reply.started": "2022-02-18T19:09:58.687789Z"
    },
    "pycharm": {
     "name": "#%%\n"
    },
    "tags": []
   },
   "outputs": [],
   "source": [
    "np.savez(f'transition_matrix_nfine{len(msm.transition_matrix)}_ernesto', transition_matrix=msm.transition_matrix,\n",
    "         states_unfolded = unfolded,\n",
    "         states_folded = folded,\n",
    "         fine_clustering = clustering,\n",
    "         coarse_clustering = coarse_clustering,\n",
    "         mfpt_folding = mfpt_folding,\n",
    "         mfpt_unfolding = mfpt_unfolding,\n",
    "         coarse_mapping = coarse_mapping,\n",
    "         avg_state_rmsds = avg_state_rmsds,\n",
    "         )"
   ]
  },
  {
   "cell_type": "code",
   "execution_count": 234,
   "metadata": {
    "execution": {
     "iopub.execute_input": "2022-02-18T19:09:58.711325Z",
     "iopub.status.busy": "2022-02-18T19:09:58.710983Z",
     "iopub.status.idle": "2022-02-18T19:09:58.717270Z",
     "shell.execute_reply": "2022-02-18T19:09:58.716516Z",
     "shell.execute_reply.started": "2022-02-18T19:09:58.711302Z"
    },
    "tags": []
   },
   "outputs": [
    {
     "data": {
      "text/plain": [
       "(1020,)"
      ]
     },
     "execution_count": 234,
     "metadata": {},
     "output_type": "execute_result"
    }
   ],
   "source": [
    "avg_state_rmsds.shape"
   ]
  },
  {
   "cell_type": "code",
   "execution_count": 235,
   "metadata": {
    "execution": {
     "iopub.execute_input": "2022-02-18T19:09:58.718780Z",
     "iopub.status.busy": "2022-02-18T19:09:58.718441Z",
     "iopub.status.idle": "2022-02-18T19:09:58.748905Z",
     "shell.execute_reply": "2022-02-18T19:09:58.748229Z",
     "shell.execute_reply.started": "2022-02-18T19:09:58.718750Z"
    },
    "scrolled": true,
    "tags": []
   },
   "outputs": [
    {
     "data": {
      "text/plain": [
       "{22: 8,\n",
       " 38: 8,\n",
       " 44: 8,\n",
       " 62: 8,\n",
       " 66: 8,\n",
       " 78: 8,\n",
       " 83: 8,\n",
       " 85: 8,\n",
       " 88: 3,\n",
       " 93: 8,\n",
       " 96: 8,\n",
       " 98: 8,\n",
       " 99: 8,\n",
       " 100: 8,\n",
       " 103: 3,\n",
       " 106: 3,\n",
       " 108: 3,\n",
       " 111: 3,\n",
       " 113: 8,\n",
       " 114: 8,\n",
       " 115: 3,\n",
       " 116: 3,\n",
       " 117: 3,\n",
       " 118: 8,\n",
       " 119: 8,\n",
       " 121: 3,\n",
       " 123: 8,\n",
       " 125: 11,\n",
       " 126: 19,\n",
       " 127: 3,\n",
       " 128: 3,\n",
       " 129: 8,\n",
       " 131: 3,\n",
       " 132: 3,\n",
       " 133: 11,\n",
       " 135: 8,\n",
       " 136: 11,\n",
       " 137: 3,\n",
       " 138: 11,\n",
       " 139: 3,\n",
       " 140: 3,\n",
       " 142: 11,\n",
       " 143: 11,\n",
       " 144: 9,\n",
       " 145: 8,\n",
       " 146: 3,\n",
       " 147: 20,\n",
       " 148: 9,\n",
       " 149: 3,\n",
       " 150: 20,\n",
       " 151: 11,\n",
       " 152: 9,\n",
       " 153: 11,\n",
       " 154: 3,\n",
       " 155: 11,\n",
       " 156: 1,\n",
       " 157: 6,\n",
       " 158: 11,\n",
       " 159: 11,\n",
       " 160: 11,\n",
       " 161: 20,\n",
       " 162: 20,\n",
       " 163: 9,\n",
       " 164: 11,\n",
       " 165: 11,\n",
       " 166: 20,\n",
       " 167: 11,\n",
       " 168: 1,\n",
       " 169: 11,\n",
       " 170: 11,\n",
       " 172: 20,\n",
       " 173: 11,\n",
       " 174: 6,\n",
       " 175: 16,\n",
       " 176: 1,\n",
       " 177: 20,\n",
       " 178: 20,\n",
       " 179: 1,\n",
       " 180: 9,\n",
       " 181: 11,\n",
       " 182: 20,\n",
       " 183: 9,\n",
       " 184: 20,\n",
       " 185: 20,\n",
       " 186: 16,\n",
       " 187: 13,\n",
       " 188: 20,\n",
       " 189: 19,\n",
       " 190: 13,\n",
       " 191: 9,\n",
       " 192: 20,\n",
       " 193: 6,\n",
       " 194: 16,\n",
       " 195: 1,\n",
       " 196: 11,\n",
       " 197: 20,\n",
       " 198: 16,\n",
       " 199: 17,\n",
       " 200: 19,\n",
       " 201: 1,\n",
       " 202: 9,\n",
       " 203: 6,\n",
       " 204: 20,\n",
       " 205: 6,\n",
       " 206: 16,\n",
       " 207: 1,\n",
       " 208: 9,\n",
       " 209: 6,\n",
       " 210: 16,\n",
       " 211: 13,\n",
       " 212: 13,\n",
       " 213: 7,\n",
       " 214: 16,\n",
       " 215: 13,\n",
       " 216: 6,\n",
       " 217: 16,\n",
       " 218: 9,\n",
       " 219: 4,\n",
       " 220: 14,\n",
       " 221: 16,\n",
       " 222: 6,\n",
       " 223: 1,\n",
       " 224: 6,\n",
       " 225: 7,\n",
       " 226: 19,\n",
       " 227: 13,\n",
       " 228: 19,\n",
       " 229: 7,\n",
       " 230: 6,\n",
       " 231: 1,\n",
       " 232: 20,\n",
       " 233: 16,\n",
       " 234: 17,\n",
       " 235: 1,\n",
       " 236: 7,\n",
       " 237: 7,\n",
       " 238: 13,\n",
       " 239: 13,\n",
       " 240: 4,\n",
       " 241: 16,\n",
       " 242: 9,\n",
       " 243: 7,\n",
       " 244: 13,\n",
       " 245: 9,\n",
       " 246: 16,\n",
       " 247: 19,\n",
       " 248: 4,\n",
       " 249: 1,\n",
       " 250: 6,\n",
       " 251: 4,\n",
       " 252: 7,\n",
       " 253: 1,\n",
       " 254: 17,\n",
       " 255: 7,\n",
       " 256: 9,\n",
       " 257: 17,\n",
       " 259: 17,\n",
       " 260: 17,\n",
       " 261: 7,\n",
       " 262: 7,\n",
       " 263: 17,\n",
       " 264: 16,\n",
       " 266: 1,\n",
       " 268: 16,\n",
       " 269: 4,\n",
       " 270: 7,\n",
       " 271: 6,\n",
       " 272: 13,\n",
       " 273: 7,\n",
       " 274: 17,\n",
       " 275: 4,\n",
       " 276: 4,\n",
       " 277: 13,\n",
       " 278: 16,\n",
       " 279: 13,\n",
       " 280: 4,\n",
       " 281: 4,\n",
       " 283: 13,\n",
       " 284: 14,\n",
       " 285: 16,\n",
       " 287: 13,\n",
       " 288: 7,\n",
       " 289: 9,\n",
       " 290: 16,\n",
       " 291: 17,\n",
       " 292: 1,\n",
       " 293: 19,\n",
       " 294: 7,\n",
       " 295: 19,\n",
       " 296: 4,\n",
       " 297: 19,\n",
       " 298: 13,\n",
       " 299: 19,\n",
       " 300: 19,\n",
       " 303: 7,\n",
       " 304: 4,\n",
       " 307: 4,\n",
       " 308: 13,\n",
       " 309: 16,\n",
       " 310: 19,\n",
       " 311: 17,\n",
       " 312: 7,\n",
       " 313: 19,\n",
       " 314: 9,\n",
       " 315: 5,\n",
       " 316: 13,\n",
       " 317: 19,\n",
       " 318: 16,\n",
       " 319: 16,\n",
       " 320: 19,\n",
       " 322: 17,\n",
       " 323: 13,\n",
       " 324: 14,\n",
       " 325: 19,\n",
       " 329: 1,\n",
       " 330: 4,\n",
       " 331: 19,\n",
       " 333: 4,\n",
       " 334: 19,\n",
       " 335: 7,\n",
       " 339: 17,\n",
       " 341: 13,\n",
       " 342: 19,\n",
       " 343: 17,\n",
       " 345: 16,\n",
       " 346: 4,\n",
       " 349: 1,\n",
       " 350: 17,\n",
       " 351: 17,\n",
       " 353: 4,\n",
       " 354: 19,\n",
       " 355: 19,\n",
       " 356: 5,\n",
       " 358: 19,\n",
       " 359: 19,\n",
       " 360: 19,\n",
       " 361: 13,\n",
       " 362: 5,\n",
       " 364: 7,\n",
       " 365: 19,\n",
       " 367: 4,\n",
       " 371: 4,\n",
       " 372: 19,\n",
       " 373: 19,\n",
       " 375: 14,\n",
       " 376: 19,\n",
       " 377: 17,\n",
       " 382: 4,\n",
       " 385: 7,\n",
       " 386: 14,\n",
       " 388: 4,\n",
       " 389: 4,\n",
       " 391: 4,\n",
       " 393: 4,\n",
       " 394: 4,\n",
       " 396: 19,\n",
       " 398: 4,\n",
       " 400: 14,\n",
       " 401: 5,\n",
       " 402: 7,\n",
       " 403: 19,\n",
       " 406: 4,\n",
       " 408: 14,\n",
       " 410: 19,\n",
       " 411: 19,\n",
       " 412: 4,\n",
       " 413: 19,\n",
       " 418: 14,\n",
       " 422: 4,\n",
       " 423: 4,\n",
       " 424: 17,\n",
       " 425: 4,\n",
       " 427: 4,\n",
       " 429: 14,\n",
       " 432: 4,\n",
       " 433: 15,\n",
       " 434: 4,\n",
       " 438: 4,\n",
       " 442: 4,\n",
       " 444: 14,\n",
       " 445: 14,\n",
       " 450: 14,\n",
       " 451: 4,\n",
       " 453: 14,\n",
       " 455: 17,\n",
       " 457: 14,\n",
       " 458: 14,\n",
       " 460: 5,\n",
       " 463: 19,\n",
       " 465: 5,\n",
       " 466: 14,\n",
       " 467: 14,\n",
       " 468: 15,\n",
       " 474: 14,\n",
       " 479: 14,\n",
       " 480: 15,\n",
       " 482: 5,\n",
       " 488: 15,\n",
       " 491: 14,\n",
       " 492: 14,\n",
       " 494: 10,\n",
       " 499: 14,\n",
       " 500: 10,\n",
       " 505: 15,\n",
       " 509: 5,\n",
       " 510: 17,\n",
       " 513: 5,\n",
       " 516: 15,\n",
       " 518: 4,\n",
       " 519: 14,\n",
       " 522: 10,\n",
       " 524: 2,\n",
       " 526: 15,\n",
       " 527: 15,\n",
       " 529: 19,\n",
       " 530: 14,\n",
       " 531: 2,\n",
       " 538: 5,\n",
       " 539: 15,\n",
       " 540: 17,\n",
       " 547: 15,\n",
       " 548: 10,\n",
       " 549: 15,\n",
       " 550: 5,\n",
       " 551: 2,\n",
       " 552: 15,\n",
       " 554: 15,\n",
       " 555: 15,\n",
       " 560: 15,\n",
       " 564: 15,\n",
       " 565: 15,\n",
       " 567: 5,\n",
       " 570: 18,\n",
       " 571: 2,\n",
       " 572: 13,\n",
       " 576: 2,\n",
       " 577: 15,\n",
       " 578: 14,\n",
       " 580: 10,\n",
       " 582: 14,\n",
       " 584: 10,\n",
       " 586: 15,\n",
       " 587: 2,\n",
       " 590: 15,\n",
       " 594: 15,\n",
       " 595: 15,\n",
       " 597: 2,\n",
       " 600: 2,\n",
       " 604: 2,\n",
       " 607: 14,\n",
       " 608: 10,\n",
       " 610: 10,\n",
       " 611: 15,\n",
       " 612: 14,\n",
       " 618: 2,\n",
       " 620: 5,\n",
       " 626: 18,\n",
       " 628: 19,\n",
       " 632: 15,\n",
       " 635: 12,\n",
       " 636: 5,\n",
       " 637: 10,\n",
       " 639: 15,\n",
       " 640: 15,\n",
       " 644: 10,\n",
       " 645: 14,\n",
       " 647: 5,\n",
       " 648: 10,\n",
       " 652: 18,\n",
       " 653: 14,\n",
       " 656: 10,\n",
       " 657: 18,\n",
       " 662: 10,\n",
       " 663: 15,\n",
       " 664: 15,\n",
       " 665: 2,\n",
       " 666: 14,\n",
       " 669: 2,\n",
       " 670: 18,\n",
       " 671: 15,\n",
       " 676: 15,\n",
       " 682: 10,\n",
       " 684: 18,\n",
       " 688: 15,\n",
       " 689: 10,\n",
       " 694: 4,\n",
       " 695: 15,\n",
       " 697: 18,\n",
       " 699: 2,\n",
       " 701: 2,\n",
       " 702: 2,\n",
       " 704: 10,\n",
       " 707: 15,\n",
       " 713: 10,\n",
       " 714: 18,\n",
       " 716: 15,\n",
       " 720: 2,\n",
       " 724: 10,\n",
       " 725: 5,\n",
       " 727: 2,\n",
       " 735: 10,\n",
       " 736: 18,\n",
       " 739: 18,\n",
       " 740: 2,\n",
       " 742: 10,\n",
       " 743: 2,\n",
       " 747: 18,\n",
       " 751: 2,\n",
       " 753: 18,\n",
       " 758: 18,\n",
       " 764: 15,\n",
       " 765: 2,\n",
       " 766: 12,\n",
       " 769: 12,\n",
       " 772: 10,\n",
       " 777: 10,\n",
       " 781: 12,\n",
       " 785: 2,\n",
       " 788: 15,\n",
       " 792: 10,\n",
       " 797: 18,\n",
       " 799: 10,\n",
       " 802: 12,\n",
       " 806: 10,\n",
       " 808: 12,\n",
       " 810: 18,\n",
       " 812: 2,\n",
       " 814: 18,\n",
       " 818: 10,\n",
       " 823: 12,\n",
       " 828: 15,\n",
       " 831: 15,\n",
       " 833: 2,\n",
       " 840: 2,\n",
       " 847: 12,\n",
       " 848: 10,\n",
       " 851: 2,\n",
       " 853: 10,\n",
       " 866: 18,\n",
       " 871: 2,\n",
       " 872: 10,\n",
       " 873: 2,\n",
       " 876: 12,\n",
       " 882: 5,\n",
       " 888: 2,\n",
       " 889: 12,\n",
       " 893: 5,\n",
       " 896: 10,\n",
       " 900: 12,\n",
       " 905: 5,\n",
       " 912: 15,\n",
       " 927: 5,\n",
       " 946: 12,\n",
       " 947: 2,\n",
       " 952: 5,\n",
       " 970: 10,\n",
       " 973: 2,\n",
       " 995: 10,\n",
       " 1012: 15,\n",
       " 1016: 5,\n",
       " 0: 0,\n",
       " 1: 0,\n",
       " 2: 0,\n",
       " 3: 0,\n",
       " 4: 0,\n",
       " 5: 0,\n",
       " 6: 0,\n",
       " 7: 0,\n",
       " 8: 0,\n",
       " 9: 0,\n",
       " 10: 0,\n",
       " 11: 0,\n",
       " 12: 0,\n",
       " 13: 0,\n",
       " 14: 0,\n",
       " 15: 0,\n",
       " 16: 0,\n",
       " 17: 0,\n",
       " 18: 0,\n",
       " 19: 0,\n",
       " 20: 0,\n",
       " 21: 0,\n",
       " 23: 0,\n",
       " 24: 0,\n",
       " 25: 0,\n",
       " 26: 0,\n",
       " 27: 0,\n",
       " 28: 0,\n",
       " 29: 0,\n",
       " 30: 0,\n",
       " 31: 0,\n",
       " 32: 0,\n",
       " 33: 0,\n",
       " 34: 0,\n",
       " 35: 0,\n",
       " 36: 0,\n",
       " 37: 0,\n",
       " 39: 0,\n",
       " 40: 0,\n",
       " 41: 0,\n",
       " 42: 0,\n",
       " 43: 0,\n",
       " 45: 0,\n",
       " 46: 0,\n",
       " 47: 0,\n",
       " 48: 0,\n",
       " 49: 0,\n",
       " 50: 0,\n",
       " 51: 0,\n",
       " 52: 0,\n",
       " 53: 0,\n",
       " 54: 0,\n",
       " 55: 0,\n",
       " 56: 0,\n",
       " 57: 0,\n",
       " 58: 0,\n",
       " 59: 0,\n",
       " 60: 0,\n",
       " 61: 0,\n",
       " 63: 0,\n",
       " 64: 0,\n",
       " 65: 0,\n",
       " 67: 0,\n",
       " 68: 0,\n",
       " 69: 0,\n",
       " 70: 0,\n",
       " 71: 0,\n",
       " 72: 0,\n",
       " 73: 0,\n",
       " 74: 0,\n",
       " 75: 0,\n",
       " 76: 0,\n",
       " 77: 0,\n",
       " 79: 0,\n",
       " 80: 0,\n",
       " 81: 0,\n",
       " 82: 0,\n",
       " 84: 0,\n",
       " 86: 0,\n",
       " 87: 0,\n",
       " 89: 0,\n",
       " 90: 0,\n",
       " 91: 0,\n",
       " 92: 0,\n",
       " 94: 0,\n",
       " 95: 0,\n",
       " 97: 0,\n",
       " 101: 0,\n",
       " 102: 0,\n",
       " 104: 0,\n",
       " 105: 0,\n",
       " 107: 0,\n",
       " 109: 0,\n",
       " 110: 0,\n",
       " 112: 0,\n",
       " 120: 0,\n",
       " 122: 0,\n",
       " 124: 0,\n",
       " 130: 0,\n",
       " 134: 0,\n",
       " 141: 0,\n",
       " 171: 0,\n",
       " 258: 21,\n",
       " 265: 21,\n",
       " 267: 21,\n",
       " 282: 21,\n",
       " 286: 21,\n",
       " 301: 21,\n",
       " 302: 21,\n",
       " 305: 21,\n",
       " 306: 21,\n",
       " 321: 21,\n",
       " 326: 21,\n",
       " 327: 21,\n",
       " 328: 21,\n",
       " 332: 21,\n",
       " 336: 21,\n",
       " 337: 21,\n",
       " 338: 21,\n",
       " 340: 21,\n",
       " 344: 21,\n",
       " 347: 21,\n",
       " 348: 21,\n",
       " 352: 21,\n",
       " 357: 21,\n",
       " 363: 21,\n",
       " 366: 21,\n",
       " 368: 21,\n",
       " 369: 21,\n",
       " 370: 21,\n",
       " 374: 21,\n",
       " 378: 21,\n",
       " 379: 21,\n",
       " 380: 21,\n",
       " 381: 21,\n",
       " 383: 21,\n",
       " 384: 21,\n",
       " 387: 21,\n",
       " 390: 21,\n",
       " 392: 21,\n",
       " 395: 21,\n",
       " 397: 21,\n",
       " 399: 21,\n",
       " 404: 21,\n",
       " 405: 21,\n",
       " 407: 21,\n",
       " 409: 21,\n",
       " 414: 21,\n",
       " 415: 21,\n",
       " 416: 21,\n",
       " 417: 21,\n",
       " 419: 21,\n",
       " 420: 21,\n",
       " 421: 21,\n",
       " 426: 21,\n",
       " 428: 21,\n",
       " 430: 21,\n",
       " 431: 21,\n",
       " 435: 21,\n",
       " 436: 21,\n",
       " 437: 21,\n",
       " 439: 21,\n",
       " 440: 21,\n",
       " 441: 21,\n",
       " 443: 21,\n",
       " 446: 21,\n",
       " 447: 21,\n",
       " 448: 21,\n",
       " 449: 21,\n",
       " 452: 21,\n",
       " 454: 21,\n",
       " 456: 21,\n",
       " 459: 21,\n",
       " 461: 21,\n",
       " 462: 21,\n",
       " 464: 21,\n",
       " 469: 21,\n",
       " 470: 21,\n",
       " 471: 21,\n",
       " 472: 21,\n",
       " 473: 21,\n",
       " 475: 21,\n",
       " 476: 21,\n",
       " 477: 21,\n",
       " 478: 21,\n",
       " 481: 21,\n",
       " 483: 21,\n",
       " 484: 21,\n",
       " 485: 21,\n",
       " 486: 21,\n",
       " 487: 21,\n",
       " 489: 21,\n",
       " 490: 21,\n",
       " 493: 21,\n",
       " 495: 21,\n",
       " 496: 21,\n",
       " 497: 21,\n",
       " 498: 21,\n",
       " 501: 21,\n",
       " 502: 21,\n",
       " 503: 21,\n",
       " 504: 21,\n",
       " 506: 21,\n",
       " 507: 21,\n",
       " 508: 21,\n",
       " 511: 21,\n",
       " 512: 21,\n",
       " 514: 21,\n",
       " 515: 21,\n",
       " 517: 21,\n",
       " 520: 21,\n",
       " 521: 21,\n",
       " 523: 21,\n",
       " 525: 21,\n",
       " 528: 21,\n",
       " 532: 21,\n",
       " 533: 21,\n",
       " 534: 21,\n",
       " 535: 21,\n",
       " 536: 21,\n",
       " 537: 21,\n",
       " 541: 21,\n",
       " 542: 21,\n",
       " 543: 21,\n",
       " 544: 21,\n",
       " 545: 21,\n",
       " 546: 21,\n",
       " 553: 21,\n",
       " 556: 21,\n",
       " 557: 21,\n",
       " 558: 21,\n",
       " 559: 21,\n",
       " 561: 21,\n",
       " 562: 21,\n",
       " 563: 21,\n",
       " 566: 21,\n",
       " 568: 21,\n",
       " 569: 21,\n",
       " 573: 21,\n",
       " 574: 21,\n",
       " 575: 21,\n",
       " 579: 21,\n",
       " 581: 21,\n",
       " 583: 21,\n",
       " 585: 21,\n",
       " 588: 21,\n",
       " 589: 21,\n",
       " 591: 21,\n",
       " 592: 21,\n",
       " 593: 21,\n",
       " 596: 21,\n",
       " 598: 21,\n",
       " 599: 21,\n",
       " 601: 21,\n",
       " 602: 21,\n",
       " 603: 21,\n",
       " 605: 21,\n",
       " 606: 21,\n",
       " 609: 21,\n",
       " 613: 21,\n",
       " 614: 21,\n",
       " 615: 21,\n",
       " 616: 21,\n",
       " 617: 21,\n",
       " 619: 21,\n",
       " 621: 21,\n",
       " 622: 21,\n",
       " 623: 21,\n",
       " 624: 21,\n",
       " 625: 21,\n",
       " 627: 21,\n",
       " 629: 21,\n",
       " 630: 21,\n",
       " 631: 21,\n",
       " 633: 21,\n",
       " 634: 21,\n",
       " 638: 21,\n",
       " 641: 21,\n",
       " 642: 21,\n",
       " 643: 21,\n",
       " 646: 21,\n",
       " 649: 21,\n",
       " 650: 21,\n",
       " 651: 21,\n",
       " 654: 21,\n",
       " 655: 21,\n",
       " 658: 21,\n",
       " 659: 21,\n",
       " 660: 21,\n",
       " 661: 21,\n",
       " 667: 21,\n",
       " 668: 21,\n",
       " 672: 21,\n",
       " 673: 21,\n",
       " 674: 21,\n",
       " 675: 21,\n",
       " 677: 21,\n",
       " 678: 21,\n",
       " 679: 21,\n",
       " 680: 21,\n",
       " 681: 21,\n",
       " 683: 21,\n",
       " 685: 21,\n",
       " 686: 21,\n",
       " 687: 21,\n",
       " 690: 21,\n",
       " 691: 21,\n",
       " 692: 21,\n",
       " 693: 21,\n",
       " 696: 21,\n",
       " 698: 21,\n",
       " 700: 21,\n",
       " 703: 21,\n",
       " 705: 21,\n",
       " 706: 21,\n",
       " 708: 21,\n",
       " 709: 21,\n",
       " 710: 21,\n",
       " 711: 21,\n",
       " 712: 21,\n",
       " 715: 21,\n",
       " 717: 21,\n",
       " 718: 21,\n",
       " 719: 21,\n",
       " 721: 21,\n",
       " 722: 21,\n",
       " 723: 21,\n",
       " 726: 21,\n",
       " 728: 21,\n",
       " 729: 21,\n",
       " 730: 21,\n",
       " 731: 21,\n",
       " 732: 21,\n",
       " 733: 21,\n",
       " 734: 21,\n",
       " 737: 21,\n",
       " 738: 21,\n",
       " 741: 21,\n",
       " 744: 21,\n",
       " 745: 21,\n",
       " 746: 21,\n",
       " 748: 21,\n",
       " 749: 21,\n",
       " 750: 21,\n",
       " 752: 21,\n",
       " 754: 21,\n",
       " 755: 21,\n",
       " 756: 21,\n",
       " 757: 21,\n",
       " 759: 21,\n",
       " 760: 21,\n",
       " 761: 21,\n",
       " 762: 21,\n",
       " 763: 21,\n",
       " 767: 21,\n",
       " 768: 21,\n",
       " 770: 21,\n",
       " 771: 21,\n",
       " 773: 21,\n",
       " 774: 21,\n",
       " 775: 21,\n",
       " 776: 21,\n",
       " 778: 21,\n",
       " 779: 21,\n",
       " 780: 21,\n",
       " 782: 21,\n",
       " 783: 21,\n",
       " 784: 21,\n",
       " 786: 21,\n",
       " 787: 21,\n",
       " 789: 21,\n",
       " 790: 21,\n",
       " 791: 21,\n",
       " 793: 21,\n",
       " 794: 21,\n",
       " 795: 21,\n",
       " 796: 21,\n",
       " 798: 21,\n",
       " 800: 21,\n",
       " 801: 21,\n",
       " 803: 21,\n",
       " 804: 21,\n",
       " 805: 21,\n",
       " 807: 21,\n",
       " 809: 21,\n",
       " 811: 21,\n",
       " 813: 21,\n",
       " 815: 21,\n",
       " 816: 21,\n",
       " 817: 21,\n",
       " 819: 21,\n",
       " 820: 21,\n",
       " 821: 21,\n",
       " 822: 21,\n",
       " 824: 21,\n",
       " 825: 21,\n",
       " 826: 21,\n",
       " 827: 21,\n",
       " 829: 21,\n",
       " 830: 21,\n",
       " 832: 21,\n",
       " 834: 21,\n",
       " 835: 21,\n",
       " 836: 21,\n",
       " 837: 21,\n",
       " 838: 21,\n",
       " 839: 21,\n",
       " 841: 21,\n",
       " 842: 21,\n",
       " 843: 21,\n",
       " 844: 21,\n",
       " 845: 21,\n",
       " 846: 21,\n",
       " 849: 21,\n",
       " 850: 21,\n",
       " 852: 21,\n",
       " 854: 21,\n",
       " 855: 21,\n",
       " 856: 21,\n",
       " 857: 21,\n",
       " 858: 21,\n",
       " 859: 21,\n",
       " 860: 21,\n",
       " 861: 21,\n",
       " 862: 21,\n",
       " 863: 21,\n",
       " 864: 21,\n",
       " 865: 21,\n",
       " 867: 21,\n",
       " 868: 21,\n",
       " 869: 21,\n",
       " 870: 21,\n",
       " 874: 21,\n",
       " 875: 21,\n",
       " 877: 21,\n",
       " 878: 21,\n",
       " 879: 21,\n",
       " 880: 21,\n",
       " 881: 21,\n",
       " 883: 21,\n",
       " 884: 21,\n",
       " 885: 21,\n",
       " 886: 21,\n",
       " 887: 21,\n",
       " 890: 21,\n",
       " 891: 21,\n",
       " 892: 21,\n",
       " 894: 21,\n",
       " 895: 21,\n",
       " 897: 21,\n",
       " 898: 21,\n",
       " 899: 21,\n",
       " 901: 21,\n",
       " 902: 21,\n",
       " 903: 21,\n",
       " 904: 21,\n",
       " 906: 21,\n",
       " 907: 21,\n",
       " 908: 21,\n",
       " 909: 21,\n",
       " 910: 21,\n",
       " 911: 21,\n",
       " 913: 21,\n",
       " 914: 21,\n",
       " 915: 21,\n",
       " 916: 21,\n",
       " 917: 21,\n",
       " 918: 21,\n",
       " 919: 21,\n",
       " 920: 21,\n",
       " 921: 21,\n",
       " 922: 21,\n",
       " 923: 21,\n",
       " 924: 21,\n",
       " 925: 21,\n",
       " 926: 21,\n",
       " 928: 21,\n",
       " 929: 21,\n",
       " 930: 21,\n",
       " 931: 21,\n",
       " 932: 21,\n",
       " 933: 21,\n",
       " 934: 21,\n",
       " 935: 21,\n",
       " 936: 21,\n",
       " 937: 21,\n",
       " 938: 21,\n",
       " 939: 21,\n",
       " 940: 21,\n",
       " 941: 21,\n",
       " 942: 21,\n",
       " 943: 21,\n",
       " 944: 21,\n",
       " 945: 21,\n",
       " 948: 21,\n",
       " 949: 21,\n",
       " 950: 21,\n",
       " 951: 21,\n",
       " 953: 21,\n",
       " 954: 21,\n",
       " 955: 21,\n",
       " 956: 21,\n",
       " 957: 21,\n",
       " 958: 21,\n",
       " 959: 21,\n",
       " 960: 21,\n",
       " 961: 21,\n",
       " 962: 21,\n",
       " 963: 21,\n",
       " 964: 21,\n",
       " 965: 21,\n",
       " 966: 21,\n",
       " 967: 21,\n",
       " 968: 21,\n",
       " 969: 21,\n",
       " 971: 21,\n",
       " 972: 21,\n",
       " 974: 21,\n",
       " 975: 21,\n",
       " 976: 21,\n",
       " 977: 21,\n",
       " 978: 21,\n",
       " 979: 21,\n",
       " 980: 21,\n",
       " 981: 21,\n",
       " 982: 21,\n",
       " 983: 21,\n",
       " 984: 21,\n",
       " 985: 21,\n",
       " 986: 21,\n",
       " 987: 21,\n",
       " 988: 21,\n",
       " 989: 21,\n",
       " 990: 21,\n",
       " 991: 21,\n",
       " 992: 21,\n",
       " 993: 21,\n",
       " 994: 21,\n",
       " 996: 21,\n",
       " 997: 21,\n",
       " ...}"
      ]
     },
     "execution_count": 235,
     "metadata": {},
     "output_type": "execute_result"
    }
   ],
   "source": [
    "coarse_mapping"
   ]
  },
  {
   "cell_type": "markdown",
   "metadata": {},
   "source": [
    "### Make coarse-mapping convenience objects\n",
    "\n",
    "We started with `coarse_mapping`, a dictionary where the keys are all of the fine-states, and the values are the coarse-states that each fine-state belongs to.\n",
    "\n",
    "For convenience, we'll define a couple other things with this same information.\n",
    "\n",
    "`inv_map` is a dictionary mapping each coarse state to a list of the fine states within it\n",
    "\n",
    "`cg_map` is a list of length `n_coarse_states`. The `i`th element is a list of the fine-states in coarse state `i`."
   ]
  },
  {
   "cell_type": "code",
   "execution_count": 236,
   "metadata": {
    "execution": {
     "iopub.execute_input": "2022-02-18T19:09:58.750208Z",
     "iopub.status.busy": "2022-02-18T19:09:58.749789Z",
     "iopub.status.idle": "2022-02-18T19:09:58.755358Z",
     "shell.execute_reply": "2022-02-18T19:09:58.754312Z",
     "shell.execute_reply.started": "2022-02-18T19:09:58.750176Z"
    },
    "tags": []
   },
   "outputs": [],
   "source": [
    "inv_map = {}\n",
    "for k, v in coarse_mapping.items():\n",
    "    inv_map[v] = inv_map.get(v, []) + [k]"
   ]
  },
  {
   "cell_type": "code",
   "execution_count": 237,
   "metadata": {
    "execution": {
     "iopub.execute_input": "2022-02-18T19:09:58.757236Z",
     "iopub.status.busy": "2022-02-18T19:09:58.756944Z",
     "iopub.status.idle": "2022-02-18T19:09:58.761294Z",
     "shell.execute_reply": "2022-02-18T19:09:58.760183Z",
     "shell.execute_reply.started": "2022-02-18T19:09:58.757215Z"
    },
    "tags": []
   },
   "outputs": [],
   "source": [
    "cg_map = [[] for _ in inv_map.keys()]\n",
    "\n",
    "for k, v in inv_map.items():\n",
    "    cg_map[k] = v"
   ]
  },
  {
   "cell_type": "markdown",
   "metadata": {},
   "source": [
    "# Sample trajectory generation"
   ]
  },
  {
   "cell_type": "markdown",
   "metadata": {},
   "source": [
    "Now, we should be able to generate some trajectories from our Markov model.\n",
    "\n",
    "A couple notes:\n",
    "- Generated trajectories will have timestep equal to the lag time of the MSM. This is important when compute MFPTs etc\n",
    "- Generated trajectories are of course in the space of the fine-grained states, and will be coarse-grained after generation\n",
    "\n",
    "To sanity-check this procedure, I'll generate a large number of trajectories and then verify analyzing them gives me results consistent with the original Markov model."
   ]
  },
  {
   "cell_type": "markdown",
   "metadata": {},
   "source": [
    "## Generate fine trajectories"
   ]
  },
  {
   "cell_type": "code",
   "execution_count": 291,
   "metadata": {
    "execution": {
     "iopub.execute_input": "2022-02-18T19:15:32.573910Z",
     "iopub.status.busy": "2022-02-18T19:15:32.573628Z",
     "iopub.status.idle": "2022-02-18T19:16:00.266998Z",
     "shell.execute_reply": "2022-02-18T19:16:00.265923Z",
     "shell.execute_reply.started": "2022-02-18T19:15:32.573882Z"
    },
    "tags": []
   },
   "outputs": [],
   "source": [
    "n_trajectories = 50\n",
    "initial_state = rmsd_sort_order[-1]\n",
    "traj_seed = 1337\n",
    "original_trajectory_length=100000\n",
    "fine_transition_matrix = msm.transition_matrix\n",
    "\n",
    "# ! Start all in one point\n",
    "initial_points = np.full(n_trajectories, fill_value=initial_state)\n",
    "initial_points = np.ones(n_trajectories)\n",
    "initial_points[:] = initial_state\n",
    "\n",
    "rng = np.random.default_rng(traj_seed)\n",
    "# TODO: For large datasets, may not be able to hold this in memory\n",
    "probs = rng.random(size=(n_trajectories, original_trajectory_length))\n",
    "\n",
    "fine_trajectories = np.full(shape=(n_trajectories, original_trajectory_length), fill_value=-1, dtype=int)\n",
    "fine_trajectories[:, 0] = initial_points\n",
    "for _step in tqdm.tqdm(range(1, original_trajectory_length), desc='Generating trajectories'):\n",
    "    last_points = fine_trajectories[:, _step - 1]\n",
    "    next_step_probs = probs[:, _step]\n",
    "\n",
    "    transition_rows = fine_transition_matrix[last_points]\n",
    "    prob_sums = np.cumsum(transition_rows, axis=1)\n",
    "\n",
    "    # Using the probabilities, and the cumulative sums of the transition matrix rows, compute the next state you go to.\n",
    "    # If you look at one trajectory, this is just looking for the first point where the random number drawn is >= the\n",
    "    # cumulative probability.\n",
    "    next_states = np.argmax(\n",
    "        prob_sums - next_step_probs.reshape((n_trajectories, -1)) >= 0,\n",
    "        axis=1)\n",
    "\n",
    "    fine_trajectories[:, _step] = next_states"
   ]
  },
  {
   "cell_type": "markdown",
   "metadata": {},
   "source": [
    "## Coarsen trajectories"
   ]
  },
  {
   "cell_type": "code",
   "execution_count": 291,
   "metadata": {
    "execution": {
     "iopub.execute_input": "2022-02-18T19:15:32.573910Z",
     "iopub.status.busy": "2022-02-18T19:15:32.573628Z",
     "iopub.status.idle": "2022-02-18T19:16:00.266998Z",
     "shell.execute_reply": "2022-02-18T19:16:00.265923Z",
     "shell.execute_reply.started": "2022-02-18T19:15:32.573882Z"
    },
    "tags": []
   },
   "outputs": [
    {
     "data": {
      "application/vnd.jupyter.widget-view+json": {
       "model_id": "11eefe29b9ee4fb9bfed4c674eb47bf9",
       "version_major": 2,
       "version_minor": 0
      },
      "text/plain": [
       "Generating trajectories:   0%|          | 0/99999 [00:00<?, ?it/s]"
      ]
     },
     "metadata": {},
     "output_type": "display_data"
    }
   ],
   "source": [
    "# Map each fine state to its coarse state, just the inverse of cg_map\n",
    "fg_map = {y: i for (i, x) in enumerate(cg_map) for y in x}\n",
    "fine_to_coarse = np.vectorize(lambda x: fg_map[x])\n",
    "coarse_trajectories = fine_to_coarse(fine_trajectories)"
   ]
  },
  {
   "cell_type": "markdown",
   "metadata": {},
   "source": [
    "## Compute average coarse-state RMSD"
   ]
  },
  {
   "cell_type": "code",
   "execution_count": 387,
   "metadata": {
    "execution": {
     "iopub.execute_input": "2022-02-18T20:05:17.012190Z",
     "iopub.status.busy": "2022-02-18T20:05:17.011926Z",
     "iopub.status.idle": "2022-02-18T20:05:17.032406Z",
     "shell.execute_reply": "2022-02-18T20:05:17.031743Z",
     "shell.execute_reply.started": "2022-02-18T20:05:17.012167Z"
    },
    "tags": []
   },
   "outputs": [],
   "source": [
    "avg_folded_rmsd = avg_state_rmsds[cg_map[0]].mean()\n",
    "avg_unfolded_rmsd = avg_state_rmsds[cg_map[-1]].mean()\n",
    "\n",
    "avg_coarse_rmsd = np.concatenate([\n",
    "    [avg_folded_rmsd],\n",
    "    coarse_clustering.cluster_centers.flatten(),\n",
    "    [avg_unfolded_rmsd]\n",
    "])"
   ]
  },
  {
   "cell_type": "markdown",
   "metadata": {},
   "source": [
    "## Plot sample trajectories\n",
    "\n",
    "Plot a couple trajectories in both the fine- and coarse-grained spaces.\n",
    "\n",
    "Here, the important thing is that you should be able to see the transitions in/out of the folded/unfolded states in both. Thew intermediate can look messy, but folded/unfolded should be well defined.\n",
    "\n",
    "Note that here, we're mapping back to average RMSD on the y-axis."
   ]
  },
  {
   "cell_type": "code",
   "execution_count": 317,
   "metadata": {
    "execution": {
     "iopub.execute_input": "2022-02-18T19:21:30.974539Z",
     "iopub.status.busy": "2022-02-18T19:21:30.974201Z",
     "iopub.status.idle": "2022-02-18T19:21:31.282548Z",
     "shell.execute_reply": "2022-02-18T19:21:31.281890Z",
     "shell.execute_reply.started": "2022-02-18T19:21:30.974509Z"
    },
    "tags": []
   },
   "outputs": [
    {
     "data": {
      "image/png": "[encoded data removed]",
      "text/plain": [
       "<Figure size 900x300 with 2 Axes>"
      ]
     },
     "metadata": {
      "needs_background": "light"
     },
     "output_type": "display_data"
    }
   ],
   "source": [
    "fig, ax  = plt.subplots(1, 2, figsize=(6,2))\n",
    "rmsd_ax = ax[0]\n",
    "# fine_ax = ax[1]\n",
    "coarse_ax = ax[1]\n",
    "_subsample = 10\n",
    "latest_point = 5000\n",
    "for trajectory in fine_trajectories[:2]:\n",
    "    \n",
    "    rmsd_trajectory = [avg_state_rmsds[x] for x in trajectory]\n",
    "    rmsd_ax.plot(rmsd_trajectory[:latest_point:_subsample])\n",
    "    \n",
    "    # fine_ax.plot(trajectory[::_subsample])\n",
    "    \n",
    "    coarse_traj = fine_to_coarse(trajectory)\n",
    "    coarse_rmsd_traj = [avg_coarse_rmsd[x] for x in coarse_traj]\n",
    "    coarse_ax.plot(coarse_rmsd_traj[:latest_point:_subsample])\n",
    "    \n",
    "rmsd_ax.set_ylabel('Fine state RMSD')\n",
    "# fine_ax.set_ylabel('Fine state index')\n",
    "coarse_ax.set_ylabel('Coarse State RMSD')\n",
    "\n",
    "# plt.ylim([0, 15])\n",
    "\n",
    "fig.tight_layout()\n",
    "fig.set_dpi(150)"
   ]
  },
  {
   "cell_type": "markdown",
   "metadata": {},
   "source": [
    "## Sanity checks\n",
    "\n",
    "Let's make sure that analyzing these trajectories gives back results consistent with the Markov model we used to generate them."
   ]
  },
  {
   "cell_type": "code",
   "execution_count": 300,
   "metadata": {
    "execution": {
     "iopub.execute_input": "2022-02-18T19:16:30.401828Z",
     "iopub.status.busy": "2022-02-18T19:16:30.401538Z",
     "iopub.status.idle": "2022-02-18T19:16:30.956315Z",
     "shell.execute_reply": "2022-02-18T19:16:30.955536Z",
     "shell.execute_reply.started": "2022-02-18T19:16:30.401776Z"
    },
    "tags": []
   },
   "outputs": [
    {
     "name": "stdout",
     "output_type": "stream",
     "text": [
      "50\n"
     ]
    }
   ],
   "source": [
    "lag = msm_lag_steps\n",
    "print(msm_lag_steps)\n",
    "check_count_model = TransitionCountEstimator(lag, 'sliding').fit_fetch(fine_trajectories)\n",
    "check_msm = MaximumLikelihoodMSM().fit_fetch(check_count_model.submodel_largest())"
   ]
  },
  {
   "cell_type": "markdown",
   "metadata": {},
   "source": [
    "It's possible the active set of the MSM built from the generated trajs is smaller than the full set of states.\n",
    "\n",
    "That's all well and good as far as the eventual analysis, but for sanity checks, go hard on the sampling and make sure all states are represented."
   ]
  },
  {
   "cell_type": "code",
   "execution_count": 392,
   "metadata": {
    "execution": {
     "iopub.execute_input": "2022-02-18T20:09:00.840158Z",
     "iopub.status.busy": "2022-02-18T20:09:00.839900Z",
     "iopub.status.idle": "2022-02-18T20:09:00.845697Z",
     "shell.execute_reply": "2022-02-18T20:09:00.844810Z",
     "shell.execute_reply.started": "2022-02-18T20:09:00.840135Z"
    },
    "tags": []
   },
   "outputs": [],
   "source": [
    "assert check_msm.n_states == msm.n_states"
   ]
  },
  {
   "cell_type": "markdown",
   "metadata": {},
   "source": [
    "### Compare stationary distributions\n",
    "\n",
    "This should basically be a diagonal line of slope 1, or else they're giving different stationary distributions."
   ]
  },
  {
   "cell_type": "code",
   "execution_count": 393,
   "metadata": {
    "execution": {
     "iopub.execute_input": "2022-02-18T20:09:02.140396Z",
     "iopub.status.busy": "2022-02-18T20:09:02.140059Z",
     "iopub.status.idle": "2022-02-18T20:09:02.294977Z",
     "shell.execute_reply": "2022-02-18T20:09:02.294123Z",
     "shell.execute_reply.started": "2022-02-18T20:09:02.140363Z"
    },
    "tags": []
   },
   "outputs": [
    {
     "data": {
      "text/plain": [
       "<matplotlib.collections.PathCollection at 0x1643e6040>"
      ]
     },
     "execution_count": 393,
     "metadata": {},
     "output_type": "execute_result"
    },
    {
     "data": {
      "image/png": "[encoded data removed]",
      "text/plain": [
       "<Figure size 432x288 with 1 Axes>"
      ]
     },
     "metadata": {
      "needs_background": "light"
     },
     "output_type": "display_data"
    }
   ],
   "source": [
    "plt.scatter(check_msm.stationary_distribution, msm.stationary_distribution)"
   ]
  },
  {
   "cell_type": "markdown",
   "metadata": {},
   "source": [
    "### Compare MFPTs"
   ]
  },
  {
   "cell_type": "code",
   "execution_count": 304,
   "metadata": {
    "collapsed": false,
    "execution": {
     "iopub.execute_input": "2022-02-18T19:16:33.959350Z",
     "iopub.status.busy": "2022-02-18T19:16:33.959094Z",
     "iopub.status.idle": "2022-02-18T19:16:33.994680Z",
     "shell.execute_reply": "2022-02-18T19:16:33.993900Z",
     "shell.execute_reply.started": "2022-02-18T19:16:33.959325Z"
    },
    "jupyter": {
     "outputs_hidden": false
    },
    "pycharm": {
     "name": "#%%\n"
    },
    "tags": []
   },
   "outputs": [],
   "source": [
    "# Remember, trajectories I generate from the MSM are in units of the MSM lag time\n",
    "check_mfpt_folding = check_msm.mfpt(unfolded.flatten(), folded.flatten()) * msm_lag_steps"
   ]
  },
  {
   "cell_type": "code",
   "execution_count": 305,
   "metadata": {
    "collapsed": false,
    "execution": {
     "iopub.execute_input": "2022-02-18T19:16:34.257928Z",
     "iopub.status.busy": "2022-02-18T19:16:34.257669Z",
     "iopub.status.idle": "2022-02-18T19:16:34.290555Z",
     "shell.execute_reply": "2022-02-18T19:16:34.289963Z",
     "shell.execute_reply.started": "2022-02-18T19:16:34.257904Z"
    },
    "jupyter": {
     "outputs_hidden": false
    },
    "pycharm": {
     "name": "#%%\n"
    },
    "tags": []
   },
   "outputs": [],
   "source": [
    "check_mfpt_unfolding = check_msm.mfpt(folded.flatten(), unfolded.flatten()) * msm_lag_steps"
   ]
  },
  {
   "cell_type": "code",
   "execution_count": 306,
   "metadata": {
    "execution": {
     "iopub.execute_input": "2022-02-18T19:16:34.512766Z",
     "iopub.status.busy": "2022-02-18T19:16:34.512532Z",
     "iopub.status.idle": "2022-02-18T19:16:34.517758Z",
     "shell.execute_reply": "2022-02-18T19:16:34.517074Z",
     "shell.execute_reply.started": "2022-02-18T19:16:34.512743Z"
    },
    "tags": []
   },
   "outputs": [
    {
     "data": {
      "text/plain": [
       "(51138.860355009136, 11599.885511622675)"
      ]
     },
     "execution_count": 306,
     "metadata": {},
     "output_type": "execute_result"
    }
   ],
   "source": [
    "mfpt_folding, mfpt_unfolding # Folding time, in units of the input trajectory"
   ]
  },
  {
   "cell_type": "code",
   "execution_count": 307,
   "metadata": {
    "execution": {
     "iopub.execute_input": "2022-02-18T19:16:35.395684Z",
     "iopub.status.busy": "2022-02-18T19:16:35.395422Z",
     "iopub.status.idle": "2022-02-18T19:16:35.401411Z",
     "shell.execute_reply": "2022-02-18T19:16:35.400662Z",
     "shell.execute_reply.started": "2022-02-18T19:16:35.395661Z"
    },
    "tags": []
   },
   "outputs": [
    {
     "data": {
      "text/plain": [
       "(62198.15661220461, 15585.394892416833)"
      ]
     },
     "execution_count": 307,
     "metadata": {},
     "output_type": "execute_result"
    }
   ],
   "source": [
    "check_mfpt_folding, check_mfpt_unfolding # Folding time, in units of the input trajectory"
   ]
  },
  {
   "cell_type": "code",
   "execution_count": 396,
   "metadata": {
    "collapsed": false,
    "execution": {
     "iopub.execute_input": "2022-02-18T20:10:16.117760Z",
     "iopub.status.busy": "2022-02-18T20:10:16.117526Z",
     "iopub.status.idle": "2022-02-18T20:10:16.123458Z",
     "shell.execute_reply": "2022-02-18T20:10:16.122411Z",
     "shell.execute_reply.started": "2022-02-18T20:10:16.117738Z"
    },
    "jupyter": {
     "outputs_hidden": false
    },
    "pycharm": {
     "name": "#%%\n"
    },
    "tags": []
   },
   "outputs": [
    {
     "name": "stdout",
     "output_type": "stream",
     "text": [
      "--- Original MSM ---\n",
      "Folding time: \t10227.77 ns\n",
      "Folding steps: \t51139 steps\n",
      "\n",
      "Unfolding time: \t2319.98 ns\n",
      "Unfolding steps: \t11600 steps\n",
      "\n",
      "--- MSM from generated trajectories ---\n",
      "Folding time: \t12439.63 ns\n",
      "Folding steps: \t62198 steps\n",
      "\n",
      "Unfolding time: \t3117.08 ns\n",
      "Unfolding steps: \t15585 steps\n"
     ]
    }
   ],
   "source": [
    "# OG MSM\n",
    "print(\"--- Original MSM ---\")\n",
    "print(f\"Folding time: \\t{mfpt_folding * universe.trajectory.dt * stride / 1000:.2f} ns\")\n",
    "print(f\"Folding steps: \\t{mfpt_folding :.0f} steps\\n\")\n",
    "\n",
    "print(f\"Unfolding time: \\t{mfpt_unfolding * universe.trajectory.dt * stride  / 1000:.2f} ns\")\n",
    "print(f\"Unfolding steps: \\t{mfpt_unfolding :.0f} steps\")\n",
    "\n",
    "\n",
    "print(\"\\n--- MSM from generated trajectories ---\")\n",
    "\n",
    "print(f\"Folding time: \\t{check_mfpt_folding * universe.trajectory.dt / 1000:.2f} ns\")\n",
    "print(f\"Folding steps: \\t{check_mfpt_folding :.0f} steps\\n\")\n",
    "\n",
    "print(f\"Unfolding time: \\t{check_mfpt_unfolding * universe.trajectory.dt  / 1000:.2f} ns\")\n",
    "print(f\"Unfolding steps: \\t{check_mfpt_unfolding :.0f} steps\")"
   ]
  }
 ],
 "metadata": {
  "kernelspec": {
   "display_name": "Python 3 (ipykernel)",
   "language": "python",
   "name": "python3"
  },
  "language_info": {
   "codemirror_mode": {
    "name": "ipython",
    "version": 3
   },
   "file_extension": ".py",
   "mimetype": "text/x-python",
   "name": "python",
   "nbconvert_exporter": "python",
   "pygments_lexer": "ipython3",
   "version": "3.9.10"
  }
 },
 "nbformat": 4,
 "nbformat_minor": 4
}
